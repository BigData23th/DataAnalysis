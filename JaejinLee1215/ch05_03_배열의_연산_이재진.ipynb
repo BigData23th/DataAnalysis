{
  "nbformat": 4,
  "nbformat_minor": 0,
  "metadata": {
    "colab": {
      "provenance": [],
      "include_colab_link": true
    },
    "kernelspec": {
      "name": "python3",
      "display_name": "Python 3"
    },
    "language_info": {
      "name": "python"
    }
  },
  "cells": [
    {
      "cell_type": "markdown",
      "metadata": {
        "id": "view-in-github",
        "colab_type": "text"
      },
      "source": [
        "<a href=\"https://colab.research.google.com/github/JaejinLee1215/DataAnalysis/blob/main/JaejinLee1215/ch05_03_%EB%B0%B0%EC%97%B4%EC%9D%98_%EC%97%B0%EC%82%B0_%EC%9D%B4%EC%9E%AC%EC%A7%84.ipynb\" target=\"_parent\"><img src=\"https://colab.research.google.com/assets/colab-badge.svg\" alt=\"Open In Colab\"/></a>"
      ]
    },
    {
      "cell_type": "markdown",
      "source": [
        "# 배열의 연산"
      ],
      "metadata": {
        "id": "0bu09Yqa7q4u"
      }
    },
    {
      "cell_type": "markdown",
      "source": [
        "## 벡터화 연산 (vectorized operation)\n",
        "* 명시적으로 반복문을 사용하지 않고도 배열의 모든 원소에 대해 반복 연산을 할 수 있음\n",
        "* 선형 대수 공식과 동일한 아주 간단한 파이썬 코드를 작성할 수 있음\n",
        "\n",
        "<br>\n",
        "$$\n",
        "x = \\begin{bmatrix}1\\\\2\\\\3\\\\⋯\\\\10000\\end{bmatrix},\\quad\n",
        "y = \\begin{bmatrix}10001\\\\10002\\\\10003\\\\⋯\\\\20000\\end{bmatrix}\n",
        "$$\n",
        "\n",
        "<br>\n",
        "$$\n",
        "z = x + y\n",
        "$$\n",
        "\n",
        "<br>\n",
        "$$\n",
        "\\begin{bmatrix}1\\\\2\\\\3\\\\⋯\\\\10000\\end{bmatrix}\n",
        "+ \\begin{bmatrix}10001\\\\10002\\\\10003\\\\⋯\\\\20000\\end{bmatrix}\n",
        "= \\begin{bmatrix}1+10001\\\\2+10002\\\\3+10003\\\\⋯\\\\10000+20000\\end{bmatrix}\n",
        "= \\begin{bmatrix}10002\\\\10004\\\\10006\\\\⋯\\\\30000\\end{bmatrix}\n",
        "$$\n",
        "\n"
      ],
      "metadata": {
        "id": "VyUPscjA8Lf8"
      }
    },
    {
      "cell_type": "code",
      "source": [
        "import numpy as np\n",
        "\n",
        "# x = np.array(range(1, 10001))\n",
        "x = np.arange(1, 10001)\n",
        "y = np.arange(10001, 20001)"
      ],
      "metadata": {
        "id": "VEIfjEzG9chC"
      },
      "execution_count": null,
      "outputs": []
    },
    {
      "cell_type": "code",
      "source": [
        "%%time\n",
        "z = np.zeros_like(x)\n",
        "for i in range(len(z)):\n",
        "    z[i] = x[i] + y[i]"
      ],
      "metadata": {
        "colab": {
          "base_uri": "https://localhost:8080/"
        },
        "id": "RA5HZKLe9eaf",
        "outputId": "0bfa4b02-3a8f-4948-e812-e3af1d422368"
      },
      "execution_count": null,
      "outputs": [
        {
          "output_type": "stream",
          "name": "stdout",
          "text": [
            "CPU times: user 8.01 ms, sys: 10 µs, total: 8.02 ms\n",
            "Wall time: 9.02 ms\n"
          ]
        }
      ]
    },
    {
      "cell_type": "code",
      "source": [
        "%%timeit\n",
        "z = np.zeros_like(x)\n",
        "for i in range(len(z)):\n",
        "    z[i] = x[i] + y[i]"
      ],
      "metadata": {
        "colab": {
          "base_uri": "https://localhost:8080/"
        },
        "id": "2xr9-N3x9fsJ",
        "outputId": "ef2b3482-b87a-4289-a144-229a2c3e1859"
      },
      "execution_count": null,
      "outputs": [
        {
          "output_type": "stream",
          "name": "stdout",
          "text": [
            "3.57 ms ± 100 µs per loop (mean ± std. dev. of 7 runs, 100 loops each)\n"
          ]
        }
      ]
    },
    {
      "cell_type": "code",
      "source": [
        "%%time\n",
        "z = x + y"
      ],
      "metadata": {
        "colab": {
          "base_uri": "https://localhost:8080/"
        },
        "id": "9tQ3ZsSe9iyl",
        "outputId": "1fd39e83-1196-4d83-ac74-8f33806dce39"
      },
      "execution_count": null,
      "outputs": [
        {
          "output_type": "stream",
          "name": "stdout",
          "text": [
            "CPU times: user 1.61 ms, sys: 0 ns, total: 1.61 ms\n",
            "Wall time: 4.64 ms\n"
          ]
        }
      ]
    },
    {
      "cell_type": "code",
      "source": [
        "%%timeit\n",
        "z = x + y"
      ],
      "metadata": {
        "colab": {
          "base_uri": "https://localhost:8080/"
        },
        "id": "PA_D4HdC9kXC",
        "outputId": "305fe264-98fc-4757-d6dc-990a287be925"
      },
      "execution_count": null,
      "outputs": [
        {
          "output_type": "stream",
          "name": "stdout",
          "text": [
            "6.53 µs ± 102 ns per loop (mean ± std. dev. of 7 runs, 100000 loops each)\n"
          ]
        }
      ]
    },
    {
      "cell_type": "code",
      "source": [
        "# 사칙 연산뿐 아니라 비교 연산과 같은 논리 연산도 벡터화 연산이 가능"
      ],
      "metadata": {
        "id": "iHMb2Zcs9mvv"
      },
      "execution_count": null,
      "outputs": []
    },
    {
      "cell_type": "code",
      "source": [
        "x == y"
      ],
      "metadata": {
        "colab": {
          "base_uri": "https://localhost:8080/"
        },
        "id": "GW3fosRZ9tOO",
        "outputId": "9a7e9472-f977-41c5-f242-87e61a97b940"
      },
      "execution_count": null,
      "outputs": [
        {
          "output_type": "execute_result",
          "data": {
            "text/plain": [
              "array([False, False, False, ..., False, False, False])"
            ]
          },
          "metadata": {},
          "execution_count": 12
        }
      ]
    },
    {
      "cell_type": "code",
      "source": [
        "(x == y) | (x > y)"
      ],
      "metadata": {
        "colab": {
          "base_uri": "https://localhost:8080/"
        },
        "id": "pk1u6FtOFRhJ",
        "outputId": "e9bdbd28-e49e-4d3a-cfe4-25791d309b8b"
      },
      "execution_count": null,
      "outputs": [
        {
          "output_type": "execute_result",
          "data": {
            "text/plain": [
              "array([False, False, False, ..., False, False, False])"
            ]
          },
          "metadata": {},
          "execution_count": 14
        }
      ]
    },
    {
      "cell_type": "code",
      "source": [
        "# 배열의 각 원소를 일일히 비교하는 것이 아닌 배열의 모든 원소가 다 같은지 알고 싶다면 all 명령 사용\n",
        "a = np.arange(1, 5)\n",
        "b = np.array((4, 2, 2, 5))\n",
        "c = np.arange(1, 5)"
      ],
      "metadata": {
        "id": "dRQ7U6AV9u5m"
      },
      "execution_count": null,
      "outputs": []
    },
    {
      "cell_type": "code",
      "source": [
        "np.all(a == b)"
      ],
      "metadata": {
        "colab": {
          "base_uri": "https://localhost:8080/"
        },
        "id": "UvNaudEI97P3",
        "outputId": "d418f7e9-5406-4e30-c54d-70bfcfcbb3e6"
      },
      "execution_count": null,
      "outputs": [
        {
          "output_type": "execute_result",
          "data": {
            "text/plain": [
              "False"
            ]
          },
          "metadata": {},
          "execution_count": 13
        }
      ]
    },
    {
      "cell_type": "code",
      "source": [
        "print(a)\n",
        "print(c)\n",
        "\n",
        "np.all(a == c)"
      ],
      "metadata": {
        "colab": {
          "base_uri": "https://localhost:8080/"
        },
        "id": "Aza_eKBf98bX",
        "outputId": "4204f1d0-1e89-4cc3-cf15-0047269f660d"
      },
      "execution_count": null,
      "outputs": [
        {
          "output_type": "stream",
          "name": "stdout",
          "text": [
            "[1 2 3 4]\n",
            "[1 2 3 4]\n"
          ]
        },
        {
          "output_type": "execute_result",
          "data": {
            "text/plain": [
              "True"
            ]
          },
          "metadata": {},
          "execution_count": 16
        }
      ]
    },
    {
      "cell_type": "code",
      "source": [
        "# any : 하나라도 성립하는지, 모든 조건의 or 연산\n",
        "print(a)\n",
        "print(b)\n",
        "np.any(a == b)"
      ],
      "metadata": {
        "colab": {
          "base_uri": "https://localhost:8080/"
        },
        "id": "zSNW5vJ_Fx3s",
        "outputId": "2201ecaf-3cc8-445a-ada3-0c7f74b91e66"
      },
      "execution_count": null,
      "outputs": [
        {
          "output_type": "stream",
          "name": "stdout",
          "text": [
            "[1 2 3 4]\n",
            "[4 2 2 5]\n"
          ]
        },
        {
          "output_type": "execute_result",
          "data": {
            "text/plain": [
              "True"
            ]
          },
          "metadata": {},
          "execution_count": 17
        }
      ]
    },
    {
      "cell_type": "code",
      "source": [
        "# 지수 함수, 로그 함수 등의 수학 함수도 벡터화 연산을 지원\n",
        "a = np.arange(5)\n",
        "a"
      ],
      "metadata": {
        "colab": {
          "base_uri": "https://localhost:8080/"
        },
        "id": "n-hlpfj899lo",
        "outputId": "0fc68d2b-0091-4edb-8596-c1de0735f423"
      },
      "execution_count": null,
      "outputs": [
        {
          "output_type": "execute_result",
          "data": {
            "text/plain": [
              "array([0, 1, 2, 3, 4])"
            ]
          },
          "metadata": {},
          "execution_count": 18
        }
      ]
    },
    {
      "cell_type": "code",
      "source": [
        "np.exp(a) # 지수 함수"
      ],
      "metadata": {
        "colab": {
          "base_uri": "https://localhost:8080/"
        },
        "id": "ZsYR0Al2-Aoc",
        "outputId": "e8acf71e-09c1-43c2-8966-8fdf07251617"
      },
      "execution_count": null,
      "outputs": [
        {
          "output_type": "execute_result",
          "data": {
            "text/plain": [
              "array([ 1.        ,  2.71828183,  7.3890561 , 20.08553692, 54.59815003])"
            ]
          },
          "metadata": {},
          "execution_count": 19
        }
      ]
    },
    {
      "cell_type": "code",
      "source": [
        "10 ** a # 거듭 제곱"
      ],
      "metadata": {
        "colab": {
          "base_uri": "https://localhost:8080/"
        },
        "id": "voLHjpyc-Bth",
        "outputId": "3cd53801-86ac-416b-99af-a69b25ac98c9"
      },
      "execution_count": null,
      "outputs": [
        {
          "output_type": "execute_result",
          "data": {
            "text/plain": [
              "array([    1,    10,   100,  1000, 10000])"
            ]
          },
          "metadata": {},
          "execution_count": 20
        }
      ]
    },
    {
      "cell_type": "code",
      "source": [
        "np.log(a+1) # 로그 함수"
      ],
      "metadata": {
        "colab": {
          "base_uri": "https://localhost:8080/"
        },
        "id": "4jVRQZHG-CyM",
        "outputId": "bd2e9d51-1419-4fef-f586-d68bf9cb8d0f"
      },
      "execution_count": null,
      "outputs": [
        {
          "output_type": "execute_result",
          "data": {
            "text/plain": [
              "array([0.        , 0.69314718, 1.09861229, 1.38629436, 1.60943791])"
            ]
          },
          "metadata": {},
          "execution_count": 21
        }
      ]
    },
    {
      "cell_type": "markdown",
      "source": [
        "## 스칼라와 벡터/행렬의 곱셈"
      ],
      "metadata": {
        "id": "8N5Dc5Q--Uko"
      }
    },
    {
      "cell_type": "markdown",
      "source": [
        "스칼라는 0차원 벡터라고 말하기도 한다. 값만 있다."
      ],
      "metadata": {
        "id": "XH3JUXl5HVTr"
      }
    },
    {
      "cell_type": "code",
      "source": [
        "x = np.arange(10)\n",
        "x"
      ],
      "metadata": {
        "colab": {
          "base_uri": "https://localhost:8080/"
        },
        "id": "D10JF_hy-T9v",
        "outputId": "e967f28a-5346-40c6-9e6f-27d138366ec5"
      },
      "execution_count": null,
      "outputs": [
        {
          "output_type": "execute_result",
          "data": {
            "text/plain": [
              "array([0, 1, 2, 3, 4, 5, 6, 7, 8, 9])"
            ]
          },
          "metadata": {},
          "execution_count": 23
        }
      ]
    },
    {
      "cell_type": "code",
      "source": [
        "100 * x"
      ],
      "metadata": {
        "colab": {
          "base_uri": "https://localhost:8080/"
        },
        "id": "Y7tGxKgq-X5o",
        "outputId": "e49bb36a-d82b-44a2-d66a-bf902469e9ac"
      },
      "execution_count": null,
      "outputs": [
        {
          "output_type": "execute_result",
          "data": {
            "text/plain": [
              "array([  0, 100, 200, 300, 400, 500, 600, 700, 800, 900])"
            ]
          },
          "metadata": {},
          "execution_count": 24
        }
      ]
    },
    {
      "cell_type": "code",
      "source": [
        "x = np.arange(12).reshape(3, 4)\n",
        "x"
      ],
      "metadata": {
        "colab": {
          "base_uri": "https://localhost:8080/"
        },
        "id": "u61-Rsr9-EE9",
        "outputId": "6db1334d-e629-4a11-d901-d73cdfa949fa"
      },
      "execution_count": null,
      "outputs": [
        {
          "output_type": "execute_result",
          "data": {
            "text/plain": [
              "array([[ 0,  1,  2,  3],\n",
              "       [ 4,  5,  6,  7],\n",
              "       [ 8,  9, 10, 11]])"
            ]
          },
          "metadata": {},
          "execution_count": 25
        }
      ]
    },
    {
      "cell_type": "code",
      "source": [
        "print(100 * x)\n",
        "print(100 + x)"
      ],
      "metadata": {
        "colab": {
          "base_uri": "https://localhost:8080/"
        },
        "id": "aWaSxIRQ-bEy",
        "outputId": "f8730669-a993-4ffe-f51e-dc403fa9f632"
      },
      "execution_count": null,
      "outputs": [
        {
          "output_type": "stream",
          "name": "stdout",
          "text": [
            "[[   0  100  200  300]\n",
            " [ 400  500  600  700]\n",
            " [ 800  900 1000 1100]]\n",
            "[[100 101 102 103]\n",
            " [104 105 106 107]\n",
            " [108 109 110 111]]\n"
          ]
        }
      ]
    },
    {
      "cell_type": "markdown",
      "source": [
        "## 브로드캐스팅\n",
        "* 벡터(또는 행렬)끼리 덧셈 혹은 뺄셈을 하려면 두 벡터(또는 행렬)의 크기가 같아야 함\n",
        "* Numpy에선 서로 다른 크기를 가진 두 배열의 사칙 연산 지원 = 브로드캐스팅(broadcasting)\n",
        "> 크기가 작은 배열을 자동으로 반복 확장하여 크기가 큰 배열에 맞추는 방법\n",
        "\n",
        "<br>\n",
        "$$\n",
        "x = \\begin{bmatrix}0\\\\1\\\\2\\\\3\\\\4\\end{bmatrix},\\quad \n",
        "x + 1 = \\begin{bmatrix}0\\\\1\\\\2\\\\3\\\\4\\end{bmatrix} + 1 = ?\n",
        "$$\n",
        "<br>\n",
        "$$\n",
        "\\begin{bmatrix}0\\\\1\\\\2\\\\3\\\\4\\end{bmatrix} + 1\n",
        "= \\begin{bmatrix}0\\\\1\\\\2\\\\3\\\\4\\end{bmatrix}\n",
        "+ \\begin{bmatrix}1\\\\1\\\\1\\\\1\\\\1\\end{bmatrix}\n",
        "= \\begin{bmatrix}1\\\\2\\\\3\\\\4\\\\5\\end{bmatrix}\n",
        "$$"
      ],
      "metadata": {
        "id": "QLUTAyOg-eZh"
      }
    },
    {
      "cell_type": "code",
      "source": [
        "x = np.arange(5)\n",
        "x"
      ],
      "metadata": {
        "colab": {
          "base_uri": "https://localhost:8080/"
        },
        "id": "3CPFyxjm-ceU",
        "outputId": "fe3f0671-9688-4bcd-c42c-4dc7e571389c"
      },
      "execution_count": null,
      "outputs": [
        {
          "output_type": "execute_result",
          "data": {
            "text/plain": [
              "array([0, 1, 2, 3, 4])"
            ]
          },
          "metadata": {},
          "execution_count": 31
        }
      ]
    },
    {
      "cell_type": "code",
      "source": [
        "y = np.ones_like(x)\n",
        "y"
      ],
      "metadata": {
        "colab": {
          "base_uri": "https://localhost:8080/"
        },
        "id": "zjzZosy-_ny2",
        "outputId": "b1f4d3ef-bd81-4ff1-9242-e270cce8a717"
      },
      "execution_count": null,
      "outputs": [
        {
          "output_type": "execute_result",
          "data": {
            "text/plain": [
              "array([1, 1, 1, 1, 1])"
            ]
          },
          "metadata": {},
          "execution_count": 32
        }
      ]
    },
    {
      "cell_type": "code",
      "source": [
        "x + y"
      ],
      "metadata": {
        "colab": {
          "base_uri": "https://localhost:8080/"
        },
        "id": "iWiyIctf_tDo",
        "outputId": "d2904ff8-cce3-4906-90ab-ab253b9c71de"
      },
      "execution_count": null,
      "outputs": [
        {
          "output_type": "execute_result",
          "data": {
            "text/plain": [
              "array([1, 2, 3, 4, 5])"
            ]
          },
          "metadata": {},
          "execution_count": 33
        }
      ]
    },
    {
      "cell_type": "code",
      "source": [
        "x + 1 # 위의 과정들을 기억해야함"
      ],
      "metadata": {
        "colab": {
          "base_uri": "https://localhost:8080/"
        },
        "id": "uDVrYI84_ulY",
        "outputId": "e2512efe-04d5-4a9d-81b8-5d3552d90f76"
      },
      "execution_count": null,
      "outputs": [
        {
          "output_type": "execute_result",
          "data": {
            "text/plain": [
              "array([1, 2, 3, 4, 5])"
            ]
          },
          "metadata": {},
          "execution_count": 34
        }
      ]
    },
    {
      "cell_type": "code",
      "source": [
        "# x + 2\n",
        "y = np.full_like(x, 2)\n",
        "x + y"
      ],
      "metadata": {
        "colab": {
          "base_uri": "https://localhost:8080/"
        },
        "id": "X54YvkGAIGpL",
        "outputId": "3917a4d0-090c-4313-a183-174d87819feb"
      },
      "execution_count": null,
      "outputs": [
        {
          "output_type": "execute_result",
          "data": {
            "text/plain": [
              "array([2, 3, 4, 5, 6])"
            ]
          },
          "metadata": {},
          "execution_count": 36
        }
      ]
    },
    {
      "cell_type": "code",
      "source": [
        "# 2차원 이상에서도 적용됨\n",
        "x = np.vstack([range(7)[i:i+3] for i in range(5)])\n",
        "# 0 ~ 6, 0 : 3 행으로 잘라서 0 ~ 4, 5개 열추가 - vstack\n",
        "x, x.ndim, x.shape"
      ],
      "metadata": {
        "colab": {
          "base_uri": "https://localhost:8080/"
        },
        "id": "hNWx7bav_vF9",
        "outputId": "8cc5b73e-7553-4dc4-faad-ca55df4ca18d"
      },
      "execution_count": null,
      "outputs": [
        {
          "output_type": "execute_result",
          "data": {
            "text/plain": [
              "(array([[0, 1, 2],\n",
              "        [1, 2, 3],\n",
              "        [2, 3, 4],\n",
              "        [3, 4, 5],\n",
              "        [4, 5, 6]]), 2, (5, 3))"
            ]
          },
          "metadata": {},
          "execution_count": 42
        }
      ]
    },
    {
      "cell_type": "code",
      "source": [
        "y = np.arange(5)[:, np.newaxis]\n",
        "y, y.ndim, y.shape"
      ],
      "metadata": {
        "colab": {
          "base_uri": "https://localhost:8080/"
        },
        "id": "aEPuC1In_08w",
        "outputId": "fa878ea9-ed86-475e-c489-38d5909e1ab0"
      },
      "execution_count": null,
      "outputs": [
        {
          "output_type": "execute_result",
          "data": {
            "text/plain": [
              "(array([[0],\n",
              "        [1],\n",
              "        [2],\n",
              "        [3],\n",
              "        [4]]), 2, (5, 1))"
            ]
          },
          "metadata": {},
          "execution_count": 41
        }
      ]
    },
    {
      "cell_type": "code",
      "source": [
        "x + y"
      ],
      "metadata": {
        "colab": {
          "base_uri": "https://localhost:8080/"
        },
        "id": "hIrEN7MF_2-y",
        "outputId": "a5cfcdfc-c517-4906-a6c7-f125f06986c4"
      },
      "execution_count": null,
      "outputs": [
        {
          "output_type": "execute_result",
          "data": {
            "text/plain": [
              "array([[ 0,  1,  2],\n",
              "       [ 2,  3,  4],\n",
              "       [ 4,  5,  6],\n",
              "       [ 6,  7,  8],\n",
              "       [ 8,  9, 10]])"
            ]
          },
          "metadata": {},
          "execution_count": 43
        }
      ]
    },
    {
      "cell_type": "code",
      "source": [
        "y = np.arange(3)\n",
        "y, y.ndim, y.shape"
      ],
      "metadata": {
        "colab": {
          "base_uri": "https://localhost:8080/"
        },
        "id": "uQqR40ZB_4Ot",
        "outputId": "028dd603-d22b-4786-f69a-c29071785eab"
      },
      "execution_count": null,
      "outputs": [
        {
          "output_type": "execute_result",
          "data": {
            "text/plain": [
              "(array([0, 1, 2]), 1, (3,))"
            ]
          },
          "metadata": {},
          "execution_count": 44
        }
      ]
    },
    {
      "cell_type": "code",
      "source": [
        "x + y"
      ],
      "metadata": {
        "colab": {
          "base_uri": "https://localhost:8080/"
        },
        "id": "aYTW4GzV_684",
        "outputId": "8d008be2-3bbb-4ced-a046-233fcdbe31bd"
      },
      "execution_count": null,
      "outputs": [
        {
          "output_type": "execute_result",
          "data": {
            "text/plain": [
              "array([[0, 2, 4],\n",
              "       [1, 3, 5],\n",
              "       [2, 4, 6],\n",
              "       [3, 5, 7],\n",
              "       [4, 6, 8]])"
            ]
          },
          "metadata": {},
          "execution_count": 45
        }
      ]
    },
    {
      "cell_type": "markdown",
      "source": [
        "## 차원 축소 연산 (dimension reduction)\n",
        "> 행렬의 하나의 행에 있는 원소들을 하나의 데이터 집합으로 보고 각 행에 처리된 연산으로 한 차원 낮은 벡터를 구성하게 하는 연산\n",
        "* 최대/최소 : `min`, `max`, `argmin`, `argmax`\n",
        "* 통계 : `sum`, `mean`, `median`, `std`, `var`\n",
        "* 불리언 : `all`, `any`"
      ],
      "metadata": {
        "id": "c4xwPdamAFZ_"
      }
    },
    {
      "cell_type": "code",
      "source": [
        "x = np.arange(1, 5)\n",
        "x"
      ],
      "metadata": {
        "colab": {
          "base_uri": "https://localhost:8080/"
        },
        "id": "8zlZOCFfAiAZ",
        "outputId": "5a4230fb-f3fc-4d16-97fe-8955929c3ff0"
      },
      "execution_count": null,
      "outputs": [
        {
          "output_type": "execute_result",
          "data": {
            "text/plain": [
              "array([1, 2, 3, 4])"
            ]
          },
          "metadata": {},
          "execution_count": 46
        }
      ]
    },
    {
      "cell_type": "code",
      "source": [
        "np.sum(x), x.sum()"
      ],
      "metadata": {
        "colab": {
          "base_uri": "https://localhost:8080/"
        },
        "id": "sSfvD2j2AiRw",
        "outputId": "9c039371-30f3-4842-b55c-6c99bf9928c0"
      },
      "execution_count": null,
      "outputs": [
        {
          "output_type": "execute_result",
          "data": {
            "text/plain": [
              "(10, 10)"
            ]
          },
          "metadata": {},
          "execution_count": 49
        }
      ]
    },
    {
      "cell_type": "code",
      "source": [
        "x = np.array([1, 3, 2])"
      ],
      "metadata": {
        "id": "cyswMEnRAkab"
      },
      "execution_count": null,
      "outputs": []
    },
    {
      "cell_type": "code",
      "source": [
        "x.min(), x.max()"
      ],
      "metadata": {
        "colab": {
          "base_uri": "https://localhost:8080/"
        },
        "id": "pKlL475YAlY9",
        "outputId": "cdc5f474-fac6-4db8-dd09-91c98ebd39d9"
      },
      "execution_count": null,
      "outputs": [
        {
          "output_type": "execute_result",
          "data": {
            "text/plain": [
              "(1, 3)"
            ]
          },
          "metadata": {},
          "execution_count": 51
        }
      ]
    },
    {
      "cell_type": "code",
      "source": [
        "x.argmin(), x.argmax() # 최솟값의 위치, 최댓값의 위치"
      ],
      "metadata": {
        "colab": {
          "base_uri": "https://localhost:8080/"
        },
        "id": "Zbq6zUeEAnAy",
        "outputId": "7bc6cc1f-b8e8-4030-8454-23a1493a0829"
      },
      "execution_count": null,
      "outputs": [
        {
          "output_type": "execute_result",
          "data": {
            "text/plain": [
              "(0, 1)"
            ]
          },
          "metadata": {},
          "execution_count": 53
        }
      ]
    },
    {
      "cell_type": "code",
      "source": [
        "x = np.array([1, 2, 3, 1])"
      ],
      "metadata": {
        "id": "o6NkXthQAoSZ"
      },
      "execution_count": null,
      "outputs": []
    },
    {
      "cell_type": "code",
      "source": [
        "x.mean(), x.sum()/len(x) # 통계적 평균 = 산술적 평균"
      ],
      "metadata": {
        "id": "gGNSVN69Azib",
        "colab": {
          "base_uri": "https://localhost:8080/"
        },
        "outputId": "a23f381d-0cf4-480f-98a9-eac07e177537"
      },
      "execution_count": null,
      "outputs": [
        {
          "output_type": "execute_result",
          "data": {
            "text/plain": [
              "(1.75, 1.75)"
            ]
          },
          "metadata": {},
          "execution_count": 56
        }
      ]
    },
    {
      "cell_type": "code",
      "source": [
        "np.median(x) # 정렬시 1, 1, 2, 3\n",
        "# 짝수 시 : 가운데 사이값의 평균, 홀수 시 : 가운데 값"
      ],
      "metadata": {
        "colab": {
          "base_uri": "https://localhost:8080/"
        },
        "id": "_ya-Gcp-A2Hz",
        "outputId": "777e9ad8-6169-445a-ef45-2479b8b5691b"
      },
      "execution_count": null,
      "outputs": [
        {
          "output_type": "execute_result",
          "data": {
            "text/plain": [
              "1.5"
            ]
          },
          "metadata": {},
          "execution_count": 57
        }
      ]
    },
    {
      "cell_type": "code",
      "source": [
        "a = np.zeros((100, 100), dtype='f')\n",
        "a"
      ],
      "metadata": {
        "colab": {
          "base_uri": "https://localhost:8080/"
        },
        "id": "MvY9dhvoA4aD",
        "outputId": "ec4e4f58-9465-4eba-845f-fdadecb28a56"
      },
      "execution_count": null,
      "outputs": [
        {
          "output_type": "execute_result",
          "data": {
            "text/plain": [
              "array([[0., 0., 0., ..., 0., 0., 0.],\n",
              "       [0., 0., 0., ..., 0., 0., 0.],\n",
              "       [0., 0., 0., ..., 0., 0., 0.],\n",
              "       ...,\n",
              "       [0., 0., 0., ..., 0., 0., 0.],\n",
              "       [0., 0., 0., ..., 0., 0., 0.],\n",
              "       [0., 0., 0., ..., 0., 0., 0.]], dtype=float32)"
            ]
          },
          "metadata": {},
          "execution_count": 60
        }
      ]
    },
    {
      "cell_type": "code",
      "source": [
        "np.any(a != 0)"
      ],
      "metadata": {
        "colab": {
          "base_uri": "https://localhost:8080/"
        },
        "id": "dfRIlrPjA6kV",
        "outputId": "7779af22-5684-4321-da09-03844b914110"
      },
      "execution_count": null,
      "outputs": [
        {
          "output_type": "execute_result",
          "data": {
            "text/plain": [
              "False"
            ]
          },
          "metadata": {},
          "execution_count": 62
        }
      ]
    },
    {
      "cell_type": "code",
      "source": [
        "np.all(a == a)"
      ],
      "metadata": {
        "id": "uCsGPUDIA8Df",
        "colab": {
          "base_uri": "https://localhost:8080/"
        },
        "outputId": "f363678e-9d64-4f4c-9e26-03e12df1426f"
      },
      "execution_count": null,
      "outputs": [
        {
          "output_type": "execute_result",
          "data": {
            "text/plain": [
              "True"
            ]
          },
          "metadata": {},
          "execution_count": 63
        }
      ]
    },
    {
      "cell_type": "code",
      "source": [
        "a = np.array([1, 2, 3, 2])\n",
        "b = np.array([2, 2, 3, 2])\n",
        "c = np.array([6, 4, 4, 5])"
      ],
      "metadata": {
        "id": "A5wy-HhpBArR"
      },
      "execution_count": null,
      "outputs": []
    },
    {
      "cell_type": "code",
      "source": [
        "((a <= b) & (b <= c)).all()"
      ],
      "metadata": {
        "colab": {
          "base_uri": "https://localhost:8080/"
        },
        "id": "CjAwdeV8BCqi",
        "outputId": "4f5ba3df-53b4-44a9-820e-a24413f4a648"
      },
      "execution_count": null,
      "outputs": [
        {
          "output_type": "execute_result",
          "data": {
            "text/plain": [
              "True"
            ]
          },
          "metadata": {},
          "execution_count": 68
        }
      ]
    },
    {
      "cell_type": "markdown",
      "source": [
        "* 연산의 대상이 2차원 이상인 경우에는 어느 차원으로 계산을 할 지를 axis 인수를 사용하여 지시\n",
        "* axis=0인 경우는 열 연산, axis=1인 경우는 행 연산. 디폴트 값은 axis=0.\n",
        "* axis 인수는 대부분의 차원 축소 명령에 적용할 수 있음"
      ],
      "metadata": {
        "id": "WPEoDlcJBM9k"
      }
    },
    {
      "cell_type": "code",
      "source": [
        "x = np.array(((1, 1), (2, 2)))\n",
        "x"
      ],
      "metadata": {
        "colab": {
          "base_uri": "https://localhost:8080/"
        },
        "id": "x2aY5O1DBHKl",
        "outputId": "a570910b-5e51-40a7-b332-c13b52af9d3b"
      },
      "execution_count": null,
      "outputs": [
        {
          "output_type": "execute_result",
          "data": {
            "text/plain": [
              "array([[1, 1],\n",
              "       [2, 2]])"
            ]
          },
          "metadata": {},
          "execution_count": 71
        }
      ]
    },
    {
      "cell_type": "code",
      "source": [
        "x.sum()"
      ],
      "metadata": {
        "colab": {
          "base_uri": "https://localhost:8080/"
        },
        "id": "TCf_XLwkBSqf",
        "outputId": "8184aa89-aad3-4f2a-ad9b-05024c572281"
      },
      "execution_count": null,
      "outputs": [
        {
          "output_type": "execute_result",
          "data": {
            "text/plain": [
              "6"
            ]
          },
          "metadata": {},
          "execution_count": 72
        }
      ]
    },
    {
      "cell_type": "code",
      "source": [
        "x.sum(axis=0) # 열 합계 (열 연산)"
      ],
      "metadata": {
        "colab": {
          "base_uri": "https://localhost:8080/"
        },
        "id": "svBdZRipBTtx",
        "outputId": "063bfd46-7965-4e0c-a8d2-33afe3dac247"
      },
      "execution_count": null,
      "outputs": [
        {
          "output_type": "execute_result",
          "data": {
            "text/plain": [
              "array([3, 3])"
            ]
          },
          "metadata": {},
          "execution_count": 73
        }
      ]
    },
    {
      "cell_type": "code",
      "source": [
        "x.sum(axis=1) # 행 합계 (행 연산)"
      ],
      "metadata": {
        "colab": {
          "base_uri": "https://localhost:8080/"
        },
        "id": "Tp45fbWxBWAw",
        "outputId": "b263144a-e16d-49d8-efa7-3a95fa89268c"
      },
      "execution_count": null,
      "outputs": [
        {
          "output_type": "execute_result",
          "data": {
            "text/plain": [
              "array([2, 4])"
            ]
          },
          "metadata": {},
          "execution_count": 74
        }
      ]
    },
    {
      "cell_type": "markdown",
      "source": [
        "## 💡 연습문제 5\n",
        "실수로 이루어진 5 x 6 형태의 데이터 행렬을 만들고 이 데이터에 대해 다음과 같은 값 도출\n",
        "1. 전체의 최댓값\n",
        "2. 각 행의 합\n",
        "3. 각 행의 최댓값\n",
        "4. 각 열의 평균\n",
        "5. 각 열의 최솟값"
      ],
      "metadata": {
        "id": "wu9TlD2oBgxn"
      }
    },
    {
      "cell_type": "code",
      "source": [
        "a = np.array(range(30), dtype='f').reshape((5, 6))\n",
        "a"
      ],
      "metadata": {
        "colab": {
          "base_uri": "https://localhost:8080/"
        },
        "id": "0wDF67eFBX6m",
        "outputId": "6302d625-65ba-4293-d02c-9fb097d2ec35"
      },
      "execution_count": null,
      "outputs": [
        {
          "output_type": "execute_result",
          "data": {
            "text/plain": [
              "array([[ 0.,  1.,  2.,  3.,  4.,  5.],\n",
              "       [ 6.,  7.,  8.,  9., 10., 11.],\n",
              "       [12., 13., 14., 15., 16., 17.],\n",
              "       [18., 19., 20., 21., 22., 23.],\n",
              "       [24., 25., 26., 27., 28., 29.]], dtype=float32)"
            ]
          },
          "metadata": {},
          "execution_count": 76
        }
      ]
    },
    {
      "cell_type": "code",
      "source": [
        "# 전체의 최댓값\n",
        "a.max()"
      ],
      "metadata": {
        "colab": {
          "base_uri": "https://localhost:8080/"
        },
        "id": "T1rBg-FEBxiB",
        "outputId": "7d001320-b341-48f7-d5c4-a45bbc2f26a6"
      },
      "execution_count": null,
      "outputs": [
        {
          "output_type": "execute_result",
          "data": {
            "text/plain": [
              "29.0"
            ]
          },
          "metadata": {},
          "execution_count": 78
        }
      ]
    },
    {
      "cell_type": "code",
      "source": [
        "# 각 행의 합\n",
        "a.sum(axis=1)"
      ],
      "metadata": {
        "colab": {
          "base_uri": "https://localhost:8080/"
        },
        "id": "2MX12OYJB0z6",
        "outputId": "15afebc6-b004-4c7d-86c7-43d2ff63661a"
      },
      "execution_count": null,
      "outputs": [
        {
          "output_type": "execute_result",
          "data": {
            "text/plain": [
              "array([ 15.,  51.,  87., 123., 159.], dtype=float32)"
            ]
          },
          "metadata": {},
          "execution_count": 79
        }
      ]
    },
    {
      "cell_type": "code",
      "source": [
        "# 각 행의 최댓값\n",
        "a.max(axis=1)"
      ],
      "metadata": {
        "colab": {
          "base_uri": "https://localhost:8080/"
        },
        "id": "4mWNB5ypB4Lj",
        "outputId": "863853b1-473a-457e-accd-a37718e74f42"
      },
      "execution_count": null,
      "outputs": [
        {
          "output_type": "execute_result",
          "data": {
            "text/plain": [
              "array([ 5., 11., 17., 23., 29.], dtype=float32)"
            ]
          },
          "metadata": {},
          "execution_count": 82
        }
      ]
    },
    {
      "cell_type": "code",
      "source": [
        "# 각 열의 평균\n",
        "a.mean(axis=0)"
      ],
      "metadata": {
        "colab": {
          "base_uri": "https://localhost:8080/"
        },
        "id": "ubUjoWPBB7fB",
        "outputId": "351ef16e-49b7-493f-fefc-12ba9b56bc0b"
      },
      "execution_count": null,
      "outputs": [
        {
          "output_type": "execute_result",
          "data": {
            "text/plain": [
              "array([12., 13., 14., 15., 16., 17.], dtype=float32)"
            ]
          },
          "metadata": {},
          "execution_count": 83
        }
      ]
    },
    {
      "cell_type": "code",
      "source": [
        "# 각 열의 최솟값\n",
        "a.min(axis=0)"
      ],
      "metadata": {
        "colab": {
          "base_uri": "https://localhost:8080/"
        },
        "id": "Tccdtf2zCItV",
        "outputId": "4d05b631-da7b-40a9-e357-9ced2da7ffb9"
      },
      "execution_count": null,
      "outputs": [
        {
          "output_type": "execute_result",
          "data": {
            "text/plain": [
              "array([0., 1., 2., 3., 4., 5.], dtype=float32)"
            ]
          },
          "metadata": {},
          "execution_count": 84
        }
      ]
    },
    {
      "cell_type": "markdown",
      "source": [
        "## 정렬\n",
        "* `sort` : 배열 안의 원소를 크기에 따라 정렬하여 새로운 배열 생성\n",
        "* 2차원 이상인 경우에는 행이나 열을 각각 따로따로 정렬\n",
        "    * `axis=0` : 각각의 행을 따로따로 정렬\n",
        "    * `axis=1` : 각각의 열을 따로따로 정렬 \n",
        "    * `axis=-1` : 가장 안쪽(나중)의 차원 (default)"
      ],
      "metadata": {
        "id": "V1Hl_stfCNjO"
      }
    },
    {
      "cell_type": "code",
      "source": [
        "a = np.array((\n",
        "    [4, 3, 5, 6],\n",
        "    [1, 12, 11, 9],\n",
        "    [2, 15, 1, 14]\n",
        "    ))\n",
        "a"
      ],
      "metadata": {
        "colab": {
          "base_uri": "https://localhost:8080/"
        },
        "id": "8Brlt6RODt-h",
        "outputId": "8f105cd0-55ed-4569-cc4b-01a76b305a17"
      },
      "execution_count": null,
      "outputs": [
        {
          "output_type": "execute_result",
          "data": {
            "text/plain": [
              "array([[ 4,  3,  5,  6],\n",
              "       [ 1, 12, 11,  9],\n",
              "       [ 2, 15,  1, 14]])"
            ]
          },
          "metadata": {},
          "execution_count": 87
        }
      ]
    },
    {
      "cell_type": "code",
      "source": [
        "np.sort(a) # axis = -1, axis = 1 열들 간의 정렬\n",
        "np.sort(a, axis = -1)\n",
        "np.sort(a, axis = 1)"
      ],
      "metadata": {
        "colab": {
          "base_uri": "https://localhost:8080/"
        },
        "id": "vDlML3DSDvUj",
        "outputId": "19c65396-1a62-4211-8b1c-cd58b8c7892c"
      },
      "execution_count": null,
      "outputs": [
        {
          "output_type": "execute_result",
          "data": {
            "text/plain": [
              "array([[ 3,  4,  5,  6],\n",
              "       [ 1,  9, 11, 12],\n",
              "       [ 1,  2, 14, 15]])"
            ]
          },
          "metadata": {},
          "execution_count": 89
        }
      ]
    },
    {
      "cell_type": "code",
      "source": [
        "np.sort(a, axis = 0) # 행들 간의 정렬"
      ],
      "metadata": {
        "colab": {
          "base_uri": "https://localhost:8080/"
        },
        "id": "71fdz0tXDw1i",
        "outputId": "9e8d2586-a0bf-4fbe-9076-66dcc2e59109"
      },
      "execution_count": null,
      "outputs": [
        {
          "output_type": "execute_result",
          "data": {
            "text/plain": [
              "array([[ 1,  3,  1,  6],\n",
              "       [ 2, 12,  5,  9],\n",
              "       [ 4, 15, 11, 14]])"
            ]
          },
          "metadata": {},
          "execution_count": 90
        }
      ]
    },
    {
      "cell_type": "code",
      "source": [
        "# sort 메서드는 해당 객체의 자료 자체가 변화하므로 주의\n",
        "# 자체변화(in-place) 메서드 = 원본이 수정됨\n",
        "a.sort(axis=1)\n",
        "a"
      ],
      "metadata": {
        "colab": {
          "base_uri": "https://localhost:8080/"
        },
        "id": "Bg3m5YtMDziF",
        "outputId": "b940892c-b5e3-44ac-a831-fbb56009ff46"
      },
      "execution_count": null,
      "outputs": [
        {
          "output_type": "execute_result",
          "data": {
            "text/plain": [
              "array([[ 3,  4,  5,  6],\n",
              "       [ 1,  9, 11, 12],\n",
              "       [ 1,  2, 14, 15]])"
            ]
          },
          "metadata": {},
          "execution_count": 93
        }
      ]
    },
    {
      "cell_type": "markdown",
      "source": [
        "* `argsort` : 자료 정렬이 아니라 순서만 알고 싶다면 사용"
      ],
      "metadata": {
        "id": "83QvaXeHEE1P"
      }
    },
    {
      "cell_type": "code",
      "source": [
        "a = np.array([42, 38, 12, 25])\n",
        "j = np.argsort(a)\n",
        "j"
      ],
      "metadata": {
        "colab": {
          "base_uri": "https://localhost:8080/"
        },
        "id": "DpLBeDjJEAUQ",
        "outputId": "d459f4cf-6006-46a0-df06-6f0f449a6f06"
      },
      "execution_count": null,
      "outputs": [
        {
          "output_type": "execute_result",
          "data": {
            "text/plain": [
              "array([2, 3, 1, 0])"
            ]
          },
          "metadata": {},
          "execution_count": 94
        }
      ]
    },
    {
      "cell_type": "code",
      "source": [
        "a[j]"
      ],
      "metadata": {
        "colab": {
          "base_uri": "https://localhost:8080/"
        },
        "id": "1F6Lqg6KEKgj",
        "outputId": "e0d95621-96ef-4676-d63a-ea71d4b2fa83"
      },
      "execution_count": null,
      "outputs": [
        {
          "output_type": "execute_result",
          "data": {
            "text/plain": [
              "array([12, 25, 38, 42])"
            ]
          },
          "metadata": {},
          "execution_count": 95
        }
      ]
    },
    {
      "cell_type": "code",
      "source": [
        "np.sort(a)"
      ],
      "metadata": {
        "colab": {
          "base_uri": "https://localhost:8080/"
        },
        "id": "KdFvTG6VENQF",
        "outputId": "b2f429f3-41fe-4e66-f09b-c303754a1fd3"
      },
      "execution_count": null,
      "outputs": [
        {
          "output_type": "execute_result",
          "data": {
            "text/plain": [
              "array([12, 25, 38, 42])"
            ]
          },
          "metadata": {},
          "execution_count": 96
        }
      ]
    },
    {
      "cell_type": "markdown",
      "source": [
        "## 💡 연습문제 6\n",
        "> 두 번째 행을 기준으로 각 열(column)을 재정렬\n",
        "```\n",
        "array([[  1,    2,    3,    4],\n",
        "       [ 46,   99,  100,   71],\n",
        "       [ 81,   59,   90,  100]])\n",
        "```"
      ],
      "metadata": {
        "id": "qR6INELiEUEU"
      }
    },
    {
      "cell_type": "code",
      "source": [
        "x = np.array([\n",
        "    [1, 2, 3, 4],\n",
        "    [46, 99, 100, 71],\n",
        "    [81, 59, 90, 100]\n",
        "])\n",
        "x"
      ],
      "metadata": {
        "colab": {
          "base_uri": "https://localhost:8080/"
        },
        "id": "el8EU7kYETyV",
        "outputId": "b2a3bf8b-47c5-4cbb-d5a4-a8fed35ab4b2"
      },
      "execution_count": null,
      "outputs": [
        {
          "output_type": "execute_result",
          "data": {
            "text/plain": [
              "array([[  1,   2,   3,   4],\n",
              "       [ 46,  99, 100,  71],\n",
              "       [ 81,  59,  90, 100]])"
            ]
          },
          "metadata": {},
          "execution_count": 97
        }
      ]
    },
    {
      "cell_type": "code",
      "source": [
        "np.sort(x[1])"
      ],
      "metadata": {
        "colab": {
          "base_uri": "https://localhost:8080/"
        },
        "id": "kIyiUdJgEOmh",
        "outputId": "36986a2c-f184-48f1-d99a-8a35f2b6424a"
      },
      "execution_count": null,
      "outputs": [
        {
          "output_type": "execute_result",
          "data": {
            "text/plain": [
              "array([ 46,  71,  99, 100])"
            ]
          },
          "metadata": {},
          "execution_count": 102
        }
      ]
    },
    {
      "cell_type": "code",
      "source": [
        "np.argsort(x[1])"
      ],
      "metadata": {
        "colab": {
          "base_uri": "https://localhost:8080/"
        },
        "id": "g5mZokm5UAUf",
        "outputId": "d5ecf62c-cba3-456b-fb35-eab1180320d6"
      },
      "execution_count": null,
      "outputs": [
        {
          "output_type": "execute_result",
          "data": {
            "text/plain": [
              "array([0, 3, 1, 2])"
            ]
          },
          "metadata": {},
          "execution_count": 103
        }
      ]
    },
    {
      "cell_type": "code",
      "source": [
        "x[:, np.argsort(x[1])]"
      ],
      "metadata": {
        "colab": {
          "base_uri": "https://localhost:8080/"
        },
        "id": "9LHnMKLsUBh5",
        "outputId": "454ce0bf-67a3-4f5d-f835-941bd4810c84"
      },
      "execution_count": null,
      "outputs": [
        {
          "output_type": "execute_result",
          "data": {
            "text/plain": [
              "array([[  1,   4,   2,   3],\n",
              "       [ 46,  71,  99, 100],\n",
              "       [ 81, 100,  59,  90]])"
            ]
          },
          "metadata": {},
          "execution_count": 105
        }
      ]
    }
  ]
}