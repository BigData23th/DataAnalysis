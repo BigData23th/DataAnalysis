{
  "nbformat": 4,
  "nbformat_minor": 0,
  "metadata": {
    "colab": {
      "provenance": [],
      "include_colab_link": true
    },
    "kernelspec": {
      "name": "python3",
      "display_name": "Python 3"
    },
    "language_info": {
      "name": "python"
    }
  },
  "cells": [
    {
      "cell_type": "markdown",
      "metadata": {
        "id": "view-in-github",
        "colab_type": "text"
      },
      "source": [
        "<a href=\"https://colab.research.google.com/github/JaejinLee1215/DataAnalysis/blob/main/JaejinLee1215/ch05_01_numpy_%EA%B8%B0%EC%B4%88_%EC%9D%B4%EC%9E%AC%EC%A7%84.ipynb\" target=\"_parent\"><img src=\"https://colab.research.google.com/assets/colab-badge.svg\" alt=\"Open In Colab\"/></a>"
      ]
    },
    {
      "cell_type": "markdown",
      "source": [
        "# Numpy 기초"
      ],
      "metadata": {
        "id": "3vzkJFqn7psT"
      }
    },
    {
      "cell_type": "markdown",
      "source": [
        "## 배열(Array)\n",
        "* 많은 데이터를 하나의 변수에 넣는 법? : **리스트**\n",
        "* 하지만 리스트는...\n",
        "    * 속도가 느리다\n",
        "    * 메모리를 많이 차지한다\n",
        "\n",
        "> 그래서? **배열(Array)**을 사용한다\n",
        "\n",
        "* 적은 메모리로 많은 데이터를 빠르게 처리할 수 있음"
      ],
      "metadata": {
        "id": "03onuyb58F9z"
      }
    },
    {
      "cell_type": "markdown",
      "source": [
        "## 특징\n",
        "1. 모든 원소가 같은 **자료형**이어야 함\n",
        "2. 원소의 갯수를 바꿀 수 없음\n",
        "\n",
        "> 그런데 파이썬은 자체적으로 배열 자료형을 제공하지 않음<br>\n",
        "> 그래서 우리는 **넘파이(Numpy)** 패키지를 import해서 사용 "
      ],
      "metadata": {
        "id": "TZeeC4KLFqOe"
      }
    },
    {
      "cell_type": "code",
      "execution_count": null,
      "metadata": {
        "id": "Rzperc7l7h0f"
      },
      "outputs": [],
      "source": [
        "# !pip install numpy\n",
        "import numpy as np"
      ]
    },
    {
      "cell_type": "markdown",
      "source": [
        "## 1차원 배열\n",
        "* 리스트나 튜플처럼 한 줄로 이루어진 형태의 배열"
      ],
      "metadata": {
        "id": "_HHBBVwc9IZS"
      }
    },
    {
      "cell_type": "code",
      "source": [
        "np.array([1, 2, 3])"
      ],
      "metadata": {
        "colab": {
          "base_uri": "https://localhost:8080/"
        },
        "id": "HLr3CcZ-9dXj",
        "outputId": "ff09fb5b-2511-438b-b1bf-973a6a9a73f9"
      },
      "execution_count": null,
      "outputs": [
        {
          "output_type": "execute_result",
          "data": {
            "text/plain": [
              "array([1, 2, 3])"
            ]
          },
          "metadata": {},
          "execution_count": 18
        }
      ]
    },
    {
      "cell_type": "code",
      "source": [
        "arr = np.array([range(10)])\n",
        "arr, type(arr)"
      ],
      "metadata": {
        "colab": {
          "base_uri": "https://localhost:8080/"
        },
        "id": "a1Gxzmom9oP8",
        "outputId": "530e48f9-6ca2-4206-bc0d-b846b8b2cd59"
      },
      "execution_count": null,
      "outputs": [
        {
          "output_type": "execute_result",
          "data": {
            "text/plain": [
              "(array([[0, 1, 2, 3, 4, 5, 6, 7, 8, 9]]), numpy.ndarray)"
            ]
          },
          "metadata": {},
          "execution_count": 20
        }
      ]
    },
    {
      "cell_type": "markdown",
      "source": [
        "## ndarray\n",
        "* 배열 객체 타입(자료형)\n",
        "* 리스트와 동일해 보이지만 차이가 많음\n",
        "\n",
        "|자료형|특징|\n",
        "|:-|:-|\n",
        "|리스트(list)|각각의 원소가 다른 자료형이 될 수 있음|\n",
        "|배열(array)|연속적인 메모리 배치를 가지기 때문에 모든 원소가 같은 자료형이어야 함<br>원소에 대한 접근과 반복문 실행이 빨라짐|"
      ],
      "metadata": {
        "id": "RbEkqhfu9xc_"
      }
    },
    {
      "cell_type": "code",
      "source": [
        "import random\n",
        "\n",
        "   \n",
        "def average_python(n):\n",
        "    '''\n",
        "    n개의 랜덤한 0~1의 실수를 평균해주는 함수\n",
        "    '''\n",
        "    s = 0\n",
        "    for i in range(n):\n",
        "        s += random.random()\n",
        "    return s/n"
      ],
      "metadata": {
        "id": "Vm0w-m5Z-coU"
      },
      "execution_count": null,
      "outputs": []
    },
    {
      "cell_type": "code",
      "source": [
        "%time average_python(100_000)"
      ],
      "metadata": {
        "colab": {
          "base_uri": "https://localhost:8080/"
        },
        "id": "Bvc-p4F-_sNW",
        "outputId": "bbaea780-2312-4084-ebf7-781ba6294630"
      },
      "execution_count": null,
      "outputs": [
        {
          "output_type": "stream",
          "name": "stdout",
          "text": [
            "CPU times: user 17.6 ms, sys: 0 ns, total: 17.6 ms\n",
            "Wall time: 17.7 ms\n"
          ]
        },
        {
          "output_type": "execute_result",
          "data": {
            "text/plain": [
              "0.4998294033449104"
            ]
          },
          "metadata": {},
          "execution_count": 22
        }
      ]
    },
    {
      "cell_type": "code",
      "source": [
        "%timeit average_python(100_000)"
      ],
      "metadata": {
        "colab": {
          "base_uri": "https://localhost:8080/"
        },
        "id": "QOz2rCJ_C0-U",
        "outputId": "9498dd5e-7710-44c6-818b-e069301b199a"
      },
      "execution_count": null,
      "outputs": [
        {
          "output_type": "stream",
          "name": "stdout",
          "text": [
            "13.6 ms ± 2.3 ms per loop (mean ± std. dev. of 7 runs, 100 loops each)\n"
          ]
        }
      ]
    },
    {
      "cell_type": "code",
      "source": [
        "def average_numpy(n):\n",
        "    '''\n",
        "    n개의 랜덤한 0~1의 실수를 numpy를 사용해서 평균내는 함수\n",
        "    '''\n",
        "    s = np.random.random(n)\n",
        "    return s.mean() # 평균"
      ],
      "metadata": {
        "id": "EoQvIsCDtp5Y"
      },
      "execution_count": null,
      "outputs": []
    },
    {
      "cell_type": "code",
      "source": [
        "%time average_numpy(100_000)"
      ],
      "metadata": {
        "id": "_rfwW6Ge_tKu",
        "colab": {
          "base_uri": "https://localhost:8080/"
        },
        "outputId": "c1419600-51eb-423e-fdc1-80a9effd7330"
      },
      "execution_count": null,
      "outputs": [
        {
          "output_type": "stream",
          "name": "stdout",
          "text": [
            "CPU times: user 3.35 ms, sys: 0 ns, total: 3.35 ms\n",
            "Wall time: 3.36 ms\n"
          ]
        },
        {
          "output_type": "execute_result",
          "data": {
            "text/plain": [
              "0.5006330787367652"
            ]
          },
          "metadata": {},
          "execution_count": 26
        }
      ]
    },
    {
      "cell_type": "code",
      "source": [
        "%timeit average_numpy(100_000)"
      ],
      "metadata": {
        "colab": {
          "base_uri": "https://localhost:8080/"
        },
        "id": "we169OAyBEXx",
        "outputId": "861a9c7f-1db3-4dc9-e07e-5cd54499b5d1"
      },
      "execution_count": null,
      "outputs": [
        {
          "output_type": "stream",
          "name": "stdout",
          "text": [
            "963 µs ± 123 µs per loop (mean ± std. dev. of 7 runs, 1000 loops each)\n"
          ]
        }
      ]
    },
    {
      "cell_type": "markdown",
      "source": [
        "## 벡터화 연산\n",
        "* 배열 객체는 **배열의 각 원소에 대한 반복 연산을 하나의 명령어로 처리**하는 벡터화 연산(vectorized operation)을 지원"
      ],
      "metadata": {
        "id": "YpE_nZs6DNUs"
      }
    },
    {
      "cell_type": "code",
      "source": [
        "data = list(range(10))\n",
        "data"
      ],
      "metadata": {
        "colab": {
          "base_uri": "https://localhost:8080/"
        },
        "id": "4nAs9lrhDgsY",
        "outputId": "37fee2f7-c2d1-4382-c09d-0cc30da4c62a"
      },
      "execution_count": null,
      "outputs": [
        {
          "output_type": "execute_result",
          "data": {
            "text/plain": [
              "[0, 1, 2, 3, 4, 5, 6, 7, 8, 9]"
            ]
          },
          "metadata": {},
          "execution_count": 28
        }
      ]
    },
    {
      "cell_type": "code",
      "source": [
        "# 리스트 객체에 정수를 곱하면 객체의 크기가 해당 정수 배만큼 증가\n",
        "data * 2 # 리스트여서 두 배를 할 수가 없음"
      ],
      "metadata": {
        "colab": {
          "base_uri": "https://localhost:8080/"
        },
        "id": "YMMhJLA9Dnjt",
        "outputId": "ddb95aa0-bd91-4bbe-c8c1-97162b39c868"
      },
      "execution_count": null,
      "outputs": [
        {
          "output_type": "execute_result",
          "data": {
            "text/plain": [
              "[0, 1, 2, 3, 4, 5, 6, 7, 8, 9, 0, 1, 2, 3, 4, 5, 6, 7, 8, 9]"
            ]
          },
          "metadata": {},
          "execution_count": 29
        }
      ]
    },
    {
      "cell_type": "code",
      "source": [
        "# 여러 개의 데이터를 모두 2배 할 때 (파이썬)\n",
        "%%time \n",
        "answer = []\n",
        "for v in data:\n",
        "    answer.append(v * 2)\n",
        "answer"
      ],
      "metadata": {
        "colab": {
          "base_uri": "https://localhost:8080/"
        },
        "id": "2-oNbcGlvaxn",
        "outputId": "7b44beec-fa4e-4f97-d30a-97e7a37d4405"
      },
      "execution_count": null,
      "outputs": [
        {
          "output_type": "stream",
          "name": "stdout",
          "text": [
            "CPU times: user 20 µs, sys: 1 µs, total: 21 µs\n",
            "Wall time: 24.3 µs\n"
          ]
        },
        {
          "output_type": "execute_result",
          "data": {
            "text/plain": [
              "[0, 2, 4, 6, 8, 10, 12, 14, 16, 18]"
            ]
          },
          "metadata": {},
          "execution_count": 30
        }
      ]
    },
    {
      "cell_type": "code",
      "source": [
        "%%timeit\n",
        "answer = []\n",
        "for v in data:\n",
        "    answer.append(v * 2)\n",
        "answer"
      ],
      "metadata": {
        "colab": {
          "base_uri": "https://localhost:8080/"
        },
        "id": "1JIB-MtUvzw9",
        "outputId": "45f08139-73f6-49c1-a441-8d6d914a59a6"
      },
      "execution_count": null,
      "outputs": [
        {
          "output_type": "stream",
          "name": "stdout",
          "text": [
            "1.04 µs ± 18 ns per loop (mean ± std. dev. of 7 runs, 1000000 loops each)\n"
          ]
        }
      ]
    },
    {
      "cell_type": "code",
      "source": [
        "# 리스트 컴프리헨션\n",
        "%%time\n",
        "[v * 2 for v in data]"
      ],
      "metadata": {
        "colab": {
          "base_uri": "https://localhost:8080/"
        },
        "id": "SHzLz6ghEKIY",
        "outputId": "03c3912d-1402-401d-9f14-6d601befd8df"
      },
      "execution_count": null,
      "outputs": [
        {
          "output_type": "stream",
          "name": "stdout",
          "text": [
            "CPU times: user 0 ns, sys: 6 µs, total: 6 µs\n",
            "Wall time: 8.82 µs\n"
          ]
        },
        {
          "output_type": "execute_result",
          "data": {
            "text/plain": [
              "[0, 2, 4, 6, 8, 10, 12, 14, 16, 18]"
            ]
          },
          "metadata": {},
          "execution_count": 32
        }
      ]
    },
    {
      "cell_type": "code",
      "source": [
        "%%timeit\n",
        "[v * 2 for v in data]"
      ],
      "metadata": {
        "colab": {
          "base_uri": "https://localhost:8080/"
        },
        "id": "-UBecNkvv_iF",
        "outputId": "1c749e80-6648-4470-91ee-025c836bc74f"
      },
      "execution_count": null,
      "outputs": [
        {
          "output_type": "stream",
          "name": "stdout",
          "text": [
            "891 ns ± 236 ns per loop (mean ± std. dev. of 7 runs, 1000000 loops each)\n"
          ]
        }
      ]
    },
    {
      "cell_type": "code",
      "source": [
        "# 벡터화 연산\n",
        "arr = np.array(data)\n",
        "arr"
      ],
      "metadata": {
        "colab": {
          "base_uri": "https://localhost:8080/"
        },
        "id": "8uD4qG7yEUlU",
        "outputId": "5f3d0267-2335-46fb-b823-d83d5c4fea8f"
      },
      "execution_count": null,
      "outputs": [
        {
          "output_type": "execute_result",
          "data": {
            "text/plain": [
              "array([0, 1, 2, 3, 4, 5, 6, 7, 8, 9])"
            ]
          },
          "metadata": {},
          "execution_count": 34
        }
      ]
    },
    {
      "cell_type": "code",
      "source": [
        "arr * 2 # 개별적인 벡터로 취급을 해서 계산"
      ],
      "metadata": {
        "colab": {
          "base_uri": "https://localhost:8080/"
        },
        "id": "Di07DfgYEaUp",
        "outputId": "8a25863a-0938-4852-9569-4ebb4bdec7f3"
      },
      "execution_count": null,
      "outputs": [
        {
          "output_type": "execute_result",
          "data": {
            "text/plain": [
              "array([ 0,  2,  4,  6,  8, 10, 12, 14, 16, 18])"
            ]
          },
          "metadata": {},
          "execution_count": 35
        }
      ]
    },
    {
      "cell_type": "code",
      "source": [
        "%%time arr * 2"
      ],
      "metadata": {
        "colab": {
          "base_uri": "https://localhost:8080/"
        },
        "id": "o7TyxzkHEePJ",
        "outputId": "df8d2e0a-cc49-4782-bd29-074af0b82b01"
      },
      "execution_count": null,
      "outputs": [
        {
          "output_type": "stream",
          "name": "stdout",
          "text": [
            "CPU times: user 49 µs, sys: 2 µs, total: 51 µs\n",
            "Wall time: 54.8 µs\n"
          ]
        },
        {
          "output_type": "execute_result",
          "data": {
            "text/plain": [
              "array([ 0,  2,  4,  6,  8, 10, 12, 14, 16, 18])"
            ]
          },
          "metadata": {},
          "execution_count": 36
        }
      ]
    },
    {
      "cell_type": "code",
      "source": [
        "%timeit arr * 2"
      ],
      "metadata": {
        "colab": {
          "base_uri": "https://localhost:8080/"
        },
        "id": "UvlEizn0wuHG",
        "outputId": "de5b4801-6482-4244-914f-610766b0ded2"
      },
      "execution_count": null,
      "outputs": [
        {
          "output_type": "stream",
          "name": "stdout",
          "text": [
            "1.28 µs ± 382 ns per loop (mean ± std. dev. of 7 runs, 1000000 loops each)\n"
          ]
        }
      ]
    },
    {
      "cell_type": "markdown",
      "source": [
        "* 벡터화 연산은 비교 연산과 논리 연산을 포함한 모든 종류의 수학 연산에 대해 적용"
      ],
      "metadata": {
        "id": "zQ1rWyKGExLh"
      }
    },
    {
      "cell_type": "code",
      "source": [
        "a = np.array(range(1, 4))\n",
        "b = np.array(range(10, 40, 10))\n",
        "a, b"
      ],
      "metadata": {
        "colab": {
          "base_uri": "https://localhost:8080/"
        },
        "id": "Ln3pwEyLFA1n",
        "outputId": "7ec7e30b-1ab4-4afc-b5a2-0cc1e220528b"
      },
      "execution_count": null,
      "outputs": [
        {
          "output_type": "execute_result",
          "data": {
            "text/plain": [
              "(array([1, 2, 3]), array([10, 20, 30]))"
            ]
          },
          "metadata": {},
          "execution_count": 38
        }
      ]
    },
    {
      "cell_type": "code",
      "source": [
        "a * 2 + b # 산술 연산"
      ],
      "metadata": {
        "colab": {
          "base_uri": "https://localhost:8080/"
        },
        "id": "zGfFqMi6FFZr",
        "outputId": "e027136c-f4cc-4f90-d2fc-4c2268cc03ed"
      },
      "execution_count": null,
      "outputs": [
        {
          "output_type": "execute_result",
          "data": {
            "text/plain": [
              "array([12, 24, 36])"
            ]
          },
          "metadata": {},
          "execution_count": 39
        }
      ]
    },
    {
      "cell_type": "code",
      "source": [
        "a == 2, b > 10 # 비교 연산"
      ],
      "metadata": {
        "colab": {
          "base_uri": "https://localhost:8080/"
        },
        "id": "Sk7v0Zc2FNVn",
        "outputId": "d58be38e-1d34-4ca4-d26a-240f90cb6c0d"
      },
      "execution_count": null,
      "outputs": [
        {
          "output_type": "execute_result",
          "data": {
            "text/plain": [
              "(array([False,  True, False]), array([False,  True,  True]))"
            ]
          },
          "metadata": {},
          "execution_count": 41
        }
      ]
    },
    {
      "cell_type": "code",
      "source": [
        "(a == 2) & (b > 10), (a == 2) | (b > 10) # 논리 연산"
      ],
      "metadata": {
        "colab": {
          "base_uri": "https://localhost:8080/"
        },
        "id": "TKIf8dFnFSdh",
        "outputId": "312cbafa-b9ad-4a9b-ade7-4cfa52802ebd"
      },
      "execution_count": null,
      "outputs": [
        {
          "output_type": "execute_result",
          "data": {
            "text/plain": [
              "(array([False,  True, False]), array([False,  True,  True]))"
            ]
          },
          "metadata": {},
          "execution_count": 44
        }
      ]
    },
    {
      "cell_type": "markdown",
      "source": [
        "## 2차원 배열\n",
        "* `ndarray`는 N-dimensional Array의 약자, 즉 1차원 배열 이외에도 2차원 배열, 3차원 배열 등의 다차원 배열 자료 구조를 지원\n",
        "* 2차원 배열 = 행렬 (matrix)\n",
        "* 가로줄 : 행(row), 세로줄 : 열(column)\n",
        "> 엑셀 스프레드시트와 같은 형태의 배열\n",
        "\n",
        "* 리스트의 리스트(list of list)를 이용하여 2차원 배열 생성\n",
        "    * 안쪽 리스트의 길이 : 행렬의 열의 수 (가로 크기)\n",
        "    * 바깥쪽 리스트의 길이 : 행렬의 행의 수 (세로 크기)"
      ],
      "metadata": {
        "id": "6E8zYWggFjXD"
      }
    },
    {
      "cell_type": "code",
      "source": [
        "arr = np.array([[0, 1, 2], [3, 4, 5]])\n",
        "arr # 행은 2, 열은 3"
      ],
      "metadata": {
        "colab": {
          "base_uri": "https://localhost:8080/"
        },
        "id": "mvYB4aigFaBi",
        "outputId": "46d9db12-ca3d-4620-bdde-b971677c9dff"
      },
      "execution_count": null,
      "outputs": [
        {
          "output_type": "execute_result",
          "data": {
            "text/plain": [
              "array([[0, 1, 2],\n",
              "       [3, 4, 5]])"
            ]
          },
          "metadata": {},
          "execution_count": 45
        }
      ]
    },
    {
      "cell_type": "code",
      "source": [
        "# 행의 갯수, 열의 갯수\n",
        "len(arr), len(arr[0])"
      ],
      "metadata": {
        "colab": {
          "base_uri": "https://localhost:8080/"
        },
        "id": "hJKXy_1vHTID",
        "outputId": "e259cc83-6d9f-40f1-f91b-a395afada2bf"
      },
      "execution_count": null,
      "outputs": [
        {
          "output_type": "execute_result",
          "data": {
            "text/plain": [
              "(2, 3)"
            ]
          },
          "metadata": {},
          "execution_count": 46
        }
      ]
    },
    {
      "cell_type": "markdown",
      "source": [
        "## 💡 연습문제 1\n",
        "> 아래 모양의 행렬 만들어 보기\n",
        "```\n",
        "10 20 30 40\n",
        "50 60 70 80\n",
        "```"
      ],
      "metadata": {
        "id": "mvQeMqWwIxGe"
      }
    },
    {
      "cell_type": "code",
      "source": [
        "arr = np.array([[10, 20, 30, 40],\n",
        "                [50, 60, 70, 80]]) # 방법 1"
      ],
      "metadata": {
        "id": "_4AEiANZI6CN"
      },
      "execution_count": null,
      "outputs": []
    },
    {
      "cell_type": "code",
      "source": [
        "arr "
      ],
      "metadata": {
        "colab": {
          "base_uri": "https://localhost:8080/"
        },
        "id": "3KDk77KCJFvH",
        "outputId": "3f53fc75-a9c2-4e2f-c156-309367e7b51f"
      },
      "execution_count": null,
      "outputs": [
        {
          "output_type": "execute_result",
          "data": {
            "text/plain": [
              "array([[10, 20, 30, 40],\n",
              "       [50, 60, 70, 80]])"
            ]
          },
          "metadata": {},
          "execution_count": 48
        }
      ]
    },
    {
      "cell_type": "code",
      "source": [
        "arr1 = np.array(range(10, 50, 10))\n",
        "arr1 # 방법 2"
      ],
      "metadata": {
        "colab": {
          "base_uri": "https://localhost:8080/"
        },
        "id": "MRL2L8GS2NCH",
        "outputId": "cdecf5ca-d838-4a8b-bfe8-4a1c54e187e1"
      },
      "execution_count": null,
      "outputs": [
        {
          "output_type": "execute_result",
          "data": {
            "text/plain": [
              "array([10, 20, 30, 40])"
            ]
          },
          "metadata": {},
          "execution_count": 56
        }
      ]
    },
    {
      "cell_type": "code",
      "source": [
        "arr2 = np.array(range(50, 90, 10))\n",
        "arr2"
      ],
      "metadata": {
        "colab": {
          "base_uri": "https://localhost:8080/"
        },
        "id": "4PpUCcgK2fJK",
        "outputId": "6663181e-0fcb-413e-8b92-337d7c01886c"
      },
      "execution_count": null,
      "outputs": [
        {
          "output_type": "execute_result",
          "data": {
            "text/plain": [
              "array([50, 60, 70, 80])"
            ]
          },
          "metadata": {},
          "execution_count": 55
        }
      ]
    },
    {
      "cell_type": "code",
      "source": [
        "arr = np.array([arr1] + [arr2])\n",
        "arr "
      ],
      "metadata": {
        "colab": {
          "base_uri": "https://localhost:8080/"
        },
        "id": "5FvZ09r02j3V",
        "outputId": "5c2bb755-abcb-40f0-c589-ddb0716c1edd"
      },
      "execution_count": null,
      "outputs": [
        {
          "output_type": "execute_result",
          "data": {
            "text/plain": [
              "array([[10, 20, 30, 40],\n",
              "       [50, 60, 70, 80]])"
            ]
          },
          "metadata": {},
          "execution_count": 62
        }
      ]
    },
    {
      "cell_type": "code",
      "source": [
        "np.array([[1, 2, 3, 4],\n",
        "         [5, 6, 7, 8]]) * 10 # 방법 3"
      ],
      "metadata": {
        "colab": {
          "base_uri": "https://localhost:8080/"
        },
        "id": "iQeM4XKn3kV-",
        "outputId": "df830e79-209e-4376-83d8-b11ba704cd56"
      },
      "execution_count": null,
      "outputs": [
        {
          "output_type": "execute_result",
          "data": {
            "text/plain": [
              "array([[10, 20, 30, 40],\n",
              "       [50, 60, 70, 80]])"
            ]
          },
          "metadata": {},
          "execution_count": 66
        }
      ]
    },
    {
      "cell_type": "code",
      "source": [
        "np.arange(10, 90, 10).reshape(2, -1) # 방법 4\n",
        "(np.arange(1, 9) * 10).reshape(2, -1)"
      ],
      "metadata": {
        "colab": {
          "base_uri": "https://localhost:8080/"
        },
        "id": "vAbNaxek35he",
        "outputId": "b668e218-0d4e-49a3-d5e1-3ddba8d35bd2"
      },
      "execution_count": null,
      "outputs": [
        {
          "output_type": "execute_result",
          "data": {
            "text/plain": [
              "array([[10, 20, 30, 40],\n",
              "       [50, 60, 70, 80]])"
            ]
          },
          "metadata": {},
          "execution_count": 69
        }
      ]
    },
    {
      "cell_type": "markdown",
      "source": [
        "## 3차원 배열"
      ],
      "metadata": {
        "id": "OrnOIxEVHiJo"
      }
    },
    {
      "cell_type": "code",
      "source": [
        "# 크기를 나타낼 때는 가장 바깥쪽 리스트의 길이부터 가장 안쪽 리스트 길이의 순서로 표시\n",
        "# m : matrix 2차원\n",
        "# t : three-dimention 3차원\n",
        "t = np.array(\n",
        "    [\n",
        "      [\n",
        "        [1, 2, 3, 4],\n",
        "        [5, 6, 7, 8],\n",
        "        [9, 10, 11, 12]\n",
        "      ],\n",
        "      [\n",
        "        [13, 14, 15, 16],\n",
        "        [17, 18, 19, 20],\n",
        "        [21, 22, 23, 24]\n",
        "      ]\n",
        "    ]\n",
        ") # 2 * 3 * 4 배열\n",
        "t"
      ],
      "metadata": {
        "colab": {
          "base_uri": "https://localhost:8080/"
        },
        "id": "wE7xDF6NJXYQ",
        "outputId": "95f0940d-2790-4b75-d8aa-ea7cf92c8a99"
      },
      "execution_count": null,
      "outputs": [
        {
          "output_type": "execute_result",
          "data": {
            "text/plain": [
              "array([[[ 1,  2,  3,  4],\n",
              "        [ 5,  6,  7,  8],\n",
              "        [ 9, 10, 11, 12]],\n",
              "\n",
              "       [[13, 14, 15, 16],\n",
              "        [17, 18, 19, 20],\n",
              "        [21, 22, 23, 24]]])"
            ]
          },
          "metadata": {},
          "execution_count": 70
        }
      ]
    },
    {
      "cell_type": "code",
      "source": [
        "# 깊이, 행, 열\n",
        "len(t), len(t[0]), len(t[0][0])"
      ],
      "metadata": {
        "colab": {
          "base_uri": "https://localhost:8080/"
        },
        "id": "vBdM_eKFJ9R-",
        "outputId": "1f9d7bde-25d0-4baf-cbaa-50af69501dc8"
      },
      "execution_count": null,
      "outputs": [
        {
          "output_type": "execute_result",
          "data": {
            "text/plain": [
              "(2, 3, 4)"
            ]
          },
          "metadata": {},
          "execution_count": 71
        }
      ]
    },
    {
      "cell_type": "markdown",
      "source": [
        "## 배열의 차원과 크기 알아내기\n",
        "* `ndim`, `shape` **속성** 사용\n",
        "> 속성 : 괄호 없이 이름만 써서 값을 호출\n",
        "\n",
        "* `ndim` : 배열의 차원\n",
        "* `shape` : 배열의 크기"
      ],
      "metadata": {
        "id": "opiM0LNJKNTh"
      }
    },
    {
      "cell_type": "code",
      "source": [
        "a = np.array(range(1, 4))\n",
        "a"
      ],
      "metadata": {
        "colab": {
          "base_uri": "https://localhost:8080/"
        },
        "id": "o3Aok_LtKmk1",
        "outputId": "ddd1b467-1d98-4e34-b4e2-0eab66e4bc8f"
      },
      "execution_count": null,
      "outputs": [
        {
          "output_type": "execute_result",
          "data": {
            "text/plain": [
              "array([1, 2, 3])"
            ]
          },
          "metadata": {},
          "execution_count": 73
        }
      ]
    },
    {
      "cell_type": "code",
      "source": [
        "a.ndim, a.shape"
      ],
      "metadata": {
        "colab": {
          "base_uri": "https://localhost:8080/"
        },
        "id": "9DMGQgWZKuwT",
        "outputId": "340b0e8f-d654-438e-bef8-380fe2297581"
      },
      "execution_count": null,
      "outputs": [
        {
          "output_type": "execute_result",
          "data": {
            "text/plain": [
              "(1, (3,))"
            ]
          },
          "metadata": {},
          "execution_count": 76
        }
      ]
    },
    {
      "cell_type": "code",
      "source": [
        "m = np.array((range(3), range(3, 6)))\n",
        "m"
      ],
      "metadata": {
        "colab": {
          "base_uri": "https://localhost:8080/"
        },
        "id": "0ExnZUCHK057",
        "outputId": "623cef93-c89e-4e84-b0b6-42f723f3dd23"
      },
      "execution_count": null,
      "outputs": [
        {
          "output_type": "execute_result",
          "data": {
            "text/plain": [
              "array([[0, 1, 2],\n",
              "       [3, 4, 5]])"
            ]
          },
          "metadata": {},
          "execution_count": 77
        }
      ]
    },
    {
      "cell_type": "code",
      "source": [
        "m.ndim, m.shape"
      ],
      "metadata": {
        "colab": {
          "base_uri": "https://localhost:8080/"
        },
        "id": "bmdhT2ut5xi4",
        "outputId": "7e1b0f84-6492-40ad-8db2-c15cc9d32227"
      },
      "execution_count": null,
      "outputs": [
        {
          "output_type": "execute_result",
          "data": {
            "text/plain": [
              "(2, (2, 3))"
            ]
          },
          "metadata": {},
          "execution_count": 78
        }
      ]
    },
    {
      "cell_type": "code",
      "source": [
        "t.ndim, t.shape"
      ],
      "metadata": {
        "colab": {
          "base_uri": "https://localhost:8080/"
        },
        "id": "QfPnLbas6Et3",
        "outputId": "3a7652c2-7acf-4985-b359-3ffa23eb9e02"
      },
      "execution_count": null,
      "outputs": [
        {
          "output_type": "execute_result",
          "data": {
            "text/plain": [
              "(3, (2, 3, 4))"
            ]
          },
          "metadata": {},
          "execution_count": 79
        }
      ]
    },
    {
      "cell_type": "markdown",
      "source": [
        "## 배열의 복사\n",
        "* copy와 view의 차이점은 copy는 새 배열(깊은 복사)이고 view는 원래 배열과 연결 되어 있다는 것(얕은 복사)\n",
        "* copy는 데이터를 소유하며 copy에 대한 변경 사항은 원본 배열에 영향을 미치지 않으며 원본 배열에 대한 변경은 copy에 영향을 주지 않음\n",
        "* view는 데이터를 소유하지 않으며 view에 대한 모든 변경 사항은 원래 배열에 영향을 미치고 원래 배열에 대한 모든 변경 사항은 보기에 영향을 줌"
      ],
      "metadata": {
        "id": "cJZkK8_dQxfm"
      }
    },
    {
      "cell_type": "code",
      "source": [
        "import numpy as np\n",
        "\n",
        "arr = np.array(range(1,6))\n",
        "x = arr.copy()\n",
        "arr[0] = 40\n",
        "print(f\"arr : {arr}\")\n",
        "print(f\"x: {x}\")"
      ],
      "metadata": {
        "colab": {
          "base_uri": "https://localhost:8080/"
        },
        "id": "4y-KxTbuQ0xj",
        "outputId": "6d1c8193-f9d2-42cd-bd29-15987480c367"
      },
      "execution_count": null,
      "outputs": [
        {
          "output_type": "stream",
          "name": "stdout",
          "text": [
            "arr : [40  2  3  4  5]\n",
            "x: [1 2 3 4 5]\n"
          ]
        }
      ]
    },
    {
      "cell_type": "code",
      "source": [
        "import numpy as np\n",
        "\n",
        "arr = np.array(range(1,6))\n",
        "x = arr.view() # 복사를 하되 주소값만 받아서 연결\n",
        "arr[0] = 40\n",
        "print(f\"arr : {arr}\")\n",
        "print(f\"x: {x}\")"
      ],
      "metadata": {
        "colab": {
          "base_uri": "https://localhost:8080/"
        },
        "id": "TIAvNSlnQ2hY",
        "outputId": "9529736f-64c5-48e6-d73d-cfed740f09ce"
      },
      "execution_count": null,
      "outputs": [
        {
          "output_type": "stream",
          "name": "stdout",
          "text": [
            "arr : [40  2  3  4  5]\n",
            "x: [40  2  3  4  5]\n"
          ]
        }
      ]
    },
    {
      "cell_type": "code",
      "source": [
        "import numpy as np\n",
        "\n",
        "arr = np.array(range(1,6))\n",
        "x = arr\n",
        "arr[0] = 40\n",
        "print(f\"arr : {arr}\")\n",
        "print(f\"x: {x}\")"
      ],
      "metadata": {
        "colab": {
          "base_uri": "https://localhost:8080/"
        },
        "id": "9swwITkeQ7I8",
        "outputId": "988fde78-0ece-4ce9-8cdf-b1504b014b75"
      },
      "execution_count": null,
      "outputs": [
        {
          "output_type": "stream",
          "name": "stdout",
          "text": [
            "arr : [40  2  3  4  5]\n",
            "x: [40  2  3  4  5]\n"
          ]
        }
      ]
    },
    {
      "cell_type": "code",
      "source": [
        "import numpy as np\n",
        "\n",
        "arr = np.array(range(1, 6))\n",
        "\n",
        "x = arr.copy()\n",
        "y = arr.view()\n",
        "\n",
        "# 배열 데이터 소유 여부 반환\n",
        "print(x.base)\n",
        "print(y.base)"
      ],
      "metadata": {
        "colab": {
          "base_uri": "https://localhost:8080/"
        },
        "id": "BWrbKpEG7YM9",
        "outputId": "dd1cdf44-f004-43df-a18a-0061eaa35c7c"
      },
      "execution_count": null,
      "outputs": [
        {
          "output_type": "stream",
          "name": "stdout",
          "text": [
            "None\n",
            "[1 2 3 4 5]\n"
          ]
        }
      ]
    },
    {
      "cell_type": "markdown",
      "source": [
        "## 배열의 인덱싱"
      ],
      "metadata": {
        "id": "XRqTwPdrOLj2"
      }
    },
    {
      "cell_type": "markdown",
      "source": [
        "### 일차원 배열\n",
        "* 리스트의 인덱싱과 같음"
      ],
      "metadata": {
        "id": "Wws5jAiwPLY6"
      }
    },
    {
      "cell_type": "code",
      "source": [
        "a = np.array(range(5))\n",
        "print(a)\n",
        "a[2], a[-1]"
      ],
      "metadata": {
        "colab": {
          "base_uri": "https://localhost:8080/"
        },
        "id": "xvVO2hmBOOwr",
        "outputId": "ab5be428-0da5-441d-c04a-4f2c13580659"
      },
      "execution_count": null,
      "outputs": [
        {
          "output_type": "stream",
          "name": "stdout",
          "text": [
            "[0 1 2 3 4]\n"
          ]
        },
        {
          "output_type": "execute_result",
          "data": {
            "text/plain": [
              "(2, 4)"
            ]
          },
          "metadata": {},
          "execution_count": 91
        }
      ]
    },
    {
      "cell_type": "markdown",
      "source": [
        "### 다차원 배열\n",
        "* 콤마(comma, `,`)를 사용하여 접근\n",
        "* 콤마로 구분된 차원을 축(axis)라고 함 [중요]\n",
        "    * like 그래프의 x축, y축"
      ],
      "metadata": {
        "id": "2fOOjLQoOn5h"
      }
    },
    {
      "cell_type": "code",
      "source": [
        "b = np.array([[0, 1, 2],[3, 4, 5]])\n",
        "print(b, b.ndim, b.shape)"
      ],
      "metadata": {
        "colab": {
          "base_uri": "https://localhost:8080/"
        },
        "id": "FASAOAE-Okqu",
        "outputId": "d4fcf668-c4e8-4a52-8983-97966f4572b3"
      },
      "execution_count": null,
      "outputs": [
        {
          "output_type": "stream",
          "name": "stdout",
          "text": [
            "[[0 1 2]\n",
            " [3 4 5]] 2 (2, 3)\n"
          ]
        }
      ]
    },
    {
      "cell_type": "code",
      "source": [
        "b[0]"
      ],
      "metadata": {
        "colab": {
          "base_uri": "https://localhost:8080/"
        },
        "id": "tLu4bXlU8pbF",
        "outputId": "bd7c0ab6-6d8c-4523-f0ae-e928e77a0ee9"
      },
      "execution_count": null,
      "outputs": [
        {
          "output_type": "execute_result",
          "data": {
            "text/plain": [
              "array([0, 1, 2])"
            ]
          },
          "metadata": {},
          "execution_count": 94
        }
      ]
    },
    {
      "cell_type": "code",
      "source": [
        "b[0][0]\n",
        "b[0, 0] # 첫번째 행의 첫번째 열"
      ],
      "metadata": {
        "colab": {
          "base_uri": "https://localhost:8080/"
        },
        "id": "pOVefqrYO5LK",
        "outputId": "adf26db5-7acf-4470-f10a-52d500e0fdb1"
      },
      "execution_count": null,
      "outputs": [
        {
          "output_type": "execute_result",
          "data": {
            "text/plain": [
              "0"
            ]
          },
          "metadata": {},
          "execution_count": 95
        }
      ]
    },
    {
      "cell_type": "code",
      "source": [
        "b[0, 1] # 첫번째 행의 두번째 열"
      ],
      "metadata": {
        "colab": {
          "base_uri": "https://localhost:8080/"
        },
        "id": "oU2ZsFukO93q",
        "outputId": "d7fb7c5a-a7ad-4664-b688-c3d8604457a1"
      },
      "execution_count": null,
      "outputs": [
        {
          "output_type": "execute_result",
          "data": {
            "text/plain": [
              "1"
            ]
          },
          "metadata": {},
          "execution_count": 96
        }
      ]
    },
    {
      "cell_type": "code",
      "source": [
        "b[-1, -1] # 마지막 행의 마지막 열"
      ],
      "metadata": {
        "colab": {
          "base_uri": "https://localhost:8080/"
        },
        "id": "Zadc4Xzi8-f0",
        "outputId": "b5ae6271-144e-4881-d226-65fd69297803"
      },
      "execution_count": null,
      "outputs": [
        {
          "output_type": "execute_result",
          "data": {
            "text/plain": [
              "5"
            ]
          },
          "metadata": {},
          "execution_count": 97
        }
      ]
    },
    {
      "cell_type": "markdown",
      "source": [
        "## 배열 슬라이싱\n",
        "* 다차원 배열의 원소 중 2개 이상의 복수 개를 접근하려면 일반적인 파이썬 슬라이싱(slicing)과 comma(,)를 함께 사용"
      ],
      "metadata": {
        "id": "kk2Ri7rSPVi2"
      }
    },
    {
      "cell_type": "code",
      "source": [
        "a = np.array((range(4), range(4, 8)))\n",
        "a"
      ],
      "metadata": {
        "colab": {
          "base_uri": "https://localhost:8080/"
        },
        "id": "jEziuEkEPH6D",
        "outputId": "b74680f0-3cd2-4e66-f95a-2850e07eb391"
      },
      "execution_count": null,
      "outputs": [
        {
          "output_type": "execute_result",
          "data": {
            "text/plain": [
              "array([[0, 1, 2, 3],\n",
              "       [4, 5, 6, 7]])"
            ]
          },
          "metadata": {},
          "execution_count": 98
        }
      ]
    },
    {
      "cell_type": "code",
      "source": [
        "#a[0] # 첫 번째 행\n",
        "print(a)\n",
        "a[0, :] # 첫 번째 행의 전체 열"
      ],
      "metadata": {
        "colab": {
          "base_uri": "https://localhost:8080/"
        },
        "id": "LUww2ZaXP3aW",
        "outputId": "d13f8791-4db4-4452-8771-13625064014f"
      },
      "execution_count": null,
      "outputs": [
        {
          "output_type": "stream",
          "name": "stdout",
          "text": [
            "[[0 1 2 3]\n",
            " [4 5 6 7]]\n"
          ]
        },
        {
          "output_type": "execute_result",
          "data": {
            "text/plain": [
              "array([0, 1, 2, 3])"
            ]
          },
          "metadata": {},
          "execution_count": 103
        }
      ]
    },
    {
      "cell_type": "code",
      "source": [
        "# 두 번째 열 전체 (모든 행의 두번째 열)\n",
        "print(a)\n",
        "a[:, 1]"
      ],
      "metadata": {
        "colab": {
          "base_uri": "https://localhost:8080/"
        },
        "id": "eV47P625P6y2",
        "outputId": "64313a70-2982-4be0-8d7c-e2aa25092dc0"
      },
      "execution_count": null,
      "outputs": [
        {
          "output_type": "stream",
          "name": "stdout",
          "text": [
            "[[0 1 2 3]\n",
            " [4 5 6 7]]\n"
          ]
        },
        {
          "output_type": "execute_result",
          "data": {
            "text/plain": [
              "array([1, 5])"
            ]
          },
          "metadata": {},
          "execution_count": 104
        }
      ]
    },
    {
      "cell_type": "code",
      "source": [
        "# 두 번째 행의 두번째 열부터 끝열까지\n",
        "print(a)\n",
        "a[1, 1:]"
      ],
      "metadata": {
        "colab": {
          "base_uri": "https://localhost:8080/"
        },
        "id": "YKbC_X9kP92W",
        "outputId": "ba8a12e7-8496-4de4-95ac-1f8394ff36de"
      },
      "execution_count": null,
      "outputs": [
        {
          "output_type": "stream",
          "name": "stdout",
          "text": [
            "[[0 1 2 3]\n",
            " [4 5 6 7]]\n"
          ]
        },
        {
          "output_type": "execute_result",
          "data": {
            "text/plain": [
              "array([5, 6, 7])"
            ]
          },
          "metadata": {},
          "execution_count": 105
        }
      ]
    },
    {
      "cell_type": "code",
      "source": [
        "# 첫 번재 행에서 두 번째 행까지, 첫번째 열에서 두번째 열까지\n",
        "print(a)\n",
        "a[:2, :2]"
      ],
      "metadata": {
        "colab": {
          "base_uri": "https://localhost:8080/"
        },
        "id": "fuNdQMf8QBGC",
        "outputId": "75de115f-c93e-49f0-baf8-d2b63e23c5d9"
      },
      "execution_count": null,
      "outputs": [
        {
          "output_type": "stream",
          "name": "stdout",
          "text": [
            "[[0 1 2 3]\n",
            " [4 5 6 7]]\n"
          ]
        },
        {
          "output_type": "execute_result",
          "data": {
            "text/plain": [
              "array([[0, 1],\n",
              "       [4, 5]])"
            ]
          },
          "metadata": {},
          "execution_count": 106
        }
      ]
    },
    {
      "cell_type": "code",
      "source": [
        "# 세번재 행에서 끝까지, 세번째 열에서 끝까지\n",
        "print(a)\n",
        "a[2:, 2:]"
      ],
      "metadata": {
        "colab": {
          "base_uri": "https://localhost:8080/"
        },
        "id": "6hV_nwO6-RYd",
        "outputId": "00493cc5-e654-41b1-d3c5-4570f168e4e6"
      },
      "execution_count": null,
      "outputs": [
        {
          "output_type": "stream",
          "name": "stdout",
          "text": [
            "[[0 1 2 3]\n",
            " [4 5 6 7]]\n"
          ]
        },
        {
          "output_type": "execute_result",
          "data": {
            "text/plain": [
              "array([], shape=(0, 2), dtype=int64)"
            ]
          },
          "metadata": {},
          "execution_count": 107
        }
      ]
    },
    {
      "cell_type": "code",
      "source": [
        "# 세번재 열에서 끝까지\n",
        "print(a)\n",
        "a[:3, 2:]"
      ],
      "metadata": {
        "colab": {
          "base_uri": "https://localhost:8080/"
        },
        "id": "Mno4EfBh-cKR",
        "outputId": "9a82722e-12ed-4426-fe2b-ab62a5dc6127"
      },
      "execution_count": null,
      "outputs": [
        {
          "output_type": "stream",
          "name": "stdout",
          "text": [
            "[[0 1 2 3]\n",
            " [4 5 6 7]]\n"
          ]
        },
        {
          "output_type": "execute_result",
          "data": {
            "text/plain": [
              "array([[2, 3],\n",
              "       [6, 7]])"
            ]
          },
          "metadata": {},
          "execution_count": 112
        }
      ]
    },
    {
      "cell_type": "markdown",
      "source": [
        "## 💡 연습문제 2"
      ],
      "metadata": {
        "id": "lDNHCVY6Qiu5"
      }
    },
    {
      "cell_type": "code",
      "source": [
        "m = np.array([[0,  1,  2,  3,  4],\n",
        "              [5,  6,  7,  8,  9],\n",
        "              [10, 11, 12, 13, 14]])\n",
        "m"
      ],
      "metadata": {
        "colab": {
          "base_uri": "https://localhost:8080/"
        },
        "id": "5tgbgqY4QHZY",
        "outputId": "58275acf-dfbc-4692-b622-8956a4c40f8f"
      },
      "execution_count": null,
      "outputs": [
        {
          "output_type": "execute_result",
          "data": {
            "text/plain": [
              "array([[ 0,  1,  2,  3,  4],\n",
              "       [ 5,  6,  7,  8,  9],\n",
              "       [10, 11, 12, 13, 14]])"
            ]
          },
          "metadata": {},
          "execution_count": 114
        }
      ]
    },
    {
      "cell_type": "code",
      "source": [
        "#@markdown (1) 값 7을 인덱싱\n",
        "m[1 , 2], m[1, -3], m[-2, 2], m[-2, -3]"
      ],
      "metadata": {
        "colab": {
          "base_uri": "https://localhost:8080/"
        },
        "id": "YqURbl2pQiFM",
        "outputId": "3f36dc57-a001-440e-c413-aab6b915602b"
      },
      "execution_count": null,
      "outputs": [
        {
          "output_type": "execute_result",
          "data": {
            "text/plain": [
              "(7, 7, 7, 7)"
            ]
          },
          "metadata": {},
          "execution_count": 117
        }
      ]
    },
    {
      "cell_type": "code",
      "source": [
        "#@markdown (2) 값 14을 인덱싱\n",
        "m[2, 4], m[2, -1], m[-1, 4], m[-1, -1]"
      ],
      "metadata": {
        "colab": {
          "base_uri": "https://localhost:8080/"
        },
        "id": "p2mG56nLQzY0",
        "outputId": "2856a080-050b-4dd1-f1b9-d371e3339078"
      },
      "execution_count": null,
      "outputs": [
        {
          "output_type": "execute_result",
          "data": {
            "text/plain": [
              "(14, 14, 14, 14)"
            ]
          },
          "metadata": {},
          "execution_count": 121
        }
      ]
    },
    {
      "cell_type": "code",
      "source": [
        "#@markdown (3) 배열 [6,7]을 슬라이싱\n",
        "m[1, 1:3], m[-2, 1:3], m[-2, -4:-2], m[-2, -4:-2]"
      ],
      "metadata": {
        "colab": {
          "base_uri": "https://localhost:8080/"
        },
        "id": "UISviULMRLnz",
        "outputId": "346e6d64-7ba7-4007-bc8b-899b71898566"
      },
      "execution_count": null,
      "outputs": [
        {
          "output_type": "execute_result",
          "data": {
            "text/plain": [
              "(array([6, 7]), array([6, 7]), array([6, 7]), array([6, 7]))"
            ]
          },
          "metadata": {},
          "execution_count": 124
        }
      ]
    },
    {
      "cell_type": "code",
      "source": [
        "#@markdown (4) 배열 [7,12]을 슬라이싱\n",
        "m[1:,2], m[-2:,2], m[1:,-3], m[-2:,-3]"
      ],
      "metadata": {
        "colab": {
          "base_uri": "https://localhost:8080/"
        },
        "id": "yib_p8kFRbEb",
        "outputId": "630ad3de-c203-41b2-f418-6177d0bc9c48"
      },
      "execution_count": null,
      "outputs": [
        {
          "output_type": "execute_result",
          "data": {
            "text/plain": [
              "(array([ 7, 12]), array([ 7, 12]), array([ 7, 12]), array([ 7, 12]))"
            ]
          },
          "metadata": {},
          "execution_count": 132
        }
      ]
    },
    {
      "cell_type": "code",
      "source": [
        "#@markdown (5) 배열 [[3,4],[8,9]]을 슬라이싱\n",
        "print(m[:2,3:])\n",
        "print(m[:-1,3:])\n",
        "print(m[:2,-2:])\n",
        "print(m[:-1,-2:])"
      ],
      "metadata": {
        "colab": {
          "base_uri": "https://localhost:8080/"
        },
        "id": "6kwDWEE7SInr",
        "outputId": "093c182a-2615-44db-b1f5-5ffc7430ff90"
      },
      "execution_count": null,
      "outputs": [
        {
          "output_type": "stream",
          "name": "stdout",
          "text": [
            "[[3 4]\n",
            " [8 9]]\n",
            "[[3 4]\n",
            " [8 9]]\n",
            "[[3 4]\n",
            " [8 9]]\n",
            "[[3 4]\n",
            " [8 9]]\n"
          ]
        }
      ]
    },
    {
      "cell_type": "markdown",
      "source": [
        "## 배열 인덱싱\n",
        "* 대괄호(Bracket, [])안의 인덱스 정보로 숫자나 슬라이스가 아니라 위치 정보를 나타내는 또다른 `ndarray` 배열을 받을 수 있음 (인덱스 배열)\n",
        "* 일종의 조건 검색 기능"
      ],
      "metadata": {
        "id": "fLC-QuQQRKtT"
      }
    },
    {
      "cell_type": "markdown",
      "source": [
        "### 불리언 (Boolean) 배열 인덱싱\n",
        "* 인덱스 배열의 원소가 True, False 두 값으로만 구성되며 인덱스 배열의 크기가 원래 ndarray 객체의 크기와 같아야 함"
      ],
      "metadata": {
        "id": "-5zdTgl8TR04"
      }
    },
    {
      "cell_type": "code",
      "source": [
        "# 0 ~ 8 사이의 (끝포함) 짝수만 가진 배열\n",
        "\n",
        "a1 = np.array(range(0, 9, 2))\n",
        "a2 = np.array([i for i in range(9) if not (i % 2)])\n",
        "a1 , a2"
      ],
      "metadata": {
        "colab": {
          "base_uri": "https://localhost:8080/"
        },
        "id": "qbzhblLfDpV2",
        "outputId": "610df91e-8298-4f2d-f028-a842d5b7ad5f"
      },
      "execution_count": null,
      "outputs": [
        {
          "output_type": "execute_result",
          "data": {
            "text/plain": [
              "(array([0, 2, 4, 6, 8]), array([0, 2, 4, 6, 8]))"
            ]
          },
          "metadata": {},
          "execution_count": 138
        }
      ]
    },
    {
      "cell_type": "code",
      "source": [
        "# 짝수인 원소만 골라내고 싶다면?\n",
        "# 짝수에 대응하는 곳에 True, 홀수에 대응하는 곳에 False\n",
        "a = np.array(range(10))\n",
        "a"
      ],
      "metadata": {
        "colab": {
          "base_uri": "https://localhost:8080/"
        },
        "id": "5GIASHJqTrlX",
        "outputId": "4aa3ffd7-fcaf-4e2e-fbd9-09541f5e34b8"
      },
      "execution_count": null,
      "outputs": [
        {
          "output_type": "execute_result",
          "data": {
            "text/plain": [
              "array([0, 1, 2, 3, 4, 5, 6, 7, 8, 9])"
            ]
          },
          "metadata": {},
          "execution_count": 139
        }
      ]
    },
    {
      "cell_type": "code",
      "source": [
        "idx = np.array([True, False, True, False, True, False, True, False, True, False])\n",
        "idx"
      ],
      "metadata": {
        "colab": {
          "base_uri": "https://localhost:8080/"
        },
        "id": "GLEvbxOAEStZ",
        "outputId": "2d81a0b9-4fd3-4b65-a857-477581390678"
      },
      "execution_count": null,
      "outputs": [
        {
          "output_type": "execute_result",
          "data": {
            "text/plain": [
              "array([ True, False,  True, False,  True, False,  True, False,  True,\n",
              "       False])"
            ]
          },
          "metadata": {},
          "execution_count": 141
        }
      ]
    },
    {
      "cell_type": "code",
      "source": [
        "a[idx]"
      ],
      "metadata": {
        "colab": {
          "base_uri": "https://localhost:8080/"
        },
        "id": "-ISwGLcNEnk2",
        "outputId": "03d7a8f8-6e96-4a08-caee-f029d3035e27"
      },
      "execution_count": null,
      "outputs": [
        {
          "output_type": "execute_result",
          "data": {
            "text/plain": [
              "array([0, 2, 4, 6, 8])"
            ]
          },
          "metadata": {},
          "execution_count": 142
        }
      ]
    },
    {
      "cell_type": "code",
      "source": [
        "# 조건문 연산\n",
        "a % 2 # 벡터의 연산으로 가능한 것"
      ],
      "metadata": {
        "colab": {
          "base_uri": "https://localhost:8080/"
        },
        "id": "3x9YUkfNTtJ1",
        "outputId": "0f45fe3c-62b7-48f3-9043-de5f1f47b02f"
      },
      "execution_count": null,
      "outputs": [
        {
          "output_type": "execute_result",
          "data": {
            "text/plain": [
              "array([0, 1, 0, 1, 0, 1, 0, 1, 0, 1])"
            ]
          },
          "metadata": {},
          "execution_count": 143
        }
      ]
    },
    {
      "cell_type": "code",
      "source": [
        "a % 2 == 0"
      ],
      "metadata": {
        "colab": {
          "base_uri": "https://localhost:8080/"
        },
        "id": "5oDEJHbVT93r",
        "outputId": "51207368-db05-406d-ef58-fd5cb44228c8"
      },
      "execution_count": null,
      "outputs": [
        {
          "output_type": "execute_result",
          "data": {
            "text/plain": [
              "array([ True, False,  True, False,  True, False,  True, False,  True,\n",
              "       False])"
            ]
          },
          "metadata": {},
          "execution_count": 144
        }
      ]
    },
    {
      "cell_type": "code",
      "source": [
        "a[a % 2 == 0], a[a % 2 != 0], a[a % 3 == 0], a[a % 3 == 1]"
      ],
      "metadata": {
        "colab": {
          "base_uri": "https://localhost:8080/"
        },
        "id": "rtfCw3vxUBOm",
        "outputId": "17c4c2b3-b7c5-4764-c5f3-dbc03f79756b"
      },
      "execution_count": null,
      "outputs": [
        {
          "output_type": "execute_result",
          "data": {
            "text/plain": [
              "(array([0, 2, 4, 6, 8]),\n",
              " array([1, 3, 5, 7, 9]),\n",
              " array([0, 3, 6, 9]),\n",
              " array([1, 4, 7]))"
            ]
          },
          "metadata": {},
          "execution_count": 147
        }
      ]
    },
    {
      "cell_type": "markdown",
      "source": [
        "### 정수 배열 인덱싱\n",
        "* 인덱스 배열의 원소 각각이 원래 `ndarray` 객체 원소 하나를 가리키는 인덱스 정수이여야 함"
      ],
      "metadata": {
        "id": "ynIZBX2dUQIv"
      }
    },
    {
      "cell_type": "code",
      "source": [
        "a = np.array(range(1, 10)) * 11\n",
        "a"
      ],
      "metadata": {
        "colab": {
          "base_uri": "https://localhost:8080/"
        },
        "id": "SOOuM49bUcT9",
        "outputId": "04811222-e806-46a9-872c-48098f5c61ad"
      },
      "execution_count": null,
      "outputs": [
        {
          "output_type": "execute_result",
          "data": {
            "text/plain": [
              "array([11, 22, 33, 44, 55, 66, 77, 88, 99])"
            ]
          },
          "metadata": {},
          "execution_count": 148
        }
      ]
    },
    {
      "cell_type": "code",
      "source": [
        "idx = np.array([0, 2, 4, 6, 8])\n",
        "a[idx] # 인덱스를 넣어준 것"
      ],
      "metadata": {
        "colab": {
          "base_uri": "https://localhost:8080/"
        },
        "id": "uOVuEN0RFWv-",
        "outputId": "1c772045-757a-47d0-db11-f95ce1153983"
      },
      "execution_count": null,
      "outputs": [
        {
          "output_type": "execute_result",
          "data": {
            "text/plain": [
              "array([11, 33, 55, 77, 99])"
            ]
          },
          "metadata": {},
          "execution_count": 149
        }
      ]
    },
    {
      "cell_type": "markdown",
      "source": [
        "* 이 때는 배열 인덱스의 크기가 원래의 배열 크기와 달라도 상관없음\n",
        "* 같은 원소를 반복해서 가리키는 경우에는 배열 인덱스가 원래의 배열보다 더 커지기도 함"
      ],
      "metadata": {
        "id": "2ChR92erUf7O"
      }
    },
    {
      "cell_type": "code",
      "source": [
        "idx = np.array([0] * 6 + [1] * 5 + [2] * 5)\n",
        "a[idx]"
      ],
      "metadata": {
        "colab": {
          "base_uri": "https://localhost:8080/"
        },
        "id": "U_k_sieeUeoi",
        "outputId": "6c72b3ac-d077-4ff0-d9e9-d2ddc4c6794b"
      },
      "execution_count": null,
      "outputs": [
        {
          "output_type": "execute_result",
          "data": {
            "text/plain": [
              "array([11, 11, 11, 11, 11, 11, 22, 22, 22, 22, 22, 33, 33, 33, 33, 33])"
            ]
          },
          "metadata": {},
          "execution_count": 152
        }
      ]
    },
    {
      "cell_type": "markdown",
      "source": [
        "### 다차원 배열에서의 배열 인덱싱"
      ],
      "metadata": {
        "id": "XUEo3DxjUl7Q"
      }
    },
    {
      "cell_type": "code",
      "source": [
        "a = np.array([[ 1,  2,  3,  4],\n",
        "       [ 5,  6,  7,  8],\n",
        "       [ 9, 10, 11, 12]])\n",
        "a"
      ],
      "metadata": {
        "colab": {
          "base_uri": "https://localhost:8080/"
        },
        "id": "G4aIB5_BUcsp",
        "outputId": "c9aa9188-9bcd-4ae4-9024-a46ecd6371c2"
      },
      "execution_count": null,
      "outputs": [
        {
          "output_type": "execute_result",
          "data": {
            "text/plain": [
              "array([[ 1,  2,  3,  4],\n",
              "       [ 5,  6,  7,  8],\n",
              "       [ 9, 10, 11, 12]])"
            ]
          },
          "metadata": {},
          "execution_count": 153
        }
      ]
    },
    {
      "cell_type": "code",
      "source": [
        "a = np.array([range(1, 5), range(5, 9), range(9,13)])\n",
        "a"
      ],
      "metadata": {
        "colab": {
          "base_uri": "https://localhost:8080/"
        },
        "id": "LPqyNdd5Gas5",
        "outputId": "acae1913-c62c-4cb2-e1bc-af2d0c1784e5"
      },
      "execution_count": null,
      "outputs": [
        {
          "output_type": "execute_result",
          "data": {
            "text/plain": [
              "array([[ 1,  2,  3,  4],\n",
              "       [ 5,  6,  7,  8],\n",
              "       [ 9, 10, 11, 12]])"
            ]
          },
          "metadata": {},
          "execution_count": 154
        }
      ]
    },
    {
      "cell_type": "code",
      "source": [
        "a,  a.ndim, a.shape"
      ],
      "metadata": {
        "colab": {
          "base_uri": "https://localhost:8080/"
        },
        "id": "7e40A2aGGhcf",
        "outputId": "f459c8a6-0a96-4a68-9378-427f60598ba0"
      },
      "execution_count": null,
      "outputs": [
        {
          "output_type": "execute_result",
          "data": {
            "text/plain": [
              "(array([[ 1,  2,  3,  4],\n",
              "        [ 5,  6,  7,  8],\n",
              "        [ 9, 10, 11, 12]]), 2, (3, 4))"
            ]
          },
          "metadata": {},
          "execution_count": 155
        }
      ]
    },
    {
      "cell_type": "code",
      "source": [
        "print(a[:,[0,3]]) \n",
        "print(a[:,[0,-1]])\n",
        "print(a[:,[True, False, False, True]])"
      ],
      "metadata": {
        "colab": {
          "base_uri": "https://localhost:8080/"
        },
        "id": "rt0XDr6XUs5w",
        "outputId": "d658c306-e96c-446e-e84d-cc3173fc8264"
      },
      "execution_count": null,
      "outputs": [
        {
          "output_type": "execute_result",
          "data": {
            "text/plain": [
              "array([[ 1,  4],\n",
              "       [ 5,  8],\n",
              "       [ 9, 12]])"
            ]
          },
          "metadata": {},
          "execution_count": 156
        }
      ]
    },
    {
      "cell_type": "code",
      "source": [
        "a[[2, 0, 1],:]"
      ],
      "metadata": {
        "colab": {
          "base_uri": "https://localhost:8080/"
        },
        "id": "3Ar68wUpUvqk",
        "outputId": "9f60b6ec-8de6-4049-e4e5-fce7da1a4f93"
      },
      "execution_count": null,
      "outputs": [
        {
          "output_type": "execute_result",
          "data": {
            "text/plain": [
              "array([[ 9, 10, 11, 12],\n",
              "       [ 1,  2,  3,  4],\n",
              "       [ 5,  6,  7,  8]])"
            ]
          },
          "metadata": {},
          "execution_count": 157
        }
      ]
    },
    {
      "cell_type": "markdown",
      "source": [
        "## 💡 연습문제 3"
      ],
      "metadata": {
        "id": "7y4B3S9XY6A5"
      }
    },
    {
      "cell_type": "code",
      "source": [
        "x = np.array([1, 2, 3, 4, 5, 6, 7, 8, 9, 10,\n",
        "             11, 12, 13, 14, 15, 16, 17, 18, 19, 20])"
      ],
      "metadata": {
        "id": "o3Fz2Ji8Y5vw"
      },
      "execution_count": null,
      "outputs": []
    },
    {
      "cell_type": "code",
      "source": [
        "# (1) 3의 배수 찾기\n",
        "x[x % 3 == 0] , x[x % 3 != 0]"
      ],
      "metadata": {
        "colab": {
          "base_uri": "https://localhost:8080/"
        },
        "id": "pSfabTzmUwHy",
        "outputId": "b518d7a2-42ba-41c7-efc4-69e42eb83f96"
      },
      "execution_count": null,
      "outputs": [
        {
          "output_type": "execute_result",
          "data": {
            "text/plain": [
              "(array([ 3,  6,  9, 12, 15, 18]),\n",
              " array([ 1,  2,  4,  5,  7,  8, 10, 11, 13, 14, 16, 17, 19, 20]))"
            ]
          },
          "metadata": {},
          "execution_count": 174
        }
      ]
    },
    {
      "cell_type": "code",
      "source": [
        "# (2) 4로 나누면 1이 남는 수 찾기\n",
        "x[x % 4 == 1], x[x // 4 == 1]"
      ],
      "metadata": {
        "colab": {
          "base_uri": "https://localhost:8080/"
        },
        "id": "iNwraEzfZEIx",
        "outputId": "563940e1-3190-4cb6-f131-9e5ad6a51eaa"
      },
      "execution_count": null,
      "outputs": [
        {
          "output_type": "execute_result",
          "data": {
            "text/plain": [
              "(array([ 1,  5,  9, 13, 17]), array([4, 5, 6, 7]))"
            ]
          },
          "metadata": {},
          "execution_count": 175
        }
      ]
    },
    {
      "cell_type": "code",
      "source": [
        "# (3) 3로 나누면 나누어지고 4로 나누면 1이 남는 수 찾기\n",
        "x[(x % 3 == 0) & (x % 4 == 1)], x[(x % 3 == 0) | (x % 4 == 1)]"
      ],
      "metadata": {
        "colab": {
          "base_uri": "https://localhost:8080/"
        },
        "id": "3oXEum9FZIUp",
        "outputId": "7bfc3e37-3e1c-482c-ee85-eba2ff3f08ce"
      },
      "execution_count": null,
      "outputs": [
        {
          "output_type": "execute_result",
          "data": {
            "text/plain": [
              "(array([9]), array([ 1,  3,  5,  6,  9, 12, 13, 15, 17, 18]))"
            ]
          },
          "metadata": {},
          "execution_count": 182
        }
      ]
    },
    {
      "cell_type": "markdown",
      "source": [
        "## 배열 검색"
      ],
      "metadata": {
        "id": "opMRQboTS9M8"
      }
    },
    {
      "cell_type": "code",
      "source": [
        "arr = np.array([1, 2, 3, 4, 5, 4, 4])\n",
        "arr"
      ],
      "metadata": {
        "colab": {
          "base_uri": "https://localhost:8080/"
        },
        "id": "4jLCR2pbTAW1",
        "outputId": "93ef2f5e-6423-4e62-b9d2-f866fda94f51"
      },
      "execution_count": null,
      "outputs": [
        {
          "output_type": "execute_result",
          "data": {
            "text/plain": [
              "array([1, 2, 3, 4, 5, 4, 4])"
            ]
          },
          "metadata": {},
          "execution_count": 178
        }
      ]
    },
    {
      "cell_type": "code",
      "source": [
        "# np.where(배열 비교/논리 연산) -> 조건을 만족시킨 값의 인덱스 반환\n",
        "x = np.where(arr == 4)\n",
        "x"
      ],
      "metadata": {
        "colab": {
          "base_uri": "https://localhost:8080/"
        },
        "id": "0vS_dIMjI8O0",
        "outputId": "b92f1c8d-986a-41b8-ca1b-ce4c2e4daca9"
      },
      "execution_count": null,
      "outputs": [
        {
          "output_type": "execute_result",
          "data": {
            "text/plain": [
              "(array([3, 5, 6]),)"
            ]
          },
          "metadata": {},
          "execution_count": 179
        }
      ]
    },
    {
      "cell_type": "code",
      "source": [
        "arr = np.array(range(1, 9))\n",
        "x = np.where(arr % 2 == 0) # 짝수\n",
        "\n",
        "x, arr[x], arr[arr % 2 == 0] # 다르지만 같은 역할을 하는 코드 이해"
      ],
      "metadata": {
        "colab": {
          "base_uri": "https://localhost:8080/"
        },
        "id": "VvPTrDGnTBo_",
        "outputId": "f58aeb68-ddfb-4fac-a1bf-0de912682c65"
      },
      "execution_count": null,
      "outputs": [
        {
          "output_type": "execute_result",
          "data": {
            "text/plain": [
              "((array([1, 3, 5, 7]),), array([2, 4, 6, 8]), array([2, 4, 6, 8]))"
            ]
          },
          "metadata": {},
          "execution_count": 184
        }
      ]
    }
  ]
}