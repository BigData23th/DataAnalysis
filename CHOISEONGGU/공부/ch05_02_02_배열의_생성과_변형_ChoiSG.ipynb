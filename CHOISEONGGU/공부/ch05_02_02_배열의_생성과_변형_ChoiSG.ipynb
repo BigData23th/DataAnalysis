{
  "nbformat": 4,
  "nbformat_minor": 0,
  "metadata": {
    "colab": {
      "provenance": [],
      "include_colab_link": true
    },
    "kernelspec": {
      "name": "python3",
      "display_name": "Python 3"
    },
    "language_info": {
      "name": "python"
    }
  },
  "cells": [
    {
      "cell_type": "markdown",
      "metadata": {
        "id": "view-in-github",
        "colab_type": "text"
      },
      "source": [
        "<a href=\"https://colab.research.google.com/github/CHOISEONGGU/DataAnalysis_ChoiSG/blob/main/CHOISEONGGU/%EA%B3%B5%EB%B6%80/ch05_02_%EB%B0%B0%EC%97%B4%EC%9D%98_%EC%83%9D%EC%84%B1%EA%B3%BC_%EB%B3%80%ED%98%95_ChoiSG(03.09).ipynb\" target=\"_parent\"><img src=\"https://colab.research.google.com/assets/colab-badge.svg\" alt=\"Open In Colab\"/></a>"
      ]
    },
    {
      "cell_type": "markdown",
      "source": [
        "# 배열의 생성과 변형"
      ],
      "metadata": {
        "id": "_0K1tgYXZdVs"
      }
    },
    {
      "cell_type": "markdown",
      "source": [
        "## Numpy의 자료형\n",
        "* Numpy의 배열 즉, `ndarray` 클래스는 원소가 모두 같은 자료형이어야 함\n",
        "* `array` 명령으로 배열을 만들 때 자료형을 명시적으로(==확실하게) 적용하려면 `dtype` 인수를 사용\n",
        "* 만약 `dtype` 인수가 없으면 주어진 데이터를 저장할 수 있는 자료형을 스스로 유추\n",
        "* 만들어진 배열의 자료형을 알아내려면 `dtype` 속성을 사용 \n"
      ],
      "metadata": {
        "id": "7GRh7kJrpWro"
      }
    },
    {
      "cell_type": "code",
      "source": [
        "import numpy as np\n",
        "\n",
        "x = np.array([1, 2, 3])\n",
        "x.dtype"
      ],
      "metadata": {
        "colab": {
          "base_uri": "https://localhost:8080/"
        },
        "id": "rYTmFQ5fpp7o",
        "outputId": "d7e35549-ec71-46ad-ef8b-12fcae4b781c"
      },
      "execution_count": null,
      "outputs": [
        {
          "output_type": "execute_result",
          "data": {
            "text/plain": [
              "dtype('int64')"
            ]
          },
          "metadata": {},
          "execution_count": 3
        }
      ]
    },
    {
      "cell_type": "code",
      "source": [
        "x = np.array([1.0, 2.0, 3.0])\n",
        "x.dtype"
      ],
      "metadata": {
        "colab": {
          "base_uri": "https://localhost:8080/"
        },
        "id": "d64JSVz2psei",
        "outputId": "2ed658bb-5d48-4f04-9e8a-da72efe235e7"
      },
      "execution_count": null,
      "outputs": [
        {
          "output_type": "execute_result",
          "data": {
            "text/plain": [
              "dtype('float64')"
            ]
          },
          "metadata": {},
          "execution_count": 4
        }
      ]
    },
    {
      "cell_type": "code",
      "source": [
        "x = np.array([1, 2.0, 3])\n",
        "x.dtype   # 넓은 의미인 float가 나온다."
      ],
      "metadata": {
        "colab": {
          "base_uri": "https://localhost:8080/"
        },
        "id": "mFLyII5RpuNJ",
        "outputId": "6be9b543-1b32-4944-bda2-1122f43a5227"
      },
      "execution_count": null,
      "outputs": [
        {
          "output_type": "execute_result",
          "data": {
            "text/plain": [
              "dtype('float64')"
            ]
          },
          "metadata": {},
          "execution_count": 5
        }
      ]
    },
    {
      "cell_type": "markdown",
      "source": [
        "* `dtype` 인수\n",
        "    * dtype 접두사로 시작하는 문자열\n",
        "    * 접두사 뒤 오는 숫자 = 바이트 수 혹은 글자 수\n",
        "    * 숫자 생략 시 운영체제에 따라 알맞은 크기 지정\n",
        "\n",
        "|dtype 접두사|설명|사용 예|\n",
        "|-|-|-|\n",
        "|`b`|불리언|`b` (참 혹은 거짓)|\n",
        "|`i`|정수|`i8` (64비트)|\n",
        "|`u`|부호 없는 정수|`u8` (64비트)|\n",
        "|`f`|부동소수점|`f8` (64비트)|\n",
        "|`c`|복소 부동소수점|`c16` (128비트)|\n",
        "|`O`|객체|`0` (객체에 대한 포인터)|\n",
        "|`S`|바이트 문자열|`S24` (24 글자)|\n",
        "|`U`|유니코드 문자열|`U24` (24 유니코드 글자)|"
      ],
      "metadata": {
        "id": "S6c6HHW7qH9g"
      }
    },
    {
      "cell_type": "code",
      "source": [
        "# x = np.array([1, 2, 3], dtype='f')   # float 값을 'f'로 표현하면 32비트로 저장\n",
        "x = np.array([1, 2, 3], dtype=float)   # float 값을 float로 표현하면 64비트로 저장\n",
        "x.dtype"
      ],
      "metadata": {
        "colab": {
          "base_uri": "https://localhost:8080/"
        },
        "id": "UH6Ui6lLpviT",
        "outputId": "a06c42c7-b016-4ff3-b138-78d35a59419f"
      },
      "execution_count": null,
      "outputs": [
        {
          "output_type": "execute_result",
          "data": {
            "text/plain": [
              "dtype('float64')"
            ]
          },
          "metadata": {},
          "execution_count": 7
        }
      ]
    },
    {
      "cell_type": "code",
      "source": [
        "x[0] + x[1]"
      ],
      "metadata": {
        "colab": {
          "base_uri": "https://localhost:8080/"
        },
        "id": "nKM5M4FYrPTY",
        "outputId": "1066f8b7-d010-46de-c44c-db70bc9c6d17"
      },
      "execution_count": null,
      "outputs": [
        {
          "output_type": "execute_result",
          "data": {
            "text/plain": [
              "3.0"
            ]
          },
          "metadata": {},
          "execution_count": 8
        }
      ]
    },
    {
      "cell_type": "code",
      "source": [
        "x = np.array([1, 2, 3], dtype='U')\n",
        "x.dtype"
      ],
      "metadata": {
        "colab": {
          "base_uri": "https://localhost:8080/"
        },
        "id": "4W-7P_i8rRjf",
        "outputId": "ae34b9a1-814f-46bf-fb30-7b186b7381e0"
      },
      "execution_count": null,
      "outputs": [
        {
          "output_type": "execute_result",
          "data": {
            "text/plain": [
              "dtype('<U1')"
            ]
          },
          "metadata": {},
          "execution_count": 9
        }
      ]
    },
    {
      "cell_type": "code",
      "source": [
        "x[0] + x[1]"
      ],
      "metadata": {
        "colab": {
          "base_uri": "https://localhost:8080/",
          "height": 35
        },
        "id": "5zquUdLsrUBT",
        "outputId": "8922e508-2963-4376-f3fe-5134847ad28a"
      },
      "execution_count": null,
      "outputs": [
        {
          "output_type": "execute_result",
          "data": {
            "text/plain": [
              "'12'"
            ],
            "application/vnd.google.colaboratory.intrinsic+json": {
              "type": "string"
            }
          },
          "metadata": {},
          "execution_count": 10
        }
      ]
    },
    {
      "cell_type": "markdown",
      "source": [
        "## Inf와 NaN\n",
        "* Numpy에서는 무한대를 표현하기 위한 `np.inf`(infinity)와 정의할 수 없는 숫자를 나타내는 `np.nan(not a number)`을 사용\n"
      ],
      "metadata": {
        "id": "NsTbqgCerbwE"
      }
    },
    {
      "cell_type": "code",
      "source": [
        "# 1을 0으로 나누려고 할 때, 0을 0으로 나누려고 시도...\n",
        "np.array([0, 1, -1, 0]) / np.array([1, 0, 0, 0])"
      ],
      "metadata": {
        "colab": {
          "base_uri": "https://localhost:8080/"
        },
        "id": "dLGfAKh1rYxF",
        "outputId": "36063f51-c821-4d4b-f609-fed41f75d0c9"
      },
      "execution_count": null,
      "outputs": [
        {
          "output_type": "stream",
          "name": "stderr",
          "text": [
            "<ipython-input-15-5a47e54a0a88>:2: RuntimeWarning: divide by zero encountered in true_divide\n",
            "  np.array([0, 1, -1, 0]) / np.array([1, 0, 0, 0])\n",
            "<ipython-input-15-5a47e54a0a88>:2: RuntimeWarning: invalid value encountered in true_divide\n",
            "  np.array([0, 1, -1, 0]) / np.array([1, 0, 0, 0])\n"
          ]
        },
        {
          "output_type": "execute_result",
          "data": {
            "text/plain": [
              "array([  0.,  inf, -inf,  nan])"
            ]
          },
          "metadata": {},
          "execution_count": 15
        }
      ]
    },
    {
      "cell_type": "code",
      "source": [
        "# 0에 대한 로그 값을 계산\n",
        "np.log(0)"
      ],
      "metadata": {
        "colab": {
          "base_uri": "https://localhost:8080/"
        },
        "id": "KUc9TR0arwSH",
        "outputId": "e4e2a1cf-872a-4795-8be0-b2839379dabf"
      },
      "execution_count": null,
      "outputs": [
        {
          "output_type": "stream",
          "name": "stderr",
          "text": [
            "<ipython-input-16-cc64fe1345a2>:2: RuntimeWarning: divide by zero encountered in log\n",
            "  np.log(0)\n"
          ]
        },
        {
          "output_type": "execute_result",
          "data": {
            "text/plain": [
              "-inf"
            ]
          },
          "metadata": {},
          "execution_count": 16
        }
      ]
    },
    {
      "cell_type": "markdown",
      "source": [
        "## 배열 생성\n",
        "* `zeros`, `ones`\n",
        "* `zeros_like`, `ones_like`\n",
        "* `empty`\n",
        "* `arange`\n",
        "* `linspace`, `logspace`"
      ],
      "metadata": {
        "id": "Gxql5YN2sIwK"
      }
    },
    {
      "cell_type": "markdown",
      "source": [
        "### zeros : 크기가 정해져 있고 모든 값이 0인 배열 생성"
      ],
      "metadata": {
        "id": "dV6K4rBDso5y"
      }
    },
    {
      "cell_type": "code",
      "source": [
        "# 정수를 넣으면 해당 크기의 0으로 채워진 1차원 배열 생성\n",
        "a = np.zeros(5)    # np.zeros(n)  n갯수만큼 0을 만든다(자리를 만든다)"
      ],
      "metadata": {
        "colab": {
          "base_uri": "https://localhost:8080/"
        },
        "id": "jvBZaBwFr8ie",
        "outputId": "5f92aab4-e95b-49f1-e65f-89ee79159bb7"
      },
      "execution_count": null,
      "outputs": [
        {
          "output_type": "execute_result",
          "data": {
            "text/plain": [
              "array([0., 0., 0., 0., 0.])"
            ]
          },
          "metadata": {},
          "execution_count": 144
        }
      ]
    },
    {
      "cell_type": "code",
      "source": [
        "# 튜플을 넣으면 해당 크기의 0으로 채워진 다차원 배열 생성\n",
        "b = np.zeros((2,3))\n",
        "b"
      ],
      "metadata": {
        "colab": {
          "base_uri": "https://localhost:8080/"
        },
        "id": "wP5UkGKHs0eW",
        "outputId": "6876644e-04b7-4df9-d8a2-72fcd3874a00"
      },
      "execution_count": null,
      "outputs": [
        {
          "output_type": "execute_result",
          "data": {
            "text/plain": [
              "array([[0., 0., 0.],\n",
              "       [0., 0., 0.]])"
            ]
          },
          "metadata": {},
          "execution_count": 18
        }
      ]
    },
    {
      "cell_type": "code",
      "source": [
        "# dtype 인수 명시 시 해당 자료형 원소 타입 부여\n",
        "c = np.zeros((5,2),dtype='i')\n",
        "c"
      ],
      "metadata": {
        "colab": {
          "base_uri": "https://localhost:8080/"
        },
        "id": "hYK-Bdd3tGqJ",
        "outputId": "a7feeaf3-0300-4608-97ea-8d3db6171597"
      },
      "execution_count": null,
      "outputs": [
        {
          "output_type": "execute_result",
          "data": {
            "text/plain": [
              "array([[0, 0],\n",
              "       [0, 0],\n",
              "       [0, 0],\n",
              "       [0, 0],\n",
              "       [0, 0]], dtype=int32)"
            ]
          },
          "metadata": {},
          "execution_count": 19
        }
      ]
    },
    {
      "cell_type": "code",
      "source": [
        "# 문자열 배열도 가능하지만, 모든 원소의 문자열 크기가 같아야 함\n",
        "# 만약 더 큰 크기의 문자열을 할당하면 잘림\n",
        "d = np.zeros(5, dtype='U4')   # 빈 문자로 5개 찬, 배열 -> 배열은 문자열을 넣었을 때, 최대길이 4\n",
        "d"
      ],
      "metadata": {
        "colab": {
          "base_uri": "https://localhost:8080/"
        },
        "id": "wWjlk9M_tPgW",
        "outputId": "99542e76-97f8-429f-c1c7-0ba2b312077a"
      },
      "execution_count": null,
      "outputs": [
        {
          "output_type": "execute_result",
          "data": {
            "text/plain": [
              "array(['', '', '', '', ''], dtype='<U4')"
            ]
          },
          "metadata": {},
          "execution_count": 20
        }
      ]
    },
    {
      "cell_type": "code",
      "source": [
        "d[0] = 'abc'\n",
        "d[1] = 'abcd'\n",
        "d[2] = ('abcd'+'e').upper()   # ABCDE\n",
        "d"
      ],
      "metadata": {
        "colab": {
          "base_uri": "https://localhost:8080/"
        },
        "id": "Fg1GqBuVtZ5O",
        "outputId": "1fbec1a5-cce4-4bba-d389-e47bba371e10"
      },
      "execution_count": null,
      "outputs": [
        {
          "output_type": "execute_result",
          "data": {
            "text/plain": [
              "array(['abc', 'abcd', 'ABCD', '', ''], dtype='<U4')"
            ]
          },
          "metadata": {},
          "execution_count": 22
        }
      ]
    },
    {
      "cell_type": "markdown",
      "source": [
        "### ones : 1로 초기화된 배열을 생성 "
      ],
      "metadata": {
        "id": "0TTeHWMrtdnp"
      }
    },
    {
      "cell_type": "code",
      "source": [
        "e = np.ones((2, 3, 4), dtype='f8')\n",
        "e"
      ],
      "metadata": {
        "colab": {
          "base_uri": "https://localhost:8080/"
        },
        "id": "ZSnn1IK6tk3F",
        "outputId": "70a413ee-bbd8-425e-e389-ede2133d8844"
      },
      "execution_count": null,
      "outputs": [
        {
          "output_type": "execute_result",
          "data": {
            "text/plain": [
              "array([[[1., 1., 1., 1.],\n",
              "        [1., 1., 1., 1.],\n",
              "        [1., 1., 1., 1.]],\n",
              "\n",
              "       [[1., 1., 1., 1.],\n",
              "        [1., 1., 1., 1.],\n",
              "        [1., 1., 1., 1.]]])"
            ]
          },
          "metadata": {},
          "execution_count": 27
        }
      ]
    },
    {
      "cell_type": "markdown",
      "source": [
        "### ones_like, zeros_like : 다른 배열과 같은 크기의 배열을 생성"
      ],
      "metadata": {
        "id": "1hbjOKbxtqr5"
      }
    },
    {
      "cell_type": "code",
      "source": [
        "b"
      ],
      "metadata": {
        "colab": {
          "base_uri": "https://localhost:8080/"
        },
        "id": "MfWJEi0TREKn",
        "outputId": "fcab3cb2-bfc2-4f56-cb7a-206fb7013d88"
      },
      "execution_count": null,
      "outputs": [
        {
          "output_type": "execute_result",
          "data": {
            "text/plain": [
              "array([[0., 0., 0.],\n",
              "       [0., 0., 0.]])"
            ]
          },
          "metadata": {},
          "execution_count": 28
        }
      ]
    },
    {
      "cell_type": "code",
      "source": [
        "f = np.ones_like(b,dtype='f')\n",
        "f"
      ],
      "metadata": {
        "colab": {
          "base_uri": "https://localhost:8080/"
        },
        "id": "xz1U2G5HtnHs",
        "outputId": "e37dea26-a69e-42bb-c5dc-f451dbbc1b34"
      },
      "execution_count": null,
      "outputs": [
        {
          "output_type": "execute_result",
          "data": {
            "text/plain": [
              "array([[1., 1., 1.],\n",
              "       [1., 1., 1.]], dtype=float32)"
            ]
          },
          "metadata": {},
          "execution_count": 31
        }
      ]
    },
    {
      "cell_type": "code",
      "source": [
        "f = np.zeros_like(b,dtype='f')\n",
        "f"
      ],
      "metadata": {
        "colab": {
          "base_uri": "https://localhost:8080/"
        },
        "id": "TB_er-qHRO8z",
        "outputId": "4be46c82-b5bc-4ad9-ec0d-f211a0f80a2c"
      },
      "execution_count": null,
      "outputs": [
        {
          "output_type": "execute_result",
          "data": {
            "text/plain": [
              "array([[0., 0., 0.],\n",
              "       [0., 0., 0.]], dtype=float32)"
            ]
          },
          "metadata": {},
          "execution_count": 32
        }
      ]
    },
    {
      "cell_type": "markdown",
      "source": [
        "### empty : 값 초기화 없이 배열을 생성 (시간 절약)\n",
        "* 기존 메모리에 저장되어 있던 값이 있음\n",
        "* 배열의 원소 값을 미리 알 수 없음"
      ],
      "metadata": {
        "id": "X6MaU-Ikt1Db"
      }
    },
    {
      "cell_type": "code",
      "source": [
        "# 빈공간으로 주소값만 보여준다\n",
        "g = np.empty((4, 3))\n",
        "g"
      ],
      "metadata": {
        "colab": {
          "base_uri": "https://localhost:8080/"
        },
        "id": "ZIhuuGFMtx7K",
        "outputId": "d4df6789-baac-45a7-ac24-3f1497f1153f"
      },
      "execution_count": null,
      "outputs": [
        {
          "output_type": "execute_result",
          "data": {
            "text/plain": [
              "array([[2.89638357e-316, 0.00000000e+000, 0.00000000e+000],\n",
              "       [0.00000000e+000, 0.00000000e+000, 0.00000000e+000],\n",
              "       [0.00000000e+000, 0.00000000e+000, 0.00000000e+000],\n",
              "       [0.00000000e+000, 0.00000000e+000, 0.00000000e+000]])"
            ]
          },
          "metadata": {},
          "execution_count": 33
        }
      ]
    },
    {
      "cell_type": "markdown",
      "source": [
        "### arange : 특정 규칙에 따라 증가하는 수열을 만듦 (like `range`)"
      ],
      "metadata": {
        "id": "9m6UebhOuIB-"
      }
    },
    {
      "cell_type": "code",
      "source": [
        "np.arange(10), np.array(range(10))"
      ],
      "metadata": {
        "colab": {
          "base_uri": "https://localhost:8080/"
        },
        "id": "Y3p1AtW3uhJf",
        "outputId": "3f1cd79d-e283-41a8-a484-be593b19dc47"
      },
      "execution_count": null,
      "outputs": [
        {
          "output_type": "execute_result",
          "data": {
            "text/plain": [
              "(array([0, 1, 2, 3, 4, 5, 6, 7, 8, 9]), array([0, 1, 2, 3, 4, 5, 6, 7, 8, 9]))"
            ]
          },
          "metadata": {},
          "execution_count": 34
        }
      ]
    },
    {
      "cell_type": "code",
      "source": [
        "np.arange(3, 20, 2, dtype='f'), np.array(range(3, 20, 2), dtype='f')"
      ],
      "metadata": {
        "colab": {
          "base_uri": "https://localhost:8080/"
        },
        "id": "6_HAebyLuiXj",
        "outputId": "8c5e177b-9148-4a9c-98b3-b95a93e9d1ab"
      },
      "execution_count": null,
      "outputs": [
        {
          "output_type": "execute_result",
          "data": {
            "text/plain": [
              "(array([ 3.,  5.,  7.,  9., 11., 13., 15., 17., 19.], dtype=float32),\n",
              " array([ 3.,  5.,  7.,  9., 11., 13., 15., 17., 19.], dtype=float32))"
            ]
          },
          "metadata": {},
          "execution_count": 35
        }
      ]
    },
    {
      "cell_type": "markdown",
      "source": [
        "### linspace, logspace : 선형 구간 또는 로그 구간을 지정한 구간의 수만큼 분할"
      ],
      "metadata": {
        "id": "M7XRi-wDuqDT"
      }
    },
    {
      "cell_type": "code",
      "source": [
        "np.linspace(0, 100, 5)   # 선형으로 증가, linspace(시작(포함), 끝(포함), 나누는 갯수)"
      ],
      "metadata": {
        "colab": {
          "base_uri": "https://localhost:8080/"
        },
        "id": "tfvPvI41unpm",
        "outputId": "0fced87b-c998-4cba-8f29-57e694dd1eae"
      },
      "execution_count": null,
      "outputs": [
        {
          "output_type": "execute_result",
          "data": {
            "text/plain": [
              "array([  0.,  25.,  50.,  75., 100.])"
            ]
          },
          "metadata": {},
          "execution_count": 36
        }
      ]
    },
    {
      "cell_type": "code",
      "source": [
        "np.logspace(0.1, 1, 10)"
      ],
      "metadata": {
        "colab": {
          "base_uri": "https://localhost:8080/"
        },
        "id": "GZ1mxlH3u0C9",
        "outputId": "f93f02e4-48d3-4987-907a-c562d043e8e1"
      },
      "execution_count": null,
      "outputs": [
        {
          "output_type": "execute_result",
          "data": {
            "text/plain": [
              "array([ 1.25892541,  1.58489319,  1.99526231,  2.51188643,  3.16227766,\n",
              "        3.98107171,  5.01187234,  6.30957344,  7.94328235, 10.        ])"
            ]
          },
          "metadata": {},
          "execution_count": 37
        }
      ]
    },
    {
      "cell_type": "markdown",
      "source": [
        "## 전치 연산 (transpose)\n",
        "* 2차원 배열에서 행과 열을 바꾸는 작업\n",
        "* 배열의 `T` **속성**"
      ],
      "metadata": {
        "id": "BzGKpxy3y_Bs"
      }
    },
    {
      "cell_type": "code",
      "source": [
        "A = np.array([[1, 2, 3],[4, 5, 6]])\n",
        "A, A.ndim, A.shape"
      ],
      "metadata": {
        "colab": {
          "base_uri": "https://localhost:8080/"
        },
        "id": "zTx1Bpwru2DJ",
        "outputId": "b76559de-7c9b-4ca1-e895-300b321fd9d7"
      },
      "execution_count": null,
      "outputs": [
        {
          "output_type": "execute_result",
          "data": {
            "text/plain": [
              "(array([[1, 2, 3],\n",
              "        [4, 5, 6]]), 2, (2, 3))"
            ]
          },
          "metadata": {},
          "execution_count": 38
        }
      ]
    },
    {
      "cell_type": "code",
      "source": [
        "A2 = A.T\n",
        "A2, A2.ndim, A2.shape"
      ],
      "metadata": {
        "colab": {
          "base_uri": "https://localhost:8080/"
        },
        "id": "si0lOh0ozOKR",
        "outputId": "0cfec8c2-8834-40d2-9caa-c06842ce6fe6"
      },
      "execution_count": null,
      "outputs": [
        {
          "output_type": "execute_result",
          "data": {
            "text/plain": [
              "(array([[1, 4],\n",
              "        [2, 5],\n",
              "        [3, 6]]), 2, (3, 2))"
            ]
          },
          "metadata": {},
          "execution_count": 40
        }
      ]
    },
    {
      "cell_type": "markdown",
      "source": [
        "## 배열의 크기 변형 (`reshape`)"
      ],
      "metadata": {
        "id": "5R9AhngezRwv"
      }
    },
    {
      "cell_type": "code",
      "source": [
        "a = np.arange(12)\n",
        "a"
      ],
      "metadata": {
        "colab": {
          "base_uri": "https://localhost:8080/"
        },
        "id": "NUKMaFSszP-c",
        "outputId": "ebfb13ce-3465-445d-e6ef-38cf2642a8cd"
      },
      "execution_count": null,
      "outputs": [
        {
          "output_type": "execute_result",
          "data": {
            "text/plain": [
              "array([ 0,  1,  2,  3,  4,  5,  6,  7,  8,  9, 10, 11])"
            ]
          },
          "metadata": {},
          "execution_count": 42
        }
      ]
    },
    {
      "cell_type": "code",
      "source": [
        "b = a.reshape(3, 4)\n",
        "b"
      ],
      "metadata": {
        "colab": {
          "base_uri": "https://localhost:8080/"
        },
        "id": "MQIUt2EFzaYT",
        "outputId": "33775379-5ef0-4f00-d86c-ec6e08891431"
      },
      "execution_count": null,
      "outputs": [
        {
          "output_type": "execute_result",
          "data": {
            "text/plain": [
              "array([[ 0,  1,  2,  3],\n",
              "       [ 4,  5,  6,  7],\n",
              "       [ 8,  9, 10, 11]])"
            ]
          },
          "metadata": {},
          "execution_count": 44
        }
      ]
    },
    {
      "cell_type": "code",
      "source": [
        "# 사용하는 원소의 갯수가 정해져 있기 때문에\n",
        "# reshape 명령의 형태 튜플 원소 중 하나는 -1으로 대체 가능\n",
        "# -1을 넣으면 해당 숫자는 다른 값을 통해 계산되어서 사용\n",
        "a.reshape(3,-1)"
      ],
      "metadata": {
        "colab": {
          "base_uri": "https://localhost:8080/"
        },
        "id": "SoT1e8pdzcWs",
        "outputId": "7350950f-8ecd-452e-f3e8-b0fa71161bdf"
      },
      "execution_count": null,
      "outputs": [
        {
          "output_type": "execute_result",
          "data": {
            "text/plain": [
              "array([[ 0,  1,  2,  3],\n",
              "       [ 4,  5,  6,  7],\n",
              "       [ 8,  9, 10, 11]])"
            ]
          },
          "metadata": {},
          "execution_count": 46
        }
      ]
    },
    {
      "cell_type": "code",
      "source": [
        "a.reshape(2, 2, -1)"
      ],
      "metadata": {
        "colab": {
          "base_uri": "https://localhost:8080/"
        },
        "id": "Uhkgvho1zgPR",
        "outputId": "caadbfab-1e91-4556-fbc8-cd1755f94cb7"
      },
      "execution_count": null,
      "outputs": [
        {
          "output_type": "execute_result",
          "data": {
            "text/plain": [
              "array([[[ 0,  1,  2],\n",
              "        [ 3,  4,  5]],\n",
              "\n",
              "       [[ 6,  7,  8],\n",
              "        [ 9, 10, 11]]])"
            ]
          },
          "metadata": {},
          "execution_count": 48
        }
      ]
    },
    {
      "cell_type": "code",
      "source": [
        "a.reshape(2, -1, 2)"
      ],
      "metadata": {
        "colab": {
          "base_uri": "https://localhost:8080/"
        },
        "id": "qCXrkvAFzu03",
        "outputId": "d65cdde4-078a-453f-8f90-57493b40aea8"
      },
      "execution_count": null,
      "outputs": [
        {
          "output_type": "execute_result",
          "data": {
            "text/plain": [
              "array([[[ 0,  1],\n",
              "        [ 2,  3],\n",
              "        [ 4,  5]],\n",
              "\n",
              "       [[ 6,  7],\n",
              "        [ 8,  9],\n",
              "        [10, 11]]])"
            ]
          },
          "metadata": {},
          "execution_count": 49
        }
      ]
    },
    {
      "cell_type": "markdown",
      "source": [
        "## 배열 평탄화 (`flatten`, `ravel`)\n",
        "* 다차원 배열을 1차원으로 변환"
      ],
      "metadata": {
        "id": "PSDbjEhezzIn"
      }
    },
    {
      "cell_type": "code",
      "source": [
        "a.reshape(-1)"
      ],
      "metadata": {
        "colab": {
          "base_uri": "https://localhost:8080/"
        },
        "id": "tlgflVeczwYj",
        "outputId": "4f77c81d-38eb-4561-9310-c7d4c4f51fd9"
      },
      "execution_count": null,
      "outputs": [
        {
          "output_type": "execute_result",
          "data": {
            "text/plain": [
              "array([ 0,  1,  2,  3,  4,  5,  6,  7,  8,  9, 10, 11])"
            ]
          },
          "metadata": {},
          "execution_count": 51
        }
      ]
    },
    {
      "cell_type": "code",
      "source": [
        "a.flatten()"
      ],
      "metadata": {
        "colab": {
          "base_uri": "https://localhost:8080/"
        },
        "id": "b0C9rCOI0CDS",
        "outputId": "32971483-16ac-45c9-b20a-e6226e8ef5c1"
      },
      "execution_count": null,
      "outputs": [
        {
          "output_type": "execute_result",
          "data": {
            "text/plain": [
              "array([ 0,  1,  2,  3,  4,  5,  6,  7,  8,  9, 10, 11])"
            ]
          },
          "metadata": {},
          "execution_count": 53
        }
      ]
    },
    {
      "cell_type": "code",
      "source": [
        "a.ravel()"
      ],
      "metadata": {
        "colab": {
          "base_uri": "https://localhost:8080/"
        },
        "id": "_jFlL_KtUy43",
        "outputId": "9b506e33-4df3-440f-c5e2-a39d04c1ae54"
      },
      "execution_count": null,
      "outputs": [
        {
          "output_type": "execute_result",
          "data": {
            "text/plain": [
              "array([ 0,  1,  2,  3,  4,  5,  6,  7,  8,  9, 10, 11])"
            ]
          },
          "metadata": {},
          "execution_count": 54
        }
      ]
    },
    {
      "cell_type": "markdown",
      "source": [
        "## 같은 배열에 대해 차원만 1차원 증가 (`newaxis`)"
      ],
      "metadata": {
        "id": "co3lWwjG0RUW"
      }
    },
    {
      "cell_type": "code",
      "source": [
        "x = np.arange(5)\n",
        "print(x, x.shape)\n",
        "x2 = x[:, np.newaxis]\n",
        "print(x2, x2.ndim, x2.shape)\n",
        "x3 = x[np.newaxis, :]\n",
        "print(x3, x3.ndim, x3.shape)\n"
      ],
      "metadata": {
        "colab": {
          "base_uri": "https://localhost:8080/"
        },
        "id": "1JpVrcJQ0F7F",
        "outputId": "8fa77aff-fafa-4745-b304-b19670950cfb"
      },
      "execution_count": null,
      "outputs": [
        {
          "output_type": "stream",
          "name": "stdout",
          "text": [
            "[0 1 2 3 4] (5,)\n",
            "[[0]\n",
            " [1]\n",
            " [2]\n",
            " [3]\n",
            " [4]] 2 (5, 1)\n",
            "[[0 1 2 3 4]] 2 (1, 5)\n"
          ]
        }
      ]
    },
    {
      "cell_type": "markdown",
      "source": [
        "## 배열 연결\n",
        "* 행의 수나 열의 수가 같은 두 개 이상의 배열을 연결하여 더 큰 배열을 생성 (concatenate)\n",
        "    * `hstack`\n",
        "    * `vstack`\n",
        "    * `dstack`\n",
        "    * `stack`\n",
        "    * `r_`\n",
        "    * `c_`\n",
        "    * `tile`"
      ],
      "metadata": {
        "id": "Y6xhIji90nZP"
      }
    },
    {
      "cell_type": "markdown",
      "source": [
        "### `concatenate`"
      ],
      "metadata": {
        "id": "QaJc5TOmSJ9H"
      }
    },
    {
      "cell_type": "code",
      "source": [
        "import numpy as np"
      ],
      "metadata": {
        "id": "u5ssp1XlWKc0"
      },
      "execution_count": 11,
      "outputs": []
    },
    {
      "cell_type": "code",
      "source": [
        "arr1 = np.arange(1, 4)\n",
        "arr2 = np.arange(4, 7)\n",
        "print(np.array(list(arr1) + list(arr2)))\n",
        "print(np.concatenate((arr1, arr2)))   # concatenate 사용할 때, tuple or list로 전달해야한다.\n",
        "print(np.concatenate([arr1, arr2]))   # concatenate 사용할 때, tuple or list로 전달해야한다."
      ],
      "metadata": {
        "colab": {
          "base_uri": "https://localhost:8080/"
        },
        "id": "S7QjoUvYSRsk",
        "outputId": "3199c5ec-aee2-4329-dd4f-597ee12f767a"
      },
      "execution_count": 5,
      "outputs": [
        {
          "output_type": "stream",
          "name": "stdout",
          "text": [
            "[1 2 3 4 5 6]\n",
            "[1 2 3 4 5 6]\n"
          ]
        }
      ]
    },
    {
      "cell_type": "code",
      "source": [
        "arr1 = arr1.reshape(3, 1)\n",
        "arr2 = arr2.reshape(3, 1)\n",
        "print(arr1)\n",
        "print(arr2)\n",
        "x1 = print(np.concatenate((arr1, arr2)))   # 행방향 연결\n",
        "print(x1)\n",
        "x2 = print(np.concatenate((arr1, arr2), axis=1))   # 열방향 연결 / axis = 0 : 행, axis = 1 열\n",
        "print(x2)"
      ],
      "metadata": {
        "colab": {
          "base_uri": "https://localhost:8080/"
        },
        "id": "-D4l6nAZW6hs",
        "outputId": "12d15f61-d628-4910-d3bf-7897143776d5"
      },
      "execution_count": 15,
      "outputs": [
        {
          "output_type": "stream",
          "name": "stdout",
          "text": [
            "[[1]\n",
            " [2]\n",
            " [3]]\n",
            "[[4]\n",
            " [5]\n",
            " [6]]\n",
            "[[1]\n",
            " [2]\n",
            " [3]\n",
            " [4]\n",
            " [5]\n",
            " [6]]\n",
            "None\n",
            "[[1 4]\n",
            " [2 5]\n",
            " [3 6]]\n",
            "None\n"
          ]
        }
      ]
    },
    {
      "cell_type": "markdown",
      "source": [
        "### `hstack`\n",
        "* 행의 수가 같은 두 개 이상의 배열을 옆으로 연결하여 열의 수가 더 많은 배열을 만듦\n",
        "* 연결할 배열은 하나의 리스트에 담아야 함"
      ],
      "metadata": {
        "id": "0nGLa9ps1AwQ"
      }
    },
    {
      "cell_type": "code",
      "source": [
        "a1 = np.ones((2, 3))\n",
        "print(a1, a1.ndim, a1.shape)"
      ],
      "metadata": {
        "colab": {
          "base_uri": "https://localhost:8080/"
        },
        "id": "-FzGefiM0YGS",
        "outputId": "4d7c5239-c0ef-4643-a678-323aed98622c"
      },
      "execution_count": 22,
      "outputs": [
        {
          "output_type": "stream",
          "name": "stdout",
          "text": [
            "[[1. 1. 1.]\n",
            " [1. 1. 1.]] 2 (2, 3)\n"
          ]
        }
      ]
    },
    {
      "cell_type": "code",
      "source": [
        "a2 = np.zeros((2, 2))\n",
        "print(a2, a2.ndim, a2.shape)"
      ],
      "metadata": {
        "colab": {
          "base_uri": "https://localhost:8080/"
        },
        "id": "vqAvolzLYttH",
        "outputId": "ff9ab925-88f3-44ec-81e7-5e9761bfaa1d"
      },
      "execution_count": 21,
      "outputs": [
        {
          "output_type": "stream",
          "name": "stdout",
          "text": [
            "[[0. 0.]\n",
            " [0. 0.]] 2 (2, 2)\n"
          ]
        }
      ]
    },
    {
      "cell_type": "code",
      "source": [
        "ha = np.hstack((a1, a2))   # 행(axis=0)으로 합쳐서 열(axis=1)이 변화함\n",
        "print(ha, ha.ndim, ha.shape)"
      ],
      "metadata": {
        "colab": {
          "base_uri": "https://localhost:8080/"
        },
        "id": "l3eiFmFTY1NQ",
        "outputId": "8f97f003-2b87-4863-a5b0-49d6d72e1859"
      },
      "execution_count": 20,
      "outputs": [
        {
          "output_type": "stream",
          "name": "stdout",
          "text": [
            "[[1. 1. 1. 0. 0.]\n",
            " [1. 1. 1. 0. 0.]] 2 (2, 5)\n"
          ]
        }
      ]
    },
    {
      "cell_type": "code",
      "source": [
        "np.concatenate((a1, a2), axis=1)   # 열(axis=1)가 변화함. 행(axis=0)은 그대로"
      ],
      "metadata": {
        "colab": {
          "base_uri": "https://localhost:8080/"
        },
        "id": "f9YqTlONZU6B",
        "outputId": "36e5f146-86a0-43cf-f304-dbc423278431"
      },
      "execution_count": 23,
      "outputs": [
        {
          "output_type": "execute_result",
          "data": {
            "text/plain": [
              "array([[1., 1., 1., 0., 0.],\n",
              "       [1., 1., 1., 0., 0.]])"
            ]
          },
          "metadata": {},
          "execution_count": 23
        }
      ]
    },
    {
      "cell_type": "markdown",
      "source": [
        "### `vstack`\n",
        "* 열의 수가 같은 두 개 이상의 배열을 위아래로 연결하여 행의 수가 더 많은 배열을 만듦\n",
        "* 연결할 배열은 하나의 리스트에 담아야 함"
      ],
      "metadata": {
        "id": "8H5ykHK01SMl"
      }
    },
    {
      "cell_type": "code",
      "source": [
        "b1 = np.ones((2, 3))  # 행 2, 열 3\n",
        "print(b1, b1.ndim, b1.shape)"
      ],
      "metadata": {
        "colab": {
          "base_uri": "https://localhost:8080/"
        },
        "id": "LQ1Oxc_Z1PUS",
        "outputId": "8a44e245-ef2c-4c70-bb15-5ec547888d5d"
      },
      "execution_count": 24,
      "outputs": [
        {
          "output_type": "stream",
          "name": "stdout",
          "text": [
            "[[1. 1. 1.]\n",
            " [1. 1. 1.]] 2 (2, 3)\n"
          ]
        }
      ]
    },
    {
      "cell_type": "code",
      "source": [
        "b2 = np.zeros((3, 3))  # 행 3, 열 3\n",
        "print(b2, b2.ndim, b2.shape)"
      ],
      "metadata": {
        "colab": {
          "base_uri": "https://localhost:8080/"
        },
        "id": "Stzsez-s1abf",
        "outputId": "531f1e13-3eb1-4f3e-edcc-a16b28399d34"
      },
      "execution_count": 25,
      "outputs": [
        {
          "output_type": "stream",
          "name": "stdout",
          "text": [
            "[[0. 0. 0.]\n",
            " [0. 0. 0.]\n",
            " [0. 0. 0.]] 2 (3, 3)\n"
          ]
        }
      ]
    },
    {
      "cell_type": "code",
      "source": [
        "b = np.vstack((b1, b2))   # 열을 기준으로, 행이 합쳐짐(axis=0)\n",
        "print(b, b.ndim, b.shape)"
      ],
      "metadata": {
        "colab": {
          "base_uri": "https://localhost:8080/"
        },
        "id": "4vYmBLCp1dfB",
        "outputId": "0cc3bda3-1301-40e1-e5a4-3da901cdec14"
      },
      "execution_count": 26,
      "outputs": [
        {
          "output_type": "stream",
          "name": "stdout",
          "text": [
            "[[1. 1. 1.]\n",
            " [1. 1. 1.]\n",
            " [0. 0. 0.]\n",
            " [0. 0. 0.]\n",
            " [0. 0. 0.]] 2 (5, 3)\n"
          ]
        }
      ]
    },
    {
      "cell_type": "code",
      "source": [
        "bb = np.concatenate((b1, b2),axis=0)   # 행(axis=0)이 변화함, 열(axis=1)은 그대로"
      ],
      "metadata": {
        "id": "1msgZkPMbYy3"
      },
      "execution_count": 27,
      "outputs": []
    },
    {
      "cell_type": "markdown",
      "source": [
        "### `dstack`\n",
        "* 제3의 축 즉, 행이나 열이 아닌 깊이(depth) 방향으로 배열을 합침\n",
        "* 가장 안쪽의 원소의 차원이 증가, 즉 가장 내부의 숫자 원소가 배열이 됨"
      ],
      "metadata": {
        "id": "nKMjnYqZ2z3V"
      }
    },
    {
      "cell_type": "code",
      "source": [
        "c1 = np.ones((3, 4))\n",
        "c1, c1.ndim, c1.shape"
      ],
      "metadata": {
        "colab": {
          "base_uri": "https://localhost:8080/"
        },
        "id": "RVjrA8fgbrZC",
        "outputId": "a9c8ecf9-d108-4a0a-9776-dff185eaffe5"
      },
      "execution_count": 28,
      "outputs": [
        {
          "output_type": "execute_result",
          "data": {
            "text/plain": [
              "(array([[1., 1., 1., 1.],\n",
              "        [1., 1., 1., 1.],\n",
              "        [1., 1., 1., 1.]]), 2, (3, 4))"
            ]
          },
          "metadata": {},
          "execution_count": 28
        }
      ]
    },
    {
      "cell_type": "code",
      "source": [
        "# c2 = np.zeros((3, 4))\n",
        "c2 = np.zeros_like(c1)\n",
        "c2, c2.ndim, c2.shape"
      ],
      "metadata": {
        "colab": {
          "base_uri": "https://localhost:8080/"
        },
        "id": "FE2X3gjVbyEo",
        "outputId": "54c92519-0b2e-41e3-f91f-93c8ddfdeccb"
      },
      "execution_count": 30,
      "outputs": [
        {
          "output_type": "execute_result",
          "data": {
            "text/plain": [
              "(array([[0., 0., 0., 0.],\n",
              "        [0., 0., 0., 0.],\n",
              "        [0., 0., 0., 0.]]), 2, (3, 4))"
            ]
          },
          "metadata": {},
          "execution_count": 30
        }
      ]
    },
    {
      "cell_type": "code",
      "source": [
        "np.dstack(np.full((4, 4), i) for i in range(10))"
      ],
      "metadata": {
        "colab": {
          "base_uri": "https://localhost:8080/"
        },
        "id": "ub-0nvhgcw9g",
        "outputId": "c13932a5-cbf6-4618-bc90-816375ca02c6"
      },
      "execution_count": 34,
      "outputs": [
        {
          "output_type": "stream",
          "name": "stderr",
          "text": [
            "<ipython-input-34-767b07602d15>:1: FutureWarning: arrays to stack must be passed as a \"sequence\" type such as list or tuple. Support for non-sequence iterables such as generators is deprecated as of NumPy 1.16 and will raise an error in the future.\n",
            "  np.dstack(np.full((4, 4), i) for i in range(10))\n"
          ]
        },
        {
          "output_type": "execute_result",
          "data": {
            "text/plain": [
              "array([[[0, 1, 2, 3, 4, 5, 6, 7, 8, 9],\n",
              "        [0, 1, 2, 3, 4, 5, 6, 7, 8, 9],\n",
              "        [0, 1, 2, 3, 4, 5, 6, 7, 8, 9],\n",
              "        [0, 1, 2, 3, 4, 5, 6, 7, 8, 9]],\n",
              "\n",
              "       [[0, 1, 2, 3, 4, 5, 6, 7, 8, 9],\n",
              "        [0, 1, 2, 3, 4, 5, 6, 7, 8, 9],\n",
              "        [0, 1, 2, 3, 4, 5, 6, 7, 8, 9],\n",
              "        [0, 1, 2, 3, 4, 5, 6, 7, 8, 9]],\n",
              "\n",
              "       [[0, 1, 2, 3, 4, 5, 6, 7, 8, 9],\n",
              "        [0, 1, 2, 3, 4, 5, 6, 7, 8, 9],\n",
              "        [0, 1, 2, 3, 4, 5, 6, 7, 8, 9],\n",
              "        [0, 1, 2, 3, 4, 5, 6, 7, 8, 9]],\n",
              "\n",
              "       [[0, 1, 2, 3, 4, 5, 6, 7, 8, 9],\n",
              "        [0, 1, 2, 3, 4, 5, 6, 7, 8, 9],\n",
              "        [0, 1, 2, 3, 4, 5, 6, 7, 8, 9],\n",
              "        [0, 1, 2, 3, 4, 5, 6, 7, 8, 9]]])"
            ]
          },
          "metadata": {},
          "execution_count": 34
        }
      ]
    },
    {
      "cell_type": "code",
      "source": [
        "cc = np.dstack((c1, c2))\n",
        "cc, cc.ndim, cc.shape"
      ],
      "metadata": {
        "colab": {
          "base_uri": "https://localhost:8080/"
        },
        "id": "pe6btWsjcEM4",
        "outputId": "0e4a5a6a-9213-4fbe-8bb5-da1332082575"
      },
      "execution_count": 31,
      "outputs": [
        {
          "output_type": "execute_result",
          "data": {
            "text/plain": [
              "(array([[[1., 0.],\n",
              "         [1., 0.],\n",
              "         [1., 0.],\n",
              "         [1., 0.]],\n",
              " \n",
              "        [[1., 0.],\n",
              "         [1., 0.],\n",
              "         [1., 0.],\n",
              "         [1., 0.]],\n",
              " \n",
              "        [[1., 0.],\n",
              "         [1., 0.],\n",
              "         [1., 0.],\n",
              "         [1., 0.]]]), 3, (3, 4, 2))"
            ]
          },
          "metadata": {},
          "execution_count": 31
        }
      ]
    },
    {
      "cell_type": "code",
      "source": [
        "# concatenate로는 dstack이 안됨.\n",
        "\n",
        "cc2 = np.concatenate((c1, c2),axis=2)   # 행(axis=0)이 변화함, 열(axis=1)은 그대로"
      ],
      "metadata": {
        "colab": {
          "base_uri": "https://localhost:8080/",
          "height": 245
        },
        "id": "RbonXHczcNzc",
        "outputId": "f6304627-68db-4184-8c3c-a5b31c3fb4c4"
      },
      "execution_count": 32,
      "outputs": [
        {
          "output_type": "error",
          "ename": "AxisError",
          "evalue": "ignored",
          "traceback": [
            "\u001b[0;31m---------------------------------------------------------------------------\u001b[0m",
            "\u001b[0;31mAxisError\u001b[0m                                 Traceback (most recent call last)",
            "\u001b[0;32m<ipython-input-32-2c842d5a7116>\u001b[0m in \u001b[0;36m<module>\u001b[0;34m\u001b[0m\n\u001b[0;32m----> 1\u001b[0;31m \u001b[0mcc2\u001b[0m \u001b[0;34m=\u001b[0m \u001b[0mnp\u001b[0m\u001b[0;34m.\u001b[0m\u001b[0mconcatenate\u001b[0m\u001b[0;34m(\u001b[0m\u001b[0;34m(\u001b[0m\u001b[0mc1\u001b[0m\u001b[0;34m,\u001b[0m \u001b[0mc2\u001b[0m\u001b[0;34m)\u001b[0m\u001b[0;34m,\u001b[0m\u001b[0maxis\u001b[0m\u001b[0;34m=\u001b[0m\u001b[0;36m2\u001b[0m\u001b[0;34m)\u001b[0m   \u001b[0;31m# 행(axis=0)이 변화함, 열(axis=1)은 그대로\u001b[0m\u001b[0;34m\u001b[0m\u001b[0;34m\u001b[0m\u001b[0m\n\u001b[0m",
            "\u001b[0;32m/usr/local/lib/python3.9/dist-packages/numpy/core/overrides.py\u001b[0m in \u001b[0;36mconcatenate\u001b[0;34m(*args, **kwargs)\u001b[0m\n",
            "\u001b[0;31mAxisError\u001b[0m: axis 2 is out of bounds for array of dimension 2"
          ]
        }
      ]
    },
    {
      "cell_type": "markdown",
      "source": [
        "### `stack`\n",
        "* `dstack`의 기능을 확장한 것으로 `dstack`처럼 마지막 차원으로 연결하는 것이 아니라 사용자가 지정한 차원(축으로) 배열을 연결\n",
        "* axis 인수(디폴트 0)를 사용하여 연결후의 회전 방향을 정함\n",
        "* 디폴트 인수값은 0이고 가장 앞쪽에 차원이 생성. 즉, 배열 두 개가 겹치게 되므로 연결하고자 하는 배열들의 크기가 모두 같아야 함"
      ],
      "metadata": {
        "id": "yEWdCKLX3I3h"
      }
    },
    {
      "cell_type": "markdown",
      "source": [
        "* `axis` 인수가 1이면 두번째 차원으로 새로운 차원이 삽입"
      ],
      "metadata": {
        "id": "uT0Z7jm83gnq"
      }
    },
    {
      "cell_type": "code",
      "source": [
        "np_info = lambda arr : (arr, arr.ndim, arr.shape)\n",
        "np_info"
      ],
      "metadata": {
        "colab": {
          "base_uri": "https://localhost:8080/"
        },
        "id": "iSM-mhIMeMOk",
        "outputId": "f8923eb1-214a-4c3b-8026-cbecb2d0717e"
      },
      "execution_count": 37,
      "outputs": [
        {
          "output_type": "execute_result",
          "data": {
            "text/plain": [
              "<function __main__.<lambda>(arr)>"
            ]
          },
          "metadata": {},
          "execution_count": 37
        }
      ]
    },
    {
      "cell_type": "code",
      "source": [
        "c = np.stack([c1, c2], axis = 1)\n",
        "print(np_info(c1))\n",
        "print(np_info(c2))\n",
        "print(np_info(c))"
      ],
      "metadata": {
        "colab": {
          "base_uri": "https://localhost:8080/"
        },
        "id": "ZjoHjPm_3GPQ",
        "outputId": "05e0ab1e-e6f1-45b8-e29f-19946ff36881"
      },
      "execution_count": 41,
      "outputs": [
        {
          "output_type": "stream",
          "name": "stdout",
          "text": [
            "(array([[1., 1., 1., 1.],\n",
            "       [1., 1., 1., 1.],\n",
            "       [1., 1., 1., 1.]]), 2, (3, 4))\n",
            "(array([[0., 0., 0., 0.],\n",
            "       [0., 0., 0., 0.],\n",
            "       [0., 0., 0., 0.]]), 2, (3, 4))\n",
            "(array([[[1., 1., 1., 1.],\n",
            "        [0., 0., 0., 0.]],\n",
            "\n",
            "       [[1., 1., 1., 1.],\n",
            "        [0., 0., 0., 0.]],\n",
            "\n",
            "       [[1., 1., 1., 1.],\n",
            "        [0., 0., 0., 0.]]]), 3, (3, 2, 4))\n"
          ]
        }
      ]
    },
    {
      "cell_type": "code",
      "source": [
        "c = np.stack([c1, c2], axis = 2)\n",
        "print(np_info(c1))\n",
        "print(np_info(c2))\n",
        "print(np_info(c))"
      ],
      "metadata": {
        "colab": {
          "base_uri": "https://localhost:8080/"
        },
        "id": "HAn0Uatn3XYH",
        "outputId": "8fccded5-6616-4b2b-f391-28a6c58f34fc"
      },
      "execution_count": 43,
      "outputs": [
        {
          "output_type": "stream",
          "name": "stdout",
          "text": [
            "(array([[1., 1., 1., 1.],\n",
            "       [1., 1., 1., 1.],\n",
            "       [1., 1., 1., 1.]]), 2, (3, 4))\n",
            "(array([[0., 0., 0., 0.],\n",
            "       [0., 0., 0., 0.],\n",
            "       [0., 0., 0., 0.]]), 2, (3, 4))\n",
            "(array([[[1., 0.],\n",
            "        [1., 0.],\n",
            "        [1., 0.],\n",
            "        [1., 0.]],\n",
            "\n",
            "       [[1., 0.],\n",
            "        [1., 0.],\n",
            "        [1., 0.],\n",
            "        [1., 0.]],\n",
            "\n",
            "       [[1., 0.],\n",
            "        [1., 0.],\n",
            "        [1., 0.],\n",
            "        [1., 0.]]]), 3, (3, 4, 2))\n"
          ]
        }
      ]
    },
    {
      "cell_type": "markdown",
      "source": [
        "### `r_`\n",
        "* `hstack` 명령과 비슷하게 배열을 좌우로 연결\n",
        "* 다만 메서드임에도 불구하고 소괄호(parenthesis, `()`)를 사용하지 않고 인덱싱과 같이 대괄호(bracket, `[]`)를 사용\n",
        "* 이런 특수 메서드를 인덱서(indexer)라고 함"
      ],
      "metadata": {
        "id": "gVqKyGhz3pjP"
      }
    },
    {
      "cell_type": "code",
      "source": [
        "np.r_[np.arange(1, 4), np.arange(4, 7)]   # vstack으로 연결"
      ],
      "metadata": {
        "colab": {
          "base_uri": "https://localhost:8080/"
        },
        "id": "aBl9es9C33Up",
        "outputId": "2949a37f-db24-4128-b45b-650fdfee3901"
      },
      "execution_count": 44,
      "outputs": [
        {
          "output_type": "execute_result",
          "data": {
            "text/plain": [
              "array([1, 2, 3, 4, 5, 6])"
            ]
          },
          "metadata": {},
          "execution_count": 44
        }
      ]
    },
    {
      "cell_type": "code",
      "source": [
        "np.r_[np.arange(1, 5).reshape(2, 2),  np.arange(4, 8).reshape(2, 2)]"
      ],
      "metadata": {
        "colab": {
          "base_uri": "https://localhost:8080/"
        },
        "id": "CV87hyAHfJRY",
        "outputId": "ce9d47c2-6528-4784-8dfd-4cbfd40d114b"
      },
      "execution_count": 45,
      "outputs": [
        {
          "output_type": "execute_result",
          "data": {
            "text/plain": [
              "array([[1, 2],\n",
              "       [3, 4],\n",
              "       [4, 5],\n",
              "       [6, 7]])"
            ]
          },
          "metadata": {},
          "execution_count": 45
        }
      ]
    },
    {
      "cell_type": "markdown",
      "source": [
        "### `c_`\n",
        "* 배열의 차원을 증가시킨 후 좌우로 연결"
      ],
      "metadata": {
        "id": "8vwTXWOH36Wr"
      }
    },
    {
      "cell_type": "code",
      "source": [
        "np.c_[np.arange(1, 4), np.arange(4, 7)]   # newaxis 후 vstack으로 연결"
      ],
      "metadata": {
        "colab": {
          "base_uri": "https://localhost:8080/"
        },
        "id": "Q04oM6d8358d",
        "outputId": "41dd2ca5-a545-4c5b-a211-396f92b0b68d"
      },
      "execution_count": null,
      "outputs": [
        {
          "output_type": "execute_result",
          "data": {
            "text/plain": [
              "array([[1, 4],\n",
              "       [2, 5],\n",
              "       [3, 6]])"
            ]
          },
          "metadata": {},
          "execution_count": 183
        }
      ]
    },
    {
      "cell_type": "markdown",
      "source": [
        "### `tile`\n",
        "* 동일한 배열을 반복하여 연결"
      ],
      "metadata": {
        "id": "FjwjeIjD4CVt"
      }
    },
    {
      "cell_type": "code",
      "source": [
        "a = np.arange(6).reshape(2, -1)\n",
        "np_info(a)   # 우리가 선언하고 지정해놓은 함수."
      ],
      "metadata": {
        "colab": {
          "base_uri": "https://localhost:8080/"
        },
        "id": "s9J7Rlzk4Adf",
        "outputId": "890330a6-13f5-45fd-f09d-0aa57c45cabf"
      },
      "execution_count": 46,
      "outputs": [
        {
          "output_type": "execute_result",
          "data": {
            "text/plain": [
              "(array([[0, 1, 2],\n",
              "        [3, 4, 5]]), 2, (2, 3))"
            ]
          },
          "metadata": {},
          "execution_count": 46
        }
      ]
    },
    {
      "cell_type": "code",
      "source": [
        "np.tile(a, 2)   # hstack 반복"
      ],
      "metadata": {
        "colab": {
          "base_uri": "https://localhost:8080/"
        },
        "id": "9fvArJ-x33q_",
        "outputId": "18be4fb0-46bf-4f2a-aed6-c5ca6029be30"
      },
      "execution_count": 47,
      "outputs": [
        {
          "output_type": "execute_result",
          "data": {
            "text/plain": [
              "array([[0, 1, 2, 0, 1, 2],\n",
              "       [3, 4, 5, 3, 4, 5]])"
            ]
          },
          "metadata": {},
          "execution_count": 47
        }
      ]
    },
    {
      "cell_type": "code",
      "source": [
        "np.tile(a, (2, 3))   # (vstack, hstack)"
      ],
      "metadata": {
        "colab": {
          "base_uri": "https://localhost:8080/"
        },
        "id": "UfIDuWT2ftrh",
        "outputId": "5410045d-78b3-478b-bef4-0552fc255f43"
      },
      "execution_count": 48,
      "outputs": [
        {
          "output_type": "execute_result",
          "data": {
            "text/plain": [
              "array([[0, 1, 2, 0, 1, 2, 0, 1, 2],\n",
              "       [3, 4, 5, 3, 4, 5, 3, 4, 5],\n",
              "       [0, 1, 2, 0, 1, 2, 0, 1, 2],\n",
              "       [3, 4, 5, 3, 4, 5, 3, 4, 5]])"
            ]
          },
          "metadata": {},
          "execution_count": 48
        }
      ]
    },
    {
      "cell_type": "markdown",
      "source": [
        "## 💡 연습문제 4\n",
        "```\n",
        "array([[  0.,   0.,   0.,   1.,   1.],\n",
        "       [  0.,   0.,   0.,   1.,   1.],\n",
        "       [  0.,   0.,   0.,   1.,   1.],\n",
        "       [ 10.,  20.,  30.,  40.,  50.],\n",
        "       [ 60.,  70.,  80.,  90., 100.],\n",
        "       [110., 120., 130., 140., 150.],\n",
        "       [  0.,   0.,   0.,   1.,   1.],\n",
        "       [  0.,   0.,   0.,   1.,   1.],\n",
        "       [  0.,   0.,   0.,   1.,   1.],\n",
        "       [ 10.,  20.,  30.,  40.,  50.],\n",
        "       [ 60.,  70.,  80.,  90., 100.],\n",
        "       [110., 120., 130., 140., 150.]])\n",
        "```"
      ],
      "metadata": {
        "id": "dmnK-qmS4WI7"
      }
    },
    {
      "cell_type": "code",
      "source": [
        "a = np.zeros(3, dtype='f')\n",
        "# a = np.full(3, 0, dtype='f')\n",
        "# a = np.repeat(np.zeros(1, dtype='f'), 3)\n",
        "# a = np.tile(np.zeros(1, dtype='f'), 3)     # 다 같은 결과.\n",
        "a"
      ],
      "metadata": {
        "colab": {
          "base_uri": "https://localhost:8080/"
        },
        "id": "XsNXT2hp4VD5",
        "outputId": "ea757e39-e722-4acc-8896-1b61eda3903f"
      },
      "execution_count": 54,
      "outputs": [
        {
          "output_type": "execute_result",
          "data": {
            "text/plain": [
              "array([0., 0., 0.], dtype=float32)"
            ]
          },
          "metadata": {},
          "execution_count": 54
        }
      ]
    },
    {
      "cell_type": "code",
      "source": [
        "b = np.ones(2, dtype='f')\n",
        "b"
      ],
      "metadata": {
        "colab": {
          "base_uri": "https://localhost:8080/"
        },
        "id": "PcVPz8tS4K8R",
        "outputId": "56a80704-4719-4864-a164-31663875d897"
      },
      "execution_count": 55,
      "outputs": [
        {
          "output_type": "execute_result",
          "data": {
            "text/plain": [
              "array([1., 1.], dtype=float32)"
            ]
          },
          "metadata": {},
          "execution_count": 55
        }
      ]
    },
    {
      "cell_type": "code",
      "source": [
        "# c = np.hstack((a, b))\n",
        "# c = np.concatenate((a, b))\n",
        "c = np.r_[a, b]\n",
        "c"
      ],
      "metadata": {
        "colab": {
          "base_uri": "https://localhost:8080/"
        },
        "id": "_Hls1GFl40iL",
        "outputId": "27005e6e-7413-40b8-efd5-416cf3774244"
      },
      "execution_count": 58,
      "outputs": [
        {
          "output_type": "execute_result",
          "data": {
            "text/plain": [
              "array([0., 0., 0., 1., 1.], dtype=float32)"
            ]
          },
          "metadata": {},
          "execution_count": 58
        }
      ]
    },
    {
      "cell_type": "code",
      "source": [
        "d = np.tile(c, (3, 1))\n",
        "d"
      ],
      "metadata": {
        "colab": {
          "base_uri": "https://localhost:8080/"
        },
        "id": "0OpeTlBl5hlD",
        "outputId": "aac2dd10-4852-4b06-a78c-8ef6cae551c1"
      },
      "execution_count": 60,
      "outputs": [
        {
          "output_type": "execute_result",
          "data": {
            "text/plain": [
              "array([[0., 0., 0., 1., 1.],\n",
              "       [0., 0., 0., 1., 1.],\n",
              "       [0., 0., 0., 1., 1.]], dtype=float32)"
            ]
          },
          "metadata": {},
          "execution_count": 60
        }
      ]
    },
    {
      "cell_type": "code",
      "source": [
        "# e = np.arange(10, 160, 10, dtype='f')\n",
        "# e = np.arange(1, 16, dtype='f') * 10\n",
        "e = (np.arange(15, dtype='f') + 1) * 10\n",
        "e"
      ],
      "metadata": {
        "colab": {
          "base_uri": "https://localhost:8080/"
        },
        "id": "ikThbgRM47u-",
        "outputId": "19999951-1c96-47f8-fae9-68b5371fe791"
      },
      "execution_count": 63,
      "outputs": [
        {
          "output_type": "execute_result",
          "data": {
            "text/plain": [
              "array([ 10.,  20.,  30.,  40.,  50.,  60.,  70.,  80.,  90., 100., 110.,\n",
              "       120., 130., 140., 150.], dtype=float32)"
            ]
          },
          "metadata": {},
          "execution_count": 63
        }
      ]
    },
    {
      "cell_type": "code",
      "source": [
        "# f = e.reshape(3, 5)\n",
        "# f = e.reshape(3, -1)\n",
        "f = e.reshape(-1, 5)\n",
        "f"
      ],
      "metadata": {
        "colab": {
          "base_uri": "https://localhost:8080/"
        },
        "id": "hywi_dO65IAF",
        "outputId": "3a6f303c-00ad-482c-da94-5cdc967c8a86"
      },
      "execution_count": 64,
      "outputs": [
        {
          "output_type": "execute_result",
          "data": {
            "text/plain": [
              "array([[ 10.,  20.,  30.,  40.,  50.],\n",
              "       [ 60.,  70.,  80.,  90., 100.],\n",
              "       [110., 120., 130., 140., 150.]], dtype=float32)"
            ]
          },
          "metadata": {},
          "execution_count": 64
        }
      ]
    },
    {
      "cell_type": "code",
      "source": [
        "# g = np.vstack([d, f])\n",
        "g = np.concatenate([d, f])\n",
        "g"
      ],
      "metadata": {
        "colab": {
          "base_uri": "https://localhost:8080/"
        },
        "id": "Jmo6PnX65MV8",
        "outputId": "d6e25fae-82cb-4889-c621-92e2e56777f7"
      },
      "execution_count": 65,
      "outputs": [
        {
          "output_type": "execute_result",
          "data": {
            "text/plain": [
              "array([[  0.,   0.,   0.,   1.,   1.],\n",
              "       [  0.,   0.,   0.,   1.,   1.],\n",
              "       [  0.,   0.,   0.,   1.,   1.],\n",
              "       [ 10.,  20.,  30.,  40.,  50.],\n",
              "       [ 60.,  70.,  80.,  90., 100.],\n",
              "       [110., 120., 130., 140., 150.]], dtype=float32)"
            ]
          },
          "metadata": {},
          "execution_count": 65
        }
      ]
    },
    {
      "cell_type": "code",
      "source": [
        "h = np.tile(g, (2, 1))\n",
        "h"
      ],
      "metadata": {
        "colab": {
          "base_uri": "https://localhost:8080/"
        },
        "id": "jebGD9A55qQz",
        "outputId": "93ad7d57-0c65-49a4-c929-865f5c1f6a83"
      },
      "execution_count": 66,
      "outputs": [
        {
          "output_type": "execute_result",
          "data": {
            "text/plain": [
              "array([[  0.,   0.,   0.,   1.,   1.],\n",
              "       [  0.,   0.,   0.,   1.,   1.],\n",
              "       [  0.,   0.,   0.,   1.,   1.],\n",
              "       [ 10.,  20.,  30.,  40.,  50.],\n",
              "       [ 60.,  70.,  80.,  90., 100.],\n",
              "       [110., 120., 130., 140., 150.],\n",
              "       [  0.,   0.,   0.,   1.,   1.],\n",
              "       [  0.,   0.,   0.,   1.,   1.],\n",
              "       [  0.,   0.,   0.,   1.,   1.],\n",
              "       [ 10.,  20.,  30.,  40.,  50.],\n",
              "       [ 60.,  70.,  80.,  90., 100.],\n",
              "       [110., 120., 130., 140., 150.]], dtype=float32)"
            ]
          },
          "metadata": {},
          "execution_count": 66
        }
      ]
    },
    {
      "cell_type": "markdown",
      "source": [
        "## 배열 분할"
      ],
      "metadata": {
        "id": "em-51SHsSbTk"
      }
    },
    {
      "cell_type": "code",
      "source": [
        "arr = np.arange(1,7)\n",
        "arr"
      ],
      "metadata": {
        "colab": {
          "base_uri": "https://localhost:8080/"
        },
        "id": "uk4PAWmrSazs",
        "outputId": "ccbaa4d4-6dea-4474-c142-72878d51d731"
      },
      "execution_count": 67,
      "outputs": [
        {
          "output_type": "execute_result",
          "data": {
            "text/plain": [
              "array([1, 2, 3, 4, 5, 6])"
            ]
          },
          "metadata": {},
          "execution_count": 67
        }
      ]
    },
    {
      "cell_type": "code",
      "source": [
        "# newarr = np.array_split(arr, 3)\n",
        "newarr = np.split(arr, 3)   # alias : 별칭\n",
        "newarr"
      ],
      "metadata": {
        "colab": {
          "base_uri": "https://localhost:8080/"
        },
        "id": "VRP98Nxy30eL",
        "outputId": "7d73a505-d9a5-485f-942d-06149644b46e"
      },
      "execution_count": 68,
      "outputs": [
        {
          "output_type": "execute_result",
          "data": {
            "text/plain": [
              "[array([1, 2]), array([3, 4]), array([5, 6])]"
            ]
          },
          "metadata": {},
          "execution_count": 68
        }
      ]
    },
    {
      "cell_type": "code",
      "source": [
        "arr = np.arange(1, 19).reshape(-1, 3)\n",
        "arr"
      ],
      "metadata": {
        "colab": {
          "base_uri": "https://localhost:8080/"
        },
        "id": "xNg4hpOhSlsK",
        "outputId": "e5e31a7d-0bc2-4f4a-ca0c-c38c3956c88d"
      },
      "execution_count": 69,
      "outputs": [
        {
          "output_type": "execute_result",
          "data": {
            "text/plain": [
              "array([[ 1,  2,  3],\n",
              "       [ 4,  5,  6],\n",
              "       [ 7,  8,  9],\n",
              "       [10, 11, 12],\n",
              "       [13, 14, 15],\n",
              "       [16, 17, 18]])"
            ]
          },
          "metadata": {},
          "execution_count": 69
        }
      ]
    },
    {
      "cell_type": "code",
      "source": [
        "# a = np.array_split(arr, 3)   # axis=0 방향\n",
        "a = np.array_split(arr, 3, axis=0)\n",
        "a"
      ],
      "metadata": {
        "colab": {
          "base_uri": "https://localhost:8080/"
        },
        "id": "kO-1-wqC4x4R",
        "outputId": "58919a0b-151c-48e0-aba2-2c25c1bc9191"
      },
      "execution_count": 71,
      "outputs": [
        {
          "output_type": "execute_result",
          "data": {
            "text/plain": [
              "[array([[1, 2, 3],\n",
              "        [4, 5, 6]]), array([[ 7,  8,  9],\n",
              "        [10, 11, 12]]), array([[13, 14, 15],\n",
              "        [16, 17, 18]])]"
            ]
          },
          "metadata": {},
          "execution_count": 71
        }
      ]
    },
    {
      "cell_type": "code",
      "source": [
        "b = np.array_split(arr, 3, axis=1)\n",
        "b"
      ],
      "metadata": {
        "colab": {
          "base_uri": "https://localhost:8080/"
        },
        "id": "l9ApQV134_Oe",
        "outputId": "b31c846e-95e2-438a-cca4-2499bd1cd382"
      },
      "execution_count": 72,
      "outputs": [
        {
          "output_type": "execute_result",
          "data": {
            "text/plain": [
              "[array([[ 1],\n",
              "        [ 4],\n",
              "        [ 7],\n",
              "        [10],\n",
              "        [13],\n",
              "        [16]]), array([[ 2],\n",
              "        [ 5],\n",
              "        [ 8],\n",
              "        [11],\n",
              "        [14],\n",
              "        [17]]), array([[ 3],\n",
              "        [ 6],\n",
              "        [ 9],\n",
              "        [12],\n",
              "        [15],\n",
              "        [18]])]"
            ]
          },
          "metadata": {},
          "execution_count": 72
        }
      ]
    }
  ]
}