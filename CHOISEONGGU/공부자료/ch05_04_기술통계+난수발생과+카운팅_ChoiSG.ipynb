{
  "nbformat": 4,
  "nbformat_minor": 0,
  "metadata": {
    "colab": {
      "provenance": [],
      "include_colab_link": true
    },
    "kernelspec": {
      "name": "python3",
      "display_name": "Python 3"
    },
    "language_info": {
      "name": "python"
    }
  },
  "cells": [
    {
      "cell_type": "markdown",
      "metadata": {
        "id": "view-in-github",
        "colab_type": "text"
      },
      "source": [
        "<a href=\"https://colab.research.google.com/github/CHOISEONGGU/DataAnalysis_ChoiSG/blob/main/CHOISEONGGU/%EA%B3%B5%EB%B6%80%EC%9E%90%EB%A3%8C/ch05_04_%EA%B8%B0%EC%88%A0%ED%86%B5%EA%B3%84%2B%EB%82%9C%EC%88%98%EB%B0%9C%EC%83%9D%EA%B3%BC%2B%EC%B9%B4%EC%9A%B4%ED%8C%85_ChoiSG.ipynb\" target=\"_parent\"><img src=\"https://colab.research.google.com/assets/colab-badge.svg\" alt=\"Open In Colab\"/></a>"
      ]
    },
    {
      "cell_type": "markdown",
      "source": [
        "# 기술 통계"
      ],
      "metadata": {
        "id": "tqxkhX-JFimj"
      }
    },
    {
      "cell_type": "markdown",
      "source": [
        "## 기술 통계(descriptive statistics)\n",
        "> 데이터 집합에 대해 통계를 계산\n",
        "* 데이터의 개수(count)\n",
        "* 평균(mean, average)\n",
        "* 분산(variance)\n",
        "* 표준 편차(standard deviation)\n",
        "* 최댓값(maximum)\n",
        "* 최솟값(minimum)\n",
        "* 중앙값(median)\n",
        "* 사분위수(quartile)"
      ],
      "metadata": {
        "id": "gchQwkseFsUX"
      }
    },
    {
      "cell_type": "code",
      "source": [
        "import numpy as np"
      ],
      "metadata": {
        "id": "jttHEMK4F9XX"
      },
      "execution_count": 1,
      "outputs": []
    },
    {
      "cell_type": "code",
      "source": [
        "x = np.array([\n",
        "    18, 5, 10, 23, 19, -8, 10, 0, 0, 5, 2, 15, 8,\n",
        "    2, 5, 4, 15, -1, 4, -7, -24, 7, 9, -6, 23, -13\n",
        "])\n",
        "x"
      ],
      "metadata": {
        "colab": {
          "base_uri": "https://localhost:8080/"
        },
        "id": "aMTqp3paVLN9",
        "outputId": "fcc19e77-ef39-4194-df67-1073e96da228"
      },
      "execution_count": 2,
      "outputs": [
        {
          "output_type": "execute_result",
          "data": {
            "text/plain": [
              "array([ 18,   5,  10,  23,  19,  -8,  10,   0,   0,   5,   2,  15,   8,\n",
              "         2,   5,   4,  15,  -1,   4,  -7, -24,   7,   9,  -6,  23, -13])"
            ]
          },
          "metadata": {},
          "execution_count": 2
        }
      ]
    },
    {
      "cell_type": "markdown",
      "source": [
        "## 데이터의 개수"
      ],
      "metadata": {
        "id": "5bzioyHoF557"
      }
    },
    {
      "cell_type": "code",
      "source": [
        "len(x)"
      ],
      "metadata": {
        "colab": {
          "base_uri": "https://localhost:8080/"
        },
        "id": "wlTrzCbKFl4j",
        "outputId": "5fac3208-7cca-48a4-efa2-513c57b5c328"
      },
      "execution_count": 6,
      "outputs": [
        {
          "output_type": "execute_result",
          "data": {
            "text/plain": [
              "26"
            ]
          },
          "metadata": {},
          "execution_count": 6
        }
      ]
    },
    {
      "cell_type": "markdown",
      "source": [
        "## 표본 평균\n",
        "* 우리가 일반적으로 아는 평균\n",
        "* 통계용어로는 표본 평균(sample average, sample mean)\n",
        "<br>\n",
        "$\n",
        "\\bar{x} = \\frac{1}{N}\\displaystyle\\sum_{i=1}^{N}{x_i}\n",
        "$\n",
        "(𝑁은 데이터의 개수)"
      ],
      "metadata": {
        "id": "3xe5u1nkGBgM"
      }
    },
    {
      "cell_type": "code",
      "source": [
        "np.mean(x), x.mean()"
      ],
      "metadata": {
        "colab": {
          "base_uri": "https://localhost:8080/"
        },
        "id": "SiQn6qJlF_Y_",
        "outputId": "8793ef34-14c8-4903-e4ac-a5e01f2c4f95"
      },
      "execution_count": 7,
      "outputs": [
        {
          "output_type": "execute_result",
          "data": {
            "text/plain": [
              "(4.8076923076923075, 4.8076923076923075)"
            ]
          },
          "metadata": {},
          "execution_count": 7
        }
      ]
    },
    {
      "cell_type": "markdown",
      "source": [
        "## 표본 분산\n",
        "* 표본 분산(sample variance) : 데이터와 표본 평균간의 거리의 제곱의 평균\n",
        "* 표본 분산이 작으면 데이터가 모여있는 것이고 크면 흩어져 있는 것\n",
        "<br>\n",
        "$\n",
        "s^2 = \\frac{1}{N}\\displaystyle\\sum_{i=1}^{N}{(x_i-\\bar{x})^2}\n",
        "$"
      ],
      "metadata": {
        "id": "sMmBl-uLHWwF"
      }
    },
    {
      "cell_type": "code",
      "source": [
        "np.var(x)"
      ],
      "metadata": {
        "colab": {
          "base_uri": "https://localhost:8080/"
        },
        "id": "ukbJg498HWZG",
        "outputId": "1398d4db-6cc6-424d-90a0-7a126dd59717"
      },
      "execution_count": 8,
      "outputs": [
        {
          "output_type": "execute_result",
          "data": {
            "text/plain": [
              "115.23224852071006"
            ]
          },
          "metadata": {},
          "execution_count": 8
        }
      ]
    },
    {
      "cell_type": "markdown",
      "source": [
        "## 표본 표준편차\n",
        "* 표본 표준편차(sample standard variance) : 표본 분산의 양의 제곱근 값 \n",
        "<br>\n",
        "$\n",
        "s = \\sqrt{s^2}\n",
        "$"
      ],
      "metadata": {
        "id": "ox3H6KB8H4Hd"
      }
    },
    {
      "cell_type": "code",
      "source": [
        "np.std(x)   # std : standard variance"
      ],
      "metadata": {
        "colab": {
          "base_uri": "https://localhost:8080/"
        },
        "id": "ESjtI9K9HP8g",
        "outputId": "91c8c83c-c9d8-4979-cdf6-8145b4021e6b"
      },
      "execution_count": 9,
      "outputs": [
        {
          "output_type": "execute_result",
          "data": {
            "text/plain": [
              "10.734628476137871"
            ]
          },
          "metadata": {},
          "execution_count": 9
        }
      ]
    },
    {
      "cell_type": "markdown",
      "source": [
        "## 최댓값과 최솟값"
      ],
      "metadata": {
        "id": "68MH4LSRINEC"
      }
    },
    {
      "cell_type": "code",
      "source": [
        "# 최댓값 (maximum) / 최솟값 (minimum)\n"
      ],
      "metadata": {
        "colab": {
          "base_uri": "https://localhost:8080/"
        },
        "id": "E-KkdiALIPvE",
        "outputId": "6509289a-3496-4d46-c9b0-276d5a72ecda"
      },
      "execution_count": null,
      "outputs": [
        {
          "output_type": "execute_result",
          "data": {
            "text/plain": [
              "(23, -24)"
            ]
          },
          "metadata": {},
          "execution_count": 298
        }
      ]
    },
    {
      "cell_type": "markdown",
      "source": [
        "## 중앙값\n",
        "* 중앙값(median) : 데이터를 크기대로 정렬하였을 때 가장 가운데에 있는 수\n",
        "* 만약 데이터의 수가 짝수이면 가장 가운데에 있는 두 수의 평균을 사용\n"
      ],
      "metadata": {
        "id": "vGgHFClPIWQV"
      }
    },
    {
      "cell_type": "code",
      "source": [],
      "metadata": {
        "colab": {
          "base_uri": "https://localhost:8080/"
        },
        "id": "LS2P0zPnIUvN",
        "outputId": "48c0005c-bdf8-4fa2-feb2-4218ee060c5f"
      },
      "execution_count": null,
      "outputs": [
        {
          "output_type": "execute_result",
          "data": {
            "text/plain": [
              "5.0"
            ]
          },
          "metadata": {},
          "execution_count": 299
        }
      ]
    },
    {
      "cell_type": "markdown",
      "source": [
        "## 사분위수\n",
        "* 사분위수(quartile) : 데이터를 가장 작은 수부터 가장 큰 수까지 크기가 커지는 순서대로 정렬하였을 때 1/4, 2/4, 3/4 위치에 있는 수\n",
        "* 각각 1사분위수, 2사분위수, 3사분위수라고 함\n",
        "* 1/4의 위치란 전체 데이터의 수가 만약 100개이면 25번째 순서, 즉 하위 25%\n",
        "* 따라서 2사분위수는 중앙값과 같음\n",
        "* 때로는 위치를 1/100 단위로 나눈 백분위수(percentile)을 사용하기도 함\n",
        "* 1사분위수는 25% 백분위수와 같음\n"
      ],
      "metadata": {
        "id": "b1pLnirSIfsI"
      }
    },
    {
      "cell_type": "code",
      "source": [
        "np.percentile(x, 0)   # 최솟값"
      ],
      "metadata": {
        "colab": {
          "base_uri": "https://localhost:8080/"
        },
        "id": "EHTZ62T8Ici8",
        "outputId": "8ce30c4b-da0f-4ffd-b026-c62b49d0483a"
      },
      "execution_count": 11,
      "outputs": [
        {
          "output_type": "execute_result",
          "data": {
            "text/plain": [
              "-24.0"
            ]
          },
          "metadata": {},
          "execution_count": 11
        }
      ]
    },
    {
      "cell_type": "code",
      "source": [
        "np.percentile(x, 25)   # 25% 백분위수, 1사분위수"
      ],
      "metadata": {
        "colab": {
          "base_uri": "https://localhost:8080/"
        },
        "id": "h8tVnPH6Ixcv",
        "outputId": "50db90b7-e1d0-498a-99f4-1c9fbac8bdb4"
      },
      "execution_count": 10,
      "outputs": [
        {
          "output_type": "execute_result",
          "data": {
            "text/plain": [
              "0.0"
            ]
          },
          "metadata": {},
          "execution_count": 10
        }
      ]
    },
    {
      "cell_type": "code",
      "source": [
        "np.percentile(x, 50)   # 50% 백분위수, 2사분위수, 중앙값"
      ],
      "metadata": {
        "colab": {
          "base_uri": "https://localhost:8080/"
        },
        "id": "PuT1HTElIza1",
        "outputId": "3cfc95ef-e181-4e63-b7e1-503e06cbaa5b"
      },
      "execution_count": null,
      "outputs": [
        {
          "output_type": "execute_result",
          "data": {
            "text/plain": [
              "5.0"
            ]
          },
          "metadata": {},
          "execution_count": 302
        }
      ]
    },
    {
      "cell_type": "code",
      "source": [
        "np.percentile(x, 75)   # 75% 백분위수, 3사분위수"
      ],
      "metadata": {
        "colab": {
          "base_uri": "https://localhost:8080/"
        },
        "id": "v7wB_7N_I0zM",
        "outputId": "2775f72d-4095-4ef3-d508-37c7a6c89fa5"
      },
      "execution_count": null,
      "outputs": [
        {
          "output_type": "execute_result",
          "data": {
            "text/plain": [
              "10.0"
            ]
          },
          "metadata": {},
          "execution_count": 303
        }
      ]
    },
    {
      "cell_type": "code",
      "source": [
        "np.percentile(x, 100)   # 100% 백분위수, 최댓값"
      ],
      "metadata": {
        "colab": {
          "base_uri": "https://localhost:8080/"
        },
        "id": "JbCd4SqGI20l",
        "outputId": "68273039-53f9-438e-d48e-f6968d859d56"
      },
      "execution_count": 12,
      "outputs": [
        {
          "output_type": "execute_result",
          "data": {
            "text/plain": [
              "23.0"
            ]
          },
          "metadata": {},
          "execution_count": 12
        }
      ]
    },
    {
      "cell_type": "markdown",
      "source": [
        "# 난수 발생과 카운팅"
      ],
      "metadata": {
        "id": "x1uZuajeI9Si"
      }
    },
    {
      "cell_type": "markdown",
      "source": [
        "## 시드 설정\n",
        "* 컴퓨터 프로그램에서 발생하는 무작위 수는 사실 엄격한 의미의 무작위 수가 아님\n",
        "* 어떤 특정한 시작 숫자를 정해 주면 컴퓨터가 정해진 알고리즘에 의해 마치 난수처럼 보이는 수열을 생성. 이런 시작 숫자를 시드(seed)라고 함\n",
        "* 일단 생성된 난수는 다음번 난수 생성을 위한 시드값이 됨. 따라서 시드값은 한 번만 정해주면 됨.\n",
        "* 시드는 보통 현재 시각 등을 이용하여 자동으로 정해지지만 사람이 수동으로 설정할 수도 있음 * 특정한 시드값이 사용되면 그 다음에 만들어지는 난수들은 모두 예측할 수 있음\n",
        "* 고정된 결과를 얻기 위해서 실습엔 시드를 설정"
      ],
      "metadata": {
        "id": "ZCEj6C5UJHHc"
      }
    },
    {
      "cell_type": "code",
      "source": [
        "np.random.seed(0)   # 시드값 고정 : project할때 seed 고정해놓고 보통 진행한다."
      ],
      "metadata": {
        "id": "R9wwclqfI8_9"
      },
      "execution_count": 13,
      "outputs": []
    },
    {
      "cell_type": "markdown",
      "source": [
        "### `rand` : 0과 1 사이의 난수를 발생"
      ],
      "metadata": {
        "id": "OQRCx_xUJf6l"
      }
    },
    {
      "cell_type": "code",
      "source": [
        "np.random.rand(5) # rand(n) : n개의 길이를 가지는 배열에 각각 0-1 사이의 난수를 채워줌"
      ],
      "metadata": {
        "colab": {
          "base_uri": "https://localhost:8080/"
        },
        "id": "w26duH5TJb7f",
        "outputId": "2da0d0fb-37f1-41cd-a515-e6c41f26702b"
      },
      "execution_count": 20,
      "outputs": [
        {
          "output_type": "execute_result",
          "data": {
            "text/plain": [
              "array([0.6176355 , 0.61209572, 0.616934  , 0.94374808, 0.6818203 ])"
            ]
          },
          "metadata": {},
          "execution_count": 20
        }
      ]
    },
    {
      "cell_type": "code",
      "source": [
        "np.random.rand(10)"
      ],
      "metadata": {
        "colab": {
          "base_uri": "https://localhost:8080/"
        },
        "id": "bnSQUYKVJkl8",
        "outputId": "a637b37b-531b-4f2c-9f53-1af2d0947bc1"
      },
      "execution_count": 21,
      "outputs": [
        {
          "output_type": "execute_result",
          "data": {
            "text/plain": [
              "array([0.3595079 , 0.43703195, 0.6976312 , 0.06022547, 0.66676672,\n",
              "       0.67063787, 0.21038256, 0.1289263 , 0.31542835, 0.36371077])"
            ]
          },
          "metadata": {},
          "execution_count": 21
        }
      ]
    },
    {
      "cell_type": "markdown",
      "source": [
        "## 데이터의 순서 변경"
      ],
      "metadata": {
        "id": "TvJHX9FmJtgQ"
      }
    },
    {
      "cell_type": "markdown",
      "source": [
        "### `shuffle`\n",
        "* 데이터의 순서를 변경\n",
        "* 자체 변환(in-place) 함수 (원본에 영향)"
      ],
      "metadata": {
        "id": "89jdzc8rJyqB"
      }
    },
    {
      "cell_type": "code",
      "source": [
        "x = np.arange(10)\n",
        "x"
      ],
      "metadata": {
        "colab": {
          "base_uri": "https://localhost:8080/"
        },
        "id": "vUHakdiQJpjl",
        "outputId": "0c53dde1-e324-4542-97ad-9d784f703da6"
      },
      "execution_count": 22,
      "outputs": [
        {
          "output_type": "execute_result",
          "data": {
            "text/plain": [
              "array([0, 1, 2, 3, 4, 5, 6, 7, 8, 9])"
            ]
          },
          "metadata": {},
          "execution_count": 22
        }
      ]
    },
    {
      "cell_type": "code",
      "source": [
        "np.random.shuffle(x)\n",
        "x"
      ],
      "metadata": {
        "colab": {
          "base_uri": "https://localhost:8080/"
        },
        "id": "ReqSVnNlJ7S0",
        "outputId": "cb510b95-1180-44de-b039-d6b376749782"
      },
      "execution_count": 36,
      "outputs": [
        {
          "output_type": "execute_result",
          "data": {
            "text/plain": [
              "array([0, 4, 2, 6, 3, 7, 9, 8, 1, 5])"
            ]
          },
          "metadata": {},
          "execution_count": 36
        }
      ]
    },
    {
      "cell_type": "markdown",
      "source": [
        "## 데이터 샘플링\n",
        "* 표본선택 혹은 샘플링(sampling) : 이미 있는 데이터 집합에서 일부를 무작위로 선택하는 것"
      ],
      "metadata": {
        "id": "MbQrSKXMKJAg"
      }
    },
    {
      "cell_type": "markdown",
      "source": [
        "### `choice` : 샘플링에 사용\n",
        "```\n",
        "numpy.random.choice(a, size=None, replace=True, p=None)\n",
        "```\n",
        "* a : 배열이면 원래의 데이터, 정수이면 arange(a) 명령으로 데이터 생성\n",
        "* size : 정수. 샘플 숫자\n",
        "* replace : 불리언. True이면 한번 선택한 데이터를 다시 선택 가능 (복원/비복원 추출)\n",
        "* p : 배열. 각 데이터가 선택될 수 있는 확률"
      ],
      "metadata": {
        "id": "gEkehbizKWrq"
      }
    },
    {
      "cell_type": "code",
      "source": [
        "np.random.choice(5, 5, replace=False)   # 5개 중에 5개를 선택 -> 비복원 -> shuffle\n",
        "# replace -> True : 복원추출 / False : 비복원추출"
      ],
      "metadata": {
        "colab": {
          "base_uri": "https://localhost:8080/"
        },
        "id": "YvjoHXqIJ9KJ",
        "outputId": "516eeb07-9e45-4582-a6f7-458bc199f080"
      },
      "execution_count": 38,
      "outputs": [
        {
          "output_type": "execute_result",
          "data": {
            "text/plain": [
              "array([1, 2, 4, 0, 3])"
            ]
          },
          "metadata": {},
          "execution_count": 38
        }
      ]
    },
    {
      "cell_type": "code",
      "source": [
        "np.random.choice(5, 3, replace=False)   # 5개 중에 3개를 선택 -> 비복원"
      ],
      "metadata": {
        "colab": {
          "base_uri": "https://localhost:8080/"
        },
        "id": "knplEnwIKnYh",
        "outputId": "42f48661-dcd7-4e76-d7af-27c343ec178f"
      },
      "execution_count": 40,
      "outputs": [
        {
          "output_type": "execute_result",
          "data": {
            "text/plain": [
              "array([4, 2, 0])"
            ]
          },
          "metadata": {},
          "execution_count": 40
        }
      ]
    },
    {
      "cell_type": "code",
      "source": [
        "# np.random.choice(5, 10, replace=True) # replace의 default => True 복원 추출\n",
        "np.random.choice(5, 10)"
      ],
      "metadata": {
        "colab": {
          "base_uri": "https://localhost:8080/"
        },
        "id": "4Yd_3i6QKqMw",
        "outputId": "4d173812-fdf7-4ade-dc93-9f780362b3ae"
      },
      "execution_count": 41,
      "outputs": [
        {
          "output_type": "execute_result",
          "data": {
            "text/plain": [
              "array([4, 3, 3, 1, 0, 0, 1, 2, 0, 3])"
            ]
          },
          "metadata": {},
          "execution_count": 41
        }
      ]
    },
    {
      "cell_type": "code",
      "source": [
        "# [ 0, 1, 2, 3, 4 ]\n",
        "np.random.choice(5, 10, p=[0.1, 0, 0.3, 0.6, 0])   # p(percentage) 나올 확률"
      ],
      "metadata": {
        "colab": {
          "base_uri": "https://localhost:8080/"
        },
        "id": "lkbuDYTuKvBN",
        "outputId": "9f966e69-e658-43c1-f8ca-6817d02057fb"
      },
      "execution_count": 46,
      "outputs": [
        {
          "output_type": "execute_result",
          "data": {
            "text/plain": [
              "array([2, 3, 3, 3, 3, 3, 3, 3, 0, 3])"
            ]
          },
          "metadata": {},
          "execution_count": 46
        }
      ]
    },
    {
      "cell_type": "markdown",
      "source": [
        "## 난수 생성\n",
        "* `rand` : 0부터 1 사이의 균일 분포\n",
        "* `randn` : 표준 정규 분포\n",
        "* `randint` : 균일 분포의 정수 난수"
      ],
      "metadata": {
        "id": "D8oZhgNLLCgd"
      }
    },
    {
      "cell_type": "markdown",
      "source": [
        "### `rand` : 0부터 1 사이에서 균일한 확률 분포로 실수 난수를 생성\n",
        "* 숫자 인수는 생성할 난수의 크기\n",
        "* 여러 개의 인수를 넣으면 해당 크기를 가진 행렬을 생성"
      ],
      "metadata": {
        "id": "BcH0M0-_LPMP"
      }
    },
    {
      "cell_type": "code",
      "source": [
        "np.random.rand(10)"
      ],
      "metadata": {
        "colab": {
          "base_uri": "https://localhost:8080/"
        },
        "id": "EWqs3z-zK0k_",
        "outputId": "256caf14-6e0c-4342-8335-44ff75a6cafc"
      },
      "execution_count": 48,
      "outputs": [
        {
          "output_type": "execute_result",
          "data": {
            "text/plain": [
              "array([0.26726254, 0.67909062, 0.86428144, 0.75084425, 0.96448977,\n",
              "       0.55424244, 0.2123905 , 0.22244322, 0.21874937, 0.56957353])"
            ]
          },
          "metadata": {},
          "execution_count": 48
        }
      ]
    },
    {
      "cell_type": "code",
      "source": [
        "np.random.rand(3, 5)"
      ],
      "metadata": {
        "colab": {
          "base_uri": "https://localhost:8080/"
        },
        "id": "DJTNzp8oLbVj",
        "outputId": "6ef3b8c0-de1c-4549-e2dd-46c595746b97"
      },
      "execution_count": 50,
      "outputs": [
        {
          "output_type": "execute_result",
          "data": {
            "text/plain": [
              "array([[0.45210904, 0.97023668, 0.68054469, 0.08529557, 0.05641833],\n",
              "       [0.4878377 , 0.88100456, 0.97640439, 0.61765792, 0.54249878],\n",
              "       [0.85461358, 0.74383455, 0.47859633, 0.67708157, 0.60704506]])"
            ]
          },
          "metadata": {},
          "execution_count": 50
        }
      ]
    },
    {
      "cell_type": "markdown",
      "source": [
        "### `randn` : 기댓값이 0이고 표준편차가 1인 표준 정규 분포(standard normal distribution)를 따르는 난수를 생성"
      ],
      "metadata": {
        "id": "HdWD5uVkLjQt"
      }
    },
    {
      "cell_type": "code",
      "source": [
        "np.random.randn(10)"
      ],
      "metadata": {
        "colab": {
          "base_uri": "https://localhost:8080/"
        },
        "id": "AlJYbewHLeZB",
        "outputId": "fd490e6f-de09-4e1f-9970-12a26b12ae41"
      },
      "execution_count": 51,
      "outputs": [
        {
          "output_type": "execute_result",
          "data": {
            "text/plain": [
              "array([-0.25712774,  1.80981769,  0.8923485 , -0.09657613, -0.37715702,\n",
              "       -0.50529774, -1.36267113,  1.13312703, -0.70068976, -1.7683479 ])"
            ]
          },
          "metadata": {},
          "execution_count": 51
        }
      ]
    },
    {
      "cell_type": "code",
      "source": [
        "np.random.randn(3, 5)"
      ],
      "metadata": {
        "colab": {
          "base_uri": "https://localhost:8080/"
        },
        "id": "gbDMC1OxLt3f",
        "outputId": "49f640b8-7669-4f98-c558-132e13698959"
      },
      "execution_count": 52,
      "outputs": [
        {
          "output_type": "execute_result",
          "data": {
            "text/plain": [
              "array([[ 0.34041728,  0.72924169, -1.08835382, -2.87777873, -0.66147769],\n",
              "       [ 0.70592839, -0.35859784,  0.73198245, -0.03636653,  0.58891422],\n",
              "       [-0.77963481,  0.47633669,  0.83388012,  1.31379269, -0.6017086 ]])"
            ]
          },
          "metadata": {},
          "execution_count": 52
        }
      ]
    },
    {
      "cell_type": "markdown",
      "source": [
        "### `randint`\n",
        "```\n",
        "numpy.random.randint(low, high=None, size=None)\n",
        "```\n",
        "만약 `high`를 입력하지 않으면 0과 `low`사이의 숫자, `high`를 입력하면 `low`와 `high`는 사이의 숫자를 출력. `size`는 난수의 숫자"
      ],
      "metadata": {
        "id": "FDtGkcnjLzTM"
      }
    },
    {
      "cell_type": "code",
      "source": [
        "np.random.randint(10, size=10)"
      ],
      "metadata": {
        "colab": {
          "base_uri": "https://localhost:8080/"
        },
        "id": "H5eTlhBGLy_D",
        "outputId": "14aa7262-6e21-4ed6-fe67-9dab6479982d"
      },
      "execution_count": 53,
      "outputs": [
        {
          "output_type": "execute_result",
          "data": {
            "text/plain": [
              "array([4, 7, 4, 1, 3, 3, 9, 2, 5, 2])"
            ]
          },
          "metadata": {},
          "execution_count": 53
        }
      ]
    },
    {
      "cell_type": "code",
      "source": [
        "np.random.randint(10,20,size=10)"
      ],
      "metadata": {
        "colab": {
          "base_uri": "https://localhost:8080/"
        },
        "id": "xlpHLyNALuyj",
        "outputId": "66968790-d7a3-47f2-c733-6c38562d0b90"
      },
      "execution_count": 56,
      "outputs": [
        {
          "output_type": "execute_result",
          "data": {
            "text/plain": [
              "array([13, 15, 17, 12, 17, 11, 16, 15, 10, 10])"
            ]
          },
          "metadata": {},
          "execution_count": 56
        }
      ]
    },
    {
      "cell_type": "code",
      "source": [],
      "metadata": {
        "colab": {
          "base_uri": "https://localhost:8080/"
        },
        "id": "RwOU04I2ME1f",
        "outputId": "62400551-9f73-4914-bc44-2b7a1c43b002"
      },
      "execution_count": null,
      "outputs": [
        {
          "output_type": "execute_result",
          "data": {
            "text/plain": [
              "array([[18, 10, 14, 19, 16],\n",
              "       [15, 17, 18, 18, 19],\n",
              "       [12, 18, 16, 16, 19]])"
            ]
          },
          "metadata": {},
          "execution_count": 323
        }
      ]
    },
    {
      "cell_type": "markdown",
      "source": [
        "## 💡 연습문제 7\n",
        "1. 동전을 10번 던져 앞면(숫자 1)과 뒷면(숫자 0)이 나오는 가상 실험을 작성하라\n",
        "2. 주사위를 100번 던져서 나오는 숫자의 평균\n",
        "3. 가격이 10,000원인 주식이 있다. 이 주식의 일간 수익률(%)은 기댓값이 0%이고 표준편차가 1%인 표준 정규 분포를 따른다고 하자. 250일 동안의 주가를 무작위로 생성하라"
      ],
      "metadata": {
        "id": "dCofCh17MOVI"
      }
    },
    {
      "cell_type": "code",
      "source": [
        "# 1.\n",
        "np.random.choice([0,1], size=10, replace=True)"
      ],
      "metadata": {
        "colab": {
          "base_uri": "https://localhost:8080/"
        },
        "id": "wSVBjqWJMGJ3",
        "outputId": "1504b1da-b92c-4b04-8228-37acaa36dd65"
      },
      "execution_count": 58,
      "outputs": [
        {
          "output_type": "execute_result",
          "data": {
            "text/plain": [
              "array([0, 0, 1, 0, 1, 0, 1, 0, 1, 1])"
            ]
          },
          "metadata": {},
          "execution_count": 58
        }
      ]
    },
    {
      "cell_type": "code",
      "source": [
        "# 2.\n",
        "np.random.randint(1, 7, 100).mean()\n",
        "np.random.choice(range(1, 7), replace=True).mean()"
      ],
      "metadata": {
        "colab": {
          "base_uri": "https://localhost:8080/"
        },
        "id": "rpstIcwsNB-3",
        "outputId": "4647705b-a214-4acf-eae6-5829dc840cf7"
      },
      "execution_count": 64,
      "outputs": [
        {
          "output_type": "execute_result",
          "data": {
            "text/plain": [
              "3.0"
            ]
          },
          "metadata": {},
          "execution_count": 64
        }
      ]
    },
    {
      "cell_type": "code",
      "source": [
        "# 3.\n",
        "a = np.random.randn(250) / 100  # 일간 수익률의 표준정규분포를 따르는 (0.1%) 수익률 분포"
      ],
      "metadata": {
        "id": "zrCTnmQBNjbm"
      },
      "execution_count": 66,
      "outputs": []
    },
    {
      "cell_type": "code",
      "source": [
        "init = 10000\n",
        "stock = np.empty(250)\n",
        "for i, v in enumerate(a):\n",
        "    init *= (1 + v)\n",
        "    stock[i] = init\n",
        "stock"
      ],
      "metadata": {
        "colab": {
          "base_uri": "https://localhost:8080/"
        },
        "id": "cHDpR2ZJig2G",
        "outputId": "e899c959-c984-4502-b562-f7312a77b63e"
      },
      "execution_count": 67,
      "outputs": [
        {
          "output_type": "execute_result",
          "data": {
            "text/plain": [
              "array([ 9853.78296827,  9837.59769215,  9902.19496672,  9822.85847737,\n",
              "        9741.56594087,  9685.56859062,  9683.55868167,  9572.30529042,\n",
              "        9739.8580282 ,  9855.41348797,  9809.07853333,  9883.61023831,\n",
              "        9855.64017985,  9790.98775388,  9912.60440272,  9767.0322103 ,\n",
              "        9849.57018156,  9792.02993112,  9740.13194055,  9885.02709878,\n",
              "        9826.87795067,  9689.27592207,  9985.50851258, 10018.01534006,\n",
              "       10056.59769663, 10091.19657263,  9979.25341361, 10013.38819962,\n",
              "        9955.62225248, 10068.3936895 , 10118.65170814, 10205.68850329,\n",
              "       10201.32625291, 10193.6571869 , 10176.98271163, 10113.17507478,\n",
              "       10279.68908892, 10268.04472567, 10405.47717005, 10441.45836961,\n",
              "       10500.62352859, 10315.8306975 , 10186.2670329 , 10288.06124863,\n",
              "       10292.19377744, 10344.52690569, 10368.87106038, 10280.26855203,\n",
              "       10337.50663369, 10219.16217891, 10213.80133875, 10270.45190797,\n",
              "       10252.07627357, 10231.21223657, 10271.79869859, 10379.14752103,\n",
              "       10205.56368591, 10263.57886727, 10225.61223929, 10322.71672047,\n",
              "       10320.72460391, 10335.16321988, 10195.97634203, 10073.650404  ,\n",
              "        9959.20008185,  9751.83661419,  9590.65904318,  9656.20007595,\n",
              "        9633.51528125,  9722.18241667,  9813.31620031,  9874.32959621,\n",
              "        9708.35501446,  9772.54838075,  9833.57867627,  9950.59006797,\n",
              "        9882.63132032,  9818.0852357 ,  9860.28009167,  9843.19498999,\n",
              "        9949.56067811,  9661.74035436,  9588.17573465,  9777.55542179,\n",
              "        9885.6887432 ,  9995.73606778,  9995.18380399,  9865.2992276 ,\n",
              "       10031.42321686, 10160.06342139, 10125.14427668, 10007.95756598,\n",
              "        9947.01741005,  9847.3300706 ,  9797.00937478,  9603.85038535,\n",
              "        9699.19210762,  9816.71706891,  9743.85059305,  9850.89133931,\n",
              "        9723.33989672,  9499.60033716,  9751.51198727,  9763.6049619 ,\n",
              "        9852.49241422,  9906.20525153,  9984.46078736, 10004.36374946,\n",
              "        9990.35814697,  9979.06245808,  9948.16800278,  9942.47917273,\n",
              "        9849.25234765,  9793.77052047,  9881.25469061,  9837.76617264,\n",
              "        9748.72328263,  9717.0821944 ,  9744.60953954,  9666.85490051,\n",
              "        9818.30831402,  9928.22033967,  9832.05762241,  9953.30938165,\n",
              "        9864.91686431,  9811.14471451,  9870.84837939,  9785.28889534,\n",
              "        9729.88550215,  9702.98696627,  9495.1450553 ,  9606.3822241 ,\n",
              "        9613.44002098,  9590.53553429,  9622.32894126,  9539.32914755,\n",
              "        9565.3576997 ,  9378.14564767,  9335.75723979,  9318.13395374,\n",
              "        9132.79862808,  9107.98633007,  9121.18695677,  9153.65889262,\n",
              "        9206.28070104,  9209.48642096,  9209.526921  ,  9224.37310325,\n",
              "        9095.41238245,  9002.90775651,  8904.83270499,  8971.68675185,\n",
              "        8986.23149678,  9042.29663498,  9119.19817621,  9191.2591076 ,\n",
              "        9201.43630064,  9300.61927043,  9298.57079831,  9255.23512593,\n",
              "        9305.57630724,  9202.77886206,  9136.17638529,  9294.00992578,\n",
              "        9298.6622518 ,  9301.870756  ,  9215.33510378,  9297.25760011,\n",
              "        9454.88905422,  9453.60058834,  9427.49049912,  9432.70831894,\n",
              "        9531.37519956,  9541.0630782 ,  9594.50861609,  9563.7313639 ,\n",
              "        9507.05049304,  9469.78005754,  9466.42477339,  9436.96895153,\n",
              "        9190.76393819,  9237.74890194,  9101.18538807,  9027.77460273,\n",
              "        9097.58153854,  9235.14356262,  9355.66056718,  9352.56973639,\n",
              "        9464.91945402,  9457.00636222,  9354.33591384,  9235.67457338,\n",
              "        9164.12329338,  9108.89124507,  9074.32069212,  8970.18068871,\n",
              "        8977.59840823,  9069.40049301,  8935.25937   ,  9105.12324229,\n",
              "        9025.60658724,  9018.21821375,  9123.9022546 ,  9122.90456672,\n",
              "        9093.03386104,  9159.59082091,  9109.08033242,  9040.56786834,\n",
              "        8944.61484504,  9005.00291874,  9087.29876964,  9248.82706693,\n",
              "        9295.39298047,  9296.03618037,  9268.02655351,  9259.02659165,\n",
              "        9276.94082931,  9330.44404085,  9242.18454082,  9213.41334425,\n",
              "        9165.75131118,  9170.85360654,  9188.24479069,  8962.66249672,\n",
              "        9007.23500676,  8961.74729825,  8996.34866318,  8954.5138384 ,\n",
              "        8965.23214199,  9012.09798684,  9034.99379182,  8838.30052411,\n",
              "        8870.74022809,  8900.268034  ,  8856.13445032,  8864.46934425,\n",
              "        8898.33501403,  8738.09369781,  8778.53269569,  8765.97864157,\n",
              "        8788.9678471 ,  8797.80571863,  8929.83058515,  8925.59512956,\n",
              "        8859.00383563,  8736.45286165,  8711.34512529,  8548.1688596 ,\n",
              "        8462.15265208,  8444.19905168])"
            ]
          },
          "metadata": {},
          "execution_count": 67
        }
      ]
    },
    {
      "cell_type": "markdown",
      "source": [
        "## 정수 데이터 카운팅\n",
        "* 만약 난수가 정수값이면 unique 명령이나 bincount 명령으로 데이터 값을 분석"
      ],
      "metadata": {
        "id": "zc2junJdO2d8"
      }
    },
    {
      "cell_type": "markdown",
      "source": [
        "### `unique`\n",
        "* unique 함수는 데이터에서 중복된 값을 제거하고 중복되지 않는 값의 리스트를 출력\n",
        "* return_counts 인수를 True 로 설정하면 각 값을 가진 데이터 갯수도 출력\n"
      ],
      "metadata": {
        "id": "NQWG8zU8PJtG"
      }
    },
    {
      "cell_type": "code",
      "source": [
        "# 고유한 값들을 다 분해해서 해석해준다\n",
        "np.unique([11, 11, 2, 2, 34, 34])"
      ],
      "metadata": {
        "colab": {
          "base_uri": "https://localhost:8080/"
        },
        "id": "Zy46ohsVPDJv",
        "outputId": "f98b0c89-ffe0-4dd7-cc0d-dbc831181317"
      },
      "execution_count": 69,
      "outputs": [
        {
          "output_type": "execute_result",
          "data": {
            "text/plain": [
              "array([ 2, 11, 34])"
            ]
          },
          "metadata": {},
          "execution_count": 69
        }
      ]
    },
    {
      "cell_type": "code",
      "source": [
        "a = np.array(['a', 'b', 'b', 'c', 'a'])\n",
        "index, count = np.unique(a, return_counts=True)"
      ],
      "metadata": {
        "id": "9l5BuLbwPPQF"
      },
      "execution_count": 72,
      "outputs": []
    },
    {
      "cell_type": "code",
      "source": [
        "index"
      ],
      "metadata": {
        "colab": {
          "base_uri": "https://localhost:8080/"
        },
        "id": "kMLRdBasPQ4L",
        "outputId": "3302a6f8-7cbe-4063-ef12-49c444ed8bef"
      },
      "execution_count": 73,
      "outputs": [
        {
          "output_type": "execute_result",
          "data": {
            "text/plain": [
              "array(['a', 'b', 'c'], dtype='<U1')"
            ]
          },
          "metadata": {},
          "execution_count": 73
        }
      ]
    },
    {
      "cell_type": "code",
      "source": [
        "count"
      ],
      "metadata": {
        "colab": {
          "base_uri": "https://localhost:8080/"
        },
        "id": "Kpx6OGmoPRi1",
        "outputId": "7964fa58-7040-479a-981b-a73f8ef6d6b8"
      },
      "execution_count": 74,
      "outputs": [
        {
          "output_type": "execute_result",
          "data": {
            "text/plain": [
              "array([2, 2, 1])"
            ]
          },
          "metadata": {},
          "execution_count": 74
        }
      ]
    },
    {
      "cell_type": "code",
      "source": [
        "dict(zip(*np.unique(a, return_counts=True)))"
      ],
      "metadata": {
        "colab": {
          "base_uri": "https://localhost:8080/"
        },
        "id": "pSKXYstljxlt",
        "outputId": "f4b9b274-0c1a-4d42-921b-195bb6ee1d98"
      },
      "execution_count": 75,
      "outputs": [
        {
          "output_type": "execute_result",
          "data": {
            "text/plain": [
              "{'a': 2, 'b': 2, 'c': 1}"
            ]
          },
          "metadata": {},
          "execution_count": 75
        }
      ]
    },
    {
      "cell_type": "markdown",
      "source": [
        "### `bincount`\n",
        "* `unique` 함수는 데이터에 존재하는 값에 대해서만 갯수를 세므로 데이터 값이 나올 수 있음에도 불구하고 데이터가 하나도 없는 경우에는 정보를 주지 않음\n",
        "* 따라서 데이터가 주사위를 던졌을 때 나오는 수처럼 특정 범위안의 수인 경우에는 `bincount` 함수에 `minlength` 인수를 설정하여 쓰는 것이 더 편리\n",
        "* `bincount` 함수는 0 부터 `minlength` - 1 까지의 숫자에 대해 각각 카운트\n",
        "* 데이터가 없을 경우에는 카운트 값이 0이 됨"
      ],
      "metadata": {
        "id": "GihAHqezPWii"
      }
    },
    {
      "cell_type": "code",
      "source": [
        "np.bincount([1, 1, 2, 2, 2, 3], minlength=6)"
      ],
      "metadata": {
        "colab": {
          "base_uri": "https://localhost:8080/"
        },
        "id": "SWLVdyPEPmqk",
        "outputId": "4feb575c-2844-4fc0-813a-7bd50e868656"
      },
      "execution_count": 77,
      "outputs": [
        {
          "output_type": "execute_result",
          "data": {
            "text/plain": [
              "array([0, 2, 3, 1, 0, 0])"
            ]
          },
          "metadata": {},
          "execution_count": 77
        }
      ]
    },
    {
      "cell_type": "code",
      "source": [
        "np.bincount([0, 0, 0, 1, 1, 2, 2, 2, 3, 4, 5, 6, 6, 6, 6], minlength=6)"
      ],
      "metadata": {
        "colab": {
          "base_uri": "https://localhost:8080/"
        },
        "id": "ME-0N2zpkUhK",
        "outputId": "ffa2915e-a05f-45fc-9327-c05f0c507c7b"
      },
      "execution_count": 78,
      "outputs": [
        {
          "output_type": "execute_result",
          "data": {
            "text/plain": [
              "array([3, 2, 3, 1, 1, 1, 4])"
            ]
          },
          "metadata": {},
          "execution_count": 78
        }
      ]
    }
  ]
}