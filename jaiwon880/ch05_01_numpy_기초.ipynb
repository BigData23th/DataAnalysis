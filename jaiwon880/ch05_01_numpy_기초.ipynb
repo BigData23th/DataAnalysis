{
  "nbformat": 4,
  "nbformat_minor": 0,
  "metadata": {
    "colab": {
      "provenance": [],
      "include_colab_link": true
    },
    "kernelspec": {
      "name": "python3",
      "display_name": "Python 3"
    },
    "language_info": {
      "name": "python"
    }
  },
  "cells": [
    {
      "cell_type": "markdown",
      "metadata": {
        "id": "view-in-github",
        "colab_type": "text"
      },
      "source": [
        "<a href=\"https://colab.research.google.com/github/jaiwon880/DataAnalysis_23/blob/main/jaiwon880/ch05_01_numpy_%EA%B8%B0%EC%B4%88.ipynb\" target=\"_parent\"><img src=\"https://colab.research.google.com/assets/colab-badge.svg\" alt=\"Open In Colab\"/></a>"
      ]
    },
    {
      "cell_type": "markdown",
      "source": [
        "# Numpy 기초"
      ],
      "metadata": {
        "id": "3vzkJFqn7psT"
      }
    },
    {
      "cell_type": "markdown",
      "source": [
        "## 배열(Array)\n",
        "* 많은 데이터를 하나의 변수에 넣는 법? : **리스트**\n",
        "* 하지만 리스트는...\n",
        "    * 속도가 느리다\n",
        "    * 메모리를 많이 차지한다\n",
        "\n",
        "> 그래서? **배열(Array)**을 사용한다\n",
        "\n",
        "* 적은 메모리로 많은 데이터를 빠르게 처리할 수 있음"
      ],
      "metadata": {
        "id": "03onuyb58F9z"
      }
    },
    {
      "cell_type": "markdown",
      "source": [
        "## 특징\n",
        "1. 모든 원소가 같은 **자료형**이어야 함\n",
        "2. 원소의 갯수를 바꿀 수 없음\n",
        "\n",
        "> 그런데 파이썬은 자체적으로 배열 자료형을 제공하지 않음<br>\n",
        "> 그래서 우리는 **넘파이(Numpy)** 패키지를 import해서 사용 "
      ],
      "metadata": {
        "id": "TZeeC4KLFqOe"
      }
    },
    {
      "cell_type": "code",
      "execution_count": 2,
      "metadata": {
        "id": "Rzperc7l7h0f"
      },
      "outputs": [],
      "source": [
        "# !pip install numpy\n",
        "import numpy as np"
      ]
    },
    {
      "cell_type": "markdown",
      "source": [
        "## 1차원 배열\n",
        "* 리스트나 튜플처럼 한 줄로 이루어진 형태의 배열"
      ],
      "metadata": {
        "id": "_HHBBVwc9IZS"
      }
    },
    {
      "cell_type": "code",
      "source": [
        "np.array([1,2,3]) # 데이터 값들이 겹쳐져 있다"
      ],
      "metadata": {
        "colab": {
          "base_uri": "https://localhost:8080/"
        },
        "id": "HLr3CcZ-9dXj",
        "outputId": "105bd4a1-c36e-4e8e-9d39-200257eaae91"
      },
      "execution_count": 3,
      "outputs": [
        {
          "output_type": "execute_result",
          "data": {
            "text/plain": [
              "array([1, 2, 3])"
            ]
          },
          "metadata": {},
          "execution_count": 3
        }
      ]
    },
    {
      "cell_type": "code",
      "source": [
        "arr = np.array(range(10))\n",
        "type(arr)"
      ],
      "metadata": {
        "colab": {
          "base_uri": "https://localhost:8080/"
        },
        "id": "a1Gxzmom9oP8",
        "outputId": "fafc1d94-9443-4743-b510-c3fa2b9d7389"
      },
      "execution_count": 8,
      "outputs": [
        {
          "output_type": "execute_result",
          "data": {
            "text/plain": [
              "numpy.ndarray"
            ]
          },
          "metadata": {},
          "execution_count": 8
        }
      ]
    },
    {
      "cell_type": "markdown",
      "source": [
        "## ndarray\n",
        "* 배열 객체 타입(자료형)\n",
        "* 리스트와 동일해 보이지만 차이가 많음\n",
        "\n",
        "|자료형|특징|\n",
        "|:-|:-|\n",
        "|리스트(list)|각각의 원소가 다른 자료형이 될 수 있음|\n",
        "|배열(array)|연속적인 메모리 배치를 가지기 때문에 모든 원소가 같은 자료형이어야 함<br>원소에 대한 접근과 반복문 실행이 빨라짐|"
      ],
      "metadata": {
        "id": "RbEkqhfu9xc_"
      }
    },
    {
      "cell_type": "code",
      "source": [
        "import random\n",
        "def average_python(n):\n",
        "\n",
        "  '''\n",
        "  n개의 랜덤한 0~1개의 실수를 평균해주는 함수\n",
        "  '''\n",
        "  \n",
        "  s = 0\n",
        "  for i in range(n):\n",
        "    s += random.random()\n",
        "    return s/n"
      ],
      "metadata": {
        "id": "Vm0w-m5Z-coU"
      },
      "execution_count": 9,
      "outputs": []
    },
    {
      "cell_type": "code",
      "source": [
        "%time average_python(100_000)"
      ],
      "metadata": {
        "colab": {
          "base_uri": "https://localhost:8080/"
        },
        "id": "Bvc-p4F-_sNW",
        "outputId": "8236e22f-05fe-40d5-9969-9d3cb47f142b"
      },
      "execution_count": 10,
      "outputs": [
        {
          "output_type": "stream",
          "name": "stdout",
          "text": [
            "CPU times: user 14 µs, sys: 1 µs, total: 15 µs\n",
            "Wall time: 18.1 µs\n"
          ]
        },
        {
          "output_type": "execute_result",
          "data": {
            "text/plain": [
              "8.941375744827372e-06"
            ]
          },
          "metadata": {},
          "execution_count": 10
        }
      ]
    },
    {
      "cell_type": "code",
      "source": [
        "%timeit average_python(100_000) # 여러번 반복(loop) 하기"
      ],
      "metadata": {
        "colab": {
          "base_uri": "https://localhost:8080/"
        },
        "id": "QOz2rCJ_C0-U",
        "outputId": "d042b45c-c813-452a-aa6e-6fbd1768a272"
      },
      "execution_count": 11,
      "outputs": [
        {
          "output_type": "stream",
          "name": "stdout",
          "text": [
            "487 ns ± 8.46 ns per loop (mean ± std. dev. of 7 runs, 1000000 loops each)\n"
          ]
        }
      ]
    },
    {
      "cell_type": "code",
      "source": [
        "def average_python(n):\n",
        "  'n개의 랜덤한 0~1개의 실수를 평균해주는 함수'\n",
        "  s = np.random.random(n)\n",
        "  return s.mean()"
      ],
      "metadata": {
        "id": "_rfwW6Ge_tKu"
      },
      "execution_count": 12,
      "outputs": []
    },
    {
      "cell_type": "code",
      "source": [
        "%time average_python(100_000)"
      ],
      "metadata": {
        "colab": {
          "base_uri": "https://localhost:8080/"
        },
        "id": "we169OAyBEXx",
        "outputId": "05c30a8e-8f3a-4285-ba41-0d54e107da2d"
      },
      "execution_count": 13,
      "outputs": [
        {
          "output_type": "stream",
          "name": "stdout",
          "text": [
            "CPU times: user 2.68 ms, sys: 0 ns, total: 2.68 ms\n",
            "Wall time: 2.69 ms\n"
          ]
        },
        {
          "output_type": "execute_result",
          "data": {
            "text/plain": [
              "0.4998318872220771"
            ]
          },
          "metadata": {},
          "execution_count": 13
        }
      ]
    },
    {
      "cell_type": "code",
      "source": [
        "%timeit average_python(100_000) # 여러번 반복(loop) 하기"
      ],
      "metadata": {
        "colab": {
          "base_uri": "https://localhost:8080/"
        },
        "id": "L8ugxO3OC5u6",
        "outputId": "ca3a2c93-6f0a-4317-9964-f3806fffc8d4"
      },
      "execution_count": 14,
      "outputs": [
        {
          "output_type": "stream",
          "name": "stdout",
          "text": [
            "1.13 ms ± 271 µs per loop (mean ± std. dev. of 7 runs, 1000 loops each)\n"
          ]
        }
      ]
    },
    {
      "cell_type": "markdown",
      "source": [
        "## 벡터화 연산\n",
        "* 배열 객체는 **배열의 각 원소에 대한 반복 연산을 하나의 명령어로 처리**하는 벡터화 연산(vectorized operation)을 지원"
      ],
      "metadata": {
        "id": "YpE_nZs6DNUs"
      }
    },
    {
      "cell_type": "code",
      "source": [
        "data = list(range(10))\n",
        "data"
      ],
      "metadata": {
        "colab": {
          "base_uri": "https://localhost:8080/"
        },
        "id": "4nAs9lrhDgsY",
        "outputId": "6042e015-23ef-40dc-d3be-ce3a8d6b1a6a"
      },
      "execution_count": 16,
      "outputs": [
        {
          "output_type": "execute_result",
          "data": {
            "text/plain": [
              "[0, 1, 2, 3, 4, 5, 6, 7, 8, 9]"
            ]
          },
          "metadata": {},
          "execution_count": 16
        }
      ]
    },
    {
      "cell_type": "code",
      "source": [
        "data * 2"
      ],
      "metadata": {
        "colab": {
          "base_uri": "https://localhost:8080/"
        },
        "id": "yNU27RfjvqPF",
        "outputId": "792b357e-2ab1-4339-a7f0-ded47dea1b6b"
      },
      "execution_count": 17,
      "outputs": [
        {
          "output_type": "execute_result",
          "data": {
            "text/plain": [
              "[0, 1, 2, 3, 4, 5, 6, 7, 8, 9, 0, 1, 2, 3, 4, 5, 6, 7, 8, 9]"
            ]
          },
          "metadata": {},
          "execution_count": 17
        }
      ]
    },
    {
      "cell_type": "code",
      "source": [
        "# 여러 개의 데이터를 모두 2배 할 때 (파이썬)\n",
        "%%time\n",
        "answer =[]\n",
        "for v in data:\n",
        "  answer.append(v*2)\n",
        "answer"
      ],
      "metadata": {
        "colab": {
          "base_uri": "https://localhost:8080/"
        },
        "id": "YMMhJLA9Dnjt",
        "outputId": "c7c8f4b2-9d7c-4606-ecde-9ef13b7708a3"
      },
      "execution_count": 19,
      "outputs": [
        {
          "output_type": "stream",
          "name": "stdout",
          "text": [
            "CPU times: user 29 µs, sys: 0 ns, total: 29 µs\n",
            "Wall time: 33.4 µs\n"
          ]
        },
        {
          "output_type": "execute_result",
          "data": {
            "text/plain": [
              "[0, 2, 4, 6, 8, 10, 12, 14, 16, 18]"
            ]
          },
          "metadata": {},
          "execution_count": 19
        }
      ]
    },
    {
      "cell_type": "code",
      "source": [
        "%%timeit\n",
        "answer =[]\n",
        "for v in data:\n",
        "  answer.append(v*2)\n",
        "answer"
      ],
      "metadata": {
        "colab": {
          "base_uri": "https://localhost:8080/"
        },
        "id": "FnKY0N2Kvx5y",
        "outputId": "d1005bb1-c1b1-4c6f-fa40-5b91fc2a6319"
      },
      "execution_count": 20,
      "outputs": [
        {
          "output_type": "stream",
          "name": "stdout",
          "text": [
            "1.27 µs ± 295 ns per loop (mean ± std. dev. of 7 runs, 1000000 loops each)\n"
          ]
        }
      ]
    },
    {
      "cell_type": "code",
      "source": [
        "# 리스트 컴프리헨션\n",
        "%%time\n",
        "[v*2 for v in data]"
      ],
      "metadata": {
        "colab": {
          "base_uri": "https://localhost:8080/"
        },
        "id": "SHzLz6ghEKIY",
        "outputId": "21be7eec-0bea-48e3-f1db-e5676b138d30"
      },
      "execution_count": 23,
      "outputs": [
        {
          "output_type": "stream",
          "name": "stdout",
          "text": [
            "CPU times: user 5 µs, sys: 0 ns, total: 5 µs\n",
            "Wall time: 7.63 µs\n"
          ]
        },
        {
          "output_type": "execute_result",
          "data": {
            "text/plain": [
              "[0, 2, 4, 6, 8, 10, 12, 14, 16, 18]"
            ]
          },
          "metadata": {},
          "execution_count": 23
        }
      ]
    },
    {
      "cell_type": "code",
      "source": [
        "%%timeit\n",
        "[v*2 for v in data]"
      ],
      "metadata": {
        "colab": {
          "base_uri": "https://localhost:8080/"
        },
        "id": "S8RC4VLvv-9N",
        "outputId": "62037f2a-a1bf-4df4-f749-ebcb5e181885"
      },
      "execution_count": 24,
      "outputs": [
        {
          "output_type": "stream",
          "name": "stdout",
          "text": [
            "992 ns ± 322 ns per loop (mean ± std. dev. of 7 runs, 1000000 loops each)\n"
          ]
        }
      ]
    },
    {
      "cell_type": "code",
      "source": [
        "# 벡터화 연산\n",
        "arr = np.array(data)\n",
        "arr"
      ],
      "metadata": {
        "colab": {
          "base_uri": "https://localhost:8080/"
        },
        "id": "8uD4qG7yEUlU",
        "outputId": "0ced843c-07bb-4e68-fa07-994505cdb544"
      },
      "execution_count": 25,
      "outputs": [
        {
          "output_type": "execute_result",
          "data": {
            "text/plain": [
              "array([0, 1, 2, 3, 4, 5, 6, 7, 8, 9])"
            ]
          },
          "metadata": {},
          "execution_count": 25
        }
      ]
    },
    {
      "cell_type": "code",
      "source": [
        "# 리스트 객체에 정수를 곱하면 객체의 크기가 해당 정수 배만큼 증가\n",
        "\n",
        "arr * 2"
      ],
      "metadata": {
        "colab": {
          "base_uri": "https://localhost:8080/"
        },
        "id": "Di07DfgYEaUp",
        "outputId": "6f41241c-b91a-4277-8ba4-099bb0e93f8f"
      },
      "execution_count": 26,
      "outputs": [
        {
          "output_type": "execute_result",
          "data": {
            "text/plain": [
              "array([ 0,  2,  4,  6,  8, 10, 12, 14, 16, 18])"
            ]
          },
          "metadata": {},
          "execution_count": 26
        }
      ]
    },
    {
      "cell_type": "code",
      "source": [
        "%timeit arr * 2"
      ],
      "metadata": {
        "colab": {
          "base_uri": "https://localhost:8080/"
        },
        "id": "DbYYmufzwpzA",
        "outputId": "d5025508-213e-4c40-d40e-cb5c01f72125"
      },
      "execution_count": 27,
      "outputs": [
        {
          "output_type": "stream",
          "name": "stdout",
          "text": [
            "1.12 µs ± 43.2 ns per loop (mean ± std. dev. of 7 runs, 1000000 loops each)\n"
          ]
        }
      ]
    },
    {
      "cell_type": "markdown",
      "source": [
        "* 벡터화 연산은 비교 연산과 논리 연산을 포함한 모든 종류의 수학 연산에 대해 적용"
      ],
      "metadata": {
        "id": "zQ1rWyKGExLh"
      }
    },
    {
      "cell_type": "code",
      "source": [
        "a = np.array(range(1,4))\n",
        "b = np.array(range(10, 40, 10))\n",
        "a, b"
      ],
      "metadata": {
        "colab": {
          "base_uri": "https://localhost:8080/"
        },
        "id": "Ln3pwEyLFA1n",
        "outputId": "ab67440c-717c-4796-fa62-8dcb32276006"
      },
      "execution_count": 28,
      "outputs": [
        {
          "output_type": "execute_result",
          "data": {
            "text/plain": [
              "(array([1, 2, 3]), array([10, 20, 30]))"
            ]
          },
          "metadata": {},
          "execution_count": 28
        }
      ]
    },
    {
      "cell_type": "code",
      "source": [
        "a*2+b # 산술 연산"
      ],
      "metadata": {
        "colab": {
          "base_uri": "https://localhost:8080/"
        },
        "id": "zGfFqMi6FFZr",
        "outputId": "9199d026-d8fb-4733-c469-0fd8f52bbf7a"
      },
      "execution_count": 31,
      "outputs": [
        {
          "output_type": "execute_result",
          "data": {
            "text/plain": [
              "array([12, 24, 36])"
            ]
          },
          "metadata": {},
          "execution_count": 31
        }
      ]
    },
    {
      "cell_type": "code",
      "source": [
        "a == 2 # 비교 연산"
      ],
      "metadata": {
        "colab": {
          "base_uri": "https://localhost:8080/"
        },
        "id": "Sk7v0Zc2FNVn",
        "outputId": "143b0dd8-2147-4647-c6ad-accc550d7ffd"
      },
      "execution_count": 32,
      "outputs": [
        {
          "output_type": "execute_result",
          "data": {
            "text/plain": [
              "array([False,  True, False])"
            ]
          },
          "metadata": {},
          "execution_count": 32
        }
      ]
    },
    {
      "cell_type": "code",
      "source": [
        "(a == 2) & (b > 10)"
      ],
      "metadata": {
        "colab": {
          "base_uri": "https://localhost:8080/"
        },
        "id": "TKIf8dFnFSdh",
        "outputId": "02172eeb-e301-45f1-ee86-8ce4277033a7"
      },
      "execution_count": 33,
      "outputs": [
        {
          "output_type": "execute_result",
          "data": {
            "text/plain": [
              "array([False,  True, False])"
            ]
          },
          "metadata": {},
          "execution_count": 33
        }
      ]
    },
    {
      "cell_type": "markdown",
      "source": [
        "## 2차원 배열\n",
        "* `ndarray`는 N-dimensional Array의 약자, 즉 1차원 배열 이외에도 2차원 배열, 3차원 배열 등의 다차원 배열 자료 구조를 지원\n",
        "* 2차원 배열 = 행렬 (matrix)\n",
        "* 가로줄 : 행(row), 세로줄 : 열(column)\n",
        "> 엑셀 스프레드시트와 같은 형태의 배열\n",
        "\n",
        "* 리스트의 리스트(list of list)를 이용하여 2차원 배열 생성\n",
        "    * 안쪽 리스트의 길이 : 행렬의 열의 수 (가로 크기)\n",
        "    * 바깥쪽 리스트의 길이 : 행렬의 행의 수 (세로 크기)"
      ],
      "metadata": {
        "id": "6E8zYWggFjXD"
      }
    },
    {
      "cell_type": "code",
      "source": [
        "arr = np.array([[0, 1, 2], [3, 4, 5]])\n",
        "arr"
      ],
      "metadata": {
        "colab": {
          "base_uri": "https://localhost:8080/"
        },
        "id": "mvYB4aigFaBi",
        "outputId": "79350764-072b-46cd-a077-f20df3178cc3"
      },
      "execution_count": 38,
      "outputs": [
        {
          "output_type": "execute_result",
          "data": {
            "text/plain": [
              "array([[0, 1, 2],\n",
              "       [3, 4, 5]])"
            ]
          },
          "metadata": {},
          "execution_count": 38
        }
      ]
    },
    {
      "cell_type": "code",
      "source": [
        "# 행의 갯수, 열의 갯수\n",
        "len(arr), len(arr[0])"
      ],
      "metadata": {
        "colab": {
          "base_uri": "https://localhost:8080/"
        },
        "id": "PIzWbLy42MLT",
        "outputId": "da656e9e-1a06-4d4a-e041-c9a2ec86d095"
      },
      "execution_count": 42,
      "outputs": [
        {
          "output_type": "execute_result",
          "data": {
            "text/plain": [
              "(2, 4)"
            ]
          },
          "metadata": {},
          "execution_count": 42
        }
      ]
    },
    {
      "cell_type": "markdown",
      "source": [
        "## 💡 연습문제 1\n",
        "> 아래 모양의 행렬 만들어 보기\n",
        "```\n",
        "10 20 30 40\n",
        "50 60 70 80\n",
        "```"
      ],
      "metadata": {
        "id": "mvQeMqWwIxGe"
      }
    },
    {
      "cell_type": "code",
      "source": [
        "arr = np.array([[10,20,30,40],\n",
        "               [50,60,70,80]])\n",
        "arr"
      ],
      "metadata": {
        "colab": {
          "base_uri": "https://localhost:8080/"
        },
        "id": "_4AEiANZI6CN",
        "outputId": "05cab4b1-7e07-43f6-cde6-ed58028ddda6"
      },
      "execution_count": 41,
      "outputs": [
        {
          "output_type": "execute_result",
          "data": {
            "text/plain": [
              "array([[10, 20, 30, 40],\n",
              "       [50, 60, 70, 80]])"
            ]
          },
          "metadata": {},
          "execution_count": 41
        }
      ]
    },
    {
      "cell_type": "code",
      "source": [
        "np.array([[1,2,3,4],\n",
        "               [5,6,7,8]])* 10\n"
      ],
      "metadata": {
        "colab": {
          "base_uri": "https://localhost:8080/"
        },
        "id": "3KDk77KCJFvH",
        "outputId": "bdbddd08-cbc1-42a4-b97e-e79f092225dc"
      },
      "execution_count": 44,
      "outputs": [
        {
          "output_type": "execute_result",
          "data": {
            "text/plain": [
              "array([[10, 20, 30, 40],\n",
              "       [50, 60, 70, 80]])"
            ]
          },
          "metadata": {},
          "execution_count": 44
        }
      ]
    },
    {
      "cell_type": "code",
      "source": [
        "np.arange(10, 90, 10).reshape(2, 4)"
      ],
      "metadata": {
        "colab": {
          "base_uri": "https://localhost:8080/"
        },
        "id": "_Tq8SojU3zZu",
        "outputId": "f07ea981-7082-4c6b-ff7c-ec45d70f55b3"
      },
      "execution_count": 46,
      "outputs": [
        {
          "output_type": "execute_result",
          "data": {
            "text/plain": [
              "array([[10, 20, 30, 40],\n",
              "       [50, 60, 70, 80]])"
            ]
          },
          "metadata": {},
          "execution_count": 46
        }
      ]
    },
    {
      "cell_type": "markdown",
      "source": [
        "## 3차원 배열"
      ],
      "metadata": {
        "id": "OrnOIxEVHiJo"
      }
    },
    {
      "cell_type": "code",
      "source": [
        "# 크기를 나타낼 때는 가장 바깥쪽 리스트의 길이부터 가장 안쪽 리스트 길이의 순서로 표시\n",
        "# m: matrix\n",
        "# t: three-dimension\n",
        "t = np.array([\n",
        "    [\n",
        "        [1,2,3,4],\n",
        "        [5,6,7,8],\n",
        "        [9,10,11,12]\n",
        "    ],\n",
        "    [\n",
        "        [11,12,13,14],\n",
        "        [15,16,17,18],\n",
        "        [19,20,21,22]\n",
        "    ],\n",
        "    ]\n",
        ")  # 2 x 3 x 4\n",
        "t"
      ],
      "metadata": {
        "colab": {
          "base_uri": "https://localhost:8080/"
        },
        "id": "wE7xDF6NJXYQ",
        "outputId": "f3f8dc38-3c1a-47f4-f17c-b2ab202972d7"
      },
      "execution_count": 49,
      "outputs": [
        {
          "output_type": "execute_result",
          "data": {
            "text/plain": [
              "array([[[ 1,  2,  3,  4],\n",
              "        [ 5,  6,  7,  8],\n",
              "        [ 9, 10, 11, 12]],\n",
              "\n",
              "       [[11, 12, 13, 14],\n",
              "        [15, 16, 17, 18],\n",
              "        [19, 20, 21, 22]]])"
            ]
          },
          "metadata": {},
          "execution_count": 49
        }
      ]
    },
    {
      "cell_type": "code",
      "source": [
        "# 깊이, 행, 열\n",
        "len(t), len(t[0]), len(t[0][0])"
      ],
      "metadata": {
        "colab": {
          "base_uri": "https://localhost:8080/"
        },
        "id": "vBdM_eKFJ9R-",
        "outputId": "6f39f10c-0796-447a-90c9-ec82d4370da5"
      },
      "execution_count": 51,
      "outputs": [
        {
          "output_type": "execute_result",
          "data": {
            "text/plain": [
              "(2, 3, 4)"
            ]
          },
          "metadata": {},
          "execution_count": 51
        }
      ]
    },
    {
      "cell_type": "markdown",
      "source": [
        "## 배열의 차원과 크기 알아내기\n",
        "* `ndim`, `shape` **속성** 사용\n",
        "> 속성 : 괄호 없이 이름만 써서 값을 호출\n",
        "\n",
        "* `ndim` : 배열의 차원\n",
        "* `shape` : 배열의 크기"
      ],
      "metadata": {
        "id": "opiM0LNJKNTh"
      }
    },
    {
      "cell_type": "code",
      "source": [
        "a = np.array(range(1,4))\n",
        "a"
      ],
      "metadata": {
        "colab": {
          "base_uri": "https://localhost:8080/"
        },
        "id": "o3Aok_LtKmk1",
        "outputId": "7d006148-1e2f-40bb-b343-d91e61cd8525"
      },
      "execution_count": 53,
      "outputs": [
        {
          "output_type": "execute_result",
          "data": {
            "text/plain": [
              "array([1, 2, 3])"
            ]
          },
          "metadata": {},
          "execution_count": 53
        }
      ]
    },
    {
      "cell_type": "code",
      "source": [
        "a.ndim, a.shape"
      ],
      "metadata": {
        "colab": {
          "base_uri": "https://localhost:8080/"
        },
        "id": "5mbe-l6_5cfu",
        "outputId": "da1ec77b-6f8f-471e-b34e-42f1519cd48a"
      },
      "execution_count": 56,
      "outputs": [
        {
          "output_type": "execute_result",
          "data": {
            "text/plain": [
              "(1, (3,))"
            ]
          },
          "metadata": {},
          "execution_count": 56
        }
      ]
    },
    {
      "cell_type": "code",
      "source": [
        "m = np.array((range(3), range(3,6)))\n",
        "m"
      ],
      "metadata": {
        "colab": {
          "base_uri": "https://localhost:8080/"
        },
        "id": "9DMGQgWZKuwT",
        "outputId": "1bc77d6c-5e16-47bc-ab0a-a31d8467cdce"
      },
      "execution_count": 58,
      "outputs": [
        {
          "output_type": "execute_result",
          "data": {
            "text/plain": [
              "array([[0, 1, 2],\n",
              "       [3, 4, 5]])"
            ]
          },
          "metadata": {},
          "execution_count": 58
        }
      ]
    },
    {
      "cell_type": "code",
      "source": [
        "m.ndim, m.shape"
      ],
      "metadata": {
        "colab": {
          "base_uri": "https://localhost:8080/"
        },
        "id": "0ExnZUCHK057",
        "outputId": "54bb4b23-dd18-48b6-be7f-c3b78993a562"
      },
      "execution_count": 61,
      "outputs": [
        {
          "output_type": "execute_result",
          "data": {
            "text/plain": [
              "(2, (2, 3))"
            ]
          },
          "metadata": {},
          "execution_count": 61
        }
      ]
    },
    {
      "cell_type": "code",
      "source": [
        "t.ndim, t.shape"
      ],
      "metadata": {
        "colab": {
          "base_uri": "https://localhost:8080/"
        },
        "id": "RAs81rM_6Eru",
        "outputId": "104368cd-958d-4b9f-8e8f-67f00f185f1f"
      },
      "execution_count": 62,
      "outputs": [
        {
          "output_type": "execute_result",
          "data": {
            "text/plain": [
              "(3, (2, 3, 4))"
            ]
          },
          "metadata": {},
          "execution_count": 62
        }
      ]
    },
    {
      "cell_type": "markdown",
      "source": [
        "## 배열의 복사\n",
        "* copy와 view의 차이점은 copy는 새 배열(깊은 복사)이고 view는 원래 배열과 연결 되어 있다는 것(얕은 복사)\n",
        "* copy는 데이터를 소유하며 copy에 대한 변경 사항은 원본 배열에 영향을 미치지 않으며 원본 배열에 대한 변경은 copy에 영향을 주지 않음\n",
        "* view는 데이터를 소유하지 않으며 view에 대한 모든 변경 사항은 원래 배열에 영향을 미치고 원래 배열에 대한 모든 변경 사항은 보기에 영향을 줌"
      ],
      "metadata": {
        "id": "cJZkK8_dQxfm"
      }
    },
    {
      "cell_type": "code",
      "source": [
        "import numpy as np\n",
        "\n",
        "arr = np.array(range(1,6))\n",
        "x = arr.copy()\n",
        "arr[0] = 42\n",
        "print(f\"arr: {arr}\")\n",
        "print(f\"x: {x}\")"
      ],
      "metadata": {
        "colab": {
          "base_uri": "https://localhost:8080/"
        },
        "id": "4y-KxTbuQ0xj",
        "outputId": "afd060c3-12a8-4c90-b959-5525dd087c2b"
      },
      "execution_count": 66,
      "outputs": [
        {
          "output_type": "stream",
          "name": "stdout",
          "text": [
            "[42  2  3  4  5]\n",
            "[1 2 3 4 5]\n"
          ]
        }
      ]
    },
    {
      "cell_type": "code",
      "source": [
        "arr = np.array(range(1,6))\n",
        "x = arr.view()\n",
        "arr[0] = 40\n",
        "print(f\"arr: {arr}\")\n",
        "print(f\"x: {x}\")"
      ],
      "metadata": {
        "colab": {
          "base_uri": "https://localhost:8080/"
        },
        "id": "TIAvNSlnQ2hY",
        "outputId": "350f5464-15a2-4cbd-e28b-4be98f1b533a"
      },
      "execution_count": 68,
      "outputs": [
        {
          "output_type": "stream",
          "name": "stdout",
          "text": [
            "arr: [40  2  3  4  5]\n",
            "x: [40  2  3  4  5]\n"
          ]
        }
      ]
    },
    {
      "cell_type": "code",
      "source": [
        "x = arr.copy()\n",
        "y = arr.view()\n",
        "\n",
        "# 배열 데이터 소유 여부 반환\n",
        "print(x.base)\n",
        "print(y.base)"
      ],
      "metadata": {
        "colab": {
          "base_uri": "https://localhost:8080/"
        },
        "id": "9swwITkeQ7I8",
        "outputId": "e96b8465-9afd-4955-d719-251a4d5ca4ee"
      },
      "execution_count": null,
      "outputs": [
        {
          "output_type": "stream",
          "name": "stdout",
          "text": [
            "None\n",
            "[1 2 3 4 5]\n"
          ]
        }
      ]
    },
    {
      "cell_type": "markdown",
      "source": [
        "## 배열의 인덱싱"
      ],
      "metadata": {
        "id": "XRqTwPdrOLj2"
      }
    },
    {
      "cell_type": "markdown",
      "source": [
        "### 일차원 배열\n",
        "* 리스트의 인덱싱과 같음"
      ],
      "metadata": {
        "id": "Wws5jAiwPLY6"
      }
    },
    {
      "cell_type": "code",
      "source": [
        "a = np.array(range(5))\n",
        "print(a)\n",
        "a[2], a[-1]"
      ],
      "metadata": {
        "colab": {
          "base_uri": "https://localhost:8080/"
        },
        "id": "xvVO2hmBOOwr",
        "outputId": "a51317c8-d6ff-4e65-fc41-41ee45278903"
      },
      "execution_count": 72,
      "outputs": [
        {
          "output_type": "stream",
          "name": "stdout",
          "text": [
            "[0 1 2 3 4]\n"
          ]
        },
        {
          "output_type": "execute_result",
          "data": {
            "text/plain": [
              "(2, 4)"
            ]
          },
          "metadata": {},
          "execution_count": 72
        }
      ]
    },
    {
      "cell_type": "markdown",
      "source": [
        "### 다차원 배열\n",
        "* 콤마(comma, `,`)를 사용하여 접근\n",
        "* 콤마로 구분된 차원을 축(axis)라고 함\n",
        "    * like 그래프의 x축, y축"
      ],
      "metadata": {
        "id": "2fOOjLQoOn5h"
      }
    },
    {
      "cell_type": "code",
      "source": [
        "b = np.array([[0,1,2],\n",
        "             [3,4,5]])\n",
        "print(b,b.ndim, b.shape)"
      ],
      "metadata": {
        "colab": {
          "base_uri": "https://localhost:8080/"
        },
        "id": "FASAOAE-Okqu",
        "outputId": "50e420d1-33b3-4f66-8208-2ec4ba590e6e"
      },
      "execution_count": 74,
      "outputs": [
        {
          "output_type": "stream",
          "name": "stdout",
          "text": [
            "[[0 1 2]\n",
            " [3 4 5]] 2 (2, 3)\n"
          ]
        }
      ]
    },
    {
      "cell_type": "code",
      "source": [
        "b[0,0] # 첫 행 첫 열"
      ],
      "metadata": {
        "colab": {
          "base_uri": "https://localhost:8080/"
        },
        "id": "pOVefqrYO5LK",
        "outputId": "8a2798e7-b252-4d2d-9975-fdf8edd9d189"
      },
      "execution_count": 75,
      "outputs": [
        {
          "output_type": "execute_result",
          "data": {
            "text/plain": [
              "0"
            ]
          },
          "metadata": {},
          "execution_count": 75
        }
      ]
    },
    {
      "cell_type": "code",
      "source": [
        "b[0, 1] # 첫번째 행의 두번째 열"
      ],
      "metadata": {
        "colab": {
          "base_uri": "https://localhost:8080/"
        },
        "id": "oU2ZsFukO93q",
        "outputId": "e331d5b2-088d-4664-b682-77cd2e90c9bc"
      },
      "execution_count": 76,
      "outputs": [
        {
          "output_type": "execute_result",
          "data": {
            "text/plain": [
              "1"
            ]
          },
          "metadata": {},
          "execution_count": 76
        }
      ]
    },
    {
      "cell_type": "code",
      "source": [
        "b[-1, -1] # 마지막 행의 마지막 열"
      ],
      "metadata": {
        "colab": {
          "base_uri": "https://localhost:8080/"
        },
        "id": "TEobJ50IPCPt",
        "outputId": "5b5ed951-7f4f-4b68-b314-f5f837058e2d"
      },
      "execution_count": 77,
      "outputs": [
        {
          "output_type": "execute_result",
          "data": {
            "text/plain": [
              "5"
            ]
          },
          "metadata": {},
          "execution_count": 77
        }
      ]
    },
    {
      "cell_type": "markdown",
      "source": [
        "## 배열 슬라이싱\n",
        "* 다차원 배열의 원소 중 2개 이상의 복수 개를 접근하려면 일반적인 파이썬 슬라이싱(slicing)과 comma(,)를 함께 사용"
      ],
      "metadata": {
        "id": "kk2Ri7rSPVi2"
      }
    },
    {
      "cell_type": "code",
      "source": [
        "a = np.array((range(4), range(4,8)))\n",
        "a"
      ],
      "metadata": {
        "colab": {
          "base_uri": "https://localhost:8080/"
        },
        "id": "jEziuEkEPH6D",
        "outputId": "a88efc2b-80b5-4bbc-92ca-55a665f1a367"
      },
      "execution_count": 81,
      "outputs": [
        {
          "output_type": "execute_result",
          "data": {
            "text/plain": [
              "array([[0, 1, 2, 3],\n",
              "       [4, 5, 6, 7]])"
            ]
          },
          "metadata": {},
          "execution_count": 81
        }
      ]
    },
    {
      "cell_type": "code",
      "source": [
        "# a[0]\n",
        "a[0, :] # 첫번째 행의 전체 열"
      ],
      "metadata": {
        "colab": {
          "base_uri": "https://localhost:8080/"
        },
        "id": "LUww2ZaXP3aW",
        "outputId": "da167e57-519d-43a6-c4b0-6c1a9f66b454"
      },
      "execution_count": 82,
      "outputs": [
        {
          "output_type": "execute_result",
          "data": {
            "text/plain": [
              "array([0, 1, 2, 3])"
            ]
          },
          "metadata": {},
          "execution_count": 82
        }
      ]
    },
    {
      "cell_type": "code",
      "source": [
        "# 두 번째 열 전체\n",
        "a[:,1]"
      ],
      "metadata": {
        "colab": {
          "base_uri": "https://localhost:8080/"
        },
        "id": "eV47P625P6y2",
        "outputId": "c3e03a0a-4d40-4d97-a1e8-9f6cec734fb8"
      },
      "execution_count": 85,
      "outputs": [
        {
          "output_type": "execute_result",
          "data": {
            "text/plain": [
              "array([1, 5])"
            ]
          },
          "metadata": {},
          "execution_count": 85
        }
      ]
    },
    {
      "cell_type": "code",
      "source": [
        "a[1,1:] # 두 번째 행의 두 번째 열 끝까지"
      ],
      "metadata": {
        "colab": {
          "base_uri": "https://localhost:8080/"
        },
        "id": "YKbC_X9kP92W",
        "outputId": "56e74f2d-2c98-4153-cacc-06d6a772a6cc"
      },
      "execution_count": 87,
      "outputs": [
        {
          "output_type": "execute_result",
          "data": {
            "text/plain": [
              "array([5, 6, 7])"
            ]
          },
          "metadata": {},
          "execution_count": 87
        }
      ]
    },
    {
      "cell_type": "code",
      "source": [
        "a[:2,0:2]"
      ],
      "metadata": {
        "colab": {
          "base_uri": "https://localhost:8080/"
        },
        "id": "fuNdQMf8QBGC",
        "outputId": "21700969-b774-48bf-c638-d254c3d78e30"
      },
      "execution_count": 91,
      "outputs": [
        {
          "output_type": "execute_result",
          "data": {
            "text/plain": [
              "array([[0, 1],\n",
              "       [4, 5]])"
            ]
          },
          "metadata": {},
          "execution_count": 91
        }
      ]
    },
    {
      "cell_type": "code",
      "source": [
        "a[2:, 2:] # 세번째 행에서 끝까지, 세번째 열에서 끝까지"
      ],
      "metadata": {
        "colab": {
          "base_uri": "https://localhost:8080/"
        },
        "id": "LTtyRTOO-Qwf",
        "outputId": "1e2f4f84-9921-44da-aff5-6aff703152c1"
      },
      "execution_count": 92,
      "outputs": [
        {
          "output_type": "execute_result",
          "data": {
            "text/plain": [
              "array([], shape=(0, 2), dtype=int64)"
            ]
          },
          "metadata": {},
          "execution_count": 92
        }
      ]
    },
    {
      "cell_type": "markdown",
      "source": [
        "## 💡 연습문제 2"
      ],
      "metadata": {
        "id": "lDNHCVY6Qiu5"
      }
    },
    {
      "cell_type": "code",
      "source": [
        "m = np.array([[0,  1,  2,  3,  4],\n",
        "              [5,  6,  7,  8,  9],\n",
        "              [10, 11, 12, 13, 14]])\n",
        "m"
      ],
      "metadata": {
        "colab": {
          "base_uri": "https://localhost:8080/"
        },
        "id": "5tgbgqY4QHZY",
        "outputId": "8538f065-c107-42b8-8801-f62c9da23e81"
      },
      "execution_count": 95,
      "outputs": [
        {
          "output_type": "execute_result",
          "data": {
            "text/plain": [
              "array([[ 0,  1,  2,  3,  4],\n",
              "       [ 5,  6,  7,  8,  9],\n",
              "       [10, 11, 12, 13, 14]])"
            ]
          },
          "metadata": {},
          "execution_count": 95
        }
      ]
    },
    {
      "cell_type": "code",
      "source": [
        "#@markdown (1) 값 7을 인덱싱\n",
        "m[1, 2]"
      ],
      "metadata": {
        "colab": {
          "base_uri": "https://localhost:8080/"
        },
        "id": "YqURbl2pQiFM",
        "outputId": "0c3d5af2-1e43-41c4-900b-9af7d370e5e6"
      },
      "execution_count": 98,
      "outputs": [
        {
          "output_type": "execute_result",
          "data": {
            "text/plain": [
              "7"
            ]
          },
          "metadata": {},
          "execution_count": 98
        }
      ]
    },
    {
      "cell_type": "code",
      "source": [
        "#@markdown (2) 값 14을 인덱싱\n",
        "m[-1, -1]"
      ],
      "metadata": {
        "colab": {
          "base_uri": "https://localhost:8080/"
        },
        "id": "p2mG56nLQzY0",
        "outputId": "82bc9812-140a-4fcb-f7a1-695e1cc90026"
      },
      "execution_count": 99,
      "outputs": [
        {
          "output_type": "execute_result",
          "data": {
            "text/plain": [
              "14"
            ]
          },
          "metadata": {},
          "execution_count": 99
        }
      ]
    },
    {
      "cell_type": "code",
      "source": [
        "#@markdown (3) 배열 [6,7]을 슬라이싱\n",
        "m[1,1:3]"
      ],
      "metadata": {
        "colab": {
          "base_uri": "https://localhost:8080/"
        },
        "id": "UISviULMRLnz",
        "outputId": "7b535b23-1e4c-4989-c865-2103b35ad9a6"
      },
      "execution_count": 100,
      "outputs": [
        {
          "output_type": "execute_result",
          "data": {
            "text/plain": [
              "array([6, 7])"
            ]
          },
          "metadata": {},
          "execution_count": 100
        }
      ]
    },
    {
      "cell_type": "code",
      "source": [
        "#@markdown (4) 배열 [7,12]을 슬라이싱\n",
        "m[1:3,2]"
      ],
      "metadata": {
        "colab": {
          "base_uri": "https://localhost:8080/"
        },
        "id": "yib_p8kFRbEb",
        "outputId": "34d43c62-3d7a-4785-fa2a-4f51d6fb3fd4"
      },
      "execution_count": 101,
      "outputs": [
        {
          "output_type": "execute_result",
          "data": {
            "text/plain": [
              "array([ 7, 12])"
            ]
          },
          "metadata": {},
          "execution_count": 101
        }
      ]
    },
    {
      "cell_type": "code",
      "source": [
        "#@markdown (5) 배열 [[3,4],[8,9]]을 슬라이싱\n",
        "m[:2,-2:]"
      ],
      "metadata": {
        "colab": {
          "base_uri": "https://localhost:8080/"
        },
        "id": "6kwDWEE7SInr",
        "outputId": "6841bd38-be16-4ddf-9188-e34ac8805847"
      },
      "execution_count": 102,
      "outputs": [
        {
          "output_type": "execute_result",
          "data": {
            "text/plain": [
              "array([[3, 4],\n",
              "       [8, 9]])"
            ]
          },
          "metadata": {},
          "execution_count": 102
        }
      ]
    },
    {
      "cell_type": "markdown",
      "source": [
        "## 배열 인덱싱\n",
        "* 대괄호(Bracket, [])안의 인덱스 정보로 숫자나 슬라이스가 아니라 위치 정보를 나타내는 또다른 `ndarray` 배열을 받을 수 있음 (인덱스 배열)\n",
        "* 일종의 조건 검색 기능 (=필터링)"
      ],
      "metadata": {
        "id": "fLC-QuQQRKtT"
      }
    },
    {
      "cell_type": "markdown",
      "source": [
        "### 불리언 (Boolean) 배열 인덱싱\n",
        "* 인덱스 배열의 원소가 True, False 두 값으로만 구성되며 인덱스 배열의 크기가 원래 ndarray 객체의 크기와 같아야 함"
      ],
      "metadata": {
        "id": "-5zdTgl8TR04"
      }
    },
    {
      "cell_type": "code",
      "source": [
        "# 0~8 사이의 (끝포함) 짝수만 가진 배열\n",
        "a1 = np.array(range(0,9,2))\n",
        "\n",
        "a2 = np.array([i for i in range(0,9) if not i % 2]) \n",
        "a1, a2"
      ],
      "metadata": {
        "colab": {
          "base_uri": "https://localhost:8080/"
        },
        "id": "4_bOEmXsDwey",
        "outputId": "2a37a4df-0cbd-499d-b742-4f61fdf1e63a"
      },
      "execution_count": 111,
      "outputs": [
        {
          "output_type": "execute_result",
          "data": {
            "text/plain": [
              "(array([0, 2, 4, 6, 8]), array([0, 2, 4, 6, 8]))"
            ]
          },
          "metadata": {},
          "execution_count": 111
        }
      ]
    },
    {
      "cell_type": "code",
      "source": [
        "# 짝수인 원소만 골라내고 싶다면?\n",
        "# 짝수에 대응하는 곳에 True, 홀수에 대응하는 곳에 False\n",
        "a = np.array(range(10))\n",
        "a"
      ],
      "metadata": {
        "colab": {
          "base_uri": "https://localhost:8080/"
        },
        "id": "5GIASHJqTrlX",
        "outputId": "eb46c3f8-7388-4aec-aa37-673ff9f46fc2"
      },
      "execution_count": 113,
      "outputs": [
        {
          "output_type": "execute_result",
          "data": {
            "text/plain": [
              "array([0, 1, 2, 3, 4, 5, 6, 7, 8, 9])"
            ]
          },
          "metadata": {},
          "execution_count": 113
        }
      ]
    },
    {
      "cell_type": "code",
      "source": [
        "idx = np.array([True, False, True, False, True, False, True, False, True, False]) # 타입이 bool인 "
      ],
      "metadata": {
        "id": "9Epv9TkFEViL"
      },
      "execution_count": 116,
      "outputs": []
    },
    {
      "cell_type": "code",
      "source": [
        "a[idx] # 위치에 대한 필터링"
      ],
      "metadata": {
        "colab": {
          "base_uri": "https://localhost:8080/"
        },
        "id": "52JjVezDEjUL",
        "outputId": "e85d2b9c-e320-4165-a7b7-eba20984787b"
      },
      "execution_count": 117,
      "outputs": [
        {
          "output_type": "execute_result",
          "data": {
            "text/plain": [
              "array([0, 2, 4, 6, 8])"
            ]
          },
          "metadata": {},
          "execution_count": 117
        }
      ]
    },
    {
      "cell_type": "code",
      "source": [
        "# 조건문 연산\n",
        "a % 2"
      ],
      "metadata": {
        "colab": {
          "base_uri": "https://localhost:8080/"
        },
        "id": "3x9YUkfNTtJ1",
        "outputId": "1b179af4-ebe9-4de7-eb31-1838a4abfb1d"
      },
      "execution_count": null,
      "outputs": [
        {
          "output_type": "execute_result",
          "data": {
            "text/plain": [
              "array([0, 1, 0, 1, 0, 1, 0, 1, 0, 1])"
            ]
          },
          "metadata": {},
          "execution_count": 114
        }
      ]
    },
    {
      "cell_type": "code",
      "source": [
        "a % 2 == 0"
      ],
      "metadata": {
        "colab": {
          "base_uri": "https://localhost:8080/"
        },
        "id": "5oDEJHbVT93r",
        "outputId": "835f850f-b2a6-4189-d02d-9f1eeb4c9162"
      },
      "execution_count": 118,
      "outputs": [
        {
          "output_type": "execute_result",
          "data": {
            "text/plain": [
              "array([ True, False,  True, False,  True, False,  True, False,  True,\n",
              "       False])"
            ]
          },
          "metadata": {},
          "execution_count": 118
        }
      ]
    },
    {
      "cell_type": "code",
      "source": [
        "a[a % 2 == 0], a[a % 2 != 0]"
      ],
      "metadata": {
        "colab": {
          "base_uri": "https://localhost:8080/"
        },
        "id": "rtfCw3vxUBOm",
        "outputId": "9b5e87dc-9506-4771-cca3-88c6a67bb9e0"
      },
      "execution_count": 119,
      "outputs": [
        {
          "output_type": "execute_result",
          "data": {
            "text/plain": [
              "array([0, 2, 4, 6, 8])"
            ]
          },
          "metadata": {},
          "execution_count": 119
        }
      ]
    },
    {
      "cell_type": "markdown",
      "source": [
        "### 정수 배열 인덱싱\n",
        "* 인덱스 배열의 원소 각각이 원래 `ndarray` 객체 원소 하나를 가리키는 인덱스 정수이여야 함"
      ],
      "metadata": {
        "id": "ynIZBX2dUQIv"
      }
    },
    {
      "cell_type": "code",
      "source": [
        "a = np.array(range(1,10))*11\n",
        "a"
      ],
      "metadata": {
        "colab": {
          "base_uri": "https://localhost:8080/"
        },
        "id": "SOOuM49bUcT9",
        "outputId": "97f2d6d3-4a4e-4c03-a133-ac1850650b00"
      },
      "execution_count": 122,
      "outputs": [
        {
          "output_type": "execute_result",
          "data": {
            "text/plain": [
              "array([11, 22, 33, 44, 55, 66, 77, 88, 99])"
            ]
          },
          "metadata": {},
          "execution_count": 122
        }
      ]
    },
    {
      "cell_type": "code",
      "source": [
        "idx = np.array([0,2,4,6,8])\n",
        "a[idx]"
      ],
      "metadata": {
        "colab": {
          "base_uri": "https://localhost:8080/"
        },
        "id": "TCJTZ39KFmt5",
        "outputId": "52e4a249-5e69-4eb6-c760-5ce76f7b5013"
      },
      "execution_count": 123,
      "outputs": [
        {
          "output_type": "execute_result",
          "data": {
            "text/plain": [
              "array([11, 33, 55, 77, 99])"
            ]
          },
          "metadata": {},
          "execution_count": 123
        }
      ]
    },
    {
      "cell_type": "markdown",
      "source": [
        "* 이 때는 배열 인덱스의 크기가 원래의 배열 크기와 달라도 상관없음\n",
        "* 같은 원소를 반복해서 가리키는 경우에는 배열 인덱스가 원래의 배열보다 더 커지기도 함"
      ],
      "metadata": {
        "id": "2ChR92erUf7O"
      }
    },
    {
      "cell_type": "code",
      "source": [
        "idx = np.array([0] * 6 + [1] * 5 + [2] * 5) # 다중 호출 bool 형식으로 배열을 만들면 갯수를 맞춰야되는데\n",
        "# 정수 배열 인덱스는 갯수를 안 맞춰도 된다는 증명\n",
        "a[idx]"
      ],
      "metadata": {
        "colab": {
          "base_uri": "https://localhost:8080/"
        },
        "id": "U_k_sieeUeoi",
        "outputId": "4f6f80d8-175a-48b6-cc8e-0f2a0d97907b"
      },
      "execution_count": 125,
      "outputs": [
        {
          "output_type": "execute_result",
          "data": {
            "text/plain": [
              "array([11, 11, 11, 11, 11, 11, 22, 22, 22, 22, 22, 33, 33, 33, 33, 33])"
            ]
          },
          "metadata": {},
          "execution_count": 125
        }
      ]
    },
    {
      "cell_type": "markdown",
      "source": [
        "### 다차원 배열에서의 배열 인덱싱"
      ],
      "metadata": {
        "id": "XUEo3DxjUl7Q"
      }
    },
    {
      "cell_type": "code",
      "source": [
        "a = np.array([range(1,5), range(5,9), range(9,13)])\n",
        "a, a.ndim, a.shape"
      ],
      "metadata": {
        "colab": {
          "base_uri": "https://localhost:8080/"
        },
        "id": "G4aIB5_BUcsp",
        "outputId": "100bcba7-83f7-4daf-80ad-9382f830312b"
      },
      "execution_count": 127,
      "outputs": [
        {
          "output_type": "execute_result",
          "data": {
            "text/plain": [
              "(array([[ 1,  2,  3,  4],\n",
              "        [ 5,  6,  7,  8],\n",
              "        [ 9, 10, 11, 12]]), 2, (3, 4))"
            ]
          },
          "metadata": {},
          "execution_count": 127
        }
      ]
    },
    {
      "cell_type": "code",
      "source": [
        "a[:,[0,-1]]\n",
        "a[:,[0,3]]\n",
        "a[:,[True, False, False, True]]"
      ],
      "metadata": {
        "colab": {
          "base_uri": "https://localhost:8080/"
        },
        "id": "rt0XDr6XUs5w",
        "outputId": "4aeff599-7357-4318-8809-b8f4a75210b2"
      },
      "execution_count": 131,
      "outputs": [
        {
          "output_type": "execute_result",
          "data": {
            "text/plain": [
              "array([[ 1,  4],\n",
              "       [ 5,  8],\n",
              "       [ 9, 12]])"
            ]
          },
          "metadata": {},
          "execution_count": 131
        }
      ]
    },
    {
      "cell_type": "code",
      "source": [
        "a[[2,0,1],:]"
      ],
      "metadata": {
        "colab": {
          "base_uri": "https://localhost:8080/"
        },
        "id": "3Ar68wUpUvqk",
        "outputId": "5c6bd62a-9d72-4d41-9875-c7eb590f9961"
      },
      "execution_count": 132,
      "outputs": [
        {
          "output_type": "execute_result",
          "data": {
            "text/plain": [
              "array([[ 9, 10, 11, 12],\n",
              "       [ 1,  2,  3,  4],\n",
              "       [ 5,  6,  7,  8]])"
            ]
          },
          "metadata": {},
          "execution_count": 132
        }
      ]
    },
    {
      "cell_type": "markdown",
      "source": [
        "## 💡 연습문제 3"
      ],
      "metadata": {
        "id": "7y4B3S9XY6A5"
      }
    },
    {
      "cell_type": "code",
      "source": [
        "x = np.array([1, 2, 3, 4, 5, 6, 7, 8, 9, 10,\n",
        "             11, 12, 13, 14, 15, 16, 17, 18, 19, 20])"
      ],
      "metadata": {
        "id": "o3Fz2Ji8Y5vw"
      },
      "execution_count": 133,
      "outputs": []
    },
    {
      "cell_type": "code",
      "source": [
        "# (1) 3의 배수 찾기\n",
        "x[x % 3 == 0]"
      ],
      "metadata": {
        "colab": {
          "base_uri": "https://localhost:8080/"
        },
        "id": "pSfabTzmUwHy",
        "outputId": "9c0f8650-2230-4eec-835e-16d57b7c9444"
      },
      "execution_count": 134,
      "outputs": [
        {
          "output_type": "execute_result",
          "data": {
            "text/plain": [
              "array([ 3,  6,  9, 12, 15, 18])"
            ]
          },
          "metadata": {},
          "execution_count": 134
        }
      ]
    },
    {
      "cell_type": "code",
      "source": [
        "# (2) 4로 나누면 1이 남는 수 찾기\n",
        "x[x % 4 == 1]"
      ],
      "metadata": {
        "colab": {
          "base_uri": "https://localhost:8080/"
        },
        "id": "iNwraEzfZEIx",
        "outputId": "4b43daa9-3d65-42dd-e1ab-f0b1ad8807d1"
      },
      "execution_count": 135,
      "outputs": [
        {
          "output_type": "execute_result",
          "data": {
            "text/plain": [
              "array([ 1,  5,  9, 13, 17])"
            ]
          },
          "metadata": {},
          "execution_count": 135
        }
      ]
    },
    {
      "cell_type": "code",
      "source": [
        "# (3) 3로 나누면 나누어지고 4로 나누면 1이 남는 수 찾기\n",
        "x[(x % 3 == 0) & (x % 4 ==1)] # 논리연산자 사용"
      ],
      "metadata": {
        "colab": {
          "base_uri": "https://localhost:8080/"
        },
        "id": "3oXEum9FZIUp",
        "outputId": "53a74c05-283d-4c57-b489-d8d2549eaa32"
      },
      "execution_count": 139,
      "outputs": [
        {
          "output_type": "execute_result",
          "data": {
            "text/plain": [
              "array([9])"
            ]
          },
          "metadata": {},
          "execution_count": 139
        }
      ]
    },
    {
      "cell_type": "markdown",
      "source": [
        "## 배열 검색"
      ],
      "metadata": {
        "id": "opMRQboTS9M8"
      }
    },
    {
      "cell_type": "code",
      "source": [
        "arr = np.array([1,2,3,4,5,4,4])\n",
        "arr"
      ],
      "metadata": {
        "colab": {
          "base_uri": "https://localhost:8080/"
        },
        "id": "4jLCR2pbTAW1",
        "outputId": "fca41d03-e90a-4e7f-f86c-112bc906ce8c"
      },
      "execution_count": 140,
      "outputs": [
        {
          "output_type": "execute_result",
          "data": {
            "text/plain": [
              "array([1, 2, 3, 4, 5, 4, 4])"
            ]
          },
          "metadata": {},
          "execution_count": 140
        }
      ]
    },
    {
      "cell_type": "code",
      "source": [
        "# np.where(배열 비교/논리 연산) -> 조건을 만족시킨 값의 인덱스 반환\n",
        "x = np.where(arr == 4)\n",
        "x"
      ],
      "metadata": {
        "colab": {
          "base_uri": "https://localhost:8080/"
        },
        "id": "VvPTrDGnTBo_",
        "outputId": "2297f3d9-dda6-4616-ab4f-40191506f699"
      },
      "execution_count": 142,
      "outputs": [
        {
          "output_type": "execute_result",
          "data": {
            "text/plain": [
              "(array([3, 5, 6]),)"
            ]
          },
          "metadata": {},
          "execution_count": 142
        }
      ]
    },
    {
      "cell_type": "code",
      "source": [
        "arr = np.array(range(1,9))\n",
        "x = np.where(arr % 2 ==0) # 짝수\n",
        "x, arr[x], arr[arr % 2 == 0]"
      ],
      "metadata": {
        "colab": {
          "base_uri": "https://localhost:8080/"
        },
        "id": "DjerzJVFJoW7",
        "outputId": "2c05f0db-27cd-4d8b-aa41-2f4cc2cb34bd"
      },
      "execution_count": 145,
      "outputs": [
        {
          "output_type": "execute_result",
          "data": {
            "text/plain": [
              "((array([1, 3, 5, 7]),), array([2, 4, 6, 8]), array([2, 4, 6, 8]))"
            ]
          },
          "metadata": {},
          "execution_count": 145
        }
      ]
    }
  ]
}