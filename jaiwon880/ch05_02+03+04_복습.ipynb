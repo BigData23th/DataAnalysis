{
  "nbformat": 4,
  "nbformat_minor": 0,
  "metadata": {
    "colab": {
      "provenance": [],
      "authorship_tag": "ABX9TyN7Km+qSgYYTCbMqQ6bzLsI",
      "include_colab_link": true
    },
    "kernelspec": {
      "name": "python3",
      "display_name": "Python 3"
    },
    "language_info": {
      "name": "python"
    }
  },
  "cells": [
    {
      "cell_type": "markdown",
      "metadata": {
        "id": "view-in-github",
        "colab_type": "text"
      },
      "source": [
        "<a href=\"https://colab.research.google.com/github/jaiwon880/DataAnalysis_23/blob/main/jaiwon880/ch05_02%2B03%2B04_%EB%B3%B5%EC%8A%B5.ipynb\" target=\"_parent\"><img src=\"https://colab.research.google.com/assets/colab-badge.svg\" alt=\"Open In Colab\"/></a>"
      ]
    },
    {
      "cell_type": "code",
      "execution_count": null,
      "metadata": {
        "id": "L59Ghm7dQ4Dk"
      },
      "outputs": [],
      "source": [
        "import numpy as np"
      ]
    },
    {
      "cell_type": "code",
      "source": [
        "arr1 = np.arange(1,4)\n",
        "arr2 = np.arange(4,7)\n",
        "\n",
        "np.concatenate([arr1, arr2], axis=0)"
      ],
      "metadata": {
        "colab": {
          "base_uri": "https://localhost:8080/"
        },
        "id": "CGgo6NcDQ_SF",
        "outputId": "cf0641be-c011-42f4-cc47-a52361ac01a1"
      },
      "execution_count": null,
      "outputs": [
        {
          "output_type": "execute_result",
          "data": {
            "text/plain": [
              "array([1, 2, 3, 4, 5, 6])"
            ]
          },
          "metadata": {},
          "execution_count": 3
        }
      ]
    },
    {
      "cell_type": "code",
      "source": [
        "np.concatenate([arr1, arr2, arr1, arr2])"
      ],
      "metadata": {
        "colab": {
          "base_uri": "https://localhost:8080/"
        },
        "id": "5W18MQjSRUqu",
        "outputId": "24a6200b-f0c9-4c83-e18d-945a200a3d11"
      },
      "execution_count": null,
      "outputs": [
        {
          "output_type": "execute_result",
          "data": {
            "text/plain": [
              "array([1, 2, 3, 4, 5, 6, 1, 2, 3, 4, 5, 6])"
            ]
          },
          "metadata": {},
          "execution_count": 6
        }
      ]
    },
    {
      "cell_type": "code",
      "source": [
        "arr1 = arr1.reshape(3, 1)\n",
        "arr2 = arr2.reshape(3, 1)\n",
        "\n",
        "np.concatenate([arr1, arr2])\n",
        "np.concatenate([arr1, arr2], axis=1) # 열의 개수를 늘림"
      ],
      "metadata": {
        "colab": {
          "base_uri": "https://localhost:8080/"
        },
        "id": "1bNlWHGIRaGu",
        "outputId": "72722676-88ec-4f59-ff49-cb0a73969a5f"
      },
      "execution_count": null,
      "outputs": [
        {
          "output_type": "execute_result",
          "data": {
            "text/plain": [
              "array([[1, 4],\n",
              "       [2, 5],\n",
              "       [3, 6]])"
            ]
          },
          "metadata": {},
          "execution_count": 8
        }
      ]
    },
    {
      "cell_type": "code",
      "source": [
        "a1 = np.ones((2,3))\n",
        "a2 = np.zeros((2,2))\n",
        "\n",
        "np.hstack((a1, a2))  # 행의 길이가 같아야 하고 열의 길이를 확장함!"
      ],
      "metadata": {
        "colab": {
          "base_uri": "https://localhost:8080/"
        },
        "id": "dVTuocJlRsX5",
        "outputId": "fee96c30-e891-4643-9490-2f1a2bcbb4af"
      },
      "execution_count": null,
      "outputs": [
        {
          "output_type": "execute_result",
          "data": {
            "text/plain": [
              "array([[1., 1., 1., 0., 0.],\n",
              "       [1., 1., 1., 0., 0.]])"
            ]
          },
          "metadata": {},
          "execution_count": 13
        }
      ]
    },
    {
      "cell_type": "code",
      "source": [
        "b1 = np.ones_like(a1)\n",
        "b2 = np.zeros((3, 3))\n",
        "\n",
        "np.vstack((b1, b2))"
      ],
      "metadata": {
        "colab": {
          "base_uri": "https://localhost:8080/"
        },
        "id": "wLpjHGy8SPYS",
        "outputId": "1e872273-c8f8-4a15-d65a-4451518056e9"
      },
      "execution_count": null,
      "outputs": [
        {
          "output_type": "execute_result",
          "data": {
            "text/plain": [
              "array([[1., 1., 1.],\n",
              "       [1., 1., 1.],\n",
              "       [0., 0., 0.],\n",
              "       [0., 0., 0.],\n",
              "       [0., 0., 0.]])"
            ]
          },
          "metadata": {},
          "execution_count": 15
        }
      ]
    },
    {
      "cell_type": "code",
      "source": [
        "c1 = np.ones((3,4))\n",
        "c2 = np.zeros_like(c1)\n",
        "\n",
        "np.dstack((c1,c2)) # 크기가 같아야함! 가장 마지막, 안쪽의 차원이 1증가 하면서 합쳐진다"
      ],
      "metadata": {
        "colab": {
          "base_uri": "https://localhost:8080/"
        },
        "id": "M5S4FzeTSdEJ",
        "outputId": "e00b4382-636e-4938-c117-e174c09bc9b5"
      },
      "execution_count": null,
      "outputs": [
        {
          "output_type": "execute_result",
          "data": {
            "text/plain": [
              "array([[[1., 0.],\n",
              "        [1., 0.],\n",
              "        [1., 0.],\n",
              "        [1., 0.]],\n",
              "\n",
              "       [[1., 0.],\n",
              "        [1., 0.],\n",
              "        [1., 0.],\n",
              "        [1., 0.]],\n",
              "\n",
              "       [[1., 0.],\n",
              "        [1., 0.],\n",
              "        [1., 0.],\n",
              "        [1., 0.]]])"
            ]
          },
          "metadata": {},
          "execution_count": 17
        }
      ]
    },
    {
      "cell_type": "code",
      "source": [
        "c = np.stack([c1,c2],axis=0) # 행을 기준\n",
        "c"
      ],
      "metadata": {
        "colab": {
          "base_uri": "https://localhost:8080/"
        },
        "id": "U5N8YL8nS_R3",
        "outputId": "57aef441-c002-4414-9e57-aa1de7059d96"
      },
      "execution_count": null,
      "outputs": [
        {
          "output_type": "execute_result",
          "data": {
            "text/plain": [
              "array([[[1., 1., 1., 1.],\n",
              "        [1., 1., 1., 1.],\n",
              "        [1., 1., 1., 1.]],\n",
              "\n",
              "       [[0., 0., 0., 0.],\n",
              "        [0., 0., 0., 0.],\n",
              "        [0., 0., 0., 0.]]])"
            ]
          },
          "metadata": {},
          "execution_count": 20
        }
      ]
    },
    {
      "cell_type": "code",
      "source": [
        "c = np.stack([c1,c2],axis=1) # 열 기준\n",
        "c"
      ],
      "metadata": {
        "colab": {
          "base_uri": "https://localhost:8080/"
        },
        "id": "3pwLVl74TxxH",
        "outputId": "d5592579-7d24-4235-970b-82a005c38921"
      },
      "execution_count": null,
      "outputs": [
        {
          "output_type": "execute_result",
          "data": {
            "text/plain": [
              "array([[[1., 1., 1., 1.],\n",
              "        [0., 0., 0., 0.]],\n",
              "\n",
              "       [[1., 1., 1., 1.],\n",
              "        [0., 0., 0., 0.]],\n",
              "\n",
              "       [[1., 1., 1., 1.],\n",
              "        [0., 0., 0., 0.]]])"
            ]
          },
          "metadata": {},
          "execution_count": 22
        }
      ]
    },
    {
      "cell_type": "code",
      "source": [
        "c = np.stack([c1,c2],axis=-1) # 차원을 추가하면서 합쳐짐\n",
        "c"
      ],
      "metadata": {
        "colab": {
          "base_uri": "https://localhost:8080/"
        },
        "id": "9YV3bbAtT8Oc",
        "outputId": "7a828a08-3c42-448d-86bc-5449e15c932c"
      },
      "execution_count": null,
      "outputs": [
        {
          "output_type": "execute_result",
          "data": {
            "text/plain": [
              "array([[[1., 0.],\n",
              "        [1., 0.],\n",
              "        [1., 0.],\n",
              "        [1., 0.]],\n",
              "\n",
              "       [[1., 0.],\n",
              "        [1., 0.],\n",
              "        [1., 0.],\n",
              "        [1., 0.]],\n",
              "\n",
              "       [[1., 0.],\n",
              "        [1., 0.],\n",
              "        [1., 0.],\n",
              "        [1., 0.]]])"
            ]
          },
          "metadata": {},
          "execution_count": 24
        }
      ]
    },
    {
      "cell_type": "code",
      "source": [
        "# r_ -> hstack 1, 2, 3 / 4, 5, 6 # 리스트로 안 묶어줘도 됨\n",
        "d= np.r_[np.arange(1,4), np.arange(4,7), np.arange(4,9)]\n",
        "d, d.ndim, d.shape\n"
      ],
      "metadata": {
        "colab": {
          "base_uri": "https://localhost:8080/"
        },
        "id": "WrQTWs0eScNJ",
        "outputId": "85731c34-4529-42d2-fe06-47bba6c46f2c"
      },
      "execution_count": null,
      "outputs": [
        {
          "output_type": "execute_result",
          "data": {
            "text/plain": [
              "(array([1, 2, 3, 4, 5, 6, 4, 5, 6, 7, 8]), 1, (11,))"
            ]
          },
          "metadata": {},
          "execution_count": 27
        }
      ]
    },
    {
      "cell_type": "code",
      "source": [
        "# c_\n",
        "d1= np.c_[np.arange(1,4), np.arange(4,7)]\n",
        "d1"
      ],
      "metadata": {
        "colab": {
          "base_uri": "https://localhost:8080/"
        },
        "id": "4x3cFD2ZUbjT",
        "outputId": "95ae1970-b946-4ea4-bc16-3966755ff561"
      },
      "execution_count": null,
      "outputs": [
        {
          "output_type": "execute_result",
          "data": {
            "text/plain": [
              "array([[1, 4],\n",
              "       [2, 5],\n",
              "       [3, 6]])"
            ]
          },
          "metadata": {},
          "execution_count": 29
        }
      ]
    },
    {
      "cell_type": "code",
      "source": [
        "np.concatenate((np.arange(1,4)[:, np.newaxis], np.arange(4,7)[:, np.newaxis]), axis=1)"
      ],
      "metadata": {
        "colab": {
          "base_uri": "https://localhost:8080/"
        },
        "id": "w3S4tWDzUlDB",
        "outputId": "b49a1e61-9092-4d3e-eceb-b70706e8620a"
      },
      "execution_count": null,
      "outputs": [
        {
          "output_type": "execute_result",
          "data": {
            "text/plain": [
              "array([[1, 4],\n",
              "       [2, 5],\n",
              "       [3, 6]])"
            ]
          },
          "metadata": {},
          "execution_count": 34
        }
      ]
    },
    {
      "cell_type": "code",
      "source": [
        "a = np.arange(6).reshape(3, -1)\n",
        "print(np.tile(a, 3)) # 모양을 지키면서 반복\n",
        "print(np.repeat(a,3)) # flatten 시킨 다음에 각 원소들을 그 위치에 반복"
      ],
      "metadata": {
        "colab": {
          "base_uri": "https://localhost:8080/"
        },
        "id": "m55cFJKDU7Cd",
        "outputId": "12e973e3-7963-4d84-f44d-573916827726"
      },
      "execution_count": null,
      "outputs": [
        {
          "output_type": "stream",
          "name": "stdout",
          "text": [
            "[[0 1 0 1 0 1]\n",
            " [2 3 2 3 2 3]\n",
            " [4 5 4 5 4 5]]\n",
            "[0 0 0 1 1 1 2 2 2 3 3 3 4 4 4 5 5 5]\n"
          ]
        }
      ]
    },
    {
      "cell_type": "code",
      "source": [
        "arr = np.arange(7) # 1,2,3,4,5,6\n",
        "arr"
      ],
      "metadata": {
        "colab": {
          "base_uri": "https://localhost:8080/"
        },
        "id": "wYPqg2ZnVW0z",
        "outputId": "dcbe85ca-b7f0-459c-d86d-1316133b0fbb"
      },
      "execution_count": null,
      "outputs": [
        {
          "output_type": "execute_result",
          "data": {
            "text/plain": [
              "array([0, 1, 2, 3, 4, 5, 6])"
            ]
          },
          "metadata": {},
          "execution_count": 40
        }
      ]
    },
    {
      "cell_type": "code",
      "source": [
        "np.array_split(arr, 3)"
      ],
      "metadata": {
        "colab": {
          "base_uri": "https://localhost:8080/"
        },
        "id": "a8WHgJXCVbf4",
        "outputId": "36a83297-ff14-4d9b-87de-b057e21d8a2a"
      },
      "execution_count": null,
      "outputs": [
        {
          "output_type": "execute_result",
          "data": {
            "text/plain": [
              "[array([0, 1, 2]), array([3, 4]), array([5, 6])]"
            ]
          },
          "metadata": {},
          "execution_count": 45
        }
      ]
    },
    {
      "cell_type": "code",
      "source": [
        "np.split(arr,3) # array_split-> 되는대로 3등분, split은 약수에 맞게 떨어져야 쪼개줌"
      ],
      "metadata": {
        "colab": {
          "base_uri": "https://localhost:8080/",
          "height": 327
        },
        "id": "bInlxCIIVfcy",
        "outputId": "06c8eef0-010f-48ad-f1c7-70b1f28de689"
      },
      "execution_count": null,
      "outputs": [
        {
          "output_type": "error",
          "ename": "ValueError",
          "evalue": "ignored",
          "traceback": [
            "\u001b[0;31m---------------------------------------------------------------------------\u001b[0m",
            "\u001b[0;31mValueError\u001b[0m                                Traceback (most recent call last)",
            "\u001b[0;32m<ipython-input-46-b4926cf369ba>\u001b[0m in \u001b[0;36m<module>\u001b[0;34m\u001b[0m\n\u001b[0;32m----> 1\u001b[0;31m \u001b[0mnp\u001b[0m\u001b[0;34m.\u001b[0m\u001b[0msplit\u001b[0m\u001b[0;34m(\u001b[0m\u001b[0marr\u001b[0m\u001b[0;34m,\u001b[0m\u001b[0;36m3\u001b[0m\u001b[0;34m)\u001b[0m \u001b[0;31m# array_split-> 되는대로 3등분, split은 약수에 맞게 떨어져야 쪼개줌\u001b[0m\u001b[0;34m\u001b[0m\u001b[0;34m\u001b[0m\u001b[0m\n\u001b[0m",
            "\u001b[0;32m/usr/local/lib/python3.9/dist-packages/numpy/core/overrides.py\u001b[0m in \u001b[0;36msplit\u001b[0;34m(*args, **kwargs)\u001b[0m\n",
            "\u001b[0;32m/usr/local/lib/python3.9/dist-packages/numpy/lib/shape_base.py\u001b[0m in \u001b[0;36msplit\u001b[0;34m(ary, indices_or_sections, axis)\u001b[0m\n\u001b[1;32m    870\u001b[0m         \u001b[0mN\u001b[0m \u001b[0;34m=\u001b[0m \u001b[0mary\u001b[0m\u001b[0;34m.\u001b[0m\u001b[0mshape\u001b[0m\u001b[0;34m[\u001b[0m\u001b[0maxis\u001b[0m\u001b[0;34m]\u001b[0m\u001b[0;34m\u001b[0m\u001b[0;34m\u001b[0m\u001b[0m\n\u001b[1;32m    871\u001b[0m         \u001b[0;32mif\u001b[0m \u001b[0mN\u001b[0m \u001b[0;34m%\u001b[0m \u001b[0msections\u001b[0m\u001b[0;34m:\u001b[0m\u001b[0;34m\u001b[0m\u001b[0;34m\u001b[0m\u001b[0m\n\u001b[0;32m--> 872\u001b[0;31m             raise ValueError(\n\u001b[0m\u001b[1;32m    873\u001b[0m                 'array split does not result in an equal division') from None\n\u001b[1;32m    874\u001b[0m     \u001b[0;32mreturn\u001b[0m \u001b[0marray_split\u001b[0m\u001b[0;34m(\u001b[0m\u001b[0mary\u001b[0m\u001b[0;34m,\u001b[0m \u001b[0mindices_or_sections\u001b[0m\u001b[0;34m,\u001b[0m \u001b[0maxis\u001b[0m\u001b[0;34m)\u001b[0m\u001b[0;34m\u001b[0m\u001b[0;34m\u001b[0m\u001b[0m\n",
            "\u001b[0;31mValueError\u001b[0m: array split does not result in an equal division"
          ]
        }
      ]
    },
    {
      "cell_type": "code",
      "source": [
        "arr = np.arange(1, 19).reshape(-1, 3)\n",
        "arr"
      ],
      "metadata": {
        "colab": {
          "base_uri": "https://localhost:8080/"
        },
        "id": "78SczIroVurB",
        "outputId": "6d087024-ab04-45fc-fc95-fd6af4bd03d2"
      },
      "execution_count": null,
      "outputs": [
        {
          "output_type": "execute_result",
          "data": {
            "text/plain": [
              "array([[ 1,  2,  3],\n",
              "       [ 4,  5,  6],\n",
              "       [ 7,  8,  9],\n",
              "       [10, 11, 12],\n",
              "       [13, 14, 15],\n",
              "       [16, 17, 18]])"
            ]
          },
          "metadata": {},
          "execution_count": 48
        }
      ]
    },
    {
      "cell_type": "code",
      "source": [
        "np.array_split(arr,3) # axis = 0 디폴트 값 "
      ],
      "metadata": {
        "colab": {
          "base_uri": "https://localhost:8080/"
        },
        "id": "ZL_v2CE5V8Jl",
        "outputId": "b0899125-d915-4bb6-ea8d-6e4281979315"
      },
      "execution_count": null,
      "outputs": [
        {
          "output_type": "execute_result",
          "data": {
            "text/plain": [
              "[array([[1, 2, 3],\n",
              "        [4, 5, 6]]), array([[ 7,  8,  9],\n",
              "        [10, 11, 12]]), array([[13, 14, 15],\n",
              "        [16, 17, 18]])]"
            ]
          },
          "metadata": {},
          "execution_count": 49
        }
      ]
    },
    {
      "cell_type": "code",
      "source": [
        "np.array_split(arr,3, axis=1) # axis = 0 디폴트 값 "
      ],
      "metadata": {
        "colab": {
          "base_uri": "https://localhost:8080/"
        },
        "id": "XxkmoeqHWF3Z",
        "outputId": "8f1cd66f-8ab1-4ec5-e93d-ffda35bc4678"
      },
      "execution_count": null,
      "outputs": [
        {
          "output_type": "execute_result",
          "data": {
            "text/plain": [
              "[array([[ 1],\n",
              "        [ 4],\n",
              "        [ 7],\n",
              "        [10],\n",
              "        [13],\n",
              "        [16]]), array([[ 2],\n",
              "        [ 5],\n",
              "        [ 8],\n",
              "        [11],\n",
              "        [14],\n",
              "        [17]]), array([[ 3],\n",
              "        [ 6],\n",
              "        [ 9],\n",
              "        [12],\n",
              "        [15],\n",
              "        [18]])]"
            ]
          },
          "metadata": {},
          "execution_count": 51
        }
      ]
    },
    {
      "cell_type": "code",
      "source": [
        "# 브로드 캐스팅: 크기가 작은 배열을 자동으로 반복확장하여 크기가 큰 배열에 맞추는 방법\n",
        "x = np.arange(5)\n",
        "x + 1"
      ],
      "metadata": {
        "colab": {
          "base_uri": "https://localhost:8080/"
        },
        "id": "uxbqG7AzWKCQ",
        "outputId": "0c32a2bf-e139-4e2b-bbe8-ba0c29ede711"
      },
      "execution_count": null,
      "outputs": [
        {
          "output_type": "execute_result",
          "data": {
            "text/plain": [
              "array([1, 2, 3, 4, 5])"
            ]
          },
          "metadata": {},
          "execution_count": 52
        }
      ]
    },
    {
      "cell_type": "code",
      "source": [
        "x + np.ones_like(x) * 1"
      ],
      "metadata": {
        "colab": {
          "base_uri": "https://localhost:8080/"
        },
        "id": "Xft-dc9BWtxw",
        "outputId": "7c7a73f0-b72c-4e35-de65-3cc256b394d1"
      },
      "execution_count": null,
      "outputs": [
        {
          "output_type": "execute_result",
          "data": {
            "text/plain": [
              "array([1, 2, 3, 4, 5])"
            ]
          },
          "metadata": {},
          "execution_count": 53
        }
      ]
    },
    {
      "cell_type": "code",
      "source": [
        "x + 10 # 먼저 이 과정을 거치고 더함(np.ones_like(x) * 10 )"
      ],
      "metadata": {
        "colab": {
          "base_uri": "https://localhost:8080/"
        },
        "id": "6vMOm5UeWxZC",
        "outputId": "74bdf48d-0aed-49ef-9a98-70f15e5d12e8"
      },
      "execution_count": null,
      "outputs": [
        {
          "output_type": "execute_result",
          "data": {
            "text/plain": [
              "array([10, 11, 12, 13, 14])"
            ]
          },
          "metadata": {},
          "execution_count": 55
        }
      ]
    },
    {
      "cell_type": "code",
      "source": [
        "x + np.full_like(x ,10)"
      ],
      "metadata": {
        "colab": {
          "base_uri": "https://localhost:8080/"
        },
        "id": "eQ8HmbVtW6DY",
        "outputId": "7d017217-7085-4187-8a6c-3ec1bfa5506b"
      },
      "execution_count": null,
      "outputs": [
        {
          "output_type": "execute_result",
          "data": {
            "text/plain": [
              "array([10, 11, 12, 13, 14])"
            ]
          },
          "metadata": {},
          "execution_count": 57
        }
      ]
    },
    {
      "cell_type": "code",
      "source": [
        "x = np.vstack([range(7)[i:i+3] for i in range(5)])\n",
        "x"
      ],
      "metadata": {
        "colab": {
          "base_uri": "https://localhost:8080/"
        },
        "id": "dTzlxipqXAeC",
        "outputId": "a908219c-99e2-4ea9-bbd5-f938ccf5f48c"
      },
      "execution_count": null,
      "outputs": [
        {
          "output_type": "execute_result",
          "data": {
            "text/plain": [
              "array([[0, 1, 2],\n",
              "       [1, 2, 3],\n",
              "       [2, 3, 4],\n",
              "       [3, 4, 5],\n",
              "       [4, 5, 6]])"
            ]
          },
          "metadata": {},
          "execution_count": 58
        }
      ]
    },
    {
      "cell_type": "code",
      "source": [
        "y = np.arange(5).reshape(-1,1)\n",
        "y"
      ],
      "metadata": {
        "colab": {
          "base_uri": "https://localhost:8080/"
        },
        "id": "Nkt17Ji0XNPr",
        "outputId": "0ddb9805-eacf-4c83-fbb2-0041618a82a2"
      },
      "execution_count": null,
      "outputs": [
        {
          "output_type": "execute_result",
          "data": {
            "text/plain": [
              "array([[0],\n",
              "       [1],\n",
              "       [2],\n",
              "       [3],\n",
              "       [4]])"
            ]
          },
          "metadata": {},
          "execution_count": 59
        }
      ]
    },
    {
      "cell_type": "code",
      "source": [
        "x + y"
      ],
      "metadata": {
        "colab": {
          "base_uri": "https://localhost:8080/"
        },
        "id": "K8FORv2cXWRp",
        "outputId": "b6e857c9-fefa-4687-f0ae-b99b158ca727"
      },
      "execution_count": null,
      "outputs": [
        {
          "output_type": "execute_result",
          "data": {
            "text/plain": [
              "array([[ 0,  1,  2],\n",
              "       [ 2,  3,  4],\n",
              "       [ 4,  5,  6],\n",
              "       [ 6,  7,  8],\n",
              "       [ 8,  9, 10]])"
            ]
          },
          "metadata": {},
          "execution_count": 61
        }
      ]
    },
    {
      "cell_type": "code",
      "source": [
        "np.repeat(y, 2)"
      ],
      "metadata": {
        "colab": {
          "base_uri": "https://localhost:8080/"
        },
        "id": "x1f7SFX-XiOj",
        "outputId": "9c366e52-8dc7-465f-ce4e-3a778127bc22"
      },
      "execution_count": null,
      "outputs": [
        {
          "output_type": "execute_result",
          "data": {
            "text/plain": [
              "array([0, 0, 1, 1, 2, 2, 3, 3, 4, 4])"
            ]
          },
          "metadata": {},
          "execution_count": 62
        }
      ]
    },
    {
      "cell_type": "code",
      "source": [
        "x = np.arange(1,5) # 1 ~ 4"
      ],
      "metadata": {
        "id": "XndLOEzdXm3N"
      },
      "execution_count": null,
      "outputs": []
    },
    {
      "cell_type": "code",
      "source": [
        "np.sum(x), x.sum()"
      ],
      "metadata": {
        "colab": {
          "base_uri": "https://localhost:8080/"
        },
        "id": "-ZbRtWn3Xrl9",
        "outputId": "b1ed97b5-e937-4d6c-8064-1d525faadf6b"
      },
      "execution_count": null,
      "outputs": [
        {
          "output_type": "execute_result",
          "data": {
            "text/plain": [
              "(10, 10)"
            ]
          },
          "metadata": {},
          "execution_count": 64
        }
      ]
    },
    {
      "cell_type": "code",
      "source": [
        "x.min(), x.max()"
      ],
      "metadata": {
        "colab": {
          "base_uri": "https://localhost:8080/"
        },
        "id": "bnpYMFjtXwzC",
        "outputId": "7603743d-a48f-4ef6-9d11-b8979a2d16ae"
      },
      "execution_count": null,
      "outputs": [
        {
          "output_type": "execute_result",
          "data": {
            "text/plain": [
              "(1, 4)"
            ]
          },
          "metadata": {},
          "execution_count": 66
        }
      ]
    },
    {
      "cell_type": "code",
      "source": [
        "x.argmin(), x.argmax()"
      ],
      "metadata": {
        "colab": {
          "base_uri": "https://localhost:8080/"
        },
        "id": "k65luA57Xx4L",
        "outputId": "ed139d75-ab29-4f77-abc1-0adbf6017334"
      },
      "execution_count": null,
      "outputs": [
        {
          "output_type": "execute_result",
          "data": {
            "text/plain": [
              "(0, 3)"
            ]
          },
          "metadata": {},
          "execution_count": 67
        }
      ]
    },
    {
      "cell_type": "code",
      "source": [
        "x.mean() # np.mean"
      ],
      "metadata": {
        "colab": {
          "base_uri": "https://localhost:8080/"
        },
        "id": "6FRqdnZWX3Po",
        "outputId": "7a15963f-085f-4051-9342-c926560cc46c"
      },
      "execution_count": null,
      "outputs": [
        {
          "output_type": "execute_result",
          "data": {
            "text/plain": [
              "2.5"
            ]
          },
          "metadata": {},
          "execution_count": 69
        }
      ]
    },
    {
      "cell_type": "code",
      "source": [
        "np.median(x)"
      ],
      "metadata": {
        "colab": {
          "base_uri": "https://localhost:8080/"
        },
        "id": "ljigCwIQX7OL",
        "outputId": "50086033-75fd-4440-fe2f-ff605d056756"
      },
      "execution_count": null,
      "outputs": [
        {
          "output_type": "execute_result",
          "data": {
            "text/plain": [
              "2.5"
            ]
          },
          "metadata": {},
          "execution_count": 70
        }
      ]
    },
    {
      "cell_type": "code",
      "source": [
        "np.any(x > 4)"
      ],
      "metadata": {
        "colab": {
          "base_uri": "https://localhost:8080/"
        },
        "id": "6MbEqUCJX8tn",
        "outputId": "ced7f6d8-5a87-4e2d-84e3-e925238b603c"
      },
      "execution_count": null,
      "outputs": [
        {
          "output_type": "execute_result",
          "data": {
            "text/plain": [
              "False"
            ]
          },
          "metadata": {},
          "execution_count": 72
        }
      ]
    },
    {
      "cell_type": "code",
      "source": [
        "np.any(x > 2)"
      ],
      "metadata": {
        "colab": {
          "base_uri": "https://localhost:8080/"
        },
        "id": "iQsyGjVSYEl8",
        "outputId": "966d1db0-1c08-4f95-a8d5-88a5e4de4b67"
      },
      "execution_count": null,
      "outputs": [
        {
          "output_type": "execute_result",
          "data": {
            "text/plain": [
              "True"
            ]
          },
          "metadata": {},
          "execution_count": 73
        }
      ]
    },
    {
      "cell_type": "code",
      "source": [
        "np.all(x > 2), np.all(x >= 0)"
      ],
      "metadata": {
        "colab": {
          "base_uri": "https://localhost:8080/"
        },
        "id": "eVmNuvD9YG3h",
        "outputId": "9aacfe41-1d8b-4742-885a-6d4d8fd6cc55"
      },
      "execution_count": null,
      "outputs": [
        {
          "output_type": "execute_result",
          "data": {
            "text/plain": [
              "(False, True)"
            ]
          },
          "metadata": {},
          "execution_count": 74
        }
      ]
    },
    {
      "cell_type": "code",
      "source": [
        "x = np.array(((1,1),(2,2)))\n",
        "x"
      ],
      "metadata": {
        "colab": {
          "base_uri": "https://localhost:8080/"
        },
        "id": "9_qqHspOX4ti",
        "outputId": "7438d04e-e51a-49ec-af02-effa13f78ac1"
      },
      "execution_count": null,
      "outputs": [
        {
          "output_type": "execute_result",
          "data": {
            "text/plain": [
              "array([[1, 1],\n",
              "       [2, 2]])"
            ]
          },
          "metadata": {},
          "execution_count": 76
        }
      ]
    },
    {
      "cell_type": "code",
      "source": [
        "x.sum()"
      ],
      "metadata": {
        "colab": {
          "base_uri": "https://localhost:8080/"
        },
        "id": "vKNOPdsRYYvy",
        "outputId": "4742a59d-2a8f-4247-b1c3-62520d5d1de5"
      },
      "execution_count": null,
      "outputs": [
        {
          "output_type": "execute_result",
          "data": {
            "text/plain": [
              "6"
            ]
          },
          "metadata": {},
          "execution_count": 77
        }
      ]
    },
    {
      "cell_type": "code",
      "source": [
        "x.sum(axis=0) # 행내부에 있는 열들 간의 연산"
      ],
      "metadata": {
        "colab": {
          "base_uri": "https://localhost:8080/"
        },
        "id": "m804DG22YZgj",
        "outputId": "7d3c52a7-c77f-4b5b-ba19-e08f9ae30faf"
      },
      "execution_count": null,
      "outputs": [
        {
          "output_type": "execute_result",
          "data": {
            "text/plain": [
              "array([3, 3])"
            ]
          },
          "metadata": {},
          "execution_count": 79
        }
      ]
    },
    {
      "cell_type": "code",
      "source": [
        "x.sum(axis=1) # 열내부에 있는 행들 간의 연산"
      ],
      "metadata": {
        "colab": {
          "base_uri": "https://localhost:8080/"
        },
        "id": "jOy83np6YfXI",
        "outputId": "b2e767dd-b027-4e60-f345-45f0ed12dd80"
      },
      "execution_count": null,
      "outputs": [
        {
          "output_type": "execute_result",
          "data": {
            "text/plain": [
              "array([2, 4])"
            ]
          },
          "metadata": {},
          "execution_count": 80
        }
      ]
    },
    {
      "cell_type": "code",
      "source": [
        "a = np.random.randint(1, 20, size=12).reshape(3,-1)\n",
        "a"
      ],
      "metadata": {
        "colab": {
          "base_uri": "https://localhost:8080/"
        },
        "id": "UntN6AczYqdM",
        "outputId": "f4a1c859-9ea6-41fc-d6f2-95309d6f3319"
      },
      "execution_count": null,
      "outputs": [
        {
          "output_type": "execute_result",
          "data": {
            "text/plain": [
              "array([[ 7, 16,  6,  1],\n",
              "       [ 8, 12,  9, 12],\n",
              "       [19, 17, 17, 17]])"
            ]
          },
          "metadata": {},
          "execution_count": 82
        }
      ]
    },
    {
      "cell_type": "code",
      "source": [
        "np.sort(a) # 행을 그대로, 열들 간의 정리 axis=0\n",
        "np.sort(a, axis=1)"
      ],
      "metadata": {
        "colab": {
          "base_uri": "https://localhost:8080/"
        },
        "id": "CRy0BYflY-wQ",
        "outputId": "d08bc6c0-3b4e-4ba9-e7fe-fc9291882f1b"
      },
      "execution_count": null,
      "outputs": [
        {
          "output_type": "execute_result",
          "data": {
            "text/plain": [
              "array([[ 1,  6,  7, 16],\n",
              "       [ 8,  9, 12, 12],\n",
              "       [17, 17, 17, 19]])"
            ]
          },
          "metadata": {},
          "execution_count": 84
        }
      ]
    },
    {
      "cell_type": "code",
      "source": [
        "np.sort(a, axis=0) # 열을 그대로, 행들 간의 정리 axis=0"
      ],
      "metadata": {
        "colab": {
          "base_uri": "https://localhost:8080/"
        },
        "id": "lqhz_a0VZOtT",
        "outputId": "31937f65-52cb-42d9-c55f-dcb39be983d3"
      },
      "execution_count": null,
      "outputs": [
        {
          "output_type": "execute_result",
          "data": {
            "text/plain": [
              "array([[ 7, 12,  6,  1],\n",
              "       [ 8, 16,  9, 12],\n",
              "       [19, 17, 17, 17]])"
            ]
          },
          "metadata": {},
          "execution_count": 85
        }
      ]
    },
    {
      "cell_type": "code",
      "source": [
        "a.sort(axis=1) # in-place 사본을 만드는 게 아니라 원본에 영향을 끼침"
      ],
      "metadata": {
        "id": "-sjgLfhpZkZN"
      },
      "execution_count": null,
      "outputs": []
    },
    {
      "cell_type": "code",
      "source": [
        "np.argsort(a)"
      ],
      "metadata": {
        "colab": {
          "base_uri": "https://localhost:8080/"
        },
        "id": "nUtHVoSFZHH9",
        "outputId": "314b8549-46e8-4e57-b40b-56394cf6dcfc"
      },
      "execution_count": null,
      "outputs": [
        {
          "output_type": "execute_result",
          "data": {
            "text/plain": [
              "array([[0, 1, 2, 3],\n",
              "       [0, 1, 2, 3],\n",
              "       [0, 1, 2, 3]])"
            ]
          },
          "metadata": {},
          "execution_count": 87
        }
      ]
    },
    {
      "cell_type": "code",
      "source": [
        "np.argsort(a, axis=0)"
      ],
      "metadata": {
        "colab": {
          "base_uri": "https://localhost:8080/"
        },
        "id": "cqZ_fej9YbYx",
        "outputId": "89e0aedb-4c5e-436a-86d5-deb174f7db5c"
      },
      "execution_count": null,
      "outputs": [
        {
          "output_type": "execute_result",
          "data": {
            "text/plain": [
              "array([[0, 0, 0, 1],\n",
              "       [1, 1, 1, 0],\n",
              "       [2, 2, 2, 2]])"
            ]
          },
          "metadata": {},
          "execution_count": 89
        }
      ]
    },
    {
      "cell_type": "code",
      "source": [
        "x = np.random.randint(0, 100, 12).reshape(3, -1)\n",
        "x"
      ],
      "metadata": {
        "colab": {
          "base_uri": "https://localhost:8080/"
        },
        "id": "VOwKAdOCYVxZ",
        "outputId": "cafa2eca-19b1-48ee-8863-7caa1419daeb"
      },
      "execution_count": null,
      "outputs": [
        {
          "output_type": "execute_result",
          "data": {
            "text/plain": [
              "array([[27, 97, 97, 78],\n",
              "       [38, 31,  8, 50],\n",
              "       [69, 36, 37,  8]])"
            ]
          },
          "metadata": {},
          "execution_count": 90
        }
      ]
    },
    {
      "cell_type": "code",
      "source": [
        "x[:, np.argsort(x[1])] # 두 번쨰 행을 기준으로!"
      ],
      "metadata": {
        "colab": {
          "base_uri": "https://localhost:8080/"
        },
        "id": "eVInz5Q2aAjy",
        "outputId": "bf0da10c-b426-4ce1-d663-a78044602d8b"
      },
      "execution_count": null,
      "outputs": [
        {
          "output_type": "execute_result",
          "data": {
            "text/plain": [
              "array([[97, 97, 27, 78],\n",
              "       [ 8, 31, 38, 50],\n",
              "       [37, 36, 69,  8]])"
            ]
          },
          "metadata": {},
          "execution_count": 91
        }
      ]
    },
    {
      "cell_type": "code",
      "source": [
        "x = np.random.randint(-30, 30, 30)\n",
        "x"
      ],
      "metadata": {
        "colab": {
          "base_uri": "https://localhost:8080/"
        },
        "id": "wSGni3uJaDpI",
        "outputId": "546413d9-ce70-4d0f-b38a-d30dad3e9169"
      },
      "execution_count": null,
      "outputs": [
        {
          "output_type": "execute_result",
          "data": {
            "text/plain": [
              "array([-18,   8,   3,  26, -24,  -3,  -7,   9,  11,   4, -15,   8, -13,\n",
              "        16, -15,  22,  -9, -25, -30,   2,   6, -19,  -5,  -8,  -8,  29,\n",
              "       -28, -14,  -3,  -3])"
            ]
          },
          "metadata": {},
          "execution_count": 93
        }
      ]
    },
    {
      "cell_type": "code",
      "source": [
        "len(x)"
      ],
      "metadata": {
        "colab": {
          "base_uri": "https://localhost:8080/"
        },
        "id": "Yb7aV6R4e7JQ",
        "outputId": "eeb7d7a8-cb89-44b1-b938-29833bdb5e10"
      },
      "execution_count": null,
      "outputs": [
        {
          "output_type": "execute_result",
          "data": {
            "text/plain": [
              "30"
            ]
          },
          "metadata": {},
          "execution_count": 94
        }
      ]
    },
    {
      "cell_type": "code",
      "source": [
        "np.mean(x), x.mean()"
      ],
      "metadata": {
        "colab": {
          "base_uri": "https://localhost:8080/"
        },
        "id": "6zU05dFOe8gC",
        "outputId": "b11d2647-45d3-4b52-b7ba-0af09df463fb"
      },
      "execution_count": null,
      "outputs": [
        {
          "output_type": "execute_result",
          "data": {
            "text/plain": [
              "(-3.433333333333333, -3.433333333333333)"
            ]
          },
          "metadata": {},
          "execution_count": 95
        }
      ]
    },
    {
      "cell_type": "code",
      "source": [
        "np.var(x), x.var()"
      ],
      "metadata": {
        "colab": {
          "base_uri": "https://localhost:8080/"
        },
        "id": "yjMmSXGbfABt",
        "outputId": "158cb284-3419-4673-f904-dc1f944adaa9"
      },
      "execution_count": null,
      "outputs": [
        {
          "output_type": "execute_result",
          "data": {
            "text/plain": [
              "(233.11222222222221, 233.11222222222221)"
            ]
          },
          "metadata": {},
          "execution_count": 99
        }
      ]
    },
    {
      "cell_type": "code",
      "source": [
        "np.std(x), x.std()"
      ],
      "metadata": {
        "colab": {
          "base_uri": "https://localhost:8080/"
        },
        "id": "3nB6MQYEfDuU",
        "outputId": "db8958ab-b620-4441-a39e-218f2eea4a0c"
      },
      "execution_count": null,
      "outputs": [
        {
          "output_type": "execute_result",
          "data": {
            "text/plain": [
              "(15.26801304106799, 15.26801304106799)"
            ]
          },
          "metadata": {},
          "execution_count": 100
        }
      ]
    },
    {
      "cell_type": "code",
      "source": [
        "np.max(x), np.min(x)"
      ],
      "metadata": {
        "colab": {
          "base_uri": "https://localhost:8080/"
        },
        "id": "CtBk_8ANfMDk",
        "outputId": "d1a69d56-76d9-482e-866e-f8fa08964d53"
      },
      "execution_count": null,
      "outputs": [
        {
          "output_type": "execute_result",
          "data": {
            "text/plain": [
              "(29, -30)"
            ]
          },
          "metadata": {},
          "execution_count": 98
        }
      ]
    },
    {
      "cell_type": "code",
      "source": [
        "np.median(x) # 짝수개일 경우, 두값의 평균"
      ],
      "metadata": {
        "colab": {
          "base_uri": "https://localhost:8080/"
        },
        "id": "vAx4TbULfN-n",
        "outputId": "2be96a3a-89b3-4966-d25a-d09969fb98f7"
      },
      "execution_count": null,
      "outputs": [
        {
          "output_type": "execute_result",
          "data": {
            "text/plain": [
              "-4.0"
            ]
          },
          "metadata": {},
          "execution_count": 102
        }
      ]
    },
    {
      "cell_type": "code",
      "source": [
        "np.quantile(x, 0), np.quantile(x, 1)"
      ],
      "metadata": {
        "colab": {
          "base_uri": "https://localhost:8080/"
        },
        "id": "gzuUD67pfguh",
        "outputId": "aaf5a4db-67f9-44a3-c7b8-d828b6ccde1b"
      },
      "execution_count": null,
      "outputs": [
        {
          "output_type": "execute_result",
          "data": {
            "text/plain": [
              "(-30, 29)"
            ]
          },
          "metadata": {},
          "execution_count": 111
        }
      ]
    },
    {
      "cell_type": "code",
      "source": [
        "np.quantile(x, 0.25), np.percentile(x, 25),np.quantile(x, 1/4)"
      ],
      "metadata": {
        "colab": {
          "base_uri": "https://localhost:8080/"
        },
        "id": "FwTDa7ukfvfb",
        "outputId": "12b7968e-1c41-4e8c-e522-7940915c4e9d"
      },
      "execution_count": null,
      "outputs": [
        {
          "output_type": "execute_result",
          "data": {
            "text/plain": [
              "(-14.75, -14.75, -14.75)"
            ]
          },
          "metadata": {},
          "execution_count": 117
        }
      ]
    },
    {
      "cell_type": "code",
      "source": [
        "np.quantile(x, 0.5), np.percentile(x, 50), np.quantile(x, 2/4)"
      ],
      "metadata": {
        "colab": {
          "base_uri": "https://localhost:8080/"
        },
        "id": "tRdooi9yfzNz",
        "outputId": "a7c5be8d-cf80-42b6-e716-92b4ac16afb2"
      },
      "execution_count": null,
      "outputs": [
        {
          "output_type": "execute_result",
          "data": {
            "text/plain": [
              "(-4.0, -4.0, -4.0)"
            ]
          },
          "metadata": {},
          "execution_count": 118
        }
      ]
    },
    {
      "cell_type": "code",
      "source": [
        "np.quantile(x, 0.75), np.percentile(x, 75),np.quantile(x, 3/4) "
      ],
      "metadata": {
        "colab": {
          "base_uri": "https://localhost:8080/"
        },
        "id": "ipXvSi2ofmQ3",
        "outputId": "cda512c6-17da-41a7-b5b1-086e3479b1b5"
      },
      "execution_count": null,
      "outputs": [
        {
          "output_type": "execute_result",
          "data": {
            "text/plain": [
              "(7.5, 7.5, 7.5)"
            ]
          },
          "metadata": {},
          "execution_count": 119
        }
      ]
    },
    {
      "cell_type": "code",
      "source": [
        "np.random.seed(0) # 이후에 나오는 랜덤값들이 순서가 일치"
      ],
      "metadata": {
        "id": "-Nw5kqgsfsE7"
      },
      "execution_count": null,
      "outputs": []
    },
    {
      "cell_type": "code",
      "source": [
        "np.random.rand(5)"
      ],
      "metadata": {
        "colab": {
          "base_uri": "https://localhost:8080/"
        },
        "id": "ByNUKAkigdLN",
        "outputId": "a1752525-6021-4329-d6c9-90d2d3184e85"
      },
      "execution_count": null,
      "outputs": [
        {
          "output_type": "execute_result",
          "data": {
            "text/plain": [
              "array([0.5488135 , 0.71518937, 0.60276338, 0.54488318, 0.4236548 ])"
            ]
          },
          "metadata": {},
          "execution_count": 121
        }
      ]
    },
    {
      "cell_type": "code",
      "source": [
        "x = np.arange(10)\n",
        "x"
      ],
      "metadata": {
        "colab": {
          "base_uri": "https://localhost:8080/"
        },
        "id": "Q3PpesQggkKJ",
        "outputId": "c57c59d7-070c-476b-e5a2-693ba1d53964"
      },
      "execution_count": null,
      "outputs": [
        {
          "output_type": "execute_result",
          "data": {
            "text/plain": [
              "array([0, 1, 2, 3, 4, 5, 6, 7, 8, 9])"
            ]
          },
          "metadata": {},
          "execution_count": 122
        }
      ]
    },
    {
      "cell_type": "code",
      "source": [
        "np.random.shuffle(x)"
      ],
      "metadata": {
        "id": "rMjvPFPjgo94"
      },
      "execution_count": null,
      "outputs": []
    },
    {
      "cell_type": "code",
      "source": [
        "x"
      ],
      "metadata": {
        "colab": {
          "base_uri": "https://localhost:8080/"
        },
        "id": "tcJQobrNgrrF",
        "outputId": "014dfd2c-e6e1-498e-dd3a-7f2f58fefbb6"
      },
      "execution_count": null,
      "outputs": [
        {
          "output_type": "execute_result",
          "data": {
            "text/plain": [
              "array([3, 1, 8, 7, 9, 0, 6, 4, 2, 5])"
            ]
          },
          "metadata": {},
          "execution_count": 124
        }
      ]
    },
    {
      "cell_type": "code",
      "source": [
        "np.random.choice(x,5, replace=False)"
      ],
      "metadata": {
        "colab": {
          "base_uri": "https://localhost:8080/"
        },
        "id": "YLfpPToQgubC",
        "outputId": "eacb0e39-9183-4784-b7a0-a16df1af287e"
      },
      "execution_count": null,
      "outputs": [
        {
          "output_type": "execute_result",
          "data": {
            "text/plain": [
              "array([6, 9, 2, 0, 4])"
            ]
          },
          "metadata": {},
          "execution_count": 127
        }
      ]
    },
    {
      "cell_type": "code",
      "source": [
        "np.random.choice(5, 5, replace=False)"
      ],
      "metadata": {
        "colab": {
          "base_uri": "https://localhost:8080/"
        },
        "id": "PFsIoayzg7h9",
        "outputId": "528bdf3c-9cc6-43ef-c6ad-45d5921c0488"
      },
      "execution_count": null,
      "outputs": [
        {
          "output_type": "execute_result",
          "data": {
            "text/plain": [
              "array([4, 2, 3, 1, 0])"
            ]
          },
          "metadata": {},
          "execution_count": 128
        }
      ]
    },
    {
      "cell_type": "code",
      "source": [
        "np.random.choice(np.arange(1,46), 6 replace=False))"
      ],
      "metadata": {
        "colab": {
          "base_uri": "https://localhost:8080/"
        },
        "id": "4K2rOXbrhALe",
        "outputId": "7df4aed9-6a2b-4332-9566-424a4361a101"
      },
      "execution_count": null,
      "outputs": [
        {
          "output_type": "execute_result",
          "data": {
            "text/plain": [
              "array([ 2, 37, 11, 23, 44, 41])"
            ]
          },
          "metadata": {},
          "execution_count": 137
        }
      ]
    },
    {
      "cell_type": "code",
      "source": [
        "np.random.choice(np.arange(1,46), 6, replace=True)"
      ],
      "metadata": {
        "colab": {
          "base_uri": "https://localhost:8080/"
        },
        "id": "eas505FdhIxf",
        "outputId": "09f8f517-d5f8-41a6-f45c-79382e275add"
      },
      "execution_count": null,
      "outputs": [
        {
          "output_type": "execute_result",
          "data": {
            "text/plain": [
              "array([15, 16, 21, 36, 24, 16])"
            ]
          },
          "metadata": {},
          "execution_count": 130
        }
      ]
    },
    {
      "cell_type": "code",
      "source": [
        "np.random.choice(np.arange(1,7), 6, p=[0,0,0,0.6,0.2,0.2])"
      ],
      "metadata": {
        "colab": {
          "base_uri": "https://localhost:8080/"
        },
        "id": "T24O00QchVkM",
        "outputId": "a4883c6e-7060-48ad-9e17-f07e5b0a1d4e"
      },
      "execution_count": null,
      "outputs": [
        {
          "output_type": "execute_result",
          "data": {
            "text/plain": [
              "array([5, 4, 5, 4, 4, 4])"
            ]
          },
          "metadata": {},
          "execution_count": 139
        }
      ]
    },
    {
      "cell_type": "code",
      "source": [
        "np.random.randn(10) # 0 평균, 표준편차 -1, -2, +2 => 99.9%에 가까울수록 값들이 더 많이 등장"
      ],
      "metadata": {
        "colab": {
          "base_uri": "https://localhost:8080/"
        },
        "id": "gjHKliAohk_I",
        "outputId": "b0597b78-f579-4c5a-90ac-7772b4f08ae6"
      },
      "execution_count": null,
      "outputs": [
        {
          "output_type": "execute_result",
          "data": {
            "text/plain": [
              "array([ 0.90751962, -0.58582287,  0.93755884, -0.25460809,  0.97359871,\n",
              "        0.20728277,  1.09964197,  0.93989698,  0.606389  ,  0.00176084])"
            ]
          },
          "metadata": {},
          "execution_count": 141
        }
      ]
    },
    {
      "cell_type": "code",
      "source": [
        "np.random.randn(3,5)"
      ],
      "metadata": {
        "colab": {
          "base_uri": "https://localhost:8080/"
        },
        "id": "-tVJqutBh-uD",
        "outputId": "668eecc2-fcb9-4f39-d22d-2bf1a003e7f7"
      },
      "execution_count": null,
      "outputs": [
        {
          "output_type": "execute_result",
          "data": {
            "text/plain": [
              "array([[-0.99016014,  1.87239408, -0.24107359,  0.05334491,  1.03081595],\n",
              "       [-1.27698899,  0.83771977, -1.49011141, -1.070215  , -0.20912862],\n",
              "       [ 0.60457228, -1.74305823,  1.52422681,  1.86357532,  1.29137792]])"
            ]
          },
          "metadata": {},
          "execution_count": 142
        }
      ]
    },
    {
      "cell_type": "code",
      "source": [
        "np.random.randint(10) # 최소 0 , low"
      ],
      "metadata": {
        "colab": {
          "base_uri": "https://localhost:8080/"
        },
        "id": "n38uXODiiBQn",
        "outputId": "b8a132c6-9680-4263-9a9d-3c6d7aa5c6ec"
      },
      "execution_count": null,
      "outputs": [
        {
          "output_type": "execute_result",
          "data": {
            "text/plain": [
              "3"
            ]
          },
          "metadata": {},
          "execution_count": 143
        }
      ]
    },
    {
      "cell_type": "code",
      "source": [
        "np.random.randint(1, 10) # 최소 low, 최대 high"
      ],
      "metadata": {
        "colab": {
          "base_uri": "https://localhost:8080/"
        },
        "id": "O6Gc6lk1iGiN",
        "outputId": "5687d219-6f44-4fd5-ac81-d41d1e61f531"
      },
      "execution_count": null,
      "outputs": [
        {
          "output_type": "execute_result",
          "data": {
            "text/plain": [
              "3"
            ]
          },
          "metadata": {},
          "execution_count": 144
        }
      ]
    },
    {
      "cell_type": "code",
      "source": [
        "np.random.randint(1, 10, 100) # 최소 low, 최대 high, size = 100 입력해도 됨"
      ],
      "metadata": {
        "colab": {
          "base_uri": "https://localhost:8080/"
        },
        "id": "H17lGdiJiLPT",
        "outputId": "97515290-8faf-4aee-d8eb-982ad2c37d65"
      },
      "execution_count": null,
      "outputs": [
        {
          "output_type": "execute_result",
          "data": {
            "text/plain": [
              "array([4, 7, 4, 7, 6, 8, 1, 9, 5, 7, 6, 9, 3, 4, 8, 6, 4, 5, 6, 4, 4, 8,\n",
              "       8, 4, 3, 4, 8, 8, 6, 2, 3, 3, 9, 2, 6, 9, 5, 1, 3, 6, 6, 1, 9, 2,\n",
              "       2, 1, 4, 9, 9, 5, 5, 1, 4, 8, 4, 3, 2, 2, 3, 2, 5, 3, 6, 6, 6, 3,\n",
              "       6, 8, 8, 7, 2, 7, 8, 3, 4, 2, 6, 3, 1, 2, 1, 7, 1, 5, 9, 5, 4, 4,\n",
              "       9, 9, 8, 1, 4, 9, 8, 8, 2, 9, 5, 8])"
            ]
          },
          "metadata": {},
          "execution_count": 145
        }
      ]
    },
    {
      "cell_type": "code",
      "source": [
        "# 가격이 10,000원인 주식이 있다. \n",
        "price = 10000\n",
        "# 이 주식의 일간 수익률(%)은 기댓값이 0%이고 표준편차가 1%인 표준 정규 분포를 따른다\n",
        "days = 250\n",
        "daily_earning_rate = np.random.randn(days) / 100 # 기댓값이 0\n",
        "print(daily_earning_rate)\n",
        "# 250일 동안의 주가를 무작위로 생성하라\n",
        "# 주가 -> 전일 가격 * (1 + 당일 수익률)\n",
        "price_arr = np.empty(days)\n",
        "for i, v in enumerate(daily_earning_rate):\n",
        "  print(v)\n",
        "  price *= (1 + v)\n",
        "  price_arr[i] = price\n",
        "  print(price_arr[i])\n",
        "  print(price)\n",
        "price_arr"
      ],
      "metadata": {
        "colab": {
          "base_uri": "https://localhost:8080/"
        },
        "id": "oe0VCjrMiP8V",
        "outputId": "0ca70718-432c-4cc5-8e6a-8d9e29943eac"
      },
      "execution_count": null,
      "outputs": [
        {
          "output_type": "stream",
          "name": "stdout",
          "text": [
            "[-0.00912783  0.0021951   0.00393063 -0.00938982  0.01017021  0.01422983\n",
            "  0.00396087 -0.00591403  0.01124419  0.00755396  0.00867407 -0.00656464\n",
            " -0.02834555  0.02116791 -0.01610878 -0.00035768  0.02380745  0.00330577\n",
            "  0.00949246 -0.01502397 -0.01777667 -0.00532703  0.0109075  -0.00346249\n",
            " -0.00794636  0.00197967  0.01081935 -0.0144494  -0.01210543 -0.00788669\n",
            "  0.01094638  0.00234822  0.02132153  0.00936446 -0.00035095  0.01265078\n",
            "  0.00211497 -0.00704921  0.00679975 -0.00696327 -0.00290397  0.01327783\n",
            " -0.00101281 -0.00803141 -0.00464338  0.01021791 -0.00552541 -0.00386871\n",
            " -0.00510293  0.00183925 -0.0038549  -0.01601836 -0.00887181 -0.00932789\n",
            "  0.01243319  0.00812674  0.00587259 -0.00505358 -0.00815792 -0.00507518\n",
            " -0.0105188   0.024972   -0.02245322  0.00564009 -0.01284552 -0.00104343\n",
            " -0.00988002 -0.01177629 -0.01140196  0.01754986 -0.00132988 -0.00765702\n",
            "  0.00555787  0.00010349  0.00720034 -0.01824257  0.00303604  0.00772695\n",
            " -0.01661598  0.00448195  0.01696182 -0.00014858  0.00821406  0.0067057\n",
            " -0.00707506  0.00039767 -0.01566995 -0.00451303  0.00265688  0.007231\n",
            "  0.00024612  0.00719984 -0.01102906 -0.00101697  0.00019279  0.01849591\n",
            " -0.00214167 -0.00499017  0.00021351 -0.00919113  0.00192754 -0.00365055\n",
            " -0.01791328 -0.00058587 -0.00317543 -0.01632423 -0.00067134  0.01489356\n",
            "  0.00521304  0.00611927 -0.01341497  0.00476898  0.0014845   0.00529045\n",
            "  0.00422629 -0.01359781 -0.00041401 -0.00757871 -0.00050084 -0.00897401\n",
            "  0.0131247  -0.00858972 -0.00898942  0.00074586 -0.01077099 -0.00424663\n",
            " -0.00829965  0.01411172  0.00785804 -0.0005747  -0.00391217  0.00940918\n",
            "  0.00405204  0.00498052 -0.00026192 -0.0168823  -0.00112466 -0.0053249\n",
            "  0.00645055  0.01011842 -0.00657951  0.00468385  0.01735879 -0.00667713\n",
            "  0.01681922 -0.00852586  0.0002296  -0.00011146  0.00011499 -0.00837678\n",
            " -0.00591183 -0.0066772   0.00326963  0.00330035  0.02225944  0.01370989\n",
            " -0.00509843  0.0032487   0.00997118  0.00030602 -0.00069642  0.00051575\n",
            "  0.00867277 -0.00848321 -0.00325669  0.00470433  0.00311447  0.00239583\n",
            " -0.00369801  0.00972536  0.02133868  0.00406415 -0.00193177  0.0075574\n",
            " -0.00539133 -0.0074969   0.00032809 -0.02582797 -0.0115395  -0.00347962\n",
            " -0.01353389 -0.01032643 -0.00436748 -0.01642965 -0.00406072 -0.0053527\n",
            "  0.00025405  0.01154184  0.00172504  0.00021062  0.00099454  0.00227393\n",
            " -0.01016739 -0.00114775  0.00308751 -0.0137076   0.00865653  0.01081376\n",
            " -0.00631376 -0.00241338 -0.0087819   0.0069938  -0.01061222 -0.00222477\n",
            " -0.0085892   0.00050954 -0.01794229  0.01326462 -0.00964606  0.00059895\n",
            " -0.00212523 -0.00762115 -0.0088778   0.00936399 -0.00525641  0.0027117\n",
            " -0.00801497 -0.00647181  0.00472247  0.00930408 -0.00175316 -0.0142192\n",
            "  0.01997956 -0.00856549 -0.01541587  0.02594425 -0.00404032 -0.01461733\n",
            " -0.0068344   0.00367545  0.00190312 -0.00851729  0.01822724 -0.0052158\n",
            " -0.01184687  0.00960693  0.01329063 -0.00817493 -0.01401347  0.01030438\n",
            " -0.02047324 -0.01226622  0.00967446 -0.00055353 -0.00263937  0.00352817\n",
            " -0.00152774 -0.01298687  0.01276075  0.01325014]\n",
            "-0.009127834941352919\n",
            "9908.72165058647\n",
            "9908.72165058647\n",
            "0.0021950955579304525\n",
            "9930.472241466441\n",
            "9930.472241466441\n",
            "0.003930629339800916\n",
            "9969.505247016828\n",
            "9969.505247016828\n",
            "-0.009389815726777852\n",
            "9875.893429860194\n",
            "9875.893429860194\n",
            "0.010170209914132446\n",
            "9976.333339131475\n",
            "9976.333339131475\n",
            "0.01422983496516106\n",
            "10118.29491610475\n",
            "10118.29491610475\n",
            "0.003960865849565602\n",
            "10158.372124893784\n",
            "10158.372124893784\n",
            "-0.005914026678081108\n",
            "10098.295241141286\n",
            "10098.295241141286\n",
            "0.011244191845103682\n",
            "10211.842410141177\n",
            "10211.842410141177\n",
            "0.007553956956633383\n",
            "10288.982228155306\n",
            "10288.982228155306\n",
            "0.008674074113549179\n",
            "10378.229622555315\n",
            "10378.229622555315\n",
            "-0.0065646367497153146\n",
            "10310.100314978105\n",
            "10310.100314978105\n",
            "-0.028345545052747022\n",
            "10017.85490200155\n",
            "10017.85490200155\n",
            "0.021167910214836754\n",
            "10229.911955112382\n",
            "10229.911955112382\n",
            "-0.01610878403449934\n",
            "10065.120512735533\n",
            "10065.120512735533\n",
            "-0.0003576807186022113\n",
            "10061.52041319772\n",
            "10061.52041319772\n",
            "0.023807453512197502\n",
            "10301.05959269695\n",
            "10301.05959269695\n",
            "0.00330576756274374\n",
            "10335.112501360378\n",
            "10335.112501360378\n",
            "0.009492464735582356\n",
            "10433.218192317818\n",
            "10433.218192317818\n",
            "-0.015023965693817127\n",
            "10276.469880120327\n",
            "10276.469880120327\n",
            "-0.017776669547337063\n",
            "10093.788470948266\n",
            "10093.788470948266\n",
            "-0.005327027919795545\n",
            "10040.018577947014\n",
            "10040.018577947014\n",
            "0.010907497344345\n",
            "10149.530053923147\n",
            "10149.530053923147\n",
            "-0.0034624944764730997\n",
            "10114.38736217264\n",
            "10114.38736217264\n",
            "-0.007946363210714987\n",
            "10034.01476653895\n",
            "10034.01476653895\n",
            "0.0019796728994496745\n",
            "10053.878833644945\n",
            "10053.878833644945\n",
            "0.010819352184772653\n",
            "10162.65528956918\n",
            "10162.65528956918\n",
            "-0.014449401990733716\n",
            "10015.810997996938\n",
            "10015.810997996938\n",
            "-0.012105429941233516\n",
            "9894.56529965605\n",
            "9894.56529965605\n",
            "-0.007886692545093662\n",
            "9816.52990527031\n",
            "9816.52990527031\n",
            "0.010946383747120914\n",
            "9923.985408678487\n",
            "9923.985408678487\n",
            "0.002348215259487319\n",
            "9947.289062650076\n",
            "9947.289062650076\n",
            "0.021321534105704434\n",
            "10159.380525658671\n",
            "10159.380525658671\n",
            "0.009364457258311159\n",
            "10254.51761036212\n",
            "10254.51761036212\n",
            "-0.00035095176869670385\n",
            "10250.918769269632\n",
            "10250.918769269632\n",
            "0.01265077838088766\n",
            "10380.600870820143\n",
            "10380.600870820143\n",
            "0.00211497012731878\n",
            "10402.555531565547\n",
            "10402.555531565547\n",
            "-0.0070492135250744496\n",
            "10329.225696417097\n",
            "10329.225696417097\n",
            "0.006799748442451023\n",
            "10399.461832758036\n",
            "10399.461832758036\n",
            "-0.006963266538610829\n",
            "10327.047608158431\n",
            "10327.047608158431\n",
            "-0.002903971008038668\n",
            "10297.058161305704\n",
            "10297.058161305704\n",
            "0.01327782695957983\n",
            "10433.780717764252\n",
            "10433.780717764252\n",
            "-0.0010128148621739936\n",
            "10423.213229584635\n",
            "10423.213229584635\n",
            "-0.008031413873416283\n",
            "10339.500090246973\n",
            "10339.500090246973\n",
            "-0.004643376914354917\n",
            "10291.48989422195\n",
            "10291.48989422195\n",
            "0.01021790585588673\n",
            "10396.647369077918\n",
            "10396.647369077918\n",
            "-0.005525406734167292\n",
            "10339.201663692053\n",
            "10339.201663692053\n",
            "-0.0038687084685064656\n",
            "10299.20230665813\n",
            "10299.20230665813\n",
            "-0.005102927396336285\n",
            "10246.646225047074\n",
            "10246.646225047074\n",
            "0.0018392549434030994\n",
            "10265.492419769796\n",
            "10265.492419769796\n",
            "-0.003854897603756083\n",
            "10225.919997639448\n",
            "10225.919997639448\n",
            "-0.01601836048972537\n",
            "10062.117524778168\n",
            "10062.117524778168\n",
            "-0.008871809418450402\n",
            "9972.848335752285\n",
            "9972.848335752285\n",
            "-0.009327890415064382\n",
            "9879.82269935033\n",
            "9879.82269935033\n",
            "0.012433193844551549\n",
            "10002.660450121155\n",
            "10002.660450121155\n",
            "0.008126740421090423\n",
            "10083.949475119598\n",
            "10083.949475119598\n",
            "0.00587259379399826\n",
            "10143.168414226178\n",
            "10143.168414226178\n",
            "-0.005053583172644099\n",
            "10091.90906901075\n",
            "10091.90906901075\n",
            "-0.008157915419939713\n",
            "10009.580128400037\n",
            "10009.580128400037\n",
            "-0.0050751760165735705\n",
            "9958.77974739641\n",
            "9958.77974739641\n",
            "-0.01051880102551674\n",
            "9854.025324776601\n",
            "9854.025324776601\n",
            "0.02497200391587007\n",
            "10100.100083774005\n",
            "10100.100083774005\n",
            "-0.022453216483714022\n",
            "9873.320350085849\n",
            "9873.320350085849\n",
            "0.005640085350738091\n",
            "9929.006719555513\n",
            "9929.006719555513\n",
            "-0.012845522979925273\n",
            "9801.46343557163\n",
            "9801.46343557163\n",
            "-0.0010434349149469264\n",
            "9791.236246405379\n",
            "9791.236246405379\n",
            "-0.009880019424937344\n",
            "9694.498642096743\n",
            "9694.498642096743\n",
            "-0.011776289624826308\n",
            "9580.333418319926\n",
            "9580.333418319926\n",
            "-0.011401963009349616\n",
            "9471.098811067006\n",
            "9471.098811067006\n",
            "0.017549861537420587\n",
            "9637.31528380846\n",
            "9637.31528380846\n",
            "-0.00132988422309592\n",
            "9624.498770259523\n",
            "9624.498770259523\n",
            "-0.007657021944780863\n",
            "9550.803771968129\n",
            "9550.803771968129\n",
            "0.0055578696408287295\n",
            "9603.885894297862\n",
            "9603.885894297862\n",
            "0.00010349314566299353\n",
            "9604.87983065965\n",
            "9604.87983065965\n",
            "0.007200337593416528\n",
            "9674.038207984597\n",
            "9674.038207984597\n",
            "-0.0182425665593783\n",
            "9497.55892207747\n",
            "9497.55892207747\n",
            "0.003036039044620014\n",
            "9526.393881793476\n",
            "9526.393881793476\n",
            "0.0077269483710238175\n",
            "9600.00383548013\n",
            "9600.00383548013\n",
            "-0.016615982911145636\n",
            "9440.49033580286\n",
            "9440.49033580286\n",
            "0.004481952844233124\n",
            "9482.802168314367\n",
            "9482.802168314367\n",
            "0.016961815728281607\n",
            "9643.647711281064\n",
            "9643.647711281064\n",
            "-0.00014857703354702716\n",
            "9642.21488671155\n",
            "9642.21488671155\n",
            "0.008214059370248113\n",
            "9721.41661225169\n",
            "9721.41661225169\n",
            "0.006705704503109099\n",
            "9786.605559405067\n",
            "9786.605559405067\n",
            "-0.007075056975105769\n",
            "9717.364767479388\n",
            "9717.364767479388\n",
            "0.0003976673458649517\n",
            "9721.229046135273\n",
            "9721.229046135273\n",
            "-0.015669947108616026\n",
            "9568.897901151591\n",
            "9568.897901151591\n",
            "-0.004513030371025261\n",
            "9525.713174306455\n",
            "9525.713174306455\n",
            "0.002656879749662359\n",
            "9551.021848740362\n",
            "9551.021848740362\n",
            "0.007231004937377982\n",
            "9620.085334885609\n",
            "9620.085334885609\n",
            "0.00024612125247911614\n",
            "9622.453042337187\n",
            "9622.453042337187\n",
            "0.0071998373014316545\n",
            "9691.73313868268\n",
            "9691.73313868268\n",
            "-0.011029062129553697\n",
            "9584.842411753096\n",
            "9584.842411753096\n",
            "-0.001016972745548716\n",
            "9575.094888249963\n",
            "9575.094888249963\n",
            "0.00019279384513077216\n",
            "9576.94090761096\n",
            "9576.94090761096\n",
            "0.018495912466796365\n",
            "9754.075168337813\n",
            "9754.075168337813\n",
            "-0.0021416665620008425\n",
            "9733.185191706541\n",
            "9733.185191706541\n",
            "-0.004990166379941829\n",
            "9684.61497819314\n",
            "9684.61497819314\n",
            "0.00021351223843548607\n",
            "9686.68276201552\n",
            "9686.68276201552\n",
            "-0.009191134448699437\n",
            "9597.651158387936\n",
            "9597.651158387936\n",
            "0.0019275384906521616\n",
            "9616.15100041558\n",
            "9616.15100041558\n",
            "-0.003650552165462577\n",
            "9581.046739557598\n",
            "9581.046739557598\n",
            "-0.017913275480411838\n",
            "9409.4188099212\n",
            "9409.4188099212\n",
            "-0.0005858655113386085\n",
            "9403.906155958726\n",
            "9403.906155958726\n",
            "-0.0031754309393019924\n",
            "9374.044701400802\n",
            "9374.044701400802\n",
            "-0.016324233020679833\n",
            "9221.020611348866\n",
            "9221.020611348866\n",
            "-0.0006713415461452177\n",
            "9214.830157114606\n",
            "9214.830157114606\n",
            "0.014893559620744803\n",
            "9352.07177945463\n",
            "9352.07177945463\n",
            "0.005213037482757137\n",
            "9400.824480182362\n",
            "9400.824480182362\n",
            "0.006119271927311578\n",
            "9458.350681517526\n",
            "9458.350681517526\n",
            "-0.013414967255830426\n",
            "9331.467216830806\n",
            "9331.467216830806\n",
            "0.0047689836892222245\n",
            "9375.968831784383\n",
            "9375.968831784383\n",
            "0.0014844958138007808\n",
            "9389.887418265493\n",
            "9389.887418265493\n",
            "0.0052904523833443165\n",
            "9439.56417053679\n",
            "9439.56417053679\n",
            "0.004226286217088256\n",
            "9479.458470486052\n",
            "9479.458470486052\n",
            "-0.013597807255038136\n",
            "9350.558621322243\n",
            "9350.558621322243\n",
            "-0.0004140081155796743\n",
            "9346.687414167813\n",
            "9346.687414167813\n",
            "-0.007578708604251661\n",
            "9275.851593840807\n",
            "9275.851593840807\n",
            "-0.000500840942848221\n",
            "9271.205867582828\n",
            "9271.205867582828\n",
            "-0.008974009269018306\n",
            "9188.005980192163\n",
            "9188.005980192163\n",
            "0.013124703671409964\n",
            "9308.595836013328\n",
            "9308.595836013328\n",
            "-0.008589723884443424\n",
            "9228.637568030093\n",
            "9228.637568030093\n",
            "-0.00898942156465536\n",
            "9145.677454463656\n",
            "9145.677454463656\n",
            "0.0007458640654355353\n",
            "9152.498886631005\n",
            "9152.498886631005\n",
            "-0.010770990694039948\n",
            "9053.917406295892\n",
            "9053.917406295892\n",
            "-0.004246633024328657\n",
            "9015.468741638771\n",
            "9015.468741638771\n",
            "-0.008299645975379619\n",
            "8940.643542781068\n",
            "8940.643542781068\n",
            "0.014111720638896118\n",
            "9066.811406788745\n",
            "9066.811406788745\n",
            "0.007858038268311725\n",
            "9138.058757794857\n",
            "9138.058757794857\n",
            "-0.0005746951846539464\n",
            "9132.807159429667\n",
            "9132.807159429667\n",
            "-0.003912170521740163\n",
            "9097.07806047981\n",
            "9097.07806047981\n",
            "0.009409176145751133\n",
            "9182.674070362511\n",
            "9182.674070362511\n",
            "0.004052040803228881\n",
            "9219.882640378373\n",
            "9219.882640378373\n",
            "0.004980524046828567\n",
            "9265.802487577716\n",
            "9265.802487577716\n",
            "-0.00026192237344250483\n",
            "9263.37556659832\n",
            "9263.37556659832\n",
            "-0.016882300277714323\n",
            "9106.988478697765\n",
            "9106.988478697765\n",
            "-0.0011246598255955271\n",
            "9096.746214623612\n",
            "9096.746214623612\n",
            "-0.005324899192090678\n",
            "9048.306958054709\n",
            "9048.306958054709\n",
            "0.006450552734598769\n",
            "9106.673539246478\n",
            "9106.673539246478\n",
            "0.01011842432994189\n",
            "9198.818726350828\n",
            "9198.818726350828\n",
            "-0.006579510447611686\n",
            "9138.295002435116\n",
            "9138.295002435116\n",
            "0.0046838523427705165\n",
            "9181.0974268912\n",
            "9181.0974268912\n",
            "0.017358789976857133\n",
            "9340.470168881666\n",
            "9340.470168881666\n",
            "-0.006677127205705589\n",
            "9278.102661402945\n",
            "9278.102661402945\n",
            "0.016819217400731376\n",
            "9434.153087131384\n",
            "9434.153087131384\n",
            "-0.00852585847170647\n",
            "9353.71883311009\n",
            "9353.71883311009\n",
            "0.00022959755607951444\n",
            "9355.866424094427\n",
            "9355.866424094427\n",
            "-0.00011145611841841251\n",
            "9354.823655538356\n",
            "9354.823655538356\n",
            "0.00011498899870062375\n",
            "9355.899357343527\n",
            "9355.899357343527\n",
            "-0.008376780419079452\n",
            "9277.527042804055\n",
            "9277.527042804055\n",
            "-0.005911831037644298\n",
            "9222.679870479822\n",
            "9222.679870479822\n",
            "-0.006677202863593994\n",
            "9161.098166038644\n",
            "9161.098166038644\n",
            "0.0032696259540445738\n",
            "9191.051530369874\n",
            "9191.051530369874\n",
            "0.0033003511451031166\n",
            "9221.38522781283\n",
            "9221.38522781283\n",
            "0.02225944331738259\n",
            "9426.64812959908\n",
            "9426.64812959908\n",
            "0.013709890062911213\n",
            "9555.88643911763\n",
            "9555.88643911763\n",
            "-0.005098432421384791\n",
            "9507.166397881361\n",
            "9507.166397881361\n",
            "0.0032486961579618607\n",
            "9538.052292831262\n",
            "9538.052292831262\n",
            "0.009971179807917596\n",
            "9633.157927260403\n",
            "9633.157927260403\n",
            "0.0003060182433851781\n",
            "9636.105849327556\n",
            "9636.105849327556\n",
            "-0.0006964157844693558\n",
            "9629.395113113267\n",
            "9629.395113113267\n",
            "0.0005157494276988904\n",
            "9634.361468131941\n",
            "9634.361468131941\n",
            "0.008672766288084279\n",
            "9717.918033479975\n",
            "9717.918033479975\n",
            "-0.008483205228052326\n",
            "9635.478940412573\n",
            "9635.478940412573\n",
            "-0.0032566946882017418\n",
            "9604.099127329051\n",
            "9604.099127329051\n",
            "0.004704331448464818\n",
            "9649.279992887918\n",
            "9649.279992887918\n",
            "0.003114470715541555\n",
            "9679.332392851828\n",
            "9679.332392851828\n",
            "0.0023958275985639134\n",
            "9702.522404534295\n",
            "9702.522404534295\n",
            "-0.003698011663038032\n",
            "9666.64236352144\n",
            "9666.64236352144\n",
            "0.00972535789142537\n",
            "9760.653920115099\n",
            "9760.653920115099\n",
            "0.021338682472045373\n",
            "9968.93341483596\n",
            "9968.93341483596\n",
            "0.004064154936762062\n",
            "10009.448704788118\n",
            "10009.448704788118\n",
            "-0.001931767015498399\n",
            "9990.112781936885\n",
            "9990.112781936885\n",
            "0.0075574028889454255\n",
            "10065.612089135984\n",
            "10065.612089135984\n",
            "-0.0053913263675299\n",
            "10011.345089274497\n",
            "10011.345089274497\n",
            "-0.007496903447028966\n",
            "9936.29100176532\n",
            "9936.29100176532\n",
            "0.00032808747613711803\n",
            "9939.550974402253\n",
            "9939.550974402253\n",
            "-0.025827966329699446\n",
            "9682.83258650306\n",
            "9682.83258650306\n",
            "-0.011539503636520095\n",
            "9571.097504659292\n",
            "9571.097504659292\n",
            "-0.0034796185592084585\n",
            "9537.793736150086\n",
            "9537.793736150086\n",
            "-0.013533888581477133\n",
            "9408.710298411921\n",
            "9408.710298411921\n",
            "-0.010326431018921296\n",
            "9311.551900538356\n",
            "9311.551900538356\n",
            "-0.004367483374580074\n",
            "9270.883852421215\n",
            "9270.883852421215\n",
            "-0.016429652935306092\n",
            "9118.5664483224\n",
            "9118.5664483224\n",
            "-0.004060717962598319\n",
            "9081.53852175255\n",
            "9081.53852175255\n",
            "-0.005352701645328445\n",
            "9032.927755565053\n",
            "9032.927755565053\n",
            "0.00025405208385016016\n",
            "9035.222589684621\n",
            "9035.222589684621\n",
            "0.011541840304940192\n",
            "9139.505685934348\n",
            "9139.505685934348\n",
            "0.001725044164928659\n",
            "9155.2717368882\n",
            "9155.2717368882\n",
            "0.00021062021342063624\n",
            "9157.200022175348\n",
            "9157.200022175348\n",
            "0.0009945445703071175\n",
            "9166.307265736617\n",
            "9166.307265736617\n",
            "0.0022739277512112844\n",
            "9187.150786204307\n",
            "9187.150786204307\n",
            "-0.010167386486097689\n",
            "9093.741473454911\n",
            "9093.741473454911\n",
            "-0.0011477532477079818\n",
            "9083.304102144937\n",
            "9083.304102144937\n",
            "0.0030875124183661314\n",
            "9111.348916360104\n",
            "9111.348916360104\n",
            "-0.013707599825430605\n",
            "8986.45419154477\n",
            "8986.45419154477\n",
            "0.008656529228158533\n",
            "9064.245694911386\n",
            "9064.245694911386\n",
            "0.010813760344581898\n",
            "9162.264275560567\n",
            "9162.264275560567\n",
            "-0.006313759884493888\n",
            "9104.4159389264\n",
            "9104.4159389264\n",
            "-0.0024133779145310455\n",
            "9082.44354257469\n",
            "9082.44354257469\n",
            "-0.00878190342810073\n",
            "9002.682400492622\n",
            "9002.682400492622\n",
            "0.0069938048358781715\n",
            "9065.645404201063\n",
            "9065.645404201063\n",
            "-0.010612222874459091\n",
            "8969.438754670866\n",
            "8969.438754670866\n",
            "-0.002224770102429203\n",
            "8949.483815493904\n",
            "8949.483815493904\n",
            "-0.008589199078076716\n",
            "8872.614917356601\n",
            "8872.614917356601\n",
            "0.000509542770112895\n",
            "8877.135894139736\n",
            "8877.135894139736\n",
            "-0.01794229271489721\n",
            "8717.859723457159\n",
            "8717.859723457159\n",
            "0.013264616423656934\n",
            "8833.498788724066\n",
            "8833.498788724066\n",
            "-0.00964606424206264\n",
            "8748.290291925852\n",
            "8748.290291925852\n",
            "0.0005989468311627605\n",
            "8753.530052674292\n",
            "8753.530052674292\n",
            "-0.002125230447703092\n",
            "8734.926784081465\n",
            "8734.926784081465\n",
            "-0.007621145119224982\n",
            "8668.356639454174\n",
            "8668.356639454174\n",
            "-0.008877801366359354\n",
            "8591.400691036337\n",
            "8591.400691036337\n",
            "0.009363985435524596\n",
            "8671.850441977957\n",
            "8671.850441977957\n",
            "-0.005256405931019397\n",
            "8626.26767588183\n",
            "8626.26767588183\n",
            "0.002711701846373109\n",
            "8649.659541865829\n",
            "8649.659541865829\n",
            "-0.008014968853943748\n",
            "8580.332790040557\n",
            "8580.332790040557\n",
            "-0.0064718143184776065\n",
            "8524.802469432669\n",
            "8524.802469432669\n",
            "0.004722471500878487\n",
            "8565.060606145184\n",
            "8565.060606145184\n",
            "0.009304084961111164\n",
            "8644.750657721825\n",
            "8644.750657721825\n",
            "-0.0017531640232701996\n",
            "8629.594991878565\n",
            "8629.594991878565\n",
            "-0.014219198716404369\n",
            "8506.889065846955\n",
            "8506.889065846955\n",
            "0.019979560797500046\n",
            "8676.852973135632\n",
            "8676.852973135632\n",
            "-0.008565493082342095\n",
            "8602.531449017739\n",
            "8602.531449017739\n",
            "-0.015415873996717875\n",
            "8469.915908146879\n",
            "8469.915908146879\n",
            "0.02594424587768152\n",
            "8689.661489031128\n",
            "8689.661489031128\n",
            "-0.004040322938509372\n",
            "8654.552450389114\n",
            "8654.552450389114\n",
            "-0.01461732688261408\n",
            "8528.046028199047\n",
            "8528.046028199047\n",
            "-0.006834397667886818\n",
            "8469.761970312293\n",
            "8469.761970312293\n",
            "0.0036754489602226904\n",
            "8500.89214813941\n",
            "8500.89214813941\n",
            "0.001903115575939397\n",
            "8517.070328395916\n",
            "8517.070328395916\n",
            "-0.0085172919725359\n",
            "8444.527953658346\n",
            "8444.527953658346\n",
            "0.018227236001279595\n",
            "8598.448357589079\n",
            "8598.448357589079\n",
            "-0.005215796779933731\n",
            "8553.60059833314\n",
            "8553.60059833314\n",
            "-0.01184686590411552\n",
            "8452.267239047325\n",
            "8452.267239047325\n",
            "0.009606933984606597\n",
            "8533.467612433105\n",
            "8533.467612433105\n",
            "0.013290628465396824\n",
            "8646.882759991451\n",
            "8646.882759991451\n",
            "-0.008174930976162264\n",
            "8576.195090269553\n",
            "8576.195090269553\n",
            "-0.014013472930393105\n",
            "8456.01281252629\n",
            "8456.01281252629\n",
            "0.010304382674156048\n",
            "8543.146804444128\n",
            "8543.146804444128\n",
            "-0.02047323613057962\n",
            "8368.240942618537\n",
            "8368.240942618537\n",
            "-0.012266216593966156\n",
            "8265.594286705882\n",
            "8265.594286705882\n",
            "0.00967446150050235\n",
            "8345.55946041139\n",
            "8345.55946041139\n",
            "-0.0005535254802238957\n",
            "8340.939980603329\n",
            "8340.939980603329\n",
            "-0.0026393734859268786\n",
            "8318.925124770816\n",
            "8318.925124770816\n",
            "0.0035281660649437835\n",
            "8348.27567409284\n",
            "8348.27567409284\n",
            "-0.001527744235454087\n",
            "8335.521644055763\n",
            "8335.521644055763\n",
            "-0.012986867221630902\n",
            "8227.269331241381\n",
            "8227.269331241381\n",
            "0.012760753460061875\n",
            "8332.25548682688\n",
            "8332.25548682688\n",
            "0.013250140528868153\n",
            "8442.659042949768\n",
            "8442.659042949768\n"
          ]
        },
        {
          "output_type": "execute_result",
          "data": {
            "text/plain": [
              "array([ 9908.72165059,  9930.47224147,  9969.50524702,  9875.89342986,\n",
              "        9976.33333913, 10118.2949161 , 10158.37212489, 10098.29524114,\n",
              "       10211.84241014, 10288.98222816, 10378.22962256, 10310.10031498,\n",
              "       10017.854902  , 10229.91195511, 10065.12051274, 10061.5204132 ,\n",
              "       10301.0595927 , 10335.11250136, 10433.21819232, 10276.46988012,\n",
              "       10093.78847095, 10040.01857795, 10149.53005392, 10114.38736217,\n",
              "       10034.01476654, 10053.87883364, 10162.65528957, 10015.810998  ,\n",
              "        9894.56529966,  9816.52990527,  9923.98540868,  9947.28906265,\n",
              "       10159.38052566, 10254.51761036, 10250.91876927, 10380.60087082,\n",
              "       10402.55553157, 10329.22569642, 10399.46183276, 10327.04760816,\n",
              "       10297.05816131, 10433.78071776, 10423.21322958, 10339.50009025,\n",
              "       10291.48989422, 10396.64736908, 10339.20166369, 10299.20230666,\n",
              "       10246.64622505, 10265.49241977, 10225.91999764, 10062.11752478,\n",
              "        9972.84833575,  9879.82269935, 10002.66045012, 10083.94947512,\n",
              "       10143.16841423, 10091.90906901, 10009.5801284 ,  9958.7797474 ,\n",
              "        9854.02532478, 10100.10008377,  9873.32035009,  9929.00671956,\n",
              "        9801.46343557,  9791.23624641,  9694.4986421 ,  9580.33341832,\n",
              "        9471.09881107,  9637.31528381,  9624.49877026,  9550.80377197,\n",
              "        9603.8858943 ,  9604.87983066,  9674.03820798,  9497.55892208,\n",
              "        9526.39388179,  9600.00383548,  9440.4903358 ,  9482.80216831,\n",
              "        9643.64771128,  9642.21488671,  9721.41661225,  9786.60555941,\n",
              "        9717.36476748,  9721.22904614,  9568.89790115,  9525.71317431,\n",
              "        9551.02184874,  9620.08533489,  9622.45304234,  9691.73313868,\n",
              "        9584.84241175,  9575.09488825,  9576.94090761,  9754.07516834,\n",
              "        9733.18519171,  9684.61497819,  9686.68276202,  9597.65115839,\n",
              "        9616.15100042,  9581.04673956,  9409.41880992,  9403.90615596,\n",
              "        9374.0447014 ,  9221.02061135,  9214.83015711,  9352.07177945,\n",
              "        9400.82448018,  9458.35068152,  9331.46721683,  9375.96883178,\n",
              "        9389.88741827,  9439.56417054,  9479.45847049,  9350.55862132,\n",
              "        9346.68741417,  9275.85159384,  9271.20586758,  9188.00598019,\n",
              "        9308.59583601,  9228.63756803,  9145.67745446,  9152.49888663,\n",
              "        9053.9174063 ,  9015.46874164,  8940.64354278,  9066.81140679,\n",
              "        9138.05875779,  9132.80715943,  9097.07806048,  9182.67407036,\n",
              "        9219.88264038,  9265.80248758,  9263.3755666 ,  9106.9884787 ,\n",
              "        9096.74621462,  9048.30695805,  9106.67353925,  9198.81872635,\n",
              "        9138.29500244,  9181.09742689,  9340.47016888,  9278.1026614 ,\n",
              "        9434.15308713,  9353.71883311,  9355.86642409,  9354.82365554,\n",
              "        9355.89935734,  9277.5270428 ,  9222.67987048,  9161.09816604,\n",
              "        9191.05153037,  9221.38522781,  9426.6481296 ,  9555.88643912,\n",
              "        9507.16639788,  9538.05229283,  9633.15792726,  9636.10584933,\n",
              "        9629.39511311,  9634.36146813,  9717.91803348,  9635.47894041,\n",
              "        9604.09912733,  9649.27999289,  9679.33239285,  9702.52240453,\n",
              "        9666.64236352,  9760.65392012,  9968.93341484, 10009.44870479,\n",
              "        9990.11278194, 10065.61208914, 10011.34508927,  9936.29100177,\n",
              "        9939.5509744 ,  9682.8325865 ,  9571.09750466,  9537.79373615,\n",
              "        9408.71029841,  9311.55190054,  9270.88385242,  9118.56644832,\n",
              "        9081.53852175,  9032.92775557,  9035.22258968,  9139.50568593,\n",
              "        9155.27173689,  9157.20002218,  9166.30726574,  9187.1507862 ,\n",
              "        9093.74147345,  9083.30410214,  9111.34891636,  8986.45419154,\n",
              "        9064.24569491,  9162.26427556,  9104.41593893,  9082.44354257,\n",
              "        9002.68240049,  9065.6454042 ,  8969.43875467,  8949.48381549,\n",
              "        8872.61491736,  8877.13589414,  8717.85972346,  8833.49878872,\n",
              "        8748.29029193,  8753.53005267,  8734.92678408,  8668.35663945,\n",
              "        8591.40069104,  8671.85044198,  8626.26767588,  8649.65954187,\n",
              "        8580.33279004,  8524.80246943,  8565.06060615,  8644.75065772,\n",
              "        8629.59499188,  8506.88906585,  8676.85297314,  8602.53144902,\n",
              "        8469.91590815,  8689.66148903,  8654.55245039,  8528.0460282 ,\n",
              "        8469.76197031,  8500.89214814,  8517.0703284 ,  8444.52795366,\n",
              "        8598.44835759,  8553.60059833,  8452.26723905,  8533.46761243,\n",
              "        8646.88275999,  8576.19509027,  8456.01281253,  8543.14680444,\n",
              "        8368.24094262,  8265.59428671,  8345.55946041,  8340.9399806 ,\n",
              "        8318.92512477,  8348.27567409,  8335.52164406,  8227.26933124,\n",
              "        8332.25548683,  8442.65904295])"
            ]
          },
          "metadata": {},
          "execution_count": 149
        }
      ]
    },
    {
      "cell_type": "code",
      "source": [
        "x = np.random.randint(1, 10, 100)\n",
        "x"
      ],
      "metadata": {
        "colab": {
          "base_uri": "https://localhost:8080/"
        },
        "id": "KDvRRynpjh71",
        "outputId": "357d1982-fabd-4643-bc97-f0a2ef390742"
      },
      "execution_count": null,
      "outputs": [
        {
          "output_type": "execute_result",
          "data": {
            "text/plain": [
              "array([3, 2, 3, 6, 9, 9, 9, 3, 3, 9, 5, 2, 2, 1, 3, 2, 8, 1, 3, 4, 5, 4,\n",
              "       1, 1, 7, 5, 4, 4, 2, 1, 8, 9, 7, 3, 9, 9, 7, 5, 2, 9, 6, 5, 4, 6,\n",
              "       8, 7, 7, 4, 4, 3, 8, 4, 6, 9, 4, 9, 6, 1, 8, 1, 2, 7, 7, 5, 6, 8,\n",
              "       7, 1, 2, 7, 7, 5, 3, 3, 5, 5, 4, 2, 1, 7, 7, 1, 9, 6, 3, 9, 5, 5,\n",
              "       1, 3, 6, 8, 8, 2, 4, 3, 1, 4, 3, 3])"
            ]
          },
          "metadata": {},
          "execution_count": 150
        }
      ]
    },
    {
      "cell_type": "code",
      "source": [
        "np.unique(x)"
      ],
      "metadata": {
        "colab": {
          "base_uri": "https://localhost:8080/"
        },
        "id": "vW43sN7Uj_Xt",
        "outputId": "bdb94e93-483f-4e91-fa3e-4a338521ae5b"
      },
      "execution_count": null,
      "outputs": [
        {
          "output_type": "execute_result",
          "data": {
            "text/plain": [
              "array([1, 2, 3, 4, 5, 6, 7, 8, 9])"
            ]
          },
          "metadata": {},
          "execution_count": 152
        }
      ]
    },
    {
      "cell_type": "code",
      "source": [
        "np.unique(x, return_counts=True)"
      ],
      "metadata": {
        "colab": {
          "base_uri": "https://localhost:8080/"
        },
        "id": "y9x1g87LkARU",
        "outputId": "1d58b77b-ed16-4bb0-a3e0-9b6b3c8f3a9d"
      },
      "execution_count": null,
      "outputs": [
        {
          "output_type": "execute_result",
          "data": {
            "text/plain": [
              "(array([1, 2, 3, 4, 5, 6, 7, 8, 9]),\n",
              " array([12, 10, 15, 12, 11,  8, 12,  8, 12]))"
            ]
          },
          "metadata": {},
          "execution_count": 154
        }
      ]
    },
    {
      "cell_type": "code",
      "source": [
        "np.unique(x, return_counts=True, return_index=True) # 순서 뒤집기"
      ],
      "metadata": {
        "colab": {
          "base_uri": "https://localhost:8080/"
        },
        "id": "b0Et3TCwkFhW",
        "outputId": "243abfd9-b690-49d7-810c-f71ca242c506"
      },
      "execution_count": null,
      "outputs": [
        {
          "output_type": "execute_result",
          "data": {
            "text/plain": [
              "(array([1, 2, 3, 4, 5, 6, 7, 8, 9]),\n",
              " array([13,  1,  0, 19, 10,  3, 24, 16,  4]),\n",
              " array([12, 10, 15, 12, 11,  8, 12,  8, 12]))"
            ]
          },
          "metadata": {},
          "execution_count": 155
        }
      ]
    },
    {
      "cell_type": "code",
      "source": [
        "np.unique(x, return_index=True)"
      ],
      "metadata": {
        "colab": {
          "base_uri": "https://localhost:8080/"
        },
        "id": "yrihziiIkPGt",
        "outputId": "884a600a-6449-48c0-940d-5daa05543583"
      },
      "execution_count": null,
      "outputs": [
        {
          "output_type": "execute_result",
          "data": {
            "text/plain": [
              "(array([1, 2, 3, 4, 5, 6, 7, 8, 9]),\n",
              " array([13,  1,  0, 19, 10,  3, 24, 16,  4]))"
            ]
          },
          "metadata": {},
          "execution_count": 156
        }
      ]
    },
    {
      "cell_type": "code",
      "source": [
        "key, value = np.unique(x, return_counts=True)\n",
        "print(key)\n",
        "print(value)"
      ],
      "metadata": {
        "colab": {
          "base_uri": "https://localhost:8080/"
        },
        "id": "07pOugH1jb4d",
        "outputId": "30e97020-da68-42bb-ecea-56067f091517"
      },
      "execution_count": null,
      "outputs": [
        {
          "output_type": "stream",
          "name": "stdout",
          "text": [
            "[1 2 3 4 5 6 7 8 9]\n",
            "[12 10 15 12 11  8 12  8 12]\n"
          ]
        }
      ]
    },
    {
      "cell_type": "code",
      "source": [
        "# 2개의 시퀀스를 인덱스로 묶어줌 -> zip\n",
        "list(zip(key, value))"
      ],
      "metadata": {
        "colab": {
          "base_uri": "https://localhost:8080/"
        },
        "id": "hcO79WOfkgQQ",
        "outputId": "dd1664ac-692d-4978-8740-e6a9b04831fe"
      },
      "execution_count": null,
      "outputs": [
        {
          "output_type": "execute_result",
          "data": {
            "text/plain": [
              "[(1, 12), (2, 10), (3, 15), (4, 12), (5, 11), (6, 8), (7, 12), (8, 8), (9, 12)]"
            ]
          },
          "metadata": {},
          "execution_count": 158
        }
      ]
    },
    {
      "cell_type": "code",
      "source": [
        "dict(list(zip(key, value)))"
      ],
      "metadata": {
        "colab": {
          "base_uri": "https://localhost:8080/"
        },
        "id": "bPkrmdOQkpax",
        "outputId": "1ad69c5b-6dbd-4331-b235-ac59005e5b3a"
      },
      "execution_count": null,
      "outputs": [
        {
          "output_type": "execute_result",
          "data": {
            "text/plain": [
              "{1: 12, 2: 10, 3: 15, 4: 12, 5: 11, 6: 8, 7: 12, 8: 8, 9: 12}"
            ]
          },
          "metadata": {},
          "execution_count": 159
        }
      ]
    },
    {
      "cell_type": "code",
      "source": [
        "dict(zip(key, value))"
      ],
      "metadata": {
        "colab": {
          "base_uri": "https://localhost:8080/"
        },
        "id": "UmleLaj3kv54",
        "outputId": "877c3bb5-6d55-4cf2-b8ec-ab0e4cd46e90"
      },
      "execution_count": null,
      "outputs": [
        {
          "output_type": "execute_result",
          "data": {
            "text/plain": [
              "{1: 12, 2: 10, 3: 15, 4: 12, 5: 11, 6: 8, 7: 12, 8: 8, 9: 12}"
            ]
          },
          "metadata": {},
          "execution_count": 161
        }
      ]
    },
    {
      "cell_type": "code",
      "source": [
        "dict(zip(*np.unique(x, return_counts=True)))"
      ],
      "metadata": {
        "colab": {
          "base_uri": "https://localhost:8080/"
        },
        "id": "Z-oOMuUsk5rB",
        "outputId": "5abdfb6c-0cdc-4ea6-d6fa-3265ab9266a9"
      },
      "execution_count": null,
      "outputs": [
        {
          "output_type": "execute_result",
          "data": {
            "text/plain": [
              "{1: 12, 2: 10, 3: 15, 4: 12, 5: 11, 6: 8, 7: 12, 8: 8, 9: 12}"
            ]
          },
          "metadata": {},
          "execution_count": 162
        }
      ]
    },
    {
      "cell_type": "code",
      "source": [
        "x = np.random.randint(30, size= 10)\n",
        "x"
      ],
      "metadata": {
        "colab": {
          "base_uri": "https://localhost:8080/"
        },
        "id": "MgS2QqsEk-rJ",
        "outputId": "6477deba-261d-4123-e2ed-0a19c43ead0a"
      },
      "execution_count": null,
      "outputs": [
        {
          "output_type": "execute_result",
          "data": {
            "text/plain": [
              "array([29, 10, 18, 28,  3, 21, 26, 17,  7, 10])"
            ]
          },
          "metadata": {},
          "execution_count": 163
        }
      ]
    },
    {
      "cell_type": "code",
      "source": [
        "dict(zip(*np.unique(x, return_counts=True))) # 뽑히지 않은 것에 대해서"
      ],
      "metadata": {
        "colab": {
          "base_uri": "https://localhost:8080/"
        },
        "id": "aOUhyWcElHRz",
        "outputId": "9fb1e405-ab83-46a7-896a-235606bfa5a8"
      },
      "execution_count": null,
      "outputs": [
        {
          "output_type": "execute_result",
          "data": {
            "text/plain": [
              "{3: 1, 7: 1, 10: 2, 17: 1, 18: 1, 21: 1, 26: 1, 28: 1, 29: 1}"
            ]
          },
          "metadata": {},
          "execution_count": 164
        }
      ]
    },
    {
      "cell_type": "code",
      "source": [
        "np.bincount(x, minlength=30)"
      ],
      "metadata": {
        "colab": {
          "base_uri": "https://localhost:8080/"
        },
        "id": "Th_RE6ERlIFm",
        "outputId": "f8bbdcfc-0e32-430e-bff1-7b53e06c577e"
      },
      "execution_count": null,
      "outputs": [
        {
          "output_type": "execute_result",
          "data": {
            "text/plain": [
              "array([0, 0, 0, 1, 0, 0, 0, 1, 0, 0, 2, 0, 0, 0, 0, 0, 0, 1, 1, 0, 0, 1,\n",
              "       0, 0, 0, 0, 1, 0, 1, 1])"
            ]
          },
          "metadata": {},
          "execution_count": 165
        }
      ]
    },
    {
      "cell_type": "code",
      "source": [
        "np.arange(30), np.bincount(x, minlength=30)\n"
      ],
      "metadata": {
        "colab": {
          "base_uri": "https://localhost:8080/"
        },
        "id": "FUq817kLlSgK",
        "outputId": "fa76659e-3e7d-47dc-dff7-5bc562a0ca92"
      },
      "execution_count": null,
      "outputs": [
        {
          "output_type": "execute_result",
          "data": {
            "text/plain": [
              "(array([ 0,  1,  2,  3,  4,  5,  6,  7,  8,  9, 10, 11, 12, 13, 14, 15, 16,\n",
              "        17, 18, 19, 20, 21, 22, 23, 24, 25, 26, 27, 28, 29]),\n",
              " array([0, 0, 0, 1, 0, 0, 0, 1, 0, 0, 2, 0, 0, 0, 0, 0, 0, 1, 1, 0, 0, 1,\n",
              "        0, 0, 0, 0, 1, 0, 1, 1]))"
            ]
          },
          "metadata": {},
          "execution_count": 166
        }
      ]
    },
    {
      "cell_type": "code",
      "source": [
        "dict(zip(np.arange(30), np.bincount(x, minlength=30)))"
      ],
      "metadata": {
        "colab": {
          "base_uri": "https://localhost:8080/"
        },
        "id": "-oAuTF-Ilbk0",
        "outputId": "4fb411a4-825e-4639-b8c0-be6efaa2cd38"
      },
      "execution_count": null,
      "outputs": [
        {
          "output_type": "execute_result",
          "data": {
            "text/plain": [
              "{0: 0,\n",
              " 1: 0,\n",
              " 2: 0,\n",
              " 3: 1,\n",
              " 4: 0,\n",
              " 5: 0,\n",
              " 6: 0,\n",
              " 7: 1,\n",
              " 8: 0,\n",
              " 9: 0,\n",
              " 10: 2,\n",
              " 11: 0,\n",
              " 12: 0,\n",
              " 13: 0,\n",
              " 14: 0,\n",
              " 15: 0,\n",
              " 16: 0,\n",
              " 17: 1,\n",
              " 18: 1,\n",
              " 19: 0,\n",
              " 20: 0,\n",
              " 21: 1,\n",
              " 22: 0,\n",
              " 23: 0,\n",
              " 24: 0,\n",
              " 25: 0,\n",
              " 26: 1,\n",
              " 27: 0,\n",
              " 28: 1,\n",
              " 29: 1}"
            ]
          },
          "metadata": {},
          "execution_count": 168
        }
      ]
    }
  ]
}