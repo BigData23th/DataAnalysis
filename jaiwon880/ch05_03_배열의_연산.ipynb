{
  "nbformat": 4,
  "nbformat_minor": 0,
  "metadata": {
    "colab": {
      "provenance": [],
      "include_colab_link": true
    },
    "kernelspec": {
      "name": "python3",
      "display_name": "Python 3"
    },
    "language_info": {
      "name": "python"
    }
  },
  "cells": [
    {
      "cell_type": "markdown",
      "metadata": {
        "id": "view-in-github",
        "colab_type": "text"
      },
      "source": [
        "<a href=\"https://colab.research.google.com/github/jaiwon880/DataAnalysis_23/blob/main/jaiwon880/ch05_03_%EB%B0%B0%EC%97%B4%EC%9D%98_%EC%97%B0%EC%82%B0.ipynb\" target=\"_parent\"><img src=\"https://colab.research.google.com/assets/colab-badge.svg\" alt=\"Open In Colab\"/></a>"
      ]
    },
    {
      "cell_type": "markdown",
      "source": [
        "# 배열의 연산"
      ],
      "metadata": {
        "id": "0bu09Yqa7q4u"
      }
    },
    {
      "cell_type": "markdown",
      "source": [
        "## 벡터화 연산 (vectorized operation)\n",
        "* 명시적으로 반복문을 사용하지 않고도 배열의 모든 원소에 대해 반복 연산을 할 수 있음\n",
        "* 선형 대수 공식과 동일한 아주 간단한 파이썬 코드를 작성할 수 있음\n",
        "\n",
        "<br>\n",
        "$$\n",
        "x = \\begin{bmatrix}1\\\\2\\\\3\\\\⋯\\\\10000\\end{bmatrix},\\quad\n",
        "y = \\begin{bmatrix}10001\\\\10002\\\\10003\\\\⋯\\\\20000\\end{bmatrix}\n",
        "$$\n",
        "\n",
        "<br>\n",
        "$$\n",
        "z = x + y\n",
        "$$\n",
        "\n",
        "<br>\n",
        "$$\n",
        "\\begin{bmatrix}1\\\\2\\\\3\\\\⋯\\\\10000\\end{bmatrix}\n",
        "+ \\begin{bmatrix}10001\\\\10002\\\\10003\\\\⋯\\\\20000\\end{bmatrix}\n",
        "= \\begin{bmatrix}1+10001\\\\2+10002\\\\3+10003\\\\⋯\\\\10000+20000\\end{bmatrix}\n",
        "= \\begin{bmatrix}10002\\\\10004\\\\10006\\\\⋯\\\\30000\\end{bmatrix}\n",
        "$$\n",
        "\n"
      ],
      "metadata": {
        "id": "VyUPscjA8Lf8"
      }
    },
    {
      "cell_type": "code",
      "source": [
        "import numpy as np\n",
        "# x = np.array(range(1,10001))\n",
        "x = np.arange(1,10001)\n",
        "y = np.arange(10001,20001)\n",
        "x, y"
      ],
      "metadata": {
        "id": "VEIfjEzG9chC",
        "colab": {
          "base_uri": "https://localhost:8080/"
        },
        "outputId": "e6a0f706-196d-43bf-fb27-d83b4a71badd"
      },
      "execution_count": 2,
      "outputs": [
        {
          "output_type": "execute_result",
          "data": {
            "text/plain": [
              "(array([    1,     2,     3, ...,  9998,  9999, 10000]),\n",
              " array([10001, 10002, 10003, ..., 19998, 19999, 20000]))"
            ]
          },
          "metadata": {},
          "execution_count": 2
        }
      ]
    },
    {
      "cell_type": "code",
      "source": [
        "%%time\n",
        "\n",
        "z = np.zeros_like(x)\n",
        "for i in range(len(z)):\n",
        "  z[i] = x[i] +y[i]"
      ],
      "metadata": {
        "colab": {
          "base_uri": "https://localhost:8080/"
        },
        "id": "RA5HZKLe9eaf",
        "outputId": "243dbd16-87e4-463b-d1b5-e841bc6b3693"
      },
      "execution_count": 4,
      "outputs": [
        {
          "output_type": "stream",
          "name": "stdout",
          "text": [
            "CPU times: user 8.73 ms, sys: 0 ns, total: 8.73 ms\n",
            "Wall time: 11.1 ms\n"
          ]
        }
      ]
    },
    {
      "cell_type": "code",
      "source": [
        "%%timeit\n",
        "\n",
        "z = np.zeros_like(x)\n",
        "for i in range(len(z)):\n",
        "  z[i] = x[i] +y[i]"
      ],
      "metadata": {
        "colab": {
          "base_uri": "https://localhost:8080/"
        },
        "id": "7YVQRinwENqH",
        "outputId": "2a215977-8ee2-479b-a51a-7694d19bd29d"
      },
      "execution_count": 5,
      "outputs": [
        {
          "output_type": "stream",
          "name": "stdout",
          "text": [
            "3.61 ms ± 121 µs per loop (mean ± std. dev. of 7 runs, 100 loops each)\n"
          ]
        }
      ]
    },
    {
      "cell_type": "code",
      "source": [
        "%%time\n",
        "z = x + y"
      ],
      "metadata": {
        "colab": {
          "base_uri": "https://localhost:8080/"
        },
        "id": "9tQ3ZsSe9iyl",
        "outputId": "b99473aa-7c06-4e70-d8e5-1d143d7cd4a1"
      },
      "execution_count": 7,
      "outputs": [
        {
          "output_type": "stream",
          "name": "stdout",
          "text": [
            "CPU times: user 57 µs, sys: 0 ns, total: 57 µs\n",
            "Wall time: 62.7 µs\n"
          ]
        }
      ]
    },
    {
      "cell_type": "code",
      "source": [
        "%%timeit\n",
        "z = x + y"
      ],
      "metadata": {
        "colab": {
          "base_uri": "https://localhost:8080/"
        },
        "id": "dvLDZV1rElzb",
        "outputId": "f7576b00-9f08-41dd-a2a8-23c918111605"
      },
      "execution_count": 8,
      "outputs": [
        {
          "output_type": "stream",
          "name": "stdout",
          "text": [
            "6.77 µs ± 829 ns per loop (mean ± std. dev. of 7 runs, 100000 loops each)\n"
          ]
        }
      ]
    },
    {
      "cell_type": "code",
      "source": [
        "# 사칙 연산뿐 아니라 비교 연산과 같은 논리 연산도 벡터화 연산이 가능"
      ],
      "metadata": {
        "id": "iHMb2Zcs9mvv"
      },
      "execution_count": 12,
      "outputs": []
    },
    {
      "cell_type": "code",
      "source": [
        "x == y"
      ],
      "metadata": {
        "colab": {
          "base_uri": "https://localhost:8080/"
        },
        "id": "3wQ60tZJFUiQ",
        "outputId": "13a17d68-97d8-4e79-cd20-57d20ea613bc"
      },
      "execution_count": 13,
      "outputs": [
        {
          "output_type": "execute_result",
          "data": {
            "text/plain": [
              "array([False, False, False, ..., False, False, False])"
            ]
          },
          "metadata": {},
          "execution_count": 13
        }
      ]
    },
    {
      "cell_type": "code",
      "source": [
        "(x == y) | (x > y)"
      ],
      "metadata": {
        "colab": {
          "base_uri": "https://localhost:8080/"
        },
        "id": "lUoPVI9NFVPH",
        "outputId": "0fde33e8-5f19-413e-d713-fc6c01c4d6b7"
      },
      "execution_count": 14,
      "outputs": [
        {
          "output_type": "execute_result",
          "data": {
            "text/plain": [
              "array([False, False, False, ..., False, False, False])"
            ]
          },
          "metadata": {},
          "execution_count": 14
        }
      ]
    },
    {
      "cell_type": "code",
      "source": [
        "# 배열의 각 원소를 일일히 비교하는 것이 아닌 배열의 모든 원소가 다 같은지 알고 싶다면 all 명령 사용"
      ],
      "metadata": {
        "id": "dRQ7U6AV9u5m"
      },
      "execution_count": null,
      "outputs": []
    },
    {
      "cell_type": "code",
      "source": [
        "a == b"
      ],
      "metadata": {
        "colab": {
          "base_uri": "https://localhost:8080/"
        },
        "id": "eZVcn8aiFDS_",
        "outputId": "35a82c05-8ada-40fc-b9e1-864a455f2b90"
      },
      "execution_count": 10,
      "outputs": [
        {
          "output_type": "execute_result",
          "data": {
            "text/plain": [
              "array([False,  True, False,  True])"
            ]
          },
          "metadata": {},
          "execution_count": 10
        }
      ]
    },
    {
      "cell_type": "code",
      "source": [
        "a = np.arange(1, 5)\n",
        "b = np.array((4,2,2,4))\n",
        "c = np.arange(1, 5)"
      ],
      "metadata": {
        "id": "UvNaudEI97P3"
      },
      "execution_count": 9,
      "outputs": []
    },
    {
      "cell_type": "code",
      "source": [
        "print(a)\n",
        "print(b)\n",
        "np.all(a == b)"
      ],
      "metadata": {
        "colab": {
          "base_uri": "https://localhost:8080/"
        },
        "id": "Aza_eKBf98bX",
        "outputId": "8363603a-46f7-434c-900b-acb001621c74"
      },
      "execution_count": 16,
      "outputs": [
        {
          "output_type": "stream",
          "name": "stdout",
          "text": [
            "[1 2 3 4]\n",
            "[4 2 2 4]\n"
          ]
        },
        {
          "output_type": "execute_result",
          "data": {
            "text/plain": [
              "False"
            ]
          },
          "metadata": {},
          "execution_count": 16
        }
      ]
    },
    {
      "cell_type": "code",
      "source": [
        "print(a)\n",
        "print(c)\n",
        "np.all(a == c)"
      ],
      "metadata": {
        "colab": {
          "base_uri": "https://localhost:8080/"
        },
        "id": "B34sPQPdFsiR",
        "outputId": "b6db59a2-f495-4af3-d608-448cb1b8ae27"
      },
      "execution_count": 18,
      "outputs": [
        {
          "output_type": "stream",
          "name": "stdout",
          "text": [
            "[1 2 3 4]\n",
            "[1 2 3 4]\n"
          ]
        },
        {
          "output_type": "execute_result",
          "data": {
            "text/plain": [
              "True"
            ]
          },
          "metadata": {},
          "execution_count": 18
        }
      ]
    },
    {
      "cell_type": "code",
      "source": [
        "np.any(a == b) # 모든 조건의 or 연산"
      ],
      "metadata": {
        "colab": {
          "base_uri": "https://localhost:8080/"
        },
        "id": "WxJ2L03vFwzb",
        "outputId": "3aefcb0b-9c3f-4651-9fce-9d621fdaecbc"
      },
      "execution_count": 20,
      "outputs": [
        {
          "output_type": "execute_result",
          "data": {
            "text/plain": [
              "True"
            ]
          },
          "metadata": {},
          "execution_count": 20
        }
      ]
    },
    {
      "cell_type": "code",
      "source": [
        "# 지수 함수, 로그 함수 등의 수학 함수도 벡터화 연산을 지원\n",
        "a = np.arange(5)\n",
        "a"
      ],
      "metadata": {
        "colab": {
          "base_uri": "https://localhost:8080/"
        },
        "id": "n-hlpfj899lo",
        "outputId": "6b398bef-2768-487d-8834-1e56b2144d67"
      },
      "execution_count": 22,
      "outputs": [
        {
          "output_type": "execute_result",
          "data": {
            "text/plain": [
              "array([0, 1, 2, 3, 4])"
            ]
          },
          "metadata": {},
          "execution_count": 22
        }
      ]
    },
    {
      "cell_type": "code",
      "source": [
        "np.exp(a)"
      ],
      "metadata": {
        "colab": {
          "base_uri": "https://localhost:8080/"
        },
        "id": "ZsYR0Al2-Aoc",
        "outputId": "ebf5b93b-f10c-4cd7-f6cd-76e566a6e28d"
      },
      "execution_count": 23,
      "outputs": [
        {
          "output_type": "execute_result",
          "data": {
            "text/plain": [
              "array([ 1.        ,  2.71828183,  7.3890561 , 20.08553692, 54.59815003])"
            ]
          },
          "metadata": {},
          "execution_count": 23
        }
      ]
    },
    {
      "cell_type": "code",
      "source": [
        "10 ** a"
      ],
      "metadata": {
        "colab": {
          "base_uri": "https://localhost:8080/"
        },
        "id": "voLHjpyc-Bth",
        "outputId": "acf90057-46e0-498a-98d7-4046015e8db6"
      },
      "execution_count": 24,
      "outputs": [
        {
          "output_type": "execute_result",
          "data": {
            "text/plain": [
              "array([    1,    10,   100,  1000, 10000])"
            ]
          },
          "metadata": {},
          "execution_count": 24
        }
      ]
    },
    {
      "cell_type": "code",
      "source": [
        "np.log(a+1)"
      ],
      "metadata": {
        "colab": {
          "base_uri": "https://localhost:8080/"
        },
        "id": "4jVRQZHG-CyM",
        "outputId": "908a1c1a-b439-4ead-e135-38031dac5fd0"
      },
      "execution_count": 25,
      "outputs": [
        {
          "output_type": "execute_result",
          "data": {
            "text/plain": [
              "array([0.        , 0.69314718, 1.09861229, 1.38629436, 1.60943791])"
            ]
          },
          "metadata": {},
          "execution_count": 25
        }
      ]
    },
    {
      "cell_type": "markdown",
      "source": [
        "## 스칼라와 벡터/행렬의 곱셈"
      ],
      "metadata": {
        "id": "8N5Dc5Q--Uko"
      }
    },
    {
      "cell_type": "code",
      "source": [
        "x= np.arange(10)\n",
        "x"
      ],
      "metadata": {
        "colab": {
          "base_uri": "https://localhost:8080/"
        },
        "id": "D10JF_hy-T9v",
        "outputId": "51f4de31-c1a4-4028-d7c4-a5b96b9c0ddc"
      },
      "execution_count": 26,
      "outputs": [
        {
          "output_type": "execute_result",
          "data": {
            "text/plain": [
              "array([0, 1, 2, 3, 4, 5, 6, 7, 8, 9])"
            ]
          },
          "metadata": {},
          "execution_count": 26
        }
      ]
    },
    {
      "cell_type": "code",
      "source": [
        "100 * x"
      ],
      "metadata": {
        "colab": {
          "base_uri": "https://localhost:8080/"
        },
        "id": "Y7tGxKgq-X5o",
        "outputId": "df6dae83-e313-49a4-d140-d920f3eef193"
      },
      "execution_count": 27,
      "outputs": [
        {
          "output_type": "execute_result",
          "data": {
            "text/plain": [
              "array([  0, 100, 200, 300, 400, 500, 600, 700, 800, 900])"
            ]
          },
          "metadata": {},
          "execution_count": 27
        }
      ]
    },
    {
      "cell_type": "code",
      "source": [
        "x = np.arange(12).reshape(3,4)\n",
        "x"
      ],
      "metadata": {
        "colab": {
          "base_uri": "https://localhost:8080/"
        },
        "id": "u61-Rsr9-EE9",
        "outputId": "da7135c6-6a3a-4f78-cb5c-11a5a2294394"
      },
      "execution_count": 28,
      "outputs": [
        {
          "output_type": "execute_result",
          "data": {
            "text/plain": [
              "array([[ 0,  1,  2,  3],\n",
              "       [ 4,  5,  6,  7],\n",
              "       [ 8,  9, 10, 11]])"
            ]
          },
          "metadata": {},
          "execution_count": 28
        }
      ]
    },
    {
      "cell_type": "code",
      "source": [
        "100 * x"
      ],
      "metadata": {
        "colab": {
          "base_uri": "https://localhost:8080/"
        },
        "id": "aWaSxIRQ-bEy",
        "outputId": "573390e1-49f5-4413-863f-2314ccda54af"
      },
      "execution_count": 29,
      "outputs": [
        {
          "output_type": "execute_result",
          "data": {
            "text/plain": [
              "array([[   0,  100,  200,  300],\n",
              "       [ 400,  500,  600,  700],\n",
              "       [ 800,  900, 1000, 1100]])"
            ]
          },
          "metadata": {},
          "execution_count": 29
        }
      ]
    },
    {
      "cell_type": "markdown",
      "source": [
        "## 브로드캐스팅\n",
        "* 벡터(또는 행렬)끼리 덧셈 혹은 뺄셈을 하려면 두 벡터(또는 행렬)의 크기가 같아야 함\n",
        "* Numpy에선 서로 다른 크기를 가진 두 배열의 사칙 연산 지원 = 브로드캐스팅(broadcasting)\n",
        "> 크기가 작은 배열을 자동으로 반복 확장하여 크기가 큰 배열에 맞추는 방법\n",
        "\n",
        "<br>\n",
        "$$\n",
        "x = \\begin{bmatrix}0\\\\1\\\\2\\\\3\\\\4\\end{bmatrix},\\quad \n",
        "x + 1 = \\begin{bmatrix}0\\\\1\\\\2\\\\3\\\\4\\end{bmatrix} + 1 = ?\n",
        "$$\n",
        "<br>\n",
        "$$\n",
        "\\begin{bmatrix}0\\\\1\\\\2\\\\3\\\\4\\end{bmatrix} + 1\n",
        "= \\begin{bmatrix}0\\\\1\\\\2\\\\3\\\\4\\end{bmatrix}\n",
        "+ \\begin{bmatrix}1\\\\1\\\\1\\\\1\\\\1\\end{bmatrix}\n",
        "= \\begin{bmatrix}1\\\\2\\\\3\\\\4\\\\5\\end{bmatrix}\n",
        "$$"
      ],
      "metadata": {
        "id": "QLUTAyOg-eZh"
      }
    },
    {
      "cell_type": "code",
      "source": [
        "x = np.arange(5)\n",
        "x"
      ],
      "metadata": {
        "colab": {
          "base_uri": "https://localhost:8080/"
        },
        "id": "3CPFyxjm-ceU",
        "outputId": "25f48742-4dca-4cee-fb0c-aba15343ba5e"
      },
      "execution_count": 30,
      "outputs": [
        {
          "output_type": "execute_result",
          "data": {
            "text/plain": [
              "array([0, 1, 2, 3, 4])"
            ]
          },
          "metadata": {},
          "execution_count": 30
        }
      ]
    },
    {
      "cell_type": "code",
      "source": [
        "y = np.ones_like(x)\n",
        "y"
      ],
      "metadata": {
        "colab": {
          "base_uri": "https://localhost:8080/"
        },
        "id": "zjzZosy-_ny2",
        "outputId": "b1ae98eb-702e-4992-d566-622dc50350b7"
      },
      "execution_count": 31,
      "outputs": [
        {
          "output_type": "execute_result",
          "data": {
            "text/plain": [
              "array([1, 1, 1, 1, 1])"
            ]
          },
          "metadata": {},
          "execution_count": 31
        }
      ]
    },
    {
      "cell_type": "code",
      "source": [
        "x+y"
      ],
      "metadata": {
        "colab": {
          "base_uri": "https://localhost:8080/"
        },
        "id": "iWiyIctf_tDo",
        "outputId": "47f0405b-aa72-4d80-914b-5849369dd02b"
      },
      "execution_count": 32,
      "outputs": [
        {
          "output_type": "execute_result",
          "data": {
            "text/plain": [
              "array([1, 2, 3, 4, 5])"
            ]
          },
          "metadata": {},
          "execution_count": 32
        }
      ]
    },
    {
      "cell_type": "code",
      "source": [
        "x+1"
      ],
      "metadata": {
        "colab": {
          "base_uri": "https://localhost:8080/"
        },
        "id": "uDVrYI84_ulY",
        "outputId": "ab5c1a4a-ef6e-40c0-caf3-8cfa8b04e19f"
      },
      "execution_count": 34,
      "outputs": [
        {
          "output_type": "execute_result",
          "data": {
            "text/plain": [
              "array([1, 2, 3, 4, 5])"
            ]
          },
          "metadata": {},
          "execution_count": 34
        }
      ]
    },
    {
      "cell_type": "code",
      "source": [
        "# x + 2\n",
        "y = np.full_like(x,2)\n",
        "x + y"
      ],
      "metadata": {
        "colab": {
          "base_uri": "https://localhost:8080/"
        },
        "id": "xQU7SX4ZIDPj",
        "outputId": "f6226ed4-491a-4307-d950-8e0a4719c973"
      },
      "execution_count": 35,
      "outputs": [
        {
          "output_type": "execute_result",
          "data": {
            "text/plain": [
              "array([2, 3, 4, 5, 6])"
            ]
          },
          "metadata": {},
          "execution_count": 35
        }
      ]
    },
    {
      "cell_type": "code",
      "source": [
        "# 2차원 이상에서도 적용됨\n",
        "x = np.vstack(range(7)[i:i+3] for i in range(5))\n",
        "# 0~6 0:3 행으로 잘라서 / 0~4 5개 열추가해줌 vstack이니까\n",
        "x, x.ndim, x.shape"
      ],
      "metadata": {
        "colab": {
          "base_uri": "https://localhost:8080/"
        },
        "id": "hNWx7bav_vF9",
        "outputId": "1e00215a-9721-4fee-c14a-7cb54ce09ff0"
      },
      "execution_count": 40,
      "outputs": [
        {
          "output_type": "stream",
          "name": "stderr",
          "text": [
            "<ipython-input-40-bf7e47b7a2d8>:2: FutureWarning: arrays to stack must be passed as a \"sequence\" type such as list or tuple. Support for non-sequence iterables such as generators is deprecated as of NumPy 1.16 and will raise an error in the future.\n",
            "  x = np.vstack(range(7)[i:i+3] for i in range(5))\n"
          ]
        },
        {
          "output_type": "execute_result",
          "data": {
            "text/plain": [
              "(array([[0, 1, 2],\n",
              "        [1, 2, 3],\n",
              "        [2, 3, 4],\n",
              "        [3, 4, 5],\n",
              "        [4, 5, 6]]), 2, (5, 3))"
            ]
          },
          "metadata": {},
          "execution_count": 40
        }
      ]
    },
    {
      "cell_type": "code",
      "source": [
        "y = np.arange(5)[:, np.newaxis]\n",
        "y"
      ],
      "metadata": {
        "colab": {
          "base_uri": "https://localhost:8080/"
        },
        "id": "aEPuC1In_08w",
        "outputId": "55045c65-71e3-4b27-bc9c-37851e6cc185"
      },
      "execution_count": 39,
      "outputs": [
        {
          "output_type": "execute_result",
          "data": {
            "text/plain": [
              "array([[0],\n",
              "       [1],\n",
              "       [2],\n",
              "       [3],\n",
              "       [4]])"
            ]
          },
          "metadata": {},
          "execution_count": 39
        }
      ]
    },
    {
      "cell_type": "code",
      "source": [
        "x + y"
      ],
      "metadata": {
        "colab": {
          "base_uri": "https://localhost:8080/"
        },
        "id": "hIrEN7MF_2-y",
        "outputId": "cb203b14-d106-411c-8c9e-e8d8613934e4"
      },
      "execution_count": 41,
      "outputs": [
        {
          "output_type": "execute_result",
          "data": {
            "text/plain": [
              "array([[ 0,  1,  2],\n",
              "       [ 2,  3,  4],\n",
              "       [ 4,  5,  6],\n",
              "       [ 6,  7,  8],\n",
              "       [ 8,  9, 10]])"
            ]
          },
          "metadata": {},
          "execution_count": 41
        }
      ]
    },
    {
      "cell_type": "code",
      "source": [
        "y = np.arange(3)\n",
        "y, y.ndim, y.shape"
      ],
      "metadata": {
        "colab": {
          "base_uri": "https://localhost:8080/"
        },
        "id": "uQqR40ZB_4Ot",
        "outputId": "e063c4ee-08c2-4357-a6dc-936496b0b53b"
      },
      "execution_count": 42,
      "outputs": [
        {
          "output_type": "execute_result",
          "data": {
            "text/plain": [
              "(array([0, 1, 2]), 1, (3,))"
            ]
          },
          "metadata": {},
          "execution_count": 42
        }
      ]
    },
    {
      "cell_type": "code",
      "source": [
        "x+y"
      ],
      "metadata": {
        "colab": {
          "base_uri": "https://localhost:8080/"
        },
        "id": "aYTW4GzV_684",
        "outputId": "7e5b7fc7-cc1e-41f8-ae0a-c13ec912a96d"
      },
      "execution_count": 43,
      "outputs": [
        {
          "output_type": "execute_result",
          "data": {
            "text/plain": [
              "array([[0, 2, 4],\n",
              "       [1, 3, 5],\n",
              "       [2, 4, 6],\n",
              "       [3, 5, 7],\n",
              "       [4, 6, 8]])"
            ]
          },
          "metadata": {},
          "execution_count": 43
        }
      ]
    },
    {
      "cell_type": "markdown",
      "source": [
        "## 차원 축소 연산 (dimension reduction)\n",
        "> 행렬의 하나의 행에 있는 원소들을 하나의 데이터 집합으로 보고 각 행에 처리된 연산으로 한 차원 낮은 벡터를 구성하게 하는 연산\n",
        "* 최대/최소 : `min`, `max`, `argmin`, `argmax`\n",
        "* 통계 : `sum`, `mean`, `median`, `std`, `var`\n",
        "* 불리언 : `all`, `any`"
      ],
      "metadata": {
        "id": "c4xwPdamAFZ_"
      }
    },
    {
      "cell_type": "code",
      "source": [
        "x = np.arange(1,5)\n",
        "x"
      ],
      "metadata": {
        "colab": {
          "base_uri": "https://localhost:8080/"
        },
        "id": "8zlZOCFfAiAZ",
        "outputId": "7be69a75-0ac7-44c7-aed4-27e307bd9f7e"
      },
      "execution_count": 44,
      "outputs": [
        {
          "output_type": "execute_result",
          "data": {
            "text/plain": [
              "array([1, 2, 3, 4])"
            ]
          },
          "metadata": {},
          "execution_count": 44
        }
      ]
    },
    {
      "cell_type": "code",
      "source": [
        "np.sum(x), x.sum()"
      ],
      "metadata": {
        "colab": {
          "base_uri": "https://localhost:8080/"
        },
        "id": "sSfvD2j2AiRw",
        "outputId": "3f59c11a-4cc7-4f8f-ef81-dc662fc44ffe"
      },
      "execution_count": 46,
      "outputs": [
        {
          "output_type": "execute_result",
          "data": {
            "text/plain": [
              "(10, 10)"
            ]
          },
          "metadata": {},
          "execution_count": 46
        }
      ]
    },
    {
      "cell_type": "code",
      "source": [
        "x = np.array([1,3,2])"
      ],
      "metadata": {
        "id": "cyswMEnRAkab"
      },
      "execution_count": 47,
      "outputs": []
    },
    {
      "cell_type": "code",
      "source": [
        "x.min(), x.max()"
      ],
      "metadata": {
        "colab": {
          "base_uri": "https://localhost:8080/"
        },
        "id": "pKlL475YAlY9",
        "outputId": "7528ab3a-3b9d-4836-eda2-f6399d587a1c"
      },
      "execution_count": 49,
      "outputs": [
        {
          "output_type": "execute_result",
          "data": {
            "text/plain": [
              "(1, 3)"
            ]
          },
          "metadata": {},
          "execution_count": 49
        }
      ]
    },
    {
      "cell_type": "code",
      "source": [
        "x.argmin(), x.argmax() # 최대, 최솟값의 위치"
      ],
      "metadata": {
        "colab": {
          "base_uri": "https://localhost:8080/"
        },
        "id": "Zbq6zUeEAnAy",
        "outputId": "22812409-6ef6-44b6-9eb2-49ae88100340"
      },
      "execution_count": 51,
      "outputs": [
        {
          "output_type": "execute_result",
          "data": {
            "text/plain": [
              "(0, 1)"
            ]
          },
          "metadata": {},
          "execution_count": 51
        }
      ]
    },
    {
      "cell_type": "code",
      "source": [
        "x = np.array([1,2,3,1])"
      ],
      "metadata": {
        "id": "o6NkXthQAoSZ"
      },
      "execution_count": 52,
      "outputs": []
    },
    {
      "cell_type": "code",
      "source": [
        "x.mean(), x.sum()/len(x) # 통계적 평균 = 산술적 평균"
      ],
      "metadata": {
        "id": "gGNSVN69Azib",
        "colab": {
          "base_uri": "https://localhost:8080/"
        },
        "outputId": "aaf75fd1-9219-4a89-b02e-66fd2d88338b"
      },
      "execution_count": 55,
      "outputs": [
        {
          "output_type": "execute_result",
          "data": {
            "text/plain": [
              "(1.75, 1.75)"
            ]
          },
          "metadata": {},
          "execution_count": 55
        }
      ]
    },
    {
      "cell_type": "code",
      "source": [
        "np.median(x) # 1, 1, 2, 3"
      ],
      "metadata": {
        "colab": {
          "base_uri": "https://localhost:8080/"
        },
        "id": "_ya-Gcp-A2Hz",
        "outputId": "fbdea45b-1dad-4951-fbbd-69e3b014e993"
      },
      "execution_count": 59,
      "outputs": [
        {
          "output_type": "execute_result",
          "data": {
            "text/plain": [
              "1.5"
            ]
          },
          "metadata": {},
          "execution_count": 59
        }
      ]
    },
    {
      "cell_type": "code",
      "source": [
        "a = np.zeros((100, 100), dtype=\"f\")\n",
        "a"
      ],
      "metadata": {
        "colab": {
          "base_uri": "https://localhost:8080/"
        },
        "id": "dfRIlrPjA6kV",
        "outputId": "f5eda00b-48f8-4215-e27b-2e626db1989a"
      },
      "execution_count": 60,
      "outputs": [
        {
          "output_type": "execute_result",
          "data": {
            "text/plain": [
              "array([[0., 0., 0., ..., 0., 0., 0.],\n",
              "       [0., 0., 0., ..., 0., 0., 0.],\n",
              "       [0., 0., 0., ..., 0., 0., 0.],\n",
              "       ...,\n",
              "       [0., 0., 0., ..., 0., 0., 0.],\n",
              "       [0., 0., 0., ..., 0., 0., 0.],\n",
              "       [0., 0., 0., ..., 0., 0., 0.]], dtype=float32)"
            ]
          },
          "metadata": {},
          "execution_count": 60
        }
      ]
    },
    {
      "cell_type": "code",
      "source": [
        "np.any(a != 0)"
      ],
      "metadata": {
        "id": "uCsGPUDIA8Df",
        "colab": {
          "base_uri": "https://localhost:8080/"
        },
        "outputId": "aaccb85a-74cb-4692-896b-c4880b85065d"
      },
      "execution_count": 61,
      "outputs": [
        {
          "output_type": "execute_result",
          "data": {
            "text/plain": [
              "False"
            ]
          },
          "metadata": {},
          "execution_count": 61
        }
      ]
    },
    {
      "cell_type": "code",
      "source": [
        "np.all( a == a)"
      ],
      "metadata": {
        "colab": {
          "base_uri": "https://localhost:8080/"
        },
        "id": "A5wy-HhpBArR",
        "outputId": "a7f9df1e-929d-4b10-d157-c81d4a7978b9"
      },
      "execution_count": 62,
      "outputs": [
        {
          "output_type": "execute_result",
          "data": {
            "text/plain": [
              "True"
            ]
          },
          "metadata": {},
          "execution_count": 62
        }
      ]
    },
    {
      "cell_type": "code",
      "source": [
        "a= np.array([1,2,3,2])\n",
        "b= np.array([2,2,3,2])\n",
        "c= np.array([6,4,4,5])"
      ],
      "metadata": {
        "id": "CjAwdeV8BCqi"
      },
      "execution_count": 65,
      "outputs": []
    },
    {
      "cell_type": "code",
      "source": [
        "((a <= b) & (b <= c)).all()"
      ],
      "metadata": {
        "id": "huAdtJUQBD6O",
        "colab": {
          "base_uri": "https://localhost:8080/"
        },
        "outputId": "76faced0-7135-45e2-826a-98533b9fd70d"
      },
      "execution_count": 66,
      "outputs": [
        {
          "output_type": "execute_result",
          "data": {
            "text/plain": [
              "True"
            ]
          },
          "metadata": {},
          "execution_count": 66
        }
      ]
    },
    {
      "cell_type": "markdown",
      "source": [
        "* 연산의 대상이 2차원 이상인 경우에는 어느 차원으로 계산을 할 지를 axis 인수를 사용하여 지시\n",
        "* axis=0인 경우는 열 연산, axis=1인 경우는 행 연산. 디폴트 값은 axis=0.\n",
        "* axis 인수는 대부분의 차원 축소 명령에 적용할 수 있음"
      ],
      "metadata": {
        "id": "WPEoDlcJBM9k"
      }
    },
    {
      "cell_type": "code",
      "source": [
        "x = np.array(((1,1), (2,2)))\n",
        "x"
      ],
      "metadata": {
        "colab": {
          "base_uri": "https://localhost:8080/"
        },
        "id": "x2aY5O1DBHKl",
        "outputId": "3ff51d39-aa07-46c5-ffa2-ed40d16fc581"
      },
      "execution_count": 68,
      "outputs": [
        {
          "output_type": "execute_result",
          "data": {
            "text/plain": [
              "array([[1, 1],\n",
              "       [2, 2]])"
            ]
          },
          "metadata": {},
          "execution_count": 68
        }
      ]
    },
    {
      "cell_type": "code",
      "source": [
        "x.sum()"
      ],
      "metadata": {
        "colab": {
          "base_uri": "https://localhost:8080/"
        },
        "id": "TCf_XLwkBSqf",
        "outputId": "a8ea4d9a-e01b-4180-83b8-9e6dc5da5f12"
      },
      "execution_count": 69,
      "outputs": [
        {
          "output_type": "execute_result",
          "data": {
            "text/plain": [
              "6"
            ]
          },
          "metadata": {},
          "execution_count": 69
        }
      ]
    },
    {
      "cell_type": "code",
      "source": [
        "x.sum(axis=0)  # 열 합계(연산) (열들 간의 연산)"
      ],
      "metadata": {
        "colab": {
          "base_uri": "https://localhost:8080/"
        },
        "id": "svBdZRipBTtx",
        "outputId": "279deb9d-280f-4edb-c4b8-1999d19a2ba6"
      },
      "execution_count": 70,
      "outputs": [
        {
          "output_type": "execute_result",
          "data": {
            "text/plain": [
              "array([3, 3])"
            ]
          },
          "metadata": {},
          "execution_count": 70
        }
      ]
    },
    {
      "cell_type": "code",
      "source": [
        "x.sum(axis=1) # 행 합계 - (행들 간의 연산)"
      ],
      "metadata": {
        "colab": {
          "base_uri": "https://localhost:8080/"
        },
        "id": "Tp45fbWxBWAw",
        "outputId": "f7181264-007e-44b1-b6de-b9e26686fe04"
      },
      "execution_count": 72,
      "outputs": [
        {
          "output_type": "execute_result",
          "data": {
            "text/plain": [
              "array([2, 4])"
            ]
          },
          "metadata": {},
          "execution_count": 72
        }
      ]
    },
    {
      "cell_type": "markdown",
      "source": [
        "## 💡 연습문제 5\n",
        "실수로 이루어진 5 x 6 형태의 데이터 행렬을 만들고 이 데이터에 대해 다음과 같은 값 도출\n",
        "1. 전체의 최댓값\n",
        "2. 각 행의 합\n",
        "3. 각 행의 최댓값\n",
        "4. 각 열의 평균\n",
        "5. 각 열의 최솟값"
      ],
      "metadata": {
        "id": "wu9TlD2oBgxn"
      }
    },
    {
      "cell_type": "code",
      "source": [
        "a = np.arange(30, dtype=\"f\").reshape((5,6))\n",
        "a"
      ],
      "metadata": {
        "colab": {
          "base_uri": "https://localhost:8080/"
        },
        "id": "0wDF67eFBX6m",
        "outputId": "bf39628d-529e-4ddb-ab0a-e82fb81649c2"
      },
      "execution_count": 74,
      "outputs": [
        {
          "output_type": "execute_result",
          "data": {
            "text/plain": [
              "array([[ 0.,  1.,  2.,  3.,  4.,  5.],\n",
              "       [ 6.,  7.,  8.,  9., 10., 11.],\n",
              "       [12., 13., 14., 15., 16., 17.],\n",
              "       [18., 19., 20., 21., 22., 23.],\n",
              "       [24., 25., 26., 27., 28., 29.]], dtype=float32)"
            ]
          },
          "metadata": {},
          "execution_count": 74
        }
      ]
    },
    {
      "cell_type": "code",
      "source": [
        "# 전체의 최댓값\n",
        "a.max()"
      ],
      "metadata": {
        "colab": {
          "base_uri": "https://localhost:8080/"
        },
        "id": "T1rBg-FEBxiB",
        "outputId": "fb1933fd-f7ab-4ee6-9562-b3bda8649853"
      },
      "execution_count": 75,
      "outputs": [
        {
          "output_type": "execute_result",
          "data": {
            "text/plain": [
              "29.0"
            ]
          },
          "metadata": {},
          "execution_count": 75
        }
      ]
    },
    {
      "cell_type": "code",
      "source": [
        "# 각 행의 합\n",
        "a.sum(axis=1)"
      ],
      "metadata": {
        "colab": {
          "base_uri": "https://localhost:8080/"
        },
        "id": "2MX12OYJB0z6",
        "outputId": "77148fa5-334f-4966-b53c-b441a6103ef1"
      },
      "execution_count": 76,
      "outputs": [
        {
          "output_type": "execute_result",
          "data": {
            "text/plain": [
              "array([ 15.,  51.,  87., 123., 159.], dtype=float32)"
            ]
          },
          "metadata": {},
          "execution_count": 76
        }
      ]
    },
    {
      "cell_type": "code",
      "source": [
        "# 각 행의 최댓값\n",
        "a.max(axis=1)"
      ],
      "metadata": {
        "colab": {
          "base_uri": "https://localhost:8080/"
        },
        "id": "4mWNB5ypB4Lj",
        "outputId": "10c473d2-dd72-44da-848e-ea5d30b35387"
      },
      "execution_count": 77,
      "outputs": [
        {
          "output_type": "execute_result",
          "data": {
            "text/plain": [
              "array([ 5., 11., 17., 23., 29.], dtype=float32)"
            ]
          },
          "metadata": {},
          "execution_count": 77
        }
      ]
    },
    {
      "cell_type": "code",
      "source": [
        "# 각 열의 평균\n",
        "a.sum(axis=0)/len(a)\n",
        "# a.mean(axis=0)"
      ],
      "metadata": {
        "colab": {
          "base_uri": "https://localhost:8080/"
        },
        "id": "ubUjoWPBB7fB",
        "outputId": "b5527369-f502-4044-b156-7858268208d6"
      },
      "execution_count": 81,
      "outputs": [
        {
          "output_type": "execute_result",
          "data": {
            "text/plain": [
              "array([12., 13., 14., 15., 16., 17.], dtype=float32)"
            ]
          },
          "metadata": {},
          "execution_count": 81
        }
      ]
    },
    {
      "cell_type": "code",
      "source": [
        "# 각 열의 최솟값\n",
        "a.min(axis=0)"
      ],
      "metadata": {
        "colab": {
          "base_uri": "https://localhost:8080/"
        },
        "id": "Tccdtf2zCItV",
        "outputId": "9b12fe6f-b9cd-473f-a485-82f989e7ff5c"
      },
      "execution_count": 82,
      "outputs": [
        {
          "output_type": "execute_result",
          "data": {
            "text/plain": [
              "array([0., 1., 2., 3., 4., 5.], dtype=float32)"
            ]
          },
          "metadata": {},
          "execution_count": 82
        }
      ]
    },
    {
      "cell_type": "markdown",
      "source": [
        "## 정렬\n",
        "* `sort` : 배열 안의 원소를 크기에 따라 정렬하여 새로운 배열 생성\n",
        "* 2차원 이상인 경우에는 행이나 열을 각각 따로따로 정렬\n",
        "    * `axis=0` : 각각의 행을 따로따로 정렬\n",
        "    * `axis=1` : 각각의 열을 따로따로 정렬 \n",
        "    * `axis=-1` : 가장 안쪽(나중)의 차원 (default)"
      ],
      "metadata": {
        "id": "V1Hl_stfCNjO"
      }
    },
    {
      "cell_type": "code",
      "source": [
        "a = np.array([\n",
        "    [4,3,5,7,],\n",
        "    [1,12,11,9],\n",
        "    [2,15,1,14]\n",
        "])\n",
        "\n",
        "a"
      ],
      "metadata": {
        "colab": {
          "base_uri": "https://localhost:8080/"
        },
        "id": "8Brlt6RODt-h",
        "outputId": "3d0d80cf-7ba7-4679-edfb-474024e8d2ab"
      },
      "execution_count": 83,
      "outputs": [
        {
          "output_type": "execute_result",
          "data": {
            "text/plain": [
              "array([[ 4,  3,  5,  7],\n",
              "       [ 1, 12, 11,  9],\n",
              "       [ 2, 15,  1, 14]])"
            ]
          },
          "metadata": {},
          "execution_count": 83
        }
      ]
    },
    {
      "cell_type": "code",
      "source": [
        "np.sort(a) # axis = -1, axis=1 열들 간의 정리\n",
        "#  np.sort(a, axis = -1)"
      ],
      "metadata": {
        "colab": {
          "base_uri": "https://localhost:8080/"
        },
        "id": "vDlML3DSDvUj",
        "outputId": "efcad7ef-0f3a-4377-8e19-fe46286eba79"
      },
      "execution_count": 84,
      "outputs": [
        {
          "output_type": "execute_result",
          "data": {
            "text/plain": [
              "array([[ 3,  4,  5,  7],\n",
              "       [ 1,  9, 11, 12],\n",
              "       [ 1,  2, 14, 15]])"
            ]
          },
          "metadata": {},
          "execution_count": 84
        }
      ]
    },
    {
      "cell_type": "code",
      "source": [
        "np.sort(a, axis=0)"
      ],
      "metadata": {
        "colab": {
          "base_uri": "https://localhost:8080/"
        },
        "id": "71fdz0tXDw1i",
        "outputId": "c011d51c-4f21-42a6-c7fe-b5acb0c5c47b"
      },
      "execution_count": 85,
      "outputs": [
        {
          "output_type": "execute_result",
          "data": {
            "text/plain": [
              "array([[ 1,  3,  1,  7],\n",
              "       [ 2, 12,  5,  9],\n",
              "       [ 4, 15, 11, 14]])"
            ]
          },
          "metadata": {},
          "execution_count": 85
        }
      ]
    },
    {
      "cell_type": "code",
      "source": [
        "# sort 메서드는 해당 객체의 자료 자체가 변화하므로 주의\n",
        "# 자체변화(in-place) 메서드 = 원본이 수정됨\n",
        "a.sort(axis = 1)\n",
        "a"
      ],
      "metadata": {
        "colab": {
          "base_uri": "https://localhost:8080/"
        },
        "id": "Bg3m5YtMDziF",
        "outputId": "46a5efb9-4271-45dc-ebc9-037a692fcbab"
      },
      "execution_count": 86,
      "outputs": [
        {
          "output_type": "execute_result",
          "data": {
            "text/plain": [
              "array([[ 3,  4,  5,  7],\n",
              "       [ 1,  9, 11, 12],\n",
              "       [ 1,  2, 14, 15]])"
            ]
          },
          "metadata": {},
          "execution_count": 86
        }
      ]
    },
    {
      "cell_type": "markdown",
      "source": [
        "* `argsort` : 자료 정렬이 아니라 순서만 알고 싶다면 사용"
      ],
      "metadata": {
        "id": "83QvaXeHEE1P"
      }
    },
    {
      "cell_type": "code",
      "source": [
        "a = np.array([\n",
        "    42,38,12,25\n",
        "])\n",
        "\n",
        "j = np.argsort(a)\n",
        "j"
      ],
      "metadata": {
        "colab": {
          "base_uri": "https://localhost:8080/"
        },
        "id": "DpLBeDjJEAUQ",
        "outputId": "abe0813a-d7d5-412b-870d-4c4657327962"
      },
      "execution_count": 91,
      "outputs": [
        {
          "output_type": "execute_result",
          "data": {
            "text/plain": [
              "array([2, 3, 1, 0])"
            ]
          },
          "metadata": {},
          "execution_count": 91
        }
      ]
    },
    {
      "cell_type": "code",
      "source": [
        "a[j]"
      ],
      "metadata": {
        "colab": {
          "base_uri": "https://localhost:8080/"
        },
        "id": "1F6Lqg6KEKgj",
        "outputId": "87cbcebe-ddc9-4176-f0f4-08607299bd9c"
      },
      "execution_count": 90,
      "outputs": [
        {
          "output_type": "execute_result",
          "data": {
            "text/plain": [
              "array([12, 25, 38, 42])"
            ]
          },
          "metadata": {},
          "execution_count": 90
        }
      ]
    },
    {
      "cell_type": "code",
      "source": [
        "np.sort(a)"
      ],
      "metadata": {
        "colab": {
          "base_uri": "https://localhost:8080/"
        },
        "id": "KdFvTG6VENQF",
        "outputId": "1137a28f-cef7-4410-ed2b-2df9c3d9dbdd"
      },
      "execution_count": 92,
      "outputs": [
        {
          "output_type": "execute_result",
          "data": {
            "text/plain": [
              "array([12, 25, 38, 42])"
            ]
          },
          "metadata": {},
          "execution_count": 92
        }
      ]
    },
    {
      "cell_type": "markdown",
      "source": [
        "## 💡 연습문제 6\n",
        "> 두 번째 행을 기준으로 각 열(column)을 재정렬\n",
        "```\n",
        "array([[  1,    2,    3,    4],\n",
        "       [ 46,   99,  100,   71],\n",
        "       [ 81,   59,   90,  100]])\n",
        "```"
      ],
      "metadata": {
        "id": "qR6INELiEUEU"
      }
    },
    {
      "cell_type": "code",
      "source": [
        "x = np.array([\n",
        "    [1, 2, 3, 4],\n",
        "    [46, 99, 100, 71],\n",
        "    [81, 59, 90, 100]\n",
        "])\n",
        "x"
      ],
      "metadata": {
        "colab": {
          "base_uri": "https://localhost:8080/"
        },
        "id": "el8EU7kYETyV",
        "outputId": "af3d892a-0524-4428-a003-af0eccdaa16b"
      },
      "execution_count": 98,
      "outputs": [
        {
          "output_type": "execute_result",
          "data": {
            "text/plain": [
              "array([[  1,   2,   3,   4],\n",
              "       [ 46,  99, 100,  71],\n",
              "       [ 81,  59,  90, 100]])"
            ]
          },
          "metadata": {},
          "execution_count": 98
        }
      ]
    },
    {
      "cell_type": "code",
      "source": [
        "x[:]"
      ],
      "metadata": {
        "colab": {
          "base_uri": "https://localhost:8080/"
        },
        "id": "kIyiUdJgEOmh",
        "outputId": "272e342b-4551-436c-f073-b397cdb7ba61"
      },
      "execution_count": 106,
      "outputs": [
        {
          "output_type": "execute_result",
          "data": {
            "text/plain": [
              "array([[  1,   2,   3,   4],\n",
              "       [ 46,  71,  90, 100],\n",
              "       [ 59,  81,  99, 100]])"
            ]
          },
          "metadata": {},
          "execution_count": 106
        }
      ]
    },
    {
      "cell_type": "code",
      "source": [],
      "metadata": {
        "id": "dgp5kIOoTzgH"
      },
      "execution_count": null,
      "outputs": []
    },
    {
      "cell_type": "markdown",
      "source": [
        "# 기술 통계"
      ],
      "metadata": {
        "id": "tqxkhX-JFimj"
      }
    },
    {
      "cell_type": "markdown",
      "source": [
        "## 기술 통계(descriptive statistics)\n",
        "> 데이터 집합에 대해 통계를 계산\n",
        "* 데이터의 개수(count)\n",
        "* 평균(mean, average)\n",
        "* 분산(variance)\n",
        "* 표준 편차(standard deviation)\n",
        "* 최댓값(maximum)\n",
        "* 최솟값(minimum)\n",
        "* 중앙값(median)\n",
        "* 사분위수(quartile)"
      ],
      "metadata": {
        "id": "gchQwkseFsUX"
      }
    },
    {
      "cell_type": "code",
      "source": [
        "x = np.array([18,   5,  10,  23,  19,  -8,  10,   0,   0,   5,   2,  15,   8,\n",
        "              2,   5,   4,  15,  -1,   4,  -7, -24,   7,   9,  -6,  23, -13])"
      ],
      "metadata": {
        "id": "jttHEMK4F9XX"
      },
      "execution_count": 107,
      "outputs": []
    },
    {
      "cell_type": "markdown",
      "source": [
        "## 데이터의 개수"
      ],
      "metadata": {
        "id": "5bzioyHoF557"
      }
    },
    {
      "cell_type": "code",
      "source": [
        "len(x)"
      ],
      "metadata": {
        "colab": {
          "base_uri": "https://localhost:8080/"
        },
        "id": "wlTrzCbKFl4j",
        "outputId": "669097d2-dcdb-4eed-a825-a025205d8953"
      },
      "execution_count": 108,
      "outputs": [
        {
          "output_type": "execute_result",
          "data": {
            "text/plain": [
              "26"
            ]
          },
          "metadata": {},
          "execution_count": 108
        }
      ]
    },
    {
      "cell_type": "markdown",
      "source": [
        "## 표본 평균\n",
        "* 우리가 일반적으로 아는 평균\n",
        "* 통계용어로는 표본 평균(sample average, sample mean)\n",
        "<br>\n",
        "$\n",
        "\\bar{x} = \\frac{1}{N}\\displaystyle\\sum_{i=1}^{N}{x_i}\n",
        "$\n",
        "(𝑁은 데이터의 개수)"
      ],
      "metadata": {
        "id": "3xe5u1nkGBgM"
      }
    },
    {
      "cell_type": "code",
      "source": [
        "np.mean(x) # x.mean()"
      ],
      "metadata": {
        "colab": {
          "base_uri": "https://localhost:8080/"
        },
        "id": "SiQn6qJlF_Y_",
        "outputId": "45b5299e-7906-4767-affc-1d6e6fbc631c"
      },
      "execution_count": 110,
      "outputs": [
        {
          "output_type": "execute_result",
          "data": {
            "text/plain": [
              "4.8076923076923075"
            ]
          },
          "metadata": {},
          "execution_count": 110
        }
      ]
    },
    {
      "cell_type": "markdown",
      "source": [
        "## 표본 분산\n",
        "* 표본 분산(sample variance) : 데이터와 표본 평균간의 거리의 제곱의 평균\n",
        "* 표본 분산이 작으면 데이터가 모여있는 것이고 크면 흩어져 있는 것\n",
        "<br>\n",
        "$\n",
        "s^2 = \\frac{1}{N}\\displaystyle\\sum_{i=1}^{N}{(x_i-\\bar{x})^2}\n",
        "$"
      ],
      "metadata": {
        "id": "sMmBl-uLHWwF"
      }
    },
    {
      "cell_type": "code",
      "source": [
        "np.var(x)"
      ],
      "metadata": {
        "colab": {
          "base_uri": "https://localhost:8080/"
        },
        "id": "ukbJg498HWZG",
        "outputId": "11d0362b-3a21-41c1-9c22-e51982efe639"
      },
      "execution_count": 111,
      "outputs": [
        {
          "output_type": "execute_result",
          "data": {
            "text/plain": [
              "115.23224852071006"
            ]
          },
          "metadata": {},
          "execution_count": 111
        }
      ]
    },
    {
      "cell_type": "markdown",
      "source": [
        "## 표본 표준편차\n",
        "* 표본 표준편차(sample standard variance) : 표본 분산의 양의 제곱근 값 \n",
        "<br>\n",
        "$\n",
        "s = \\sqrt{s^2}\n",
        "$"
      ],
      "metadata": {
        "id": "ox3H6KB8H4Hd"
      }
    },
    {
      "cell_type": "code",
      "source": [
        "np.std(x)"
      ],
      "metadata": {
        "colab": {
          "base_uri": "https://localhost:8080/"
        },
        "id": "ESjtI9K9HP8g",
        "outputId": "b7a288a8-3873-47a9-fd9d-a2d9fc6de251"
      },
      "execution_count": 112,
      "outputs": [
        {
          "output_type": "execute_result",
          "data": {
            "text/plain": [
              "10.734628476137871"
            ]
          },
          "metadata": {},
          "execution_count": 112
        }
      ]
    },
    {
      "cell_type": "markdown",
      "source": [
        "## 최댓값과 최솟값"
      ],
      "metadata": {
        "id": "68MH4LSRINEC"
      }
    },
    {
      "cell_type": "code",
      "source": [
        "# 최댓값 (maximum) / 최솟값 (minimum)\n",
        "np.max(x), np.min(x)"
      ],
      "metadata": {
        "colab": {
          "base_uri": "https://localhost:8080/"
        },
        "id": "E-KkdiALIPvE",
        "outputId": "f11d9b32-5169-4a68-9b3d-5ab7c0584d0d"
      },
      "execution_count": 113,
      "outputs": [
        {
          "output_type": "execute_result",
          "data": {
            "text/plain": [
              "(23, -24)"
            ]
          },
          "metadata": {},
          "execution_count": 113
        }
      ]
    },
    {
      "cell_type": "markdown",
      "source": [
        "## 중앙값\n",
        "* 중앙값(median) : 데이터를 크기대로 정렬하였을 때 가장 가운데에 있는 수\n",
        "* 만약 데이터의 수가 짝수이면 가장 가운데에 있는 두 수의 평균을 사용\n"
      ],
      "metadata": {
        "id": "vGgHFClPIWQV"
      }
    },
    {
      "cell_type": "code",
      "source": [
        "np.median(x)"
      ],
      "metadata": {
        "colab": {
          "base_uri": "https://localhost:8080/"
        },
        "id": "LS2P0zPnIUvN",
        "outputId": "a456988e-4662-45b3-afa5-b4219ce69ac1"
      },
      "execution_count": 114,
      "outputs": [
        {
          "output_type": "execute_result",
          "data": {
            "text/plain": [
              "5.0"
            ]
          },
          "metadata": {},
          "execution_count": 114
        }
      ]
    },
    {
      "cell_type": "markdown",
      "source": [
        "## 사분위수\n",
        "* 사분위수(quartile) : 데이터를 가장 작은 수부터 가장 큰 수까지 크기가 커지는 순서대로 정렬하였을 때 1/4, 2/4, 3/4 위치에 있는 수\n",
        "* 각각 1사분위수, 2사분위수, 3사분위수라고 함\n",
        "* 1/4의 위치란 전체 데이터의 수가 만약 100개이면 25번째 순서, 즉 하위 25%\n",
        "* 따라서 2사분위수는 중앙값과 같음\n",
        "* 때로는 위치를 1/100 단위로 나눈 백분위수(percentile)을 사용하기도 함\n",
        "* 1사분위수는 25% 백분위수와 같음\n"
      ],
      "metadata": {
        "id": "b1pLnirSIfsI"
      }
    },
    {
      "cell_type": "code",
      "source": [
        "np.percentile(x, 0)  # 최솟값 "
      ],
      "metadata": {
        "colab": {
          "base_uri": "https://localhost:8080/"
        },
        "id": "EHTZ62T8Ici8",
        "outputId": "8955a99e-c0f2-477c-ceae-0bb79e19ad94"
      },
      "execution_count": 115,
      "outputs": [
        {
          "output_type": "execute_result",
          "data": {
            "text/plain": [
              "-24.0"
            ]
          },
          "metadata": {},
          "execution_count": 115
        }
      ]
    },
    {
      "cell_type": "code",
      "source": [
        "np.percentile(x, 25)  # 1사분위 수 "
      ],
      "metadata": {
        "colab": {
          "base_uri": "https://localhost:8080/"
        },
        "id": "h8tVnPH6Ixcv",
        "outputId": "f2e1eb5d-f159-41ff-eccb-d5bc6a111cdf"
      },
      "execution_count": 116,
      "outputs": [
        {
          "output_type": "execute_result",
          "data": {
            "text/plain": [
              "0.0"
            ]
          },
          "metadata": {},
          "execution_count": 116
        }
      ]
    },
    {
      "cell_type": "code",
      "source": [
        "np.percentile(x, 50)  # 2사분위 수 "
      ],
      "metadata": {
        "colab": {
          "base_uri": "https://localhost:8080/"
        },
        "id": "PuT1HTElIza1",
        "outputId": "c803dc53-5013-4979-97bb-6c3c04c06104"
      },
      "execution_count": 117,
      "outputs": [
        {
          "output_type": "execute_result",
          "data": {
            "text/plain": [
              "5.0"
            ]
          },
          "metadata": {},
          "execution_count": 117
        }
      ]
    },
    {
      "cell_type": "code",
      "source": [
        "np.percentile(x, 75)  # 3사분위 수 "
      ],
      "metadata": {
        "colab": {
          "base_uri": "https://localhost:8080/"
        },
        "id": "v7wB_7N_I0zM",
        "outputId": "126987c8-5712-4b6c-a476-2e8bdce7eced"
      },
      "execution_count": 118,
      "outputs": [
        {
          "output_type": "execute_result",
          "data": {
            "text/plain": [
              "10.0"
            ]
          },
          "metadata": {},
          "execution_count": 118
        }
      ]
    },
    {
      "cell_type": "code",
      "source": [
        "np.percentile(x, 100)  # 최댓값 "
      ],
      "metadata": {
        "colab": {
          "base_uri": "https://localhost:8080/"
        },
        "id": "JbCd4SqGI20l",
        "outputId": "4005a46b-2caa-49ec-b71d-1532bda3c83d"
      },
      "execution_count": 119,
      "outputs": [
        {
          "output_type": "execute_result",
          "data": {
            "text/plain": [
              "23.0"
            ]
          },
          "metadata": {},
          "execution_count": 119
        }
      ]
    },
    {
      "cell_type": "markdown",
      "source": [
        "# 난수 발생과 카운팅"
      ],
      "metadata": {
        "id": "x1uZuajeI9Si"
      }
    },
    {
      "cell_type": "markdown",
      "source": [
        "## 시드 설정\n",
        "* 컴퓨터 프로그램에서 발생하는 무작위 수는 사실 엄격한 의미의 무작위 수가 아님\n",
        "* 어떤 특정한 시작 숫자를 정해 주면 컴퓨터가 정해진 알고리즘에 의해 마치 난수처럼 보이는 수열을 생성. 이런 시작 숫자를 시드(seed)라고 함\n",
        "* 일단 생성된 난수는 다음번 난수 생성을 위한 시드값이 됨. 따라서 시드값은 한 번만 정해주면 됨.\n",
        "* 시드는 보통 현재 시각 등을 이용하여 자동으로 정해지지만 사람이 수동으로 설정할 수도 있음 * 특정한 시드값이 사용되면 그 다음에 만들어지는 난수들은 모두 예측할 수 있음\n",
        "* 고정된 결과를 얻기 위해서 실습엔 시드를 설정"
      ],
      "metadata": {
        "id": "ZCEj6C5UJHHc"
      }
    },
    {
      "cell_type": "code",
      "source": [
        "np.random.seed(0) # 시드값 고정"
      ],
      "metadata": {
        "id": "R9wwclqfI8_9"
      },
      "execution_count": 120,
      "outputs": []
    },
    {
      "cell_type": "markdown",
      "source": [
        "### `rand` : 0과 1 사이의 난수를 발생"
      ],
      "metadata": {
        "id": "OQRCx_xUJf6l"
      }
    },
    {
      "cell_type": "code",
      "source": [
        "np.random.rand(5) # rand(n) n개의 길이를 가지는 배열에 각각 0~1 사이의 난수를 채움"
      ],
      "metadata": {
        "colab": {
          "base_uri": "https://localhost:8080/"
        },
        "id": "w26duH5TJb7f",
        "outputId": "9a9b923f-8c28-4482-ee48-65f3ac9ccdda"
      },
      "execution_count": 123,
      "outputs": [
        {
          "output_type": "execute_result",
          "data": {
            "text/plain": [
              "array([0.0871293 , 0.0202184 , 0.83261985, 0.77815675, 0.87001215])"
            ]
          },
          "metadata": {},
          "execution_count": 123
        }
      ]
    },
    {
      "cell_type": "code",
      "source": [
        "np.random.rand(10)"
      ],
      "metadata": {
        "colab": {
          "base_uri": "https://localhost:8080/"
        },
        "id": "bnSQUYKVJkl8",
        "outputId": "07a3973f-c7a8-4021-ea9e-ced052f527ae"
      },
      "execution_count": 122,
      "outputs": [
        {
          "output_type": "execute_result",
          "data": {
            "text/plain": [
              "array([0.64589411, 0.43758721, 0.891773  , 0.96366276, 0.38344152,\n",
              "       0.79172504, 0.52889492, 0.56804456, 0.92559664, 0.07103606])"
            ]
          },
          "metadata": {},
          "execution_count": 122
        }
      ]
    },
    {
      "cell_type": "markdown",
      "source": [
        "## 데이터의 순서 변경"
      ],
      "metadata": {
        "id": "TvJHX9FmJtgQ"
      }
    },
    {
      "cell_type": "markdown",
      "source": [
        "### `shuffle`\n",
        "* 데이터의 순서를 변경\n",
        "* 자체 변환(in-place) 함수 (원본에 영향)"
      ],
      "metadata": {
        "id": "89jdzc8rJyqB"
      }
    },
    {
      "cell_type": "code",
      "source": [
        "x = np.arange(10)\n",
        "x"
      ],
      "metadata": {
        "colab": {
          "base_uri": "https://localhost:8080/"
        },
        "id": "vUHakdiQJpjl",
        "outputId": "c87e5704-54a5-484b-b750-ea38d50db8e1"
      },
      "execution_count": 124,
      "outputs": [
        {
          "output_type": "execute_result",
          "data": {
            "text/plain": [
              "array([0, 1, 2, 3, 4, 5, 6, 7, 8, 9])"
            ]
          },
          "metadata": {},
          "execution_count": 124
        }
      ]
    },
    {
      "cell_type": "code",
      "source": [
        "np.random.shuffle(x)\n",
        "x"
      ],
      "metadata": {
        "colab": {
          "base_uri": "https://localhost:8080/"
        },
        "id": "ReqSVnNlJ7S0",
        "outputId": "ebb94b39-c5ec-4524-b969-3bfa5ba160bc"
      },
      "execution_count": 125,
      "outputs": [
        {
          "output_type": "execute_result",
          "data": {
            "text/plain": [
              "array([7, 6, 9, 4, 5, 8, 1, 0, 3, 2])"
            ]
          },
          "metadata": {},
          "execution_count": 125
        }
      ]
    },
    {
      "cell_type": "markdown",
      "source": [
        "## 데이터 샘플링\n",
        "* 표본선택 혹은 샘플링(sampling) : 이미 있는 데이터 집합에서 일부를 무작위로 선택하는 것"
      ],
      "metadata": {
        "id": "MbQrSKXMKJAg"
      }
    },
    {
      "cell_type": "markdown",
      "source": [
        "### `choice` : 샘플링에 사용\n",
        "```\n",
        "numpy.random.choice(a, size=None, replace=True, p=None)\n",
        "```\n",
        "* a : 배열이면 원래의 데이터, 정수이면 arange(a) 명령으로 데이터 생성\n",
        "* size : 정수. 샘플 숫자\n",
        "* replace : 불리언. True이면 한번 선택한 데이터를 다시 선택 가능 (복원/비복원 추출)\n",
        "* p : 배열. 각 데이터가 선택될 수 있는 확률"
      ],
      "metadata": {
        "id": "gEkehbizKWrq"
      }
    },
    {
      "cell_type": "code",
      "source": [
        "np.random.choice(5, 5, replace=False)  # shuffle 명령과 같음 "
      ],
      "metadata": {
        "colab": {
          "base_uri": "https://localhost:8080/"
        },
        "id": "YvjoHXqIJ9KJ",
        "outputId": "10ebf4ab-cb3f-4ec7-ec0d-c3d244cba962"
      },
      "execution_count": 126,
      "outputs": [
        {
          "output_type": "execute_result",
          "data": {
            "text/plain": [
              "array([4, 2, 3, 1, 0])"
            ]
          },
          "metadata": {},
          "execution_count": 126
        }
      ]
    },
    {
      "cell_type": "code",
      "source": [
        "np.random.choice(5, 3, replace=False)  # 3개만 선택  (비복원 추출)"
      ],
      "metadata": {
        "colab": {
          "base_uri": "https://localhost:8080/"
        },
        "id": "knplEnwIKnYh",
        "outputId": "7f11d034-0594-432f-c997-bfce498eee8a"
      },
      "execution_count": 128,
      "outputs": [
        {
          "output_type": "execute_result",
          "data": {
            "text/plain": [
              "array([0, 1, 4])"
            ]
          },
          "metadata": {},
          "execution_count": 128
        }
      ]
    },
    {
      "cell_type": "code",
      "source": [
        "np.random.choice(5, 10)  # 반복해서 10개 선택 (복원 추출) replace=True"
      ],
      "metadata": {
        "colab": {
          "base_uri": "https://localhost:8080/"
        },
        "id": "4Yd_3i6QKqMw",
        "outputId": "47e9d400-e07b-4bbd-ccac-b0f3677a3a2d"
      },
      "execution_count": 131,
      "outputs": [
        {
          "output_type": "execute_result",
          "data": {
            "text/plain": [
              "array([3, 0, 3, 4, 1, 2, 4, 3, 4, 4])"
            ]
          },
          "metadata": {},
          "execution_count": 131
        }
      ]
    },
    {
      "cell_type": "code",
      "source": [
        "np.random.choice(5, 10, p=[0.1, 0, 0.3, 0.6, 0])  # 선택 확률을 다르게 해서 10개 선택 "
      ],
      "metadata": {
        "colab": {
          "base_uri": "https://localhost:8080/"
        },
        "id": "lkbuDYTuKvBN",
        "outputId": "bd75dea1-b70a-4070-e272-2943f9f0c8b3"
      },
      "execution_count": 135,
      "outputs": [
        {
          "output_type": "execute_result",
          "data": {
            "text/plain": [
              "array([3, 3, 3, 3, 3, 0, 2, 0, 3, 3])"
            ]
          },
          "metadata": {},
          "execution_count": 135
        }
      ]
    },
    {
      "cell_type": "markdown",
      "source": [
        "## 난수 생성\n",
        "* `rand` : 0부터 1 사이의 균일 분포\n",
        "* `randn` : 표준 정규 분포\n",
        "* `randint` : 균일 분포의 정수 난수"
      ],
      "metadata": {
        "id": "D8oZhgNLLCgd"
      }
    },
    {
      "cell_type": "markdown",
      "source": [
        "### `rand` : 0부터 1 사이에서 균일한 확률 분포로 실수 난수를 생성\n",
        "* 숫자 인수는 생성할 난수의 크기\n",
        "* 여러 개의 인수를 넣으면 해당 크기를 가진 행렬을 생성"
      ],
      "metadata": {
        "id": "BcH0M0-_LPMP"
      }
    },
    {
      "cell_type": "code",
      "source": [
        "np.random.rand(10)"
      ],
      "metadata": {
        "colab": {
          "base_uri": "https://localhost:8080/"
        },
        "id": "EWqs3z-zK0k_",
        "outputId": "95cd7866-94b3-40aa-be76-28218400b1a3"
      },
      "execution_count": 136,
      "outputs": [
        {
          "output_type": "execute_result",
          "data": {
            "text/plain": [
              "array([0.84138612, 0.26473016, 0.39782075, 0.55282148, 0.16494046,\n",
              "       0.36980809, 0.14644176, 0.56961841, 0.70373728, 0.28847644])"
            ]
          },
          "metadata": {},
          "execution_count": 136
        }
      ]
    },
    {
      "cell_type": "code",
      "source": [
        "np.random.rand(3, 5)"
      ],
      "metadata": {
        "colab": {
          "base_uri": "https://localhost:8080/"
        },
        "id": "DJTNzp8oLbVj",
        "outputId": "cdfef587-3812-4432-a4ee-986514d5d5d4"
      },
      "execution_count": 137,
      "outputs": [
        {
          "output_type": "execute_result",
          "data": {
            "text/plain": [
              "array([[0.43328806, 0.75610669, 0.39609828, 0.89603839, 0.63892108],\n",
              "       [0.89155444, 0.68005557, 0.44919774, 0.97857093, 0.11620191],\n",
              "       [0.7670237 , 0.41182014, 0.67543908, 0.24979628, 0.31321833]])"
            ]
          },
          "metadata": {},
          "execution_count": 137
        }
      ]
    },
    {
      "cell_type": "markdown",
      "source": [
        "### `randn` : 기댓값이 0이고 표준편차가 1인 표준 정규 분포(standard normal distribution)를 따르는 난수를 생성"
      ],
      "metadata": {
        "id": "HdWD5uVkLjQt"
      }
    },
    {
      "cell_type": "code",
      "source": [
        "np.random.randn(10)"
      ],
      "metadata": {
        "colab": {
          "base_uri": "https://localhost:8080/"
        },
        "id": "AlJYbewHLeZB",
        "outputId": "e94f02fc-4aec-435e-8cd6-8a10c2ba8a33"
      },
      "execution_count": 138,
      "outputs": [
        {
          "output_type": "execute_result",
          "data": {
            "text/plain": [
              "array([ 0.08672983,  0.45628701,  0.4310333 ,  2.07257353, -0.53778512,\n",
              "       -1.3784301 , -0.49240425,  2.32773811,  1.80440397, -0.24942133])"
            ]
          },
          "metadata": {},
          "execution_count": 138
        }
      ]
    },
    {
      "cell_type": "code",
      "source": [
        "np.random.randn(3, 5)"
      ],
      "metadata": {
        "colab": {
          "base_uri": "https://localhost:8080/"
        },
        "id": "gbDMC1OxLt3f",
        "outputId": "e2ca4350-c101-4f78-d1d3-71315681838b"
      },
      "execution_count": 139,
      "outputs": [
        {
          "output_type": "execute_result",
          "data": {
            "text/plain": [
              "array([[-0.82086383, -1.49333996,  0.52417595,  0.34511317,  0.72437468],\n",
              "       [-2.04038084, -1.0797781 , -0.69342441, -2.33804615,  1.66226234],\n",
              "       [-0.27535274, -0.74657045,  1.22510346, -0.11043246, -1.27348939]])"
            ]
          },
          "metadata": {},
          "execution_count": 139
        }
      ]
    },
    {
      "cell_type": "markdown",
      "source": [
        "### `randint`\n",
        "```\n",
        "numpy.random.randint(low, high=None, size=None)\n",
        "```\n",
        "만약 `high`를 입력하지 않으면 0과 `low`사이의 숫자, `high`를 입력하면 `low`와 `high`는 사이의 숫자를 출력. `size`는 난수의 숫자"
      ],
      "metadata": {
        "id": "FDtGkcnjLzTM"
      }
    },
    {
      "cell_type": "code",
      "source": [
        "np.random.randint(10, size=10)"
      ],
      "metadata": {
        "colab": {
          "base_uri": "https://localhost:8080/"
        },
        "id": "H5eTlhBGLy_D",
        "outputId": "248612ba-c440-4e37-a76e-421cd49fbdbc"
      },
      "execution_count": 140,
      "outputs": [
        {
          "output_type": "execute_result",
          "data": {
            "text/plain": [
              "array([5, 3, 4, 5, 3, 3, 7, 9, 9, 9])"
            ]
          },
          "metadata": {},
          "execution_count": 140
        }
      ]
    },
    {
      "cell_type": "code",
      "source": [
        "np.random.randint(10, 20, size=10)"
      ],
      "metadata": {
        "colab": {
          "base_uri": "https://localhost:8080/"
        },
        "id": "xlpHLyNALuyj",
        "outputId": "7ee8611b-2373-4884-a5b3-b746398925ab"
      },
      "execution_count": 141,
      "outputs": [
        {
          "output_type": "execute_result",
          "data": {
            "text/plain": [
              "array([17, 13, 12, 13, 19, 17, 17, 15, 11, 12])"
            ]
          },
          "metadata": {},
          "execution_count": 141
        }
      ]
    },
    {
      "cell_type": "code",
      "source": [
        "np.random.randint(10, 20, size=(3, 5))"
      ],
      "metadata": {
        "colab": {
          "base_uri": "https://localhost:8080/"
        },
        "id": "RwOU04I2ME1f",
        "outputId": "6d8a0cc0-8396-4f2d-aeb7-c0b3cd2ef70e"
      },
      "execution_count": 142,
      "outputs": [
        {
          "output_type": "execute_result",
          "data": {
            "text/plain": [
              "array([[12, 18, 11, 15, 18],\n",
              "       [14, 10, 12, 15, 15],\n",
              "       [10, 18, 11, 11, 10]])"
            ]
          },
          "metadata": {},
          "execution_count": 142
        }
      ]
    },
    {
      "cell_type": "markdown",
      "source": [
        "## 💡 연습문제 7\n",
        "1. 동전을 10번 던져 앞면(숫자 1)과 뒷면(숫자 0)이 나오는 가상 실험을 작성하라\n",
        "2. 주사위를 100번 던져서 나오는 숫자의 평균\n",
        "3. 가격이 10,000원인 주식이 있다. 이 주식의 일간 수익률(%)은 기댓값이 0%이고 표준편차가 1%인 표준 정규 분포를 따른다고 하자. 250일 동안의 주가를 무작위로 생성하라"
      ],
      "metadata": {
        "id": "dCofCh17MOVI"
      }
    },
    {
      "cell_type": "code",
      "source": [
        "# 1.\n",
        "coin = np.array(['HEAD', 'TAIL'])\n",
        "np.random.choice(coin, size=10, replace=True)\n",
        "\n",
        "# np.random.choice([0,1], size =10, replace=True)"
      ],
      "metadata": {
        "colab": {
          "base_uri": "https://localhost:8080/"
        },
        "id": "wSVBjqWJMGJ3",
        "outputId": "4533e474-1568-4f18-dbb6-0b5b93451ad7"
      },
      "execution_count": 143,
      "outputs": [
        {
          "output_type": "execute_result",
          "data": {
            "text/plain": [
              "array(['TAIL', 'HEAD', 'TAIL', 'HEAD', 'HEAD', 'HEAD', 'HEAD', 'TAIL',\n",
              "       'TAIL', 'TAIL'], dtype='<U4')"
            ]
          },
          "metadata": {},
          "execution_count": 143
        }
      ]
    },
    {
      "cell_type": "code",
      "source": [
        "# 2.\n",
        "# dice = np.arange(1,7)\n",
        "# np.random.choice(dice,100,replace=True).mean()\n",
        "np.random.randint(1,7,100).mean()"
      ],
      "metadata": {
        "colab": {
          "base_uri": "https://localhost:8080/"
        },
        "id": "rpstIcwsNB-3",
        "outputId": "105d6a97-93d8-44a1-fcd7-edd5e0e2857e"
      },
      "execution_count": 144,
      "outputs": [
        {
          "output_type": "execute_result",
          "data": {
            "text/plain": [
              "3.65"
            ]
          },
          "metadata": {},
          "execution_count": 144
        }
      ]
    },
    {
      "cell_type": "code",
      "source": [
        "# 3.\n",
        "earn = np.random.randn(250) / 100\n",
        "earn"
      ],
      "metadata": {
        "colab": {
          "base_uri": "https://localhost:8080/"
        },
        "id": "zrCTnmQBNjbm",
        "outputId": "c8e1ad45-bc76-4c39-cae8-01c7644ee85c"
      },
      "execution_count": 145,
      "outputs": [
        {
          "output_type": "execute_result",
          "data": {
            "text/plain": [
              "array([ 3.17861517e-04, -3.75827695e-03,  2.27850766e-03,  7.03788682e-03,\n",
              "       -7.97799885e-03, -6.75899931e-03, -9.22546325e-03, -4.48586346e-03,\n",
              "        1.81979099e-03, -2.20083762e-03,  2.49561833e-04, -8.91894812e-03,\n",
              "        5.70080807e-03,  2.66322756e-02,  4.10289467e-03,  4.85651893e-03,\n",
              "        1.31152655e-02, -2.35649453e-03, -1.48017978e-02, -2.14847542e-04,\n",
              "        1.05279068e-02, -1.17402219e-03,  1.82850826e-02, -1.66771313e-04,\n",
              "        1.87011107e-02, -3.80307149e-03,  4.28697937e-03,  3.61895886e-03,\n",
              "        4.67567606e-03, -1.51802870e-02, -1.89304483e-02, -7.85086531e-03,\n",
              "       -1.60529407e-02,  1.43184023e-02, -1.94219012e-02,  1.13995339e-02,\n",
              "       -6.17165933e-03, -1.77555859e-02, -1.11820547e-02, -1.60638701e-02,\n",
              "       -8.14676080e-03,  3.21280905e-03, -1.23930443e-03,  2.21212562e-04,\n",
              "       -3.21286508e-03,  6.92618052e-03, -3.53523517e-03,  8.12289960e-03,\n",
              "       -1.14178779e-02, -2.87548786e-03,  1.31554171e-02,  6.85780511e-03,\n",
              "        5.24598790e-03, -7.93387397e-03, -2.37880748e-03,  5.69497523e-03,\n",
              "       -1.51060714e-02, -1.56505430e-02, -3.05123442e-02,  1.55966482e-02,\n",
              "       -2.63100846e-02,  1.14366776e-02, -1.88056280e-03,  1.24678097e-02,\n",
              "       -2.53883582e-03, -8.70175971e-03,  1.96537437e-04, -1.11437255e-02,\n",
              "        6.07841688e-03,  4.57236707e-03,  8.75539189e-03,  3.46480801e-03,\n",
              "       -4.54874349e-03,  1.98094883e-03,  3.91408072e-03, -3.17786023e-02,\n",
              "       -9.56575138e-03, -3.12749285e-04,  1.03272369e-02, -1.21561912e-02,\n",
              "       -3.18678145e-03,  1.49512875e-02, -1.30251122e-03, -1.20289480e-02,\n",
              "        1.99565114e-03,  3.93166166e-03, -9.36915589e-03, -1.97934857e-02,\n",
              "        4.45383744e-03, -1.95333312e-03, -2.02716487e-03,  2.19388501e-03,\n",
              "       -1.03015981e-02, -9.29744012e-03, -2.55856575e-02,  1.64949685e-02,\n",
              "        6.11738436e-03, -1.05194397e-02, -7.54946248e-03,  6.23187665e-03,\n",
              "        4.70758246e-05, -8.99891126e-03,  1.29241813e-03,  9.79692760e-03,\n",
              "        3.28374958e-03,  4.87074146e-03,  1.44841564e-03, -8.56098985e-04,\n",
              "        7.10539900e-03,  9.30959883e-03,  8.75074019e-03, -7.11565309e-03,\n",
              "       -3.61209042e-03, -2.10924743e-02, -1.09376775e-02,  1.20450550e-02,\n",
              "        1.11080515e-03,  1.96099802e-02,  3.94598380e-03, -8.27129291e-03,\n",
              "        2.24904180e-03, -1.53023287e-03, -2.40729561e-03,  8.15830749e-04,\n",
              "        1.23816955e-02,  2.18377828e-02,  1.90564147e-03, -4.98166948e-03,\n",
              "        4.75124115e-04,  1.44832909e-02,  4.28221143e-03, -1.70753424e-03,\n",
              "       -2.35477728e-02, -4.67806466e-03, -1.29401714e-03,  9.00051544e-03,\n",
              "       -5.15652821e-03,  5.20399580e-03,  1.14104995e-02, -1.44472444e-02,\n",
              "       -1.01767176e-02, -9.90268704e-03,  1.52415030e-02,  6.36245000e-03,\n",
              "        1.99618354e-03, -7.71179087e-05,  1.17548964e-02,  1.25565891e-02,\n",
              "       -2.80926213e-03, -3.66917678e-03,  1.65372484e-02, -8.56096963e-04,\n",
              "        2.93357322e-03,  1.48725748e-02, -6.38479901e-03,  7.08768833e-03,\n",
              "       -8.25277153e-04, -6.87383733e-03, -1.41131158e-02,  6.21383707e-03,\n",
              "        3.08511236e-03, -3.30939365e-03, -4.85216135e-03, -6.02118215e-04,\n",
              "       -1.55964692e-02, -2.91405331e-03,  8.04071924e-03,  7.35826698e-03,\n",
              "       -2.02639540e-03,  2.90246651e-03, -8.54817646e-03, -3.26132182e-03,\n",
              "       -9.52251971e-03,  1.18696329e-02, -1.15717380e-02,  1.92999931e-04,\n",
              "        1.45002068e-02,  6.52122500e-03, -3.44269204e-03,  1.29088949e-02,\n",
              "       -8.02124523e-03, -1.38908779e-02,  2.57642272e-03,  1.12747288e-02,\n",
              "        2.78493306e-02, -9.13945885e-04, -2.90724156e-04,  1.03057395e-02,\n",
              "        1.02488236e-02,  1.58319908e-02,  1.02916094e-02,  1.83437080e-02,\n",
              "       -4.91007466e-03, -8.09469254e-03, -2.46247842e-03, -4.51752947e-03,\n",
              "       -6.58112674e-03,  3.92287916e-03, -1.39646178e-02,  3.36895172e-03,\n",
              "        6.26675514e-03,  5.46988504e-03, -3.07841420e-03,  7.34122263e-04,\n",
              "       -2.76663239e-03,  1.39521905e-03, -5.09129735e-04,  7.40091034e-03,\n",
              "       -3.23361575e-03,  2.40099806e-02,  2.81274535e-02,  6.19125260e-03,\n",
              "       -2.32870209e-02,  1.10300532e-02,  1.40517731e-02, -1.71225511e-02,\n",
              "        3.64279798e-03, -1.41423684e-02,  9.53312198e-03, -4.31211053e-03,\n",
              "       -3.60771624e-04, -2.02180438e-02,  8.45499157e-03, -1.21167713e-02,\n",
              "        9.47849187e-05,  8.60385012e-03, -1.57795558e-03, -6.23773426e-03,\n",
              "        2.97252387e-03,  3.36840932e-03, -1.81227700e-02, -7.39247604e-03,\n",
              "        1.49101888e-02, -2.51099135e-03, -1.51813904e-02,  2.49768334e-03,\n",
              "        6.19312364e-03,  1.85127012e-02, -5.93451333e-03, -2.13227898e-03,\n",
              "        6.72866974e-04,  8.31198873e-04,  8.21334607e-03, -1.74926840e-03,\n",
              "        1.37574593e-02,  1.53685349e-03,  1.28400715e-02, -9.40058152e-03,\n",
              "       -1.68877613e-02,  2.18156894e-02])"
            ]
          },
          "metadata": {},
          "execution_count": 145
        }
      ]
    },
    {
      "cell_type": "code",
      "source": [
        "stock = np.empty(250)\n",
        "price = 10000\n",
        "for i, v in enumerate(earn):\n",
        "    price *= (1 + v)\n",
        "    stock[i] = price\n",
        "stock"
      ],
      "metadata": {
        "colab": {
          "base_uri": "https://localhost:8080/"
        },
        "id": "C7CgIfRJN7lQ",
        "outputId": "631f257c-b481-4dd8-e915-d4f28501b7fa"
      },
      "execution_count": null,
      "outputs": [
        {
          "output_type": "execute_result",
          "data": {
            "text/plain": [
              "array([ 9968.24569061,  9805.52172515,  9798.93887103,  9944.87995133,\n",
              "        9996.72298327, 10057.89564959,  9922.96930879,  9970.29178757,\n",
              "        9985.09264399, 10037.91830117, 10080.34141693,  9943.27087728,\n",
              "        9939.15428244,  9863.82832836,  9858.88811928,  9770.41436592,\n",
              "        9898.64815922,  9813.6215047 ,  9725.40272392,  9732.65655233,\n",
              "        9627.82619918,  9586.94035449,  9507.37214356,  9641.53752326,\n",
              "        9717.30109408,  9711.71660794,  9673.72271651,  9764.74447753,\n",
              "        9804.31162059,  9853.14223038,  9850.56147198,  9684.2613353 ,\n",
              "        9673.36983564,  9621.86011642,  9683.9264325 ,  9781.91250933,\n",
              "        9717.55231377,  9763.06789394,  9932.54293905,  9866.22208637,\n",
              "       10032.16422056,  9946.63140825,  9948.91513051,  9947.80626305,\n",
              "        9948.95015133,  9865.60998051,  9807.28616123,  9741.80092199,\n",
              "        9773.65296712,  9805.90945388, 10024.18353955, 10161.61399384,\n",
              "       10109.8056916 , 10142.64937851, 10243.78355919, 10246.91834384,\n",
              "       10239.78222817, 10245.06338999, 10333.91643038, 10246.25169649,\n",
              "       10212.88278302, 10260.92756867, 10292.8849271 , 10317.54490488,\n",
              "       10279.39050348, 10379.36125504, 10600.84314912, 10643.92661814,\n",
              "       10623.36503178, 10703.65008136, 10645.94321045, 10566.1316021 ,\n",
              "       10569.59821755, 10296.60699067, 10177.78925686, 10142.37443247,\n",
              "       10005.10866694,  9901.79160246,  9858.54569226,  9696.57320809,\n",
              "        9657.19815908,  9605.50605861,  9607.94635744,  9718.83973996,\n",
              "        9735.60516774,  9737.65568298,  9747.34021556,  9769.50496298,\n",
              "        9670.17463024,  9659.07565591,  9688.89817194,  9556.08663305,\n",
              "        9638.8091763 ,  9743.04094874,  9681.52572764,  9658.16054727,\n",
              "        9573.34351405,  9640.29761022,  9537.9926234 ,  9516.77278258,\n",
              "        9435.03132657,  9439.83887857,  9270.46652622,  9393.43570876,\n",
              "        9302.82602446,  9308.39792263,  9288.61543195,  9217.82554578,\n",
              "        9135.99152156,  9221.5408131 ,  9173.06865128,  9197.94327848,\n",
              "        9124.22204958,  9065.17177868,  9107.98179405,  9192.72323049,\n",
              "        9176.60687885,  9046.12288209,  9226.8604442 ,  9147.82783489,\n",
              "        9006.80607364,  9240.48086499,  9203.14633819,  9068.62093982,\n",
              "        9006.64237801,  9039.74583238,  9056.94951347,  8979.80883009,\n",
              "        9143.48592488,  9095.79536043,  8988.03869251,  9074.38618688,\n",
              "        9194.99048224,  9119.82206972,  8992.02169002,  9084.67892253,\n",
              "        8898.68614577,  8789.53293411,  8874.56693209,  8869.65463316,\n",
              "        8846.2443019 ,  8877.45532084,  8863.89283965,  8748.77864028,\n",
              "        8860.41964758,  8977.82145306,  8996.25584402,  9000.31621552,\n",
              "        9210.88984632,  9185.42792146,  9161.5846649 ,  9194.97692313,\n",
              "        9330.26463747,  9478.87436392,  9454.36458902,  9483.51534916,\n",
              "        9352.82459204,  9323.64601389,  9245.30031193,  9152.21569279,\n",
              "        9306.11722091,  9232.38609543,  9183.3061855 ,  9216.90319987,\n",
              "        9336.52249843,  9381.44192045,  9640.30921785,  9633.11099386,\n",
              "        9658.03343571,  9684.65104095,  9823.63056633,  9873.45984697,\n",
              "        9861.98395417,  9768.54278098,  9792.42134455,  9929.64693492,\n",
              "        9888.89747172,  9941.20416383,  9965.67421805, 10051.72977401,\n",
              "        9970.83810266, 10204.81847891, 10074.28240989, 10037.45576073,\n",
              "       10131.61638452, 10161.68025124, 10246.02079085, 10195.19004257,\n",
              "       10187.56353242, 10188.80967353, 10348.69854894, 10420.14896737,\n",
              "       10503.16338784, 10434.06033537, 10535.15413445, 10558.91951041,\n",
              "       10705.59824618, 10921.2154348 , 10887.71288352, 10843.47576524,\n",
              "       10749.78325603, 10734.34876972, 10693.34082564, 10731.78385637,\n",
              "       10716.26925805, 10677.51930548, 10791.19058892, 10689.98214568,\n",
              "       10736.28130854, 10692.69826276, 10770.1528013 , 10919.34758658,\n",
              "       10886.25123476, 10934.26318507, 10953.81286756, 10866.2456339 ,\n",
              "       10892.41019616, 10923.90238756, 10969.00399297, 10947.24161006,\n",
              "       10957.55306875, 10831.80299044, 10793.01277931, 10853.01790238,\n",
              "       10949.87825314, 10903.63529406, 10915.05292993, 10939.94507107,\n",
              "       10961.98686657, 11021.26639597, 10820.89121704, 10815.55391307,\n",
              "       10841.40672108, 10732.95683939, 10912.62500283, 10930.25535982,\n",
              "       11101.13949076, 11013.3824274 , 10913.45799525, 10937.93166719,\n",
              "       10754.31788116, 10777.43596411, 10787.91370458, 10897.48279868,\n",
              "       10973.87865825, 10928.06520044, 10808.13005044, 10993.19822562,\n",
              "       10906.11945123, 10792.09329415])"
            ]
          },
          "metadata": {},
          "execution_count": 340
        }
      ]
    },
    {
      "cell_type": "markdown",
      "source": [
        "## 정수 데이터 카운팅\n",
        "* 만약 난수가 정수값이면 unique 명령이나 bincount 명령으로 데이터 값을 분석"
      ],
      "metadata": {
        "id": "zc2junJdO2d8"
      }
    },
    {
      "cell_type": "markdown",
      "source": [
        "### `unique`\n",
        "* unique 함수는 데이터에서 중복된 값을 제거하고 중복되지 않는 값의 리스트를 출력\n",
        "* return_counts 인수를 True 로 설정하면 각 값을 가진 데이터 갯수도 출력\n"
      ],
      "metadata": {
        "id": "NQWG8zU8PJtG"
      }
    },
    {
      "cell_type": "code",
      "source": [
        "np.unique([11, 11, 2, 2, 34, 34])"
      ],
      "metadata": {
        "colab": {
          "base_uri": "https://localhost:8080/"
        },
        "id": "Zy46ohsVPDJv",
        "outputId": "3be83784-0900-4d63-cbb5-794db16c775f"
      },
      "execution_count": 151,
      "outputs": [
        {
          "output_type": "execute_result",
          "data": {
            "text/plain": [
              "array([ 2, 11, 34])"
            ]
          },
          "metadata": {},
          "execution_count": 151
        }
      ]
    },
    {
      "cell_type": "code",
      "source": [
        "a = np.array(['a', 'b', 'b', 'c', 'a'])\n",
        "index, count = np.unique(a, return_counts=True)"
      ],
      "metadata": {
        "id": "9l5BuLbwPPQF"
      },
      "execution_count": 152,
      "outputs": []
    },
    {
      "cell_type": "code",
      "source": [
        "index"
      ],
      "metadata": {
        "colab": {
          "base_uri": "https://localhost:8080/"
        },
        "id": "kMLRdBasPQ4L",
        "outputId": "b6c692df-f4dd-4084-a3e2-011e324df663"
      },
      "execution_count": 148,
      "outputs": [
        {
          "output_type": "execute_result",
          "data": {
            "text/plain": [
              "array(['a', 'b', 'c'], dtype='<U1')"
            ]
          },
          "metadata": {},
          "execution_count": 148
        }
      ]
    },
    {
      "cell_type": "code",
      "source": [
        "count"
      ],
      "metadata": {
        "colab": {
          "base_uri": "https://localhost:8080/"
        },
        "id": "Kpx6OGmoPRi1",
        "outputId": "22449fc0-b9c7-4eab-c4b1-60f14c27a87a"
      },
      "execution_count": 153,
      "outputs": [
        {
          "output_type": "execute_result",
          "data": {
            "text/plain": [
              "array([2, 2, 1])"
            ]
          },
          "metadata": {},
          "execution_count": 153
        }
      ]
    },
    {
      "cell_type": "code",
      "source": [
        "dict(zip(*np.unique(a, return_counts=True)))"
      ],
      "metadata": {
        "colab": {
          "base_uri": "https://localhost:8080/"
        },
        "id": "EpYYn8I2jxpq",
        "outputId": "9f67b3a6-7612-4459-8c76-4596efbc9821"
      },
      "execution_count": 154,
      "outputs": [
        {
          "output_type": "execute_result",
          "data": {
            "text/plain": [
              "{'a': 2, 'b': 2, 'c': 1}"
            ]
          },
          "metadata": {},
          "execution_count": 154
        }
      ]
    },
    {
      "cell_type": "markdown",
      "source": [
        "### `bincount` (값이 있어야 셈)\n",
        "* `unique` 함수는 데이터에 존재하는 값에 대해서만 갯수를 세므로 데이터 값이 나올 수 있음에도 불구하고 데이터가 하나도 없는 경우에는 정보를 주지 않음\n",
        "* 따라서 데이터가 주사위를 던졌을 때 나오는 수처럼 특정 범위안의 수인 경우에는 `bincount` 함수에 `minlength` 인수를 설정하여 쓰는 것이 더 편리\n",
        "* `bincount` 함수는 0 부터 `minlength` - 1 까지의 숫자에 대해 각각 카운트\n",
        "* 데이터가 없을 경우에는 카운트 값이 0이 됨"
      ],
      "metadata": {
        "id": "GihAHqezPWii"
      }
    },
    {
      "cell_type": "code",
      "source": [
        "np.bincount([1, 1, 2, 2, 2, 3], minlength=6)"
      ],
      "metadata": {
        "colab": {
          "base_uri": "https://localhost:8080/"
        },
        "id": "SWLVdyPEPmqk",
        "outputId": "27ae068a-e7fc-48f4-9711-1c17a1822bfa"
      },
      "execution_count": 156,
      "outputs": [
        {
          "output_type": "execute_result",
          "data": {
            "text/plain": [
              "array([0, 2, 3, 1, 0, 0])"
            ]
          },
          "metadata": {},
          "execution_count": 156
        }
      ]
    }
  ]
}