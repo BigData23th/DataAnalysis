{
  "nbformat": 4,
  "nbformat_minor": 0,
  "metadata": {
    "colab": {
      "provenance": [],
      "include_colab_link": true
    },
    "kernelspec": {
      "name": "python3",
      "display_name": "Python 3"
    },
    "language_info": {
      "name": "python"
    }
  },
  "cells": [
    {
      "cell_type": "markdown",
      "metadata": {
        "id": "view-in-github",
        "colab_type": "text"
      },
      "source": [
        "<a href=\"https://colab.research.google.com/github/mastgm0817/DataAnalysis/blob/main/mastgm0817/ch05_03_%EB%B0%B0%EC%97%B4%EC%9D%98_%EC%97%B0%EC%82%B0.ipynb\" target=\"_parent\"><img src=\"https://colab.research.google.com/assets/colab-badge.svg\" alt=\"Open In Colab\"/></a>"
      ]
    },
    {
      "cell_type": "markdown",
      "source": [
        "# 배열의 연산"
      ],
      "metadata": {
        "id": "0bu09Yqa7q4u"
      }
    },
    {
      "cell_type": "markdown",
      "source": [
        "## 벡터화 연산 (vectorized operation)\n",
        "* 명시적으로 반복문을 사용하지 않고도 배열의 모든 원소에 대해 반복 연산을 할 수 있음\n",
        "* 선형 대수 공식과 동일한 아주 간단한 파이썬 코드를 작성할 수 있음\n",
        "\n",
        "<br>\n",
        "$$\n",
        "x = \\begin{bmatrix}1\\\\2\\\\3\\\\⋯\\\\10000\\end{bmatrix},\\quad\n",
        "y = \\begin{bmatrix}10001\\\\10002\\\\10003\\\\⋯\\\\20000\\end{bmatrix}\n",
        "$$\n",
        "\n",
        "<br>\n",
        "$$\n",
        "z = x + y\n",
        "$$\n",
        "\n",
        "<br>\n",
        "$$\n",
        "\\begin{bmatrix}1\\\\2\\\\3\\\\⋯\\\\10000\\end{bmatrix}\n",
        "+ \\begin{bmatrix}10001\\\\10002\\\\10003\\\\⋯\\\\20000\\end{bmatrix}\n",
        "= \\begin{bmatrix}1+10001\\\\2+10002\\\\3+10003\\\\⋯\\\\10000+20000\\end{bmatrix}\n",
        "= \\begin{bmatrix}10002\\\\10004\\\\10006\\\\⋯\\\\30000\\end{bmatrix}\n",
        "$$\n",
        "\n"
      ],
      "metadata": {
        "id": "VyUPscjA8Lf8"
      }
    },
    {
      "cell_type": "code",
      "source": [
        "import numpy as np\n",
        "\n",
        "# x = np.array(range(1, 10001))\n",
        "x = np.arange(1, 10001)\n",
        "y = np.arange(10001, 20001)"
      ],
      "metadata": {
        "id": "VEIfjEzG9chC"
      },
      "execution_count": null,
      "outputs": []
    },
    {
      "cell_type": "code",
      "source": [
        "%%time\n",
        "z = np.zeros_like(x)\n",
        "for i in range(len(z)):\n",
        "  z[i] = x[i] + y[i]\n"
      ],
      "metadata": {
        "colab": {
          "base_uri": "https://localhost:8080/"
        },
        "id": "kAFBBLtxF0xP",
        "outputId": "83d2ff46-39d0-4ce5-a952-fe5c552b900f"
      },
      "execution_count": null,
      "outputs": [
        {
          "output_type": "stream",
          "name": "stdout",
          "text": [
            "CPU times: user 7.9 ms, sys: 100 µs, total: 8 ms\n",
            "Wall time: 13.4 ms\n"
          ]
        }
      ]
    },
    {
      "cell_type": "code",
      "source": [
        "x == y"
      ],
      "metadata": {
        "id": "luw4dO8FF8Ny",
        "colab": {
          "base_uri": "https://localhost:8080/"
        },
        "outputId": "de6d0fe2-5607-46d8-e47d-edf9653835c5"
      },
      "execution_count": null,
      "outputs": [
        {
          "output_type": "execute_result",
          "data": {
            "text/plain": [
              "array([False, False, False, ..., False, False, False])"
            ]
          },
          "metadata": {},
          "execution_count": 4
        }
      ]
    },
    {
      "cell_type": "code",
      "source": [
        "(x == y) | ( x > y)"
      ],
      "metadata": {
        "id": "uzp_dcuLwjQD",
        "outputId": "54b39ed2-cc80-409b-9ef4-13fc7945e83c",
        "colab": {
          "base_uri": "https://localhost:8080/"
        }
      },
      "execution_count": null,
      "outputs": [
        {
          "output_type": "execute_result",
          "data": {
            "text/plain": [
              "array([False, False, False, ..., False, False, False])"
            ]
          },
          "metadata": {},
          "execution_count": 5
        }
      ]
    },
    {
      "cell_type": "code",
      "source": [
        "a = np.arange(5)\n",
        "a"
      ],
      "metadata": {
        "colab": {
          "base_uri": "https://localhost:8080/"
        },
        "id": "RA5HZKLe9eaf",
        "outputId": "cc36b7a8-4d7a-4d3e-f046-67978abef20e"
      },
      "execution_count": null,
      "outputs": [
        {
          "output_type": "stream",
          "name": "stdout",
          "text": [
            "CPU times: user 6.36 ms, sys: 10 µs, total: 6.37 ms\n",
            "Wall time: 12.9 ms\n"
          ]
        }
      ]
    },
    {
      "cell_type": "code",
      "source": [
        "np.exp(a)"
      ],
      "metadata": {
        "colab": {
          "base_uri": "https://localhost:8080/"
        },
        "id": "3DxQsip_GWMW",
        "outputId": "c7a125b2-f3bd-4be0-c146-3d20cd3574c8"
      },
      "execution_count": null,
      "outputs": [
        {
          "output_type": "execute_result",
          "data": {
            "text/plain": [
              "array([ 2.71828183,  7.3890561 , 20.08553692, 54.59815003])"
            ]
          },
          "metadata": {},
          "execution_count": 8
        }
      ]
    },
    {
      "cell_type": "code",
      "source": [],
      "metadata": {
        "id": "2xr9-N3x9fsJ"
      },
      "execution_count": null,
      "outputs": []
    },
    {
      "cell_type": "code",
      "source": [],
      "metadata": {
        "colab": {
          "base_uri": "https://localhost:8080/"
        },
        "id": "9tQ3ZsSe9iyl",
        "outputId": "21f8351d-8823-437c-b2cc-3156805fde93"
      },
      "execution_count": null,
      "outputs": [
        {
          "output_type": "stream",
          "name": "stdout",
          "text": [
            "CPU times: user 646 µs, sys: 0 ns, total: 646 µs\n",
            "Wall time: 505 µs\n"
          ]
        }
      ]
    },
    {
      "cell_type": "code",
      "source": [
        "import numpy as  np\n",
        "a = np.arange(10000,100)"
      ],
      "metadata": {
        "colab": {
          "base_uri": "https://localhost:8080/"
        },
        "id": "PA_D4HdC9kXC",
        "outputId": "962efa90-7283-4d81-f434-22ed61fe57d8"
      },
      "execution_count": null,
      "outputs": [
        {
          "output_type": "execute_result",
          "data": {
            "text/plain": [
              "array([10002, 10004, 10006, 10008, 10010, 10012, 10014, 10016, 10018,\n",
              "       10020])"
            ]
          },
          "metadata": {},
          "execution_count": 223
        }
      ]
    },
    {
      "cell_type": "code",
      "source": [
        "# 사칙 연산뿐 아니라 비교 연산과 같은 논리 연산도 벡터화 연산이 가능\n"
      ],
      "metadata": {
        "id": "iHMb2Zcs9mvv"
      },
      "execution_count": null,
      "outputs": []
    },
    {
      "cell_type": "code",
      "source": [],
      "metadata": {
        "colab": {
          "base_uri": "https://localhost:8080/"
        },
        "id": "GW3fosRZ9tOO",
        "outputId": "c1b1ebfa-8b11-4e4a-ae94-9fe1a85de18c"
      },
      "execution_count": null,
      "outputs": [
        {
          "output_type": "execute_result",
          "data": {
            "text/plain": [
              "array([False,  True, False,  True])"
            ]
          },
          "metadata": {},
          "execution_count": 225
        }
      ]
    },
    {
      "cell_type": "code",
      "source": [],
      "metadata": {
        "colab": {
          "base_uri": "https://localhost:8080/"
        },
        "id": "3OQn2RbW9tl4",
        "outputId": "d5b49e7b-8ee9-451b-c8d6-b1125e153fee"
      },
      "execution_count": null,
      "outputs": [
        {
          "output_type": "execute_result",
          "data": {
            "text/plain": [
              "array([False,  True,  True,  True])"
            ]
          },
          "metadata": {},
          "execution_count": 226
        }
      ]
    },
    {
      "cell_type": "code",
      "source": [
        "# 배열의 각 원소를 일일히 비교하는 것이 아닌 배열의 모든 원소가 다 같은지 알고 싶다면 all 명령 사용\n"
      ],
      "metadata": {
        "id": "dRQ7U6AV9u5m"
      },
      "execution_count": null,
      "outputs": []
    },
    {
      "cell_type": "code",
      "source": [],
      "metadata": {
        "colab": {
          "base_uri": "https://localhost:8080/"
        },
        "id": "UvNaudEI97P3",
        "outputId": "a7e83b3c-e4b4-47bb-ecbc-3a1ff93d90a2"
      },
      "execution_count": null,
      "outputs": [
        {
          "output_type": "execute_result",
          "data": {
            "text/plain": [
              "False"
            ]
          },
          "metadata": {},
          "execution_count": 228
        }
      ]
    },
    {
      "cell_type": "code",
      "source": [],
      "metadata": {
        "colab": {
          "base_uri": "https://localhost:8080/"
        },
        "id": "Aza_eKBf98bX",
        "outputId": "c94b3e85-b43e-46b3-f0a5-b87464688065"
      },
      "execution_count": null,
      "outputs": [
        {
          "output_type": "execute_result",
          "data": {
            "text/plain": [
              "True"
            ]
          },
          "metadata": {},
          "execution_count": 229
        }
      ]
    },
    {
      "cell_type": "code",
      "source": [
        "# 지수 함수, 로그 함수 등의 수학 함수도 벡터화 연산을 지원\n"
      ],
      "metadata": {
        "colab": {
          "base_uri": "https://localhost:8080/"
        },
        "id": "n-hlpfj899lo",
        "outputId": "4e2adfa1-6e7d-4de5-eec8-d4bb53cddeb9"
      },
      "execution_count": null,
      "outputs": [
        {
          "output_type": "execute_result",
          "data": {
            "text/plain": [
              "array([0, 1, 2, 3, 4])"
            ]
          },
          "metadata": {},
          "execution_count": 230
        }
      ]
    },
    {
      "cell_type": "code",
      "source": [],
      "metadata": {
        "colab": {
          "base_uri": "https://localhost:8080/"
        },
        "id": "ZsYR0Al2-Aoc",
        "outputId": "35fbd0df-9d8d-4f47-b790-8778fe82efd0"
      },
      "execution_count": null,
      "outputs": [
        {
          "output_type": "execute_result",
          "data": {
            "text/plain": [
              "array([ 1.        ,  2.71828183,  7.3890561 , 20.08553692, 54.59815003])"
            ]
          },
          "metadata": {},
          "execution_count": 231
        }
      ]
    },
    {
      "cell_type": "code",
      "source": [],
      "metadata": {
        "colab": {
          "base_uri": "https://localhost:8080/"
        },
        "id": "voLHjpyc-Bth",
        "outputId": "3a1fef45-048c-4400-c593-255495082281"
      },
      "execution_count": null,
      "outputs": [
        {
          "output_type": "execute_result",
          "data": {
            "text/plain": [
              "array([    1,    10,   100,  1000, 10000])"
            ]
          },
          "metadata": {},
          "execution_count": 232
        }
      ]
    },
    {
      "cell_type": "code",
      "source": [],
      "metadata": {
        "colab": {
          "base_uri": "https://localhost:8080/"
        },
        "id": "4jVRQZHG-CyM",
        "outputId": "2b330788-6e41-4eee-e2e0-4cfddf86bf8e"
      },
      "execution_count": null,
      "outputs": [
        {
          "output_type": "execute_result",
          "data": {
            "text/plain": [
              "array([0.        , 0.69314718, 1.09861229, 1.38629436, 1.60943791])"
            ]
          },
          "metadata": {},
          "execution_count": 233
        }
      ]
    },
    {
      "cell_type": "markdown",
      "source": [
        "## 스칼라와 벡터/행렬의 곱셈"
      ],
      "metadata": {
        "id": "8N5Dc5Q--Uko"
      }
    },
    {
      "cell_type": "code",
      "source": [
        "x = np.arange(10)\n",
        "x"
      ],
      "metadata": {
        "colab": {
          "base_uri": "https://localhost:8080/"
        },
        "id": "D10JF_hy-T9v",
        "outputId": "258cf9bb-3fda-4a26-dea9-6a52502f7e6f"
      },
      "execution_count": null,
      "outputs": [
        {
          "output_type": "execute_result",
          "data": {
            "text/plain": [
              "array([0, 1, 2, 3, 4, 5, 6, 7, 8, 9])"
            ]
          },
          "metadata": {},
          "execution_count": 13
        }
      ]
    },
    {
      "cell_type": "code",
      "source": [
        "100 * x # 여기서 100이 스칼라(배열표시[]가 없는 숫자)"
      ],
      "metadata": {
        "colab": {
          "base_uri": "https://localhost:8080/"
        },
        "id": "Y7tGxKgq-X5o",
        "outputId": "515775fa-50fe-4b5f-9ff4-c968afd9fe80"
      },
      "execution_count": null,
      "outputs": [
        {
          "output_type": "execute_result",
          "data": {
            "text/plain": [
              "array([  0, 100, 200, 300, 400, 500, 600, 700, 800, 900])"
            ]
          },
          "metadata": {},
          "execution_count": 14
        }
      ]
    },
    {
      "cell_type": "code",
      "source": [
        "x = np.arange(12).reshape(3,4)\n",
        "x"
      ],
      "metadata": {
        "colab": {
          "base_uri": "https://localhost:8080/"
        },
        "id": "u61-Rsr9-EE9",
        "outputId": "c3316da8-2093-44c9-8c5c-81456f9ca81c"
      },
      "execution_count": null,
      "outputs": [
        {
          "output_type": "execute_result",
          "data": {
            "text/plain": [
              "array([[ 0,  1,  2,  3],\n",
              "       [ 4,  5,  6,  7],\n",
              "       [ 8,  9, 10, 11]])"
            ]
          },
          "metadata": {},
          "execution_count": 15
        }
      ]
    },
    {
      "cell_type": "code",
      "source": [
        "x * 100"
      ],
      "metadata": {
        "colab": {
          "base_uri": "https://localhost:8080/"
        },
        "id": "aWaSxIRQ-bEy",
        "outputId": "57216105-72e2-41b9-97cf-7392ea6e6e31"
      },
      "execution_count": null,
      "outputs": [
        {
          "output_type": "execute_result",
          "data": {
            "text/plain": [
              "array([[   0,  100,  200,  300],\n",
              "       [ 400,  500,  600,  700],\n",
              "       [ 800,  900, 1000, 1100]])"
            ]
          },
          "metadata": {},
          "execution_count": 16
        }
      ]
    },
    {
      "cell_type": "markdown",
      "source": [
        "## 브로드캐스팅\n",
        "* 백터(또는 행렬)끼리 덧셈 혹은 뺄셈을 하려면 두 벡터(또는 행렬)의 크기가 같아야 함\n",
        "* Numpy에선 서로 다른 크기를 가진 두 배열의 사칙 연산 지원 = 브로드캐스팅(broadcasting)\n",
        "> 크기가 작은 배열을 자동으로 반복 확장하여 크기가 큰 배열에 맞추는 방법\n",
        "\n",
        "<br>\n",
        "$$\n",
        "x = \\begin{bmatrix}0\\\\1\\\\2\\\\3\\\\4\\end{bmatrix},\\quad \n",
        "x + 1 = \\begin{bmatrix}0\\\\1\\\\2\\\\3\\\\4\\end{bmatrix} + 1 = ?\n",
        "$$\n",
        "<br>\n",
        "$$\n",
        "\\begin{bmatrix}0\\\\1\\\\2\\\\3\\\\4\\end{bmatrix} + 1\n",
        "= \\begin{bmatrix}0\\\\1\\\\2\\\\3\\\\4\\end{bmatrix}\n",
        "+ \\begin{bmatrix}1\\\\1\\\\1\\\\1\\\\1\\end{bmatrix}\n",
        "= \\begin{bmatrix}1\\\\2\\\\3\\\\4\\\\5\\end{bmatrix}\n",
        "$$"
      ],
      "metadata": {
        "id": "QLUTAyOg-eZh"
      }
    },
    {
      "cell_type": "code",
      "source": [
        "x = np.arange(5)\n",
        "x"
      ],
      "metadata": {
        "colab": {
          "base_uri": "https://localhost:8080/"
        },
        "id": "3CPFyxjm-ceU",
        "outputId": "208b1a9d-79c7-4475-997c-4c8ba2a4e273"
      },
      "execution_count": null,
      "outputs": [
        {
          "output_type": "execute_result",
          "data": {
            "text/plain": [
              "array([0, 1, 2, 3, 4])"
            ]
          },
          "metadata": {},
          "execution_count": 17
        }
      ]
    },
    {
      "cell_type": "code",
      "source": [
        "y = np.ones_like(x)\n",
        "y"
      ],
      "metadata": {
        "colab": {
          "base_uri": "https://localhost:8080/"
        },
        "id": "zjzZosy-_ny2",
        "outputId": "afe73d2e-cbe0-412d-ccfa-7de45652229f"
      },
      "execution_count": null,
      "outputs": [
        {
          "output_type": "execute_result",
          "data": {
            "text/plain": [
              "array([1, 1, 1, 1, 1])"
            ]
          },
          "metadata": {},
          "execution_count": 18
        }
      ]
    },
    {
      "cell_type": "code",
      "source": [
        "x + y # x + 1을 어렵게 풀어놓은것"
      ],
      "metadata": {
        "colab": {
          "base_uri": "https://localhost:8080/"
        },
        "id": "iWiyIctf_tDo",
        "outputId": "210b8607-b4d3-4153-e376-8c1efd87bf42"
      },
      "execution_count": null,
      "outputs": [
        {
          "output_type": "execute_result",
          "data": {
            "text/plain": [
              "array([1, 2, 3, 4, 5])"
            ]
          },
          "metadata": {},
          "execution_count": 19
        }
      ]
    },
    {
      "cell_type": "code",
      "source": [
        "y = np.full_like(x,2)\n",
        "x + y"
      ],
      "metadata": {
        "colab": {
          "base_uri": "https://localhost:8080/"
        },
        "id": "uDVrYI84_ulY",
        "outputId": "6541d5bf-e2f2-4c9f-d9c8-c62e8f4b1610"
      },
      "execution_count": null,
      "outputs": [
        {
          "output_type": "execute_result",
          "data": {
            "text/plain": [
              "array([2, 3, 4, 5, 6])"
            ]
          },
          "metadata": {},
          "execution_count": 21
        }
      ]
    },
    {
      "cell_type": "code",
      "source": [
        "# 2차원 이상에서도 적용됨\n",
        "x = np.vstack([range(7)[i:i+3] for i in range(5)])\n",
        "x"
      ],
      "metadata": {
        "colab": {
          "base_uri": "https://localhost:8080/"
        },
        "id": "hNWx7bav_vF9",
        "outputId": "5cd12176-2b7b-4293-c75a-aae5a64af6a8"
      },
      "execution_count": null,
      "outputs": [
        {
          "output_type": "execute_result",
          "data": {
            "text/plain": [
              "array([[0, 1, 2],\n",
              "       [1, 2, 3],\n",
              "       [2, 3, 4],\n",
              "       [3, 4, 5],\n",
              "       [4, 5, 6]])"
            ]
          },
          "metadata": {},
          "execution_count": 23
        }
      ]
    },
    {
      "cell_type": "code",
      "source": [
        "y = np.arange(5)[:,np.newaxis]\n",
        "y"
      ],
      "metadata": {
        "colab": {
          "base_uri": "https://localhost:8080/"
        },
        "id": "aEPuC1In_08w",
        "outputId": "041f085b-ac2c-495c-b138-786fe1be7341"
      },
      "execution_count": null,
      "outputs": [
        {
          "output_type": "execute_result",
          "data": {
            "text/plain": [
              "array([[0],\n",
              "       [1],\n",
              "       [2],\n",
              "       [3],\n",
              "       [4]])"
            ]
          },
          "metadata": {},
          "execution_count": 26
        }
      ]
    },
    {
      "cell_type": "code",
      "source": [
        "x + y # 0 0 0\n",
        "      # 1 1 1\n",
        "      # 2 2 2\n",
        "      # 3 3 3\n",
        "      # 4 4 4\n",
        "      # 로 y가 확장됨"
      ],
      "metadata": {
        "colab": {
          "base_uri": "https://localhost:8080/"
        },
        "id": "hIrEN7MF_2-y",
        "outputId": "3ee95bde-ebb8-4033-bbb7-e57056c8e1ee"
      },
      "execution_count": null,
      "outputs": [
        {
          "output_type": "execute_result",
          "data": {
            "text/plain": [
              "array([[ 0,  1,  2],\n",
              "       [ 2,  3,  4],\n",
              "       [ 4,  5,  6],\n",
              "       [ 6,  7,  8],\n",
              "       [ 8,  9, 10]])"
            ]
          },
          "metadata": {},
          "execution_count": 27
        }
      ]
    },
    {
      "cell_type": "code",
      "source": [
        "y = np.arange(3)\n",
        "y"
      ],
      "metadata": {
        "colab": {
          "base_uri": "https://localhost:8080/"
        },
        "id": "uQqR40ZB_4Ot",
        "outputId": "41b3b104-dfcc-424f-f892-3fc491bbb4f2"
      },
      "execution_count": null,
      "outputs": [
        {
          "output_type": "execute_result",
          "data": {
            "text/plain": [
              "array([0, 1, 2])"
            ]
          },
          "metadata": {},
          "execution_count": 30
        }
      ]
    },
    {
      "cell_type": "code",
      "source": [],
      "metadata": {
        "colab": {
          "base_uri": "https://localhost:8080/"
        },
        "id": "aYTW4GzV_684",
        "outputId": "9b1e7d09-1a5b-479e-afe9-00e493ccb57e"
      },
      "execution_count": null,
      "outputs": [
        {
          "output_type": "execute_result",
          "data": {
            "text/plain": [
              "array([[0, 2, 4],\n",
              "       [1, 3, 5],\n",
              "       [2, 4, 6],\n",
              "       [3, 5, 7],\n",
              "       [4, 6, 8]])"
            ]
          },
          "metadata": {},
          "execution_count": 246
        }
      ]
    },
    {
      "cell_type": "markdown",
      "source": [
        "## 차원 축소 연산 (dimension reduction)\n",
        "> 행렬의 하나의 행에 있는 원소들을 하나의 데이터 집합으로 보고 각 행에 처리된 연산으로 한 차원 낮은 벡터를 구성하게 하는 연산\n",
        "* 최대/최소 : `min`, `max`, `argmin`, `argmax`\n",
        "* 통계 : `sum`, `mean`, `median`, `std`, `var`\n",
        "* 불리언 : `all`, `any`"
      ],
      "metadata": {
        "id": "c4xwPdamAFZ_"
      }
    },
    {
      "cell_type": "code",
      "source": [],
      "metadata": {
        "colab": {
          "base_uri": "https://localhost:8080/"
        },
        "id": "8zlZOCFfAiAZ",
        "outputId": "193ea988-315f-4ede-9f13-122c842afccc"
      },
      "execution_count": null,
      "outputs": [
        {
          "output_type": "execute_result",
          "data": {
            "text/plain": [
              "array([1, 2, 3, 4])"
            ]
          },
          "metadata": {},
          "execution_count": 255
        }
      ]
    },
    {
      "cell_type": "code",
      "source": [],
      "metadata": {
        "colab": {
          "base_uri": "https://localhost:8080/"
        },
        "id": "sSfvD2j2AiRw",
        "outputId": "4f1f4c9d-245c-46de-d670-2e44f3ebba26"
      },
      "execution_count": null,
      "outputs": [
        {
          "output_type": "execute_result",
          "data": {
            "text/plain": [
              "(10, 10)"
            ]
          },
          "metadata": {},
          "execution_count": 256
        }
      ]
    },
    {
      "cell_type": "code",
      "source": [],
      "metadata": {
        "id": "cyswMEnRAkab"
      },
      "execution_count": null,
      "outputs": []
    },
    {
      "cell_type": "code",
      "source": [],
      "metadata": {
        "colab": {
          "base_uri": "https://localhost:8080/"
        },
        "id": "pKlL475YAlY9",
        "outputId": "57b996c9-f433-42ca-f2f9-5b0c69e00d02"
      },
      "execution_count": null,
      "outputs": [
        {
          "output_type": "execute_result",
          "data": {
            "text/plain": [
              "(1, 3)"
            ]
          },
          "metadata": {},
          "execution_count": 254
        }
      ]
    },
    {
      "cell_type": "code",
      "source": [],
      "metadata": {
        "colab": {
          "base_uri": "https://localhost:8080/"
        },
        "id": "Zbq6zUeEAnAy",
        "outputId": "5d1b9dff-8db3-4fed-aa5f-1e994b5ed701"
      },
      "execution_count": null,
      "outputs": [
        {
          "output_type": "execute_result",
          "data": {
            "text/plain": [
              "0"
            ]
          },
          "metadata": {},
          "execution_count": 257
        }
      ]
    },
    {
      "cell_type": "code",
      "source": [],
      "metadata": {
        "colab": {
          "base_uri": "https://localhost:8080/"
        },
        "id": "o6NkXthQAoSZ",
        "outputId": "15c2ecb1-d10c-4422-8ac1-5b038577035c"
      },
      "execution_count": null,
      "outputs": [
        {
          "output_type": "execute_result",
          "data": {
            "text/plain": [
              "3"
            ]
          },
          "metadata": {},
          "execution_count": 258
        }
      ]
    },
    {
      "cell_type": "code",
      "source": [],
      "metadata": {
        "id": "gGNSVN69Azib"
      },
      "execution_count": null,
      "outputs": []
    },
    {
      "cell_type": "code",
      "source": [],
      "metadata": {
        "colab": {
          "base_uri": "https://localhost:8080/"
        },
        "id": "_ya-Gcp-A2Hz",
        "outputId": "8e38cc81-6503-4cc8-f261-d7e18cc1c6de"
      },
      "execution_count": null,
      "outputs": [
        {
          "output_type": "execute_result",
          "data": {
            "text/plain": [
              "1.75"
            ]
          },
          "metadata": {},
          "execution_count": 260
        }
      ]
    },
    {
      "cell_type": "code",
      "source": [],
      "metadata": {
        "colab": {
          "base_uri": "https://localhost:8080/"
        },
        "id": "LSbR-7oAA3xE",
        "outputId": "af0663de-b24a-44bf-ba32-f1d63d839a91"
      },
      "execution_count": null,
      "outputs": [
        {
          "output_type": "execute_result",
          "data": {
            "text/plain": [
              "1.5"
            ]
          },
          "metadata": {},
          "execution_count": 261
        }
      ]
    },
    {
      "cell_type": "code",
      "source": [],
      "metadata": {
        "colab": {
          "base_uri": "https://localhost:8080/"
        },
        "id": "MvY9dhvoA4aD",
        "outputId": "767653b6-b861-4a77-ec9b-20ff7d0bded5"
      },
      "execution_count": null,
      "outputs": [
        {
          "output_type": "execute_result",
          "data": {
            "text/plain": [
              "False"
            ]
          },
          "metadata": {},
          "execution_count": 262
        }
      ]
    },
    {
      "cell_type": "code",
      "source": [],
      "metadata": {
        "colab": {
          "base_uri": "https://localhost:8080/"
        },
        "id": "dfRIlrPjA6kV",
        "outputId": "e7714ea1-421b-4d87-c890-1a6a950eb80e"
      },
      "execution_count": null,
      "outputs": [
        {
          "output_type": "execute_result",
          "data": {
            "text/plain": [
              "True"
            ]
          },
          "metadata": {},
          "execution_count": 263
        }
      ]
    },
    {
      "cell_type": "code",
      "source": [],
      "metadata": {
        "id": "uCsGPUDIA8Df"
      },
      "execution_count": null,
      "outputs": []
    },
    {
      "cell_type": "code",
      "source": [],
      "metadata": {
        "colab": {
          "base_uri": "https://localhost:8080/"
        },
        "id": "A5wy-HhpBArR",
        "outputId": "c85c1f58-d0c2-4664-c0a2-a608c0adca33"
      },
      "execution_count": null,
      "outputs": [
        {
          "output_type": "execute_result",
          "data": {
            "text/plain": [
              "False"
            ]
          },
          "metadata": {},
          "execution_count": 265
        }
      ]
    },
    {
      "cell_type": "code",
      "source": [],
      "metadata": {
        "colab": {
          "base_uri": "https://localhost:8080/"
        },
        "id": "CjAwdeV8BCqi",
        "outputId": "21b2519b-e554-40f8-d6b0-0751e581ed97"
      },
      "execution_count": null,
      "outputs": [
        {
          "output_type": "execute_result",
          "data": {
            "text/plain": [
              "True"
            ]
          },
          "metadata": {},
          "execution_count": 266
        }
      ]
    },
    {
      "cell_type": "code",
      "source": [],
      "metadata": {
        "id": "huAdtJUQBD6O"
      },
      "execution_count": null,
      "outputs": []
    },
    {
      "cell_type": "code",
      "source": [],
      "metadata": {
        "colab": {
          "base_uri": "https://localhost:8080/"
        },
        "id": "aPKJctaWBF5w",
        "outputId": "a937df42-fecb-4e2b-d476-ba37a967397c"
      },
      "execution_count": null,
      "outputs": [
        {
          "output_type": "execute_result",
          "data": {
            "text/plain": [
              "True"
            ]
          },
          "metadata": {},
          "execution_count": 268
        }
      ]
    },
    {
      "cell_type": "markdown",
      "source": [
        "* 연산의 대상이 2차원 이상인 경우에는 어느 차원으로 계산을 할 지를 axis 인수를 사용하여 지시\n",
        "* axis=0인 경우는 열 연산, axis=1인 경우는 행 연산. 디폴트 값은 axis=0.\n",
        "* axis 인수는 대부분의 차원 축소 명령에 적용할 수 있음"
      ],
      "metadata": {
        "id": "WPEoDlcJBM9k"
      }
    },
    {
      "cell_type": "code",
      "source": [],
      "metadata": {
        "colab": {
          "base_uri": "https://localhost:8080/"
        },
        "id": "x2aY5O1DBHKl",
        "outputId": "277398c3-c168-4087-fc05-29ec45e4e203"
      },
      "execution_count": null,
      "outputs": [
        {
          "output_type": "execute_result",
          "data": {
            "text/plain": [
              "array([[1, 1],\n",
              "       [2, 2]])"
            ]
          },
          "metadata": {},
          "execution_count": 269
        }
      ]
    },
    {
      "cell_type": "code",
      "source": [],
      "metadata": {
        "colab": {
          "base_uri": "https://localhost:8080/"
        },
        "id": "TCf_XLwkBSqf",
        "outputId": "09f71e2b-3b60-4166-8dd2-ebdbb67c3d4e"
      },
      "execution_count": null,
      "outputs": [
        {
          "output_type": "execute_result",
          "data": {
            "text/plain": [
              "6"
            ]
          },
          "metadata": {},
          "execution_count": 270
        }
      ]
    },
    {
      "cell_type": "code",
      "source": [],
      "metadata": {
        "colab": {
          "base_uri": "https://localhost:8080/"
        },
        "id": "svBdZRipBTtx",
        "outputId": "f6984d08-089d-45dd-9c76-e1ae6a8d5b01"
      },
      "execution_count": null,
      "outputs": [
        {
          "output_type": "execute_result",
          "data": {
            "text/plain": [
              "array([3, 3])"
            ]
          },
          "metadata": {},
          "execution_count": 271
        }
      ]
    },
    {
      "cell_type": "code",
      "source": [],
      "metadata": {
        "colab": {
          "base_uri": "https://localhost:8080/"
        },
        "id": "Tp45fbWxBWAw",
        "outputId": "02f28626-8716-48b8-eb1f-20b0554224db"
      },
      "execution_count": null,
      "outputs": [
        {
          "output_type": "execute_result",
          "data": {
            "text/plain": [
              "array([2, 4])"
            ]
          },
          "metadata": {},
          "execution_count": 272
        }
      ]
    },
    {
      "cell_type": "markdown",
      "source": [
        "## 💡 연습문제 5\n",
        "실수로 이루어진 5 x 6 형태의 데이터 행렬을 만들고 이 데이터에 대해 다음과 같은 값 도출\n",
        "1. 전체의 최댓값\n",
        "2. 각 행의 합\n",
        "3. 각 행의 최댓값\n",
        "4. 각 열의 평균\n",
        "5. 각 열의 최솟값"
      ],
      "metadata": {
        "id": "wu9TlD2oBgxn"
      }
    },
    {
      "cell_type": "code",
      "source": [],
      "metadata": {
        "colab": {
          "base_uri": "https://localhost:8080/"
        },
        "id": "0wDF67eFBX6m",
        "outputId": "91ecfe44-a14d-4497-863f-f02075c34d05"
      },
      "execution_count": null,
      "outputs": [
        {
          "output_type": "execute_result",
          "data": {
            "text/plain": [
              "array([[ 0.,  1.,  2.,  3.,  4.,  5.],\n",
              "       [ 6.,  7.,  8.,  9., 10., 11.],\n",
              "       [12., 13., 14., 15., 16., 17.],\n",
              "       [18., 19., 20., 21., 22., 23.],\n",
              "       [24., 25., 26., 27., 28., 29.]], dtype=float32)"
            ]
          },
          "metadata": {},
          "execution_count": 273
        }
      ]
    },
    {
      "cell_type": "code",
      "source": [
        "# 전체의 최댓값\n"
      ],
      "metadata": {
        "colab": {
          "base_uri": "https://localhost:8080/"
        },
        "id": "T1rBg-FEBxiB",
        "outputId": "fb115ffe-4812-4457-8f7e-11a0fa72330c"
      },
      "execution_count": null,
      "outputs": [
        {
          "output_type": "execute_result",
          "data": {
            "text/plain": [
              "29.0"
            ]
          },
          "metadata": {},
          "execution_count": 274
        }
      ]
    },
    {
      "cell_type": "code",
      "source": [
        "# 각 행의 합\n"
      ],
      "metadata": {
        "colab": {
          "base_uri": "https://localhost:8080/"
        },
        "id": "2MX12OYJB0z6",
        "outputId": "dde03b40-6136-4ab5-cb9b-8f1afc90b470"
      },
      "execution_count": null,
      "outputs": [
        {
          "output_type": "execute_result",
          "data": {
            "text/plain": [
              "array([ 15.,  51.,  87., 123., 159.], dtype=float32)"
            ]
          },
          "metadata": {},
          "execution_count": 275
        }
      ]
    },
    {
      "cell_type": "code",
      "source": [
        "# 각 행의 최댓값\n"
      ],
      "metadata": {
        "colab": {
          "base_uri": "https://localhost:8080/"
        },
        "id": "4mWNB5ypB4Lj",
        "outputId": "9965ef36-16e4-4091-d456-6eb1379c167e"
      },
      "execution_count": null,
      "outputs": [
        {
          "output_type": "execute_result",
          "data": {
            "text/plain": [
              "array([ 5., 11., 17., 23., 29.], dtype=float32)"
            ]
          },
          "metadata": {},
          "execution_count": 276
        }
      ]
    },
    {
      "cell_type": "code",
      "source": [
        "# 각 열의 평균\n"
      ],
      "metadata": {
        "colab": {
          "base_uri": "https://localhost:8080/"
        },
        "id": "ubUjoWPBB7fB",
        "outputId": "48174805-92b8-4330-bc4d-1e986171a5be"
      },
      "execution_count": null,
      "outputs": [
        {
          "output_type": "execute_result",
          "data": {
            "text/plain": [
              "array([12., 13., 14., 15., 16., 17.], dtype=float32)"
            ]
          },
          "metadata": {},
          "execution_count": 279
        }
      ]
    },
    {
      "cell_type": "code",
      "source": [
        "# 각 열의 최솟값\n"
      ],
      "metadata": {
        "colab": {
          "base_uri": "https://localhost:8080/"
        },
        "id": "Tccdtf2zCItV",
        "outputId": "1e18890f-2d5a-4fd8-f508-6b87e67ef468"
      },
      "execution_count": null,
      "outputs": [
        {
          "output_type": "execute_result",
          "data": {
            "text/plain": [
              "array([0., 1., 2., 3., 4., 5.], dtype=float32)"
            ]
          },
          "metadata": {},
          "execution_count": 280
        }
      ]
    },
    {
      "cell_type": "markdown",
      "source": [
        "## 정렬\n",
        "* `sort` : 배열 안의 원소를 크기에 따라 정렬하여 새로운 배열 생성\n",
        "* 2차원 이상인 경우에는 행이나 열을 각각 따로따로 정렬\n",
        "    * `axis=0` : 각각의 행을 따로따로 정렬\n",
        "    * `axis=1` : 각각의 열을 따로따로 정렬 \n",
        "    * `axis=-1` : 가장 안쪽(나중)의 차원 (default)"
      ],
      "metadata": {
        "id": "V1Hl_stfCNjO"
      }
    },
    {
      "cell_type": "code",
      "source": [],
      "metadata": {
        "colab": {
          "base_uri": "https://localhost:8080/"
        },
        "id": "8Brlt6RODt-h",
        "outputId": "2b3ca1d6-b8b5-41de-b76e-16910b0b8d89"
      },
      "execution_count": null,
      "outputs": [
        {
          "output_type": "execute_result",
          "data": {
            "text/plain": [
              "array([[ 4,  3,  5,  7],\n",
              "       [ 1, 12, 11,  9],\n",
              "       [ 2, 15,  1, 14]])"
            ]
          },
          "metadata": {},
          "execution_count": 281
        }
      ]
    },
    {
      "cell_type": "code",
      "source": [],
      "metadata": {
        "colab": {
          "base_uri": "https://localhost:8080/"
        },
        "id": "vDlML3DSDvUj",
        "outputId": "c8bfee3f-692e-4c84-dda3-77275d959844"
      },
      "execution_count": null,
      "outputs": [
        {
          "output_type": "execute_result",
          "data": {
            "text/plain": [
              "array([[ 3,  4,  5,  7],\n",
              "       [ 1,  9, 11, 12],\n",
              "       [ 1,  2, 14, 15]])"
            ]
          },
          "metadata": {},
          "execution_count": 282
        }
      ]
    },
    {
      "cell_type": "code",
      "source": [],
      "metadata": {
        "colab": {
          "base_uri": "https://localhost:8080/"
        },
        "id": "71fdz0tXDw1i",
        "outputId": "064d5996-c4b8-480c-b377-e8cbe3408fef"
      },
      "execution_count": null,
      "outputs": [
        {
          "output_type": "execute_result",
          "data": {
            "text/plain": [
              "array([[ 1,  3,  1,  7],\n",
              "       [ 2, 12,  5,  9],\n",
              "       [ 4, 15, 11, 14]])"
            ]
          },
          "metadata": {},
          "execution_count": 283
        }
      ]
    },
    {
      "cell_type": "code",
      "source": [
        "# sort 메서드는 해당 객체의 자료 자체가 변화하므로 주의\n",
        "# 자체변화(in-place) 메서드 = 원본이 수정됨\n"
      ],
      "metadata": {
        "colab": {
          "base_uri": "https://localhost:8080/"
        },
        "id": "Bg3m5YtMDziF",
        "outputId": "164a43b6-c99d-48f5-e331-e74c5c28b187"
      },
      "execution_count": null,
      "outputs": [
        {
          "output_type": "execute_result",
          "data": {
            "text/plain": [
              "array([[ 3,  4,  5,  7],\n",
              "       [ 1,  9, 11, 12],\n",
              "       [ 1,  2, 14, 15]])"
            ]
          },
          "metadata": {},
          "execution_count": 284
        }
      ]
    },
    {
      "cell_type": "markdown",
      "source": [
        "* `argsort` : 자료 정렬이 아니라 순서만 알고 싶다면 사용"
      ],
      "metadata": {
        "id": "83QvaXeHEE1P"
      }
    },
    {
      "cell_type": "code",
      "source": [],
      "metadata": {
        "colab": {
          "base_uri": "https://localhost:8080/"
        },
        "id": "DpLBeDjJEAUQ",
        "outputId": "2a5a6d41-d415-4527-b5a6-fcc6fe50487f"
      },
      "execution_count": null,
      "outputs": [
        {
          "output_type": "execute_result",
          "data": {
            "text/plain": [
              "array([2, 3, 1, 0])"
            ]
          },
          "metadata": {},
          "execution_count": 285
        }
      ]
    },
    {
      "cell_type": "code",
      "source": [],
      "metadata": {
        "colab": {
          "base_uri": "https://localhost:8080/"
        },
        "id": "1F6Lqg6KEKgj",
        "outputId": "d11c5951-c765-4052-db61-3c60db1d8312"
      },
      "execution_count": null,
      "outputs": [
        {
          "output_type": "execute_result",
          "data": {
            "text/plain": [
              "array([12, 25, 38, 42])"
            ]
          },
          "metadata": {},
          "execution_count": 286
        }
      ]
    },
    {
      "cell_type": "code",
      "source": [],
      "metadata": {
        "colab": {
          "base_uri": "https://localhost:8080/"
        },
        "id": "KdFvTG6VENQF",
        "outputId": "4a8afe48-69b3-4264-f191-02189604e9bc"
      },
      "execution_count": null,
      "outputs": [
        {
          "output_type": "execute_result",
          "data": {
            "text/plain": [
              "array([12, 25, 38, 42])"
            ]
          },
          "metadata": {},
          "execution_count": 287
        }
      ]
    },
    {
      "cell_type": "markdown",
      "source": [
        "## 💡 연습문제 6\n",
        "> 두 번째 행을 기준으로 각 열(column)을 재정렬\n",
        "```\n",
        "array([[  1,    2,    3,    4],\n",
        "       [ 46,   99,  100,   71],\n",
        "       [ 81,   59,   90,  100]])\n",
        "```"
      ],
      "metadata": {
        "id": "qR6INELiEUEU"
      }
    },
    {
      "cell_type": "code",
      "source": [
        "x = np.array([\n",
        "    [1, 2, 3, 4],\n",
        "    [46, 99, 100, 71],\n",
        "    [81, 59, 90, 100]\n",
        "])\n",
        "x"
      ],
      "metadata": {
        "colab": {
          "base_uri": "https://localhost:8080/"
        },
        "id": "el8EU7kYETyV",
        "outputId": "94541d90-abbd-4b02-e3ac-8361784f09d1"
      },
      "execution_count": null,
      "outputs": [
        {
          "output_type": "execute_result",
          "data": {
            "text/plain": [
              "array([[  1,   2,   3,   4],\n",
              "       [ 46,  99, 100,  71],\n",
              "       [ 81,  59,  90, 100]])"
            ]
          },
          "metadata": {},
          "execution_count": 290
        }
      ]
    },
    {
      "cell_type": "code",
      "source": [],
      "metadata": {
        "colab": {
          "base_uri": "https://localhost:8080/"
        },
        "id": "kIyiUdJgEOmh",
        "outputId": "b3860e81-a279-43dc-c44a-3d042ff54c40"
      },
      "execution_count": null,
      "outputs": [
        {
          "output_type": "execute_result",
          "data": {
            "text/plain": [
              "array([[  1,   4,   2,   3],\n",
              "       [ 46,  71,  99, 100],\n",
              "       [ 81, 100,  59,  90]])"
            ]
          },
          "metadata": {},
          "execution_count": 292
        }
      ]
    }
  ]
}