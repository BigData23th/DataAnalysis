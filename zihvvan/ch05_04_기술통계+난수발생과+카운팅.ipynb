{
  "nbformat": 4,
  "nbformat_minor": 0,
  "metadata": {
    "colab": {
      "provenance": [],
      "include_colab_link": true
    },
    "kernelspec": {
      "name": "python3",
      "display_name": "Python 3"
    },
    "language_info": {
      "name": "python"
    }
  },
  "cells": [
    {
      "cell_type": "markdown",
      "metadata": {
        "id": "view-in-github",
        "colab_type": "text"
      },
      "source": [
        "<a href=\"https://colab.research.google.com/github/zihvvan/DataAnalysis/blob/main/zihvvan/ch05_04_%EA%B8%B0%EC%88%A0%ED%86%B5%EA%B3%84%2B%EB%82%9C%EC%88%98%EB%B0%9C%EC%83%9D%EA%B3%BC%2B%EC%B9%B4%EC%9A%B4%ED%8C%85.ipynb\" target=\"_parent\"><img src=\"https://colab.research.google.com/assets/colab-badge.svg\" alt=\"Open In Colab\"/></a>"
      ]
    },
    {
      "cell_type": "markdown",
      "source": [
        "# 기술 통계"
      ],
      "metadata": {
        "id": "tqxkhX-JFimj"
      }
    },
    {
      "cell_type": "markdown",
      "source": [
        "## 기술 통계(descriptive statistics)\n",
        "> 데이터 집합에 대해 통계를 계산\n",
        "* 데이터의 개수(count)\n",
        "* 평균(mean, average)\n",
        "* 분산(variance)\n",
        "* 표준 편차(standard deviation)\n",
        "* 최댓값(maximum)\n",
        "* 최솟값(minimum)\n",
        "* 중앙값(median)\n",
        "* 사분위수(quartile)"
      ],
      "metadata": {
        "id": "gchQwkseFsUX"
      }
    },
    {
      "cell_type": "code",
      "source": [
        "import numpy as np"
      ],
      "metadata": {
        "id": "jttHEMK4F9XX"
      },
      "execution_count": 1,
      "outputs": []
    },
    {
      "cell_type": "code",
      "source": [
        "x = np.array([\n",
        "    18, 5, 10, 23, 19, -8, 10, 0, 0, 5, 2, 15, 8,\n",
        "    2, 5, 4, 15, -1, 4, -7, -24, 7, 9, -6, 23, -13\n",
        "])\n",
        "x"
      ],
      "metadata": {
        "colab": {
          "base_uri": "https://localhost:8080/"
        },
        "id": "wlTrzCbKFl4j",
        "outputId": "b44241e3-4645-481b-c2bd-b5f44024a419"
      },
      "execution_count": 2,
      "outputs": [
        {
          "output_type": "execute_result",
          "data": {
            "text/plain": [
              "array([ 18,   5,  10,  23,  19,  -8,  10,   0,   0,   5,   2,  15,   8,\n",
              "         2,   5,   4,  15,  -1,   4,  -7, -24,   7,   9,  -6,  23, -13])"
            ]
          },
          "metadata": {},
          "execution_count": 2
        }
      ]
    },
    {
      "cell_type": "markdown",
      "source": [
        "## 데이터의 개수"
      ],
      "metadata": {
        "id": "5bzioyHoF557"
      }
    },
    {
      "cell_type": "code",
      "source": [
        "len(x)"
      ],
      "metadata": {
        "colab": {
          "base_uri": "https://localhost:8080/"
        },
        "id": "6hLeGDsFVmDw",
        "outputId": "9731ee0e-5ed6-41ce-c846-42c54909f477"
      },
      "execution_count": 3,
      "outputs": [
        {
          "output_type": "execute_result",
          "data": {
            "text/plain": [
              "26"
            ]
          },
          "metadata": {},
          "execution_count": 3
        }
      ]
    },
    {
      "cell_type": "markdown",
      "source": [
        "## 표본 평균\n",
        "* 우리가 일반적으로 아는 평균\n",
        "* 통계용어로는 표본 평균(sample average, sample mean)\n",
        "<br>\n",
        "$\n",
        "\\bar{x} = \\frac{1}{N}\\displaystyle\\sum_{i=1}^{N}{x_i}\n",
        "$\n",
        "(𝑁은 데이터의 개수)"
      ],
      "metadata": {
        "id": "3xe5u1nkGBgM"
      }
    },
    {
      "cell_type": "code",
      "source": [
        "np.mean(x), x.mean()"
      ],
      "metadata": {
        "colab": {
          "base_uri": "https://localhost:8080/"
        },
        "id": "SiQn6qJlF_Y_",
        "outputId": "0fd635be-4815-4bd2-d122-30db2c1f5e11"
      },
      "execution_count": 5,
      "outputs": [
        {
          "output_type": "execute_result",
          "data": {
            "text/plain": [
              "(4.8076923076923075, 4.8076923076923075)"
            ]
          },
          "metadata": {},
          "execution_count": 5
        }
      ]
    },
    {
      "cell_type": "markdown",
      "source": [
        "## 표본 분산\n",
        "* 표본 분산(sample variance) : 데이터와 표본 평균간의 거리의 제곱의 평균\n",
        "* 표본 분산이 작으면 데이터가 모여있는 것이고 크면 흩어져 있는 것\n",
        "<br>\n",
        "$\n",
        "s^2 = \\frac{1}{N}\\displaystyle\\sum_{i=1}^{N}{(x_i-\\bar{x})^2}\n",
        "$"
      ],
      "metadata": {
        "id": "sMmBl-uLHWwF"
      }
    },
    {
      "cell_type": "code",
      "source": [
        "np.var(x)"
      ],
      "metadata": {
        "colab": {
          "base_uri": "https://localhost:8080/"
        },
        "id": "ukbJg498HWZG",
        "outputId": "14eb0439-cfec-4dee-fdbb-944e4fbc32ab"
      },
      "execution_count": 8,
      "outputs": [
        {
          "output_type": "execute_result",
          "data": {
            "text/plain": [
              "115.23224852071006"
            ]
          },
          "metadata": {},
          "execution_count": 8
        }
      ]
    },
    {
      "cell_type": "markdown",
      "source": [
        "## 표본 표준편차\n",
        "* 표본 표준편차(sample standard variance) : 표본 분산의 양의 제곱근 값 \n",
        "<br>\n",
        "$\n",
        "s = \\sqrt{s^2}\n",
        "$"
      ],
      "metadata": {
        "id": "ox3H6KB8H4Hd"
      }
    },
    {
      "cell_type": "code",
      "source": [
        "np.std(x)"
      ],
      "metadata": {
        "colab": {
          "base_uri": "https://localhost:8080/"
        },
        "id": "ESjtI9K9HP8g",
        "outputId": "2eeb12bf-171c-4dea-c30c-b3fe05a69395"
      },
      "execution_count": 9,
      "outputs": [
        {
          "output_type": "execute_result",
          "data": {
            "text/plain": [
              "10.734628476137871"
            ]
          },
          "metadata": {},
          "execution_count": 9
        }
      ]
    },
    {
      "cell_type": "markdown",
      "source": [
        "## 최댓값과 최솟값"
      ],
      "metadata": {
        "id": "68MH4LSRINEC"
      }
    },
    {
      "cell_type": "code",
      "source": [
        "# 최댓값 (maximum) / 최솟값 (minimum)\n",
        "np.max(x), np.min(x)"
      ],
      "metadata": {
        "colab": {
          "base_uri": "https://localhost:8080/"
        },
        "id": "E-KkdiALIPvE",
        "outputId": "d06378cc-198f-42f9-fa47-97386b046622"
      },
      "execution_count": 10,
      "outputs": [
        {
          "output_type": "execute_result",
          "data": {
            "text/plain": [
              "(23, -24)"
            ]
          },
          "metadata": {},
          "execution_count": 10
        }
      ]
    },
    {
      "cell_type": "markdown",
      "source": [
        "## 중앙값\n",
        "* 중앙값(median) : 데이터를 크기대로 정렬하였을 때 가장 가운데에 있는 수\n",
        "* 만약 데이터의 수가 짝수이면 가장 가운데에 있는 두 수의 평균을 사용\n"
      ],
      "metadata": {
        "id": "vGgHFClPIWQV"
      }
    },
    {
      "cell_type": "code",
      "source": [
        "np.median(x)"
      ],
      "metadata": {
        "colab": {
          "base_uri": "https://localhost:8080/"
        },
        "id": "LS2P0zPnIUvN",
        "outputId": "d7041b9a-907c-4a1c-a3cb-2a290433a946"
      },
      "execution_count": 12,
      "outputs": [
        {
          "output_type": "execute_result",
          "data": {
            "text/plain": [
              "5.0"
            ]
          },
          "metadata": {},
          "execution_count": 12
        }
      ]
    },
    {
      "cell_type": "markdown",
      "source": [
        "## 사분위수\n",
        "* 사분위수(quartile) : 데이터를 가장 작은 수부터 가장 큰 수까지 크기가 커지는 순서대로 정렬하였을 때 1/4, 2/4, 3/4 위치에 있는 수\n",
        "* 각각 1사분위수, 2사분위수, 3사분위수라고 함\n",
        "* 1/4의 위치란 전체 데이터의 수가 만약 100개이면 25번째 순서, 즉 하위 25%\n",
        "* 따라서 2사분위수는 중앙값과 같음\n",
        "* 때로는 위치를 1/100 단위로 나눈 백분위수(percentile)을 사용하기도 함\n",
        "* 1사분위수는 25% 백분위수와 같음\n"
      ],
      "metadata": {
        "id": "b1pLnirSIfsI"
      }
    },
    {
      "cell_type": "code",
      "source": [
        "np.percentile(x, 0) # 최솟값"
      ],
      "metadata": {
        "colab": {
          "base_uri": "https://localhost:8080/"
        },
        "id": "EHTZ62T8Ici8",
        "outputId": "d717ca57-49e7-4c0e-a9f8-c25432a9e001"
      },
      "execution_count": 13,
      "outputs": [
        {
          "output_type": "execute_result",
          "data": {
            "text/plain": [
              "-24.0"
            ]
          },
          "metadata": {},
          "execution_count": 13
        }
      ]
    },
    {
      "cell_type": "code",
      "source": [
        "np.percentile(x, 25) # 25% 백분위수, 1사분위수"
      ],
      "metadata": {
        "colab": {
          "base_uri": "https://localhost:8080/"
        },
        "id": "h8tVnPH6Ixcv",
        "outputId": "ea357620-dfc7-4d70-f640-19abcd8f7e91"
      },
      "execution_count": 14,
      "outputs": [
        {
          "output_type": "execute_result",
          "data": {
            "text/plain": [
              "0.0"
            ]
          },
          "metadata": {},
          "execution_count": 14
        }
      ]
    },
    {
      "cell_type": "code",
      "source": [
        "np.percentile(x, 50) # 50% 백분위수, 2사분위수, 중앙값"
      ],
      "metadata": {
        "colab": {
          "base_uri": "https://localhost:8080/"
        },
        "id": "PuT1HTElIza1",
        "outputId": "3cfc95ef-e181-4e63-b7e1-503e06cbaa5b"
      },
      "execution_count": null,
      "outputs": [
        {
          "output_type": "execute_result",
          "data": {
            "text/plain": [
              "5.0"
            ]
          },
          "metadata": {},
          "execution_count": 302
        }
      ]
    },
    {
      "cell_type": "code",
      "source": [
        "np.percentile(x, 75) # 75% 백분위수, 3사분위수"
      ],
      "metadata": {
        "colab": {
          "base_uri": "https://localhost:8080/"
        },
        "id": "v7wB_7N_I0zM",
        "outputId": "f3c81d35-0b00-4148-9f19-d0850e0261e5"
      },
      "execution_count": 15,
      "outputs": [
        {
          "output_type": "execute_result",
          "data": {
            "text/plain": [
              "10.0"
            ]
          },
          "metadata": {},
          "execution_count": 15
        }
      ]
    },
    {
      "cell_type": "code",
      "source": [
        "np.percentile(x, 100) # 100% 백분위수, 최댓값"
      ],
      "metadata": {
        "colab": {
          "base_uri": "https://localhost:8080/"
        },
        "id": "JbCd4SqGI20l",
        "outputId": "88d7415b-d776-41fc-95ba-6f64e1ecaf5f"
      },
      "execution_count": null,
      "outputs": [
        {
          "output_type": "execute_result",
          "data": {
            "text/plain": [
              "23.0"
            ]
          },
          "metadata": {},
          "execution_count": 304
        }
      ]
    },
    {
      "cell_type": "markdown",
      "source": [
        "# 난수 발생과 카운팅"
      ],
      "metadata": {
        "id": "x1uZuajeI9Si"
      }
    },
    {
      "cell_type": "markdown",
      "source": [
        "## 시드 설정\n",
        "* 컴퓨터 프로그램에서 발생하는 무작위 수는 사실 엄격한 의미의 무작위 수가 아님\n",
        "* 어떤 특정한 시작 숫자를 정해 주면 컴퓨터가 정해진 알고리즘에 의해 마치 난수처럼 보이는 수열을 생성. 이런 시작 숫자를 시드(seed)라고 함\n",
        "* 일단 생성된 난수는 다음번 난수 생성을 위한 시드값이 됨. 따라서 시드값은 한 번만 정해주면 됨.\n",
        "* 시드는 보통 현재 시각 등을 이용하여 자동으로 정해지지만 사람이 수동으로 설정할 수도 있음 * 특정한 시드값이 사용되면 그 다음에 만들어지는 난수들은 모두 예측할 수 있음\n",
        "* 고정된 결과를 얻기 위해서 실습엔 시드를 설정"
      ],
      "metadata": {
        "id": "ZCEj6C5UJHHc"
      }
    },
    {
      "cell_type": "code",
      "source": [
        "np.random.seed(0) # 시드값 고정"
      ],
      "metadata": {
        "id": "R9wwclqfI8_9"
      },
      "execution_count": 16,
      "outputs": []
    },
    {
      "cell_type": "markdown",
      "source": [
        "### `rand` : 0과 1 사이의 난수를 발생"
      ],
      "metadata": {
        "id": "OQRCx_xUJf6l"
      }
    },
    {
      "cell_type": "code",
      "source": [
        "np.random.rand(5) # rand(n) n개의 길이를 가지는 배열에 각각 0-1 사이의 난수를 채워줌"
      ],
      "metadata": {
        "colab": {
          "base_uri": "https://localhost:8080/"
        },
        "id": "w26duH5TJb7f",
        "outputId": "06435119-19d1-4eb7-ea11-9331eb74440e"
      },
      "execution_count": 17,
      "outputs": [
        {
          "output_type": "execute_result",
          "data": {
            "text/plain": [
              "array([0.5488135 , 0.71518937, 0.60276338, 0.54488318, 0.4236548 ])"
            ]
          },
          "metadata": {},
          "execution_count": 17
        }
      ]
    },
    {
      "cell_type": "code",
      "source": [
        "np.random.rand(10)"
      ],
      "metadata": {
        "colab": {
          "base_uri": "https://localhost:8080/"
        },
        "id": "bnSQUYKVJkl8",
        "outputId": "7c5b0651-5f53-424b-a726-aef337cb8c9d"
      },
      "execution_count": 18,
      "outputs": [
        {
          "output_type": "execute_result",
          "data": {
            "text/plain": [
              "array([0.64589411, 0.43758721, 0.891773  , 0.96366276, 0.38344152,\n",
              "       0.79172504, 0.52889492, 0.56804456, 0.92559664, 0.07103606])"
            ]
          },
          "metadata": {},
          "execution_count": 18
        }
      ]
    },
    {
      "cell_type": "markdown",
      "source": [
        "## 데이터의 순서 변경"
      ],
      "metadata": {
        "id": "TvJHX9FmJtgQ"
      }
    },
    {
      "cell_type": "markdown",
      "source": [
        "### `shuffle`\n",
        "* 데이터의 순서를 변경\n",
        "* 자체 변환(in-place) 함수 (원본에 영향)"
      ],
      "metadata": {
        "id": "89jdzc8rJyqB"
      }
    },
    {
      "cell_type": "code",
      "source": [
        "x = np.arange(10)\n",
        "x"
      ],
      "metadata": {
        "colab": {
          "base_uri": "https://localhost:8080/"
        },
        "id": "vUHakdiQJpjl",
        "outputId": "f6f89c96-4976-4de2-9d8f-0a58687f4afc"
      },
      "execution_count": 19,
      "outputs": [
        {
          "output_type": "execute_result",
          "data": {
            "text/plain": [
              "array([0, 1, 2, 3, 4, 5, 6, 7, 8, 9])"
            ]
          },
          "metadata": {},
          "execution_count": 19
        }
      ]
    },
    {
      "cell_type": "code",
      "source": [
        "np.random.shuffle(x)\n",
        "x"
      ],
      "metadata": {
        "colab": {
          "base_uri": "https://localhost:8080/"
        },
        "id": "ReqSVnNlJ7S0",
        "outputId": "d8891970-926f-4a0d-8bcd-8a30585b504a"
      },
      "execution_count": 21,
      "outputs": [
        {
          "output_type": "execute_result",
          "data": {
            "text/plain": [
              "array([5, 1, 8, 2, 6, 7, 0, 3, 4, 9])"
            ]
          },
          "metadata": {},
          "execution_count": 21
        }
      ]
    },
    {
      "cell_type": "markdown",
      "source": [
        "## 데이터 샘플링\n",
        "* 표본선택 혹은 샘플링(sampling) : 이미 있는 데이터 집합에서 일부를 무작위로 선택하는 것"
      ],
      "metadata": {
        "id": "MbQrSKXMKJAg"
      }
    },
    {
      "cell_type": "markdown",
      "source": [
        "### `choice` : 샘플링에 사용\n",
        "```\n",
        "numpy.random.choice(a, size=None, replace=True, p=None)\n",
        "```\n",
        "* a : 배열이면 원래의 데이터, 정수이면 arange(a) 명령으로 데이터 생성\n",
        "* size : 정수. 샘플 숫자\n",
        "* replace : 불리언. True이면 한번 선택한 데이터를 다시 선택 가능 (복원/비복원 추출)\n",
        "* p : 배열. 각 데이터가 선택될 수 있는 확률"
      ],
      "metadata": {
        "id": "gEkehbizKWrq"
      }
    },
    {
      "cell_type": "code",
      "source": [
        "np.random.choice(5, 5, replace=False) # 5개 중에 5개를 선택 -> 비복원 -> shuffle"
      ],
      "metadata": {
        "colab": {
          "base_uri": "https://localhost:8080/"
        },
        "id": "YvjoHXqIJ9KJ",
        "outputId": "1722f170-4347-48a7-a476-f4a20e58818a"
      },
      "execution_count": 23,
      "outputs": [
        {
          "output_type": "execute_result",
          "data": {
            "text/plain": [
              "array([4, 2, 3, 1, 0])"
            ]
          },
          "metadata": {},
          "execution_count": 23
        }
      ]
    },
    {
      "cell_type": "code",
      "source": [
        "np.random.choice(5, 3, replace=False) # 5개 중에 3개를 선택 -> 비복원"
      ],
      "metadata": {
        "colab": {
          "base_uri": "https://localhost:8080/"
        },
        "id": "knplEnwIKnYh",
        "outputId": "cd2db64d-ea6d-4c7f-d737-426af863927b"
      },
      "execution_count": 24,
      "outputs": [
        {
          "output_type": "execute_result",
          "data": {
            "text/plain": [
              "array([1, 4, 2])"
            ]
          },
          "metadata": {},
          "execution_count": 24
        }
      ]
    },
    {
      "cell_type": "code",
      "source": [
        "# np.random.choice(5, 10, replace=True)\n",
        "np.random.choice(5, 10) # 5개 중에 10개를 선택 (뽑았던 것 또 뽑음)"
      ],
      "metadata": {
        "colab": {
          "base_uri": "https://localhost:8080/"
        },
        "id": "4Yd_3i6QKqMw",
        "outputId": "134b74b8-6e9d-4013-8fcc-26b7b1fa818e"
      },
      "execution_count": 25,
      "outputs": [
        {
          "output_type": "execute_result",
          "data": {
            "text/plain": [
              "array([3, 3, 2, 4, 2, 0, 0, 4, 0, 4])"
            ]
          },
          "metadata": {},
          "execution_count": 25
        }
      ]
    },
    {
      "cell_type": "code",
      "source": [
        "# [0, 1, 2, 3, 4]\n",
        "np.random.choice(5, 10, p=[0.1, 0, 0.3, 0.6, 0]) # 확률 정하기"
      ],
      "metadata": {
        "colab": {
          "base_uri": "https://localhost:8080/"
        },
        "id": "lkbuDYTuKvBN",
        "outputId": "ee6e67a3-8133-4419-a9d7-215d7f2a6ba6"
      },
      "execution_count": 26,
      "outputs": [
        {
          "output_type": "execute_result",
          "data": {
            "text/plain": [
              "array([2, 3, 3, 3, 3, 0, 3, 3, 2, 2])"
            ]
          },
          "metadata": {},
          "execution_count": 26
        }
      ]
    },
    {
      "cell_type": "code",
      "source": [
        "np.random.choice([1, 5, 10, 20, 100], 10,  p=[0.7, 0.2, 0.05, 0.03, 0.02])"
      ],
      "metadata": {
        "colab": {
          "base_uri": "https://localhost:8080/"
        },
        "id": "Emb9axFKfW0O",
        "outputId": "2afbf1c3-432b-4da0-9464-2a50d2f8a5d7"
      },
      "execution_count": 28,
      "outputs": [
        {
          "output_type": "execute_result",
          "data": {
            "text/plain": [
              "array([  1,   1,   1,   1,  20,   1,   1, 100,   1,   1])"
            ]
          },
          "metadata": {},
          "execution_count": 28
        }
      ]
    },
    {
      "cell_type": "markdown",
      "source": [
        "## 난수 생성\n",
        "* `rand` : 0부터 1 사이의 균일 분포\n",
        "* `randn` : 표준 정규 분포\n",
        "* `randint` : 균일 분포의 정수 난수"
      ],
      "metadata": {
        "id": "D8oZhgNLLCgd"
      }
    },
    {
      "cell_type": "markdown",
      "source": [
        "### `rand` : 0부터 1 사이에서 균일한 확률 분포로 실수 난수를 생성\n",
        "* 숫자 인수는 생성할 난수의 크기\n",
        "* 여러 개의 인수를 넣으면 해당 크기를 가진 행렬을 생성"
      ],
      "metadata": {
        "id": "BcH0M0-_LPMP"
      }
    },
    {
      "cell_type": "code",
      "source": [
        "np.random.rand(10)"
      ],
      "metadata": {
        "colab": {
          "base_uri": "https://localhost:8080/"
        },
        "id": "EWqs3z-zK0k_",
        "outputId": "96eeba15-fe4b-4912-e125-660c0388751a"
      },
      "execution_count": 29,
      "outputs": [
        {
          "output_type": "execute_result",
          "data": {
            "text/plain": [
              "array([0.4746975 , 0.6235101 , 0.33800761, 0.67475232, 0.31720174,\n",
              "       0.77834548, 0.94957105, 0.66252687, 0.01357164, 0.6228461 ])"
            ]
          },
          "metadata": {},
          "execution_count": 29
        }
      ]
    },
    {
      "cell_type": "code",
      "source": [
        "np.random.rand(3, 5)"
      ],
      "metadata": {
        "colab": {
          "base_uri": "https://localhost:8080/"
        },
        "id": "DJTNzp8oLbVj",
        "outputId": "53d48bd4-a1c9-4ea6-ef2e-ed1de50162de"
      },
      "execution_count": 30,
      "outputs": [
        {
          "output_type": "execute_result",
          "data": {
            "text/plain": [
              "array([[0.67365963, 0.971945  , 0.87819347, 0.50962438, 0.05571469],\n",
              "       [0.45115921, 0.01998767, 0.44171092, 0.97958673, 0.35944446],\n",
              "       [0.48089353, 0.68866118, 0.88047589, 0.91823547, 0.21682214]])"
            ]
          },
          "metadata": {},
          "execution_count": 30
        }
      ]
    },
    {
      "cell_type": "markdown",
      "source": [
        "### `randn` : 기댓값이 0이고 표준편차가 1인 표준 정규 분포(standard normal distribution)를 따르는 난수를 생성"
      ],
      "metadata": {
        "id": "HdWD5uVkLjQt"
      }
    },
    {
      "cell_type": "code",
      "source": [
        "np.random.randn(10)"
      ],
      "metadata": {
        "colab": {
          "base_uri": "https://localhost:8080/"
        },
        "id": "AlJYbewHLeZB",
        "outputId": "084895b7-ad8d-421d-e5ae-8f0c1e53fa56"
      },
      "execution_count": 31,
      "outputs": [
        {
          "output_type": "execute_result",
          "data": {
            "text/plain": [
              "array([ 1.07612104,  0.19214083,  0.85292596,  0.01835718,  0.42830357,\n",
              "        0.99627783, -0.49114966,  0.71267817,  1.11334035, -2.15367459])"
            ]
          },
          "metadata": {},
          "execution_count": 31
        }
      ]
    },
    {
      "cell_type": "code",
      "source": [
        "np.random.rand(3, 5)"
      ],
      "metadata": {
        "colab": {
          "base_uri": "https://localhost:8080/"
        },
        "id": "gbDMC1OxLt3f",
        "outputId": "f7628059-4189-4ba2-9ad2-0a517b3f370d"
      },
      "execution_count": 32,
      "outputs": [
        {
          "output_type": "execute_result",
          "data": {
            "text/plain": [
              "array([[0.16494046, 0.36980809, 0.14644176, 0.56961841, 0.70373728],\n",
              "       [0.28847644, 0.43328806, 0.75610669, 0.39609828, 0.89603839],\n",
              "       [0.63892108, 0.89155444, 0.68005557, 0.44919774, 0.97857093]])"
            ]
          },
          "metadata": {},
          "execution_count": 32
        }
      ]
    },
    {
      "cell_type": "markdown",
      "source": [
        "### `randint`\n",
        "```\n",
        "numpy.random.randint(low, high=None, size=None)\n",
        "```\n",
        "만약 `high`를 입력하지 않으면 0과 `low`사이의 숫자, `high`를 입력하면 `low`와 `high`는 사이의 숫자를 출력. `size`는 난수의 숫자"
      ],
      "metadata": {
        "id": "FDtGkcnjLzTM"
      }
    },
    {
      "cell_type": "code",
      "source": [
        "np.random.randint(10, size = 10)"
      ],
      "metadata": {
        "colab": {
          "base_uri": "https://localhost:8080/"
        },
        "id": "H5eTlhBGLy_D",
        "outputId": "99629f0e-0447-4fe2-84dc-e50c7cddd6b7"
      },
      "execution_count": 34,
      "outputs": [
        {
          "output_type": "execute_result",
          "data": {
            "text/plain": [
              "array([9, 8, 0, 8, 5, 9, 0, 9, 6, 5])"
            ]
          },
          "metadata": {},
          "execution_count": 34
        }
      ]
    },
    {
      "cell_type": "code",
      "source": [
        "np.random.randint(10, 20, size = 10)"
      ],
      "metadata": {
        "colab": {
          "base_uri": "https://localhost:8080/"
        },
        "id": "xlpHLyNALuyj",
        "outputId": "34363eff-b982-4a2f-90a1-afd698062c6b"
      },
      "execution_count": 35,
      "outputs": [
        {
          "output_type": "execute_result",
          "data": {
            "text/plain": [
              "array([13, 11, 18, 10, 14, 19, 16, 15, 17, 18])"
            ]
          },
          "metadata": {},
          "execution_count": 35
        }
      ]
    },
    {
      "cell_type": "code",
      "source": [
        "np.random.randint(10, 20, size = (3,5))"
      ],
      "metadata": {
        "colab": {
          "base_uri": "https://localhost:8080/"
        },
        "id": "RwOU04I2ME1f",
        "outputId": "0562e9aa-4533-4680-b2d5-6ecabf48f98f"
      },
      "execution_count": 36,
      "outputs": [
        {
          "output_type": "execute_result",
          "data": {
            "text/plain": [
              "array([[18, 19, 12, 18, 16],\n",
              "       [16, 19, 11, 16, 18],\n",
              "       [18, 13, 12, 13, 16]])"
            ]
          },
          "metadata": {},
          "execution_count": 36
        }
      ]
    },
    {
      "cell_type": "markdown",
      "source": [
        "## 💡 연습문제 7\n",
        "1. 동전을 10번 던져 앞면(숫자 1)과 뒷면(숫자 0)이 나오는 가상 실험을 작성하라\n",
        "2. 주사위를 100번 던져서 나오는 숫자의 평균\n",
        "3. 가격이 10,000원인 주식이 있다. 이 주식의 일간 수익률(%)은 기댓값이 0%이고 표준편차가 1%인 표준 정규 분포를 따른다고 하자. 250일 동안의 주가를 무작위로 생성하라"
      ],
      "metadata": {
        "id": "dCofCh17MOVI"
      }
    },
    {
      "cell_type": "code",
      "source": [
        "# 1.\n",
        "np.random.choice([0,1], size=10, replace=True)"
      ],
      "metadata": {
        "colab": {
          "base_uri": "https://localhost:8080/"
        },
        "id": "wSVBjqWJMGJ3",
        "outputId": "6eea4dc6-dbe5-42fb-9d89-897e9a2480b7"
      },
      "execution_count": 39,
      "outputs": [
        {
          "output_type": "execute_result",
          "data": {
            "text/plain": [
              "array([1, 0, 0, 1, 1, 1, 1, 0, 1, 0])"
            ]
          },
          "metadata": {},
          "execution_count": 39
        }
      ]
    },
    {
      "cell_type": "code",
      "source": [
        "# 2.\n",
        "np.random.randint(1,7,100).mean()\n",
        "np.random.choice(range(1,7), 100, replace=True).mean()"
      ],
      "metadata": {
        "colab": {
          "base_uri": "https://localhost:8080/"
        },
        "id": "rpstIcwsNB-3",
        "outputId": "3388298a-1c66-496a-8fbf-66f63eb0a4a8"
      },
      "execution_count": 42,
      "outputs": [
        {
          "output_type": "execute_result",
          "data": {
            "text/plain": [
              "3.31"
            ]
          },
          "metadata": {},
          "execution_count": 42
        }
      ]
    },
    {
      "cell_type": "code",
      "source": [
        "# 3.\n",
        "a = np.random.randn(250) / 100 # 일간 수익률의 표준정규분포를 따르는 (0,1%) 수익률 분포"
      ],
      "metadata": {
        "id": "zrCTnmQBNjbm"
      },
      "execution_count": 47,
      "outputs": []
    },
    {
      "cell_type": "code",
      "source": [
        "init = 10000\n",
        "stock = np.empty(250)\n",
        "for i, v in enumerate(a):\n",
        "    init *= (1 + v)\n",
        "    stock[i] = init\n",
        "stock"
      ],
      "metadata": {
        "colab": {
          "base_uri": "https://localhost:8080/"
        },
        "id": "Qot4B75migVx",
        "outputId": "e9c0ce4a-062b-4d60-c5ae-9f1a7495b0fc"
      },
      "execution_count": 48,
      "outputs": [
        {
          "output_type": "execute_result",
          "data": {
            "text/plain": [
              "array([ 9865.25872875,  9854.59054858,  9725.33645259,  9698.70209723,\n",
              "        9717.56952707,  9894.40378007, 10062.80448843, 10174.58980138,\n",
              "       10047.07853675, 10146.8240102 , 10062.2116994 ,  9896.83891284,\n",
              "        9978.91834154, 10007.1076492 , 10081.80396115, 10069.96040485,\n",
              "        9924.44767879, 10118.03087334,  9942.04543613, 10052.31792747,\n",
              "       10179.5890292 , 10312.45774865, 10274.85071616, 10398.82847058,\n",
              "       10472.21286171, 10463.45588354, 10339.0985193 , 10429.71153533,\n",
              "       10488.26271226, 10496.51797468, 10461.42695382, 10402.07852031,\n",
              "       10413.2332401 , 10395.63977753, 10457.22036187, 10417.2617472 ,\n",
              "       10389.64414724, 10257.29576948, 10343.27902816, 10161.47782965,\n",
              "       10174.17570307, 10115.04225629, 10137.54379254, 10168.99539974,\n",
              "       10236.97215155, 10162.47976441, 10013.17889555, 10162.31712722,\n",
              "       10132.18329776, 10184.23997215,  9982.53628754,  9720.72996557,\n",
              "        9771.25560987,  9772.16759447,  9489.39820652,  9382.21349495,\n",
              "        9227.32560877,  9098.46058374,  9093.4623383 ,  9074.39621367,\n",
              "        9179.56668976,  9316.7200582 ,  9340.33370594,  9397.3822812 ,\n",
              "        9285.77828717,  9180.21778555,  9224.74725297,  9278.82337917,\n",
              "        9369.71238598,  9275.82237748,  9085.67264566,  9199.97280927,\n",
              "        9121.2353807 ,  9127.04358619,  9118.22769173,  9121.32993366,\n",
              "        9151.40183124,  9215.89376344,  9306.23935575,  9268.32242523,\n",
              "        9338.4890141 ,  9425.26316849,  9290.35081314,  9382.45604482,\n",
              "        9218.62175331,  9245.24229141,  9249.40812693,  9141.66524052,\n",
              "        9087.20822687,  8972.17324569,  9082.43715195,  8994.46945353,\n",
              "        8837.82642503,  8781.12406065,  8769.55279912,  8706.03405247,\n",
              "        8610.22999456,  8579.07129707,  8517.18087436,  8494.42046808,\n",
              "        8526.10472375,  8596.52499113,  8487.87544652,  8681.69794765,\n",
              "        8568.74209717,  8633.2619513 ,  8540.0994782 ,  8552.88771547,\n",
              "        8558.62235846,  8436.34204124,  8319.13923403,  8273.91078758,\n",
              "        8399.91901946,  8444.1956927 ,  8557.74389461,  8716.47925952,\n",
              "        8761.63443664,  8681.28609996,  8687.03369094,  8712.28640846,\n",
              "        8803.55043496,  8751.2633114 ,  8725.41333592,  8827.74233289,\n",
              "        8887.08972786,  8875.54162178,  8799.09397666,  8785.27368711,\n",
              "        8790.1271273 ,  8821.02472994,  8704.35615582,  8826.39642633,\n",
              "        8896.18737388,  9060.39861709,  9086.18977929,  9103.94667646,\n",
              "        9184.3420038 ,  9164.71043103,  9181.7108285 ,  9141.77341956,\n",
              "        9162.19694758,  9020.57150295,  9087.54744723,  9162.25841581,\n",
              "        9149.54204306,  9313.89893652,  9261.69079215,  9207.73990697,\n",
              "        8984.72481171,  9108.84287089,  9127.06040976,  9093.1854931 ,\n",
              "        9181.63585515,  9159.62962693,  9004.08673092,  8955.92744777,\n",
              "        8973.90350495,  9018.61385392,  9118.06702904,  9212.73789313,\n",
              "        9296.43133186,  9514.31521774,  9728.62576988,  9631.46927124,\n",
              "        9514.10062571,  9654.80620807,  9605.51070431,  9796.87722645,\n",
              "        9784.58758269,  9765.50031439,  9742.00315391,  9686.86908921,\n",
              "        9534.10403469,  9660.55451902,  9749.33866519,  9863.17695975,\n",
              "        9840.68964518,  9816.67534771,  9807.53063529,  9790.64495321,\n",
              "        9724.24338667,  9699.95434086,  9851.03781518,  9924.20704547,\n",
              "        9880.16709512,  9784.96441709,  9871.97024083,  9994.11160647,\n",
              "       10011.65403418, 10125.73127368, 10129.17246826, 10044.8193556 ,\n",
              "       10174.27034753, 10156.78533736, 10211.51392424, 10413.55588795,\n",
              "       10506.13450468, 10527.05652107, 10339.28895577, 10516.38787292,\n",
              "       10415.08751758, 10557.67926304, 10607.52342867, 10514.138235  ,\n",
              "       10517.89856337, 10645.98174898, 10678.62431347, 10578.26902578,\n",
              "       10647.96050995, 10508.23771117, 10440.11799647, 10473.4196109 ,\n",
              "       10739.45001175, 10665.97613546, 10582.82749205, 10514.84526009,\n",
              "       10649.91360219, 10722.24186802, 10869.42061548, 10768.79450481,\n",
              "       10906.4485381 , 10945.79468936, 11010.99466341, 10945.51006234,\n",
              "       10846.13059597, 10732.10269425, 10742.03358979, 10594.30158036,\n",
              "       10451.65141845, 10383.98475368, 10500.70926102, 10629.42804021,\n",
              "       10617.13563454, 10585.17458499, 10447.63089722, 10446.35317519,\n",
              "       10436.31773113, 10348.31592698, 10419.55452648, 10384.7594189 ,\n",
              "       10348.50380532, 10542.94219014, 10597.01625153, 10427.64513542,\n",
              "       10492.47077372, 10409.9725136 , 10429.16631633, 10481.9187661 ,\n",
              "       10401.51105254, 10455.01883484])"
            ]
          },
          "metadata": {},
          "execution_count": 48
        }
      ]
    },
    {
      "cell_type": "code",
      "source": [],
      "metadata": {
        "colab": {
          "base_uri": "https://localhost:8080/"
        },
        "id": "C7CgIfRJN7lQ",
        "outputId": "631f257c-b481-4dd8-e915-d4f28501b7fa"
      },
      "execution_count": null,
      "outputs": [
        {
          "output_type": "execute_result",
          "data": {
            "text/plain": [
              "array([ 9968.24569061,  9805.52172515,  9798.93887103,  9944.87995133,\n",
              "        9996.72298327, 10057.89564959,  9922.96930879,  9970.29178757,\n",
              "        9985.09264399, 10037.91830117, 10080.34141693,  9943.27087728,\n",
              "        9939.15428244,  9863.82832836,  9858.88811928,  9770.41436592,\n",
              "        9898.64815922,  9813.6215047 ,  9725.40272392,  9732.65655233,\n",
              "        9627.82619918,  9586.94035449,  9507.37214356,  9641.53752326,\n",
              "        9717.30109408,  9711.71660794,  9673.72271651,  9764.74447753,\n",
              "        9804.31162059,  9853.14223038,  9850.56147198,  9684.2613353 ,\n",
              "        9673.36983564,  9621.86011642,  9683.9264325 ,  9781.91250933,\n",
              "        9717.55231377,  9763.06789394,  9932.54293905,  9866.22208637,\n",
              "       10032.16422056,  9946.63140825,  9948.91513051,  9947.80626305,\n",
              "        9948.95015133,  9865.60998051,  9807.28616123,  9741.80092199,\n",
              "        9773.65296712,  9805.90945388, 10024.18353955, 10161.61399384,\n",
              "       10109.8056916 , 10142.64937851, 10243.78355919, 10246.91834384,\n",
              "       10239.78222817, 10245.06338999, 10333.91643038, 10246.25169649,\n",
              "       10212.88278302, 10260.92756867, 10292.8849271 , 10317.54490488,\n",
              "       10279.39050348, 10379.36125504, 10600.84314912, 10643.92661814,\n",
              "       10623.36503178, 10703.65008136, 10645.94321045, 10566.1316021 ,\n",
              "       10569.59821755, 10296.60699067, 10177.78925686, 10142.37443247,\n",
              "       10005.10866694,  9901.79160246,  9858.54569226,  9696.57320809,\n",
              "        9657.19815908,  9605.50605861,  9607.94635744,  9718.83973996,\n",
              "        9735.60516774,  9737.65568298,  9747.34021556,  9769.50496298,\n",
              "        9670.17463024,  9659.07565591,  9688.89817194,  9556.08663305,\n",
              "        9638.8091763 ,  9743.04094874,  9681.52572764,  9658.16054727,\n",
              "        9573.34351405,  9640.29761022,  9537.9926234 ,  9516.77278258,\n",
              "        9435.03132657,  9439.83887857,  9270.46652622,  9393.43570876,\n",
              "        9302.82602446,  9308.39792263,  9288.61543195,  9217.82554578,\n",
              "        9135.99152156,  9221.5408131 ,  9173.06865128,  9197.94327848,\n",
              "        9124.22204958,  9065.17177868,  9107.98179405,  9192.72323049,\n",
              "        9176.60687885,  9046.12288209,  9226.8604442 ,  9147.82783489,\n",
              "        9006.80607364,  9240.48086499,  9203.14633819,  9068.62093982,\n",
              "        9006.64237801,  9039.74583238,  9056.94951347,  8979.80883009,\n",
              "        9143.48592488,  9095.79536043,  8988.03869251,  9074.38618688,\n",
              "        9194.99048224,  9119.82206972,  8992.02169002,  9084.67892253,\n",
              "        8898.68614577,  8789.53293411,  8874.56693209,  8869.65463316,\n",
              "        8846.2443019 ,  8877.45532084,  8863.89283965,  8748.77864028,\n",
              "        8860.41964758,  8977.82145306,  8996.25584402,  9000.31621552,\n",
              "        9210.88984632,  9185.42792146,  9161.5846649 ,  9194.97692313,\n",
              "        9330.26463747,  9478.87436392,  9454.36458902,  9483.51534916,\n",
              "        9352.82459204,  9323.64601389,  9245.30031193,  9152.21569279,\n",
              "        9306.11722091,  9232.38609543,  9183.3061855 ,  9216.90319987,\n",
              "        9336.52249843,  9381.44192045,  9640.30921785,  9633.11099386,\n",
              "        9658.03343571,  9684.65104095,  9823.63056633,  9873.45984697,\n",
              "        9861.98395417,  9768.54278098,  9792.42134455,  9929.64693492,\n",
              "        9888.89747172,  9941.20416383,  9965.67421805, 10051.72977401,\n",
              "        9970.83810266, 10204.81847891, 10074.28240989, 10037.45576073,\n",
              "       10131.61638452, 10161.68025124, 10246.02079085, 10195.19004257,\n",
              "       10187.56353242, 10188.80967353, 10348.69854894, 10420.14896737,\n",
              "       10503.16338784, 10434.06033537, 10535.15413445, 10558.91951041,\n",
              "       10705.59824618, 10921.2154348 , 10887.71288352, 10843.47576524,\n",
              "       10749.78325603, 10734.34876972, 10693.34082564, 10731.78385637,\n",
              "       10716.26925805, 10677.51930548, 10791.19058892, 10689.98214568,\n",
              "       10736.28130854, 10692.69826276, 10770.1528013 , 10919.34758658,\n",
              "       10886.25123476, 10934.26318507, 10953.81286756, 10866.2456339 ,\n",
              "       10892.41019616, 10923.90238756, 10969.00399297, 10947.24161006,\n",
              "       10957.55306875, 10831.80299044, 10793.01277931, 10853.01790238,\n",
              "       10949.87825314, 10903.63529406, 10915.05292993, 10939.94507107,\n",
              "       10961.98686657, 11021.26639597, 10820.89121704, 10815.55391307,\n",
              "       10841.40672108, 10732.95683939, 10912.62500283, 10930.25535982,\n",
              "       11101.13949076, 11013.3824274 , 10913.45799525, 10937.93166719,\n",
              "       10754.31788116, 10777.43596411, 10787.91370458, 10897.48279868,\n",
              "       10973.87865825, 10928.06520044, 10808.13005044, 10993.19822562,\n",
              "       10906.11945123, 10792.09329415])"
            ]
          },
          "metadata": {},
          "execution_count": 340
        }
      ]
    },
    {
      "cell_type": "markdown",
      "source": [
        "## 정수 데이터 카운팅\n",
        "* 만약 난수가 정수값이면 unique 명령이나 bincount 명령으로 데이터 값을 분석"
      ],
      "metadata": {
        "id": "zc2junJdO2d8"
      }
    },
    {
      "cell_type": "markdown",
      "source": [
        "### `unique`\n",
        "* unique 함수는 데이터에서 중복된 값을 제거하고 중복되지 않는 값의 리스트를 출력\n",
        "* return_counts 인수를 True 로 설정하면 각 값을 가진 데이터 갯수도 출력\n"
      ],
      "metadata": {
        "id": "NQWG8zU8PJtG"
      }
    },
    {
      "cell_type": "code",
      "source": [
        "np.unique([11, 11, 2, 2, 34, 34])"
      ],
      "metadata": {
        "colab": {
          "base_uri": "https://localhost:8080/"
        },
        "id": "Zy46ohsVPDJv",
        "outputId": "b12882d9-f973-4fa4-9e27-631f7b76c8c0"
      },
      "execution_count": 49,
      "outputs": [
        {
          "output_type": "execute_result",
          "data": {
            "text/plain": [
              "array([ 2, 11, 34])"
            ]
          },
          "metadata": {},
          "execution_count": 49
        }
      ]
    },
    {
      "cell_type": "code",
      "source": [
        "a = np.array(['a', 'b', 'b', 'c', 'a'])\n",
        "index, count = np.unique(a, return_counts=True)"
      ],
      "metadata": {
        "id": "9l5BuLbwPPQF"
      },
      "execution_count": 50,
      "outputs": []
    },
    {
      "cell_type": "code",
      "source": [
        "index"
      ],
      "metadata": {
        "colab": {
          "base_uri": "https://localhost:8080/"
        },
        "id": "kMLRdBasPQ4L",
        "outputId": "7373c859-bfd2-4a71-fac9-cd4e3ddb5ed3"
      },
      "execution_count": 51,
      "outputs": [
        {
          "output_type": "execute_result",
          "data": {
            "text/plain": [
              "array(['a', 'b', 'c'], dtype='<U1')"
            ]
          },
          "metadata": {},
          "execution_count": 51
        }
      ]
    },
    {
      "cell_type": "code",
      "source": [
        "count"
      ],
      "metadata": {
        "colab": {
          "base_uri": "https://localhost:8080/"
        },
        "id": "Kpx6OGmoPRi1",
        "outputId": "b4f51eba-4d63-4cc2-cfe2-00802392484e"
      },
      "execution_count": 52,
      "outputs": [
        {
          "output_type": "execute_result",
          "data": {
            "text/plain": [
              "array([2, 2, 1])"
            ]
          },
          "metadata": {},
          "execution_count": 52
        }
      ]
    },
    {
      "cell_type": "code",
      "source": [
        "dict(zip(*np.unique(a, return_counts=True))) # 복습할 때 zip / dict 더 설명"
      ],
      "metadata": {
        "colab": {
          "base_uri": "https://localhost:8080/"
        },
        "id": "NvmQHLnUjwpU",
        "outputId": "66493dc3-3dda-45da-9c1e-e3917b4ed08e"
      },
      "execution_count": 53,
      "outputs": [
        {
          "output_type": "execute_result",
          "data": {
            "text/plain": [
              "{'a': 2, 'b': 2, 'c': 1}"
            ]
          },
          "metadata": {},
          "execution_count": 53
        }
      ]
    },
    {
      "cell_type": "markdown",
      "source": [
        "### `bincount`\n",
        "* `unique` 함수는 데이터에 존재하는 값에 대해서만 갯수를 세므로 데이터 값이 나올 수 있음에도 불구하고 데이터가 하나도 없는 경우에는 정보를 주지 않음\n",
        "* 따라서 데이터가 주사위를 던졌을 때 나오는 수처럼 특정 범위안의 수인 경우에는 `bincount` 함수에 `minlength` 인수를 설정하여 쓰는 것이 더 편리\n",
        "* `bincount` 함수는 0 부터 `minlength` - 1 까지의 숫자에 대해 각각 카운트\n",
        "* 데이터가 없을 경우에는 카운트 값이 0이 됨"
      ],
      "metadata": {
        "id": "GihAHqezPWii"
      }
    },
    {
      "cell_type": "code",
      "source": [
        "np.bincount([1, 1, 2, 2, 2, 3], minlength=6)"
      ],
      "metadata": {
        "colab": {
          "base_uri": "https://localhost:8080/"
        },
        "id": "SWLVdyPEPmqk",
        "outputId": "bf408283-8181-4e5b-f4fe-f22674dbdcd5"
      },
      "execution_count": 54,
      "outputs": [
        {
          "output_type": "execute_result",
          "data": {
            "text/plain": [
              "array([0, 2, 3, 1, 0, 0])"
            ]
          },
          "metadata": {},
          "execution_count": 54
        }
      ]
    }
  ]
}