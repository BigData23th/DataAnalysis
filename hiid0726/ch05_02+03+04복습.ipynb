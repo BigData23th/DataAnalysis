{
  "nbformat": 4,
  "nbformat_minor": 0,
  "metadata": {
    "colab": {
      "provenance": [],
      "authorship_tag": "ABX9TyNfx7MP0UTWZcNXhoXd9VxC",
      "include_colab_link": true
    },
    "kernelspec": {
      "name": "python3",
      "display_name": "Python 3"
    },
    "language_info": {
      "name": "python"
    }
  },
  "cells": [
    {
      "cell_type": "markdown",
      "metadata": {
        "id": "view-in-github",
        "colab_type": "text"
      },
      "source": [
        "<a href=\"https://colab.research.google.com/github/hiid0726/DataAnalysis/blob/main/hiid0726/ch05_02%2B03%2B04%EB%B3%B5%EC%8A%B5.ipynb\" target=\"_parent\"><img src=\"https://colab.research.google.com/assets/colab-badge.svg\" alt=\"Open In Colab\"/></a>"
      ]
    },
    {
      "cell_type": "code",
      "execution_count": 1,
      "metadata": {
        "id": "Vryv_TQGzLs_"
      },
      "outputs": [],
      "source": [
        "import numpy as np"
      ]
    },
    {
      "cell_type": "code",
      "source": [
        "arr1 = np.arange(1,4)\n",
        "arr2 = np.arange(4,7)"
      ],
      "metadata": {
        "id": "SNlTwxo3QWMJ"
      },
      "execution_count": 2,
      "outputs": []
    },
    {
      "cell_type": "code",
      "source": [
        "np.concatenate([arr1, arr2, arr1, arr2]) # 여러개 붙이는 것도 가능 ^^"
      ],
      "metadata": {
        "colab": {
          "base_uri": "https://localhost:8080/"
        },
        "id": "BNyNk4tiRMh6",
        "outputId": "f7ab1a70-19de-4884-de82-5d14e209e42f"
      },
      "execution_count": 5,
      "outputs": [
        {
          "output_type": "execute_result",
          "data": {
            "text/plain": [
              "array([1, 2, 3, 4, 5, 6, 1, 2, 3, 4, 5, 6])"
            ]
          },
          "metadata": {},
          "execution_count": 5
        }
      ]
    },
    {
      "cell_type": "code",
      "source": [
        "arr1 = arr1.reshape(3,1)\n",
        "arr2 = arr2.reshape(3,1)\n",
        "print(arr1, arr2)\n",
        "np.concatenate([arr1, arr2], axis = 0)"
      ],
      "metadata": {
        "colab": {
          "base_uri": "https://localhost:8080/"
        },
        "id": "X_sN14itRZSe",
        "outputId": "5250693c-d302-46ce-cfa6-9ebf010fdd56"
      },
      "execution_count": 9,
      "outputs": [
        {
          "output_type": "stream",
          "name": "stdout",
          "text": [
            "[[1]\n",
            " [2]\n",
            " [3]] [[4]\n",
            " [5]\n",
            " [6]]\n"
          ]
        },
        {
          "output_type": "execute_result",
          "data": {
            "text/plain": [
              "array([[1],\n",
              "       [2],\n",
              "       [3],\n",
              "       [4],\n",
              "       [5],\n",
              "       [6]])"
            ]
          },
          "metadata": {},
          "execution_count": 9
        }
      ]
    },
    {
      "cell_type": "code",
      "source": [
        "np.concatenate([arr1, arr2], axis = 1)"
      ],
      "metadata": {
        "colab": {
          "base_uri": "https://localhost:8080/"
        },
        "id": "GvXSHeJ5RqKe",
        "outputId": "d7cd68b5-7086-4196-97c0-3f3e4ddab52f"
      },
      "execution_count": 8,
      "outputs": [
        {
          "output_type": "execute_result",
          "data": {
            "text/plain": [
              "array([[1, 4],\n",
              "       [2, 5],\n",
              "       [3, 6]])"
            ]
          },
          "metadata": {},
          "execution_count": 8
        }
      ]
    },
    {
      "cell_type": "code",
      "source": [
        "a1 = np.ones((2,3))\n",
        "a2 = np.zeros((2,3))\n",
        "np.hstack((a1,a2)) # 행기준"
      ],
      "metadata": {
        "colab": {
          "base_uri": "https://localhost:8080/"
        },
        "id": "PY3I3WaDR1Lf",
        "outputId": "fa0be84b-6e96-450b-c075-6d8ae54fb59c"
      },
      "execution_count": 13,
      "outputs": [
        {
          "output_type": "execute_result",
          "data": {
            "text/plain": [
              "array([[1., 1., 1., 0., 0., 0.],\n",
              "       [1., 1., 1., 0., 0., 0.]])"
            ]
          },
          "metadata": {},
          "execution_count": 13
        }
      ]
    },
    {
      "cell_type": "code",
      "source": [
        "b1 = np.ones((2,3))\n",
        "b2 = np.zeros((3,3))\n",
        "np.vstack((b1,b2)) # 열기준"
      ],
      "metadata": {
        "colab": {
          "base_uri": "https://localhost:8080/"
        },
        "id": "JHwMOqSOSN83",
        "outputId": "13e64cad-10d2-4820-870e-fa2831521ba5"
      },
      "execution_count": 17,
      "outputs": [
        {
          "output_type": "execute_result",
          "data": {
            "text/plain": [
              "array([[1., 1., 1.],\n",
              "       [1., 1., 1.],\n",
              "       [0., 0., 0.],\n",
              "       [0., 0., 0.],\n",
              "       [0., 0., 0.]])"
            ]
          },
          "metadata": {},
          "execution_count": 17
        }
      ]
    },
    {
      "cell_type": "code",
      "source": [
        "c1 = np.ones((3,4))\n",
        "c2 = np.zeros((3,4))\n",
        "np.dstack((c1,c2))"
      ],
      "metadata": {
        "colab": {
          "base_uri": "https://localhost:8080/"
        },
        "id": "XgAGl8QrScku",
        "outputId": "99dfd57d-0249-4d79-ff0d-56c46cc53b8f"
      },
      "execution_count": 18,
      "outputs": [
        {
          "output_type": "execute_result",
          "data": {
            "text/plain": [
              "array([[[1., 0.],\n",
              "        [1., 0.],\n",
              "        [1., 0.],\n",
              "        [1., 0.]],\n",
              "\n",
              "       [[1., 0.],\n",
              "        [1., 0.],\n",
              "        [1., 0.],\n",
              "        [1., 0.]],\n",
              "\n",
              "       [[1., 0.],\n",
              "        [1., 0.],\n",
              "        [1., 0.],\n",
              "        [1., 0.]]])"
            ]
          },
          "metadata": {},
          "execution_count": 18
        }
      ]
    },
    {
      "cell_type": "markdown",
      "source": [
        "* 브로드캐스팅"
      ],
      "metadata": {
        "id": "d6m8G3M2WaH9"
      }
    },
    {
      "cell_type": "code",
      "source": [
        "# 브로드 캐스팅 : 크기가 작은 배열을 자동으로 반복확장하여 크기기ㅏ 큰 배열에 맞추는 방법\n",
        "x = np.arange(5)\n",
        "x + 1"
      ],
      "metadata": {
        "colab": {
          "base_uri": "https://localhost:8080/"
        },
        "id": "4VCZ_zCSWZTV",
        "outputId": "a36f814c-6496-4b86-ecad-187a73e858b7"
      },
      "execution_count": 20,
      "outputs": [
        {
          "output_type": "execute_result",
          "data": {
            "text/plain": [
              "array([1, 2, 3, 4, 5])"
            ]
          },
          "metadata": {},
          "execution_count": 20
        }
      ]
    },
    {
      "cell_type": "code",
      "source": [
        "x + np.ones_like(x) + 1"
      ],
      "metadata": {
        "colab": {
          "base_uri": "https://localhost:8080/"
        },
        "id": "Hxac2rWKWuUu",
        "outputId": "cafb2f7f-41f0-4e7e-b1ae-f7e47d4ab458"
      },
      "execution_count": 21,
      "outputs": [
        {
          "output_type": "execute_result",
          "data": {
            "text/plain": [
              "array([2, 3, 4, 5, 6])"
            ]
          },
          "metadata": {},
          "execution_count": 21
        }
      ]
    },
    {
      "cell_type": "code",
      "source": [
        "x + 10"
      ],
      "metadata": {
        "colab": {
          "base_uri": "https://localhost:8080/"
        },
        "id": "p6LOryKpWyqi",
        "outputId": "e4f3c875-6255-4438-cb17-7f52afed957d"
      },
      "execution_count": 22,
      "outputs": [
        {
          "output_type": "execute_result",
          "data": {
            "text/plain": [
              "array([10, 11, 12, 13, 14])"
            ]
          },
          "metadata": {},
          "execution_count": 22
        }
      ]
    },
    {
      "cell_type": "code",
      "source": [
        "x + np.ones_like(x) *10"
      ],
      "metadata": {
        "colab": {
          "base_uri": "https://localhost:8080/"
        },
        "id": "3o_NizA2W0Rp",
        "outputId": "386f7e5e-6647-478c-8c9a-902bb35426be"
      },
      "execution_count": 23,
      "outputs": [
        {
          "output_type": "execute_result",
          "data": {
            "text/plain": [
              "array([10, 11, 12, 13, 14])"
            ]
          },
          "metadata": {},
          "execution_count": 23
        }
      ]
    },
    {
      "cell_type": "code",
      "source": [
        "x = np.vstack([range(7)[i:i+3] for in range(5)])\n",
        "x"
      ],
      "metadata": {
        "colab": {
          "base_uri": "https://localhost:8080/",
          "height": 136
        },
        "id": "oKmY3a8mXG4r",
        "outputId": "ada9eaf4-fb96-4ca0-e197-4dd9156a5f92"
      },
      "execution_count": 24,
      "outputs": [
        {
          "output_type": "error",
          "ename": "SyntaxError",
          "evalue": "ignored",
          "traceback": [
            "\u001b[0;36m  File \u001b[0;32m\"<ipython-input-24-a1911d00f927>\"\u001b[0;36m, line \u001b[0;32m1\u001b[0m\n\u001b[0;31m    x = np.vstack([range(7)[i:i+3] for in range(5)])\u001b[0m\n\u001b[0m                                       ^\u001b[0m\n\u001b[0;31mSyntaxError\u001b[0m\u001b[0;31m:\u001b[0m invalid syntax\n"
          ]
        }
      ]
    },
    {
      "cell_type": "code",
      "source": [
        "y = np.arange(5).reshape(-1,1)"
      ],
      "metadata": {
        "id": "g8DdGWjdXanc"
      },
      "execution_count": null,
      "outputs": []
    },
    {
      "cell_type": "code",
      "source": [
        "x = np.arange(1,5)\n",
        "np.sum(x), x.sum()"
      ],
      "metadata": {
        "colab": {
          "base_uri": "https://localhost:8080/"
        },
        "id": "opCpjQMmXkXv",
        "outputId": "879b9c37-b686-48c3-f6a9-9456ab479081"
      },
      "execution_count": 25,
      "outputs": [
        {
          "output_type": "execute_result",
          "data": {
            "text/plain": [
              "(10, 10)"
            ]
          },
          "metadata": {},
          "execution_count": 25
        }
      ]
    },
    {
      "cell_type": "code",
      "source": [
        "# 기술통계\n",
        "x = np.random.randint(-30,30,30)\n",
        "x"
      ],
      "metadata": {
        "colab": {
          "base_uri": "https://localhost:8080/"
        },
        "id": "8uiN2gyPekMt",
        "outputId": "e076edcb-2a5d-48c3-ce0c-7b9e369530ee"
      },
      "execution_count": 27,
      "outputs": [
        {
          "output_type": "execute_result",
          "data": {
            "text/plain": [
              "array([-11, -17,   2,  26,  -1, -10,  19, -11, -18,   5,  16,  18, -29,\n",
              "        -2, -27, -22,   9,   5,  21,  20,  -9,   7, -20, -15, -30,  11,\n",
              "         3,  22,  29,  28])"
            ]
          },
          "metadata": {},
          "execution_count": 27
        }
      ]
    },
    {
      "cell_type": "code",
      "source": [
        "len(x)"
      ],
      "metadata": {
        "colab": {
          "base_uri": "https://localhost:8080/"
        },
        "id": "Py64ZltGe6EU",
        "outputId": "d3c45010-5d94-4926-ce35-88e4fd9de189"
      },
      "execution_count": 28,
      "outputs": [
        {
          "output_type": "execute_result",
          "data": {
            "text/plain": [
              "30"
            ]
          },
          "metadata": {},
          "execution_count": 28
        }
      ]
    },
    {
      "cell_type": "code",
      "source": [
        "np.mean(x), x.mean() #평균"
      ],
      "metadata": {
        "colab": {
          "base_uri": "https://localhost:8080/"
        },
        "id": "UURrFdYle8T6",
        "outputId": "a23e2f8a-52af-4508-c3db-37682e7a458e"
      },
      "execution_count": 29,
      "outputs": [
        {
          "output_type": "execute_result",
          "data": {
            "text/plain": [
              "(0.6333333333333333, 0.6333333333333333)"
            ]
          },
          "metadata": {},
          "execution_count": 29
        }
      ]
    },
    {
      "cell_type": "code",
      "source": [
        "np.var(x) #분산"
      ],
      "metadata": {
        "colab": {
          "base_uri": "https://localhost:8080/"
        },
        "id": "C7np_MSFfAoQ",
        "outputId": "d3af9f9c-7577-4129-c707-a06f6e4536f8"
      },
      "execution_count": 30,
      "outputs": [
        {
          "output_type": "execute_result",
          "data": {
            "text/plain": [
              "316.29888888888894"
            ]
          },
          "metadata": {},
          "execution_count": 30
        }
      ]
    },
    {
      "cell_type": "code",
      "source": [
        "np.std(x), x.std() #표준편차"
      ],
      "metadata": {
        "colab": {
          "base_uri": "https://localhost:8080/"
        },
        "id": "DdEB4ceTfDDc",
        "outputId": "49ffe839-2950-4c13-b3b9-106ec9238490"
      },
      "execution_count": 35,
      "outputs": [
        {
          "output_type": "execute_result",
          "data": {
            "text/plain": [
              "(17.78479375446589, 17.78479375446589)"
            ]
          },
          "metadata": {},
          "execution_count": 35
        }
      ]
    },
    {
      "cell_type": "code",
      "source": [
        "np.max(x), np.min(x) #최댓값, 최솟값"
      ],
      "metadata": {
        "colab": {
          "base_uri": "https://localhost:8080/"
        },
        "id": "JwpN7DZ2fKuM",
        "outputId": "bd6e94f6-6118-47a5-ac8c-3d8f6aea137f"
      },
      "execution_count": 34,
      "outputs": [
        {
          "output_type": "execute_result",
          "data": {
            "text/plain": [
              "(29, -30)"
            ]
          },
          "metadata": {},
          "execution_count": 34
        }
      ]
    },
    {
      "cell_type": "code",
      "source": [
        "np.median(x) #중앙값! , 만약 전체 길이가 짝수 개 일경우, 두 값의 평균을 가져온다. "
      ],
      "metadata": {
        "colab": {
          "base_uri": "https://localhost:8080/"
        },
        "id": "_TFYaWSefRI2",
        "outputId": "2310f08d-8fdb-42ad-8d2b-984eb4e1a503"
      },
      "execution_count": 36,
      "outputs": [
        {
          "output_type": "execute_result",
          "data": {
            "text/plain": [
              "2.5"
            ]
          },
          "metadata": {},
          "execution_count": 36
        }
      ]
    },
    {
      "cell_type": "code",
      "source": [
        "np.quantile(x,0), np.percentile(x,0) #최솟값"
      ],
      "metadata": {
        "colab": {
          "base_uri": "https://localhost:8080/"
        },
        "id": "UJbvVC8vffeE",
        "outputId": "692f49e6-9929-4f59-d646-b6593bd175ba"
      },
      "execution_count": 38,
      "outputs": [
        {
          "output_type": "execute_result",
          "data": {
            "text/plain": [
              "(-30, -30.0)"
            ]
          },
          "metadata": {},
          "execution_count": 38
        }
      ]
    },
    {
      "cell_type": "code",
      "source": [
        "np.quantile(x,0.25), np.percentile(x,25) # 1사분위"
      ],
      "metadata": {
        "colab": {
          "base_uri": "https://localhost:8080/"
        },
        "id": "_HeID86RftPR",
        "outputId": "a4d987b5-831f-4ae4-c914-47916c8ed1af"
      },
      "execution_count": 40,
      "outputs": [
        {
          "output_type": "execute_result",
          "data": {
            "text/plain": [
              "(-14.0, -14.0)"
            ]
          },
          "metadata": {},
          "execution_count": 40
        }
      ]
    },
    {
      "cell_type": "code",
      "source": [
        "np.quantile(x,0.5), np.percentile(x,50) # 중앙값, 2사분위"
      ],
      "metadata": {
        "colab": {
          "base_uri": "https://localhost:8080/"
        },
        "id": "xkYFkLBrf50I",
        "outputId": "f4826dff-d0f5-4ad6-d0e6-0ee68f0a10ad"
      },
      "execution_count": 41,
      "outputs": [
        {
          "output_type": "execute_result",
          "data": {
            "text/plain": [
              "(2.5, 2.5)"
            ]
          },
          "metadata": {},
          "execution_count": 41
        }
      ]
    },
    {
      "cell_type": "code",
      "source": [
        "np.quantile(x,0.75), np.percentile(x,75) # 3사분위"
      ],
      "metadata": {
        "colab": {
          "base_uri": "https://localhost:8080/"
        },
        "id": "bOjY6d3bf68d",
        "outputId": "44b84f1c-b9ba-441e-866d-dbecc72910e3"
      },
      "execution_count": 42,
      "outputs": [
        {
          "output_type": "execute_result",
          "data": {
            "text/plain": [
              "(17.5, 17.5)"
            ]
          },
          "metadata": {},
          "execution_count": 42
        }
      ]
    },
    {
      "cell_type": "code",
      "source": [
        "np.quantile(x,1), np.percentile(x,100) # 최댓값, 4사분위"
      ],
      "metadata": {
        "colab": {
          "base_uri": "https://localhost:8080/"
        },
        "id": "0rcCPV39f856",
        "outputId": "30ad1e1a-a53b-4ac5-a294-39115598e58a"
      },
      "execution_count": 43,
      "outputs": [
        {
          "output_type": "execute_result",
          "data": {
            "text/plain": [
              "(29, 29.0)"
            ]
          },
          "metadata": {},
          "execution_count": 43
        }
      ]
    },
    {
      "cell_type": "code",
      "source": [
        "# 난수발생\n",
        "np.random.seed(0) # 이후 나오는 랜덤값들이 순서가 일치한다.\n"
      ],
      "metadata": {
        "id": "hg4GjXQEgPHt"
      },
      "execution_count": 44,
      "outputs": []
    },
    {
      "cell_type": "code",
      "source": [
        "np.random.rand(5)"
      ],
      "metadata": {
        "colab": {
          "base_uri": "https://localhost:8080/"
        },
        "id": "mpA8JGmnghFz",
        "outputId": "11474c7f-3d7f-4c92-c6e1-ba023258788e"
      },
      "execution_count": 45,
      "outputs": [
        {
          "output_type": "execute_result",
          "data": {
            "text/plain": [
              "array([0.5488135 , 0.71518937, 0.60276338, 0.54488318, 0.4236548 ])"
            ]
          },
          "metadata": {},
          "execution_count": 45
        }
      ]
    },
    {
      "cell_type": "code",
      "source": [
        "x = np.arange(10)\n",
        "x"
      ],
      "metadata": {
        "colab": {
          "base_uri": "https://localhost:8080/"
        },
        "id": "5hWosqq3gl91",
        "outputId": "96c8e996-272f-4052-dc02-13e1c63a39f6"
      },
      "execution_count": 46,
      "outputs": [
        {
          "output_type": "execute_result",
          "data": {
            "text/plain": [
              "array([0, 1, 2, 3, 4, 5, 6, 7, 8, 9])"
            ]
          },
          "metadata": {},
          "execution_count": 46
        }
      ]
    },
    {
      "cell_type": "code",
      "source": [
        "np.random.shuffle(x) #원본에 영향O, 원본 자체를 섞어준다."
      ],
      "metadata": {
        "id": "T2BSgOtzgotR"
      },
      "execution_count": 47,
      "outputs": []
    },
    {
      "cell_type": "code",
      "source": [
        "x"
      ],
      "metadata": {
        "colab": {
          "base_uri": "https://localhost:8080/"
        },
        "id": "tBEePhYHgtNl",
        "outputId": "ccd11c86-f113-4424-d7af-3dfc008362c1"
      },
      "execution_count": 48,
      "outputs": [
        {
          "output_type": "execute_result",
          "data": {
            "text/plain": [
              "array([3, 1, 8, 7, 9, 0, 6, 4, 2, 5])"
            ]
          },
          "metadata": {},
          "execution_count": 48
        }
      ]
    },
    {
      "cell_type": "code",
      "source": [
        "np.random.choice(x,5,replace=False) #x배열안에 있는 값 중에 5개를 추출하고 비복원."
      ],
      "metadata": {
        "colab": {
          "base_uri": "https://localhost:8080/"
        },
        "id": "qsY7rO_qgzQm",
        "outputId": "9cd4c3ca-5fe6-4274-9aa0-5b552dc62cf6"
      },
      "execution_count": 49,
      "outputs": [
        {
          "output_type": "execute_result",
          "data": {
            "text/plain": [
              "array([0, 8, 7, 9, 1])"
            ]
          },
          "metadata": {},
          "execution_count": 49
        }
      ]
    },
    {
      "cell_type": "code",
      "source": [
        "np.random.choice(5,5,replace=False)"
      ],
      "metadata": {
        "colab": {
          "base_uri": "https://localhost:8080/"
        },
        "id": "mvT_untjg8im",
        "outputId": "0155cf52-8970-4222-80a6-33f3720c1f62"
      },
      "execution_count": 51,
      "outputs": [
        {
          "output_type": "execute_result",
          "data": {
            "text/plain": [
              "array([2, 3, 4, 1, 0])"
            ]
          },
          "metadata": {},
          "execution_count": 51
        }
      ]
    },
    {
      "cell_type": "code",
      "source": [
        "np.random.choice(np.arange(1,45), 6, replace=False)"
      ],
      "metadata": {
        "colab": {
          "base_uri": "https://localhost:8080/"
        },
        "id": "byPbFDfphEDg",
        "outputId": "919e6f4e-7968-420c-debd-d6fdf0b06903"
      },
      "execution_count": 53,
      "outputs": [
        {
          "output_type": "execute_result",
          "data": {
            "text/plain": [
              "array([18, 35, 13, 22, 38, 44])"
            ]
          },
          "metadata": {},
          "execution_count": 53
        }
      ]
    },
    {
      "cell_type": "code",
      "source": [
        "np.random.choice(np.arange(1,7),6, replace = True)"
      ],
      "metadata": {
        "colab": {
          "base_uri": "https://localhost:8080/"
        },
        "id": "AvSmEmiXhQa8",
        "outputId": "96d0bd73-56d9-494c-a8f2-c6b8eb7883df"
      },
      "execution_count": 55,
      "outputs": [
        {
          "output_type": "execute_result",
          "data": {
            "text/plain": [
              "array([4, 1, 4, 6, 5, 2])"
            ]
          },
          "metadata": {},
          "execution_count": 55
        }
      ]
    },
    {
      "cell_type": "code",
      "source": [
        "np.random.choice(np.arange(1,7),6, p = [0,0,0,0.6,0.2,0.2]) # 확률 지정"
      ],
      "metadata": {
        "colab": {
          "base_uri": "https://localhost:8080/"
        },
        "id": "x-mxwvqUhdCH",
        "outputId": "40686467-ac98-4aba-b851-e6426f64cc9a"
      },
      "execution_count": 56,
      "outputs": [
        {
          "output_type": "execute_result",
          "data": {
            "text/plain": [
              "array([4, 5, 6, 5, 5, 6])"
            ]
          },
          "metadata": {},
          "execution_count": 56
        }
      ]
    },
    {
      "cell_type": "code",
      "source": [
        "#가격이 1만원 주식\n",
        "price = 10000\n",
        "#일간 수익률 => 기댓값(평균) 0, 표준편차 1% = 0.01 (표준정규분포)\n",
        "days = 250\n",
        "daily_earning_rate = np.random.randn(days) / 100\n",
        "#250일 동안의 주가를 무작위로 생성\n",
        "#주가 -> 전일가격 * (1 + 당일 수익률)\n",
        "price_arr = np.empty(days)\n",
        "for i, v in enumerate(daily_earning_rate):\n",
        "  price *= (1+v)\n",
        "  price_arr[i] = price\n",
        "\n",
        "price_arr"
      ],
      "metadata": {
        "colab": {
          "base_uri": "https://localhost:8080/"
        },
        "id": "c_U6QnQJhmJK",
        "outputId": "f4bf0a49-3509-454e-fc26-4798e4ee48ac"
      },
      "execution_count": 62,
      "outputs": [
        {
          "output_type": "execute_result",
          "data": {
            "text/plain": [
              "array([10007.99847348, 10083.33407793,  9956.5670707 ,  9985.4262979 ,\n",
              "        9954.07355356,  9907.10619007,  9876.21624522,  9834.40503824,\n",
              "        9941.51535628,  9953.2215632 ,  9934.57069062,  9942.72660985,\n",
              "        9936.96279114,  9780.50064256,  9847.561748  ,  9896.06564036,\n",
              "        9847.52863442,  9811.75247537,  9831.60290025,  9881.81537612,\n",
              "        9849.49942917,  9894.78894141,  9859.90425243,  9773.66972271,\n",
              "        9754.55282772,  9743.50915895,  9618.22859156,  9690.04752469,\n",
              "        9517.9110426 ,  9478.15667636,  9469.12854548,  9545.4268498 ,\n",
              "        9323.21431822,  9487.60005538,  9373.50486715,  9275.40916799,\n",
              "        9198.76918475,  9139.77613426,  8942.19645321,  8932.99980582,\n",
              "        8888.63192573,  8871.39197748,  9025.36200929,  8949.05873313,\n",
              "        8824.0115611 ,  8804.40588467,  8725.4177464 ,  8721.8467493 ,\n",
              "        8785.81681643,  8691.7292147 ,  8918.65923394,  9041.53105096,\n",
              "        9065.69654095,  9130.55894024,  9106.29244425,  9113.55148844,\n",
              "        9089.22593859,  9000.45371101,  9033.94140221,  9172.80087473,\n",
              "        9097.41364493,  9153.51680214,  9149.09451122,  8907.92493827,\n",
              "        8975.77616086,  9006.2593907 ,  9069.74942209,  9053.64111951,\n",
              "        8993.62042704,  8950.33481729,  8975.5893284 ,  8797.87411207,\n",
              "        8804.08431233,  8806.87096487,  8778.97009789,  8704.99315138,\n",
              "        8775.4347031 ,  8721.44790779,  8755.9040622 ,  8780.57265958,\n",
              "        8786.73872326,  8826.1558604 ,  8733.0398099 ,  8477.07776718,\n",
              "        8463.69394838,  8481.83611638,  8607.48482741,  8494.86707856,\n",
              "        8477.30313298,  8485.83853158,  8430.58468936,  8346.9067604 ,\n",
              "        8284.4640305 ,  8231.64923654,  8214.69678407,  8162.12029968,\n",
              "        8116.70937647,  8181.81079531,  8288.79789573,  8234.2770483 ,\n",
              "        8172.48517015,  8309.71882233,  8179.23725868,  8218.8717282 ,\n",
              "        8193.90927053,  8066.99853898,  8011.65503734,  7999.30718446,\n",
              "        7834.58095762,  7831.3636654 ,  7799.21609777,  7768.65748576,\n",
              "        7709.40669744,  7654.80769423,  7729.40522555,  7787.98686459,\n",
              "        7707.56778588,  7675.66789231,  7570.83514082,  7660.35933143,\n",
              "        7528.82524916,  7613.9383792 ,  7659.38568298,  7694.88047919,\n",
              "        7594.24734804,  7540.60314079,  7449.74887885,  7448.09435822,\n",
              "        7554.26670042,  7606.84468263,  7636.1626567 ,  7650.05570819,\n",
              "        7768.24352043,  7896.4720213 ,  7967.37892247,  8042.47194124,\n",
              "        8113.22656999,  8060.20092585,  8072.14936562,  8089.47018318,\n",
              "        8102.40735037,  8115.389785  ,  8171.5319123 ,  8127.90784285,\n",
              "        8050.51477908,  8145.54855145,  8242.15135099,  8340.74206493,\n",
              "        8453.58468851,  8550.9666484 ,  8673.32084484,  8707.95721057,\n",
              "        8669.74618876,  8601.49265862,  8537.21507034,  8641.13490759,\n",
              "        8781.57559184,  8903.4378719 ,  8871.41125909,  8707.01059058,\n",
              "        8799.96576525,  8863.40758897,  8755.43058755,  8892.85728622,\n",
              "        8887.33525859,  8887.49510474,  8680.11465253,  8719.74725432,\n",
              "        8642.16416835,  8632.02317963,  8566.85634909,  8645.99376309,\n",
              "        8682.77808735,  8616.60124217,  8583.6769346 ,  8592.4692921 ,\n",
              "        8682.67023095,  8499.60050451,  8611.17141842,  8487.97399202,\n",
              "        8667.92006732,  8620.93127561,  8512.19873656,  8551.5232924 ,\n",
              "        8443.21126896,  8355.07112788,  8352.14494659,  8406.80906649,\n",
              "        8427.03285009,  8462.18182362,  8405.18363343,  8367.80911157,\n",
              "        8381.75331494,  8381.75391698,  8427.92741027,  8445.03512652,\n",
              "        8336.95425808,  8397.33742362,  8450.23851429,  8425.80254489,\n",
              "        8443.82676835,  8499.13852512,  8476.72998436,  8439.14227032,\n",
              "        8475.232759  ,  8377.99797068,  8361.15901334,  8262.97175689,\n",
              "        8138.31625905,  8161.97545743,  8100.90796809,  8029.94937208,\n",
              "        8041.9805958 ,  8116.00893271,  8093.95168573,  8066.04842124,\n",
              "        8052.2129755 ,  8099.76107433,  8065.05722154,  7892.76338429,\n",
              "        7763.99133306,  7681.08955921,  7753.0275836 ,  7726.57131824,\n",
              "        7718.0486377 ,  7731.87255812,  7760.39630293,  7717.11852726,\n",
              "        7722.00561141,  7596.35261778,  7654.38654356,  7557.26152641,\n",
              "        7542.36474073,  7548.46239314,  7704.49578365,  7759.25507692,\n",
              "        7631.23481121,  7670.41287133,  7629.60130191,  7596.88650493,\n",
              "        7653.10321636,  7703.38132851,  7824.68787872,  8016.56209694,\n",
              "        7965.20886181,  7948.50028617,  7920.76922336,  7812.47094946,\n",
              "        7866.69233143,  8024.8610966 ])"
            ]
          },
          "metadata": {},
          "execution_count": 62
        }
      ]
    },
    {
      "cell_type": "code",
      "source": [
        "x = np.random.randint(1,10,100)\n",
        "x"
      ],
      "metadata": {
        "colab": {
          "base_uri": "https://localhost:8080/"
        },
        "id": "kiqgn0Dvjzt9",
        "outputId": "10ffa7c7-3fef-4043-e2fd-fbfef18690e8"
      },
      "execution_count": 63,
      "outputs": [
        {
          "output_type": "execute_result",
          "data": {
            "text/plain": [
              "array([5, 2, 6, 1, 4, 7, 4, 1, 4, 7, 6, 2, 8, 4, 5, 8, 1, 4, 6, 7, 7, 8,\n",
              "       5, 8, 3, 1, 2, 7, 6, 5, 9, 8, 9, 7, 2, 5, 9, 6, 2, 7, 3, 8, 6, 8,\n",
              "       7, 7, 4, 4, 5, 5, 2, 4, 6, 2, 8, 6, 5, 3, 1, 9, 8, 2, 2, 2, 8, 5,\n",
              "       9, 7, 2, 3, 9, 5, 8, 9, 9, 4, 3, 6, 7, 5, 6, 8, 1, 4, 6, 6, 8, 9,\n",
              "       1, 3, 7, 6, 2, 6, 2, 3, 4, 1, 4, 1])"
            ]
          },
          "metadata": {},
          "execution_count": 63
        }
      ]
    },
    {
      "cell_type": "code",
      "source": [
        "np.unique(x)"
      ],
      "metadata": {
        "colab": {
          "base_uri": "https://localhost:8080/"
        },
        "id": "-FGZzJ8WkAWg",
        "outputId": "574f2e78-86a0-49be-a0f9-f1e2bba3e51f"
      },
      "execution_count": 64,
      "outputs": [
        {
          "output_type": "execute_result",
          "data": {
            "text/plain": [
              "array([1, 2, 3, 4, 5, 6, 7, 8, 9])"
            ]
          },
          "metadata": {},
          "execution_count": 64
        }
      ]
    },
    {
      "cell_type": "code",
      "source": [
        "np.unique(x, return_counts = True)"
      ],
      "metadata": {
        "colab": {
          "base_uri": "https://localhost:8080/"
        },
        "id": "ftHaPbuZkDIk",
        "outputId": "6532668e-a31e-479e-e2e7-e16aa8c8d7cc"
      },
      "execution_count": 66,
      "outputs": [
        {
          "output_type": "execute_result",
          "data": {
            "text/plain": [
              "(array([1, 2, 3, 4, 5, 6, 7, 8, 9]),\n",
              " array([ 9, 13,  7, 12, 11, 14, 12, 13,  9]))"
            ]
          },
          "metadata": {},
          "execution_count": 66
        }
      ]
    },
    {
      "cell_type": "code",
      "source": [
        "np.unique(x, return_counts = True, return_index = True)"
      ],
      "metadata": {
        "colab": {
          "base_uri": "https://localhost:8080/"
        },
        "id": "vBoOAZgDkLfJ",
        "outputId": "335913c0-ee79-4762-8939-46b158245064"
      },
      "execution_count": 67,
      "outputs": [
        {
          "output_type": "execute_result",
          "data": {
            "text/plain": [
              "(array([1, 2, 3, 4, 5, 6, 7, 8, 9]),\n",
              " array([ 3,  1, 24,  4,  0,  2,  5, 12, 30]),\n",
              " array([ 9, 13,  7, 12, 11, 14, 12, 13,  9]))"
            ]
          },
          "metadata": {},
          "execution_count": 67
        }
      ]
    },
    {
      "cell_type": "code",
      "source": [
        "key, value = np.unique(x, return_counts = True)\n",
        "print(key)\n",
        "print(value)"
      ],
      "metadata": {
        "colab": {
          "base_uri": "https://localhost:8080/"
        },
        "id": "F-KyvH6AkPd0",
        "outputId": "57309e1f-8f31-429d-b6d7-b6ee263599e4"
      },
      "execution_count": 71,
      "outputs": [
        {
          "output_type": "stream",
          "name": "stdout",
          "text": [
            "[1 2 3 4 5 6 7 8 9]\n",
            "[ 9 13  7 12 11 14 12 13  9]\n"
          ]
        }
      ]
    },
    {
      "cell_type": "code",
      "source": [
        "#두개의 시퀀스를 인덱스 기반으로 묶어주는것 = zip\n",
        "list(zip(key,value))"
      ],
      "metadata": {
        "colab": {
          "base_uri": "https://localhost:8080/"
        },
        "id": "aSeEbe4Tkix5",
        "outputId": "defe2ca1-0e50-4668-e796-4b1914a580f5"
      },
      "execution_count": 72,
      "outputs": [
        {
          "output_type": "execute_result",
          "data": {
            "text/plain": [
              "[(1, 9), (2, 13), (3, 7), (4, 12), (5, 11), (6, 14), (7, 12), (8, 13), (9, 9)]"
            ]
          },
          "metadata": {},
          "execution_count": 72
        }
      ]
    },
    {
      "cell_type": "code",
      "source": [
        "dict(zip(key,value))"
      ],
      "metadata": {
        "colab": {
          "base_uri": "https://localhost:8080/"
        },
        "id": "fI2w8fp-krt7",
        "outputId": "42f27291-3e61-4ef3-d9d5-5fa572b0cc65"
      },
      "execution_count": 73,
      "outputs": [
        {
          "output_type": "execute_result",
          "data": {
            "text/plain": [
              "{1: 9, 2: 13, 3: 7, 4: 12, 5: 11, 6: 14, 7: 12, 8: 13, 9: 9}"
            ]
          },
          "metadata": {},
          "execution_count": 73
        }
      ]
    },
    {
      "cell_type": "code",
      "source": [
        "dict(zip(*np.unique(x, return_counts=True))) # 위와 같다."
      ],
      "metadata": {
        "colab": {
          "base_uri": "https://localhost:8080/"
        },
        "id": "ShGjyGl9lACJ",
        "outputId": "3a2169fc-8d53-43be-c693-6f6b6028e978"
      },
      "execution_count": 75,
      "outputs": [
        {
          "output_type": "execute_result",
          "data": {
            "text/plain": [
              "{1: 9, 2: 13, 3: 7, 4: 12, 5: 11, 6: 14, 7: 12, 8: 13, 9: 9}"
            ]
          },
          "metadata": {},
          "execution_count": 75
        }
      ]
    },
    {
      "cell_type": "code",
      "source": [],
      "metadata": {
        "id": "bAQI_rH_lS1S"
      },
      "execution_count": null,
      "outputs": []
    }
  ]
}