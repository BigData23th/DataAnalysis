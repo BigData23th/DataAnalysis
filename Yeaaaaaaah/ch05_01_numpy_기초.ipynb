{
  "nbformat": 4,
  "nbformat_minor": 0,
  "metadata": {
    "colab": {
      "provenance": [],
      "include_colab_link": true
    },
    "kernelspec": {
      "name": "python3",
      "display_name": "Python 3"
    },
    "language_info": {
      "name": "python"
    }
  },
  "cells": [
    {
      "cell_type": "markdown",
      "metadata": {
        "id": "view-in-github",
        "colab_type": "text"
      },
      "source": [
        "<a href=\"https://colab.research.google.com/github/Yeaaaaaaah/DataAnalysis/blob/main/Yeaaaaaaah/ch05_01_numpy_%EA%B8%B0%EC%B4%88.ipynb\" target=\"_parent\"><img src=\"https://colab.research.google.com/assets/colab-badge.svg\" alt=\"Open In Colab\"/></a>"
      ]
    },
    {
      "cell_type": "markdown",
      "source": [
        "# Numpy 기초"
      ],
      "metadata": {
        "id": "3vzkJFqn7psT"
      }
    },
    {
      "cell_type": "markdown",
      "source": [
        "## 배열(Array)\n",
        "* 많은 데이터를 하나의 변수에 넣는 법? : **리스트**\n",
        "* 하지만 리스트는...\n",
        "    * 속도가 느리다\n",
        "    * 메모리를 많이 차지한다\n",
        "\n",
        "> 그래서? **배열(Array)**을 사용한다\n",
        "\n",
        "* 적은 메모리로 많은 데이터를 빠르게 처리할 수 있음"
      ],
      "metadata": {
        "id": "03onuyb58F9z"
      }
    },
    {
      "cell_type": "markdown",
      "source": [
        "## 특징\n",
        "1. 모든 원소가 같은 **자료형**이어야 함\n",
        "2. 원소의 갯수를 바꿀 수 없음\n",
        "\n",
        "> 그런데 파이썬은 자체적으로 배열 자료형을 제공하지 않음<br>\n",
        "> 그래서 우리는 **넘파이(Numpy)** 패키지를 import해서 사용 "
      ],
      "metadata": {
        "id": "TZeeC4KLFqOe"
      }
    },
    {
      "cell_type": "code",
      "execution_count": 3,
      "metadata": {
        "id": "Rzperc7l7h0f"
      },
      "outputs": [],
      "source": [
        "#!pip install numpy\n",
        "import numpy as np"
      ]
    },
    {
      "cell_type": "markdown",
      "source": [
        "## 1차원 배열\n",
        "* 리스트나 튜플처럼 한 줄로 이루어진 형태의 배열"
      ],
      "metadata": {
        "id": "_HHBBVwc9IZS"
      }
    },
    {
      "cell_type": "code",
      "source": [
        "np.array([1, 2, 3])"
      ],
      "metadata": {
        "colab": {
          "base_uri": "https://localhost:8080/"
        },
        "id": "HLr3CcZ-9dXj",
        "outputId": "01de8b4a-21ac-48e9-fa9e-5e8d19625070"
      },
      "execution_count": 4,
      "outputs": [
        {
          "output_type": "execute_result",
          "data": {
            "text/plain": [
              "array([1, 2, 3])"
            ]
          },
          "metadata": {},
          "execution_count": 4
        }
      ]
    },
    {
      "cell_type": "code",
      "source": [
        "arr = np.array(range(10))\n",
        "arr, type(arr)"
      ],
      "metadata": {
        "colab": {
          "base_uri": "https://localhost:8080/"
        },
        "id": "a1Gxzmom9oP8",
        "outputId": "a91da2fe-c4ed-4c14-ce3a-3cf7ac4235bd"
      },
      "execution_count": 7,
      "outputs": [
        {
          "output_type": "execute_result",
          "data": {
            "text/plain": [
              "(array([0, 1, 2, 3, 4, 5, 6, 7, 8, 9]), numpy.ndarray)"
            ]
          },
          "metadata": {},
          "execution_count": 7
        }
      ]
    },
    {
      "cell_type": "markdown",
      "source": [
        "## ndarray\n",
        "* 배열 객체 타입(자료형)\n",
        "* 리스트와 동일해 보이지만 차이가 많음\n",
        "\n",
        "|자료형|특징|\n",
        "|:-|:-|\n",
        "|리스트(list)|각각의 원소가 다른 자료형이 될 수 있음|\n",
        "|배열(array)|연속적인 메모리 배치를 가지기 때문에 모든 원소가 같은 자료형이어야 함<br>원소에 대한 접근과 반복문 실행이 빨라짐|"
      ],
      "metadata": {
        "id": "RbEkqhfu9xc_"
      }
    },
    {
      "cell_type": "code",
      "source": [
        "import random\n",
        "def average_python(n):\n",
        "    '''\n",
        "    n개의 랜덤한 0~1의 실수를 평균해주는 함수\n",
        "    '''\n",
        "    s = 0 \n",
        "    for i in range(n):\n",
        "      s += random.random()\n",
        "    return s/n"
      ],
      "metadata": {
        "id": "Vm0w-m5Z-coU"
      },
      "execution_count": 10,
      "outputs": []
    },
    {
      "cell_type": "code",
      "source": [
        "%time average_python(100000)"
      ],
      "metadata": {
        "colab": {
          "base_uri": "https://localhost:8080/"
        },
        "id": "Bvc-p4F-_sNW",
        "outputId": "fe4402f3-8de2-45cf-c93a-e36f8cab8fd6"
      },
      "execution_count": 11,
      "outputs": [
        {
          "output_type": "stream",
          "name": "stdout",
          "text": [
            "CPU times: user 19.8 ms, sys: 0 ns, total: 19.8 ms\n",
            "Wall time: 24.5 ms\n"
          ]
        },
        {
          "output_type": "execute_result",
          "data": {
            "text/plain": [
              "0.49868123815205034"
            ]
          },
          "metadata": {},
          "execution_count": 11
        }
      ]
    },
    {
      "cell_type": "code",
      "source": [
        "%timeit average_python(100_000)"
      ],
      "metadata": {
        "colab": {
          "base_uri": "https://localhost:8080/"
        },
        "id": "QOz2rCJ_C0-U",
        "outputId": "2f28e822-ed9d-4c78-f96c-e45e0b42a2b3"
      },
      "execution_count": 12,
      "outputs": [
        {
          "output_type": "stream",
          "name": "stdout",
          "text": [
            "13.4 ms ± 2.64 ms per loop (mean ± std. dev. of 7 runs, 100 loops each)\n"
          ]
        }
      ]
    },
    {
      "cell_type": "code",
      "source": [
        "def average_numpy(n):\n",
        "    \"\"\"\n",
        "    n개의 랜덤한 0~1의 실수를 numpy를 사용해서 평균내는 함수\n",
        "    \"\"\"\n",
        "    s = np.random.random(n)\n",
        "    return s.mean()   #mean = 평균"
      ],
      "metadata": {
        "id": "_rfwW6Ge_tKu"
      },
      "execution_count": 15,
      "outputs": []
    },
    {
      "cell_type": "code",
      "source": [
        "from numpy.lib.function_base import average\n",
        "%time average_numpy(100_000)"
      ],
      "metadata": {
        "colab": {
          "base_uri": "https://localhost:8080/"
        },
        "id": "we169OAyBEXx",
        "outputId": "225fc2ed-de98-4397-a9b0-56333d1f15fd"
      },
      "execution_count": 16,
      "outputs": [
        {
          "output_type": "stream",
          "name": "stdout",
          "text": [
            "CPU times: user 2.53 ms, sys: 24 µs, total: 2.55 ms\n",
            "Wall time: 2.57 ms\n"
          ]
        },
        {
          "output_type": "execute_result",
          "data": {
            "text/plain": [
              "0.5005779227983933"
            ]
          },
          "metadata": {},
          "execution_count": 16
        }
      ]
    },
    {
      "cell_type": "code",
      "source": [
        "%timeit average_numpy(100_000)"
      ],
      "metadata": {
        "colab": {
          "base_uri": "https://localhost:8080/"
        },
        "id": "L8ugxO3OC5u6",
        "outputId": "dfd2db25-24d1-4c05-b718-0ca632f541cf"
      },
      "execution_count": 17,
      "outputs": [
        {
          "output_type": "stream",
          "name": "stdout",
          "text": [
            "951 µs ± 140 µs per loop (mean ± std. dev. of 7 runs, 1000 loops each)\n"
          ]
        }
      ]
    },
    {
      "cell_type": "markdown",
      "source": [
        "## 벡터화 연산\n",
        "* 배열 객체는 **배열의 각 원소에 대한 반복 연산을 하나의 명령어로 처리**하는 벡터화 연산(vectorized operation)을 지원"
      ],
      "metadata": {
        "id": "YpE_nZs6DNUs"
      }
    },
    {
      "cell_type": "code",
      "source": [
        "data = list(range(10))\n",
        "data"
      ],
      "metadata": {
        "colab": {
          "base_uri": "https://localhost:8080/"
        },
        "id": "4nAs9lrhDgsY",
        "outputId": "ea687ed9-3048-411f-b452-03403599997f"
      },
      "execution_count": 18,
      "outputs": [
        {
          "output_type": "execute_result",
          "data": {
            "text/plain": [
              "[0, 1, 2, 3, 4, 5, 6, 7, 8, 9]"
            ]
          },
          "metadata": {},
          "execution_count": 18
        }
      ]
    },
    {
      "cell_type": "code",
      "source": [
        "# 여러 개의 데이터를 모두 2배 할 때 (파이썬)\n",
        "%%time\n",
        "answer = []\n",
        "for v in data:\n",
        "  answer.append(v *2)\n",
        "answer "
      ],
      "metadata": {
        "colab": {
          "base_uri": "https://localhost:8080/"
        },
        "id": "YMMhJLA9Dnjt",
        "outputId": "386142cd-7c8e-4900-a97d-d50245dc417e"
      },
      "execution_count": 19,
      "outputs": [
        {
          "output_type": "stream",
          "name": "stdout",
          "text": [
            "CPU times: user 26 µs, sys: 1 µs, total: 27 µs\n",
            "Wall time: 32.7 µs\n"
          ]
        },
        {
          "output_type": "execute_result",
          "data": {
            "text/plain": [
              "[0, 2, 4, 6, 8, 10, 12, 14, 16, 18]"
            ]
          },
          "metadata": {},
          "execution_count": 19
        }
      ]
    },
    {
      "cell_type": "code",
      "source": [
        "# 리스트 컴프리헨션\n",
        "%%time\n",
        "[v*2 for v in data]"
      ],
      "metadata": {
        "colab": {
          "base_uri": "https://localhost:8080/"
        },
        "id": "SHzLz6ghEKIY",
        "outputId": "a118e562-312a-4011-bb02-278e47222a40"
      },
      "execution_count": 21,
      "outputs": [
        {
          "output_type": "stream",
          "name": "stdout",
          "text": [
            "CPU times: user 10 µs, sys: 0 ns, total: 10 µs\n",
            "Wall time: 14.5 µs\n"
          ]
        },
        {
          "output_type": "execute_result",
          "data": {
            "text/plain": [
              "[0, 2, 4, 6, 8, 10, 12, 14, 16, 18]"
            ]
          },
          "metadata": {},
          "execution_count": 21
        }
      ]
    },
    {
      "cell_type": "code",
      "source": [
        "# 리스트 컴프리헨션\n",
        "%%timeit\n",
        "[v*2 for v in data]"
      ],
      "metadata": {
        "colab": {
          "base_uri": "https://localhost:8080/"
        },
        "id": "1V6UkSYVwA-8",
        "outputId": "bba5d08c-ee57-42c9-a713-f0d93d609adb"
      },
      "execution_count": 22,
      "outputs": [
        {
          "output_type": "stream",
          "name": "stdout",
          "text": [
            "792 ns ± 17.5 ns per loop (mean ± std. dev. of 7 runs, 1000000 loops each)\n"
          ]
        }
      ]
    },
    {
      "cell_type": "code",
      "source": [
        "# 벡터화 연산\n",
        "arr = np.array(data)\n",
        "arr"
      ],
      "metadata": {
        "colab": {
          "base_uri": "https://localhost:8080/"
        },
        "id": "8uD4qG7yEUlU",
        "outputId": "d5819807-6fc3-45f2-a8e8-53ade77f58af"
      },
      "execution_count": 23,
      "outputs": [
        {
          "output_type": "execute_result",
          "data": {
            "text/plain": [
              "array([0, 1, 2, 3, 4, 5, 6, 7, 8, 9])"
            ]
          },
          "metadata": {},
          "execution_count": 23
        }
      ]
    },
    {
      "cell_type": "code",
      "source": [
        "%time arr * 2"
      ],
      "metadata": {
        "colab": {
          "base_uri": "https://localhost:8080/"
        },
        "id": "Di07DfgYEaUp",
        "outputId": "3dec05fb-dfa0-45a8-861e-e023efd08c1c"
      },
      "execution_count": 25,
      "outputs": [
        {
          "output_type": "stream",
          "name": "stdout",
          "text": [
            "CPU times: user 54 µs, sys: 0 ns, total: 54 µs\n",
            "Wall time: 58.2 µs\n"
          ]
        },
        {
          "output_type": "execute_result",
          "data": {
            "text/plain": [
              "array([ 0,  2,  4,  6,  8, 10, 12, 14, 16, 18])"
            ]
          },
          "metadata": {},
          "execution_count": 25
        }
      ]
    },
    {
      "cell_type": "code",
      "source": [
        "# 리스트 객체에 정수를 곱하면 객체의 크기가 해당 정수 배만큼 증가\n",
        "%timeit arr * 2"
      ],
      "metadata": {
        "colab": {
          "base_uri": "https://localhost:8080/"
        },
        "id": "o7TyxzkHEePJ",
        "outputId": "3ec2fa19-b350-45c3-cbb3-0b3e1c710069"
      },
      "execution_count": 26,
      "outputs": [
        {
          "output_type": "stream",
          "name": "stdout",
          "text": [
            "1.25 µs ± 461 ns per loop (mean ± std. dev. of 7 runs, 1000000 loops each)\n"
          ]
        }
      ]
    },
    {
      "cell_type": "markdown",
      "source": [
        "* 벡터화 연산은 비교 연산과 논리 연산을 포함한 모든 종류의 수학 연산에 대해 적용"
      ],
      "metadata": {
        "id": "zQ1rWyKGExLh"
      }
    },
    {
      "cell_type": "code",
      "source": [
        "a = np.array(range(1,4))\n",
        "b = np.array(range(10, 40, 10))\n",
        "a,b"
      ],
      "metadata": {
        "colab": {
          "base_uri": "https://localhost:8080/"
        },
        "id": "Ln3pwEyLFA1n",
        "outputId": "c45cd547-7707-4fa9-b272-56181079a326"
      },
      "execution_count": 29,
      "outputs": [
        {
          "output_type": "execute_result",
          "data": {
            "text/plain": [
              "(array([1, 2, 3]), array([10, 20, 30]))"
            ]
          },
          "metadata": {},
          "execution_count": 29
        }
      ]
    },
    {
      "cell_type": "code",
      "source": [
        "a * 2 + b"
      ],
      "metadata": {
        "colab": {
          "base_uri": "https://localhost:8080/"
        },
        "id": "zGfFqMi6FFZr",
        "outputId": "046c5f91-a309-4417-fa98-34f5606725d1"
      },
      "execution_count": 30,
      "outputs": [
        {
          "output_type": "execute_result",
          "data": {
            "text/plain": [
              "array([12, 24, 36])"
            ]
          },
          "metadata": {},
          "execution_count": 30
        }
      ]
    },
    {
      "cell_type": "code",
      "source": [
        "a == 2 # 산술 연산"
      ],
      "metadata": {
        "colab": {
          "base_uri": "https://localhost:8080/"
        },
        "id": "Sk7v0Zc2FNVn",
        "outputId": "c05c1ff3-c9b9-46cb-fe21-28eddbfdccb2"
      },
      "execution_count": 31,
      "outputs": [
        {
          "output_type": "execute_result",
          "data": {
            "text/plain": [
              "array([False,  True, False])"
            ]
          },
          "metadata": {},
          "execution_count": 31
        }
      ]
    },
    {
      "cell_type": "code",
      "source": [
        "a == 2, b > 10 # 비교연산"
      ],
      "metadata": {
        "colab": {
          "base_uri": "https://localhost:8080/"
        },
        "id": "TKIf8dFnFSdh",
        "outputId": "1d2f86f7-683f-43dd-fa86-8c7a6ea9cbf5"
      },
      "execution_count": 33,
      "outputs": [
        {
          "output_type": "execute_result",
          "data": {
            "text/plain": [
              "(array([False,  True, False]), array([False,  True,  True]))"
            ]
          },
          "metadata": {},
          "execution_count": 33
        }
      ]
    },
    {
      "cell_type": "code",
      "source": [
        "(a==2) & (b>10), (a==2) | (b>10), "
      ],
      "metadata": {
        "colab": {
          "base_uri": "https://localhost:8080/"
        },
        "id": "jHAwUO4txVAB",
        "outputId": "a0d51030-e02d-4b41-e198-d1ae6b1e38a2"
      },
      "execution_count": 37,
      "outputs": [
        {
          "output_type": "execute_result",
          "data": {
            "text/plain": [
              "(array([False,  True, False]), array([False,  True,  True]))"
            ]
          },
          "metadata": {},
          "execution_count": 37
        }
      ]
    },
    {
      "cell_type": "code",
      "source": [
        "(a==2) and (b>10), (a==2) or (b>10)"
      ],
      "metadata": {
        "colab": {
          "base_uri": "https://localhost:8080/",
          "height": 172
        },
        "id": "V0wawErixZEn",
        "outputId": "0c19cdce-4a6a-4c7c-a94a-04f076325cae"
      },
      "execution_count": 38,
      "outputs": [
        {
          "output_type": "error",
          "ename": "ValueError",
          "evalue": "ignored",
          "traceback": [
            "\u001b[0;31m---------------------------------------------------------------------------\u001b[0m",
            "\u001b[0;31mValueError\u001b[0m                                Traceback (most recent call last)",
            "\u001b[0;32m<ipython-input-38-17c6c78d1af6>\u001b[0m in \u001b[0;36m<module>\u001b[0;34m\u001b[0m\n\u001b[0;32m----> 1\u001b[0;31m \u001b[0;34m(\u001b[0m\u001b[0ma\u001b[0m\u001b[0;34m==\u001b[0m\u001b[0;36m2\u001b[0m\u001b[0;34m)\u001b[0m \u001b[0;32mand\u001b[0m \u001b[0;34m(\u001b[0m\u001b[0mb\u001b[0m\u001b[0;34m>\u001b[0m\u001b[0;36m10\u001b[0m\u001b[0;34m)\u001b[0m\u001b[0;34m,\u001b[0m \u001b[0;34m(\u001b[0m\u001b[0ma\u001b[0m\u001b[0;34m==\u001b[0m\u001b[0;36m2\u001b[0m\u001b[0;34m)\u001b[0m \u001b[0;32mor\u001b[0m \u001b[0;34m(\u001b[0m\u001b[0mb\u001b[0m\u001b[0;34m>\u001b[0m\u001b[0;36m10\u001b[0m\u001b[0;34m)\u001b[0m\u001b[0;34m\u001b[0m\u001b[0;34m\u001b[0m\u001b[0m\n\u001b[0m",
            "\u001b[0;31mValueError\u001b[0m: The truth value of an array with more than one element is ambiguous. Use a.any() or a.all()"
          ]
        }
      ]
    },
    {
      "cell_type": "markdown",
      "source": [
        "## 2차원 배열\n",
        "* `ndarray`는 N-dimensional Array의 약자, 즉 1차원 배열 이외에도 2차원 배열, 3차원 배열 등의 다차원 배열 자료 구조를 지원\n",
        "* 2차원 배열 = 행렬 (matrix)\n",
        "* 가로줄 : 행(row), 세로줄 : 열(column)\n",
        "> 엑셀 스프레드시트와 같은 형태의 배열\n",
        "\n",
        "* 리스트의 리스트(list of list)를 이용하여 2차원 배열 생성\n",
        "    * 안쪽 리스트의 길이 : 행렬의 열의 수 (가로 크기)\n",
        "    * 바깥쪽 리스트의 길이 : 행렬의 행의 수 (세로 크기)"
      ],
      "metadata": {
        "id": "6E8zYWggFjXD"
      }
    },
    {
      "cell_type": "code",
      "source": [
        "arr = np.array([[0,1,2],[3,4,5]])\n",
        "arr"
      ],
      "metadata": {
        "colab": {
          "base_uri": "https://localhost:8080/"
        },
        "id": "mvYB4aigFaBi",
        "outputId": "24021c24-ccd7-4d86-d391-24064b4cbe27"
      },
      "execution_count": 39,
      "outputs": [
        {
          "output_type": "execute_result",
          "data": {
            "text/plain": [
              "array([[0, 1, 2],\n",
              "       [3, 4, 5]])"
            ]
          },
          "metadata": {},
          "execution_count": 39
        }
      ]
    },
    {
      "cell_type": "code",
      "source": [
        "# 행의 갯수, 열의 갯수\n",
        "len(arr), len(arr[0])"
      ],
      "metadata": {
        "colab": {
          "base_uri": "https://localhost:8080/"
        },
        "id": "hJKXy_1vHTID",
        "outputId": "03a9dc11-e643-4797-8e74-16c3f3185eb0"
      },
      "execution_count": 40,
      "outputs": [
        {
          "output_type": "execute_result",
          "data": {
            "text/plain": [
              "(2, 3)"
            ]
          },
          "metadata": {},
          "execution_count": 40
        }
      ]
    },
    {
      "cell_type": "markdown",
      "source": [
        "## 💡 연습문제 1\n",
        "> 아래 모양의 행렬 만들어 보기\n",
        "```\n",
        "10 20 30 40\n",
        "50 60 70 80\n",
        "```"
      ],
      "metadata": {
        "id": "mvQeMqWwIxGe"
      }
    },
    {
      "cell_type": "code",
      "source": [
        "arr = np.array([[10, 20, 30, 40],[50, 60, 70, 80]])\n",
        "arr"
      ],
      "metadata": {
        "colab": {
          "base_uri": "https://localhost:8080/"
        },
        "id": "_4AEiANZI6CN",
        "outputId": "a0bc3d7f-d7ef-4440-cd1b-bb11cb226a62"
      },
      "execution_count": 43,
      "outputs": [
        {
          "output_type": "execute_result",
          "data": {
            "text/plain": [
              "array([[10, 20, 30, 40],\n",
              "       [50, 60, 70, 80]])"
            ]
          },
          "metadata": {},
          "execution_count": 43
        }
      ]
    },
    {
      "cell_type": "code",
      "source": [
        "np.array([\n",
        "    [10, 20, 30, 40],\n",
        "    [50, 60, 70, 80]\n",
        "])"
      ],
      "metadata": {
        "colab": {
          "base_uri": "https://localhost:8080/"
        },
        "id": "3KDk77KCJFvH",
        "outputId": "0a291f3c-22df-49fa-fa93-bfbf41f9e56e"
      },
      "execution_count": 49,
      "outputs": [
        {
          "output_type": "execute_result",
          "data": {
            "text/plain": [
              "array([[10, 20, 30, 40],\n",
              "       [50, 60, 70, 80]])"
            ]
          },
          "metadata": {},
          "execution_count": 49
        }
      ]
    },
    {
      "cell_type": "code",
      "source": [
        "np.array([\n",
        "    [1, 2, 3, 4],\n",
        "    [5, 6, 7, 8]\n",
        "]) * 10"
      ],
      "metadata": {
        "colab": {
          "base_uri": "https://localhost:8080/"
        },
        "id": "rKteTboc3j_t",
        "outputId": "d8df6e94-08bc-4e15-a2ca-1d51383b110c"
      },
      "execution_count": 50,
      "outputs": [
        {
          "output_type": "execute_result",
          "data": {
            "text/plain": [
              "array([[10, 20, 30, 40],\n",
              "       [50, 60, 70, 80]])"
            ]
          },
          "metadata": {},
          "execution_count": 50
        }
      ]
    },
    {
      "cell_type": "code",
      "source": [
        "np.arange(10, 90, 10).reshape(2,-1)"
      ],
      "metadata": {
        "colab": {
          "base_uri": "https://localhost:8080/"
        },
        "id": "UEkzkZda34i1",
        "outputId": "ddff5e21-2b74-4730-9bd1-3602a102594f"
      },
      "execution_count": 52,
      "outputs": [
        {
          "output_type": "execute_result",
          "data": {
            "text/plain": [
              "array([[10, 20, 30, 40],\n",
              "       [50, 60, 70, 80]])"
            ]
          },
          "metadata": {},
          "execution_count": 52
        }
      ]
    },
    {
      "cell_type": "code",
      "source": [
        "(np.arange(1, 9)* 10).reshape(2,-1)"
      ],
      "metadata": {
        "colab": {
          "base_uri": "https://localhost:8080/"
        },
        "id": "tWzAyNIC3_yW",
        "outputId": "0beb12f4-5223-4ab0-ffb9-85cafb86c939"
      },
      "execution_count": 53,
      "outputs": [
        {
          "output_type": "execute_result",
          "data": {
            "text/plain": [
              "array([[10, 20, 30, 40],\n",
              "       [50, 60, 70, 80]])"
            ]
          },
          "metadata": {},
          "execution_count": 53
        }
      ]
    },
    {
      "cell_type": "markdown",
      "source": [
        "## 3차원 배열"
      ],
      "metadata": {
        "id": "OrnOIxEVHiJo"
      }
    },
    {
      "cell_type": "code",
      "source": [
        "# 크기를 나타낼 때는 가장 바깥쪽 리스트의 길이부터 가장 안쪽 리스트 길이의 순서로 표시\n",
        "# m : matrix\n",
        "# t : three-dimention\n",
        "t = np.array(\n",
        "    [[\n",
        "        [1,2,3,4],\n",
        "     [5,6,7,8],\n",
        "     [9,10,11,12]\n",
        "    ], [\n",
        "        [11,12,13,14],\n",
        "        [15,16,17,18],\n",
        "        [19,20,21,22]\n",
        "    ]]\n",
        ") # 2 x 3 x 4 배열식, 깊이 x 행 x 열\n",
        "t"
      ],
      "metadata": {
        "colab": {
          "base_uri": "https://localhost:8080/"
        },
        "id": "wE7xDF6NJXYQ",
        "outputId": "f3cf2ff3-4368-4f3a-ab8c-3ad6ea253b28"
      },
      "execution_count": 56,
      "outputs": [
        {
          "output_type": "execute_result",
          "data": {
            "text/plain": [
              "array([[[ 1,  2,  3,  4],\n",
              "        [ 5,  6,  7,  8],\n",
              "        [ 9, 10, 11, 12]],\n",
              "\n",
              "       [[11, 12, 13, 14],\n",
              "        [15, 16, 17, 18],\n",
              "        [19, 20, 21, 22]]])"
            ]
          },
          "metadata": {},
          "execution_count": 56
        }
      ]
    },
    {
      "cell_type": "code",
      "source": [
        "# 깊이, 행, 열\n",
        "len(t), len(t[0]), len(t[0][0])"
      ],
      "metadata": {
        "colab": {
          "base_uri": "https://localhost:8080/"
        },
        "id": "vBdM_eKFJ9R-",
        "outputId": "b17e7587-67bf-4dcc-b49b-5c1dddd9e549"
      },
      "execution_count": 57,
      "outputs": [
        {
          "output_type": "execute_result",
          "data": {
            "text/plain": [
              "(2, 3, 4)"
            ]
          },
          "metadata": {},
          "execution_count": 57
        }
      ]
    },
    {
      "cell_type": "markdown",
      "source": [
        "## 배열의 차원과 크기 알아내기\n",
        "* `ndim`, `shape` **속성** 사용\n",
        "> 속성 : 괄호 없이 이름만 써서 값을 호출\n",
        "\n",
        "* `ndim` : 배열의 차원\n",
        "* `shape` : 배열의 크기"
      ],
      "metadata": {
        "id": "opiM0LNJKNTh"
      }
    },
    {
      "cell_type": "code",
      "source": [
        "a = np.array(range(1,4))\n",
        "a"
      ],
      "metadata": {
        "colab": {
          "base_uri": "https://localhost:8080/"
        },
        "id": "o3Aok_LtKmk1",
        "outputId": "ccfaf218-b38d-4492-e3ac-6b452cf0089c"
      },
      "execution_count": 58,
      "outputs": [
        {
          "output_type": "execute_result",
          "data": {
            "text/plain": [
              "array([1, 2, 3])"
            ]
          },
          "metadata": {},
          "execution_count": 58
        }
      ]
    },
    {
      "cell_type": "code",
      "source": [
        "a.ndim , a.shape  #속성들.*뒤에 매서드를 나타내는()가없다* 순서대로 차원, 크기"
      ],
      "metadata": {
        "colab": {
          "base_uri": "https://localhost:8080/"
        },
        "id": "9DMGQgWZKuwT",
        "outputId": "2e2143f8-79ed-40b7-e417-fb471ea2af9f"
      },
      "execution_count": 60,
      "outputs": [
        {
          "output_type": "execute_result",
          "data": {
            "text/plain": [
              "(1, (3,))"
            ]
          },
          "metadata": {},
          "execution_count": 60
        }
      ]
    },
    {
      "cell_type": "code",
      "source": [
        "m = np.array((range(3),range(3,6)))\n",
        "m"
      ],
      "metadata": {
        "colab": {
          "base_uri": "https://localhost:8080/"
        },
        "id": "0ExnZUCHK057",
        "outputId": "b1106997-03d4-4dfb-fb2b-9b0a176bc03a"
      },
      "execution_count": 62,
      "outputs": [
        {
          "output_type": "execute_result",
          "data": {
            "text/plain": [
              "array([[0, 1, 2],\n",
              "       [3, 4, 5]])"
            ]
          },
          "metadata": {},
          "execution_count": 62
        }
      ]
    },
    {
      "cell_type": "code",
      "source": [
        "m.ndim, m.shape"
      ],
      "metadata": {
        "colab": {
          "base_uri": "https://localhost:8080/"
        },
        "id": "TCOICfK25z65",
        "outputId": "296de498-b9bd-44f9-a549-1a3f5f74e0b3"
      },
      "execution_count": 65,
      "outputs": [
        {
          "output_type": "execute_result",
          "data": {
            "text/plain": [
              "(2, (2, 3))"
            ]
          },
          "metadata": {},
          "execution_count": 65
        }
      ]
    },
    {
      "cell_type": "code",
      "source": [
        "t.ndim, t.shape"
      ],
      "metadata": {
        "colab": {
          "base_uri": "https://localhost:8080/"
        },
        "id": "KaV_gIVY6IIL",
        "outputId": "cfe73470-323f-4d6e-ec6d-6628c67e5b1b"
      },
      "execution_count": 66,
      "outputs": [
        {
          "output_type": "execute_result",
          "data": {
            "text/plain": [
              "(3, (2, 3, 4))"
            ]
          },
          "metadata": {},
          "execution_count": 66
        }
      ]
    },
    {
      "cell_type": "markdown",
      "source": [
        "## 배열의 복사\n",
        "* copy와 view의 차이점은 copy는 새 배열(깊은 복사)이고 view는 원래 배열과 연결 되어 있다는 것(얕은 복사)\n",
        "* copy는 데이터를 소유하며 copy에 대한 변경 사항은 원본 배열에 영향을 미치지 않으며 원본 배열에 대한 변경은 copy에 영향을 주지 않음\n",
        "* view는 데이터를 소유하지 않으며 view에 대한 모든 변경 사항은 원래 배열에 영향을 미치고 원래 배열에 대한 모든 변경 사항은 보기에 영향을 줌"
      ],
      "metadata": {
        "id": "cJZkK8_dQxfm"
      }
    },
    {
      "cell_type": "code",
      "source": [
        "import numpy as np\n",
        "\n",
        "arr = np.array(range(1, 6))\n",
        "x = arr.copy()\n",
        "arr[0] = 40\n",
        "print(f\"arr: {arr}\")\n",
        "print(f\"x: {x}\")"
      ],
      "metadata": {
        "colab": {
          "base_uri": "https://localhost:8080/"
        },
        "id": "4y-KxTbuQ0xj",
        "outputId": "9dac1016-0165-48da-ed51-ce6e26aab2c3"
      },
      "execution_count": 69,
      "outputs": [
        {
          "output_type": "stream",
          "name": "stdout",
          "text": [
            "arr: [40  2  3  4  5]\n",
            "x: [1 2 3 4 5]\n"
          ]
        }
      ]
    },
    {
      "cell_type": "code",
      "source": [
        "arr = np.array(range(1, 6))\n",
        "x = arr.view()  #x = arr 과 같은데 view쓰는 이유는 타입을 바꿀때 사용처가있다.\n",
        "arr[0] = 40\n",
        "print(f\"arr: {arr}\")\n",
        "print(f\"x: {x}\")"
      ],
      "metadata": {
        "colab": {
          "base_uri": "https://localhost:8080/"
        },
        "id": "TIAvNSlnQ2hY",
        "outputId": "676e832d-a0f0-4631-c0b7-dea48a1329f3"
      },
      "execution_count": 70,
      "outputs": [
        {
          "output_type": "stream",
          "name": "stdout",
          "text": [
            "arr: [40  2  3  4  5]\n",
            "x: [40  2  3  4  5]\n"
          ]
        }
      ]
    },
    {
      "cell_type": "code",
      "source": [
        "import numpy as np\n",
        "\n",
        "arr = np.array(range(1,6))\n",
        "\n",
        "x = arr.copy()\n",
        "y = arr.view()\n",
        "\n",
        "#배열 데이터 소유 여부 반환\n",
        "print(x.base)\n",
        "print(y.base)"
      ],
      "metadata": {
        "colab": {
          "base_uri": "https://localhost:8080/"
        },
        "id": "9swwITkeQ7I8",
        "outputId": "708ae63e-e526-45eb-a5a6-544e9dbda25a"
      },
      "execution_count": 71,
      "outputs": [
        {
          "output_type": "stream",
          "name": "stdout",
          "text": [
            "None\n",
            "[1 2 3 4 5]\n"
          ]
        }
      ]
    },
    {
      "cell_type": "markdown",
      "source": [
        "## 배열의 인덱싱"
      ],
      "metadata": {
        "id": "XRqTwPdrOLj2"
      }
    },
    {
      "cell_type": "markdown",
      "source": [
        "### 일차원 배열\n",
        "* 리스트의 인덱싱과 같음"
      ],
      "metadata": {
        "id": "Wws5jAiwPLY6"
      }
    },
    {
      "cell_type": "code",
      "source": [
        "a = np.array(range(5))\n",
        "print(a)\n",
        "a[2], a[-1]"
      ],
      "metadata": {
        "colab": {
          "base_uri": "https://localhost:8080/"
        },
        "id": "xvVO2hmBOOwr",
        "outputId": "40a3a7ac-59f9-41a2-8c63-aa7abce78e0c"
      },
      "execution_count": 72,
      "outputs": [
        {
          "output_type": "stream",
          "name": "stdout",
          "text": [
            "[0 1 2 3 4]\n"
          ]
        },
        {
          "output_type": "execute_result",
          "data": {
            "text/plain": [
              "(2, 4)"
            ]
          },
          "metadata": {},
          "execution_count": 72
        }
      ]
    },
    {
      "cell_type": "markdown",
      "source": [
        "### 다차원 배열\n",
        "* 콤마(comma, `,`)를 사용하여 접근\n",
        "* 콤마로 구분된 차원을 축(axis)라고 함\n",
        "    * like 그래프의 x축, y축"
      ],
      "metadata": {
        "id": "2fOOjLQoOn5h"
      }
    },
    {
      "cell_type": "code",
      "source": [
        "b = np.array([[0,1,2], [3,4,5]])\n",
        "print(b, b.ndim, b.shape)"
      ],
      "metadata": {
        "colab": {
          "base_uri": "https://localhost:8080/"
        },
        "id": "FASAOAE-Okqu",
        "outputId": "65d326d9-d3c4-4522-835d-4d1a0cc77630"
      },
      "execution_count": 75,
      "outputs": [
        {
          "output_type": "stream",
          "name": "stdout",
          "text": [
            "[[0 1 2]\n",
            " [3 4 5]] 2 (2, 3)\n"
          ]
        }
      ]
    },
    {
      "cell_type": "code",
      "source": [
        "# b [0][0]\n",
        "b[0,0] # 첫번째 행의 첫번째 열"
      ],
      "metadata": {
        "colab": {
          "base_uri": "https://localhost:8080/"
        },
        "id": "pOVefqrYO5LK",
        "outputId": "f1779a15-3dc1-4f37-edc4-1a88f13cf180"
      },
      "execution_count": null,
      "outputs": [
        {
          "output_type": "execute_result",
          "data": {
            "text/plain": [
              "0"
            ]
          },
          "metadata": {},
          "execution_count": 76
        }
      ]
    },
    {
      "cell_type": "code",
      "source": [
        "b[0,1] # 첫번째 행의 두번째 열"
      ],
      "metadata": {
        "colab": {
          "base_uri": "https://localhost:8080/"
        },
        "id": "oU2ZsFukO93q",
        "outputId": "c2afe91c-1973-42e7-eb32-7230d63d92a3"
      },
      "execution_count": null,
      "outputs": [
        {
          "output_type": "execute_result",
          "data": {
            "text/plain": [
              "1"
            ]
          },
          "metadata": {},
          "execution_count": 77
        }
      ]
    },
    {
      "cell_type": "code",
      "source": [
        "b[ -1,-1] # 마지막 행의 마지막 열"
      ],
      "metadata": {
        "colab": {
          "base_uri": "https://localhost:8080/"
        },
        "id": "TEobJ50IPCPt",
        "outputId": "be45d7b2-9291-4cfe-ddb8-3af23d9f5509"
      },
      "execution_count": 76,
      "outputs": [
        {
          "output_type": "execute_result",
          "data": {
            "text/plain": [
              "5"
            ]
          },
          "metadata": {},
          "execution_count": 76
        }
      ]
    },
    {
      "cell_type": "markdown",
      "source": [
        "## 배열 슬라이싱\n",
        "* 다차원 배열의 원소 중 2개 이상의 복수 개를 접근하려면 일반적인 파이썬 슬라이싱(slicing)과 comma(,)를 함께 사용"
      ],
      "metadata": {
        "id": "kk2Ri7rSPVi2"
      }
    },
    {
      "cell_type": "code",
      "source": [
        "a = np.array((range(4),range(4,8)))\n",
        "a"
      ],
      "metadata": {
        "colab": {
          "base_uri": "https://localhost:8080/"
        },
        "id": "jEziuEkEPH6D",
        "outputId": "a7bde0e1-55f9-43e8-c012-740895fe874b"
      },
      "execution_count": 77,
      "outputs": [
        {
          "output_type": "execute_result",
          "data": {
            "text/plain": [
              "array([[0, 1, 2, 3],\n",
              "       [4, 5, 6, 7]])"
            ]
          },
          "metadata": {},
          "execution_count": 77
        }
      ]
    },
    {
      "cell_type": "code",
      "source": [
        "# a[0]\n",
        "a[0, :] #두줄 다 첫번째 행의 전체 열을 나타냄"
      ],
      "metadata": {
        "colab": {
          "base_uri": "https://localhost:8080/"
        },
        "id": "LUww2ZaXP3aW",
        "outputId": "1260d1fd-fbf0-4064-8eb2-749325d973e4"
      },
      "execution_count": 80,
      "outputs": [
        {
          "output_type": "execute_result",
          "data": {
            "text/plain": [
              "array([0, 1, 2, 3])"
            ]
          },
          "metadata": {},
          "execution_count": 80
        }
      ]
    },
    {
      "cell_type": "code",
      "source": [
        "#두번째 열 전체( 모든 행의 두번째 열)\n",
        "a[: , 1]"
      ],
      "metadata": {
        "colab": {
          "base_uri": "https://localhost:8080/"
        },
        "id": "eV47P625P6y2",
        "outputId": "466e0491-82c1-486a-870e-7d4bf3836b6a"
      },
      "execution_count": 81,
      "outputs": [
        {
          "output_type": "execute_result",
          "data": {
            "text/plain": [
              "array([1, 5])"
            ]
          },
          "metadata": {},
          "execution_count": 81
        }
      ]
    },
    {
      "cell_type": "code",
      "source": [
        "a[1, 1:] # 두번째 행의 두번째 열부터 끝열까지"
      ],
      "metadata": {
        "colab": {
          "base_uri": "https://localhost:8080/"
        },
        "id": "YKbC_X9kP92W",
        "outputId": "b08cb1bd-bf35-435b-dade-da62089fa26c"
      },
      "execution_count": 83,
      "outputs": [
        {
          "output_type": "execute_result",
          "data": {
            "text/plain": [
              "array([5, 6, 7])"
            ]
          },
          "metadata": {},
          "execution_count": 83
        }
      ]
    },
    {
      "cell_type": "code",
      "source": [
        "#첫번째 행에서 두번째행까지, 첫번째 열에서 두번째 열까지\n",
        "a[:2, :2]"
      ],
      "metadata": {
        "colab": {
          "base_uri": "https://localhost:8080/"
        },
        "id": "1sr6bOUk-GxJ",
        "outputId": "c39e5979-57a4-4938-b8bb-7a46127df4c8"
      },
      "execution_count": 85,
      "outputs": [
        {
          "output_type": "execute_result",
          "data": {
            "text/plain": [
              "array([[0, 1],\n",
              "       [4, 5]])"
            ]
          },
          "metadata": {},
          "execution_count": 85
        }
      ]
    },
    {
      "cell_type": "code",
      "source": [
        "#세번째 행에서 끝까지, 세번째 열에서 끝까지\n",
        "a[2:,2:]"
      ],
      "metadata": {
        "colab": {
          "base_uri": "https://localhost:8080/"
        },
        "id": "Ho49wa7h-Uoq",
        "outputId": "e0ff6bd7-047e-4ad7-a4e3-2c90ed755c67"
      },
      "execution_count": 87,
      "outputs": [
        {
          "output_type": "execute_result",
          "data": {
            "text/plain": [
              "array([], shape=(0, 2), dtype=int64)"
            ]
          },
          "metadata": {},
          "execution_count": 87
        }
      ]
    },
    {
      "cell_type": "markdown",
      "source": [
        "## 💡 연습문제 2"
      ],
      "metadata": {
        "id": "lDNHCVY6Qiu5"
      }
    },
    {
      "cell_type": "code",
      "source": [
        "m = np.array([[0,  1,  2,  3,  4],\n",
        "              [5,  6,  7,  8,  9],\n",
        "              [10, 11, 12, 13, 14]])\n",
        "m"
      ],
      "metadata": {
        "colab": {
          "base_uri": "https://localhost:8080/"
        },
        "id": "5tgbgqY4QHZY",
        "outputId": "2c7d4992-4fb9-48b5-e3a3-8a7d6199b850"
      },
      "execution_count": 92,
      "outputs": [
        {
          "output_type": "execute_result",
          "data": {
            "text/plain": [
              "array([[ 0,  1,  2,  3,  4],\n",
              "       [ 5,  6,  7,  8,  9],\n",
              "       [10, 11, 12, 13, 14]])"
            ]
          },
          "metadata": {},
          "execution_count": 92
        }
      ]
    },
    {
      "cell_type": "code",
      "source": [
        "#@markdown (1) 값 7을 인덱싱\n",
        "m[1,2], m[1, -3], m[-2,2], m[-2,-3]"
      ],
      "metadata": {
        "colab": {
          "base_uri": "https://localhost:8080/"
        },
        "id": "YqURbl2pQiFM",
        "outputId": "6210bd32-cc59-4a45-f0fb-88f5326d9d82"
      },
      "execution_count": 96,
      "outputs": [
        {
          "output_type": "execute_result",
          "data": {
            "text/plain": [
              "(7, 7, 7, 7)"
            ]
          },
          "metadata": {},
          "execution_count": 96
        }
      ]
    },
    {
      "cell_type": "code",
      "source": [
        "#@markdown (2) 값 14을 인덱싱\n",
        "m[2,4], m[2,-1], m[-1,4], m[-1,-1]"
      ],
      "metadata": {
        "colab": {
          "base_uri": "https://localhost:8080/"
        },
        "id": "p2mG56nLQzY0",
        "outputId": "7b1c842b-8dc7-4c2e-e580-5d9c2e935555"
      },
      "execution_count": 98,
      "outputs": [
        {
          "output_type": "execute_result",
          "data": {
            "text/plain": [
              "(14, 14, 14, 14)"
            ]
          },
          "metadata": {},
          "execution_count": 98
        }
      ]
    },
    {
      "cell_type": "code",
      "source": [
        "#@markdown (3) 배열 [6,7]을 슬라이싱\n",
        "m[1, 1:3], m[-2, 1:3], m[1, -4:-2]"
      ],
      "metadata": {
        "colab": {
          "base_uri": "https://localhost:8080/"
        },
        "id": "UISviULMRLnz",
        "outputId": "063a37c4-d468-46cb-a99b-0f9b2c668fab"
      },
      "execution_count": 101,
      "outputs": [
        {
          "output_type": "execute_result",
          "data": {
            "text/plain": [
              "(array([6, 7]), array([6, 7]), array([6, 7]))"
            ]
          },
          "metadata": {},
          "execution_count": 101
        }
      ]
    },
    {
      "cell_type": "code",
      "source": [
        "#@markdown (4) 배열 [7,12]을 슬라이싱\n",
        "m[1:,2], m[-2:,2], m[1:,-3], m[-2:,-3]"
      ],
      "metadata": {
        "colab": {
          "base_uri": "https://localhost:8080/"
        },
        "id": "yib_p8kFRbEb",
        "outputId": "6171909e-908a-41cf-e51e-10a44a748566"
      },
      "execution_count": 104,
      "outputs": [
        {
          "output_type": "execute_result",
          "data": {
            "text/plain": [
              "(array([ 7, 12]), array([ 7, 12]), array([ 7, 12]), array([ 7, 12]))"
            ]
          },
          "metadata": {},
          "execution_count": 104
        }
      ]
    },
    {
      "cell_type": "code",
      "source": [
        "#@markdown (5) 배열 [[3,4],[8,9]]을 슬라이싱\n",
        "print(m[:2,3:])\n",
        "print(m[:-1,3:])\n",
        "print(m[:2,-2:])\n",
        "print(m[:-1,-2:])"
      ],
      "metadata": {
        "colab": {
          "base_uri": "https://localhost:8080/"
        },
        "id": "6kwDWEE7SInr",
        "outputId": "a212b325-c5d1-4951-fafb-ccd8ef35ab94"
      },
      "execution_count": 109,
      "outputs": [
        {
          "output_type": "stream",
          "name": "stdout",
          "text": [
            "[[3 4]\n",
            " [8 9]]\n",
            "[[3 4]\n",
            " [8 9]]\n",
            "[[3 4]\n",
            " [8 9]]\n",
            "[[3 4]\n",
            " [8 9]]\n"
          ]
        }
      ]
    },
    {
      "cell_type": "markdown",
      "source": [
        "## 배열 인덱싱\n",
        "* 대괄호(Bracket, [])안의 인덱스 정보로 숫자나 슬라이스가 아니라 위치 정보를 나타내는 또다른 `ndarray` 배열을 받을 수 있음 (인덱스 배열)\n",
        "* 일종의 조건 검색 기능"
      ],
      "metadata": {
        "id": "fLC-QuQQRKtT"
      }
    },
    {
      "cell_type": "markdown",
      "source": [
        "### 불리언 (Boolean) 배열 인덱싱\n",
        "* 인덱스 배열의 원소가 True, False 두 값으로만 구성되며 인덱스 배열의 크기가 원래 ndarray 객체의 크기와 같아야 함"
      ],
      "metadata": {
        "id": "-5zdTgl8TR04"
      }
    },
    {
      "cell_type": "code",
      "source": [
        "#0-8 사이의 (끝포함) 짝 수만 가진 배열\n",
        "a1 = np.array(range(0, 9, 2))\n",
        "a2 = np.array([i for i in range(9) if not (i % 2)])\n",
        "a1,a2"
      ],
      "metadata": {
        "colab": {
          "base_uri": "https://localhost:8080/"
        },
        "id": "KyfXubFKDwDP",
        "outputId": "450962e8-ed66-4ea5-94d8-94d35b3a9ab6"
      },
      "execution_count": 110,
      "outputs": [
        {
          "output_type": "execute_result",
          "data": {
            "text/plain": [
              "(array([0, 2, 4, 6, 8]), array([0, 2, 4, 6, 8]))"
            ]
          },
          "metadata": {},
          "execution_count": 110
        }
      ]
    },
    {
      "cell_type": "code",
      "source": [
        "# 짝수인 원소만 골라내고 싶다면?\n",
        "# 짝수에 대응하는 곳에 True, 홀수에 대응하는 곳에 False\n",
        "a = np.array(range(10))\n",
        "a"
      ],
      "metadata": {
        "colab": {
          "base_uri": "https://localhost:8080/"
        },
        "id": "5GIASHJqTrlX",
        "outputId": "c745c0fb-3572-4173-8f79-a4d178a2fc10"
      },
      "execution_count": 113,
      "outputs": [
        {
          "output_type": "execute_result",
          "data": {
            "text/plain": [
              "array([0, 1, 2, 3, 4, 5, 6, 7, 8, 9])"
            ]
          },
          "metadata": {},
          "execution_count": 113
        }
      ]
    },
    {
      "cell_type": "code",
      "source": [
        "idx = np.array([True, False,True, False,True, False,True, False,True, False,])\n",
        "idx"
      ],
      "metadata": {
        "colab": {
          "base_uri": "https://localhost:8080/"
        },
        "id": "3bWysEKHEln0",
        "outputId": "c9d685b3-a03f-4287-ff70-05d02f7b3290"
      },
      "execution_count": 114,
      "outputs": [
        {
          "output_type": "execute_result",
          "data": {
            "text/plain": [
              "array([ True, False,  True, False,  True, False,  True, False,  True,\n",
              "       False])"
            ]
          },
          "metadata": {},
          "execution_count": 114
        }
      ]
    },
    {
      "cell_type": "code",
      "source": [
        "a[idx]"
      ],
      "metadata": {
        "colab": {
          "base_uri": "https://localhost:8080/"
        },
        "id": "oYSU0NrwEmXv",
        "outputId": "48ce407d-427c-47b4-e9d7-2e5d73df06fe"
      },
      "execution_count": 116,
      "outputs": [
        {
          "output_type": "execute_result",
          "data": {
            "text/plain": [
              "array([0, 2, 4, 6, 8])"
            ]
          },
          "metadata": {},
          "execution_count": 116
        }
      ]
    },
    {
      "cell_type": "code",
      "source": [
        "# 조건문 연산\n",
        "a % 2"
      ],
      "metadata": {
        "colab": {
          "base_uri": "https://localhost:8080/"
        },
        "id": "3x9YUkfNTtJ1",
        "outputId": "6aec1d0c-478d-4fa2-c496-110aa58583c5"
      },
      "execution_count": 117,
      "outputs": [
        {
          "output_type": "execute_result",
          "data": {
            "text/plain": [
              "array([0, 1, 0, 1, 0, 1, 0, 1, 0, 1])"
            ]
          },
          "metadata": {},
          "execution_count": 117
        }
      ]
    },
    {
      "cell_type": "code",
      "source": [
        "a % 2 == 0"
      ],
      "metadata": {
        "colab": {
          "base_uri": "https://localhost:8080/"
        },
        "id": "5oDEJHbVT93r",
        "outputId": "f71b6a53-1a38-4a1b-a43b-d11eb2af31eb"
      },
      "execution_count": 118,
      "outputs": [
        {
          "output_type": "execute_result",
          "data": {
            "text/plain": [
              "array([ True, False,  True, False,  True, False,  True, False,  True,\n",
              "       False])"
            ]
          },
          "metadata": {},
          "execution_count": 118
        }
      ]
    },
    {
      "cell_type": "code",
      "source": [
        "a[a % 2 == 0], a[a % 2 !=0], a[a % 3 == 0], a[a % 3== 1]\n",
        "#불리언 인덱싱을 통해 조건에 맞는 항목만 인덱싱이 가능하다"
      ],
      "metadata": {
        "colab": {
          "base_uri": "https://localhost:8080/"
        },
        "id": "rtfCw3vxUBOm",
        "outputId": "3db6b63e-542a-49a2-98f4-b407f58c9fad"
      },
      "execution_count": 120,
      "outputs": [
        {
          "output_type": "execute_result",
          "data": {
            "text/plain": [
              "(array([0, 2, 4, 6, 8]),\n",
              " array([1, 3, 5, 7, 9]),\n",
              " array([0, 3, 6, 9]),\n",
              " array([1, 4, 7]))"
            ]
          },
          "metadata": {},
          "execution_count": 120
        }
      ]
    },
    {
      "cell_type": "markdown",
      "source": [
        "### 정수 배열 인덱싱\n",
        "* 인덱스 배열의 원소 각각이 원래 `ndarray` 객체 원소 하나를 가리키는 인덱스 정수이여야 함"
      ],
      "metadata": {
        "id": "ynIZBX2dUQIv"
      }
    },
    {
      "cell_type": "code",
      "source": [
        "a = np.array(range(1,10)) * 11\n",
        "a"
      ],
      "metadata": {
        "colab": {
          "base_uri": "https://localhost:8080/"
        },
        "id": "SOOuM49bUcT9",
        "outputId": "27decb6d-7ea0-43bd-a604-0323dca05457"
      },
      "execution_count": 125,
      "outputs": [
        {
          "output_type": "execute_result",
          "data": {
            "text/plain": [
              "array([11, 22, 33, 44, 55, 66, 77, 88, 99])"
            ]
          },
          "metadata": {},
          "execution_count": 125
        }
      ]
    },
    {
      "cell_type": "code",
      "source": [
        "idx = np.array([0,2,4,6,8])\n",
        "a[idx]"
      ],
      "metadata": {
        "colab": {
          "base_uri": "https://localhost:8080/"
        },
        "id": "43ZRuF-2Fnb_",
        "outputId": "8a466810-70bd-497b-a40a-1bba7f302979"
      },
      "execution_count": 126,
      "outputs": [
        {
          "output_type": "execute_result",
          "data": {
            "text/plain": [
              "array([11, 33, 55, 77, 99])"
            ]
          },
          "metadata": {},
          "execution_count": 126
        }
      ]
    },
    {
      "cell_type": "markdown",
      "source": [
        "* 이 때는 배열 인덱스의 크기가 원래의 배열 크기와 달라도 상관없음\n",
        "* 같은 원소를 반복해서 가리키는 경우에는 배열 인덱스가 원래의 배열보다 더 커지기도 함"
      ],
      "metadata": {
        "id": "2ChR92erUf7O"
      }
    },
    {
      "cell_type": "code",
      "source": [
        "idx = np.array([0]*6 + [1]*5 + [2]*5)\n",
        "print(idx)\n",
        "a[idx] #정수 인덱스는 크기가 같지않아도 호출한것만 쏙쏙들어감"
      ],
      "metadata": {
        "colab": {
          "base_uri": "https://localhost:8080/"
        },
        "id": "U_k_sieeUeoi",
        "outputId": "47946bc8-10f8-4a65-b7e2-1ba4566fb28f"
      },
      "execution_count": 130,
      "outputs": [
        {
          "output_type": "stream",
          "name": "stdout",
          "text": [
            "[0 0 0 0 0 0 1 1 1 1 1 2 2 2 2 2]\n"
          ]
        },
        {
          "output_type": "execute_result",
          "data": {
            "text/plain": [
              "array([11, 11, 11, 11, 11, 11, 22, 22, 22, 22, 22, 33, 33, 33, 33, 33])"
            ]
          },
          "metadata": {},
          "execution_count": 130
        }
      ]
    },
    {
      "cell_type": "markdown",
      "source": [
        "### 다차원 배열에서의 배열 인덱싱"
      ],
      "metadata": {
        "id": "XUEo3DxjUl7Q"
      }
    },
    {
      "cell_type": "code",
      "source": [
        "a = np.array([range(1,5), range(5,9), range(9,13)])\n",
        "a, a.ndim, a.shape"
      ],
      "metadata": {
        "colab": {
          "base_uri": "https://localhost:8080/"
        },
        "id": "G4aIB5_BUcsp",
        "outputId": "bbbdc3fa-d295-48b2-b66b-609609678f26"
      },
      "execution_count": 133,
      "outputs": [
        {
          "output_type": "execute_result",
          "data": {
            "text/plain": [
              "(array([[ 1,  2,  3,  4],\n",
              "        [ 5,  6,  7,  8],\n",
              "        [ 9, 10, 11, 12]]), 2, (3, 4))"
            ]
          },
          "metadata": {},
          "execution_count": 133
        }
      ]
    },
    {
      "cell_type": "code",
      "source": [
        "print(a[:,[0,3]]), \n",
        "print(a[:,[0,-1]]), \n",
        "print(a[:,[True, False, True, False]])"
      ],
      "metadata": {
        "colab": {
          "base_uri": "https://localhost:8080/"
        },
        "id": "rt0XDr6XUs5w",
        "outputId": "09b6efbd-a77c-42f7-a25f-8abfceca37f5"
      },
      "execution_count": 136,
      "outputs": [
        {
          "output_type": "stream",
          "name": "stdout",
          "text": [
            "[[ 1  4]\n",
            " [ 5  8]\n",
            " [ 9 12]]\n",
            "[[ 1  4]\n",
            " [ 5  8]\n",
            " [ 9 12]]\n",
            "[[ 1  3]\n",
            " [ 5  7]\n",
            " [ 9 11]]\n"
          ]
        }
      ]
    },
    {
      "cell_type": "code",
      "source": [
        "a[[2, 0, 1],:]"
      ],
      "metadata": {
        "colab": {
          "base_uri": "https://localhost:8080/"
        },
        "id": "3Ar68wUpUvqk",
        "outputId": "08ed22be-3420-46ac-dad4-ea2cd3aa42db"
      },
      "execution_count": 137,
      "outputs": [
        {
          "output_type": "execute_result",
          "data": {
            "text/plain": [
              "array([[ 9, 10, 11, 12],\n",
              "       [ 1,  2,  3,  4],\n",
              "       [ 5,  6,  7,  8]])"
            ]
          },
          "metadata": {},
          "execution_count": 137
        }
      ]
    },
    {
      "cell_type": "markdown",
      "source": [
        "## 💡 연습문제 3"
      ],
      "metadata": {
        "id": "7y4B3S9XY6A5"
      }
    },
    {
      "cell_type": "code",
      "source": [
        "x = np.array([1, 2, 3, 4, 5, 6, 7, 8, 9, 10,\n",
        "             11, 12, 13, 14, 15, 16, 17, 18, 19, 20])"
      ],
      "metadata": {
        "id": "o3Fz2Ji8Y5vw"
      },
      "execution_count": 139,
      "outputs": []
    },
    {
      "cell_type": "code",
      "source": [
        "# (1) 3의 배수 찾기\n",
        "x[x % 3 == 0], x[x % 3 !=0]"
      ],
      "metadata": {
        "colab": {
          "base_uri": "https://localhost:8080/"
        },
        "id": "pSfabTzmUwHy",
        "outputId": "ab73e0b2-8fb0-4f8a-fc1a-43014f9545aa"
      },
      "execution_count": 146,
      "outputs": [
        {
          "output_type": "execute_result",
          "data": {
            "text/plain": [
              "(array([ 3,  6,  9, 12, 15, 18]),\n",
              " array([ 1,  2,  4,  5,  7,  8, 10, 11, 13, 14, 16, 17, 19, 20]))"
            ]
          },
          "metadata": {},
          "execution_count": 146
        }
      ]
    },
    {
      "cell_type": "code",
      "source": [
        "# (2) 4로 나누면 1이 남는 수 찾기\n",
        "x[x % 4 == 1], x[x//4 ==1]"
      ],
      "metadata": {
        "colab": {
          "base_uri": "https://localhost:8080/"
        },
        "id": "iNwraEzfZEIx",
        "outputId": "aff3eb94-c30c-4c09-9356-437ce474ce24"
      },
      "execution_count": 147,
      "outputs": [
        {
          "output_type": "execute_result",
          "data": {
            "text/plain": [
              "(array([ 1,  5,  9, 13, 17]), array([4, 5, 6, 7]))"
            ]
          },
          "metadata": {},
          "execution_count": 147
        }
      ]
    },
    {
      "cell_type": "code",
      "source": [
        "# (3) 3로 나누면 나누어지고 4로 나누면 1이 남는 수 찾기\n",
        "x[(x % 3 == 0) & (x % 4 == 1)], x[(x % 3 == 0) | (x % 4 == 1)]"
      ],
      "metadata": {
        "colab": {
          "base_uri": "https://localhost:8080/"
        },
        "id": "3oXEum9FZIUp",
        "outputId": "f295daa9-3d6d-4679-829c-7ccb40d09bed"
      },
      "execution_count": 148,
      "outputs": [
        {
          "output_type": "execute_result",
          "data": {
            "text/plain": [
              "(array([9]), array([ 1,  3,  5,  6,  9, 12, 13, 15, 17, 18]))"
            ]
          },
          "metadata": {},
          "execution_count": 148
        }
      ]
    },
    {
      "cell_type": "markdown",
      "source": [
        "## 배열 검색"
      ],
      "metadata": {
        "id": "opMRQboTS9M8"
      }
    },
    {
      "cell_type": "code",
      "source": [
        "arr = np.array([1,2,3,4,5,4,4])\n",
        "arr"
      ],
      "metadata": {
        "colab": {
          "base_uri": "https://localhost:8080/"
        },
        "id": "4jLCR2pbTAW1",
        "outputId": "302ec012-f080-43e6-f84e-437c13b75f91"
      },
      "execution_count": 149,
      "outputs": [
        {
          "output_type": "execute_result",
          "data": {
            "text/plain": [
              "array([1, 2, 3, 4, 5, 4, 4])"
            ]
          },
          "metadata": {},
          "execution_count": 149
        }
      ]
    },
    {
      "cell_type": "code",
      "source": [
        "# np.where(배열 비교/논리 연산) -> 조건을 만족시킨 값의 인덱스 반환\n",
        "x = np.where(arr == 4)\n",
        "x"
      ],
      "metadata": {
        "colab": {
          "base_uri": "https://localhost:8080/"
        },
        "id": "VvPTrDGnTBo_",
        "outputId": "ac4f2cfd-0075-464c-e5fa-0fee36bfa4b1"
      },
      "execution_count": 151,
      "outputs": [
        {
          "output_type": "execute_result",
          "data": {
            "text/plain": [
              "(array([3, 5, 6]),)"
            ]
          },
          "metadata": {},
          "execution_count": 151
        }
      ]
    },
    {
      "cell_type": "code",
      "source": [
        "arr = np.array(range(1,9))\n",
        "x = np.where(arr % 2 ==0) # 짝수\n",
        "\n",
        "x, arr[x], arr[arr % 2 == 0] # 다르지만 같은 역할을 하는 두 코드"
      ],
      "metadata": {
        "colab": {
          "base_uri": "https://localhost:8080/"
        },
        "id": "kpIs5SUtJlCT",
        "outputId": "828a5f77-8765-461a-c96d-2372dd83b899"
      },
      "execution_count": 152,
      "outputs": [
        {
          "output_type": "execute_result",
          "data": {
            "text/plain": [
              "((array([1, 3, 5, 7]),), array([2, 4, 6, 8]), array([2, 4, 6, 8]))"
            ]
          },
          "metadata": {},
          "execution_count": 152
        }
      ]
    }
  ]
}