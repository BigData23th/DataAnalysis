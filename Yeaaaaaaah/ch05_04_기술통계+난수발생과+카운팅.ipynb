{
  "nbformat": 4,
  "nbformat_minor": 0,
  "metadata": {
    "colab": {
      "provenance": [],
      "include_colab_link": true
    },
    "kernelspec": {
      "name": "python3",
      "display_name": "Python 3"
    },
    "language_info": {
      "name": "python"
    }
  },
  "cells": [
    {
      "cell_type": "markdown",
      "metadata": {
        "id": "view-in-github",
        "colab_type": "text"
      },
      "source": [
        "<a href=\"https://colab.research.google.com/github/Yeaaaaaaah/DataAnalysis/blob/main/Yeaaaaaaah/ch05_04_%EA%B8%B0%EC%88%A0%ED%86%B5%EA%B3%84%2B%EB%82%9C%EC%88%98%EB%B0%9C%EC%83%9D%EA%B3%BC%2B%EC%B9%B4%EC%9A%B4%ED%8C%85.ipynb\" target=\"_parent\"><img src=\"https://colab.research.google.com/assets/colab-badge.svg\" alt=\"Open In Colab\"/></a>"
      ]
    },
    {
      "cell_type": "markdown",
      "source": [
        "# 기술 통계"
      ],
      "metadata": {
        "id": "tqxkhX-JFimj"
      }
    },
    {
      "cell_type": "markdown",
      "source": [
        "## 기술 통계(descriptive statistics)\n",
        "> 데이터 집합에 대해 통계를 계산\n",
        "* 데이터의 개수(count)\n",
        "* 평균(mean, average)\n",
        "* 분산(variance)\n",
        "* 표준 편차(standard deviation)\n",
        "* 최댓값(maximum)\n",
        "* 최솟값(minimum)\n",
        "* 중앙값(median)\n",
        "* 사분위수(quartile)"
      ],
      "metadata": {
        "id": "gchQwkseFsUX"
      }
    },
    {
      "cell_type": "code",
      "source": [
        "import numpy as np"
      ],
      "metadata": {
        "id": "jttHEMK4F9XX"
      },
      "execution_count": 1,
      "outputs": []
    },
    {
      "cell_type": "code",
      "source": [
        "x = np.array([\n",
        "    18, 5, 10, 23, 19, -8, 10, 0, 0, 5, 2, 15, 8, 2, 5, 4, 15, -1, 4, -7, -24, 7, 9, -6, 23, -13\n",
        "])\n",
        "x"
      ],
      "metadata": {
        "colab": {
          "base_uri": "https://localhost:8080/"
        },
        "id": "lO-vBEVzVNQa",
        "outputId": "2e3b0e45-1fc5-40cc-92ab-542f4f1bbfe7"
      },
      "execution_count": 2,
      "outputs": [
        {
          "output_type": "execute_result",
          "data": {
            "text/plain": [
              "array([ 18,   5,  10,  23,  19,  -8,  10,   0,   0,   5,   2,  15,   8,\n",
              "         2,   5,   4,  15,  -1,   4,  -7, -24,   7,   9,  -6,  23, -13])"
            ]
          },
          "metadata": {},
          "execution_count": 2
        }
      ]
    },
    {
      "cell_type": "markdown",
      "source": [
        "## 데이터의 개수"
      ],
      "metadata": {
        "id": "5bzioyHoF557"
      }
    },
    {
      "cell_type": "code",
      "source": [
        "len(x)"
      ],
      "metadata": {
        "colab": {
          "base_uri": "https://localhost:8080/"
        },
        "id": "wlTrzCbKFl4j",
        "outputId": "a9201bf2-91e4-4138-b61d-8d35124f46a0"
      },
      "execution_count": 3,
      "outputs": [
        {
          "output_type": "execute_result",
          "data": {
            "text/plain": [
              "26"
            ]
          },
          "metadata": {},
          "execution_count": 3
        }
      ]
    },
    {
      "cell_type": "markdown",
      "source": [
        "## 표본 평균\n",
        "* 우리가 일반적으로 아는 평균\n",
        "* 통계용어로는 표본 평균(sample average, sample mean)\n",
        "<br>\n",
        "$\n",
        "\\bar{x} = \\frac{1}{N}\\displaystyle\\sum_{i=1}^{N}{x_i}\n",
        "$\n",
        "(𝑁은 데이터의 개수)"
      ],
      "metadata": {
        "id": "3xe5u1nkGBgM"
      }
    },
    {
      "cell_type": "code",
      "source": [
        "np.mean(x), x.mean()"
      ],
      "metadata": {
        "colab": {
          "base_uri": "https://localhost:8080/"
        },
        "id": "SiQn6qJlF_Y_",
        "outputId": "e4e43529-6a29-4455-816e-95e0b87aa1fb"
      },
      "execution_count": 4,
      "outputs": [
        {
          "output_type": "execute_result",
          "data": {
            "text/plain": [
              "(4.8076923076923075, 4.8076923076923075)"
            ]
          },
          "metadata": {},
          "execution_count": 4
        }
      ]
    },
    {
      "cell_type": "markdown",
      "source": [
        "## 표본 분산\n",
        "* 표본 분산(sample variance) : 데이터와 표본 평균간의 거리의 제곱의 평균\n",
        "* 표본 분산이 작으면 데이터가 모여있는 것이고 크면 흩어져 있는 것\n",
        "<br>\n",
        "$\n",
        "s^2 = \\frac{1}{N}\\displaystyle\\sum_{i=1}^{N}{(x_i-\\bar{x})^2}\n",
        "$"
      ],
      "metadata": {
        "id": "sMmBl-uLHWwF"
      }
    },
    {
      "cell_type": "code",
      "source": [
        "np.var(x)"
      ],
      "metadata": {
        "colab": {
          "base_uri": "https://localhost:8080/"
        },
        "id": "ukbJg498HWZG",
        "outputId": "ac6ca2ab-5bd6-41c7-e0cf-b7ec7db99614"
      },
      "execution_count": 5,
      "outputs": [
        {
          "output_type": "execute_result",
          "data": {
            "text/plain": [
              "115.23224852071006"
            ]
          },
          "metadata": {},
          "execution_count": 5
        }
      ]
    },
    {
      "cell_type": "markdown",
      "source": [
        "## 표본 표준편차\n",
        "* 표본 표준편차(sample standard variance) : 표본 분산의 양의 제곱근 값 \n",
        "<br>\n",
        "$\n",
        "s = \\sqrt{s^2}\n",
        "$"
      ],
      "metadata": {
        "id": "ox3H6KB8H4Hd"
      }
    },
    {
      "cell_type": "code",
      "source": [
        "np.std(x)"
      ],
      "metadata": {
        "colab": {
          "base_uri": "https://localhost:8080/"
        },
        "id": "ESjtI9K9HP8g",
        "outputId": "49093732-9a5a-4b3d-94ad-74019df1d499"
      },
      "execution_count": 6,
      "outputs": [
        {
          "output_type": "execute_result",
          "data": {
            "text/plain": [
              "10.734628476137871"
            ]
          },
          "metadata": {},
          "execution_count": 6
        }
      ]
    },
    {
      "cell_type": "markdown",
      "source": [
        "## 최댓값과 최솟값"
      ],
      "metadata": {
        "id": "68MH4LSRINEC"
      }
    },
    {
      "cell_type": "code",
      "source": [
        "# 최댓값 (maximum) / 최솟값 (minimum)\n",
        "np.max(x), np.min(x)"
      ],
      "metadata": {
        "colab": {
          "base_uri": "https://localhost:8080/"
        },
        "id": "E-KkdiALIPvE",
        "outputId": "8dcb5dfe-b552-4fb2-eb0e-790ae96366f6"
      },
      "execution_count": 7,
      "outputs": [
        {
          "output_type": "execute_result",
          "data": {
            "text/plain": [
              "(23, -24)"
            ]
          },
          "metadata": {},
          "execution_count": 7
        }
      ]
    },
    {
      "cell_type": "markdown",
      "source": [
        "## 중앙값\n",
        "* 중앙값(median) : 데이터를 크기대로 정렬하였을 때 가장 가운데에 있는 수\n",
        "* 만약 데이터의 수가 짝수이면 가장 가운데에 있는 두 수의 평균을 사용\n"
      ],
      "metadata": {
        "id": "vGgHFClPIWQV"
      }
    },
    {
      "cell_type": "code",
      "source": [
        "np.median(x)"
      ],
      "metadata": {
        "colab": {
          "base_uri": "https://localhost:8080/"
        },
        "id": "LS2P0zPnIUvN",
        "outputId": "e3c5c1f7-71a4-4a96-d75b-8680532a4f34"
      },
      "execution_count": 8,
      "outputs": [
        {
          "output_type": "execute_result",
          "data": {
            "text/plain": [
              "5.0"
            ]
          },
          "metadata": {},
          "execution_count": 8
        }
      ]
    },
    {
      "cell_type": "markdown",
      "source": [
        "## 사분위수\n",
        "* 사분위수(quartile) : 데이터를 가장 작은 수부터 가장 큰 수까지 크기가 커지는 순서대로 정렬하였을 때 1/4, 2/4, 3/4 위치에 있는 수\n",
        "* 각각 1사분위수, 2사분위수, 3사분위수라고 함\n",
        "* 1/4의 위치란 전체 데이터의 수가 만약 100개이면 25번째 순서, 즉 하위 25%\n",
        "* 따라서 2사분위수는 중앙값과 같음\n",
        "* 때로는 위치를 1/100 단위로 나눈 백분위수(percentile)을 사용하기도 함\n",
        "* 1사분위수는 25% 백분위수와 같음\n"
      ],
      "metadata": {
        "id": "b1pLnirSIfsI"
      }
    },
    {
      "cell_type": "code",
      "source": [
        "np.percentile(x, 0) # 최솟값"
      ],
      "metadata": {
        "colab": {
          "base_uri": "https://localhost:8080/"
        },
        "id": "EHTZ62T8Ici8",
        "outputId": "92cce2e0-38a9-4efb-f669-d5a6eede7165"
      },
      "execution_count": 9,
      "outputs": [
        {
          "output_type": "execute_result",
          "data": {
            "text/plain": [
              "-24.0"
            ]
          },
          "metadata": {},
          "execution_count": 9
        }
      ]
    },
    {
      "cell_type": "code",
      "source": [
        "np.percentile(x, 25) # 25%백분위수, 1사분위수"
      ],
      "metadata": {
        "colab": {
          "base_uri": "https://localhost:8080/"
        },
        "id": "h8tVnPH6Ixcv",
        "outputId": "43de9d9b-1762-4165-850f-6f0e0eebf780"
      },
      "execution_count": 10,
      "outputs": [
        {
          "output_type": "execute_result",
          "data": {
            "text/plain": [
              "0.0"
            ]
          },
          "metadata": {},
          "execution_count": 10
        }
      ]
    },
    {
      "cell_type": "code",
      "source": [
        "np.percentile(x, 50) # 50%백분위수, 2사분위수, 중앙값"
      ],
      "metadata": {
        "colab": {
          "base_uri": "https://localhost:8080/"
        },
        "id": "PuT1HTElIza1",
        "outputId": "57f531f0-3f88-44a2-ac58-abc3e6e4ec9d"
      },
      "execution_count": 11,
      "outputs": [
        {
          "output_type": "execute_result",
          "data": {
            "text/plain": [
              "5.0"
            ]
          },
          "metadata": {},
          "execution_count": 11
        }
      ]
    },
    {
      "cell_type": "code",
      "source": [
        "np.percentile(x, 75) # 75%백분위수, 3사분위수,"
      ],
      "metadata": {
        "colab": {
          "base_uri": "https://localhost:8080/"
        },
        "id": "v7wB_7N_I0zM",
        "outputId": "a588b424-b4be-4b80-ee4b-8a2eb5478568"
      },
      "execution_count": 12,
      "outputs": [
        {
          "output_type": "execute_result",
          "data": {
            "text/plain": [
              "10.0"
            ]
          },
          "metadata": {},
          "execution_count": 12
        }
      ]
    },
    {
      "cell_type": "code",
      "source": [
        "np.percentile(x, 100) # 100%백분위수, 최대값,"
      ],
      "metadata": {
        "colab": {
          "base_uri": "https://localhost:8080/"
        },
        "id": "JbCd4SqGI20l",
        "outputId": "b51f3685-18ff-441d-c193-209d552ce440"
      },
      "execution_count": 13,
      "outputs": [
        {
          "output_type": "execute_result",
          "data": {
            "text/plain": [
              "23.0"
            ]
          },
          "metadata": {},
          "execution_count": 13
        }
      ]
    },
    {
      "cell_type": "markdown",
      "source": [
        "# 난수 발생과 카운팅"
      ],
      "metadata": {
        "id": "x1uZuajeI9Si"
      }
    },
    {
      "cell_type": "markdown",
      "source": [
        "## 시드 설정\n",
        "* 컴퓨터 프로그램에서 발생하는 무작위 수는 사실 엄격한 의미의 무작위 수가 아님\n",
        "* 어떤 특정한 시작 숫자를 정해 주면 컴퓨터가 정해진 알고리즘에 의해 마치 난수처럼 보이는 수열을 생성. 이런 시작 숫자를 시드(seed)라고 함\n",
        "* 일단 생성된 난수는 다음번 난수 생성을 위한 시드값이 됨. 따라서 시드값은 한 번만 정해주면 됨.\n",
        "* 시드는 보통 현재 시각 등을 이용하여 자동으로 정해지지만 사람이 수동으로 설정할 수도 있음 * 특정한 시드값이 사용되면 그 다음에 만들어지는 난수들은 모두 예측할 수 있음\n",
        "* 고정된 결과를 얻기 위해서 실습엔 시드를 설정"
      ],
      "metadata": {
        "id": "ZCEj6C5UJHHc"
      }
    },
    {
      "cell_type": "code",
      "source": [
        "np.random.seed(0) # 시드값 고정"
      ],
      "metadata": {
        "id": "R9wwclqfI8_9"
      },
      "execution_count": 22,
      "outputs": []
    },
    {
      "cell_type": "markdown",
      "source": [
        "### `rand` : 0과 1 사이의 난수를 발생"
      ],
      "metadata": {
        "id": "OQRCx_xUJf6l"
      }
    },
    {
      "cell_type": "code",
      "source": [
        "np.random.rand(5) # rand(n) n개의 길이를 가지는 배열에 각각 0~1 사이의 난수를 채워줍니다"
      ],
      "metadata": {
        "colab": {
          "base_uri": "https://localhost:8080/"
        },
        "id": "w26duH5TJb7f",
        "outputId": "e8161f06-8016-4102-abb2-d5411480c354"
      },
      "execution_count": 38,
      "outputs": [
        {
          "output_type": "execute_result",
          "data": {
            "text/plain": [
              "array([0.26538949, 0.52324805, 0.09394051, 0.5759465 , 0.9292962 ])"
            ]
          },
          "metadata": {},
          "execution_count": 38
        }
      ]
    },
    {
      "cell_type": "code",
      "source": [
        "np.random.rand(10)"
      ],
      "metadata": {
        "colab": {
          "base_uri": "https://localhost:8080/"
        },
        "id": "bnSQUYKVJkl8",
        "outputId": "8a6ec385-4bdc-4ef8-a6bd-51d4ce7d9687"
      },
      "execution_count": 39,
      "outputs": [
        {
          "output_type": "execute_result",
          "data": {
            "text/plain": [
              "array([0.31856895, 0.66741038, 0.13179786, 0.7163272 , 0.28940609,\n",
              "       0.18319136, 0.58651293, 0.02010755, 0.82894003, 0.00469548])"
            ]
          },
          "metadata": {},
          "execution_count": 39
        }
      ]
    },
    {
      "cell_type": "markdown",
      "source": [
        "## 데이터의 순서 변경"
      ],
      "metadata": {
        "id": "TvJHX9FmJtgQ"
      }
    },
    {
      "cell_type": "markdown",
      "source": [
        "### `shuffle`\n",
        "* 데이터의 순서를 변경\n",
        "* 자체 변환(in-place) 함수 (원본에 영향)"
      ],
      "metadata": {
        "id": "89jdzc8rJyqB"
      }
    },
    {
      "cell_type": "code",
      "source": [
        "x = np.arange(10)\n",
        "x"
      ],
      "metadata": {
        "colab": {
          "base_uri": "https://localhost:8080/"
        },
        "id": "vUHakdiQJpjl",
        "outputId": "c622351a-a63a-4754-aa08-d17ee35e01c0"
      },
      "execution_count": 40,
      "outputs": [
        {
          "output_type": "execute_result",
          "data": {
            "text/plain": [
              "array([0, 1, 2, 3, 4, 5, 6, 7, 8, 9])"
            ]
          },
          "metadata": {},
          "execution_count": 40
        }
      ]
    },
    {
      "cell_type": "code",
      "source": [
        "np.random.shuffle(x)\n",
        "x"
      ],
      "metadata": {
        "colab": {
          "base_uri": "https://localhost:8080/"
        },
        "id": "ReqSVnNlJ7S0",
        "outputId": "0f746e7b-1fdc-41da-b75d-f736f4dc4718"
      },
      "execution_count": 41,
      "outputs": [
        {
          "output_type": "execute_result",
          "data": {
            "text/plain": [
              "array([7, 1, 5, 4, 0, 8, 9, 6, 3, 2])"
            ]
          },
          "metadata": {},
          "execution_count": 41
        }
      ]
    },
    {
      "cell_type": "markdown",
      "source": [
        "## 데이터 샘플링\n",
        "* 표본선택 혹은 샘플링(sampling) : 이미 있는 데이터 집합에서 일부를 무작위로 선택하는 것"
      ],
      "metadata": {
        "id": "MbQrSKXMKJAg"
      }
    },
    {
      "cell_type": "markdown",
      "source": [
        "### `choice` : 샘플링에 사용\n",
        "```\n",
        "numpy.random.choice(a, size=None, replace=True, p=None)\n",
        "```\n",
        "* a : 배열이면 원래의 데이터, 정수이면 arange(a) 명령으로 데이터 생성\n",
        "* size : 정수. 샘플 숫자\n",
        "* replace : 불리언. True이면 한번 선택한 데이터를 다시 선택 가능 (복원/비복원 추출)\n",
        "* p : 배열. 각 데이터가 선택될 수 있는 확률"
      ],
      "metadata": {
        "id": "gEkehbizKWrq"
      }
    },
    {
      "cell_type": "code",
      "source": [
        "np.random.choice(5, 5, replace=False) # 5개 중에  5개를 선택 - > 비복원 -> shffle"
      ],
      "metadata": {
        "colab": {
          "base_uri": "https://localhost:8080/"
        },
        "id": "YvjoHXqIJ9KJ",
        "outputId": "efe2085b-42c7-4308-c6ae-b50cdd878a31"
      },
      "execution_count": 42,
      "outputs": [
        {
          "output_type": "execute_result",
          "data": {
            "text/plain": [
              "array([1, 4, 3, 2, 0])"
            ]
          },
          "metadata": {},
          "execution_count": 42
        }
      ]
    },
    {
      "cell_type": "code",
      "source": [
        "np.random.choice(5, 3, replace=False) #5개 중에 3개를 선택 ->  비복원"
      ],
      "metadata": {
        "colab": {
          "base_uri": "https://localhost:8080/"
        },
        "id": "knplEnwIKnYh",
        "outputId": "42155061-425a-4321-fa96-f279afd58e3a"
      },
      "execution_count": 43,
      "outputs": [
        {
          "output_type": "execute_result",
          "data": {
            "text/plain": [
              "array([2, 1, 0])"
            ]
          },
          "metadata": {},
          "execution_count": 43
        }
      ]
    },
    {
      "cell_type": "code",
      "source": [
        "# np.random.choice(5, 10, replace=True) #5개 중에 10개를 선택 -> 복원(기본적으로 True)\n",
        "np.random.choice(5, 10)"
      ],
      "metadata": {
        "colab": {
          "base_uri": "https://localhost:8080/"
        },
        "id": "4Yd_3i6QKqMw",
        "outputId": "f45f0446-8352-4aac-f12c-73822356563f"
      },
      "execution_count": 46,
      "outputs": [
        {
          "output_type": "execute_result",
          "data": {
            "text/plain": [
              "array([1, 0, 4, 1, 3, 1, 0, 0, 4, 3])"
            ]
          },
          "metadata": {},
          "execution_count": 46
        }
      ]
    },
    {
      "cell_type": "code",
      "source": [
        "# [0, 1, 2, 3, 4]\n",
        "np.random.choice(5, 10, p =[0.1, 0, 0.3, 0.6, 0])"
      ],
      "metadata": {
        "colab": {
          "base_uri": "https://localhost:8080/"
        },
        "id": "lkbuDYTuKvBN",
        "outputId": "3e69ab20-5be4-4717-df48-098474e9225d"
      },
      "execution_count": 52,
      "outputs": [
        {
          "output_type": "execute_result",
          "data": {
            "text/plain": [
              "array([3, 3, 3, 3, 3, 3, 0, 3, 3, 2])"
            ]
          },
          "metadata": {},
          "execution_count": 52
        }
      ]
    },
    {
      "cell_type": "code",
      "source": [
        "np.random.choice([1, 5, 10, 20, 100], 10, p =[0.7, 0.2, 0.05, 0.03, 0.02])"
      ],
      "metadata": {
        "colab": {
          "base_uri": "https://localhost:8080/"
        },
        "id": "OLwpAiUPfT5S",
        "outputId": "69d86327-4c16-4b07-8fc9-b5635db9aa4a"
      },
      "execution_count": 57,
      "outputs": [
        {
          "output_type": "execute_result",
          "data": {
            "text/plain": [
              "array([ 1,  1,  5,  1,  5,  1, 20,  1,  5,  1])"
            ]
          },
          "metadata": {},
          "execution_count": 57
        }
      ]
    },
    {
      "cell_type": "markdown",
      "source": [
        "## 난수 생성\n",
        "* `rand` : 0부터 1 사이의 균일 분포\n",
        "* `randn` : 표준 정규 분포\n",
        "* `randint` : 균일 분포의 정수 난수"
      ],
      "metadata": {
        "id": "D8oZhgNLLCgd"
      }
    },
    {
      "cell_type": "markdown",
      "source": [
        "### `rand` : 0부터 1 사이에서 균일한 확률 분포로 실수 난수를 생성\n",
        "* 숫자 인수는 생성할 난수의 크기\n",
        "* 여러 개의 인수를 넣으면 해당 크기를 가진 행렬을 생성"
      ],
      "metadata": {
        "id": "BcH0M0-_LPMP"
      }
    },
    {
      "cell_type": "code",
      "source": [
        "np.random.rand(10)"
      ],
      "metadata": {
        "colab": {
          "base_uri": "https://localhost:8080/"
        },
        "id": "EWqs3z-zK0k_",
        "outputId": "aba350ec-90b2-44d2-a1b5-b6537b370d0e"
      },
      "execution_count": 60,
      "outputs": [
        {
          "output_type": "execute_result",
          "data": {
            "text/plain": [
              "array([0.4631502 , 0.84042853, 0.20486576, 0.16495887, 0.12483306,\n",
              "       0.72208066, 0.03045296, 0.74699424, 0.09259617, 0.21745049])"
            ]
          },
          "metadata": {},
          "execution_count": 60
        }
      ]
    },
    {
      "cell_type": "code",
      "source": [
        "np.random.rand(3, 5)"
      ],
      "metadata": {
        "colab": {
          "base_uri": "https://localhost:8080/"
        },
        "id": "RsNtLIiGf18H",
        "outputId": "3da40525-dcc2-4e7c-ebc1-49f22c6880be"
      },
      "execution_count": 61,
      "outputs": [
        {
          "output_type": "execute_result",
          "data": {
            "text/plain": [
              "array([[0.74925442, 0.73169376, 0.04561464, 0.20915703, 0.28691504],\n",
              "       [0.67726331, 0.06303829, 0.55564924, 0.00924007, 0.8330381 ],\n",
              "       [0.98432943, 0.70349478, 0.1816312 , 0.51239346, 0.58044714]])"
            ]
          },
          "metadata": {},
          "execution_count": 61
        }
      ]
    },
    {
      "cell_type": "markdown",
      "source": [
        "### `randn` : 기댓값이 0이고 표준편차가 1인 표준 정규 분포(standard normal distribution)를 따르는 난수를 생성"
      ],
      "metadata": {
        "id": "HdWD5uVkLjQt"
      }
    },
    {
      "cell_type": "code",
      "source": [
        "np.random.randn(10)"
      ],
      "metadata": {
        "colab": {
          "base_uri": "https://localhost:8080/"
        },
        "id": "AlJYbewHLeZB",
        "outputId": "8c7d4311-9c4a-4bf0-f9a9-1b5ce2d84d1c"
      },
      "execution_count": 62,
      "outputs": [
        {
          "output_type": "execute_result",
          "data": {
            "text/plain": [
              "array([ 0.48565189,  1.31152655, -0.23564945, -1.48017978, -0.02148475,\n",
              "        1.05279068, -0.11740222,  1.82850826, -0.01667713,  1.87011107])"
            ]
          },
          "metadata": {},
          "execution_count": 62
        }
      ]
    },
    {
      "cell_type": "code",
      "source": [
        "np.random.randn(3,5)"
      ],
      "metadata": {
        "colab": {
          "base_uri": "https://localhost:8080/"
        },
        "id": "gbDMC1OxLt3f",
        "outputId": "8bd4a4e0-db1b-4e1a-ba55-b07967acc025"
      },
      "execution_count": 63,
      "outputs": [
        {
          "output_type": "execute_result",
          "data": {
            "text/plain": [
              "array([[-0.38030715,  0.42869794,  0.36189589,  0.46756761, -1.5180287 ],\n",
              "       [-1.89304483, -0.78508653, -1.60529407,  1.43184023, -1.94219012],\n",
              "       [ 1.13995339, -0.61716593, -1.77555859, -1.11820547, -1.60638701]])"
            ]
          },
          "metadata": {},
          "execution_count": 63
        }
      ]
    },
    {
      "cell_type": "markdown",
      "source": [
        "### `randint`\n",
        "```\n",
        "numpy.random.randint(low, high=None, size=None)\n",
        "```\n",
        "만약 `high`를 입력하지 않으면 0과 `low`사이의 숫자, `high`를 입력하면 `low`와 `high`는 사이의 숫자를 출력. `size`는 난수의 숫자"
      ],
      "metadata": {
        "id": "FDtGkcnjLzTM"
      }
    },
    {
      "cell_type": "code",
      "source": [
        "np.random.randint(10, size = 5)"
      ],
      "metadata": {
        "colab": {
          "base_uri": "https://localhost:8080/"
        },
        "id": "H5eTlhBGLy_D",
        "outputId": "634a5afc-e6ca-4c01-813f-8a4f9300e4d2"
      },
      "execution_count": 83,
      "outputs": [
        {
          "output_type": "execute_result",
          "data": {
            "text/plain": [
              "array([2, 8, 3, 0, 8])"
            ]
          },
          "metadata": {},
          "execution_count": 83
        }
      ]
    },
    {
      "cell_type": "code",
      "source": [
        "np.random.randint(10, 21, size = 5)"
      ],
      "metadata": {
        "colab": {
          "base_uri": "https://localhost:8080/"
        },
        "id": "xlpHLyNALuyj",
        "outputId": "d9c63852-c7a9-4ae7-8857-d947abf825c1"
      },
      "execution_count": 81,
      "outputs": [
        {
          "output_type": "execute_result",
          "data": {
            "text/plain": [
              "array([16, 15, 19, 16, 15])"
            ]
          },
          "metadata": {},
          "execution_count": 81
        }
      ]
    },
    {
      "cell_type": "code",
      "source": [
        "np.random.randint(10, 21, size = (3, 5))"
      ],
      "metadata": {
        "colab": {
          "base_uri": "https://localhost:8080/"
        },
        "id": "RwOU04I2ME1f",
        "outputId": "b2bf3c97-113f-4c2b-eeef-e4a66198fbdf"
      },
      "execution_count": 82,
      "outputs": [
        {
          "output_type": "execute_result",
          "data": {
            "text/plain": [
              "array([[12, 17, 11, 19, 12],\n",
              "       [12, 15, 16, 14, 12],\n",
              "       [12, 11, 10, 19, 10]])"
            ]
          },
          "metadata": {},
          "execution_count": 82
        }
      ]
    },
    {
      "cell_type": "markdown",
      "source": [
        "## 💡 연습문제 7\n",
        "1. 동전을 10번 던져 앞면(숫자 1)과 뒷면(숫자 0)이 나오는 가상 실험을 작성하라\n",
        "2. 주사위를 100번 던져서 나오는 숫자의 평균\n",
        "3. 가격이 10,000원인 주식이 있다. 이 주식의 일간 수익률(%)은 기댓값이 0%이고 표준편차가 1%인 표준 정규 분포를 따른다고 하자. 250일 동안의 주가를 무작위로 생성하라"
      ],
      "metadata": {
        "id": "dCofCh17MOVI"
      }
    },
    {
      "cell_type": "code",
      "source": [
        "# 1.\n",
        "np.random.choice([0,1], size=10, replace=True)"
      ],
      "metadata": {
        "colab": {
          "base_uri": "https://localhost:8080/"
        },
        "id": "wSVBjqWJMGJ3",
        "outputId": "8bd4c091-41b4-44bb-e896-5ed6061f2b00"
      },
      "execution_count": 84,
      "outputs": [
        {
          "output_type": "execute_result",
          "data": {
            "text/plain": [
              "array([0, 1, 0, 1, 0, 0, 1, 1, 0, 0])"
            ]
          },
          "metadata": {},
          "execution_count": 84
        }
      ]
    },
    {
      "cell_type": "code",
      "source": [
        "# 2.\n",
        "# np.random.randint(1,7,100).mean()\n",
        "np.random.choice(range(1,7), 100, replace = True).mean()"
      ],
      "metadata": {
        "colab": {
          "base_uri": "https://localhost:8080/"
        },
        "id": "rpstIcwsNB-3",
        "outputId": "23491457-f3a7-404e-e7b0-d7ff9283b417"
      },
      "execution_count": 86,
      "outputs": [
        {
          "output_type": "execute_result",
          "data": {
            "text/plain": [
              "3.67"
            ]
          },
          "metadata": {},
          "execution_count": 86
        }
      ]
    },
    {
      "cell_type": "code",
      "source": [
        "# 3.\n",
        "a = np.random.randn(250) / 100 # 일간 수익률의 표준정규분포를 따르는 (0,1%) 수익률 분포\n",
        "a"
      ],
      "metadata": {
        "colab": {
          "base_uri": "https://localhost:8080/"
        },
        "id": "zrCTnmQBNjbm",
        "outputId": "1fdb2c08-d5fb-45a4-c2ba-9405f6e99e73"
      },
      "execution_count": 93,
      "outputs": [
        {
          "output_type": "execute_result",
          "data": {
            "text/plain": [
              "array([-4.26539773e-03,  9.08989438e-03,  1.47077291e-02, -1.00026975e-03,\n",
              "       -4.15398075e-03, -2.02364760e-02,  7.84861147e-03, -6.21958642e-03,\n",
              "        2.18945674e-02,  1.20229415e-02,  1.60613474e-02, -5.91632578e-03,\n",
              "       -1.09107262e-02, -7.88976228e-03, -7.49195393e-03,  2.89323479e-03,\n",
              "       -1.41971239e-04, -9.01044169e-03,  9.07474996e-03, -3.34321250e-03,\n",
              "       -3.87453984e-03,  1.03955858e-07,  2.39405857e-03,  1.97096025e-03,\n",
              "        5.91523141e-03, -8.04933727e-03, -1.10277324e-02, -7.62297844e-03,\n",
              "        2.61313895e-03, -7.53841428e-03, -5.59614293e-03, -1.05585180e-02,\n",
              "        3.66767864e-03,  1.80190374e-02, -2.03254007e-02, -7.22672405e-03,\n",
              "       -7.20780931e-03,  4.95452879e-03, -2.90807701e-03, -1.03379078e-02,\n",
              "        1.78548921e-03, -1.47532499e-02, -1.25129555e-02, -2.36760877e-02,\n",
              "       -6.71237437e-03, -1.18691754e-02, -1.43758658e-02,  4.05150606e-03,\n",
              "        7.62452611e-03,  7.83988566e-03, -1.07868102e-02, -8.39663135e-03,\n",
              "        8.04505098e-03, -1.67466007e-02,  6.77923785e-04,  1.34317908e-02,\n",
              "        1.06709778e-02,  6.17910070e-04, -5.74000717e-03,  9.43232688e-03,\n",
              "        1.91796684e-02, -8.92752675e-03, -7.23737639e-03,  4.55018654e-03,\n",
              "       -6.06551172e-03,  2.44619611e-03,  1.42248468e-02, -2.18180099e-02,\n",
              "        5.07785202e-03, -2.94775035e-03,  3.70192376e-03,  1.86328358e-02,\n",
              "       -9.18083097e-03, -1.60883312e-02,  3.40427890e-03,  1.06961159e-02,\n",
              "       -6.53083929e-03, -1.52598525e-02,  7.21988898e-04,  1.51776719e-03,\n",
              "       -1.56764625e-02,  7.88858646e-03, -2.70311995e-05, -1.41234983e-02,\n",
              "        1.60447048e-04,  5.61918497e-03, -2.63024759e-02, -4.24070256e-03,\n",
              "        2.15753115e-02,  1.39211124e-02,  6.18938220e-03,  1.37094850e-02,\n",
              "       -1.65160636e-02,  1.75880568e-02, -2.40658412e-03,  1.01104108e-02,\n",
              "        6.28289893e-04,  3.67019066e-03,  4.84154249e-03,  6.14775383e-03,\n",
              "        6.49287714e-03,  1.65034754e-02,  5.07113390e-03,  1.39109855e-02,\n",
              "       -1.97240184e-03,  5.96215986e-03,  3.96397882e-03,  8.47730078e-03,\n",
              "       -3.97872904e-04, -1.79081260e-02, -1.81966768e-02, -2.14842898e-02,\n",
              "        2.28328668e-02,  3.93118862e-03,  1.86108658e-02,  2.00014027e-02,\n",
              "        5.06460113e-03, -7.23987828e-03,  3.70205880e-04, -5.99902925e-03,\n",
              "        8.74400486e-03,  2.67011204e-03,  7.54006703e-03, -7.63864077e-03,\n",
              "        1.07504882e-02,  4.30820743e-03, -9.78166445e-03, -8.01785969e-03,\n",
              "       -1.87238606e-02, -1.16605540e-02,  2.04824707e-04, -1.07107676e-02,\n",
              "       -3.16617888e-03, -1.07500623e-02, -9.05724035e-03,  1.61862019e-03,\n",
              "        1.54941712e-02, -5.29370471e-03,  1.44159259e-02,  1.59638065e-03,\n",
              "       -3.28066579e-03, -1.14510340e-02,  2.29386412e-03,  1.47834196e-02,\n",
              "        1.19677330e-02, -6.28339361e-04,  6.63762488e-03,  8.97479193e-03,\n",
              "        2.74345322e-04, -8.25130941e-03, -8.84209652e-03, -1.86424683e-03,\n",
              "        6.33603821e-03, -6.89683429e-03,  1.16972862e-02, -6.95610510e-03,\n",
              "       -1.02558951e-02, -1.53038473e-02,  3.83160119e-04, -3.24062082e-03,\n",
              "        1.75344273e-03,  2.12690235e-02,  1.47927421e-02, -2.44014570e-03,\n",
              "       -9.87394198e-04, -7.37723309e-03,  2.08206012e-04, -4.79297329e-03,\n",
              "       -2.82608141e-03, -8.94468275e-03, -6.28859823e-03, -6.73464396e-03,\n",
              "        9.87417514e-03,  2.39682671e-03,  7.37919909e-04,  6.92329937e-03,\n",
              "        7.94055087e-03, -1.60560135e-02,  1.32863551e-02, -1.14557512e-02,\n",
              "        2.82917952e-03, -1.03391323e-03, -4.45615973e-03, -2.00225930e-03,\n",
              "       -1.99425904e-03, -1.31624113e-02, -8.21765756e-04,  3.36534235e-03,\n",
              "       -1.34418930e-02,  1.76671424e-02, -3.47781271e-03, -1.89976401e-02,\n",
              "       -3.64289449e-03, -2.88636908e-03,  2.25742321e-02, -1.22332900e-03,\n",
              "        2.10614653e-03, -7.71177088e-03,  1.49169092e-02, -5.02138354e-03,\n",
              "        3.48123079e-03, -1.01245895e-02,  1.30770552e-02, -4.22023872e-03,\n",
              "       -1.21049258e-02, -5.91885363e-04,  1.33332720e-02,  1.12495043e-03,\n",
              "        4.05996075e-03,  1.17448563e-02,  3.21002331e-03, -4.40596477e-03,\n",
              "       -1.76077643e-02,  9.48456427e-03,  7.54652274e-03,  3.20805836e-05,\n",
              "       -8.97058474e-03, -3.57613977e-03, -6.01840320e-03,  7.42211592e-03,\n",
              "        7.97845468e-03, -7.91797440e-03, -1.82796640e-03,  1.94896156e-03,\n",
              "        4.31990321e-03,  6.71761864e-03,  6.40956321e-03, -4.18087283e-03,\n",
              "        1.14896078e-02, -5.17150443e-04,  7.39340815e-03,  7.72451885e-04,\n",
              "       -1.50023462e-02, -1.37423856e-02,  1.09583445e-02, -1.05575743e-03,\n",
              "       -9.62367277e-03,  1.56045334e-02, -7.01483677e-04,  2.13019687e-03,\n",
              "       -5.34426402e-03,  4.42173108e-03, -8.59396534e-03,  9.54694375e-03,\n",
              "       -4.37159868e-03, -1.55003064e-02, -2.53954355e-03, -9.40008757e-03,\n",
              "        3.43641882e-03, -5.05183767e-03])"
            ]
          },
          "metadata": {},
          "execution_count": 93
        }
      ]
    },
    {
      "cell_type": "code",
      "source": [
        "init = 10000\n",
        "stock = np.empty(250)\n",
        "for i,v in enumerate(a):\n",
        "  init *= (1 + v)\n",
        "  stock[i] = init\n",
        "stock"
      ],
      "metadata": {
        "colab": {
          "base_uri": "https://localhost:8080/"
        },
        "id": "C7CgIfRJN7lQ",
        "outputId": "70cee19f-58af-4cd5-c169-4ee86d638b7e"
      },
      "execution_count": 94,
      "outputs": [
        {
          "output_type": "execute_result",
          "data": {
            "text/plain": [
              "array([ 9957.34602272, 10047.85724636, 10195.63840869, 10185.44001998,\n",
              "       10143.12989825,  9937.86869313, 10015.86716336,  9953.57261198,\n",
              "       10171.50177842, 10293.79314902, 10459.12533669, 10397.24574387,\n",
              "       10283.80424236, 10202.66747158, 10126.2295569 , 10155.52711651,\n",
              "       10154.08532374, 10062.59253007, 10153.90804126, 10119.96136895,\n",
              "       10080.75117548, 10080.75222343, 10104.88613468, 10124.80246355,\n",
              "       10184.69301306, 10102.71298401,  9991.30296889,  9915.1394818 ,\n",
              "        9941.04911896,  9866.10937233,  9810.89721412,  9707.30867968,\n",
              "        9742.91196842,  9918.46986313,  9716.872989  ,  9646.65182929,\n",
              "        9577.12060239,  9624.57072212,  9596.58172929,  9497.37315209,\n",
              "        9514.33060942,  9373.96331262,  9256.66732678,  9037.50565904,\n",
              "        8976.84253765,  8870.29481929,  8742.77665134,  8778.19806395,\n",
              "        8845.12766431,  8914.47245382,  8818.31373176,  8744.26960221,\n",
              "        8814.61769691,  8667.00281418,  8672.87838153,  8789.37066916,\n",
              "        8883.16184814,  8888.6508433 ,  8837.62992368,  8920.98933795,\n",
              "        9092.09095564,  9010.92107043,  8945.70564299,  8986.41027241,\n",
              "        8931.90309555,  8953.75228216,  9081.11803676,  8882.98611373,\n",
              "        8928.09260275,  8901.77481465,  8934.72850636,  9101.20783542,\n",
              "        9017.65118469,  8872.57222547,  8902.77693586,  8998.00207017,\n",
              "        8939.23756472,  8802.82611828,  8809.18166101,  8822.55194787,\n",
              "        8684.24554341,  8752.75196522,  8752.51536783,  8628.89923175,\n",
              "        8630.28371316,  8678.77887371,  8450.50550158,  8414.66942123,\n",
              "        8596.21853511,  8715.88745936,  8769.83341804,  8890.06331816,\n",
              "        8743.23446724,  8897.01097141,  8875.5995661 ,  8965.33552395,\n",
              "        8970.96835365,  9003.89351789,  9047.48625089,  9103.10796912,\n",
              "        9162.21333078,  9313.42169277,  9360.65130126,  9490.86718612,\n",
              "        9472.14738224,  9528.62183911,  9566.39309426,  9647.49028589,\n",
              "        9643.65181092,  9470.95207948,  9298.61222549,  9098.83814587,\n",
              "        9306.59070542,  9343.17666893,  9517.06127617,  9707.41585158,\n",
              "        9756.58004083,  9685.94358887,  9689.52938215,  9631.40161201,\n",
              "        9715.61863447,  9741.56042473,  9815.01244331,  9740.03908907,\n",
              "        9844.74926428,  9887.16248618,  9790.44958038,  9711.95112938,\n",
              "        9530.10591033,  9418.97959576,  9420.9088355 ,  9320.00366994,\n",
              "        9290.49487112,  9190.62147208,  9107.37980449,  9122.1211933 ,\n",
              "        9263.46090113,  9214.42287451,  9347.25731214,  9362.1790928 ,\n",
              "        9331.4649121 ,  9224.60999001,  9245.76999189,  9382.45408909,\n",
              "        9494.74079473,  9488.77487537,  9551.75780357,  9637.4828424 ,\n",
              "        9640.12684073,  9560.58317137,  9476.04757218,  9458.38188054,\n",
              "        9518.31054958,  9452.66433897,  9563.23485874,  9496.71199195,\n",
              "        9399.31470996,  9255.46903315,  9259.01535976,  9229.01040185,\n",
              "        9245.192943  ,  9441.82916895,  9581.49971271,  9558.11945739,\n",
              "        9548.6818257 ,  9478.2389742 ,  9480.21240054,  9434.77399571,\n",
              "        9408.11055632,  9323.95799212,  9265.32336637,  9202.92471233,\n",
              "        9293.79600271,  9316.07162124,  9322.94613596,  9387.4916831 ,\n",
              "        9462.03353839,  9310.11100062,  9433.80844093,  9325.73707865,\n",
              "        9352.12126299,  9342.45198109,  9300.82052283,  9282.19786841,\n",
              "        9263.68676144,  9141.75430658,  9134.24192594,  9164.98177716,\n",
              "        9041.78707252,  9201.52961191,  9169.5284153 ,  8995.32901429,\n",
              "        8962.5599798 ,  8936.6907238 ,  9138.42965412,  9127.25034809,\n",
              "        9146.47367476,  9075.93816539,  9211.32311119,  9165.06952495,\n",
              "        9196.97524715,  9103.85964827,  9222.91132364,  9183.98843615,\n",
              "        9072.81693786,  9067.44687031,  9188.34560567,  9198.68203897,\n",
              "        9236.02832702,  9344.50415211,  9374.50022821,  9333.19651047,\n",
              "        9168.85978648,  9255.82242642,  9325.67170082,  9325.97087381,\n",
              "        9242.31146176,  9209.25966415,  9153.83462635,  9221.77544805,\n",
              "        9295.35096555,  9221.75061453,  9204.89356426,  9222.83354803,\n",
              "        9262.67529625,  9324.89841646,  9384.66694233,  9345.43084331,\n",
              "        9452.80617815,  9447.91765525,  9517.76996662,  9525.12198597,\n",
              "        9382.22280812,  9253.28868421,  9354.68940931,  9344.81312648,\n",
              "        9254.88170282,  9399.29981381,  9392.70635842,  9412.71467213,\n",
              "        9362.41063981,  9403.80870188,  9322.99269587,  9411.99878271,\n",
              "        9370.85330123,  9225.60220342,  9202.17338488,  9115.67214921,\n",
              "        9146.99741657,  9100.78827044])"
            ]
          },
          "metadata": {},
          "execution_count": 94
        }
      ]
    },
    {
      "cell_type": "markdown",
      "source": [
        "## 정수 데이터 카운팅\n",
        "* 만약 난수가 정수값이면 unique 명령이나 bincount 명령으로 데이터 값을 분석"
      ],
      "metadata": {
        "id": "zc2junJdO2d8"
      }
    },
    {
      "cell_type": "markdown",
      "source": [
        "### `unique`\n",
        "* unique 함수는 데이터에서 중복된 값을 제거하고 중복되지 않는 값의 리스트를 출력\n",
        "* return_counts 인수를 True 로 설정하면 각 값을 가진 데이터 갯수도 출력\n"
      ],
      "metadata": {
        "id": "NQWG8zU8PJtG"
      }
    },
    {
      "cell_type": "code",
      "source": [
        "np.unique([11,11,2,2,34,24])"
      ],
      "metadata": {
        "colab": {
          "base_uri": "https://localhost:8080/"
        },
        "id": "Zy46ohsVPDJv",
        "outputId": "32a13063-e347-4fb0-c0ef-cfc8dc752f40"
      },
      "execution_count": 95,
      "outputs": [
        {
          "output_type": "execute_result",
          "data": {
            "text/plain": [
              "array([ 2, 11, 24, 34])"
            ]
          },
          "metadata": {},
          "execution_count": 95
        }
      ]
    },
    {
      "cell_type": "code",
      "source": [
        "a = np.array(['a', 'b', 'c', 'a'])\n",
        "np.unique(a,return_counts=True)"
      ],
      "metadata": {
        "id": "9l5BuLbwPPQF",
        "colab": {
          "base_uri": "https://localhost:8080/"
        },
        "outputId": "1fe763c9-2bcb-4015-8444-783cd708f9e4"
      },
      "execution_count": 97,
      "outputs": [
        {
          "output_type": "execute_result",
          "data": {
            "text/plain": [
              "(array(['a', 'b', 'c'], dtype='<U1'), array([2, 1, 1]))"
            ]
          },
          "metadata": {},
          "execution_count": 97
        }
      ]
    },
    {
      "cell_type": "code",
      "source": [
        "a = np.array(['a', 'b', 'c', 'a'])\n",
        "index, count = np.unique(a,return_counts=True)"
      ],
      "metadata": {
        "id": "kMLRdBasPQ4L"
      },
      "execution_count": 98,
      "outputs": []
    },
    {
      "cell_type": "code",
      "source": [
        "index"
      ],
      "metadata": {
        "colab": {
          "base_uri": "https://localhost:8080/"
        },
        "id": "Kpx6OGmoPRi1",
        "outputId": "66b0a773-f6ff-435a-f77b-d945a6efe11b"
      },
      "execution_count": 100,
      "outputs": [
        {
          "output_type": "execute_result",
          "data": {
            "text/plain": [
              "array(['a', 'b', 'c'], dtype='<U1')"
            ]
          },
          "metadata": {},
          "execution_count": 100
        }
      ]
    },
    {
      "cell_type": "code",
      "source": [
        "count"
      ],
      "metadata": {
        "colab": {
          "base_uri": "https://localhost:8080/"
        },
        "id": "PGvup8qkjz7j",
        "outputId": "a36696f1-01dd-4eb6-c7f5-b61620cc8d88"
      },
      "execution_count": 102,
      "outputs": [
        {
          "output_type": "execute_result",
          "data": {
            "text/plain": [
              "array([2, 1, 1])"
            ]
          },
          "metadata": {},
          "execution_count": 102
        }
      ]
    },
    {
      "cell_type": "code",
      "source": [
        "dict(zip(*np.unique(a, return_counts=True)))"
      ],
      "metadata": {
        "colab": {
          "base_uri": "https://localhost:8080/"
        },
        "id": "mk6YwYtlj2u2",
        "outputId": "a2acc872-2512-4799-e414-329d519b708f"
      },
      "execution_count": 103,
      "outputs": [
        {
          "output_type": "execute_result",
          "data": {
            "text/plain": [
              "{'a': 2, 'b': 1, 'c': 1}"
            ]
          },
          "metadata": {},
          "execution_count": 103
        }
      ]
    },
    {
      "cell_type": "markdown",
      "source": [
        "### `bincount`\n",
        "* `unique` 함수는 데이터에 존재하는 값에 대해서만 갯수를 세므로 데이터 값이 나올 수 있음에도 불구하고 데이터가 하나도 없는 경우에는 정보를 주지 않음\n",
        "* 따라서 데이터가 주사위를 던졌을 때 나오는 수처럼 특정 범위안의 수인 경우에는 `bincount` 함수에 `minlength` 인수를 설정하여 쓰는 것이 더 편리\n",
        "* `bincount` 함수는 0 부터 `minlength` - 1 까지의 숫자에 대해 각각 카운트\n",
        "* 데이터가 없을 경우에는 카운트 값이 0이 됨"
      ],
      "metadata": {
        "id": "GihAHqezPWii"
      }
    },
    {
      "cell_type": "code",
      "source": [
        "np.bincount([1, 1, 2, 2, 2, 3], minlength=6)"
      ],
      "metadata": {
        "colab": {
          "base_uri": "https://localhost:8080/"
        },
        "id": "SWLVdyPEPmqk",
        "outputId": "f88ca9ff-6385-4a15-a71d-aa2f359cbd30"
      },
      "execution_count": 105,
      "outputs": [
        {
          "output_type": "execute_result",
          "data": {
            "text/plain": [
              "array([0, 2, 3, 1, 0, 0])"
            ]
          },
          "metadata": {},
          "execution_count": 105
        }
      ]
    }
  ]
}