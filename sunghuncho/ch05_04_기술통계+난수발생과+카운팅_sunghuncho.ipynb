{
  "nbformat": 4,
  "nbformat_minor": 0,
  "metadata": {
    "colab": {
      "provenance": [],
      "include_colab_link": true
    },
    "kernelspec": {
      "name": "python3",
      "display_name": "Python 3"
    },
    "language_info": {
      "name": "python"
    }
  },
  "cells": [
    {
      "cell_type": "markdown",
      "metadata": {
        "id": "view-in-github",
        "colab_type": "text"
      },
      "source": [
        "<a href=\"https://colab.research.google.com/github/chohoon901/DataAnalysis_1/blob/main/sunghuncho/ch05_04_%EA%B8%B0%EC%88%A0%ED%86%B5%EA%B3%84%2B%EB%82%9C%EC%88%98%EB%B0%9C%EC%83%9D%EA%B3%BC%2B%EC%B9%B4%EC%9A%B4%ED%8C%85_sunghuncho.ipynb\" target=\"_parent\"><img src=\"https://colab.research.google.com/assets/colab-badge.svg\" alt=\"Open In Colab\"/></a>"
      ]
    },
    {
      "cell_type": "markdown",
      "source": [
        "# 기술 통계"
      ],
      "metadata": {
        "id": "tqxkhX-JFimj"
      }
    },
    {
      "cell_type": "markdown",
      "source": [
        "## 기술 통계(descriptive statistics)\n",
        "> 데이터 집합에 대해 통계를 계산\n",
        "* 데이터의 개수(count)\n",
        "* 평균(mean, average)\n",
        "* 분산(variance)\n",
        "* 표준 편차(standard deviation)\n",
        "* 최댓값(maximum)\n",
        "* 최솟값(minimum)\n",
        "* 중앙값(median)\n",
        "* 사분위수(quartile)"
      ],
      "metadata": {
        "id": "gchQwkseFsUX"
      }
    },
    {
      "cell_type": "code",
      "source": [
        "import numpy as np"
      ],
      "metadata": {
        "id": "jttHEMK4F9XX"
      },
      "execution_count": 1,
      "outputs": []
    },
    {
      "cell_type": "code",
      "source": [
        "x=np.array([\n",
        "    18,5,10,23,19,-8,10,0,0,5,2,15,8,\n",
        "    2,5,4,15,-1,4,-7,-24,7,9,-6,23,-13\n",
        "])\n",
        "x"
      ],
      "metadata": {
        "colab": {
          "base_uri": "https://localhost:8080/"
        },
        "id": "XTYvCtsfVMx0",
        "outputId": "147f319c-53e2-4e64-d01d-fac4ba03dd3b"
      },
      "execution_count": 5,
      "outputs": [
        {
          "output_type": "execute_result",
          "data": {
            "text/plain": [
              "array([ 18,   5,  10,  23,  19,  -8,  10,   0,   0,   5,   2,  15,   8,\n",
              "         2,   5,   4,  15,  -1,   4,  -7, -24,   7,   9,  -6,  23, -13])"
            ]
          },
          "metadata": {},
          "execution_count": 5
        }
      ]
    },
    {
      "cell_type": "markdown",
      "source": [
        "## 데이터의 개수"
      ],
      "metadata": {
        "id": "5bzioyHoF557"
      }
    },
    {
      "cell_type": "code",
      "source": [
        "len(x)"
      ],
      "metadata": {
        "colab": {
          "base_uri": "https://localhost:8080/"
        },
        "id": "wlTrzCbKFl4j",
        "outputId": "ad955a4e-0eed-433c-bf86-ba73b6a77816"
      },
      "execution_count": 6,
      "outputs": [
        {
          "output_type": "execute_result",
          "data": {
            "text/plain": [
              "26"
            ]
          },
          "metadata": {},
          "execution_count": 6
        }
      ]
    },
    {
      "cell_type": "markdown",
      "source": [
        "## 표본 평균\n",
        "* 우리가 일반적으로 아는 평균\n",
        "* 통계용어로는 표본 평균(sample average, sample mean)\n",
        "<br>\n",
        "$\n",
        "\\bar{x} = \\frac{1}{N}\\displaystyle\\sum_{i=1}^{N}{x_i}\n",
        "$\n",
        "(𝑁은 데이터의 개수)"
      ],
      "metadata": {
        "id": "3xe5u1nkGBgM"
      }
    },
    {
      "cell_type": "code",
      "source": [
        "np.mean(x)"
      ],
      "metadata": {
        "colab": {
          "base_uri": "https://localhost:8080/"
        },
        "id": "SiQn6qJlF_Y_",
        "outputId": "c73dd60c-52ff-490a-965d-c675563b0888"
      },
      "execution_count": 7,
      "outputs": [
        {
          "output_type": "execute_result",
          "data": {
            "text/plain": [
              "4.8076923076923075"
            ]
          },
          "metadata": {},
          "execution_count": 7
        }
      ]
    },
    {
      "cell_type": "markdown",
      "source": [
        "## 표본 분산\n",
        "* 표본 분산(sample variance) : 데이터와 표본 평균간의 거리의 제곱의 평균\n",
        "* 표본 분산이 작으면 데이터가 모여있는 것이고 크면 흩어져 있는 것\n",
        "<br>\n",
        "$\n",
        "s^2 = \\frac{1}{N}\\displaystyle\\sum_{i=1}^{N}{(x_i-\\bar{x})^2}\n",
        "$"
      ],
      "metadata": {
        "id": "sMmBl-uLHWwF"
      }
    },
    {
      "cell_type": "code",
      "source": [
        "s=np.var(x)\n",
        "s"
      ],
      "metadata": {
        "colab": {
          "base_uri": "https://localhost:8080/"
        },
        "id": "ukbJg498HWZG",
        "outputId": "b0ce3059-5c5f-43db-fa09-34acb0e65ef6"
      },
      "execution_count": 10,
      "outputs": [
        {
          "output_type": "execute_result",
          "data": {
            "text/plain": [
              "115.23224852071006"
            ]
          },
          "metadata": {},
          "execution_count": 10
        }
      ]
    },
    {
      "cell_type": "markdown",
      "source": [
        "## 표본 표준편차\n",
        "* 표본 표준편차(sample standard variance) : 표본 분산의 양의 제곱근 값 \n",
        "<br>\n",
        "$\n",
        "s = \\sqrt{s^2}\n",
        "$"
      ],
      "metadata": {
        "id": "ox3H6KB8H4Hd"
      }
    },
    {
      "cell_type": "code",
      "source": [
        "np.sqrt(s),np.std(x)"
      ],
      "metadata": {
        "colab": {
          "base_uri": "https://localhost:8080/"
        },
        "id": "ESjtI9K9HP8g",
        "outputId": "ddf7a74b-e5c4-495d-d24b-e30864e393a4"
      },
      "execution_count": 12,
      "outputs": [
        {
          "output_type": "execute_result",
          "data": {
            "text/plain": [
              "(10.734628476137871, 10.734628476137871)"
            ]
          },
          "metadata": {},
          "execution_count": 12
        }
      ]
    },
    {
      "cell_type": "markdown",
      "source": [
        "## 최댓값과 최솟값"
      ],
      "metadata": {
        "id": "68MH4LSRINEC"
      }
    },
    {
      "cell_type": "code",
      "source": [
        "# 최댓값 (maximum) / 최솟값 (minimum)\n",
        "np.max(x),np.min(x)"
      ],
      "metadata": {
        "colab": {
          "base_uri": "https://localhost:8080/"
        },
        "id": "E-KkdiALIPvE",
        "outputId": "8b5548cb-fd24-4f43-fdaf-1bcb8c1eb110"
      },
      "execution_count": 21,
      "outputs": [
        {
          "output_type": "execute_result",
          "data": {
            "text/plain": [
              "(23, -24)"
            ]
          },
          "metadata": {},
          "execution_count": 21
        }
      ]
    },
    {
      "cell_type": "markdown",
      "source": [
        "## 중앙값\n",
        "* 중앙값(median) : 데이터를 크기대로 정렬하였을 때 가장 가운데에 있는 수\n",
        "* 만약 데이터의 수가 짝수이면 가장 가운데에 있는 두 수의 평균을 사용\n"
      ],
      "metadata": {
        "id": "vGgHFClPIWQV"
      }
    },
    {
      "cell_type": "code",
      "source": [
        "np.median(x)"
      ],
      "metadata": {
        "colab": {
          "base_uri": "https://localhost:8080/"
        },
        "id": "LS2P0zPnIUvN",
        "outputId": "55b8dba9-0cd9-4a2d-9e0b-8b95236a744c"
      },
      "execution_count": 22,
      "outputs": [
        {
          "output_type": "execute_result",
          "data": {
            "text/plain": [
              "5.0"
            ]
          },
          "metadata": {},
          "execution_count": 22
        }
      ]
    },
    {
      "cell_type": "markdown",
      "source": [
        "## 사분위수\n",
        "* 사분위수(quartile) : 데이터를 가장 작은 수부터 가장 큰 수까지 크기가 커지는 순서대로 정렬하였을 때 1/4, 2/4, 3/4 위치에 있는 수\n",
        "* 각각 1사분위수, 2사분위수, 3사분위수라고 함\n",
        "* 1/4의 위치란 전체 데이터의 수가 만약 100개이면 25번째 순서, 즉 하위 25%\n",
        "* 따라서 2사분위수는 중앙값과 같음\n",
        "* 때로는 위치를 1/100 단위로 나눈 백분위수(percentile)을 사용하기도 함\n",
        "* 1사분위수는 25% 백분위수와 같음\n"
      ],
      "metadata": {
        "id": "b1pLnirSIfsI"
      }
    },
    {
      "cell_type": "code",
      "source": [
        "np.percentile(x,0) # 최솟값"
      ],
      "metadata": {
        "colab": {
          "base_uri": "https://localhost:8080/"
        },
        "id": "EHTZ62T8Ici8",
        "outputId": "8e4f699f-f20c-41bd-db96-b2d43edc3448"
      },
      "execution_count": 15,
      "outputs": [
        {
          "output_type": "execute_result",
          "data": {
            "text/plain": [
              "-24.0"
            ]
          },
          "metadata": {},
          "execution_count": 15
        }
      ]
    },
    {
      "cell_type": "code",
      "source": [
        "np.percentile(x,25)"
      ],
      "metadata": {
        "colab": {
          "base_uri": "https://localhost:8080/"
        },
        "id": "h8tVnPH6Ixcv",
        "outputId": "9b2c0829-adb4-487e-b72d-f40275e8a7eb"
      },
      "execution_count": 16,
      "outputs": [
        {
          "output_type": "execute_result",
          "data": {
            "text/plain": [
              "0.0"
            ]
          },
          "metadata": {},
          "execution_count": 16
        }
      ]
    },
    {
      "cell_type": "code",
      "source": [
        "np.percentile(x,50)"
      ],
      "metadata": {
        "colab": {
          "base_uri": "https://localhost:8080/"
        },
        "id": "PuT1HTElIza1",
        "outputId": "ac8c3286-d3b1-4216-9ce8-5a037724462d"
      },
      "execution_count": 18,
      "outputs": [
        {
          "output_type": "execute_result",
          "data": {
            "text/plain": [
              "5.0"
            ]
          },
          "metadata": {},
          "execution_count": 18
        }
      ]
    },
    {
      "cell_type": "code",
      "source": [
        "np.percentile(x,75)"
      ],
      "metadata": {
        "colab": {
          "base_uri": "https://localhost:8080/"
        },
        "id": "v7wB_7N_I0zM",
        "outputId": "ca6572ab-c2dc-428c-c644-6b3420d94f50"
      },
      "execution_count": 17,
      "outputs": [
        {
          "output_type": "execute_result",
          "data": {
            "text/plain": [
              "10.0"
            ]
          },
          "metadata": {},
          "execution_count": 17
        }
      ]
    },
    {
      "cell_type": "code",
      "source": [
        "np.percentile(x,100) # 최댓값"
      ],
      "metadata": {
        "colab": {
          "base_uri": "https://localhost:8080/"
        },
        "id": "JbCd4SqGI20l",
        "outputId": "ea495908-470d-422b-9524-f1dd41905486"
      },
      "execution_count": 20,
      "outputs": [
        {
          "output_type": "execute_result",
          "data": {
            "text/plain": [
              "23.0"
            ]
          },
          "metadata": {},
          "execution_count": 20
        }
      ]
    },
    {
      "cell_type": "markdown",
      "source": [
        "# 난수 발생과 카운팅"
      ],
      "metadata": {
        "id": "x1uZuajeI9Si"
      }
    },
    {
      "cell_type": "markdown",
      "source": [
        "## 시드 설정\n",
        "* 컴퓨터 프로그램에서 발생하는 무작위 수는 사실 엄격한 의미의 무작위 수가 아님\n",
        "* 어떤 특정한 시작 숫자를 정해 주면 컴퓨터가 정해진 알고리즘에 의해 마치 난수처럼 보이는 수열을 생성. 이런 시작 숫자를 시드(seed)라고 함\n",
        "* 일단 생성된 난수는 다음번 난수 생성을 위한 시드값이 됨. 따라서 시드값은 한 번만 정해주면 됨.\n",
        "* 시드는 보통 현재 시각 등을 이용하여 자동으로 정해지지만 사람이 수동으로 설정할 수도 있음 * 특정한 시드값이 사용되면 그 다음에 만들어지는 난수들은 모두 예측할 수 있음\n",
        "* 고정된 결과를 얻기 위해서 실습엔 시드를 설정"
      ],
      "metadata": {
        "id": "ZCEj6C5UJHHc"
      }
    },
    {
      "cell_type": "code",
      "source": [
        "a=np.random.seed(0) # 시드값 고정"
      ],
      "metadata": {
        "id": "R9wwclqfI8_9"
      },
      "execution_count": 23,
      "outputs": []
    },
    {
      "cell_type": "markdown",
      "source": [
        "### `rand` : 0과 1 사이의 난수를 발생"
      ],
      "metadata": {
        "id": "OQRCx_xUJf6l"
      }
    },
    {
      "cell_type": "code",
      "source": [
        "np.random.rand(5) # rand(n) : 0과 1사이 n개의 랜덤값을 가지는 배열"
      ],
      "metadata": {
        "colab": {
          "base_uri": "https://localhost:8080/"
        },
        "id": "w26duH5TJb7f",
        "outputId": "3745961f-a12a-49eb-a9b1-ba248eac5fd6"
      },
      "execution_count": 25,
      "outputs": [
        {
          "output_type": "execute_result",
          "data": {
            "text/plain": [
              "array([0.64589411, 0.43758721, 0.891773  , 0.96366276, 0.38344152])"
            ]
          },
          "metadata": {},
          "execution_count": 25
        }
      ]
    },
    {
      "cell_type": "code",
      "source": [
        "np.random.rand(10)"
      ],
      "metadata": {
        "colab": {
          "base_uri": "https://localhost:8080/"
        },
        "id": "bnSQUYKVJkl8",
        "outputId": "303c96a7-82c2-4a83-bad3-bc81d84d56e4"
      },
      "execution_count": 26,
      "outputs": [
        {
          "output_type": "execute_result",
          "data": {
            "text/plain": [
              "array([0.79172504, 0.52889492, 0.56804456, 0.92559664, 0.07103606,\n",
              "       0.0871293 , 0.0202184 , 0.83261985, 0.77815675, 0.87001215])"
            ]
          },
          "metadata": {},
          "execution_count": 26
        }
      ]
    },
    {
      "cell_type": "markdown",
      "source": [
        "## 데이터의 순서 변경"
      ],
      "metadata": {
        "id": "TvJHX9FmJtgQ"
      }
    },
    {
      "cell_type": "markdown",
      "source": [
        "### `shuffle`\n",
        "* 데이터의 순서를 변경\n",
        "* 자체 변환(in-place) 함수 (원본에 영향)"
      ],
      "metadata": {
        "id": "89jdzc8rJyqB"
      }
    },
    {
      "cell_type": "code",
      "source": [
        "x=np.arange(10)\n",
        "x"
      ],
      "metadata": {
        "colab": {
          "base_uri": "https://localhost:8080/"
        },
        "id": "vUHakdiQJpjl",
        "outputId": "500d8712-2eaf-4635-95da-98d7d45040df"
      },
      "execution_count": 27,
      "outputs": [
        {
          "output_type": "execute_result",
          "data": {
            "text/plain": [
              "array([0, 1, 2, 3, 4, 5, 6, 7, 8, 9])"
            ]
          },
          "metadata": {},
          "execution_count": 27
        }
      ]
    },
    {
      "cell_type": "code",
      "source": [
        "np.random.shuffle(x)\n",
        "x"
      ],
      "metadata": {
        "colab": {
          "base_uri": "https://localhost:8080/"
        },
        "id": "ReqSVnNlJ7S0",
        "outputId": "103cb276-7b9d-4caa-a35c-82ee01e60325"
      },
      "execution_count": 33,
      "outputs": [
        {
          "output_type": "execute_result",
          "data": {
            "text/plain": [
              "array([8, 0, 1, 6, 2, 4, 7, 9, 3, 5])"
            ]
          },
          "metadata": {},
          "execution_count": 33
        }
      ]
    },
    {
      "cell_type": "markdown",
      "source": [
        "## 데이터 샘플링\n",
        "* 표본선택 혹은 샘플링(sampling) : 이미 있는 데이터 집합에서 일부를 무작위로 선택하는 것"
      ],
      "metadata": {
        "id": "MbQrSKXMKJAg"
      }
    },
    {
      "cell_type": "markdown",
      "source": [
        "### `choice` : 샘플링에 사용\n",
        "```\n",
        "numpy.random.choice(a, size=None, replace=True, p=None)\n",
        "```\n",
        "* a : 배열이면 원래의 데이터, 정수이면 arange(a) 명령으로 데이터 생성\n",
        "* size : 정수. 샘플 숫자\n",
        "* replace : 불리언. True이면 한번 선택한 데이터를 다시 선택 가능 (복원/비복원 추출)\n",
        "* p : 배열. 각 데이터가 선택될 수 있는 확률"
      ],
      "metadata": {
        "id": "gEkehbizKWrq"
      }
    },
    {
      "cell_type": "code",
      "source": [
        "np.random.choice(5,5) # 기본적으로 복원추출"
      ],
      "metadata": {
        "colab": {
          "base_uri": "https://localhost:8080/"
        },
        "id": "2aMW1Xqce55L",
        "outputId": "b56f25a4-69e6-4a0d-be20-d4d1d23fdc57"
      },
      "execution_count": 44,
      "outputs": [
        {
          "output_type": "execute_result",
          "data": {
            "text/plain": [
              "array([1, 2, 3, 3, 3])"
            ]
          },
          "metadata": {},
          "execution_count": 44
        }
      ]
    },
    {
      "cell_type": "code",
      "source": [
        "np.random.choice(5,5,replace=False) # 비복원 추출 (한번 뽑은건 다시 못뽑음)"
      ],
      "metadata": {
        "colab": {
          "base_uri": "https://localhost:8080/"
        },
        "id": "YvjoHXqIJ9KJ",
        "outputId": "db2fc824-33a5-4123-88b2-7b38f3fc03e9"
      },
      "execution_count": 38,
      "outputs": [
        {
          "output_type": "execute_result",
          "data": {
            "text/plain": [
              "array([3, 0, 2, 1, 4])"
            ]
          },
          "metadata": {},
          "execution_count": 38
        }
      ]
    },
    {
      "cell_type": "code",
      "source": [
        "np.random.choice(5,5,replace=True) # 복원 추출 (한번 뽑은것도 다시 뽑기 가능)"
      ],
      "metadata": {
        "colab": {
          "base_uri": "https://localhost:8080/"
        },
        "id": "knplEnwIKnYh",
        "outputId": "037b20ce-dafb-4cea-861c-2b506025315d"
      },
      "execution_count": 37,
      "outputs": [
        {
          "output_type": "execute_result",
          "data": {
            "text/plain": [
              "array([3, 2, 3, 0, 3])"
            ]
          },
          "metadata": {},
          "execution_count": 37
        }
      ]
    },
    {
      "cell_type": "code",
      "source": [
        "np.random.choice(5,10,replace=True)"
      ],
      "metadata": {
        "colab": {
          "base_uri": "https://localhost:8080/"
        },
        "id": "4Yd_3i6QKqMw",
        "outputId": "14fa1162-e5a9-4062-942f-cf1eb2aa45fe"
      },
      "execution_count": 40,
      "outputs": [
        {
          "output_type": "execute_result",
          "data": {
            "text/plain": [
              "array([3, 2, 0, 1, 1, 3, 0, 0, 1, 2])"
            ]
          },
          "metadata": {},
          "execution_count": 40
        }
      ]
    },
    {
      "cell_type": "code",
      "source": [
        "np.random.choice(5,10,p=[0.1,0,0.3,0.6,0]) # p : 각 데이터의 확률 지정"
      ],
      "metadata": {
        "colab": {
          "base_uri": "https://localhost:8080/"
        },
        "id": "lkbuDYTuKvBN",
        "outputId": "4b28ee89-9488-427b-ac2f-45bed7238a3c"
      },
      "execution_count": 48,
      "outputs": [
        {
          "output_type": "execute_result",
          "data": {
            "text/plain": [
              "array([2, 3, 2, 3, 3, 3, 3, 3, 3, 3])"
            ]
          },
          "metadata": {},
          "execution_count": 48
        }
      ]
    },
    {
      "cell_type": "markdown",
      "source": [
        "## 난수 생성\n",
        "* `rand` : 0부터 1 사이의 균일 분포\n",
        "* `randn` : 표준 정규 분포\n",
        "* `randint` : 균일 분포의 정수 난수"
      ],
      "metadata": {
        "id": "D8oZhgNLLCgd"
      }
    },
    {
      "cell_type": "markdown",
      "source": [
        "### `rand` : 0부터 1 사이에서 균일한 확률 분포로 실수 난수를 생성\n",
        "* 숫자 인수는 생성할 난수의 크기\n",
        "* 여러 개의 인수를 넣으면 해당 크기를 가진 행렬을 생성"
      ],
      "metadata": {
        "id": "BcH0M0-_LPMP"
      }
    },
    {
      "cell_type": "code",
      "source": [
        "np.random.rand(10)"
      ],
      "metadata": {
        "colab": {
          "base_uri": "https://localhost:8080/"
        },
        "id": "EWqs3z-zK0k_",
        "outputId": "f22c3497-668d-45cf-8b00-f5b4f03c158c"
      },
      "execution_count": 50,
      "outputs": [
        {
          "output_type": "execute_result",
          "data": {
            "text/plain": [
              "array([0.6439902 , 0.42385505, 0.60639321, 0.0191932 , 0.30157482,\n",
              "       0.66017354, 0.29007761, 0.61801543, 0.4287687 , 0.13547406])"
            ]
          },
          "metadata": {},
          "execution_count": 50
        }
      ]
    },
    {
      "cell_type": "code",
      "source": [
        "np.random.rand(3,5)"
      ],
      "metadata": {
        "colab": {
          "base_uri": "https://localhost:8080/"
        },
        "id": "DJTNzp8oLbVj",
        "outputId": "3f510e27-6078-49b5-fbe8-32eb4db64551"
      },
      "execution_count": 51,
      "outputs": [
        {
          "output_type": "execute_result",
          "data": {
            "text/plain": [
              "array([[0.29828233, 0.56996491, 0.59087276, 0.57432525, 0.65320082],\n",
              "       [0.65210327, 0.43141844, 0.8965466 , 0.36756187, 0.43586493],\n",
              "       [0.89192336, 0.80619399, 0.70388858, 0.10022689, 0.91948261]])"
            ]
          },
          "metadata": {},
          "execution_count": 51
        }
      ]
    },
    {
      "cell_type": "markdown",
      "source": [
        "### `randn` : 기댓값이 0이고 표준편차가 1인 표준 정규 분포(standard normal distribution)를 따르는 난수를 생성"
      ],
      "metadata": {
        "id": "HdWD5uVkLjQt"
      }
    },
    {
      "cell_type": "code",
      "source": [
        "np.random.randn(10)"
      ],
      "metadata": {
        "colab": {
          "base_uri": "https://localhost:8080/"
        },
        "id": "AlJYbewHLeZB",
        "outputId": "d519d3d0-4706-4206-ea03-6f169319c606"
      },
      "execution_count": 56,
      "outputs": [
        {
          "output_type": "execute_result",
          "data": {
            "text/plain": [
              "array([ 1.71334272, -0.74475482, -0.82643854, -0.09845252, -0.66347829,\n",
              "        1.12663592, -1.07993151, -1.14746865, -0.43782004, -0.49803245])"
            ]
          },
          "metadata": {},
          "execution_count": 56
        }
      ]
    },
    {
      "cell_type": "code",
      "source": [
        "np.random.randn(3,5)"
      ],
      "metadata": {
        "colab": {
          "base_uri": "https://localhost:8080/"
        },
        "id": "gbDMC1OxLt3f",
        "outputId": "771fd883-4f51-489c-8818-92d9d0eeac54"
      },
      "execution_count": 57,
      "outputs": [
        {
          "output_type": "execute_result",
          "data": {
            "text/plain": [
              "array([[ 1.92953205,  0.94942081,  0.08755124, -1.22543552,  0.84436298],\n",
              "       [-1.00021535, -1.5447711 ,  1.18802979,  0.31694261,  0.92085882],\n",
              "       [ 0.31872765,  0.85683061, -0.65102559, -1.03424284,  0.68159452]])"
            ]
          },
          "metadata": {},
          "execution_count": 57
        }
      ]
    },
    {
      "cell_type": "markdown",
      "source": [
        "### `randint`\n",
        "```\n",
        "numpy.random.randint(low, high=None, size=None)\n",
        "```\n",
        "만약 `high`를 입력하지 않으면 0과 `low`사이의 숫자, `high`를 입력하면 `low`와 `high`는 사이의 숫자를 출력. `size`는 난수의 숫자"
      ],
      "metadata": {
        "id": "FDtGkcnjLzTM"
      }
    },
    {
      "cell_type": "code",
      "source": [
        "np.random.randint(1,5,2)"
      ],
      "metadata": {
        "colab": {
          "base_uri": "https://localhost:8080/"
        },
        "id": "H5eTlhBGLy_D",
        "outputId": "41e2afcd-90b0-4a12-d468-d7d024857778"
      },
      "execution_count": 59,
      "outputs": [
        {
          "output_type": "execute_result",
          "data": {
            "text/plain": [
              "array([1, 3])"
            ]
          },
          "metadata": {},
          "execution_count": 59
        }
      ]
    },
    {
      "cell_type": "code",
      "source": [
        "np.random.randint(10,20,10)"
      ],
      "metadata": {
        "colab": {
          "base_uri": "https://localhost:8080/"
        },
        "id": "xlpHLyNALuyj",
        "outputId": "ce27d62d-ba2b-4e8e-dcb1-b106fd4b8ecd"
      },
      "execution_count": 64,
      "outputs": [
        {
          "output_type": "execute_result",
          "data": {
            "text/plain": [
              "array([15, 10, 10, 13, 11, 19, 19, 16, 16, 17])"
            ]
          },
          "metadata": {},
          "execution_count": 64
        }
      ]
    },
    {
      "cell_type": "code",
      "source": [
        "np.random.randint(10,20,15).reshape(3,-1)"
      ],
      "metadata": {
        "colab": {
          "base_uri": "https://localhost:8080/"
        },
        "id": "RwOU04I2ME1f",
        "outputId": "2c168d69-b5d6-46c8-a8ca-601437f29ff9"
      },
      "execution_count": 66,
      "outputs": [
        {
          "output_type": "execute_result",
          "data": {
            "text/plain": [
              "array([[16, 11, 17, 14, 19],\n",
              "       [12, 10, 18, 12, 17],\n",
              "       [18, 14, 14, 11, 17]])"
            ]
          },
          "metadata": {},
          "execution_count": 66
        }
      ]
    },
    {
      "cell_type": "markdown",
      "source": [
        "## 💡 연습문제 7\n",
        "1. 동전을 10번 던져 앞면(숫자 1)과 뒷면(숫자 0)이 나오는 가상 실험을 작성하라\n",
        "2. 주사위를 100번 던져서 나오는 숫자의 평균\n",
        "3. 가격이 10,000원인 주식이 있다. 이 주식의 일간 수익률(%)은 기댓값이 0%이고 표준편차가 1%인 표준 정규 분포를 따른다고 하자. 250일 동안의 주가를 무작위로 생성하라"
      ],
      "metadata": {
        "id": "dCofCh17MOVI"
      }
    },
    {
      "cell_type": "code",
      "source": [
        "# 1.\n"
      ],
      "metadata": {
        "colab": {
          "base_uri": "https://localhost:8080/"
        },
        "id": "wSVBjqWJMGJ3",
        "outputId": "243a5810-26df-44c7-9da3-7f1cca9ff461"
      },
      "execution_count": null,
      "outputs": [
        {
          "output_type": "execute_result",
          "data": {
            "text/plain": [
              "array(['TAIL', 'TAIL', 'HEAD', 'HEAD', 'HEAD', 'HEAD', 'TAIL', 'TAIL',\n",
              "       'TAIL', 'HEAD'], dtype='<U4')"
            ]
          },
          "metadata": {},
          "execution_count": 327
        }
      ]
    },
    {
      "cell_type": "code",
      "source": [
        "# 2.\n"
      ],
      "metadata": {
        "colab": {
          "base_uri": "https://localhost:8080/"
        },
        "id": "rpstIcwsNB-3",
        "outputId": "5934b204-7c5e-4862-9c81-0a618cdf204a"
      },
      "execution_count": null,
      "outputs": [
        {
          "output_type": "execute_result",
          "data": {
            "text/plain": [
              "3.66"
            ]
          },
          "metadata": {},
          "execution_count": 342
        }
      ]
    },
    {
      "cell_type": "code",
      "source": [
        "# 3.\n"
      ],
      "metadata": {
        "colab": {
          "base_uri": "https://localhost:8080/"
        },
        "id": "zrCTnmQBNjbm",
        "outputId": "352751d5-c688-4dbd-c911-cd8e5f962911"
      },
      "execution_count": null,
      "outputs": [
        {
          "output_type": "execute_result",
          "data": {
            "text/plain": [
              "array([-0.00317543, -0.01632423, -0.00067134,  0.01489356,  0.00521304,\n",
              "        0.00611927, -0.01341497,  0.00476898,  0.0014845 ,  0.00529045,\n",
              "        0.00422629, -0.01359781, -0.00041401, -0.00757871, -0.00050084,\n",
              "       -0.00897401,  0.0131247 , -0.00858972, -0.00898942,  0.00074586,\n",
              "       -0.01077099, -0.00424663, -0.00829965,  0.01411172,  0.00785804,\n",
              "       -0.0005747 , -0.00391217,  0.00940918,  0.00405204,  0.00498052,\n",
              "       -0.00026192, -0.0168823 , -0.00112466, -0.0053249 ,  0.00645055,\n",
              "        0.01011842, -0.00657951,  0.00468385,  0.01735879, -0.00667713,\n",
              "        0.01681922, -0.00852586,  0.0002296 , -0.00011146,  0.00011499,\n",
              "       -0.00837678, -0.00591183, -0.0066772 ,  0.00326963,  0.00330035,\n",
              "        0.02225944,  0.01370989, -0.00509843,  0.0032487 ,  0.00997118,\n",
              "        0.00030602, -0.00069642,  0.00051575,  0.00867277, -0.00848321,\n",
              "       -0.00325669,  0.00470433,  0.00311447,  0.00239583, -0.00369801,\n",
              "        0.00972536,  0.02133868,  0.00406415, -0.00193177,  0.0075574 ,\n",
              "       -0.00539133, -0.0074969 ,  0.00032809, -0.02582797, -0.0115395 ,\n",
              "       -0.00347962, -0.01353389, -0.01032643, -0.00436748, -0.01642965,\n",
              "       -0.00406072, -0.0053527 ,  0.00025405,  0.01154184,  0.00172504,\n",
              "        0.00021062,  0.00099454,  0.00227393, -0.01016739, -0.00114775,\n",
              "        0.00308751, -0.0137076 ,  0.00865653,  0.01081376, -0.00631376,\n",
              "       -0.00241338, -0.0087819 ,  0.0069938 , -0.01061222, -0.00222477,\n",
              "       -0.0085892 ,  0.00050954, -0.01794229,  0.01326462, -0.00964606,\n",
              "        0.00059895, -0.00212523, -0.00762115, -0.0088778 ,  0.00936399,\n",
              "       -0.00525641,  0.0027117 , -0.00801497, -0.00647181,  0.00472247,\n",
              "        0.00930408, -0.00175316, -0.0142192 ,  0.01997956, -0.00856549,\n",
              "       -0.01541587,  0.02594425, -0.00404032, -0.01461733, -0.0068344 ,\n",
              "        0.00367545,  0.00190312, -0.00851729,  0.01822724, -0.0052158 ,\n",
              "       -0.01184687,  0.00960693,  0.01329063, -0.00817493, -0.01401347,\n",
              "        0.01030438, -0.02047324, -0.01226622,  0.00967446, -0.00055353,\n",
              "       -0.00263937,  0.00352817, -0.00152774, -0.01298687,  0.01276075,\n",
              "        0.01325014,  0.00205333,  0.00045134,  0.02339625, -0.00276433,\n",
              "       -0.00259577,  0.00364481,  0.01471322,  0.01592771, -0.00258573,\n",
              "        0.00308331, -0.01378083, -0.00311976, -0.0084029 , -0.01006832,\n",
              "        0.01681577, -0.00792287, -0.00531606,  0.00365849,  0.01297825,\n",
              "        0.00481115,  0.02759355, -0.00074668,  0.00258716,  0.00275601,\n",
              "        0.01435049,  0.00507239, -0.0011623 , -0.00947489,  0.00244443,\n",
              "        0.01401345, -0.00410382,  0.00528944,  0.00246148,  0.0086352 ,\n",
              "       -0.00804754,  0.02346647, -0.01279161, -0.00365551,  0.00938093,\n",
              "        0.00296733,  0.00829986, -0.00496102, -0.00074805,  0.00012232,\n",
              "        0.0156926 ,  0.00690429,  0.00796672, -0.00657926,  0.00968883,\n",
              "        0.00225582,  0.01389145,  0.0201406 , -0.00306766, -0.00406303,\n",
              "       -0.00864045, -0.0014358 , -0.00382025,  0.00359504, -0.00144567,\n",
              "       -0.00361599,  0.01064585, -0.0093788 ,  0.00433108, -0.00405942,\n",
              "        0.00724369,  0.01385262, -0.00303098,  0.00441033,  0.00178793,\n",
              "       -0.00799422,  0.00240788,  0.00289121,  0.00412871, -0.00198399,\n",
              "        0.00094192, -0.01147611, -0.00358114,  0.00555963,  0.00892474,\n",
              "       -0.00422315,  0.00104714,  0.00228053,  0.0020148 ,  0.00540774,\n",
              "       -0.01818078, -0.00049324,  0.00239034, -0.0100033 ,  0.01673986,\n",
              "        0.00161559,  0.01563405, -0.00790523, -0.009073  ,  0.00224252,\n",
              "       -0.01678688,  0.00214966,  0.00097219,  0.01015665,  0.00701041,\n",
              "       -0.00417477, -0.01097497,  0.01712305, -0.00792115, -0.01045525])"
            ]
          },
          "metadata": {},
          "execution_count": 339
        }
      ]
    },
    {
      "cell_type": "code",
      "source": [],
      "metadata": {
        "colab": {
          "base_uri": "https://localhost:8080/"
        },
        "id": "C7CgIfRJN7lQ",
        "outputId": "631f257c-b481-4dd8-e915-d4f28501b7fa"
      },
      "execution_count": null,
      "outputs": [
        {
          "output_type": "execute_result",
          "data": {
            "text/plain": [
              "array([ 9968.24569061,  9805.52172515,  9798.93887103,  9944.87995133,\n",
              "        9996.72298327, 10057.89564959,  9922.96930879,  9970.29178757,\n",
              "        9985.09264399, 10037.91830117, 10080.34141693,  9943.27087728,\n",
              "        9939.15428244,  9863.82832836,  9858.88811928,  9770.41436592,\n",
              "        9898.64815922,  9813.6215047 ,  9725.40272392,  9732.65655233,\n",
              "        9627.82619918,  9586.94035449,  9507.37214356,  9641.53752326,\n",
              "        9717.30109408,  9711.71660794,  9673.72271651,  9764.74447753,\n",
              "        9804.31162059,  9853.14223038,  9850.56147198,  9684.2613353 ,\n",
              "        9673.36983564,  9621.86011642,  9683.9264325 ,  9781.91250933,\n",
              "        9717.55231377,  9763.06789394,  9932.54293905,  9866.22208637,\n",
              "       10032.16422056,  9946.63140825,  9948.91513051,  9947.80626305,\n",
              "        9948.95015133,  9865.60998051,  9807.28616123,  9741.80092199,\n",
              "        9773.65296712,  9805.90945388, 10024.18353955, 10161.61399384,\n",
              "       10109.8056916 , 10142.64937851, 10243.78355919, 10246.91834384,\n",
              "       10239.78222817, 10245.06338999, 10333.91643038, 10246.25169649,\n",
              "       10212.88278302, 10260.92756867, 10292.8849271 , 10317.54490488,\n",
              "       10279.39050348, 10379.36125504, 10600.84314912, 10643.92661814,\n",
              "       10623.36503178, 10703.65008136, 10645.94321045, 10566.1316021 ,\n",
              "       10569.59821755, 10296.60699067, 10177.78925686, 10142.37443247,\n",
              "       10005.10866694,  9901.79160246,  9858.54569226,  9696.57320809,\n",
              "        9657.19815908,  9605.50605861,  9607.94635744,  9718.83973996,\n",
              "        9735.60516774,  9737.65568298,  9747.34021556,  9769.50496298,\n",
              "        9670.17463024,  9659.07565591,  9688.89817194,  9556.08663305,\n",
              "        9638.8091763 ,  9743.04094874,  9681.52572764,  9658.16054727,\n",
              "        9573.34351405,  9640.29761022,  9537.9926234 ,  9516.77278258,\n",
              "        9435.03132657,  9439.83887857,  9270.46652622,  9393.43570876,\n",
              "        9302.82602446,  9308.39792263,  9288.61543195,  9217.82554578,\n",
              "        9135.99152156,  9221.5408131 ,  9173.06865128,  9197.94327848,\n",
              "        9124.22204958,  9065.17177868,  9107.98179405,  9192.72323049,\n",
              "        9176.60687885,  9046.12288209,  9226.8604442 ,  9147.82783489,\n",
              "        9006.80607364,  9240.48086499,  9203.14633819,  9068.62093982,\n",
              "        9006.64237801,  9039.74583238,  9056.94951347,  8979.80883009,\n",
              "        9143.48592488,  9095.79536043,  8988.03869251,  9074.38618688,\n",
              "        9194.99048224,  9119.82206972,  8992.02169002,  9084.67892253,\n",
              "        8898.68614577,  8789.53293411,  8874.56693209,  8869.65463316,\n",
              "        8846.2443019 ,  8877.45532084,  8863.89283965,  8748.77864028,\n",
              "        8860.41964758,  8977.82145306,  8996.25584402,  9000.31621552,\n",
              "        9210.88984632,  9185.42792146,  9161.5846649 ,  9194.97692313,\n",
              "        9330.26463747,  9478.87436392,  9454.36458902,  9483.51534916,\n",
              "        9352.82459204,  9323.64601389,  9245.30031193,  9152.21569279,\n",
              "        9306.11722091,  9232.38609543,  9183.3061855 ,  9216.90319987,\n",
              "        9336.52249843,  9381.44192045,  9640.30921785,  9633.11099386,\n",
              "        9658.03343571,  9684.65104095,  9823.63056633,  9873.45984697,\n",
              "        9861.98395417,  9768.54278098,  9792.42134455,  9929.64693492,\n",
              "        9888.89747172,  9941.20416383,  9965.67421805, 10051.72977401,\n",
              "        9970.83810266, 10204.81847891, 10074.28240989, 10037.45576073,\n",
              "       10131.61638452, 10161.68025124, 10246.02079085, 10195.19004257,\n",
              "       10187.56353242, 10188.80967353, 10348.69854894, 10420.14896737,\n",
              "       10503.16338784, 10434.06033537, 10535.15413445, 10558.91951041,\n",
              "       10705.59824618, 10921.2154348 , 10887.71288352, 10843.47576524,\n",
              "       10749.78325603, 10734.34876972, 10693.34082564, 10731.78385637,\n",
              "       10716.26925805, 10677.51930548, 10791.19058892, 10689.98214568,\n",
              "       10736.28130854, 10692.69826276, 10770.1528013 , 10919.34758658,\n",
              "       10886.25123476, 10934.26318507, 10953.81286756, 10866.2456339 ,\n",
              "       10892.41019616, 10923.90238756, 10969.00399297, 10947.24161006,\n",
              "       10957.55306875, 10831.80299044, 10793.01277931, 10853.01790238,\n",
              "       10949.87825314, 10903.63529406, 10915.05292993, 10939.94507107,\n",
              "       10961.98686657, 11021.26639597, 10820.89121704, 10815.55391307,\n",
              "       10841.40672108, 10732.95683939, 10912.62500283, 10930.25535982,\n",
              "       11101.13949076, 11013.3824274 , 10913.45799525, 10937.93166719,\n",
              "       10754.31788116, 10777.43596411, 10787.91370458, 10897.48279868,\n",
              "       10973.87865825, 10928.06520044, 10808.13005044, 10993.19822562,\n",
              "       10906.11945123, 10792.09329415])"
            ]
          },
          "metadata": {},
          "execution_count": 340
        }
      ]
    },
    {
      "cell_type": "markdown",
      "source": [
        "## 정수 데이터 카운팅\n",
        "* 만약 난수가 정수값이면 unique 명령이나 bincount 명령으로 데이터 값을 분석"
      ],
      "metadata": {
        "id": "zc2junJdO2d8"
      }
    },
    {
      "cell_type": "markdown",
      "source": [
        "### `unique`\n",
        "* unique 함수는 데이터에서 중복된 값을 제거하고 중복되지 않는 값의 리스트를 출력\n",
        "* return_counts 인수를 True 로 설정하면 각 값을 가진 데이터 갯수도 출력\n"
      ],
      "metadata": {
        "id": "NQWG8zU8PJtG"
      }
    },
    {
      "cell_type": "code",
      "source": [
        "np.unique([11,11,2,2,34,34])"
      ],
      "metadata": {
        "colab": {
          "base_uri": "https://localhost:8080/"
        },
        "id": "Zy46ohsVPDJv",
        "outputId": "80ba1363-7377-4502-be73-106ed7dce167"
      },
      "execution_count": 67,
      "outputs": [
        {
          "output_type": "execute_result",
          "data": {
            "text/plain": [
              "array([ 2, 11, 34])"
            ]
          },
          "metadata": {},
          "execution_count": 67
        }
      ]
    },
    {
      "cell_type": "code",
      "source": [
        "a=np.array(['a','b','b','c','a'])\n",
        "index,count=np.unique(a,return_counts=True)"
      ],
      "metadata": {
        "id": "9l5BuLbwPPQF"
      },
      "execution_count": 69,
      "outputs": []
    },
    {
      "cell_type": "code",
      "source": [
        "index"
      ],
      "metadata": {
        "colab": {
          "base_uri": "https://localhost:8080/"
        },
        "id": "b-oLAZquj7rg",
        "outputId": "84dbb6ce-e311-4c7a-8ef8-d83541f082df"
      },
      "execution_count": 70,
      "outputs": [
        {
          "output_type": "execute_result",
          "data": {
            "text/plain": [
              "array(['a', 'b', 'c'], dtype='<U1')"
            ]
          },
          "metadata": {},
          "execution_count": 70
        }
      ]
    },
    {
      "cell_type": "code",
      "source": [
        "count"
      ],
      "metadata": {
        "colab": {
          "base_uri": "https://localhost:8080/"
        },
        "id": "kMLRdBasPQ4L",
        "outputId": "1dce887d-2240-4d34-8c5a-5f4a75968f08"
      },
      "execution_count": 71,
      "outputs": [
        {
          "output_type": "execute_result",
          "data": {
            "text/plain": [
              "array([2, 2, 1])"
            ]
          },
          "metadata": {},
          "execution_count": 71
        }
      ]
    },
    {
      "cell_type": "code",
      "source": [
        "dict(zip(*np.unique(a,return_counts=True)))"
      ],
      "metadata": {
        "colab": {
          "base_uri": "https://localhost:8080/"
        },
        "id": "Kpx6OGmoPRi1",
        "outputId": "865df3b2-199d-4c61-bf77-c1801bd3901b"
      },
      "execution_count": 72,
      "outputs": [
        {
          "output_type": "execute_result",
          "data": {
            "text/plain": [
              "{'a': 2, 'b': 2, 'c': 1}"
            ]
          },
          "metadata": {},
          "execution_count": 72
        }
      ]
    },
    {
      "cell_type": "markdown",
      "source": [
        "### `bincount`\n",
        "* `unique` 함수는 데이터에 존재하는 값에 대해서만 갯수를 세므로 데이터 값이 나올 수 있음에도 불구하고 데이터가 하나도 없는 경우에는 정보를 주지 않음\n",
        "* 따라서 데이터가 주사위를 던졌을 때 나오는 수처럼 특정 범위안의 수인 경우에는 `bincount` 함수에 `minlength` 인수를 설정하여 쓰는 것이 더 편리\n",
        "* `bincount` 함수는 0 부터 `minlength` - 1 까지의 숫자에 대해 각각 카운트\n",
        "* 데이터가 없을 경우에는 카운트 값이 0이 됨"
      ],
      "metadata": {
        "id": "GihAHqezPWii"
      }
    },
    {
      "cell_type": "code",
      "source": [
        "np.bincount([1,1,2,2,2,3],minlength=6)"
      ],
      "metadata": {
        "colab": {
          "base_uri": "https://localhost:8080/"
        },
        "id": "SWLVdyPEPmqk",
        "outputId": "e62805e8-1e7a-467c-c592-e2b4da112970"
      },
      "execution_count": 73,
      "outputs": [
        {
          "output_type": "execute_result",
          "data": {
            "text/plain": [
              "array([0, 2, 3, 1, 0, 0])"
            ]
          },
          "metadata": {},
          "execution_count": 73
        }
      ]
    }
  ]
}