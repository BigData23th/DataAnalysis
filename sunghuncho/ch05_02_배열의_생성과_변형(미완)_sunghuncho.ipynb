{
  "nbformat": 4,
  "nbformat_minor": 0,
  "metadata": {
    "colab": {
      "provenance": [],
      "collapsed_sections": [
        "3vzkJFqn7psT",
        "YpE_nZs6DNUs",
        "6E8zYWggFjXD",
        "OrnOIxEVHiJo",
        "_0K1tgYXZdVs",
        "7GRh7kJrpWro",
        "NsTbqgCerbwE",
        "Gxql5YN2sIwK",
        "X6MaU-Ikt1Db",
        "9m6UebhOuIB-",
        "M7XRi-wDuqDT",
        "BzGKpxy3y_Bs",
        "5R9AhngezRwv",
        "PSDbjEhezzIn",
        "co3lWwjG0RUW",
        "sKKGfaUs57p5",
        "0bu09Yqa7q4u",
        "VyUPscjA8Lf8",
        "8N5Dc5Q--Uko",
        "QLUTAyOg-eZh",
        "c4xwPdamAFZ_",
        "tqxkhX-JFimj",
        "x1uZuajeI9Si",
        "dCofCh17MOVI"
      ],
      "include_colab_link": true
    },
    "kernelspec": {
      "name": "python3",
      "display_name": "Python 3"
    },
    "language_info": {
      "name": "python"
    }
  },
  "cells": [
    {
      "cell_type": "markdown",
      "metadata": {
        "id": "view-in-github",
        "colab_type": "text"
      },
      "source": [
        "<a href=\"https://colab.research.google.com/github/chohoon901/DataAnalysis_1/blob/main/sunghuncho/ch05_02_%EB%B0%B0%EC%97%B4%EC%9D%98_%EC%83%9D%EC%84%B1%EA%B3%BC_%EB%B3%80%ED%98%95(%EB%AF%B8%EC%99%84)_sunghuncho.ipynb\" target=\"_parent\"><img src=\"https://colab.research.google.com/assets/colab-badge.svg\" alt=\"Open In Colab\"/></a>"
      ]
    },
    {
      "cell_type": "markdown",
      "source": [
        "# 배열의 생성과 변형"
      ],
      "metadata": {
        "id": "_0K1tgYXZdVs"
      }
    },
    {
      "cell_type": "markdown",
      "source": [
        "## Numpy의 자료형\n",
        "* Numpy의 배열 즉, `ndarray` 클래스는 원소가 모두 같은 자료형이어야 함\n",
        "* `array` 명령으로 배열을 만들 때 자료형을 명시적으로 적용하려면 `dtype` 인수를 사용\n",
        "* 만약 `dtype` 인수가 없으면 주어진 데이터를 저장할 수 있는 자료형을 스스로 유추\n",
        "* 만들어진 배열의 자료형을 알아내려면 `dtype` 속성을 사용 \n"
      ],
      "metadata": {
        "id": "7GRh7kJrpWro"
      }
    },
    {
      "cell_type": "code",
      "source": [
        "import numpy as np\n",
        "\n",
        "x=np.array([1,2,3,4])\n",
        "x.dtype"
      ],
      "metadata": {
        "colab": {
          "base_uri": "https://localhost:8080/"
        },
        "id": "rYTmFQ5fpp7o",
        "outputId": "e03870a9-e5aa-471b-d286-df16ac6bd4b4"
      },
      "execution_count": 8,
      "outputs": [
        {
          "output_type": "execute_result",
          "data": {
            "text/plain": [
              "dtype('int64')"
            ]
          },
          "metadata": {},
          "execution_count": 8
        }
      ]
    },
    {
      "cell_type": "code",
      "source": [
        "x=np.array([1,2,3.0])\n",
        "x.dtype"
      ],
      "metadata": {
        "colab": {
          "base_uri": "https://localhost:8080/"
        },
        "id": "d64JSVz2psei",
        "outputId": "35ff5ea4-d807-4d62-d55d-85b76df69d07"
      },
      "execution_count": 11,
      "outputs": [
        {
          "output_type": "execute_result",
          "data": {
            "text/plain": [
              "dtype('float64')"
            ]
          },
          "metadata": {},
          "execution_count": 11
        }
      ]
    },
    {
      "cell_type": "code",
      "source": [],
      "metadata": {
        "colab": {
          "base_uri": "https://localhost:8080/"
        },
        "id": "mFLyII5RpuNJ",
        "outputId": "27ca5291-4d2d-42e3-c21b-94c6ae5e1187"
      },
      "execution_count": null,
      "outputs": [
        {
          "output_type": "execute_result",
          "data": {
            "text/plain": [
              "dtype('float64')"
            ]
          },
          "metadata": {},
          "execution_count": 134
        }
      ]
    },
    {
      "cell_type": "markdown",
      "source": [
        "* `dtype` 인수\n",
        "    * dtype 접두사로 시작하는 문자열\n",
        "    * 접두사 뒤 오는 숫자 = 바이트 수 혹은 글자 수\n",
        "    * 숫자 생략 시 운영체제에 따라 알맞은 크기 지정\n",
        "\n",
        "|dtype 접두사|설명|사용 예|\n",
        "|-|-|-|\n",
        "|`b`|불리언|`b` (참 혹은 거짓)|\n",
        "|`i`|정수|`i8` (64비트)|\n",
        "|`u`|부호 없는 정수|`u8` (64비트)|\n",
        "|`f`|부동소수점|`f8` (64비트)|\n",
        "|`c`|복소 부동소수점|`c16` (128비트)|\n",
        "|`O`|객체|`0` (객체에 대한 포인터)|\n",
        "|`S`|바이트 문자열|`S24` (24 글자)|\n",
        "|`U`|유니코드 문자열|`U24` (24 유니코드 글자)|"
      ],
      "metadata": {
        "id": "S6c6HHW7qH9g"
      }
    },
    {
      "cell_type": "code",
      "source": [
        "x=np.array([1,2,3],dtype='f') # 이때 기본은 32비트\n",
        "x.dtype"
      ],
      "metadata": {
        "colab": {
          "base_uri": "https://localhost:8080/"
        },
        "id": "UH6Ui6lLpviT",
        "outputId": "f399dd89-7c29-4982-c46f-68f0c4d8aa71"
      },
      "execution_count": 12,
      "outputs": [
        {
          "output_type": "execute_result",
          "data": {
            "text/plain": [
              "dtype('float32')"
            ]
          },
          "metadata": {},
          "execution_count": 12
        }
      ]
    },
    {
      "cell_type": "code",
      "source": [
        "x[0]+x[1]"
      ],
      "metadata": {
        "colab": {
          "base_uri": "https://localhost:8080/"
        },
        "id": "nKM5M4FYrPTY",
        "outputId": "ae2f22be-4f7b-4deb-fa68-82308b64edd6"
      },
      "execution_count": 13,
      "outputs": [
        {
          "output_type": "execute_result",
          "data": {
            "text/plain": [
              "3.0"
            ]
          },
          "metadata": {},
          "execution_count": 13
        }
      ]
    },
    {
      "cell_type": "code",
      "source": [
        "x=np.array([1,2,3],dtype='U') # 문자열로 인식\n",
        "x.dtype"
      ],
      "metadata": {
        "colab": {
          "base_uri": "https://localhost:8080/"
        },
        "id": "4W-7P_i8rRjf",
        "outputId": "16ad926e-6826-46a9-eafd-6b5a6c949f3b"
      },
      "execution_count": 16,
      "outputs": [
        {
          "output_type": "execute_result",
          "data": {
            "text/plain": [
              "dtype('<U1')"
            ]
          },
          "metadata": {},
          "execution_count": 16
        }
      ]
    },
    {
      "cell_type": "code",
      "source": [
        "x[0]+x[1]"
      ],
      "metadata": {
        "colab": {
          "base_uri": "https://localhost:8080/",
          "height": 35
        },
        "id": "5zquUdLsrUBT",
        "outputId": "205c0791-4a3a-4579-8568-e46fe89d0ffa"
      },
      "execution_count": 15,
      "outputs": [
        {
          "output_type": "execute_result",
          "data": {
            "text/plain": [
              "'12'"
            ],
            "application/vnd.google.colaboratory.intrinsic+json": {
              "type": "string"
            }
          },
          "metadata": {},
          "execution_count": 15
        }
      ]
    },
    {
      "cell_type": "markdown",
      "source": [
        "## Inf와 NaN\n",
        "* Numpy에서는 무한대를 표현하기 위한 `np.inf`(infinity)와 정의할 수 없는 숫자를 나타내는 `np.nan(not a number)`을 사용\n"
      ],
      "metadata": {
        "id": "NsTbqgCerbwE"
      }
    },
    {
      "cell_type": "code",
      "source": [
        "# 1을 0으로 나누려고 할 때, 0을 0으로 나누려고 시도...\n",
        "np.array(np.Infinity)"
      ],
      "metadata": {
        "colab": {
          "base_uri": "https://localhost:8080/"
        },
        "id": "dLGfAKh1rYxF",
        "outputId": "dc9fda6d-0bea-4b6b-aa86-f4c141cf108b"
      },
      "execution_count": 17,
      "outputs": [
        {
          "output_type": "execute_result",
          "data": {
            "text/plain": [
              "array(inf)"
            ]
          },
          "metadata": {},
          "execution_count": 17
        }
      ]
    },
    {
      "cell_type": "code",
      "source": [
        "# 0에 대한 로그 값을 계산\n"
      ],
      "metadata": {
        "colab": {
          "base_uri": "https://localhost:8080/"
        },
        "id": "KUc9TR0arwSH",
        "outputId": "34e3154a-d1d4-4a24-eb1f-2210a1d7f328"
      },
      "execution_count": null,
      "outputs": [
        {
          "output_type": "stream",
          "name": "stderr",
          "text": [
            "<ipython-input-140-cc64fe1345a2>:2: RuntimeWarning: divide by zero encountered in log\n",
            "  np.log(0)\n"
          ]
        },
        {
          "output_type": "execute_result",
          "data": {
            "text/plain": [
              "-inf"
            ]
          },
          "metadata": {},
          "execution_count": 140
        }
      ]
    },
    {
      "cell_type": "markdown",
      "source": [
        "## 배열 생성\n",
        "* `zeros`, `ones`\n",
        "* `zeros_like`, `ones_like`\n",
        "* `empty`\n",
        "* `arange`\n",
        "* `linspace`, `logspace`"
      ],
      "metadata": {
        "id": "Gxql5YN2sIwK"
      }
    },
    {
      "cell_type": "markdown",
      "source": [
        "### zeros : 크기가 정해져 있고 모든 값이 0인 배열 생성"
      ],
      "metadata": {
        "id": "dV6K4rBDso5y"
      }
    },
    {
      "cell_type": "code",
      "source": [
        "# 정수를 넣으면 해당 크기의 0으로 채워진 1차원 배열 생성\n",
        "a=np.zeros(5)\n",
        "a"
      ],
      "metadata": {
        "colab": {
          "base_uri": "https://localhost:8080/"
        },
        "id": "jvBZaBwFr8ie",
        "outputId": "34c531cf-1ca3-4ea9-e4dc-585ee954c81d"
      },
      "execution_count": 19,
      "outputs": [
        {
          "output_type": "execute_result",
          "data": {
            "text/plain": [
              "array([0., 0., 0., 0., 0.])"
            ]
          },
          "metadata": {},
          "execution_count": 19
        }
      ]
    },
    {
      "cell_type": "code",
      "source": [
        "# 튜플을 넣으면 해당 크기의 0으로 채워진 다차원 배열 생성\n",
        "a=np.zeros((2,3))\n",
        "a"
      ],
      "metadata": {
        "colab": {
          "base_uri": "https://localhost:8080/"
        },
        "id": "wP5UkGKHs0eW",
        "outputId": "e640838e-a587-4c4f-838f-a85dddc86e09"
      },
      "execution_count": 21,
      "outputs": [
        {
          "output_type": "execute_result",
          "data": {
            "text/plain": [
              "array([[0., 0., 0.],\n",
              "       [0., 0., 0.]])"
            ]
          },
          "metadata": {},
          "execution_count": 21
        }
      ]
    },
    {
      "cell_type": "code",
      "source": [
        "# dtype 인수 명시 시 해당 자료형 원소 타입 부여\n",
        "a=np.zeros((2,3),dtype=\"i\")\n",
        "a"
      ],
      "metadata": {
        "colab": {
          "base_uri": "https://localhost:8080/"
        },
        "id": "hYK-Bdd3tGqJ",
        "outputId": "c19db7ab-bbbc-4343-f500-7ffeea399d75"
      },
      "execution_count": 24,
      "outputs": [
        {
          "output_type": "execute_result",
          "data": {
            "text/plain": [
              "array([[0, 0, 0],\n",
              "       [0, 0, 0]], dtype=int32)"
            ]
          },
          "metadata": {},
          "execution_count": 24
        }
      ]
    },
    {
      "cell_type": "code",
      "source": [
        "# 문자열 배열도 가능하지만, 모든 원소의 문자열 크기가 같아야 함\n",
        "# 만약 더 큰 크기의 문자열을 할당하면 잘림\n",
        "d=np.zeros(5,dtype='U4')\n",
        "d"
      ],
      "metadata": {
        "colab": {
          "base_uri": "https://localhost:8080/"
        },
        "id": "wWjlk9M_tPgW",
        "outputId": "55d72ad0-b7c5-4beb-cf87-690e0b964c84"
      },
      "execution_count": 28,
      "outputs": [
        {
          "output_type": "execute_result",
          "data": {
            "text/plain": [
              "array(['', '', '', '', ''], dtype='<U4')"
            ]
          },
          "metadata": {},
          "execution_count": 28
        }
      ]
    },
    {
      "cell_type": "code",
      "source": [
        "d[0]=\"abc\"\n",
        "d[1]=\"abcd\"\n",
        "d[2]=\"ABCDE\" # 4보다 큰 크기의 문자열을 할당했기 때문에 'E'는 잘림\n",
        "d"
      ],
      "metadata": {
        "colab": {
          "base_uri": "https://localhost:8080/"
        },
        "id": "Fg1GqBuVtZ5O",
        "outputId": "f323c04b-f6af-4290-ed9a-e3ba8a0de751"
      },
      "execution_count": 30,
      "outputs": [
        {
          "output_type": "execute_result",
          "data": {
            "text/plain": [
              "array(['abc', 'abcd', 'ABCD', '', ''], dtype='<U4')"
            ]
          },
          "metadata": {},
          "execution_count": 30
        }
      ]
    },
    {
      "cell_type": "markdown",
      "source": [
        "### ones : 1로 초기화된 배열을 생성 "
      ],
      "metadata": {
        "id": "0TTeHWMrtdnp"
      }
    },
    {
      "cell_type": "code",
      "source": [
        "e=np.ones((2,3,4,5),dtype=\"f8\")\n",
        "e"
      ],
      "metadata": {
        "colab": {
          "base_uri": "https://localhost:8080/"
        },
        "id": "ZSnn1IK6tk3F",
        "outputId": "4fa3a4f4-1b95-4afa-d9e4-75d351a82b4b"
      },
      "execution_count": 32,
      "outputs": [
        {
          "output_type": "execute_result",
          "data": {
            "text/plain": [
              "array([[[[1., 1., 1., 1., 1.],\n",
              "         [1., 1., 1., 1., 1.],\n",
              "         [1., 1., 1., 1., 1.],\n",
              "         [1., 1., 1., 1., 1.]],\n",
              "\n",
              "        [[1., 1., 1., 1., 1.],\n",
              "         [1., 1., 1., 1., 1.],\n",
              "         [1., 1., 1., 1., 1.],\n",
              "         [1., 1., 1., 1., 1.]],\n",
              "\n",
              "        [[1., 1., 1., 1., 1.],\n",
              "         [1., 1., 1., 1., 1.],\n",
              "         [1., 1., 1., 1., 1.],\n",
              "         [1., 1., 1., 1., 1.]]],\n",
              "\n",
              "\n",
              "       [[[1., 1., 1., 1., 1.],\n",
              "         [1., 1., 1., 1., 1.],\n",
              "         [1., 1., 1., 1., 1.],\n",
              "         [1., 1., 1., 1., 1.]],\n",
              "\n",
              "        [[1., 1., 1., 1., 1.],\n",
              "         [1., 1., 1., 1., 1.],\n",
              "         [1., 1., 1., 1., 1.],\n",
              "         [1., 1., 1., 1., 1.]],\n",
              "\n",
              "        [[1., 1., 1., 1., 1.],\n",
              "         [1., 1., 1., 1., 1.],\n",
              "         [1., 1., 1., 1., 1.],\n",
              "         [1., 1., 1., 1., 1.]]]])"
            ]
          },
          "metadata": {},
          "execution_count": 32
        }
      ]
    },
    {
      "cell_type": "markdown",
      "source": [
        "### ones_like, zeros_like : 다른 배열과 같은 크기의 배열을 생성"
      ],
      "metadata": {
        "id": "1hbjOKbxtqr5"
      }
    },
    {
      "cell_type": "code",
      "source": [
        "a"
      ],
      "metadata": {
        "colab": {
          "base_uri": "https://localhost:8080/"
        },
        "id": "xz1U2G5HtnHs",
        "outputId": "5f261350-03da-4e86-abb1-5d5c24f4d6ac"
      },
      "execution_count": 35,
      "outputs": [
        {
          "output_type": "execute_result",
          "data": {
            "text/plain": [
              "array([[0, 0, 0],\n",
              "       [0, 0, 0]], dtype=int32)"
            ]
          },
          "metadata": {},
          "execution_count": 35
        }
      ]
    },
    {
      "cell_type": "code",
      "source": [
        "f=np.ones_like(a,dtype=\"f\")\n",
        "f"
      ],
      "metadata": {
        "id": "Jvcf0o5jREZh",
        "outputId": "ee2144e7-114e-41e0-897c-8dabfeb7635b",
        "colab": {
          "base_uri": "https://localhost:8080/"
        }
      },
      "execution_count": 39,
      "outputs": [
        {
          "output_type": "execute_result",
          "data": {
            "text/plain": [
              "array([[1., 1., 1.],\n",
              "       [1., 1., 1.]], dtype=float32)"
            ]
          },
          "metadata": {},
          "execution_count": 39
        }
      ]
    },
    {
      "cell_type": "code",
      "source": [
        "g=np.zeros_like(a,dtype=\"f\")\n",
        "g"
      ],
      "metadata": {
        "id": "IWGZl4pAROZc",
        "outputId": "fd78cfc5-16ee-4928-bf8e-29a82e04f0df",
        "colab": {
          "base_uri": "https://localhost:8080/"
        }
      },
      "execution_count": 40,
      "outputs": [
        {
          "output_type": "execute_result",
          "data": {
            "text/plain": [
              "array([[0., 0., 0.],\n",
              "       [0., 0., 0.]], dtype=float32)"
            ]
          },
          "metadata": {},
          "execution_count": 40
        }
      ]
    },
    {
      "cell_type": "markdown",
      "source": [
        "### empty : 값 초기화 없이 배열을 생성 (시간 절약)\n",
        "* 기존 메모리에 저장되어 있던 값이 있음\n",
        "* 배열의 원소 값을 미리 알 수 없음"
      ],
      "metadata": {
        "id": "X6MaU-Ikt1Db"
      }
    },
    {
      "cell_type": "code",
      "source": [
        "h=np.empty((4,3))\n",
        "h"
      ],
      "metadata": {
        "colab": {
          "base_uri": "https://localhost:8080/"
        },
        "id": "ZIhuuGFMtx7K",
        "outputId": "b38ad587-cf27-451d-80bf-348802e6e052"
      },
      "execution_count": 41,
      "outputs": [
        {
          "output_type": "execute_result",
          "data": {
            "text/plain": [
              "array([[3.00433177e-316, 0.00000000e+000, 0.00000000e+000],\n",
              "       [0.00000000e+000, 0.00000000e+000, 0.00000000e+000],\n",
              "       [0.00000000e+000, 0.00000000e+000, 0.00000000e+000],\n",
              "       [0.00000000e+000, 0.00000000e+000, 0.00000000e+000]])"
            ]
          },
          "metadata": {},
          "execution_count": 41
        }
      ]
    },
    {
      "cell_type": "markdown",
      "source": [
        "### arange : 특정 규칙에 따라 증가하는 수열을 만듦 (like `range`)"
      ],
      "metadata": {
        "id": "9m6UebhOuIB-"
      }
    },
    {
      "cell_type": "code",
      "source": [
        "np.arange(10), np.array(range(10))"
      ],
      "metadata": {
        "colab": {
          "base_uri": "https://localhost:8080/"
        },
        "id": "Y3p1AtW3uhJf",
        "outputId": "3b494cba-e620-464e-99b5-dcb48c5196d3"
      },
      "execution_count": 43,
      "outputs": [
        {
          "output_type": "execute_result",
          "data": {
            "text/plain": [
              "(array([0, 1, 2, 3, 4, 5, 6, 7, 8, 9]), array([0, 1, 2, 3, 4, 5, 6, 7, 8, 9]))"
            ]
          },
          "metadata": {},
          "execution_count": 43
        }
      ]
    },
    {
      "cell_type": "code",
      "source": [
        "np.arange(3,20,2, dtype='f')"
      ],
      "metadata": {
        "colab": {
          "base_uri": "https://localhost:8080/"
        },
        "id": "6_HAebyLuiXj",
        "outputId": "e5133bf4-34b7-4ee2-c430-d7bd282c2abd"
      },
      "execution_count": 44,
      "outputs": [
        {
          "output_type": "execute_result",
          "data": {
            "text/plain": [
              "array([ 3.,  5.,  7.,  9., 11., 13., 15., 17., 19.], dtype=float32)"
            ]
          },
          "metadata": {},
          "execution_count": 44
        }
      ]
    },
    {
      "cell_type": "markdown",
      "source": [
        "### linspace, logspace : 선형 구간 또는 로그 구간을 지정한 구간의 수만큼 분할"
      ],
      "metadata": {
        "id": "M7XRi-wDuqDT"
      }
    },
    {
      "cell_type": "code",
      "source": [
        "np.linspace(0,100,11) # 선형으로 해당 구간을 나눔(끝 포함)"
      ],
      "metadata": {
        "colab": {
          "base_uri": "https://localhost:8080/"
        },
        "id": "tfvPvI41unpm",
        "outputId": "a78f344e-b300-422d-cbbf-a60984bb8768"
      },
      "execution_count": 47,
      "outputs": [
        {
          "output_type": "execute_result",
          "data": {
            "text/plain": [
              "array([  0.,  10.,  20.,  30.,  40.,  50.,  60.,  70.,  80.,  90., 100.])"
            ]
          },
          "metadata": {},
          "execution_count": 47
        }
      ]
    },
    {
      "cell_type": "code",
      "source": [
        "np.logspace(0.1,1,10)"
      ],
      "metadata": {
        "colab": {
          "base_uri": "https://localhost:8080/"
        },
        "id": "GZ1mxlH3u0C9",
        "outputId": "e432865c-9ad8-42ab-f988-6fe52375a457"
      },
      "execution_count": 48,
      "outputs": [
        {
          "output_type": "execute_result",
          "data": {
            "text/plain": [
              "array([ 1.25892541,  1.58489319,  1.99526231,  2.51188643,  3.16227766,\n",
              "        3.98107171,  5.01187234,  6.30957344,  7.94328235, 10.        ])"
            ]
          },
          "metadata": {},
          "execution_count": 48
        }
      ]
    },
    {
      "cell_type": "markdown",
      "source": [
        "## 전치 연산 (transpose)\n",
        "* 2차원 배열에서 행과 열을 바꾸는 작업\n",
        "* 배열의 `T` **속성**"
      ],
      "metadata": {
        "id": "BzGKpxy3y_Bs"
      }
    },
    {
      "cell_type": "code",
      "source": [
        "A=np.array([[1,2,3],[4,5,6]])\n",
        "A,A.ndim,A.shape"
      ],
      "metadata": {
        "colab": {
          "base_uri": "https://localhost:8080/"
        },
        "id": "zTx1Bpwru2DJ",
        "outputId": "e445f9fd-2476-4d47-fab5-fb8e1de3c081"
      },
      "execution_count": 49,
      "outputs": [
        {
          "output_type": "execute_result",
          "data": {
            "text/plain": [
              "(array([[1, 2, 3],\n",
              "        [4, 5, 6]]), 2, (2, 3))"
            ]
          },
          "metadata": {},
          "execution_count": 49
        }
      ]
    },
    {
      "cell_type": "code",
      "source": [
        "A2=A.T\n",
        "A2,A2.ndim,A2.shape"
      ],
      "metadata": {
        "colab": {
          "base_uri": "https://localhost:8080/"
        },
        "id": "si0lOh0ozOKR",
        "outputId": "e8a35d61-752b-48ae-ffd7-3edd638ec585"
      },
      "execution_count": 51,
      "outputs": [
        {
          "output_type": "execute_result",
          "data": {
            "text/plain": [
              "(array([[1, 4],\n",
              "        [2, 5],\n",
              "        [3, 6]]), 2, (3, 2))"
            ]
          },
          "metadata": {},
          "execution_count": 51
        }
      ]
    },
    {
      "cell_type": "markdown",
      "source": [
        "## 배열의 크기 변형 (`reshape`)"
      ],
      "metadata": {
        "id": "5R9AhngezRwv"
      }
    },
    {
      "cell_type": "code",
      "source": [
        "a=np.arange(12)\n",
        "a"
      ],
      "metadata": {
        "colab": {
          "base_uri": "https://localhost:8080/"
        },
        "id": "NUKMaFSszP-c",
        "outputId": "39ef05aa-2c1d-4a96-fccf-5a16ce05ea36"
      },
      "execution_count": 53,
      "outputs": [
        {
          "output_type": "execute_result",
          "data": {
            "text/plain": [
              "array([ 0,  1,  2,  3,  4,  5,  6,  7,  8,  9, 10, 11])"
            ]
          },
          "metadata": {},
          "execution_count": 53
        }
      ]
    },
    {
      "cell_type": "code",
      "source": [
        "b=a.reshape(3,4)\n",
        "b"
      ],
      "metadata": {
        "colab": {
          "base_uri": "https://localhost:8080/"
        },
        "id": "MQIUt2EFzaYT",
        "outputId": "f74563a4-aef2-4995-e14b-9256be9be106"
      },
      "execution_count": 70,
      "outputs": [
        {
          "output_type": "execute_result",
          "data": {
            "text/plain": [
              "array([[ 0,  1,  2,  3],\n",
              "       [ 4,  5,  6,  7],\n",
              "       [ 8,  9, 10, 11]])"
            ]
          },
          "metadata": {},
          "execution_count": 70
        }
      ]
    },
    {
      "cell_type": "code",
      "source": [
        "# 사용하는 원소의 갯수가 정해져 있기 때문에\n",
        "# reshape 명령의 형태 튜플 원소 중 하나는 -1으로 대체 가능\n",
        "# -1을 넣으면 해당 숫자는 다른 값을 통해 계산되어서 사용\n",
        "a.reshape(3,-1)"
      ],
      "metadata": {
        "colab": {
          "base_uri": "https://localhost:8080/"
        },
        "id": "SoT1e8pdzcWs",
        "outputId": "0f4b5ca0-c578-4f2f-ca6a-ea6038be963b"
      },
      "execution_count": 71,
      "outputs": [
        {
          "output_type": "execute_result",
          "data": {
            "text/plain": [
              "array([[ 0,  1,  2,  3],\n",
              "       [ 4,  5,  6,  7],\n",
              "       [ 8,  9, 10, 11]])"
            ]
          },
          "metadata": {},
          "execution_count": 71
        }
      ]
    },
    {
      "cell_type": "code",
      "source": [
        "a.reshape(2,2,-1)"
      ],
      "metadata": {
        "colab": {
          "base_uri": "https://localhost:8080/"
        },
        "id": "Uhkgvho1zgPR",
        "outputId": "870802dc-b176-4146-970b-422b0fde88b4"
      },
      "execution_count": 74,
      "outputs": [
        {
          "output_type": "execute_result",
          "data": {
            "text/plain": [
              "array([[[ 0,  1,  2],\n",
              "        [ 3,  4,  5]],\n",
              "\n",
              "       [[ 6,  7,  8],\n",
              "        [ 9, 10, 11]]])"
            ]
          },
          "metadata": {},
          "execution_count": 74
        }
      ]
    },
    {
      "cell_type": "code",
      "source": [
        "a.reshape(2,3,-1)"
      ],
      "metadata": {
        "colab": {
          "base_uri": "https://localhost:8080/"
        },
        "id": "qCXrkvAFzu03",
        "outputId": "ea35070f-e341-4894-c132-3173c8f2c9e5"
      },
      "execution_count": 75,
      "outputs": [
        {
          "output_type": "execute_result",
          "data": {
            "text/plain": [
              "array([[[ 0,  1],\n",
              "        [ 2,  3],\n",
              "        [ 4,  5]],\n",
              "\n",
              "       [[ 6,  7],\n",
              "        [ 8,  9],\n",
              "        [10, 11]]])"
            ]
          },
          "metadata": {},
          "execution_count": 75
        }
      ]
    },
    {
      "cell_type": "markdown",
      "source": [
        "## 배열 평탄화 (`flatten`, `ravel`)\n",
        "* 다차원 배열을 1차원으로 변환"
      ],
      "metadata": {
        "id": "PSDbjEhezzIn"
      }
    },
    {
      "cell_type": "code",
      "source": [
        "a.reshape(2,3,-1)"
      ],
      "metadata": {
        "colab": {
          "base_uri": "https://localhost:8080/"
        },
        "id": "tlgflVeczwYj",
        "outputId": "14ee4210-8105-4914-c75c-518bec37de15"
      },
      "execution_count": 83,
      "outputs": [
        {
          "output_type": "execute_result",
          "data": {
            "text/plain": [
              "array([[[ 0,  1],\n",
              "        [ 2,  3],\n",
              "        [ 4,  5]],\n",
              "\n",
              "       [[ 6,  7],\n",
              "        [ 8,  9],\n",
              "        [10, 11]]])"
            ]
          },
          "metadata": {},
          "execution_count": 83
        }
      ]
    },
    {
      "cell_type": "code",
      "source": [
        "a.flatten()"
      ],
      "metadata": {
        "colab": {
          "base_uri": "https://localhost:8080/"
        },
        "id": "b0C9rCOI0CDS",
        "outputId": "de6dacc5-3e7d-465f-aff9-bec7a0b65ee2"
      },
      "execution_count": 82,
      "outputs": [
        {
          "output_type": "execute_result",
          "data": {
            "text/plain": [
              "array([ 0,  1,  2,  3,  4,  5,  6,  7,  8,  9, 10, 11])"
            ]
          },
          "metadata": {},
          "execution_count": 82
        }
      ]
    },
    {
      "cell_type": "code",
      "source": [
        "a.ravel()"
      ],
      "metadata": {
        "id": "bG4lkEhoUzMF",
        "outputId": "ffe706c1-fe7c-4e86-b610-d7febee847bf",
        "colab": {
          "base_uri": "https://localhost:8080/"
        }
      },
      "execution_count": 84,
      "outputs": [
        {
          "output_type": "execute_result",
          "data": {
            "text/plain": [
              "array([ 0,  1,  2,  3,  4,  5,  6,  7,  8,  9, 10, 11])"
            ]
          },
          "metadata": {},
          "execution_count": 84
        }
      ]
    },
    {
      "cell_type": "markdown",
      "source": [
        "## 같은 배열에 대해 차원만 1차원 증가 (`newaxis`)"
      ],
      "metadata": {
        "id": "co3lWwjG0RUW"
      }
    },
    {
      "cell_type": "code",
      "source": [
        "c=np.arange(5)\n",
        "c"
      ],
      "metadata": {
        "colab": {
          "base_uri": "https://localhost:8080/"
        },
        "id": "1JpVrcJQ0F7F",
        "outputId": "7a5c2146-fd2a-4b4c-aae5-a7389b102dae"
      },
      "execution_count": 89,
      "outputs": [
        {
          "output_type": "execute_result",
          "data": {
            "text/plain": [
              "array([0, 1, 2, 3, 4])"
            ]
          },
          "metadata": {},
          "execution_count": 89
        }
      ]
    },
    {
      "cell_type": "code",
      "source": [
        "d=c[np.newaxis,:]\n",
        "d,d.ndim,d.shape"
      ],
      "metadata": {
        "id": "SUnxl8hcVEof",
        "outputId": "86c0ec70-dc8b-44aa-821f-c497b55924b8",
        "colab": {
          "base_uri": "https://localhost:8080/"
        }
      },
      "execution_count": 93,
      "outputs": [
        {
          "output_type": "execute_result",
          "data": {
            "text/plain": [
              "(array([[0, 1, 2, 3, 4]]), 2, (1, 5))"
            ]
          },
          "metadata": {},
          "execution_count": 93
        }
      ]
    },
    {
      "cell_type": "markdown",
      "source": [
        "## 배열 연결\n",
        "* 행의 수나 열의 수가 같은 두 개 이상의 배열을 연결하여 더 큰 배열을 생성 (concatenate)\n",
        "    * `hstack`\n",
        "    * `vstack`\n",
        "    * `dstack`\n",
        "    * `stack`\n",
        "    * `r_`\n",
        "    * `c_`\n",
        "    * `tile`"
      ],
      "metadata": {
        "id": "Y6xhIji90nZP"
      }
    },
    {
      "cell_type": "markdown",
      "source": [
        "### `concatenate`"
      ],
      "metadata": {
        "id": "QaJc5TOmSJ9H"
      }
    },
    {
      "cell_type": "code",
      "source": [],
      "metadata": {
        "colab": {
          "base_uri": "https://localhost:8080/"
        },
        "id": "S7QjoUvYSRsk",
        "outputId": "9ca8661d-42b6-4f0e-97cc-5045ff4a32b5"
      },
      "execution_count": null,
      "outputs": [
        {
          "output_type": "execute_result",
          "data": {
            "text/plain": [
              "array([1, 2, 3, 4, 5, 6])"
            ]
          },
          "metadata": {},
          "execution_count": 351
        }
      ]
    },
    {
      "cell_type": "code",
      "source": [],
      "metadata": {
        "colab": {
          "base_uri": "https://localhost:8080/"
        },
        "id": "SjIavyosSTs7",
        "outputId": "3db8f735-8ae3-492d-aae1-7c162ddcd215"
      },
      "execution_count": null,
      "outputs": [
        {
          "output_type": "execute_result",
          "data": {
            "text/plain": [
              "array([[1, 2, 5, 6],\n",
              "       [3, 4, 7, 8]])"
            ]
          },
          "metadata": {},
          "execution_count": 352
        }
      ]
    },
    {
      "cell_type": "markdown",
      "source": [
        "### `hstack`\n",
        "* 행의 수가 같은 두 개 이상의 배열을 옆으로 연결하여 열의 수가 더 많은 배열을 만듦\n",
        "* 연결할 배열은 하나의 리스트에 담아야 함"
      ],
      "metadata": {
        "id": "0nGLa9ps1AwQ"
      }
    },
    {
      "cell_type": "code",
      "source": [],
      "metadata": {
        "colab": {
          "base_uri": "https://localhost:8080/"
        },
        "id": "-FzGefiM0YGS",
        "outputId": "5a6ece8b-acb6-43f8-c0d6-e7dd9eb61031"
      },
      "execution_count": null,
      "outputs": [
        {
          "output_type": "execute_result",
          "data": {
            "text/plain": [
              "array([[1., 1., 1.],\n",
              "       [1., 1., 1.]])"
            ]
          },
          "metadata": {},
          "execution_count": 167
        }
      ]
    },
    {
      "cell_type": "code",
      "source": [],
      "metadata": {
        "colab": {
          "base_uri": "https://localhost:8080/"
        },
        "id": "23pEgxUv1KHa",
        "outputId": "5cfd48e3-77b3-4ca8-db72-e7943717df8f"
      },
      "execution_count": null,
      "outputs": [
        {
          "output_type": "execute_result",
          "data": {
            "text/plain": [
              "array([[0., 0.],\n",
              "       [0., 0.]])"
            ]
          },
          "metadata": {},
          "execution_count": 168
        }
      ]
    },
    {
      "cell_type": "code",
      "source": [],
      "metadata": {
        "colab": {
          "base_uri": "https://localhost:8080/"
        },
        "id": "ftO5j3Mh1Mf0",
        "outputId": "2b26e565-632a-4a4d-b588-07d53ae5beca"
      },
      "execution_count": null,
      "outputs": [
        {
          "output_type": "execute_result",
          "data": {
            "text/plain": [
              "array([[1., 1., 1., 0., 0.],\n",
              "       [1., 1., 1., 0., 0.]])"
            ]
          },
          "metadata": {},
          "execution_count": 169
        }
      ]
    },
    {
      "cell_type": "markdown",
      "source": [
        "### `vstack`\n",
        "* 열의 수가 같은 두 개 이상의 배열을 위아래로 연결하여 행의 수가 더 많은 배열을 만듦\n",
        "* 연결할 배열은 하나의 리스트에 담아야 함"
      ],
      "metadata": {
        "id": "8H5ykHK01SMl"
      }
    },
    {
      "cell_type": "code",
      "source": [],
      "metadata": {
        "colab": {
          "base_uri": "https://localhost:8080/"
        },
        "id": "LQ1Oxc_Z1PUS",
        "outputId": "3c669c87-1b75-4835-8281-a813acc2d62e"
      },
      "execution_count": null,
      "outputs": [
        {
          "output_type": "execute_result",
          "data": {
            "text/plain": [
              "array([[1., 1., 1.],\n",
              "       [1., 1., 1.]])"
            ]
          },
          "metadata": {},
          "execution_count": 170
        }
      ]
    },
    {
      "cell_type": "code",
      "source": [],
      "metadata": {
        "colab": {
          "base_uri": "https://localhost:8080/"
        },
        "id": "Stzsez-s1abf",
        "outputId": "206dbdb0-874b-4de9-82e5-8f90ef8fa5c0"
      },
      "execution_count": null,
      "outputs": [
        {
          "output_type": "execute_result",
          "data": {
            "text/plain": [
              "array([[0., 0., 0.],\n",
              "       [0., 0., 0.],\n",
              "       [0., 0., 0.]])"
            ]
          },
          "metadata": {},
          "execution_count": 171
        }
      ]
    },
    {
      "cell_type": "code",
      "source": [],
      "metadata": {
        "colab": {
          "base_uri": "https://localhost:8080/"
        },
        "id": "4vYmBLCp1dfB",
        "outputId": "5d9a558c-5a80-4a05-9919-a3d2295925cb"
      },
      "execution_count": null,
      "outputs": [
        {
          "output_type": "execute_result",
          "data": {
            "text/plain": [
              "array([[1., 1., 1.],\n",
              "       [1., 1., 1.],\n",
              "       [0., 0., 0.],\n",
              "       [0., 0., 0.],\n",
              "       [0., 0., 0.]])"
            ]
          },
          "metadata": {},
          "execution_count": 172
        }
      ]
    },
    {
      "cell_type": "markdown",
      "source": [
        "### `dstack`\n",
        "* 제3의 축 즉, 행이나 열이 아닌 깊이(depth) 방향으로 배열을 합침\n",
        "* 가장 안쪽의 원소의 차원이 증가, 즉 가장 내부의 숫자 원소가 배열이 됨"
      ],
      "metadata": {
        "id": "nKMjnYqZ2z3V"
      }
    },
    {
      "cell_type": "code",
      "source": [],
      "metadata": {
        "colab": {
          "base_uri": "https://localhost:8080/"
        },
        "id": "WZ6KzYiZ1fHY",
        "outputId": "348d3e62-65d2-4000-b2eb-df2bb2dd62a8"
      },
      "execution_count": null,
      "outputs": [
        {
          "output_type": "execute_result",
          "data": {
            "text/plain": [
              "array([[1., 1., 1., 1.],\n",
              "       [1., 1., 1., 1.],\n",
              "       [1., 1., 1., 1.]])"
            ]
          },
          "metadata": {},
          "execution_count": 173
        }
      ]
    },
    {
      "cell_type": "code",
      "source": [],
      "metadata": {
        "colab": {
          "base_uri": "https://localhost:8080/"
        },
        "id": "QviPJ-Gg28yI",
        "outputId": "618af02c-4760-4c1e-e07a-046b69665225"
      },
      "execution_count": null,
      "outputs": [
        {
          "output_type": "execute_result",
          "data": {
            "text/plain": [
              "array([[0., 0., 0., 0.],\n",
              "       [0., 0., 0., 0.],\n",
              "       [0., 0., 0., 0.]])"
            ]
          },
          "metadata": {},
          "execution_count": 174
        }
      ]
    },
    {
      "cell_type": "code",
      "source": [],
      "metadata": {
        "colab": {
          "base_uri": "https://localhost:8080/"
        },
        "id": "ad93JhnI2_5H",
        "outputId": "56840091-b65c-4a42-aac9-0dab6293830f"
      },
      "execution_count": null,
      "outputs": [
        {
          "output_type": "execute_result",
          "data": {
            "text/plain": [
              "array([[[1., 0.],\n",
              "        [1., 0.],\n",
              "        [1., 0.],\n",
              "        [1., 0.]],\n",
              "\n",
              "       [[1., 0.],\n",
              "        [1., 0.],\n",
              "        [1., 0.],\n",
              "        [1., 0.]],\n",
              "\n",
              "       [[1., 0.],\n",
              "        [1., 0.],\n",
              "        [1., 0.],\n",
              "        [1., 0.]]])"
            ]
          },
          "metadata": {},
          "execution_count": 176
        }
      ]
    },
    {
      "cell_type": "code",
      "source": [],
      "metadata": {
        "colab": {
          "base_uri": "https://localhost:8080/"
        },
        "id": "kNI95R_K3CwY",
        "outputId": "8a38bf30-906c-4ebc-d48a-2d72cd081fc5"
      },
      "execution_count": null,
      "outputs": [
        {
          "output_type": "execute_result",
          "data": {
            "text/plain": [
              "(3, 4, 2)"
            ]
          },
          "metadata": {},
          "execution_count": 177
        }
      ]
    },
    {
      "cell_type": "markdown",
      "source": [
        "### `stack`\n",
        "* `dstack`의 기능을 확장한 것으로 `dstack`처럼 마지막 차원으로 연결하는 것이 아니라 사용자가 지정한 차원(축으로) 배열을 연결\n",
        "* axis 인수(디폴트 0)를 사용하여 연결후의 회전 방향을 정함\n",
        "* 디폴트 인수값은 0이고 가장 앞쪽에 차원이 생성. 즉, 배열 두 개가 겹치게 되므로 연결하고자 하는 배열들의 크기가 모두 같아야 함"
      ],
      "metadata": {
        "id": "yEWdCKLX3I3h"
      }
    },
    {
      "cell_type": "code",
      "source": [],
      "metadata": {
        "colab": {
          "base_uri": "https://localhost:8080/"
        },
        "id": "ZjoHjPm_3GPQ",
        "outputId": "7b9a933e-78ee-49f8-bf4a-f99decf38579"
      },
      "execution_count": null,
      "outputs": [
        {
          "output_type": "execute_result",
          "data": {
            "text/plain": [
              "array([[[1., 1., 1., 1.],\n",
              "        [1., 1., 1., 1.],\n",
              "        [1., 1., 1., 1.]],\n",
              "\n",
              "       [[0., 0., 0., 0.],\n",
              "        [0., 0., 0., 0.],\n",
              "        [0., 0., 0., 0.]]])"
            ]
          },
          "metadata": {},
          "execution_count": 178
        }
      ]
    },
    {
      "cell_type": "code",
      "source": [],
      "metadata": {
        "colab": {
          "base_uri": "https://localhost:8080/"
        },
        "id": "HAn0Uatn3XYH",
        "outputId": "b05dcc7c-9e06-443b-8e8e-a6c057e643ec"
      },
      "execution_count": null,
      "outputs": [
        {
          "output_type": "execute_result",
          "data": {
            "text/plain": [
              "(2, 3, 4)"
            ]
          },
          "metadata": {},
          "execution_count": 179
        }
      ]
    },
    {
      "cell_type": "markdown",
      "source": [
        "* `axis` 인수가 1이면 두번째 차원으로 새로운 차원이 삽입"
      ],
      "metadata": {
        "id": "uT0Z7jm83gnq"
      }
    },
    {
      "cell_type": "code",
      "source": [],
      "metadata": {
        "colab": {
          "base_uri": "https://localhost:8080/"
        },
        "id": "P6jFcnQ63ZPY",
        "outputId": "e596ae11-3473-4188-c2a7-f1b0fc7fd0df"
      },
      "execution_count": null,
      "outputs": [
        {
          "output_type": "execute_result",
          "data": {
            "text/plain": [
              "array([[[1., 1., 1., 1.],\n",
              "        [0., 0., 0., 0.]],\n",
              "\n",
              "       [[1., 1., 1., 1.],\n",
              "        [0., 0., 0., 0.]],\n",
              "\n",
              "       [[1., 1., 1., 1.],\n",
              "        [0., 0., 0., 0.]]])"
            ]
          },
          "metadata": {},
          "execution_count": 180
        }
      ]
    },
    {
      "cell_type": "code",
      "source": [],
      "metadata": {
        "colab": {
          "base_uri": "https://localhost:8080/"
        },
        "id": "YiRR9-9O3lD8",
        "outputId": "d02813ea-e820-4e40-8020-380e36b9befe"
      },
      "execution_count": null,
      "outputs": [
        {
          "output_type": "execute_result",
          "data": {
            "text/plain": [
              "(3, 2, 4)"
            ]
          },
          "metadata": {},
          "execution_count": 181
        }
      ]
    },
    {
      "cell_type": "markdown",
      "source": [
        "### `r_`\n",
        "* `hstack` 명령과 비슷하게 배열을 좌우로 연결\n",
        "* 다만 메서드임에도 불구하고 소괄호(parenthesis, `()`)를 사용하지 않고 인덱싱과 같이 대괄호(bracket, `[]`)를 사용\n",
        "* 이런 특수 메서드를 인덱서(indexer)라고 함"
      ],
      "metadata": {
        "id": "gVqKyGhz3pjP"
      }
    },
    {
      "cell_type": "code",
      "source": [],
      "metadata": {
        "colab": {
          "base_uri": "https://localhost:8080/"
        },
        "id": "aBl9es9C33Up",
        "outputId": "df28bf29-dd32-4279-b1d1-f19610374281"
      },
      "execution_count": null,
      "outputs": [
        {
          "output_type": "execute_result",
          "data": {
            "text/plain": [
              "array([1, 2, 3, 4, 5, 6])"
            ]
          },
          "metadata": {},
          "execution_count": 182
        }
      ]
    },
    {
      "cell_type": "markdown",
      "source": [
        "### `c_`\n",
        "* 배열의 차원을 증가시킨 후 좌우로 연결"
      ],
      "metadata": {
        "id": "8vwTXWOH36Wr"
      }
    },
    {
      "cell_type": "code",
      "source": [],
      "metadata": {
        "colab": {
          "base_uri": "https://localhost:8080/"
        },
        "id": "Q04oM6d8358d",
        "outputId": "41dd2ca5-a545-4c5b-a211-396f92b0b68d"
      },
      "execution_count": null,
      "outputs": [
        {
          "output_type": "execute_result",
          "data": {
            "text/plain": [
              "array([[1, 4],\n",
              "       [2, 5],\n",
              "       [3, 6]])"
            ]
          },
          "metadata": {},
          "execution_count": 183
        }
      ]
    },
    {
      "cell_type": "markdown",
      "source": [
        "### `tile`\n",
        "* 동일한 배열을 반복하여 연결"
      ],
      "metadata": {
        "id": "FjwjeIjD4CVt"
      }
    },
    {
      "cell_type": "code",
      "source": [],
      "metadata": {
        "colab": {
          "base_uri": "https://localhost:8080/"
        },
        "id": "s9J7Rlzk4Adf",
        "outputId": "aa6f2e69-1b6b-4d88-e52b-ce6ff526524e"
      },
      "execution_count": null,
      "outputs": [
        {
          "output_type": "execute_result",
          "data": {
            "text/plain": [
              "array([[0, 1, 2, 0, 1, 2],\n",
              "       [3, 4, 5, 3, 4, 5]])"
            ]
          },
          "metadata": {},
          "execution_count": 184
        }
      ]
    },
    {
      "cell_type": "code",
      "source": [],
      "metadata": {
        "colab": {
          "base_uri": "https://localhost:8080/"
        },
        "id": "9fvArJ-x33q_",
        "outputId": "421e133a-a792-4d0a-82e0-0bb53cc5a63d"
      },
      "execution_count": null,
      "outputs": [
        {
          "output_type": "execute_result",
          "data": {
            "text/plain": [
              "array([[0, 1, 2, 0, 1, 2],\n",
              "       [3, 4, 5, 3, 4, 5],\n",
              "       [0, 1, 2, 0, 1, 2],\n",
              "       [3, 4, 5, 3, 4, 5],\n",
              "       [0, 1, 2, 0, 1, 2],\n",
              "       [3, 4, 5, 3, 4, 5]])"
            ]
          },
          "metadata": {},
          "execution_count": 185
        }
      ]
    },
    {
      "cell_type": "markdown",
      "source": [
        "## 💡 연습문제 4\n",
        "```\n",
        "array([[  0.,   0.,   0.,   1.,   1.],\n",
        "       [  0.,   0.,   0.,   1.,   1.],\n",
        "       [  0.,   0.,   0.,   1.,   1.],\n",
        "       [ 10.,  20.,  30.,  40.,  50.],\n",
        "       [ 60.,  70.,  80.,  90., 100.],\n",
        "       [110., 120., 130., 140., 150.],\n",
        "       [  0.,   0.,   0.,   1.,   1.],\n",
        "       [  0.,   0.,   0.,   1.,   1.],\n",
        "       [  0.,   0.,   0.,   1.,   1.],\n",
        "       [ 10.,  20.,  30.,  40.,  50.],\n",
        "       [ 60.,  70.,  80.,  90., 100.],\n",
        "       [110., 120., 130., 140., 150.]])\n",
        "```"
      ],
      "metadata": {
        "id": "dmnK-qmS4WI7"
      }
    },
    {
      "cell_type": "code",
      "source": [],
      "metadata": {
        "colab": {
          "base_uri": "https://localhost:8080/"
        },
        "id": "XsNXT2hp4VD5",
        "outputId": "ec582211-66be-4a88-a9bb-69def339f7ec"
      },
      "execution_count": null,
      "outputs": [
        {
          "output_type": "execute_result",
          "data": {
            "text/plain": [
              "array([0., 0., 0.], dtype=float32)"
            ]
          },
          "metadata": {},
          "execution_count": 193
        }
      ]
    },
    {
      "cell_type": "code",
      "source": [],
      "metadata": {
        "colab": {
          "base_uri": "https://localhost:8080/"
        },
        "id": "PcVPz8tS4K8R",
        "outputId": "6a120209-dcdf-4ca3-c159-8e2e8b44445f"
      },
      "execution_count": null,
      "outputs": [
        {
          "output_type": "execute_result",
          "data": {
            "text/plain": [
              "array([1., 1.], dtype=float32)"
            ]
          },
          "metadata": {},
          "execution_count": 194
        }
      ]
    },
    {
      "cell_type": "code",
      "source": [],
      "metadata": {
        "colab": {
          "base_uri": "https://localhost:8080/"
        },
        "id": "_Hls1GFl40iL",
        "outputId": "18c8b833-f288-4d13-94b3-83e684ae2fee"
      },
      "execution_count": null,
      "outputs": [
        {
          "output_type": "execute_result",
          "data": {
            "text/plain": [
              "array([0., 0., 0., 1., 1.], dtype=float32)"
            ]
          },
          "metadata": {},
          "execution_count": 195
        }
      ]
    },
    {
      "cell_type": "code",
      "source": [],
      "metadata": {
        "colab": {
          "base_uri": "https://localhost:8080/"
        },
        "id": "0OpeTlBl5hlD",
        "outputId": "681b0c7e-aa1e-41cd-e374-58e88789565c"
      },
      "execution_count": null,
      "outputs": [
        {
          "output_type": "execute_result",
          "data": {
            "text/plain": [
              "array([[0., 0., 0., 1., 1.],\n",
              "       [0., 0., 0., 1., 1.],\n",
              "       [0., 0., 0., 1., 1.]], dtype=float32)"
            ]
          },
          "metadata": {},
          "execution_count": 206
        }
      ]
    },
    {
      "cell_type": "code",
      "source": [],
      "metadata": {
        "colab": {
          "base_uri": "https://localhost:8080/"
        },
        "id": "ikThbgRM47u-",
        "outputId": "e33f97b1-dbed-4529-a2d4-72e77bce749e"
      },
      "execution_count": null,
      "outputs": [
        {
          "output_type": "execute_result",
          "data": {
            "text/plain": [
              "array([ 10.,  20.,  30.,  40.,  50.,  60.,  70.,  80.,  90., 100., 110.,\n",
              "       120., 130., 140., 150.], dtype=float32)"
            ]
          },
          "metadata": {},
          "execution_count": 207
        }
      ]
    },
    {
      "cell_type": "code",
      "source": [],
      "metadata": {
        "colab": {
          "base_uri": "https://localhost:8080/"
        },
        "id": "hywi_dO65IAF",
        "outputId": "60e3c8a1-da1e-47c1-df6e-f38a2388d4f7"
      },
      "execution_count": null,
      "outputs": [
        {
          "output_type": "execute_result",
          "data": {
            "text/plain": [
              "array([[ 10.,  20.,  30.,  40.,  50.],\n",
              "       [ 60.,  70.,  80.,  90., 100.],\n",
              "       [110., 120., 130., 140., 150.]], dtype=float32)"
            ]
          },
          "metadata": {},
          "execution_count": 208
        }
      ]
    },
    {
      "cell_type": "code",
      "source": [],
      "metadata": {
        "colab": {
          "base_uri": "https://localhost:8080/"
        },
        "id": "Jmo6PnX65MV8",
        "outputId": "c5b588b8-e84e-4e36-a437-805f57097a1e"
      },
      "execution_count": null,
      "outputs": [
        {
          "output_type": "execute_result",
          "data": {
            "text/plain": [
              "array([[  0.,   0.,   0.,   1.,   1.],\n",
              "       [  0.,   0.,   0.,   1.,   1.],\n",
              "       [  0.,   0.,   0.,   1.,   1.],\n",
              "       [ 10.,  20.,  30.,  40.,  50.],\n",
              "       [ 60.,  70.,  80.,  90., 100.],\n",
              "       [110., 120., 130., 140., 150.]], dtype=float32)"
            ]
          },
          "metadata": {},
          "execution_count": 210
        }
      ]
    },
    {
      "cell_type": "code",
      "source": [],
      "metadata": {
        "colab": {
          "base_uri": "https://localhost:8080/"
        },
        "id": "jebGD9A55qQz",
        "outputId": "02276ebc-f785-41be-ec00-770b4c2f1e82"
      },
      "execution_count": null,
      "outputs": [
        {
          "output_type": "execute_result",
          "data": {
            "text/plain": [
              "array([[  0.,   0.,   0.,   1.,   1.],\n",
              "       [  0.,   0.,   0.,   1.,   1.],\n",
              "       [  0.,   0.,   0.,   1.,   1.],\n",
              "       [ 10.,  20.,  30.,  40.,  50.],\n",
              "       [ 60.,  70.,  80.,  90., 100.],\n",
              "       [110., 120., 130., 140., 150.],\n",
              "       [  0.,   0.,   0.,   1.,   1.],\n",
              "       [  0.,   0.,   0.,   1.,   1.],\n",
              "       [  0.,   0.,   0.,   1.,   1.],\n",
              "       [ 10.,  20.,  30.,  40.,  50.],\n",
              "       [ 60.,  70.,  80.,  90., 100.],\n",
              "       [110., 120., 130., 140., 150.]], dtype=float32)"
            ]
          },
          "metadata": {},
          "execution_count": 212
        }
      ]
    },
    {
      "cell_type": "markdown",
      "source": [
        "## 배열 분할"
      ],
      "metadata": {
        "id": "em-51SHsSbTk"
      }
    },
    {
      "cell_type": "code",
      "source": [],
      "metadata": {
        "colab": {
          "base_uri": "https://localhost:8080/"
        },
        "id": "uk4PAWmrSazs",
        "outputId": "b9665c7a-26f8-4362-fb69-41d9e39fc3d2"
      },
      "execution_count": null,
      "outputs": [
        {
          "output_type": "execute_result",
          "data": {
            "text/plain": [
              "[array([1, 2]), array([3, 4]), array([5, 6])]"
            ]
          },
          "metadata": {},
          "execution_count": 353
        }
      ]
    },
    {
      "cell_type": "code",
      "source": [],
      "metadata": {
        "colab": {
          "base_uri": "https://localhost:8080/"
        },
        "id": "xNg4hpOhSlsK",
        "outputId": "7c2aef0e-805c-43d3-af9f-c2b5b0669349"
      },
      "execution_count": null,
      "outputs": [
        {
          "output_type": "execute_result",
          "data": {
            "text/plain": [
              "[array([[ 1],\n",
              "        [ 4],\n",
              "        [ 7],\n",
              "        [10],\n",
              "        [13],\n",
              "        [16]]), array([[ 2],\n",
              "        [ 5],\n",
              "        [ 8],\n",
              "        [11],\n",
              "        [14],\n",
              "        [17]]), array([[ 3],\n",
              "        [ 6],\n",
              "        [ 9],\n",
              "        [12],\n",
              "        [15],\n",
              "        [18]])]"
            ]
          },
          "metadata": {},
          "execution_count": 356
        }
      ]
    }
  ]
}