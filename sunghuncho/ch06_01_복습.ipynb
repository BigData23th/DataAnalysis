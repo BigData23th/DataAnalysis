{
  "nbformat": 4,
  "nbformat_minor": 0,
  "metadata": {
    "colab": {
      "provenance": [],
      "include_colab_link": true
    },
    "kernelspec": {
      "name": "python3",
      "display_name": "Python 3"
    },
    "language_info": {
      "name": "python"
    }
  },
  "cells": [
    {
      "cell_type": "markdown",
      "metadata": {
        "id": "view-in-github",
        "colab_type": "text"
      },
      "source": [
        "<a href=\"https://colab.research.google.com/github/chohoon901/DataAnalysis_1/blob/main/sunghuncho/ch06_01_%EB%B3%B5%EC%8A%B5.ipynb\" target=\"_parent\"><img src=\"https://colab.research.google.com/assets/colab-badge.svg\" alt=\"Open In Colab\"/></a>"
      ]
    },
    {
      "cell_type": "code",
      "execution_count": 2,
      "metadata": {
        "id": "GVMHsNYTN5Na"
      },
      "outputs": [],
      "source": [
        "import pandas as pd\n",
        "import numpy as np"
      ]
    },
    {
      "cell_type": "code",
      "source": [
        "!pip install finance-datareader -q"
      ],
      "metadata": {
        "id": "gFknxzZCUQf6"
      },
      "execution_count": 3,
      "outputs": []
    },
    {
      "cell_type": "code",
      "source": [
        "import FinanceDataReader as fdr"
      ],
      "metadata": {
        "id": "wdD4X__LUcKr"
      },
      "execution_count": 4,
      "outputs": []
    },
    {
      "cell_type": "code",
      "source": [
        "etf_list=fdr.StockListing(\"ETF/KR\")\n",
        "etf_list"
      ],
      "metadata": {
        "id": "axH5MSK6UnbU",
        "outputId": "df328fa7-5cf6-4c77-a3c0-a98ff22763b8",
        "colab": {
          "base_uri": "https://localhost:8080/",
          "height": 423
        }
      },
      "execution_count": 5,
      "outputs": [
        {
          "output_type": "execute_result",
          "data": {
            "text/plain": [
              "     Symbol                   Name\n",
              "0    069500              KODEX 200\n",
              "1    357870    TIGER CD금리투자KIS(합성)\n",
              "2    423160    KODEX KOFR금리액티브(합성)\n",
              "3    371460  TIGER 차이나전기차SOLACTIVE\n",
              "4    252670       KODEX 200선물인버스2X\n",
              "..      ...                    ...\n",
              "673  376250       ARIRANG 탄소효율그린뉴딜\n",
              "674  433870     ARIRANG TDF2050액티브\n",
              "675  315480    KBSTAR 200커뮤니케이션서비스\n",
              "676  287330        KBSTAR 200생활소비재\n",
              "677  287320          KBSTAR 200산업재\n",
              "\n",
              "[678 rows x 2 columns]"
            ],
            "text/html": [
              "\n",
              "  <div id=\"df-50866494-8cfc-416f-a562-8ec65de71d68\">\n",
              "    <div class=\"colab-df-container\">\n",
              "      <div>\n",
              "<style scoped>\n",
              "    .dataframe tbody tr th:only-of-type {\n",
              "        vertical-align: middle;\n",
              "    }\n",
              "\n",
              "    .dataframe tbody tr th {\n",
              "        vertical-align: top;\n",
              "    }\n",
              "\n",
              "    .dataframe thead th {\n",
              "        text-align: right;\n",
              "    }\n",
              "</style>\n",
              "<table border=\"1\" class=\"dataframe\">\n",
              "  <thead>\n",
              "    <tr style=\"text-align: right;\">\n",
              "      <th></th>\n",
              "      <th>Symbol</th>\n",
              "      <th>Name</th>\n",
              "    </tr>\n",
              "  </thead>\n",
              "  <tbody>\n",
              "    <tr>\n",
              "      <th>0</th>\n",
              "      <td>069500</td>\n",
              "      <td>KODEX 200</td>\n",
              "    </tr>\n",
              "    <tr>\n",
              "      <th>1</th>\n",
              "      <td>357870</td>\n",
              "      <td>TIGER CD금리투자KIS(합성)</td>\n",
              "    </tr>\n",
              "    <tr>\n",
              "      <th>2</th>\n",
              "      <td>423160</td>\n",
              "      <td>KODEX KOFR금리액티브(합성)</td>\n",
              "    </tr>\n",
              "    <tr>\n",
              "      <th>3</th>\n",
              "      <td>371460</td>\n",
              "      <td>TIGER 차이나전기차SOLACTIVE</td>\n",
              "    </tr>\n",
              "    <tr>\n",
              "      <th>4</th>\n",
              "      <td>252670</td>\n",
              "      <td>KODEX 200선물인버스2X</td>\n",
              "    </tr>\n",
              "    <tr>\n",
              "      <th>...</th>\n",
              "      <td>...</td>\n",
              "      <td>...</td>\n",
              "    </tr>\n",
              "    <tr>\n",
              "      <th>673</th>\n",
              "      <td>376250</td>\n",
              "      <td>ARIRANG 탄소효율그린뉴딜</td>\n",
              "    </tr>\n",
              "    <tr>\n",
              "      <th>674</th>\n",
              "      <td>433870</td>\n",
              "      <td>ARIRANG TDF2050액티브</td>\n",
              "    </tr>\n",
              "    <tr>\n",
              "      <th>675</th>\n",
              "      <td>315480</td>\n",
              "      <td>KBSTAR 200커뮤니케이션서비스</td>\n",
              "    </tr>\n",
              "    <tr>\n",
              "      <th>676</th>\n",
              "      <td>287330</td>\n",
              "      <td>KBSTAR 200생활소비재</td>\n",
              "    </tr>\n",
              "    <tr>\n",
              "      <th>677</th>\n",
              "      <td>287320</td>\n",
              "      <td>KBSTAR 200산업재</td>\n",
              "    </tr>\n",
              "  </tbody>\n",
              "</table>\n",
              "<p>678 rows × 2 columns</p>\n",
              "</div>\n",
              "      <button class=\"colab-df-convert\" onclick=\"convertToInteractive('df-50866494-8cfc-416f-a562-8ec65de71d68')\"\n",
              "              title=\"Convert this dataframe to an interactive table.\"\n",
              "              style=\"display:none;\">\n",
              "        \n",
              "  <svg xmlns=\"http://www.w3.org/2000/svg\" height=\"24px\"viewBox=\"0 0 24 24\"\n",
              "       width=\"24px\">\n",
              "    <path d=\"M0 0h24v24H0V0z\" fill=\"none\"/>\n",
              "    <path d=\"M18.56 5.44l.94 2.06.94-2.06 2.06-.94-2.06-.94-.94-2.06-.94 2.06-2.06.94zm-11 1L8.5 8.5l.94-2.06 2.06-.94-2.06-.94L8.5 2.5l-.94 2.06-2.06.94zm10 10l.94 2.06.94-2.06 2.06-.94-2.06-.94-.94-2.06-.94 2.06-2.06.94z\"/><path d=\"M17.41 7.96l-1.37-1.37c-.4-.4-.92-.59-1.43-.59-.52 0-1.04.2-1.43.59L10.3 9.45l-7.72 7.72c-.78.78-.78 2.05 0 2.83L4 21.41c.39.39.9.59 1.41.59.51 0 1.02-.2 1.41-.59l7.78-7.78 2.81-2.81c.8-.78.8-2.07 0-2.86zM5.41 20L4 18.59l7.72-7.72 1.47 1.35L5.41 20z\"/>\n",
              "  </svg>\n",
              "      </button>\n",
              "      \n",
              "  <style>\n",
              "    .colab-df-container {\n",
              "      display:flex;\n",
              "      flex-wrap:wrap;\n",
              "      gap: 12px;\n",
              "    }\n",
              "\n",
              "    .colab-df-convert {\n",
              "      background-color: #E8F0FE;\n",
              "      border: none;\n",
              "      border-radius: 50%;\n",
              "      cursor: pointer;\n",
              "      display: none;\n",
              "      fill: #1967D2;\n",
              "      height: 32px;\n",
              "      padding: 0 0 0 0;\n",
              "      width: 32px;\n",
              "    }\n",
              "\n",
              "    .colab-df-convert:hover {\n",
              "      background-color: #E2EBFA;\n",
              "      box-shadow: 0px 1px 2px rgba(60, 64, 67, 0.3), 0px 1px 3px 1px rgba(60, 64, 67, 0.15);\n",
              "      fill: #174EA6;\n",
              "    }\n",
              "\n",
              "    [theme=dark] .colab-df-convert {\n",
              "      background-color: #3B4455;\n",
              "      fill: #D2E3FC;\n",
              "    }\n",
              "\n",
              "    [theme=dark] .colab-df-convert:hover {\n",
              "      background-color: #434B5C;\n",
              "      box-shadow: 0px 1px 3px 1px rgba(0, 0, 0, 0.15);\n",
              "      filter: drop-shadow(0px 1px 2px rgba(0, 0, 0, 0.3));\n",
              "      fill: #FFFFFF;\n",
              "    }\n",
              "  </style>\n",
              "\n",
              "      <script>\n",
              "        const buttonEl =\n",
              "          document.querySelector('#df-50866494-8cfc-416f-a562-8ec65de71d68 button.colab-df-convert');\n",
              "        buttonEl.style.display =\n",
              "          google.colab.kernel.accessAllowed ? 'block' : 'none';\n",
              "\n",
              "        async function convertToInteractive(key) {\n",
              "          const element = document.querySelector('#df-50866494-8cfc-416f-a562-8ec65de71d68');\n",
              "          const dataTable =\n",
              "            await google.colab.kernel.invokeFunction('convertToInteractive',\n",
              "                                                     [key], {});\n",
              "          if (!dataTable) return;\n",
              "\n",
              "          const docLinkHtml = 'Like what you see? Visit the ' +\n",
              "            '<a target=\"_blank\" href=https://colab.research.google.com/notebooks/data_table.ipynb>data table notebook</a>'\n",
              "            + ' to learn more about interactive tables.';\n",
              "          element.innerHTML = '';\n",
              "          dataTable['output_type'] = 'display_data';\n",
              "          await google.colab.output.renderOutput(dataTable, element);\n",
              "          const docLink = document.createElement('div');\n",
              "          docLink.innerHTML = docLinkHtml;\n",
              "          element.appendChild(docLink);\n",
              "        }\n",
              "      </script>\n",
              "    </div>\n",
              "  </div>\n",
              "  "
            ]
          },
          "metadata": {},
          "execution_count": 5
        }
      ]
    },
    {
      "cell_type": "code",
      "source": [
        "s = etf_list.Name\n",
        "s"
      ],
      "metadata": {
        "colab": {
          "base_uri": "https://localhost:8080/"
        },
        "id": "IP3hZ0ooViPv",
        "outputId": "8eb881ca-04fb-4daa-e7da-5eda105249e2"
      },
      "execution_count": 6,
      "outputs": [
        {
          "output_type": "execute_result",
          "data": {
            "text/plain": [
              "0                  KODEX 200\n",
              "1        TIGER CD금리투자KIS(합성)\n",
              "2        KODEX KOFR금리액티브(합성)\n",
              "3      TIGER 차이나전기차SOLACTIVE\n",
              "4           KODEX 200선물인버스2X\n",
              "               ...          \n",
              "673         ARIRANG 탄소효율그린뉴딜\n",
              "674       ARIRANG TDF2050액티브\n",
              "675      KBSTAR 200커뮤니케이션서비스\n",
              "676          KBSTAR 200생활소비재\n",
              "677            KBSTAR 200산업재\n",
              "Name: Name, Length: 678, dtype: object"
            ]
          },
          "metadata": {},
          "execution_count": 6
        }
      ]
    },
    {
      "cell_type": "code",
      "source": [
        "data = s.values\n",
        "data"
      ],
      "metadata": {
        "colab": {
          "base_uri": "https://localhost:8080/"
        },
        "id": "1YxMT2KWVuT9",
        "outputId": "c953ffec-bedf-4a8f-ed3d-b58df5e9ef12"
      },
      "execution_count": 9,
      "outputs": [
        {
          "output_type": "execute_result",
          "data": {
            "text/plain": [
              "array(['KODEX 200', 'TIGER CD금리투자KIS(합성)', 'KODEX KOFR금리액티브(합성)',\n",
              "       'TIGER 차이나전기차SOLACTIVE', 'KODEX 200선물인버스2X',\n",
              "       'KODEX 종합채권(AA-이상)액티브', 'TIGER 미국나스닥100', 'TIGER MSCI Korea TR',\n",
              "       'TIGER 200', 'KODEX 200TR', 'KODEX 레버리지', 'TIGER 미국S&P500',\n",
              "       'TIGER 미국필라델피아반도체나스닥', 'KODEX 23-12 은행채(AA+이상)액티브',\n",
              "       'TIGER 미국테크TOP10 INDXX', 'KODEX 단기채권PLUS', 'KODEX 삼성그룹',\n",
              "       'KBSTAR 200', 'TIGER 2차전지테마', 'TIGER 단기통안채',\n",
              "       'KBSTAR KIS종합채권(A-이상)액티브', 'TIGER TOP10', 'KODEX 2차전지산업',\n",
              "       'KODEX 인버스', 'KODEX Top5PlusTR', 'KODEX 코스닥150레버리지', 'KODEX 단기채권',\n",
              "       'TIGER 200 IT', 'KODEX 자동차', 'KODEX 코스닥150선물인버스', 'ARIRANG 200',\n",
              "       'KODEX MSCI Korea TR', 'TIGER KOFR금리액티브(합성)',\n",
              "       'KBSTAR 23-11 회사채(AA-이상)액티브', 'HANARO 200',\n",
              "       'ACE 종합채권(AA-이상)KIS액티브', 'ACE 미국S&P500',\n",
              "       'TIGER 글로벌리튬&2차전지SOLACTIVE(합성)', 'KBSTAR 단기통안채',\n",
              "       'KODEX 선진국MSCI World', 'TIGER 미국달러단기채권액티브',\n",
              "       'ARIRANG 종합채권(AA-이상)액티브', 'KODEX 코스닥150', 'KOSEF 200TR',\n",
              "       'TIGER 24-10 회사채(A+이상)액티브', 'KODEX 미국S&P500TR', 'TIGER 단기채권액티브',\n",
              "       'TIGER KRX2차전지K-뉴딜', 'ACE 미국나스닥100', 'ACE 200',\n",
              "       'TIGER 미국S&P500선물(H)', 'KODEX 미국나스닥100TR', 'KODEX 미국FANG플러스(H)',\n",
              "       'KODEX 단기변동금리부채권액티브', 'KOSEF 국고채10년', 'TIGER 차이나항셍테크',\n",
              "       'TIGER 일본니케이225', 'TIGER 글로벌자율주행&전기차SOLACTIVE', 'KOSEF 200',\n",
              "       'KODEX 코스피', 'KODEX 은행', 'KBSTAR Fn수소경제테마',\n",
              "       'KBSTAR KIS단기종합채권(AA-이상)액티브', 'TIGER 차이나CSI300',\n",
              "       'SOL 종합채권(AA-이상)액티브', 'KBSTAR 코스피', 'KBSTAR 미국나스닥100',\n",
              "       'TIGER 리츠부동산인프라', 'TIGER 코스피', 'KODEX 국고채3년', 'KODEX K-메타버스액티브',\n",
              "       'KODEX 반도체', 'KBSTAR ESG사회책임투자', 'ARIRANG 코스피TR', 'SOL 200TR',\n",
              "       'KBSTAR KIS국고채30년Enhanced', 'TIGER KRX BBIG K-뉴딜', 'ACE 단기통안채',\n",
              "       'KBSTAR 미국S&P500', 'KODEX 골드선물(H)', 'KBSTAR 200TR',\n",
              "       'TIGER 차이나과창판STAR50(합성)', 'TIGER Fn메타버스', 'TIGER 중장기국채',\n",
              "       'ACE 베트남VN30(합성)', 'ARIRANG 고배당주', 'ARIRANG 국고채30년액티브',\n",
              "       'KOSEF 단기자금', 'KODEX 장기종합채권(AA-이상)액티브KAP', 'HANARO MSCI Korea TR',\n",
              "       'KODEX 미국나스닥100레버리지(합성 H)', 'ACE 중국본토CSI300', 'TIGER 여행레저',\n",
              "       'KODEX 미국달러선물', 'KBSTAR IT플러스', 'KODEX TRF3070',\n",
              "       'TIGER 글로벌4차산업혁신기술(합성 H)', 'KBSTAR iSelect메타버스',\n",
              "       'KODEX 23-12 국고채액티브', 'HANARO 200TR', 'KODEX 미국나스닥100선물(H)',\n",
              "       'TIGER 투자등급회사채액티브', 'TIGER 글로벌메타버스액티브', 'ACE 23-12 회사채(AA-이상)액티브',\n",
              "       'KODEX 미국채울트라30년선물(H)', 'TIGER 200선물인버스2X', 'KBSTAR 국고채3년선물인버스',\n",
              "       'KODEX ESG종합채권(A-이상)액티브', 'KODEX 차이나항셍테크', 'KODEX 배당가치',\n",
              "       'TIGER 미국MSCI리츠(합성 H)', 'TIGER 23-12 국공채액티브', 'TIGER 헬스케어',\n",
              "       'TIGER 반도체', 'TIGER 중국소비테마', 'TIGER 현대차그룹+펀더멘털', 'KODEX 차이나CSI300',\n",
              "       'TIGER 종합채권(AA-이상)액티브', 'KODEX 삼성그룹밸류', 'KBSTAR 코스닥150',\n",
              "       'TIGER 코스닥150', 'TIGER 미디어컨텐츠', 'KTOP K200액티브', 'TIGER 미국채10년선물',\n",
              "       'KBSTAR 25-11 회사채(AA-이상)액티브', '히어로즈 단기채권ESG액티브',\n",
              "       'KODEX 미국S&P500선물(H)', 'KBSTAR 국채선물5년추종인버스', 'ACE 국고채10년',\n",
              "       'KBSTAR 코스닥150선물레버리지', 'ACE 24-12 회사채(AA-이상)액티브', 'KBSTAR Fn5G테크',\n",
              "       'TIGER 200 건설', 'KODEX 미국메타버스나스닥액티브', 'KBSTAR 미국단기투자등급회사채액티브',\n",
              "       'TIGER 미국다우존스30', 'KBSTAR 단기국공채액티브', 'KODEX 국고채30년액티브',\n",
              "       'KBSTAR 2차전지액티브', 'KODEX 은선물(H)', 'ACE G2전기차&자율주행액티브',\n",
              "       'SOL 미국배당다우존스', 'TIGER KRX바이오K-뉴딜', 'HANARO 200 TOP10',\n",
              "       'TIGER 200선물레버리지', 'KOSEF 인도Nifty50(합성)', 'ARIRANG 신흥국MSCI(합성 H)',\n",
              "       'KODEX WTI원유선물(H)', 'KODEX 국채선물10년', 'KBSTAR 고배당', 'KODEX 미국반도체MV',\n",
              "       'TIGER 소프트웨어', 'KODEX 미국종합채권SRI액티브(H)', 'ACE 미국WideMoat가치주',\n",
              "       'KBSTAR 중국본토대형주CSI100', 'TIGER Fn반도체TOP10', 'TIGER 경기방어',\n",
              "       'ACE 미국고배당S&P', 'KODEX 한국대만IT프리미어', 'KODEX 차이나2차전지MSCI(합성)',\n",
              "       'TIGER 차이나CSI300레버리지(합성)', '파워 200', 'HANARO e커머스',\n",
              "       'KODEX 차이나과창판STAR50(합성)', 'KODEX 차이나A50', 'TIGER 국채3년',\n",
              "       'KODEX K-신재생에너지액티브', 'TIGER 200 중공업', 'TIGER 화장품',\n",
              "       'KBSTAR 중기우량회사채', 'TIMEFOLIO Kstock액티브', 'KBSTAR Fn컨택트대표',\n",
              "       'TIGER 미국S&P500레버리지(합성 H)', 'TIGER 차이나HSCEI',\n",
              "       'ARIRANG 미국S&P500(H)', 'TIGER 차이나바이오테크SOLACTIVE', 'KBSTAR 금융채액티브',\n",
              "       'TIGER 미국필라델피아반도체레버리지(합성)', 'HANARO 글로벌럭셔리S&P(합성)', 'TIGER 인버스',\n",
              "       'KODEX 차이나H레버리지(H)', 'TIGER KEDI혁신기업ESG30', 'ACE KRX금현물',\n",
              "       'KODEX 코스피TR', 'KODEX 건설', 'TIGER 유로스탁스50(합성 H)',\n",
              "       'HANARO 32-10 국고채액티브', 'KODEX WTI원유선물인버스(H)',\n",
              "       'TIGER 미국S&P500TR(H)', 'KODEX 미국달러선물인버스2X', 'KBSTAR 대형고배당10TR',\n",
              "       'TIGER 코스닥150 레버리지', 'KOSEF 통안채1년', 'TIGER 미국S&P500배당귀족',\n",
              "       'KODEX Fn성장', 'ARIRANG ESG가치주액티브', 'KODEX 200미국채혼합', 'KODEX 차이나H',\n",
              "       'KODEX 아시아달러채권SRI플러스액티브', 'TIGER 글로벌BBIG액티브', 'ACE 단기채권알파액티브',\n",
              "       'HANARO Fn K-뉴딜디지털플러스', 'TIGER 글로벌클라우드컴퓨팅INDXX',\n",
              "       'KODEX 미국S&P500배당귀족커버드콜(합성 H)', 'KODEX 미국달러선물레버리지', 'KODEX 철강',\n",
              "       '에셋플러스 글로벌플랫폼액티브', 'SOL KIS단기통안채', 'SOL 미국S&P500',\n",
              "       'TIGER 퓨처모빌리티액티브', 'TIGER KRX인터넷K-뉴딜', 'TIGER 국고채30년스트립액티브',\n",
              "       'ACE 인도네시아MSCI(합성)', 'TIGER 테슬라채권혼합Fn', 'KODEX 바이오',\n",
              "       'KODEX 유럽탄소배출권선물ICE(H)', 'TIGER 레버리지', 'KODEX 증권',\n",
              "       'TIGER 미국나스닥바이오', 'KBSTAR 국채선물10년', 'KODEX 차이나심천ChiNext(합성)',\n",
              "       'TIGER 차이나클린에너지SOLACTIVE', 'ACE 삼성그룹섹터가중', 'KODEX 헬스케어',\n",
              "       'KOSEF 국고채3년', 'SOL 200 Top10', 'KBSTAR 게임테마', 'KODEX 미국배당프리미엄액티브',\n",
              "       'KOSEF 미국달러선물', 'TIGER 미국나스닥100커버드콜(합성)', 'KODEX IT',\n",
              "       'KODEX K-로봇액티브', 'TIGER 미국나스닥100TR(H)', 'TIGER 리츠부동산인프라채권TR KIS',\n",
              "       'KODEX 미국달러선물인버스', 'HANARO Fn전기&수소차', 'KBSTAR 200선물인버스2X',\n",
              "       'KOSEF 릭소글로벌퓨처모빌리티MSCI', 'SOL 국고채10년',\n",
              "       'ACE 글로벌반도체TOP4 Plus SOLACTIVE', 'KODEX 200ESG',\n",
              "       'TIGER 미국달러선물인버스2X', 'TIGER 원유선물Enhanced(H)', 'SOL 미국S&P500ESG',\n",
              "       '대신343 K200', 'KBSTAR 중장기국공채액티브', 'TIGER 골드선물(H)',\n",
              "       'HANARO 200선물레버리지', 'KODEX KRX기후변화솔루션', 'KODEX K-미래차액티브',\n",
              "       'TIGER 삼성그룹펀더멘털', 'TIGER S&P글로벌헬스케어(합성)', 'TIGER 탄소효율그린뉴딜',\n",
              "       'ARIRANG 미국장기우량회사채', 'KODEX 200IT TR', 'KBSTAR 내수주플러스',\n",
              "       'KODEX KRX300', 'KODEX 미디어&엔터테인먼트', 'TIGER 미국나스닥100레버리지(합성)',\n",
              "       'ACE 200TR', 'ACE 미국친환경그린테마INDXX', 'TIGER 200IT레버리지', 'ACE 국고채3년',\n",
              "       'KODEX 아시아반도체공급망exChina액티브', 'TIGER KRX기후변화솔루션',\n",
              "       'SOL 글로벌탄소배출권선물IHS(합성)', 'TIGER 200 헬스케어', 'KODEX 고배당',\n",
              "       'TIGER AI코리아그로스액티브', 'TIGER Fn신재생에너지', 'ARIRANG 미국나스닥테크',\n",
              "       'KODEX 미국S&P500에너지(합성)', 'KBSTAR 국채선물10년인버스', 'TIGER 200TR',\n",
              "       'KODEX 탄소효율그린뉴딜', 'KODEX S&P글로벌인프라(합성)', 'TIGER 차이나CSI300인버스(합성)',\n",
              "       'ARIRANG 미국단기우량회사채', 'TIGER 구리실물', 'KBSTAR 국고채3년', 'TIGER MKF배당귀족',\n",
              "       'TIGER 인도니프티50레버리지(합성)', 'KODEX 미국채10년선물', 'ACE ESG액티브',\n",
              "       'HANARO 단기채권액티브', 'TIGER 농산물선물Enhanced(H)', 'KODEX 에너지화학',\n",
              "       'KODEX 미국러셀2000(H)', 'TIGER 코스피고배당', 'TIGER 글로벌멀티에셋TIF액티브',\n",
              "       'ARIRANG K방산Fn', 'KBSTAR 비메모리반도체액티브', 'KODEX 코스피대형주',\n",
              "       'WOORI 대한민국국고채액티브', 'KODEX TRF5050', 'ARIRANG 코스피50',\n",
              "       'TIGER 원유선물인버스(H)', 'KODEX TRF7030', 'KODEX 삼성전자채권혼합Wise',\n",
              "       'TIGER 차이나반도체FACTSET', 'KODEX 배당성장채권혼합', 'TIGER 일본엔선물',\n",
              "       'HANARO Fn K-POP&미디어', 'HANARO 코스닥150', 'KBSTAR 글로벌4차산업IT(합성 H)',\n",
              "       'TIGER KRX게임K-뉴딜', 'KBSTAR 미국S&P원유생산기업(합성 H)', 'ACE 아시아TOP50S&P',\n",
              "       'KODEX 글로벌4차산업로보틱스(합성)', 'TIGER 미국나스닥100TR채권혼합Fn', 'TIGER 우량가치',\n",
              "       'ACE 러시아MSCI(합성)', 'TIGER 코스닥150선물인버스', 'KBSTAR 200선물인버스',\n",
              "       'KODEX K-친환경선박액티브', 'KODEX 코스피100', 'KODEX 보험', 'KBSTAR 200선물레버리지',\n",
              "       'TIGER 차이나항셍테크레버리지(합성 H)', 'KODEX 배당성장', '에셋플러스 코리아플랫폼액티브',\n",
              "       'TIGER KRX2차전지K-뉴딜레버리지', 'TIGER 유로스탁스배당30', 'KOSEF 미국달러선물레버리지',\n",
              "       'ACE 코스닥150', 'KBSTAR 배터리 리사이클링iSelect', 'KODEX 미국나스닥100(H)',\n",
              "       'ACE 친환경자동차밸류체인액티브', 'KODEX 게임산업', 'KODEX 200롱코스닥150숏선물',\n",
              "       'ARIRANG 미국다우존스고배당주(합성 H)', 'ARIRANG ESG성장주액티브', '마이티 다이나믹퀀트액티브',\n",
              "       'KODEX 미국S&P500(H)', 'TIGER 200 에너지화학', 'TIGER MSCI KOREA ESG리더스',\n",
              "       'FOCUS KRX300', 'HANARO Fn K-게임', 'KODEX 기계장비',\n",
              "       'KODEX 다우존스미국리츠(H)', 'KBSTAR 차이나HSCEI(H)', 'TIGER 배당성장',\n",
              "       'TIGER 단기선진하이일드(합성 H)', 'TIMEFOLIO 이노베이션액티브', 'KODEX 필수소비재',\n",
              "       'KBSTAR 글로벌클린에너지S&P', 'KOSEF 미국달러선물인버스2X', 'KODEX 200가치저변동',\n",
              "       'KODEX Fn시스템반도체', 'SOL 국고채3년', 'TIGER 글로벌자원생산기업(합성 H)',\n",
              "       'KBSTAR 채권혼합', 'KODEX 코스닥150롱코스피200숏선물', 'TIGER 미국달러선물레버리지',\n",
              "       'KBSTAR V&S셀렉트밸류채권혼합', 'FOCUS ESG리더스', 'KBSTAR 글로벌메타버스Moorgate',\n",
              "       'ACE 미국다우존스리츠(합성 H)', 'KODEX 3대농산물선물(H)', 'TIGER 200 금융',\n",
              "       'HANARO 글로벌탄소배출권선물ICE(합성)', 'TIGER K게임', 'KODEX 미국나스닥100선물인버스(H)',\n",
              "       'KODEX TDF2050액티브', 'KODEX 미국S&P500산업재(합성)', 'KODEX 최소변동성',\n",
              "       'ARIRANG 선진국MSCI(합성 H)', 'ACE 일본Nikkei225(H)', 'KODEX 운송',\n",
              "       'TIMEFOLIO 탄소중립액티브', 'KODEX 구리선물(H)', 'KBSTAR 헬스케어채권혼합',\n",
              "       'TIGER 200 철강소재', 'ARIRANG 우주항공&UAM iSelect',\n",
              "       'KODEX 미국ETF산업Top10 Indxx', 'BNK 주주가치액티브', 'ARIRANG 200선물인버스2X',\n",
              "       'KBSTAR 중국MSCI China(H)', 'KOSEF 고배당', 'TIMEFOLIO Korea플러스배당액티브',\n",
              "       'SOL 코스닥150', 'VITA MZ소비액티브', 'KOSEF 코스닥150', 'ARIRANG 고배당주채권혼합',\n",
              "       'KODEX 200exTOP', 'TIGER 200동일가중', 'TIGER LG그룹+펀더멘털',\n",
              "       'KOSEF 국고채10년레버리지', 'ACE 글로벌메타버스테크액티브', 'KODEX 미국클린에너지나스닥',\n",
              "       'KODEX MSCI KOREA ESG유니버설', 'KODEX KRX300레버리지',\n",
              "       'ACE 일본TOPIX레버리지(H)', 'KOSEF 미국S&P500', 'ACE 골드선물 레버리지(합성 H)',\n",
              "       'KBSTAR 국채선물5년추종', 'ACE 멕시코MSCI(합성)', 'TIGER 일본TOPIX(합성 H)',\n",
              "       'KODEX Fn K-뉴딜디지털플러스', '에셋플러스 코리아대장장이액티브', 'FOCUS AI코리아액티브',\n",
              "       'SOL 유럽탄소배출권선물S&P(H)', '파워 코스피100', 'ARIRANG S&P글로벌인프라',\n",
              "       'KBSTAR 미국고정배당우선증권ICE TR', 'SOL KRX300', 'TIGER 코스닥150바이오테크',\n",
              "       'ACE 엔비디아채권혼합블룸버그', 'KOSEF 물가채KIS', 'TIGER KRX300', 'KODEX KTOP30',\n",
              "       'KODEX 200동일가중', 'KODEX 혁신기술테마액티브', 'SOL 24-06 국고채액티브',\n",
              "       'TIGER 한중전기차(합성)', 'KTOP 코스피50', 'KODEX 일본TOPIX100',\n",
              "       'KOSEF 미국달러선물인버스', 'KBSTAR KRX300', 'SOL 차이나태양광CSI(합성)',\n",
              "       '에셋플러스 글로벌대장장이액티브', 'ACE 원자력테마딥서치', 'KODEX 미국스마트모빌리티S&P',\n",
              "       'SOL 차이나육성산업액티브(합성)', 'TIGER 글로벌사이버보안INDXX', 'KOSEF 블루칩',\n",
              "       'KOSEF 200선물인버스2X', 'KODEX TDF2030액티브', '마이다스 KoreaStock액티브',\n",
              "       'HANARO 탄소효율그린뉴딜', 'ARIRANG 200선물레버리지', 'ACE 글로벌브랜드TOP10블룸버그',\n",
              "       'KODEX 200 중소형', 'TIGER 유로스탁스레버리지(합성 H)', 'KODEX MSCI Korea',\n",
              "       'TIGER 로우볼', 'KOSEF KRX100', 'ACE 미국달러단기채권액티브',\n",
              "       'ARIRANG 우량회사채50 1년', 'KODEX Fn웹툰&드라마', 'KODEX 미국S&P바이오(합성)',\n",
              "       'ARIRANG KRX300', 'TIGER 미국S&P500선물인버스(H)', 'ARIRANG 미국S&P500',\n",
              "       'KODEX 콩선물(H)', 'WOORI AI ESG액티브', 'TIGER 미국나스닥넥스트100',\n",
              "       'ACE 미국IT인터넷S&P(합성 H)', 'TIGER 한중반도체(합성)', 'KODEX 한중전기차(합성)',\n",
              "       'ACE 중장기국공채액티브', 'TREX 펀더멘탈 200', 'TIGER 은행', 'KODEX Fn Top10동일가중',\n",
              "       'KOSEF Fn중소형', 'KBSTAR 미국빅데이터Top3채권혼합iSelect', 'ACE 싱가포르리츠',\n",
              "       'TIGER S&P글로벌인프라(합성)', 'FOCUS 혁신기업액티브', '에셋플러스 글로벌영에이지액티브',\n",
              "       'TIGER 우선주', 'KODEX Fn멀티팩터', 'KOSEF 미국S&P500(H)', 'KBSTAR KQ고배당',\n",
              "       'TREX 200', 'SOL 미국TOP5채권혼합40 Solactive', 'ARIRANG 국채선물10년',\n",
              "       'KBSTAR KRX300레버리지', 'HANARO 글로벌워터MSCI(합성)',\n",
              "       'KBSTAR 삼성그룹Top3채권혼합블룸버그', 'HANARO KRX300', 'HANARO KAP초장기국고채',\n",
              "       'ACE 삼성그룹동일가중', 'KBSTAR 글로벌수소경제Indxx', 'SOL 한국형글로벌반도체액티브',\n",
              "       'TIGER 이머징마켓MSCI레버리지(합성 H)', 'KOSEF 차이나A50커넥트레버리지MSCI(합성H)',\n",
              "       'ACE 미국S&P500채권혼합액티브', 'ACE 미국나스닥100채권혼합액티브', 'TIGER 200커버드콜ATM',\n",
              "       'HANARO Fn K-메타버스MZ', 'KOSEF 미국방어배당성장나스닥', 'HANARO Fn K-반도체',\n",
              "       '히어로즈 TDF2050액티브', 'KOSEF 코스피100', 'KOSEF 독일DAX', 'TIGER 금은선물(H)',\n",
              "       'ACE 중국본토CSI300레버리지(합성)', 'ARIRANG Apple채권혼합Fn', 'VITA 밸류알파액티브',\n",
              "       'KODEX 밸류Plus', 'ACE 중국과창판STAR50', 'ACE 코스피', 'ACE 레버리지',\n",
              "       'ACE 밸류대형', 'KOSEF SK그룹대표주', 'KODEX MSCI밸류', 'ACE 스마트밸류',\n",
              "       'KODEX TDF2040액티브', 'ACE 미국30년국채선물레버리지(합성 H)', 'TIGER KTOP30',\n",
              "       'ARIRANG KS로우사이즈가중TR', 'KBSTAR 주식혼합', '마이다스 200커버드콜5%OTM',\n",
              "       'KODEX 한중반도체(합성)', '마이다스 KoreaStock중소형액티브', 'KBSTAR 국채선물3년',\n",
              "       'UNICORN R&D 액티브', 'TIMEFOLIO 미국나스닥100액티브', '히어로즈 TDF2040액티브',\n",
              "       'TIGER 의료기기', 'ARIRANG KS밸류가중TR', 'SOL 한국형글로벌전기차&2차전지액티브',\n",
              "       'ACE 스마트퀄리티', 'KODEX TSE일본리츠(H)', 'TIGER MSCI KOREA ESG유니버설',\n",
              "       '히어로즈 TDF2030액티브', 'TIMEFOLIO K컬처액티브', 'WOORI 200',\n",
              "       'KBSTAR KRX300미국달러선물혼합', 'TIMEFOLIO 미국S&P500액티브', 'TIGER 경기방어채권혼합',\n",
              "       'KODEX 모멘텀Plus', 'HANARO Fn K-푸드', 'KOSEF 차이나A50커넥트MSCI',\n",
              "       'KODEX 미국채울트라30년선물인버스(H)', 'ACE 스마트로우볼',\n",
              "       'KOSEF 차이나A50커넥트인버스MSCI(합성 H)', 'KBSTAR 글로벌농업경제MV',\n",
              "       'HANARO 미국S&P500', 'KOSEF 200선물레버리지', 'ACE 베트남VN30선물블룸버그레버리지(H)',\n",
              "       'KBSTAR 유로스탁스50(H)', 'ACE 스마트모멘텀', 'ACE 코스닥(합성)',\n",
              "       'ARIRANG 고배당저변동50', 'KODEX 경기소비재', '파워 고배당저변동성', '마이티 코스피100',\n",
              "       'ACE 미국스팩&IPO INDXX', 'HANARO 글로벌신재생에너지MSCI(합성)',\n",
              "       'KBSTAR V&S셀렉트밸류', 'HANARO Fn5G산업', 'TIGER 모멘텀',\n",
              "       'KBSTAR 미국장기국채선물(H)', 'KBSTAR 글로벌데이터센터리츠나스닥(합성)',\n",
              "       'KBSTAR 미국장기국채선물레버리지(합성 H)', 'TIGER 200커뮤니케이션서비스',\n",
              "       'ACE 일본TOPIX인버스(합성 H)', 'HANARO Fn친환경에너지', 'KODEX 국채선물3년인버스',\n",
              "       'TIGER 코스피중형주', 'KBSTAR 수출주', 'HANARO 농업융복합산업', 'KBSTAR 5대그룹주',\n",
              "       'KBSTAR 차이나항셍테크', 'ARIRANG 코스피', 'KBSTAR KRX기후변화솔루션',\n",
              "       'ARIRANG 심천차이넥스트(합성)', 'ARIRANG KS모멘텀가중TR', 'KODEX MSCI모멘텀',\n",
              "       'ACE Fn성장소비주도주', 'TIGER 코스닥150IT', 'ARIRANG 신흥국MSCI인버스(합성 H)',\n",
              "       'HANARO Fn조선해운', '히어로즈 글로벌리츠이지스액티브', 'HANARO 고배당', 'TIGER 차이나항셍25',\n",
              "       'ACE 스마트하이베타', 'ARIRANG KS로우볼가중TR', 'KOSEF 릭소글로벌디지털경제MSCI',\n",
              "       'ARIRANG K-유니콘투자기업액티브', 'ARIRANG 글로벌MSCI(합성 H)',\n",
              "       'HANARO KRX기후변화솔루션', 'SOL KEDI메가테크액티브', 'KODEX 국채선물10년인버스',\n",
              "       'TIGER 200 산업재', 'TIGER 200 경기소비재', 'TIGER 200커버드콜5%OTM',\n",
              "       'KBSTAR 200IT', 'KODEX 차이나메타버스액티브', 'ACE 싱가포르리츠채권혼합모닝스타',\n",
              "       'ARIRANG 단기채권액티브', 'MASTER 테크미디어텔레콤액티브', 'HANARO 원자력iSelect',\n",
              "       'ACE 국채선물10년인버스', 'KBSTAR 중소형고배당', 'KODEX K-이노베이션액티브',\n",
              "       'ACE 필리핀MSCI(합성)', 'HK S&P코리아로우볼', 'KOSEF 코스닥150선물레버리지',\n",
              "       'ACE 차세대가치주액티브', 'ACE 국채선물3년인버스', 'KBSTAR 200에너지화학', 'TIGER 라틴35',\n",
              "       'ARIRANG 스마트베타Quality채권혼합', 'KBSTAR 200고배당커버드콜ATM',\n",
              "       'SOL KRX기후변화솔루션', 'KBSTAR 헬스케어', 'KBSTAR 우량업종', 'HK 베스트일레븐액티브',\n",
              "       'SOL 한국형글로벌플랫폼&메타버스액티브', 'ARIRANG KS퀄리티가중TR',\n",
              "       'WOORI 미국S&P우주항공&디펜스', 'HANARO 200선물인버스', 'KOSEF 코스닥150선물인버스',\n",
              "       'KBSTAR TDF2030액티브', 'TIGER 200에너지화학레버리지', 'KBSTAR TDF2040액티브',\n",
              "       'KBSTAR TDF2050액티브', 'HANARO 글로벌백신치료제MSCI', 'KOSEF 미국ETF산업STOXX',\n",
              "       'ACE Fn5G플러스', 'TIGER 증권', 'WOORI 미국S&P500', '히어로즈 리츠이지스액티브',\n",
              "       'ARIRANG 200동일가중', 'TIGER 지주회사', 'HANARO Fn골프테마', 'KODEX MSCI퀄리티',\n",
              "       'KBSTAR 모멘텀로우볼', 'ARIRANG 코스닥150', 'KBSTAR Fn창업투자회사',\n",
              "       'KOSEF 200선물인버스', 'SOL 차이나강소기업CSI500(합성 H)', 'ARIRANG K리츠Fn',\n",
              "       'KODEX 멀티에셋하이인컴(H)', 'KODEX MSCI EM선물(H)', 'KBSTAR 모멘텀밸류',\n",
              "       'KBSTAR Fn K-뉴딜디지털플러스', 'MASTER 스마트커머스액티브', 'ARIRANG 코스닥150선물인버스',\n",
              "       'KBSTAR 200철강소재', 'ACE 차이나항셍테크', 'HANARO 미국메타버스iSelect',\n",
              "       'KBSTAR 200중공업', 'ARIRANG 중형주저변동50', 'ARIRANG 글로벌D램반도체iSelect',\n",
              "       'TIGER 코스피대형주', 'TIGER 200 생활소비재', 'KBSTAR 코스닥150선물인버스',\n",
              "       'KBSTAR 팔라듐선물(H)', 'HK 하이볼액티브', '마이티 200커버드콜ATM레버리지',\n",
              "       'KBSTAR Fn플랫폼테마', 'ARIRANG 글로벌수소&차세대연료전지MV', 'KODEX 퀄리티Plus',\n",
              "       'TIGER 금속선물(H)', 'ARIRANG 글로벌희토류전략자원기업MV', 'ARIRANG 코스피중형주',\n",
              "       'ACE 인버스', 'ARIRANG 국채선물3년', 'TIGER 방송통신', 'KODEX 골드선물인버스(H)',\n",
              "       'HANARO 코스닥150선물레버리지', 'KBSTAR 200금융', 'ARIRANG 주도업종',\n",
              "       'KBSTAR 200경기소비재', 'KBSTAR 미국장기국채선물인버스(H)', 'KBSTAR 글로벌원자력iSelect',\n",
              "       'TIGER KRX BBIG K-뉴딜레버리지', 'ARIRANG 글로벌인공지능산업MV',\n",
              "       'KBSTAR 팔라듐선물인버스(H)', 'KBSTAR 미국장기국채선물인버스2X(합성 H)',\n",
              "       'KBSTAR 차이나H선물인버스(H)', 'KBSTAR 국채30년레버리지KAP(합성)', 'KBSTAR 200건설',\n",
              "       'ARIRANG ESG우수기업', 'ARIRANG 미국대체투자Top10MV', 'ARIRANG TDF2060액티브',\n",
              "       'ARIRANG TDF2040액티브', 'ARIRANG KRX300헬스케어', 'ARIRANG TDF2030액티브',\n",
              "       'ARIRANG 탄소효율그린뉴딜', 'ARIRANG TDF2050액티브', 'KBSTAR 200커뮤니케이션서비스',\n",
              "       'KBSTAR 200생활소비재', 'KBSTAR 200산업재'], dtype=object)"
            ]
          },
          "metadata": {},
          "execution_count": 9
        }
      ]
    },
    {
      "cell_type": "code",
      "source": [
        "index = etf_list['Symbol'].values\n",
        "index"
      ],
      "metadata": {
        "id": "1z5I66tgWHix"
      },
      "execution_count": null,
      "outputs": []
    },
    {
      "cell_type": "code",
      "source": [
        "a=pd.Series(data,index=index)\n",
        "a"
      ],
      "metadata": {
        "id": "P_R4c3-0U95m"
      },
      "execution_count": null,
      "outputs": []
    },
    {
      "cell_type": "code",
      "source": [
        "a.values"
      ],
      "metadata": {
        "id": "WLgJgvjTWQdi"
      },
      "execution_count": null,
      "outputs": []
    },
    {
      "cell_type": "code",
      "source": [
        "a+a"
      ],
      "metadata": {
        "colab": {
          "base_uri": "https://localhost:8080/"
        },
        "id": "3Uw3bf46Wnm5",
        "outputId": "8b948086-e5ca-405e-811b-9082e2b96aa8"
      },
      "execution_count": 13,
      "outputs": [
        {
          "output_type": "execute_result",
          "data": {
            "text/plain": [
              "069500                            KODEX 200KODEX 200\n",
              "357870        TIGER CD금리투자KIS(합성)TIGER CD금리투자KIS(합성)\n",
              "423160        KODEX KOFR금리액티브(합성)KODEX KOFR금리액티브(합성)\n",
              "371460    TIGER 차이나전기차SOLACTIVETIGER 차이나전기차SOLACTIVE\n",
              "252670              KODEX 200선물인버스2XKODEX 200선물인버스2X\n",
              "                             ...                    \n",
              "376250              ARIRANG 탄소효율그린뉴딜ARIRANG 탄소효율그린뉴딜\n",
              "433870          ARIRANG TDF2050액티브ARIRANG TDF2050액티브\n",
              "315480        KBSTAR 200커뮤니케이션서비스KBSTAR 200커뮤니케이션서비스\n",
              "287330                KBSTAR 200생활소비재KBSTAR 200생활소비재\n",
              "287320                    KBSTAR 200산업재KBSTAR 200산업재\n",
              "Length: 678, dtype: object"
            ]
          },
          "metadata": {},
          "execution_count": 13
        }
      ]
    },
    {
      "cell_type": "code",
      "source": [
        "a[0],a['069500']"
      ],
      "metadata": {
        "colab": {
          "base_uri": "https://localhost:8080/"
        },
        "id": "mmpYYyFAWpbO",
        "outputId": "340b469c-fbf7-4d99-af00-17b356924a40"
      },
      "execution_count": 15,
      "outputs": [
        {
          "output_type": "execute_result",
          "data": {
            "text/plain": [
              "('KODEX 200', 'KODEX 200')"
            ]
          },
          "metadata": {},
          "execution_count": 15
        }
      ]
    },
    {
      "cell_type": "code",
      "source": [
        "a[-1]"
      ],
      "metadata": {
        "colab": {
          "base_uri": "https://localhost:8080/",
          "height": 35
        },
        "id": "mGlEn70RW09r",
        "outputId": "05a3df63-f564-43fb-c22e-b72e65f9c49e"
      },
      "execution_count": 16,
      "outputs": [
        {
          "output_type": "execute_result",
          "data": {
            "text/plain": [
              "'KBSTAR 200산업재'"
            ],
            "application/vnd.google.colaboratory.intrinsic+json": {
              "type": "string"
            }
          },
          "metadata": {},
          "execution_count": 16
        }
      ]
    },
    {
      "cell_type": "code",
      "source": [
        "a[[0,3,-10]]"
      ],
      "metadata": {
        "colab": {
          "base_uri": "https://localhost:8080/"
        },
        "id": "AK0j7FGpW2lK",
        "outputId": "6ba1f01a-0732-47f2-ed73-479b34dbe58e"
      },
      "execution_count": 18,
      "outputs": [
        {
          "output_type": "execute_result",
          "data": {
            "text/plain": [
              "069500                KODEX 200\n",
              "371460    TIGER 차이나전기차SOLACTIVE\n",
              "426410    ARIRANG 미국대체투자Top10MV\n",
              "dtype: object"
            ]
          },
          "metadata": {},
          "execution_count": 18
        }
      ]
    },
    {
      "cell_type": "code",
      "source": [
        "a[[\"315480\",\"371460\",\"433870\"]]"
      ],
      "metadata": {
        "colab": {
          "base_uri": "https://localhost:8080/"
        },
        "id": "Zha_-4lwW8CW",
        "outputId": "19cc0989-4d2f-461e-c69a-8f27236d2525"
      },
      "execution_count": 21,
      "outputs": [
        {
          "output_type": "execute_result",
          "data": {
            "text/plain": [
              "315480      KBSTAR 200커뮤니케이션서비스\n",
              "371460    TIGER 차이나전기차SOLACTIVE\n",
              "433870       ARIRANG TDF2050액티브\n",
              "dtype: object"
            ]
          },
          "metadata": {},
          "execution_count": 21
        }
      ]
    },
    {
      "cell_type": "code",
      "source": [
        "kospi=fdr.DataReader('069500').Volume\n",
        "china=fdr.DataReader('371460').Volume\n",
        "kospi,china"
      ],
      "metadata": {
        "colab": {
          "base_uri": "https://localhost:8080/"
        },
        "id": "atDbTnjvXJ5m",
        "outputId": "672557eb-d722-48c6-893d-99c8c82a7470"
      },
      "execution_count": 24,
      "outputs": [
        {
          "output_type": "execute_result",
          "data": {
            "text/plain": [
              "(Date\n",
              " 2002-10-14     3719554\n",
              " 2002-10-15     3303231\n",
              " 2002-10-16     2942972\n",
              " 2002-10-17     3018929\n",
              " 2002-10-18     1906949\n",
              "                 ...   \n",
              " 2023-03-07     6041336\n",
              " 2023-03-08    10926009\n",
              " 2023-03-09     6727453\n",
              " 2023-03-10     8278301\n",
              " 2023-03-13      689533\n",
              " Name: Volume, Length: 5049, dtype: int64, Date\n",
              " 2020-12-08    1048978\n",
              " 2020-12-09     775168\n",
              " 2020-12-10     278461\n",
              " 2020-12-11     449881\n",
              " 2020-12-14     165223\n",
              "                ...   \n",
              " 2023-03-07    5439303\n",
              " 2023-03-08    4425528\n",
              " 2023-03-09    5001159\n",
              " 2023-03-10    5975088\n",
              " 2023-03-13     313601\n",
              " Name: Volume, Length: 558, dtype: int64)"
            ]
          },
          "metadata": {},
          "execution_count": 24
        }
      ]
    },
    {
      "cell_type": "code",
      "source": [
        "kospi[(kospi>10000000)]"
      ],
      "metadata": {
        "colab": {
          "base_uri": "https://localhost:8080/"
        },
        "id": "f_J0mFM1X9XB",
        "outputId": "af657cf8-27f1-44b8-dba0-b3e9fa1ea5b5"
      },
      "execution_count": 25,
      "outputs": [
        {
          "output_type": "execute_result",
          "data": {
            "text/plain": [
              "Date\n",
              "2007-02-28    10855906\n",
              "2007-12-13    14955069\n",
              "2008-07-10    11540139\n",
              "2008-09-11    25821479\n",
              "2008-10-09    13059458\n",
              "                ...   \n",
              "2023-02-13    10210789\n",
              "2023-02-15    11497540\n",
              "2023-02-23    12572489\n",
              "2023-02-27    11282435\n",
              "2023-03-08    10926009\n",
              "Name: Volume, Length: 588, dtype: int64"
            ]
          },
          "metadata": {},
          "execution_count": 25
        }
      ]
    },
    {
      "cell_type": "code",
      "source": [
        "kospi[(kospi>10000000)&(kospi<20000000)]"
      ],
      "metadata": {
        "colab": {
          "base_uri": "https://localhost:8080/"
        },
        "id": "4judxIMLYBML",
        "outputId": "0c8519b2-fce9-4aa3-db37-ba4e562d20a2"
      },
      "execution_count": 27,
      "outputs": [
        {
          "output_type": "execute_result",
          "data": {
            "text/plain": [
              "Date\n",
              "2007-02-28    10855906\n",
              "2007-12-13    14955069\n",
              "2008-07-10    11540139\n",
              "2008-10-09    13059458\n",
              "2009-01-08    11462324\n",
              "                ...   \n",
              "2023-02-13    10210789\n",
              "2023-02-15    11497540\n",
              "2023-02-23    12572489\n",
              "2023-02-27    11282435\n",
              "2023-03-08    10926009\n",
              "Name: Volume, Length: 535, dtype: int64"
            ]
          },
          "metadata": {},
          "execution_count": 27
        }
      ]
    },
    {
      "cell_type": "code",
      "source": [
        "china[:200]"
      ],
      "metadata": {
        "colab": {
          "base_uri": "https://localhost:8080/"
        },
        "id": "SN-5WVm0YP7C",
        "outputId": "ddc55bbe-9d7b-4afc-d17c-0b563ceab9ff"
      },
      "execution_count": 28,
      "outputs": [
        {
          "output_type": "execute_result",
          "data": {
            "text/plain": [
              "Date\n",
              "2020-12-08     1048978\n",
              "2020-12-09      775168\n",
              "2020-12-10      278461\n",
              "2020-12-11      449881\n",
              "2020-12-14      165223\n",
              "                ...   \n",
              "2021-09-23     5375040\n",
              "2021-09-24     6894670\n",
              "2021-09-27    10264560\n",
              "2021-09-28     4209286\n",
              "2021-09-29     6305614\n",
              "Name: Volume, Length: 200, dtype: int64"
            ]
          },
          "metadata": {},
          "execution_count": 28
        }
      ]
    },
    {
      "cell_type": "code",
      "source": [
        "china.tail(10)"
      ],
      "metadata": {
        "colab": {
          "base_uri": "https://localhost:8080/"
        },
        "id": "HXUQnR5YYdgp",
        "outputId": "2e74a9c6-b6c9-4bd5-b4a7-de1936860f14"
      },
      "execution_count": 30,
      "outputs": [
        {
          "output_type": "execute_result",
          "data": {
            "text/plain": [
              "Date\n",
              "2023-02-27    3460909\n",
              "2023-02-28    3755890\n",
              "2023-03-02    4212024\n",
              "2023-03-03    4787613\n",
              "2023-03-06    7684520\n",
              "2023-03-07    5439303\n",
              "2023-03-08    4425528\n",
              "2023-03-09    5001159\n",
              "2023-03-10    5975088\n",
              "2023-03-13     313601\n",
              "Name: Volume, dtype: int64"
            ]
          },
          "metadata": {},
          "execution_count": 30
        }
      ]
    },
    {
      "cell_type": "code",
      "source": [
        "china[\"2023-02-07\":\"2023-03-10\"]"
      ],
      "metadata": {
        "colab": {
          "base_uri": "https://localhost:8080/"
        },
        "id": "cMOZy-3ZYfZh",
        "outputId": "abe90652-be20-4cc5-ef47-ab43cd39527c"
      },
      "execution_count": 32,
      "outputs": [
        {
          "output_type": "execute_result",
          "data": {
            "text/plain": [
              "Date\n",
              "2023-02-07    2509609\n",
              "2023-02-08    2941477\n",
              "2023-02-09    3134582\n",
              "2023-02-10    4537429\n",
              "2023-02-13    3175638\n",
              "2023-02-14    3835378\n",
              "2023-02-15    3948415\n",
              "2023-02-16    4873243\n",
              "2023-02-17    5090381\n",
              "2023-02-20    4789474\n",
              "2023-02-21    3441883\n",
              "2023-02-22    2868784\n",
              "2023-02-23    2655238\n",
              "2023-02-24    3248472\n",
              "2023-02-27    3460909\n",
              "2023-02-28    3755890\n",
              "2023-03-02    4212024\n",
              "2023-03-03    4787613\n",
              "2023-03-06    7684520\n",
              "2023-03-07    5439303\n",
              "2023-03-08    4425528\n",
              "2023-03-09    5001159\n",
              "2023-03-10    5975088\n",
              "Name: Volume, dtype: int64"
            ]
          },
          "metadata": {},
          "execution_count": 32
        }
      ]
    },
    {
      "cell_type": "code",
      "source": [
        "china[\"2023-03-01\":\"2023-03-15\"]"
      ],
      "metadata": {
        "colab": {
          "base_uri": "https://localhost:8080/"
        },
        "id": "1MRBbt5VYt8D",
        "outputId": "0563698c-c32f-4c67-df16-f9200c9be9a1"
      },
      "execution_count": 33,
      "outputs": [
        {
          "output_type": "execute_result",
          "data": {
            "text/plain": [
              "Date\n",
              "2023-03-02    4212024\n",
              "2023-03-03    4787613\n",
              "2023-03-06    7684520\n",
              "2023-03-07    5439303\n",
              "2023-03-08    4425528\n",
              "2023-03-09    5001159\n",
              "2023-03-10    5975088\n",
              "2023-03-13     313601\n",
              "Name: Volume, dtype: int64"
            ]
          },
          "metadata": {},
          "execution_count": 33
        }
      ]
    },
    {
      "cell_type": "code",
      "source": [
        "d=dict(china[\"2023-02-07\":\"2023-03-10\"].items())"
      ],
      "metadata": {
        "id": "kvflLf7qYyI5"
      },
      "execution_count": 35,
      "outputs": []
    },
    {
      "cell_type": "code",
      "source": [
        "pd.Series(d)"
      ],
      "metadata": {
        "colab": {
          "base_uri": "https://localhost:8080/"
        },
        "id": "pN0NfAGGY-Nq",
        "outputId": "a31fe507-86fc-48e1-fd85-557cf0102b76"
      },
      "execution_count": 36,
      "outputs": [
        {
          "output_type": "execute_result",
          "data": {
            "text/plain": [
              "2023-02-07    2509609\n",
              "2023-02-08    2941477\n",
              "2023-02-09    3134582\n",
              "2023-02-10    4537429\n",
              "2023-02-13    3175638\n",
              "2023-02-14    3835378\n",
              "2023-02-15    3948415\n",
              "2023-02-16    4873243\n",
              "2023-02-17    5090381\n",
              "2023-02-20    4789474\n",
              "2023-02-21    3441883\n",
              "2023-02-22    2868784\n",
              "2023-02-23    2655238\n",
              "2023-02-24    3248472\n",
              "2023-02-27    3460909\n",
              "2023-02-28    3755890\n",
              "2023-03-02    4212024\n",
              "2023-03-03    4787613\n",
              "2023-03-06    7684520\n",
              "2023-03-07    5439303\n",
              "2023-03-08    4425528\n",
              "2023-03-09    5001159\n",
              "2023-03-10    5975088\n",
              "dtype: int64"
            ]
          },
          "metadata": {},
          "execution_count": 36
        }
      ]
    },
    {
      "cell_type": "code",
      "source": [
        "kospi,china"
      ],
      "metadata": {
        "colab": {
          "base_uri": "https://localhost:8080/"
        },
        "id": "H0WXLPOFY7Q2",
        "outputId": "be98a6a5-79d4-4a6b-b370-397ab140f032"
      },
      "execution_count": 37,
      "outputs": [
        {
          "output_type": "execute_result",
          "data": {
            "text/plain": [
              "(Date\n",
              " 2002-10-14     3719554\n",
              " 2002-10-15     3303231\n",
              " 2002-10-16     2942972\n",
              " 2002-10-17     3018929\n",
              " 2002-10-18     1906949\n",
              "                 ...   \n",
              " 2023-03-07     6041336\n",
              " 2023-03-08    10926009\n",
              " 2023-03-09     6727453\n",
              " 2023-03-10     8278301\n",
              " 2023-03-13      689533\n",
              " Name: Volume, Length: 5049, dtype: int64, Date\n",
              " 2020-12-08    1048978\n",
              " 2020-12-09     775168\n",
              " 2020-12-10     278461\n",
              " 2020-12-11     449881\n",
              " 2020-12-14     165223\n",
              "                ...   \n",
              " 2023-03-07    5439303\n",
              " 2023-03-08    4425528\n",
              " 2023-03-09    5001159\n",
              " 2023-03-10    5975088\n",
              " 2023-03-13     313601\n",
              " Name: Volume, Length: 558, dtype: int64)"
            ]
          },
          "metadata": {},
          "execution_count": 37
        }
      ]
    },
    {
      "cell_type": "code",
      "source": [
        "s=kospi-china\n",
        "s"
      ],
      "metadata": {
        "colab": {
          "base_uri": "https://localhost:8080/"
        },
        "id": "NG7KKzpzZKgh",
        "outputId": "81fc5da5-f059-4df9-86a5-1dd749540fc9"
      },
      "execution_count": 43,
      "outputs": [
        {
          "output_type": "execute_result",
          "data": {
            "text/plain": [
              "Date\n",
              "2002-10-14          NaN\n",
              "2002-10-15          NaN\n",
              "2002-10-16          NaN\n",
              "2002-10-17          NaN\n",
              "2002-10-18          NaN\n",
              "                ...    \n",
              "2023-03-07     602033.0\n",
              "2023-03-08    6500481.0\n",
              "2023-03-09    1726294.0\n",
              "2023-03-10    2303213.0\n",
              "2023-03-13     375932.0\n",
              "Name: Volume, Length: 5049, dtype: float64"
            ]
          },
          "metadata": {},
          "execution_count": 43
        }
      ]
    },
    {
      "cell_type": "code",
      "source": [
        "s[s.isnull()]"
      ],
      "metadata": {
        "colab": {
          "base_uri": "https://localhost:8080/"
        },
        "id": "oC2zijRIZ837",
        "outputId": "8bbd4a91-6535-407b-a1cd-d16e0418304b"
      },
      "execution_count": 44,
      "outputs": [
        {
          "output_type": "execute_result",
          "data": {
            "text/plain": [
              "Date\n",
              "2002-10-14   NaN\n",
              "2002-10-15   NaN\n",
              "2002-10-16   NaN\n",
              "2002-10-17   NaN\n",
              "2002-10-18   NaN\n",
              "              ..\n",
              "2020-12-01   NaN\n",
              "2020-12-02   NaN\n",
              "2020-12-03   NaN\n",
              "2020-12-04   NaN\n",
              "2020-12-07   NaN\n",
              "Name: Volume, Length: 4491, dtype: float64"
            ]
          },
          "metadata": {},
          "execution_count": 44
        }
      ]
    },
    {
      "cell_type": "code",
      "source": [
        "s[s.notnull()]"
      ],
      "metadata": {
        "colab": {
          "base_uri": "https://localhost:8080/"
        },
        "id": "8UvaoAgkZMzD",
        "outputId": "4bc3ce9d-c999-4c9f-826b-4e1bc06d767e"
      },
      "execution_count": 45,
      "outputs": [
        {
          "output_type": "execute_result",
          "data": {
            "text/plain": [
              "Date\n",
              "2020-12-08    12714435.0\n",
              "2020-12-09    13071574.0\n",
              "2020-12-10    11992268.0\n",
              "2020-12-11    10457238.0\n",
              "2020-12-14    14140566.0\n",
              "                 ...    \n",
              "2023-03-07      602033.0\n",
              "2023-03-08     6500481.0\n",
              "2023-03-09     1726294.0\n",
              "2023-03-10     2303213.0\n",
              "2023-03-13      375932.0\n",
              "Name: Volume, Length: 558, dtype: float64"
            ]
          },
          "metadata": {},
          "execution_count": 45
        }
      ]
    },
    {
      "cell_type": "code",
      "source": [
        "s.dropna()"
      ],
      "metadata": {
        "colab": {
          "base_uri": "https://localhost:8080/"
        },
        "id": "IUl-QH9eZt0S",
        "outputId": "4747e859-1939-4836-eff1-12cb1683c83b"
      },
      "execution_count": 46,
      "outputs": [
        {
          "output_type": "execute_result",
          "data": {
            "text/plain": [
              "Date\n",
              "2020-12-08    12714435.0\n",
              "2020-12-09    13071574.0\n",
              "2020-12-10    11992268.0\n",
              "2020-12-11    10457238.0\n",
              "2020-12-14    14140566.0\n",
              "                 ...    \n",
              "2023-03-07      602033.0\n",
              "2023-03-08     6500481.0\n",
              "2023-03-09     1726294.0\n",
              "2023-03-10     2303213.0\n",
              "2023-03-13      375932.0\n",
              "Name: Volume, Length: 558, dtype: float64"
            ]
          },
          "metadata": {},
          "execution_count": 46
        }
      ]
    },
    {
      "cell_type": "code",
      "source": [
        "a['0069500']='KODEX 코르피 200'\n",
        "a"
      ],
      "metadata": {
        "colab": {
          "base_uri": "https://localhost:8080/"
        },
        "id": "UaZXlF7raMtv",
        "outputId": "7a7b3e5e-632f-4843-985b-f45e2b8ab06b"
      },
      "execution_count": 47,
      "outputs": [
        {
          "output_type": "execute_result",
          "data": {
            "text/plain": [
              "069500                 KODEX 200\n",
              "357870       TIGER CD금리투자KIS(합성)\n",
              "423160       KODEX KOFR금리액티브(합성)\n",
              "371460     TIGER 차이나전기차SOLACTIVE\n",
              "252670          KODEX 200선물인버스2X\n",
              "                   ...          \n",
              "433870        ARIRANG TDF2050액티브\n",
              "315480       KBSTAR 200커뮤니케이션서비스\n",
              "287330           KBSTAR 200생활소비재\n",
              "287320             KBSTAR 200산업재\n",
              "0069500            KODEX 코르피 200\n",
              "Length: 679, dtype: object"
            ]
          },
          "metadata": {},
          "execution_count": 47
        }
      ]
    },
    {
      "cell_type": "code",
      "source": [
        "del a['371460']\n",
        "a"
      ],
      "metadata": {
        "colab": {
          "base_uri": "https://localhost:8080/"
        },
        "id": "AgKoMQ1WaTOC",
        "outputId": "21947e54-77eb-44f2-f085-1742b8475b3b"
      },
      "execution_count": 48,
      "outputs": [
        {
          "output_type": "execute_result",
          "data": {
            "text/plain": [
              "069500                KODEX 200\n",
              "357870      TIGER CD금리투자KIS(합성)\n",
              "423160      KODEX KOFR금리액티브(합성)\n",
              "252670         KODEX 200선물인버스2X\n",
              "273130     KODEX 종합채권(AA-이상)액티브\n",
              "                   ...         \n",
              "433870       ARIRANG TDF2050액티브\n",
              "315480      KBSTAR 200커뮤니케이션서비스\n",
              "287330          KBSTAR 200생활소비재\n",
              "287320            KBSTAR 200산업재\n",
              "0069500           KODEX 코르피 200\n",
              "Length: 678, dtype: object"
            ]
          },
          "metadata": {},
          "execution_count": 48
        }
      ]
    },
    {
      "cell_type": "code",
      "source": [
        "import requests\n",
        "\n",
        "\n",
        "requests.get()"
      ],
      "metadata": {
        "colab": {
          "base_uri": "https://localhost:8080/",
          "height": 209
        },
        "id": "Rb4oN1eMaYht",
        "outputId": "1d95df56-88f7-4e6f-c6c9-2d1df5f2d6b2"
      },
      "execution_count": 49,
      "outputs": [
        {
          "output_type": "error",
          "ename": "TypeError",
          "evalue": "ignored",
          "traceback": [
            "\u001b[0;31m---------------------------------------------------------------------------\u001b[0m",
            "\u001b[0;31mTypeError\u001b[0m                                 Traceback (most recent call last)",
            "\u001b[0;32m<ipython-input-49-67ae0bfa0c40>\u001b[0m in \u001b[0;36m<module>\u001b[0;34m\u001b[0m\n\u001b[1;32m      2\u001b[0m \u001b[0;34m\u001b[0m\u001b[0m\n\u001b[1;32m      3\u001b[0m \u001b[0;34m\u001b[0m\u001b[0m\n\u001b[0;32m----> 4\u001b[0;31m \u001b[0mrequests\u001b[0m\u001b[0;34m.\u001b[0m\u001b[0mget\u001b[0m\u001b[0;34m(\u001b[0m\u001b[0;34m)\u001b[0m\u001b[0;34m\u001b[0m\u001b[0;34m\u001b[0m\u001b[0m\n\u001b[0m",
            "\u001b[0;31mTypeError\u001b[0m: get() missing 1 required positional argument: 'url'"
          ]
        }
      ]
    },
    {
      "cell_type": "code",
      "source": [
        "from bs4 import BeautifulSoup"
      ],
      "metadata": {
        "id": "4tHFULKSiV7e"
      },
      "execution_count": 50,
      "outputs": []
    },
    {
      "cell_type": "code",
      "source": [
        "soup = BeautifulSoup(response.text)\n",
        "soup"
      ],
      "metadata": {
        "colab": {
          "base_uri": "https://localhost:8080/",
          "height": 190
        },
        "id": "PUJCNmUKiXer",
        "outputId": "b3af432d-2907-4d57-d10e-70af4371a129"
      },
      "execution_count": 51,
      "outputs": [
        {
          "output_type": "error",
          "ename": "NameError",
          "evalue": "ignored",
          "traceback": [
            "\u001b[0;31m---------------------------------------------------------------------------\u001b[0m",
            "\u001b[0;31mNameError\u001b[0m                                 Traceback (most recent call last)",
            "\u001b[0;32m<ipython-input-51-21e5eda05cb8>\u001b[0m in \u001b[0;36m<module>\u001b[0;34m\u001b[0m\n\u001b[0;32m----> 1\u001b[0;31m \u001b[0msoup\u001b[0m \u001b[0;34m=\u001b[0m \u001b[0mBeautifulSoup\u001b[0m\u001b[0;34m(\u001b[0m\u001b[0mresponse\u001b[0m\u001b[0;34m.\u001b[0m\u001b[0mtext\u001b[0m\u001b[0;34m)\u001b[0m\u001b[0;34m\u001b[0m\u001b[0;34m\u001b[0m\u001b[0m\n\u001b[0m\u001b[1;32m      2\u001b[0m \u001b[0msoup\u001b[0m\u001b[0;34m\u001b[0m\u001b[0;34m\u001b[0m\u001b[0m\n",
            "\u001b[0;31mNameError\u001b[0m: name 'response' is not defined"
          ]
        }
      ]
    },
    {
      "cell_type": "code",
      "source": [],
      "metadata": {
        "id": "9rr1tmgFiXtc"
      },
      "execution_count": null,
      "outputs": []
    }
  ]
}