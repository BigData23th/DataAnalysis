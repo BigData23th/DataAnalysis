{
  "nbformat": 4,
  "nbformat_minor": 0,
  "metadata": {
    "colab": {
      "provenance": [],
      "include_colab_link": true
    },
    "kernelspec": {
      "name": "python3",
      "display_name": "Python 3"
    },
    "language_info": {
      "name": "python"
    }
  },
  "cells": [
    {
      "cell_type": "markdown",
      "metadata": {
        "id": "view-in-github",
        "colab_type": "text"
      },
      "source": [
        "<a href=\"https://colab.research.google.com/github/chohoon901/DataAnalysis_1/blob/main/sunghuncho/ch05_01_numpy_%EA%B8%B0%EC%B4%88_sunghuncho.ipynb\" target=\"_parent\"><img src=\"https://colab.research.google.com/assets/colab-badge.svg\" alt=\"Open In Colab\"/></a>"
      ]
    },
    {
      "cell_type": "markdown",
      "source": [
        "# Numpy 기초"
      ],
      "metadata": {
        "id": "3vzkJFqn7psT"
      }
    },
    {
      "cell_type": "markdown",
      "source": [
        "## 배열(Array)\n",
        "* 많은 데이터를 하나의 변수에 넣는 법? : **리스트**\n",
        "* 하지만 리스트는...\n",
        "    * 속도가 느리다\n",
        "    * 메모리를 많이 차지한다\n",
        "\n",
        "> 그래서? **배열(Array)**을 사용한다\n",
        "\n",
        "* 적은 메모리로 많은 데이터를 빠르게 처리할 수 있음"
      ],
      "metadata": {
        "id": "03onuyb58F9z"
      }
    },
    {
      "cell_type": "markdown",
      "source": [
        "## 특징\n",
        "1. 모든 원소가 같은 **자료형**이어야 함\n",
        "2. 원소의 갯수를 바꿀 수 없음\n",
        "\n",
        "> 그런데 파이썬은 자체적으로 배열 자료형을 제공하지 않음<br>\n",
        "> 그래서 우리는 **넘파이(Numpy)** 패키지를 import해서 사용 "
      ],
      "metadata": {
        "id": "TZeeC4KLFqOe"
      }
    },
    {
      "cell_type": "code",
      "execution_count": 1,
      "metadata": {
        "id": "Rzperc7l7h0f"
      },
      "outputs": [],
      "source": [
        "import numpy as np"
      ]
    },
    {
      "cell_type": "markdown",
      "source": [
        "## 1차원 배열\n",
        "* 리스트나 튜플처럼 한 줄로 이루어진 형태의 배열"
      ],
      "metadata": {
        "id": "_HHBBVwc9IZS"
      }
    },
    {
      "cell_type": "code",
      "source": [
        "np.array({1,2,3})"
      ],
      "metadata": {
        "colab": {
          "base_uri": "https://localhost:8080/"
        },
        "id": "HLr3CcZ-9dXj",
        "outputId": "538fd7fe-be13-4e0e-d026-8c2ed08844cd"
      },
      "execution_count": 2,
      "outputs": [
        {
          "output_type": "execute_result",
          "data": {
            "text/plain": [
              "array({1, 2, 3}, dtype=object)"
            ]
          },
          "metadata": {},
          "execution_count": 2
        }
      ]
    },
    {
      "cell_type": "code",
      "source": [
        "arr=np.array(range(10))\n",
        "type(arr)"
      ],
      "metadata": {
        "colab": {
          "base_uri": "https://localhost:8080/"
        },
        "id": "a1Gxzmom9oP8",
        "outputId": "ba0089eb-f6e9-4c2b-fcdc-f88d3b7668e2"
      },
      "execution_count": 5,
      "outputs": [
        {
          "output_type": "execute_result",
          "data": {
            "text/plain": [
              "numpy.ndarray"
            ]
          },
          "metadata": {},
          "execution_count": 5
        }
      ]
    },
    {
      "cell_type": "markdown",
      "source": [
        "## ndarray\n",
        "* 배열 객체 타입(자료형)\n",
        "* 리스트와 동일해 보이지만 차이가 많음\n",
        "\n",
        "|자료형|특징|\n",
        "|:-|:-|\n",
        "|리스트(list)|각각의 원소가 다른 자료형이 될 수 있음|\n",
        "|배열(array)|연속적인 메모리 배치를 가지기 때문에 모든 원소가 같은 자료형이어야 함<br>원소에 대한 접근과 반복문 실행이 빨라짐|"
      ],
      "metadata": {
        "id": "RbEkqhfu9xc_"
      }
    },
    {
      "cell_type": "code",
      "source": [
        "import random\n",
        "\n",
        "def average_python(n):\n",
        "  s=0\n",
        "  for i in range(n):\n",
        "    s+=random.random()\n",
        "  return s/n"
      ],
      "metadata": {
        "id": "Vm0w-m5Z-coU"
      },
      "execution_count": 16,
      "outputs": []
    },
    {
      "cell_type": "code",
      "source": [
        "%time average_python(100_000)"
      ],
      "metadata": {
        "id": "1H73Zw37tT6S",
        "outputId": "bff4688e-8119-4fc5-b8a4-16a9de3ddf86",
        "colab": {
          "base_uri": "https://localhost:8080/"
        }
      },
      "execution_count": 36,
      "outputs": [
        {
          "output_type": "stream",
          "name": "stdout",
          "text": [
            "CPU times: user 25.1 ms, sys: 771 µs, total: 25.9 ms\n",
            "Wall time: 34 ms\n"
          ]
        },
        {
          "output_type": "execute_result",
          "data": {
            "text/plain": [
              "0.4994422336554868"
            ]
          },
          "metadata": {},
          "execution_count": 36
        }
      ]
    },
    {
      "cell_type": "code",
      "source": [
        "def average_numpy(n):\n",
        "  s=np.random.random(n)\n",
        "  return s.mean()"
      ],
      "metadata": {
        "id": "Bvc-p4F-_sNW"
      },
      "execution_count": 31,
      "outputs": []
    },
    {
      "cell_type": "code",
      "source": [
        "%time average_numpy(100_000)"
      ],
      "metadata": {
        "id": "ZBnuM7VeuCUe",
        "outputId": "9a3c0438-9030-4800-f739-6a1a67e878d9",
        "colab": {
          "base_uri": "https://localhost:8080/"
        }
      },
      "execution_count": 37,
      "outputs": [
        {
          "output_type": "stream",
          "name": "stdout",
          "text": [
            "CPU times: user 2.44 ms, sys: 0 ns, total: 2.44 ms\n",
            "Wall time: 2.46 ms\n"
          ]
        },
        {
          "output_type": "execute_result",
          "data": {
            "text/plain": [
              "0.5016459282721492"
            ]
          },
          "metadata": {},
          "execution_count": 37
        }
      ]
    },
    {
      "cell_type": "code",
      "source": [],
      "metadata": {
        "colab": {
          "base_uri": "https://localhost:8080/"
        },
        "id": "QOz2rCJ_C0-U",
        "outputId": "d71372eb-9a85-4993-967a-f23878b8a3af"
      },
      "execution_count": null,
      "outputs": [
        {
          "output_type": "stream",
          "name": "stdout",
          "text": [
            "6.48 ms ± 220 µs per loop (mean ± std. dev. of 7 runs, 100 loops each)\n"
          ]
        }
      ]
    },
    {
      "cell_type": "code",
      "source": [],
      "metadata": {
        "id": "_rfwW6Ge_tKu"
      },
      "execution_count": null,
      "outputs": []
    },
    {
      "cell_type": "code",
      "source": [],
      "metadata": {
        "colab": {
          "base_uri": "https://localhost:8080/"
        },
        "id": "we169OAyBEXx",
        "outputId": "5c41f349-af2d-4891-e22e-ce7fdf61dff9"
      },
      "execution_count": null,
      "outputs": [
        {
          "output_type": "stream",
          "name": "stdout",
          "text": [
            "CPU times: user 1.54 ms, sys: 28 µs, total: 1.57 ms\n",
            "Wall time: 1.19 ms\n"
          ]
        },
        {
          "output_type": "execute_result",
          "data": {
            "text/plain": [
              "0.5002374035185094"
            ]
          },
          "metadata": {},
          "execution_count": 24
        }
      ]
    },
    {
      "cell_type": "code",
      "source": [],
      "metadata": {
        "colab": {
          "base_uri": "https://localhost:8080/"
        },
        "id": "L8ugxO3OC5u6",
        "outputId": "bb6e5850-dc8b-47e8-b6fc-d10a6fa55c47"
      },
      "execution_count": null,
      "outputs": [
        {
          "output_type": "stream",
          "name": "stdout",
          "text": [
            "548 µs ± 6.69 µs per loop (mean ± std. dev. of 7 runs, 1000 loops each)\n"
          ]
        }
      ]
    },
    {
      "cell_type": "markdown",
      "source": [
        "## 벡터화 연산\n",
        "* 배열 객체는 **배열의 각 원소에 대한 반복 연산을 하나의 명령어로 처리**하는 벡터화 연산(vectorized operation)을 지원"
      ],
      "metadata": {
        "id": "YpE_nZs6DNUs"
      }
    },
    {
      "cell_type": "code",
      "source": [
        "data=list(range(10))\n",
        "data"
      ],
      "metadata": {
        "colab": {
          "base_uri": "https://localhost:8080/"
        },
        "id": "4nAs9lrhDgsY",
        "outputId": "46654957-73b7-4edd-f3e0-4a871b9ec33d"
      },
      "execution_count": 46,
      "outputs": [
        {
          "output_type": "execute_result",
          "data": {
            "text/plain": [
              "[0, 1, 2, 3, 4, 5, 6, 7, 8, 9]"
            ]
          },
          "metadata": {},
          "execution_count": 46
        }
      ]
    },
    {
      "cell_type": "code",
      "source": [
        "# 여러 개의 데이터를 모두 2배 할 때 (파이썬)\n",
        "%%time\n",
        "answer=[]\n",
        "for v in data:\n",
        "  answer.append(v*2)\n",
        "answer"
      ],
      "metadata": {
        "colab": {
          "base_uri": "https://localhost:8080/"
        },
        "id": "YMMhJLA9Dnjt",
        "outputId": "96d8b355-f9cc-49ec-d269-4654c7966dc3"
      },
      "execution_count": 47,
      "outputs": [
        {
          "output_type": "stream",
          "name": "stdout",
          "text": [
            "CPU times: user 22 µs, sys: 0 ns, total: 22 µs\n",
            "Wall time: 26.5 µs\n"
          ]
        },
        {
          "output_type": "execute_result",
          "data": {
            "text/plain": [
              "[0, 2, 4, 6, 8, 10, 12, 14, 16, 18]"
            ]
          },
          "metadata": {},
          "execution_count": 47
        }
      ]
    },
    {
      "cell_type": "code",
      "source": [
        "# 리스트 컴프리헨션\n",
        "%%timeit\n",
        "[v*2 for v in data]"
      ],
      "metadata": {
        "colab": {
          "base_uri": "https://localhost:8080/"
        },
        "id": "SHzLz6ghEKIY",
        "outputId": "ea8c3753-1fab-4551-8fee-671bb06f2173"
      },
      "execution_count": 49,
      "outputs": [
        {
          "output_type": "stream",
          "name": "stdout",
          "text": [
            "791 ns ± 8.22 ns per loop (mean ± std. dev. of 7 runs, 1000000 loops each)\n"
          ]
        }
      ]
    },
    {
      "cell_type": "code",
      "source": [
        "# 벡터화 연산\n",
        "arr=np.array(data)\n",
        "arr"
      ],
      "metadata": {
        "colab": {
          "base_uri": "https://localhost:8080/"
        },
        "id": "8uD4qG7yEUlU",
        "outputId": "b4a1d9e9-bb9b-475e-caa6-168a60e7be71"
      },
      "execution_count": 56,
      "outputs": [
        {
          "output_type": "execute_result",
          "data": {
            "text/plain": [
              "array([0, 1, 2, 3, 4, 5, 6, 7, 8, 9])"
            ]
          },
          "metadata": {},
          "execution_count": 56
        }
      ]
    },
    {
      "cell_type": "code",
      "source": [
        "%%timeit\n",
        "arr*2"
      ],
      "metadata": {
        "colab": {
          "base_uri": "https://localhost:8080/"
        },
        "id": "Di07DfgYEaUp",
        "outputId": "775482a4-e985-4efe-ad86-d9d6b3f96bef"
      },
      "execution_count": 53,
      "outputs": [
        {
          "output_type": "stream",
          "name": "stdout",
          "text": [
            "1.06 µs ± 11.9 ns per loop (mean ± std. dev. of 7 runs, 1000000 loops each)\n"
          ]
        }
      ]
    },
    {
      "cell_type": "code",
      "source": [
        "# 리스트 객체에 정수를 곱하면 객체의 크기가 해당 정수 배만큼 증가\n",
        "data*2"
      ],
      "metadata": {
        "colab": {
          "base_uri": "https://localhost:8080/"
        },
        "id": "o7TyxzkHEePJ",
        "outputId": "8ae737cf-5c11-4889-a4e7-b984a4603347"
      },
      "execution_count": 52,
      "outputs": [
        {
          "output_type": "execute_result",
          "data": {
            "text/plain": [
              "[0, 1, 2, 3, 4, 5, 6, 7, 8, 9, 0, 1, 2, 3, 4, 5, 6, 7, 8, 9]"
            ]
          },
          "metadata": {},
          "execution_count": 52
        }
      ]
    },
    {
      "cell_type": "markdown",
      "source": [
        "* 벡터화 연산은 비교 연산과 논리 연산을 포함한 모든 종류의 수학 연산에 대해 적용"
      ],
      "metadata": {
        "id": "zQ1rWyKGExLh"
      }
    },
    {
      "cell_type": "code",
      "source": [
        "a=np.array(range(1,4))\n",
        "b=np.array(range(10,40,10))\n",
        "a,b"
      ],
      "metadata": {
        "colab": {
          "base_uri": "https://localhost:8080/"
        },
        "id": "Ln3pwEyLFA1n",
        "outputId": "9d2b8bbf-305a-4613-c24c-3ed5eff1401b"
      },
      "execution_count": 57,
      "outputs": [
        {
          "output_type": "execute_result",
          "data": {
            "text/plain": [
              "(array([1, 2, 3]), array([10, 20, 30]))"
            ]
          },
          "metadata": {},
          "execution_count": 57
        }
      ]
    },
    {
      "cell_type": "code",
      "source": [
        "a*2+b"
      ],
      "metadata": {
        "colab": {
          "base_uri": "https://localhost:8080/"
        },
        "id": "zGfFqMi6FFZr",
        "outputId": "dc087217-d3b9-4375-8e50-c9034da4e1d2"
      },
      "execution_count": 58,
      "outputs": [
        {
          "output_type": "execute_result",
          "data": {
            "text/plain": [
              "array([12, 24, 36])"
            ]
          },
          "metadata": {},
          "execution_count": 58
        }
      ]
    },
    {
      "cell_type": "code",
      "source": [
        "a==2,b>10"
      ],
      "metadata": {
        "colab": {
          "base_uri": "https://localhost:8080/"
        },
        "id": "Sk7v0Zc2FNVn",
        "outputId": "958a6592-0262-4753-d8e5-a6feb53d7bbb"
      },
      "execution_count": 59,
      "outputs": [
        {
          "output_type": "execute_result",
          "data": {
            "text/plain": [
              "(array([False,  True, False]), array([False,  True,  True]))"
            ]
          },
          "metadata": {},
          "execution_count": 59
        }
      ]
    },
    {
      "cell_type": "code",
      "source": [
        "(a==2)&(b>10), (a<3)&(b>20)"
      ],
      "metadata": {
        "colab": {
          "base_uri": "https://localhost:8080/"
        },
        "id": "TKIf8dFnFSdh",
        "outputId": "0af956a1-c397-46eb-a5a1-74fc631f4cf6"
      },
      "execution_count": 61,
      "outputs": [
        {
          "output_type": "execute_result",
          "data": {
            "text/plain": [
              "(array([False,  True, False]), array([False, False, False]))"
            ]
          },
          "metadata": {},
          "execution_count": 61
        }
      ]
    },
    {
      "cell_type": "markdown",
      "source": [
        "## 2차원 배열\n",
        "* `ndarray`는 N-dimensional Array의 약자, 즉 1차원 배열 이외에도 2차원 배열, 3차원 배열 등의 다차원 배열 자료 구조를 지원\n",
        "* 2차원 배열 = 행렬 (matrix)\n",
        "* 가로줄 : 행(row), 세로줄 : 열(column)\n",
        "> 엑셀 스프레드시트와 같은 형태의 배열\n",
        "\n",
        "* 리스트의 리스트(list of list)를 이용하여 2차원 배열 생성\n",
        "    * 안쪽 리스트의 길이 : 행렬의 열의 수 (가로 크기)\n",
        "    * 바깥쪽 리스트의 길이 : 행렬의 행의 수 (세로 크기)"
      ],
      "metadata": {
        "id": "6E8zYWggFjXD"
      }
    },
    {
      "cell_type": "code",
      "source": [
        "arr=np.array([[0,1,2],[3,4,5]])\n",
        "arr"
      ],
      "metadata": {
        "colab": {
          "base_uri": "https://localhost:8080/"
        },
        "id": "mvYB4aigFaBi",
        "outputId": "cf847179-ce68-4b37-a0c6-e3839a421c11"
      },
      "execution_count": 63,
      "outputs": [
        {
          "output_type": "execute_result",
          "data": {
            "text/plain": [
              "array([[0, 1, 2],\n",
              "       [3, 4, 5]])"
            ]
          },
          "metadata": {},
          "execution_count": 63
        }
      ]
    },
    {
      "cell_type": "code",
      "source": [
        "# 행의 갯수, 열의 갯수\n",
        "arr[0]"
      ],
      "metadata": {
        "colab": {
          "base_uri": "https://localhost:8080/"
        },
        "id": "hJKXy_1vHTID",
        "outputId": "e80fed70-d0af-4f8f-b13c-ec62925540e3"
      },
      "execution_count": 67,
      "outputs": [
        {
          "output_type": "execute_result",
          "data": {
            "text/plain": [
              "array([0, 1, 2])"
            ]
          },
          "metadata": {},
          "execution_count": 67
        }
      ]
    },
    {
      "cell_type": "markdown",
      "source": [
        "## 💡 연습문제 1\n",
        "> 아래 모양의 행렬 만들어 보기\n",
        "```\n",
        "10 20 30 40\n",
        "50 60 70 80\n",
        "```"
      ],
      "metadata": {
        "id": "mvQeMqWwIxGe"
      }
    },
    {
      "cell_type": "code",
      "source": [
        "arr=np.array([[10,20,30,40],[50,60,70,80]])\n",
        "arr"
      ],
      "metadata": {
        "colab": {
          "base_uri": "https://localhost:8080/"
        },
        "id": "_4AEiANZI6CN",
        "outputId": "0c1aa573-fcd3-4931-8840-a836a3264676"
      },
      "execution_count": 71,
      "outputs": [
        {
          "output_type": "execute_result",
          "data": {
            "text/plain": [
              "array([[10, 20, 30, 40],\n",
              "       [50, 60, 70, 80]])"
            ]
          },
          "metadata": {},
          "execution_count": 71
        }
      ]
    },
    {
      "cell_type": "code",
      "source": [
        "arr=np.array([range(10,50,10),range(50,90,10)])\n",
        "arr"
      ],
      "metadata": {
        "colab": {
          "base_uri": "https://localhost:8080/"
        },
        "id": "3KDk77KCJFvH",
        "outputId": "cc3929a3-8ed5-42d0-d3b0-aaea3cb614c4"
      },
      "execution_count": 72,
      "outputs": [
        {
          "output_type": "execute_result",
          "data": {
            "text/plain": [
              "array([[10, 20, 30, 40],\n",
              "       [50, 60, 70, 80]])"
            ]
          },
          "metadata": {},
          "execution_count": 72
        }
      ]
    },
    {
      "cell_type": "code",
      "source": [
        "np.arange(10,90,10).reshape(2,-1)"
      ],
      "metadata": {
        "id": "KnAyOc2W30ye",
        "outputId": "1c01eaae-b94c-4cbf-df9f-a7880ccfb781",
        "colab": {
          "base_uri": "https://localhost:8080/"
        }
      },
      "execution_count": 84,
      "outputs": [
        {
          "output_type": "execute_result",
          "data": {
            "text/plain": [
              "array([[10, 20, 30, 40],\n",
              "       [50, 60, 70, 80]])"
            ]
          },
          "metadata": {},
          "execution_count": 84
        }
      ]
    },
    {
      "cell_type": "markdown",
      "source": [
        "## 3차원 배열"
      ],
      "metadata": {
        "id": "OrnOIxEVHiJo"
      }
    },
    {
      "cell_type": "code",
      "source": [
        "# 크기를 나타낼 때는 가장 바깥쪽 리스트의 길이부터 가장 안쪽 리스트 길이의 순서로 표시\n",
        "t=np.array([\n",
        "    [\n",
        "        [1,2,3,4],\n",
        "        [5,6,7,8],\n",
        "        [9,10,11,12]\n",
        "    ],[\n",
        "        [11,12,13,14],\n",
        "        [15,16,17,18],\n",
        "        [19,20,21,22]\n",
        "    ]\n",
        "])"
      ],
      "metadata": {
        "id": "wE7xDF6NJXYQ"
      },
      "execution_count": 89,
      "outputs": []
    },
    {
      "cell_type": "code",
      "source": [
        "# 깊이, 행, 열\n",
        "len(t),len(t[0]),len(t[0][0])"
      ],
      "metadata": {
        "colab": {
          "base_uri": "https://localhost:8080/"
        },
        "id": "vBdM_eKFJ9R-",
        "outputId": "a6d2276d-5934-41ec-93fb-7351dca89c80"
      },
      "execution_count": 90,
      "outputs": [
        {
          "output_type": "execute_result",
          "data": {
            "text/plain": [
              "(2, 3, 4)"
            ]
          },
          "metadata": {},
          "execution_count": 90
        }
      ]
    },
    {
      "cell_type": "markdown",
      "source": [
        "## 배열의 차원과 크기 알아내기\n",
        "* `ndim`, `shape` **속성** 사용\n",
        "> 속성 : 괄호 없이 이름만 써서 값을 호출\n",
        "\n",
        "* `ndim` : 배열의 차원\n",
        "* `shape` : 배열의 크기"
      ],
      "metadata": {
        "id": "opiM0LNJKNTh"
      }
    },
    {
      "cell_type": "code",
      "source": [
        "a=np.array(range(1,4))\n",
        "a"
      ],
      "metadata": {
        "colab": {
          "base_uri": "https://localhost:8080/"
        },
        "id": "o3Aok_LtKmk1",
        "outputId": "7c1ec406-ae19-419b-b481-38143afc30d0"
      },
      "execution_count": 91,
      "outputs": [
        {
          "output_type": "execute_result",
          "data": {
            "text/plain": [
              "array([1, 2, 3])"
            ]
          },
          "metadata": {},
          "execution_count": 91
        }
      ]
    },
    {
      "cell_type": "code",
      "source": [
        "a.ndim, a.shape"
      ],
      "metadata": {
        "id": "Eu31kk535b7F",
        "outputId": "4382aaa7-9a52-4d13-b05f-bdac9a50d34b",
        "colab": {
          "base_uri": "https://localhost:8080/"
        }
      },
      "execution_count": 94,
      "outputs": [
        {
          "output_type": "execute_result",
          "data": {
            "text/plain": [
              "(1, (3,))"
            ]
          },
          "metadata": {},
          "execution_count": 94
        }
      ]
    },
    {
      "cell_type": "code",
      "source": [
        "m=np.array((range(3),range(3,6)))\n",
        "m"
      ],
      "metadata": {
        "colab": {
          "base_uri": "https://localhost:8080/"
        },
        "id": "9DMGQgWZKuwT",
        "outputId": "a128e154-4925-454a-e61f-74caff2bf55d"
      },
      "execution_count": 96,
      "outputs": [
        {
          "output_type": "execute_result",
          "data": {
            "text/plain": [
              "array([[0, 1, 2],\n",
              "       [3, 4, 5]])"
            ]
          },
          "metadata": {},
          "execution_count": 96
        }
      ]
    },
    {
      "cell_type": "code",
      "source": [
        "m.ndim,m.shape"
      ],
      "metadata": {
        "id": "db439lHp5xEO",
        "outputId": "ff33395f-ad7d-4fab-f605-852581fd3c05",
        "colab": {
          "base_uri": "https://localhost:8080/"
        }
      },
      "execution_count": 98,
      "outputs": [
        {
          "output_type": "execute_result",
          "data": {
            "text/plain": [
              "(2, (2, 3))"
            ]
          },
          "metadata": {},
          "execution_count": 98
        }
      ]
    },
    {
      "cell_type": "code",
      "source": [
        "t.ndim,t.shape"
      ],
      "metadata": {
        "colab": {
          "base_uri": "https://localhost:8080/"
        },
        "id": "0ExnZUCHK057",
        "outputId": "4be5a315-317a-4429-d65b-355484e3d927"
      },
      "execution_count": 99,
      "outputs": [
        {
          "output_type": "execute_result",
          "data": {
            "text/plain": [
              "(3, (2, 3, 4))"
            ]
          },
          "metadata": {},
          "execution_count": 99
        }
      ]
    },
    {
      "cell_type": "markdown",
      "source": [
        "## 배열의 복사\n",
        "* copy와 view의 차이점은 copy는 새 배열(깊은 복사)이고 view는 원래 배열과 연결 되어 있다는 것(얕은 복사)\n",
        "* copy는 데이터를 소유하며 copy에 대한 변경 사항은 원본 배열에 영향을 미치지 않으며 원본 배열에 대한 변경은 copy에 영향을 주지 않음\n",
        "* view는 데이터를 소유하지 않으며 view에 대한 모든 변경 사항은 원래 배열에 영향을 미치고 원래 배열에 대한 모든 변경 사항은 보기에 영향을 줌"
      ],
      "metadata": {
        "id": "cJZkK8_dQxfm"
      }
    },
    {
      "cell_type": "code",
      "source": [
        "arr=np.array(range(1,6))\n",
        "x=arr.copy()\n",
        "arr[0]=42\n",
        "print(arr)\n",
        "print(x)"
      ],
      "metadata": {
        "colab": {
          "base_uri": "https://localhost:8080/"
        },
        "id": "4y-KxTbuQ0xj",
        "outputId": "86b1d4e6-6763-44a9-d287-830950b15356"
      },
      "execution_count": 100,
      "outputs": [
        {
          "output_type": "stream",
          "name": "stdout",
          "text": [
            "[42  2  3  4  5]\n",
            "[1 2 3 4 5]\n"
          ]
        }
      ]
    },
    {
      "cell_type": "code",
      "source": [
        "arr=np.array(range(1,6))\n",
        "y=arr.view()\n",
        "\n",
        "print(arr)\n",
        "print(y)"
      ],
      "metadata": {
        "colab": {
          "base_uri": "https://localhost:8080/"
        },
        "id": "TIAvNSlnQ2hY",
        "outputId": "e24a67e2-d356-40ee-952e-ba55b6136d89"
      },
      "execution_count": 102,
      "outputs": [
        {
          "output_type": "stream",
          "name": "stdout",
          "text": [
            "[1 2 3 4 5]\n",
            "[1 2 3 4 5]\n"
          ]
        }
      ]
    },
    {
      "cell_type": "code",
      "source": [
        "print(x.base) # 배열 데이터 소유권 (데이터 변경권) 확인\n",
        "print(y.base)"
      ],
      "metadata": {
        "colab": {
          "base_uri": "https://localhost:8080/"
        },
        "id": "9swwITkeQ7I8",
        "outputId": "0e15864c-180c-49a4-bb11-aa0bad397db9"
      },
      "execution_count": 103,
      "outputs": [
        {
          "output_type": "stream",
          "name": "stdout",
          "text": [
            "None\n",
            "[1 2 3 4 5]\n"
          ]
        }
      ]
    },
    {
      "cell_type": "markdown",
      "source": [
        "## 배열의 인덱싱"
      ],
      "metadata": {
        "id": "XRqTwPdrOLj2"
      }
    },
    {
      "cell_type": "markdown",
      "source": [
        "### 일차원 배열\n",
        "* 리스트의 인덱싱과 같음"
      ],
      "metadata": {
        "id": "Wws5jAiwPLY6"
      }
    },
    {
      "cell_type": "code",
      "source": [
        "a=np.array(range(5))\n",
        "a[2],a[-1]"
      ],
      "metadata": {
        "colab": {
          "base_uri": "https://localhost:8080/"
        },
        "id": "xvVO2hmBOOwr",
        "outputId": "14b22bc5-e600-40a7-b9d8-7f9fd75aca31"
      },
      "execution_count": 105,
      "outputs": [
        {
          "output_type": "execute_result",
          "data": {
            "text/plain": [
              "(2, 4)"
            ]
          },
          "metadata": {},
          "execution_count": 105
        }
      ]
    },
    {
      "cell_type": "markdown",
      "source": [
        "### 다차원 배열\n",
        "* 콤마(comma, `,`)를 사용하여 접근\n",
        "* 콤마로 구분된 차원을 축(axis)라고 함\n",
        "    * like 그래프의 x축, y축"
      ],
      "metadata": {
        "id": "2fOOjLQoOn5h"
      }
    },
    {
      "cell_type": "code",
      "source": [
        "b=np.array([[0,1,2],[3,4,5]])\n",
        "b[1,1]"
      ],
      "metadata": {
        "colab": {
          "base_uri": "https://localhost:8080/"
        },
        "id": "FASAOAE-Okqu",
        "outputId": "e6d41040-84d1-43a7-92ec-3a8c7f33074c"
      },
      "execution_count": 110,
      "outputs": [
        {
          "output_type": "execute_result",
          "data": {
            "text/plain": [
              "4"
            ]
          },
          "metadata": {},
          "execution_count": 110
        }
      ]
    },
    {
      "cell_type": "code",
      "source": [
        "t=np.array([\n",
        "    [\n",
        "        [1,2,3,4],\n",
        "        [5,6,7,8],\n",
        "        [9,10,11,12]\n",
        "    ],[\n",
        "        [11,12,13,14],\n",
        "        [15,16,17,18],\n",
        "        [19,20,21,22]\n",
        "    ]\n",
        "])"
      ],
      "metadata": {
        "id": "DefLnw8O84bh"
      },
      "execution_count": 112,
      "outputs": []
    },
    {
      "cell_type": "code",
      "source": [
        "t[-1,-1,-1]"
      ],
      "metadata": {
        "colab": {
          "base_uri": "https://localhost:8080/"
        },
        "id": "pOVefqrYO5LK",
        "outputId": "76337998-af24-4835-b31a-ca6be34e5f1c"
      },
      "execution_count": 114,
      "outputs": [
        {
          "output_type": "execute_result",
          "data": {
            "text/plain": [
              "22"
            ]
          },
          "metadata": {},
          "execution_count": 114
        }
      ]
    },
    {
      "cell_type": "code",
      "source": [],
      "metadata": {
        "colab": {
          "base_uri": "https://localhost:8080/"
        },
        "id": "oU2ZsFukO93q",
        "outputId": "c2afe91c-1973-42e7-eb32-7230d63d92a3"
      },
      "execution_count": null,
      "outputs": [
        {
          "output_type": "execute_result",
          "data": {
            "text/plain": [
              "1"
            ]
          },
          "metadata": {},
          "execution_count": 77
        }
      ]
    },
    {
      "cell_type": "code",
      "source": [],
      "metadata": {
        "colab": {
          "base_uri": "https://localhost:8080/"
        },
        "id": "TEobJ50IPCPt",
        "outputId": "3781d507-0879-45d7-8bb7-ffc49761d9d6"
      },
      "execution_count": null,
      "outputs": [
        {
          "output_type": "execute_result",
          "data": {
            "text/plain": [
              "5"
            ]
          },
          "metadata": {},
          "execution_count": 78
        }
      ]
    },
    {
      "cell_type": "markdown",
      "source": [
        "## 배열 슬라이싱\n",
        "* 다차원 배열의 원소 중 2개 이상의 복수 개를 접근하려면 일반적인 파이썬 슬라이싱(slicing)과 comma(,)를 함께 사용"
      ],
      "metadata": {
        "id": "kk2Ri7rSPVi2"
      }
    },
    {
      "cell_type": "code",
      "source": [
        "m=np.array((range(4),range(4,8)))\n",
        "m"
      ],
      "metadata": {
        "colab": {
          "base_uri": "https://localhost:8080/"
        },
        "id": "jEziuEkEPH6D",
        "outputId": "e5bb2576-04ce-486a-97c3-df55111f20be"
      },
      "execution_count": 180,
      "outputs": [
        {
          "output_type": "execute_result",
          "data": {
            "text/plain": [
              "array([[0, 1, 2, 3],\n",
              "       [4, 5, 6, 7]])"
            ]
          },
          "metadata": {},
          "execution_count": 180
        }
      ]
    },
    {
      "cell_type": "code",
      "source": [
        "# m[0]\n",
        "m[0,:] # 첫번째 행의 전체 열"
      ],
      "metadata": {
        "colab": {
          "base_uri": "https://localhost:8080/"
        },
        "id": "LUww2ZaXP3aW",
        "outputId": "45fed2c7-e50c-4138-8a40-7b2c34a6f7a1"
      },
      "execution_count": 117,
      "outputs": [
        {
          "output_type": "execute_result",
          "data": {
            "text/plain": [
              "array([0, 1, 2, 3])"
            ]
          },
          "metadata": {},
          "execution_count": 117
        }
      ]
    },
    {
      "cell_type": "code",
      "source": [
        "m[::1]"
      ],
      "metadata": {
        "colab": {
          "base_uri": "https://localhost:8080/"
        },
        "id": "eV47P625P6y2",
        "outputId": "3c49a152-d314-48fd-f640-ab61f5086a60"
      },
      "execution_count": 160,
      "outputs": [
        {
          "output_type": "execute_result",
          "data": {
            "text/plain": [
              "array([[0, 1, 2, 3],\n",
              "       [4, 5, 6, 7]])"
            ]
          },
          "metadata": {},
          "execution_count": 160
        }
      ]
    },
    {
      "cell_type": "code",
      "source": [
        "m[:2,1]"
      ],
      "metadata": {
        "colab": {
          "base_uri": "https://localhost:8080/"
        },
        "id": "YKbC_X9kP92W",
        "outputId": "b962745d-ed35-4337-8820-daf5d55dd106"
      },
      "execution_count": 181,
      "outputs": [
        {
          "output_type": "execute_result",
          "data": {
            "text/plain": [
              "array([1, 5])"
            ]
          },
          "metadata": {},
          "execution_count": 181
        }
      ]
    },
    {
      "cell_type": "code",
      "source": [
        "m[:2,:2]"
      ],
      "metadata": {
        "colab": {
          "base_uri": "https://localhost:8080/"
        },
        "id": "fuNdQMf8QBGC",
        "outputId": "acf4d482-431b-4e40-f892-2291d873af66"
      },
      "execution_count": 182,
      "outputs": [
        {
          "output_type": "execute_result",
          "data": {
            "text/plain": [
              "array([[0, 1],\n",
              "       [4, 5]])"
            ]
          },
          "metadata": {},
          "execution_count": 182
        }
      ]
    },
    {
      "cell_type": "markdown",
      "source": [
        "## 💡 연습문제 2"
      ],
      "metadata": {
        "id": "lDNHCVY6Qiu5"
      }
    },
    {
      "cell_type": "code",
      "source": [
        "m = np.array([[0,  1,  2,  3,  4],\n",
        "              [5,  6,  7,  8,  9],\n",
        "              [10, 11, 12, 13, 14]])\n",
        "m"
      ],
      "metadata": {
        "colab": {
          "base_uri": "https://localhost:8080/"
        },
        "id": "5tgbgqY4QHZY",
        "outputId": "85bc78a7-2103-4e5e-b8ab-9bd02dade44b"
      },
      "execution_count": 162,
      "outputs": [
        {
          "output_type": "execute_result",
          "data": {
            "text/plain": [
              "array([[ 0,  1,  2,  3,  4],\n",
              "       [ 5,  6,  7,  8,  9],\n",
              "       [10, 11, 12, 13, 14]])"
            ]
          },
          "metadata": {},
          "execution_count": 162
        }
      ]
    },
    {
      "cell_type": "code",
      "source": [
        "#@markdown (1) 값 7을 인덱싱\n",
        "m[1:2,2],m[1,-3], m[-2,2]"
      ],
      "metadata": {
        "colab": {
          "base_uri": "https://localhost:8080/"
        },
        "id": "YqURbl2pQiFM",
        "outputId": "168c4386-b297-4dc2-9e96-8679ebf456f9"
      },
      "execution_count": 163,
      "outputs": [
        {
          "output_type": "execute_result",
          "data": {
            "text/plain": [
              "(array([7]), 7, 7)"
            ]
          },
          "metadata": {},
          "execution_count": 163
        }
      ]
    },
    {
      "cell_type": "code",
      "source": [
        "#@markdown (2) 값 14을 인덱싱\n",
        "m[2,4],m[2,-1],m[-1,4],m[-1,-1]"
      ],
      "metadata": {
        "colab": {
          "base_uri": "https://localhost:8080/"
        },
        "id": "p2mG56nLQzY0",
        "outputId": "c5d946ba-ceb8-4bb8-dfef-5116995cd781"
      },
      "execution_count": 164,
      "outputs": [
        {
          "output_type": "execute_result",
          "data": {
            "text/plain": [
              "(14, 14, 14, 14)"
            ]
          },
          "metadata": {},
          "execution_count": 164
        }
      ]
    },
    {
      "cell_type": "code",
      "source": [
        "#@markdown (3) 배열 [6,7]을 슬라이싱\n",
        "m[1,1:3],m[-2,1:3],m[1,-4:-2],m[-2,-4:-2]"
      ],
      "metadata": {
        "colab": {
          "base_uri": "https://localhost:8080/"
        },
        "id": "UISviULMRLnz",
        "outputId": "298f3b69-cabe-40d6-9d35-f29d5fb8ad0a"
      },
      "execution_count": 170,
      "outputs": [
        {
          "output_type": "execute_result",
          "data": {
            "text/plain": [
              "(array([6, 7]), array([6, 7]), array([6, 7]), array([6, 7]))"
            ]
          },
          "metadata": {},
          "execution_count": 170
        }
      ]
    },
    {
      "cell_type": "code",
      "source": [
        "#@markdown (4) 배열 [7,12]을 슬라이싱\n",
        "m[1:,2],m[-2:,2],m[1:,-3],m[-2:,-3]"
      ],
      "metadata": {
        "colab": {
          "base_uri": "https://localhost:8080/"
        },
        "id": "yib_p8kFRbEb",
        "outputId": "aa020f73-3d41-479a-ee96-78e090442cfd"
      },
      "execution_count": 173,
      "outputs": [
        {
          "output_type": "execute_result",
          "data": {
            "text/plain": [
              "(array([ 7, 12]), array([ 7, 12]), array([ 7, 12]), array([ 7, 12]))"
            ]
          },
          "metadata": {},
          "execution_count": 173
        }
      ]
    },
    {
      "cell_type": "code",
      "source": [
        "#@markdown (5) 배열 [[3,4],[8,9]]을 슬라이싱\n",
        "m[:2,3:],\n",
        "m[:-1,3:],\n",
        "m[:2,-2:],\n",
        "m[:-1,-2:]"
      ],
      "metadata": {
        "colab": {
          "base_uri": "https://localhost:8080/"
        },
        "id": "6kwDWEE7SInr",
        "outputId": "15035d16-7d8a-47a1-d607-7555a8305525"
      },
      "execution_count": 177,
      "outputs": [
        {
          "output_type": "execute_result",
          "data": {
            "text/plain": [
              "array([[3, 4],\n",
              "       [8, 9]])"
            ]
          },
          "metadata": {},
          "execution_count": 177
        }
      ]
    },
    {
      "cell_type": "markdown",
      "source": [
        "## 배열 인덱싱\n",
        "* 대괄호(Bracket, [])안의 인덱스 정보로 숫자나 슬라이스가 아니라 위치 정보를 나타내는 또다른 `ndarray` 배열을 받을 수 있음 (인덱스 배열)\n",
        "* 일종의 조건 검색 기능"
      ],
      "metadata": {
        "id": "fLC-QuQQRKtT"
      }
    },
    {
      "cell_type": "markdown",
      "source": [
        "### 불리언 (Boolean) 배열 인덱싱\n",
        "* 인덱스 배열의 원소가 True, False 두 값으로만 구성되며 인덱스 배열의 크기가 원래 ndarray 객체의 크기와 같아야 함"
      ],
      "metadata": {
        "id": "-5zdTgl8TR04"
      }
    },
    {
      "cell_type": "code",
      "source": [
        "# 짝수인 원소만 골라내고 싶다면?\n",
        "# 짝수에 대응하는 곳에 True, 홀수에 대응하는 곳에 False\n",
        "a1=np.array(range(0,9,2))\n",
        "a2=np.array([i for i in range(9) if i%2==0])\n",
        "a2"
      ],
      "metadata": {
        "colab": {
          "base_uri": "https://localhost:8080/"
        },
        "id": "5GIASHJqTrlX",
        "outputId": "83ff0f16-7a43-47cf-c8f6-c5533847d963"
      },
      "execution_count": 186,
      "outputs": [
        {
          "output_type": "execute_result",
          "data": {
            "text/plain": [
              "array([0, 2, 4, 6, 8])"
            ]
          },
          "metadata": {},
          "execution_count": 186
        }
      ]
    },
    {
      "cell_type": "code",
      "source": [
        "a=np.array(range(10))\n",
        "a"
      ],
      "metadata": {
        "id": "0PftxE1OEMxA",
        "outputId": "ddf1067c-a28d-4c68-9641-0c20b0e7a542",
        "colab": {
          "base_uri": "https://localhost:8080/"
        }
      },
      "execution_count": 196,
      "outputs": [
        {
          "output_type": "execute_result",
          "data": {
            "text/plain": [
              "array([0, 1, 2, 3, 4, 5, 6, 7, 8, 9])"
            ]
          },
          "metadata": {},
          "execution_count": 196
        }
      ]
    },
    {
      "cell_type": "code",
      "source": [
        "idx=np.array([True,False,True,False,True,False,True,False,True,False])\n",
        "idx"
      ],
      "metadata": {
        "id": "LOC9UhEVESH9",
        "outputId": "5d53ae85-9e71-4a65-e970-7603ef9003c2",
        "colab": {
          "base_uri": "https://localhost:8080/"
        }
      },
      "execution_count": 191,
      "outputs": [
        {
          "output_type": "execute_result",
          "data": {
            "text/plain": [
              "array([ True, False,  True, False,  True, False,  True, False,  True,\n",
              "       False])"
            ]
          },
          "metadata": {},
          "execution_count": 191
        }
      ]
    },
    {
      "cell_type": "code",
      "source": [
        "a[idx]"
      ],
      "metadata": {
        "id": "8e4bRhpqEjBJ",
        "outputId": "bc2f25fe-8aee-4b8c-b725-57bb9156ea90",
        "colab": {
          "base_uri": "https://localhost:8080/"
        }
      },
      "execution_count": 193,
      "outputs": [
        {
          "output_type": "execute_result",
          "data": {
            "text/plain": [
              "array([0, 2, 4, 6, 8])"
            ]
          },
          "metadata": {},
          "execution_count": 193
        }
      ]
    },
    {
      "cell_type": "code",
      "source": [
        "# 조건문 연산\n",
        "a%2"
      ],
      "metadata": {
        "colab": {
          "base_uri": "https://localhost:8080/"
        },
        "id": "3x9YUkfNTtJ1",
        "outputId": "d1aa458c-2d14-4101-d3a9-fe770d1f6a19"
      },
      "execution_count": 194,
      "outputs": [
        {
          "output_type": "execute_result",
          "data": {
            "text/plain": [
              "array([0, 1, 0, 1, 0, 1, 0, 1, 0, 1])"
            ]
          },
          "metadata": {},
          "execution_count": 194
        }
      ]
    },
    {
      "cell_type": "code",
      "source": [
        "a%2==0"
      ],
      "metadata": {
        "colab": {
          "base_uri": "https://localhost:8080/"
        },
        "id": "5oDEJHbVT93r",
        "outputId": "b9250417-7102-491e-a8c4-9503fb9e87c9"
      },
      "execution_count": 195,
      "outputs": [
        {
          "output_type": "execute_result",
          "data": {
            "text/plain": [
              "array([ True, False,  True, False,  True, False,  True, False,  True,\n",
              "       False])"
            ]
          },
          "metadata": {},
          "execution_count": 195
        }
      ]
    },
    {
      "cell_type": "code",
      "source": [
        "a[a%2==0],a[a%2!=0],a[a%3==0],a[a%3!=0]"
      ],
      "metadata": {
        "colab": {
          "base_uri": "https://localhost:8080/"
        },
        "id": "rtfCw3vxUBOm",
        "outputId": "b66c7cfc-7209-4df8-dc54-e48eb80b4223"
      },
      "execution_count": 198,
      "outputs": [
        {
          "output_type": "execute_result",
          "data": {
            "text/plain": [
              "(array([0, 2, 4, 6, 8]),\n",
              " array([1, 3, 5, 7, 9]),\n",
              " array([0, 3, 6, 9]),\n",
              " array([1, 2, 4, 5, 7, 8]))"
            ]
          },
          "metadata": {},
          "execution_count": 198
        }
      ]
    },
    {
      "cell_type": "markdown",
      "source": [
        "### 정수 배열 인덱싱\n",
        "* 인덱스 배열의 원소 각각이 원래 `ndarray` 객체 원소 하나를 가리키는 인덱스 정수이여야 함"
      ],
      "metadata": {
        "id": "ynIZBX2dUQIv"
      }
    },
    {
      "cell_type": "code",
      "source": [
        "a=np.array(range(1,11))*11\n",
        "a"
      ],
      "metadata": {
        "colab": {
          "base_uri": "https://localhost:8080/"
        },
        "id": "SOOuM49bUcT9",
        "outputId": "c6c966ba-b1c0-4389-9e2e-d90caff7d331"
      },
      "execution_count": 200,
      "outputs": [
        {
          "output_type": "execute_result",
          "data": {
            "text/plain": [
              "array([ 11,  22,  33,  44,  55,  66,  77,  88,  99, 110])"
            ]
          },
          "metadata": {},
          "execution_count": 200
        }
      ]
    },
    {
      "cell_type": "code",
      "source": [
        "idx=np.array([0,2,4,6,8])\n",
        "a[idx]"
      ],
      "metadata": {
        "id": "ksqIvyuEFYEO",
        "outputId": "d1d26618-90ee-4e88-bc7d-8379d3e20d5a",
        "colab": {
          "base_uri": "https://localhost:8080/"
        }
      },
      "execution_count": 201,
      "outputs": [
        {
          "output_type": "execute_result",
          "data": {
            "text/plain": [
              "array([11, 33, 55, 77, 99])"
            ]
          },
          "metadata": {},
          "execution_count": 201
        }
      ]
    },
    {
      "cell_type": "markdown",
      "source": [
        "* 이 때는 배열 인덱스의 크기가 원래의 배열 크기와 달라도 상관없음\n",
        "* 같은 원소를 반복해서 가리키는 경우에는 배열 인덱스가 원래의 배열보다 더 커지기도 함"
      ],
      "metadata": {
        "id": "2ChR92erUf7O"
      }
    },
    {
      "cell_type": "code",
      "source": [
        "idx=np.array([0]*6+[1]*5+[2]*5)\n",
        "a[idx]"
      ],
      "metadata": {
        "colab": {
          "base_uri": "https://localhost:8080/"
        },
        "id": "U_k_sieeUeoi",
        "outputId": "4eae6ccf-ecfd-48f0-8737-476abf43bcf7"
      },
      "execution_count": 202,
      "outputs": [
        {
          "output_type": "execute_result",
          "data": {
            "text/plain": [
              "array([11, 11, 11, 11, 11, 11, 22, 22, 22, 22, 22, 33, 33, 33, 33, 33])"
            ]
          },
          "metadata": {},
          "execution_count": 202
        }
      ]
    },
    {
      "cell_type": "markdown",
      "source": [
        "### 다차원 배열에서의 배열 인덱싱"
      ],
      "metadata": {
        "id": "XUEo3DxjUl7Q"
      }
    },
    {
      "cell_type": "code",
      "source": [
        "a=np.array([[ 1,  2,  3,  4],\n",
        "       [ 5,  6,  7,  8],\n",
        "       [ 9, 10, 11, 12]])\n",
        "a.ndim,a.shape"
      ],
      "metadata": {
        "colab": {
          "base_uri": "https://localhost:8080/"
        },
        "id": "G4aIB5_BUcsp",
        "outputId": "ed02168c-fd65-4653-9d51-79b2e9394b6f"
      },
      "execution_count": 204,
      "outputs": [
        {
          "output_type": "execute_result",
          "data": {
            "text/plain": [
              "(2, (3, 4))"
            ]
          },
          "metadata": {},
          "execution_count": 204
        }
      ]
    },
    {
      "cell_type": "code",
      "source": [
        "a[:3,[0,3]]"
      ],
      "metadata": {
        "colab": {
          "base_uri": "https://localhost:8080/"
        },
        "id": "rt0XDr6XUs5w",
        "outputId": "f4cdf9a7-0dc0-43e3-f5b6-e84b62c6e438"
      },
      "execution_count": 208,
      "outputs": [
        {
          "output_type": "execute_result",
          "data": {
            "text/plain": [
              "array([[ 1,  4],\n",
              "       [ 5,  8],\n",
              "       [ 9, 12]])"
            ]
          },
          "metadata": {},
          "execution_count": 208
        }
      ]
    },
    {
      "cell_type": "code",
      "source": [
        "a[[2,0,1],:2]"
      ],
      "metadata": {
        "colab": {
          "base_uri": "https://localhost:8080/"
        },
        "id": "3Ar68wUpUvqk",
        "outputId": "019f9c5d-2c3f-4920-fd5d-dec0519519b4"
      },
      "execution_count": 212,
      "outputs": [
        {
          "output_type": "execute_result",
          "data": {
            "text/plain": [
              "array([[ 9, 10],\n",
              "       [ 1,  2],\n",
              "       [ 5,  6]])"
            ]
          },
          "metadata": {},
          "execution_count": 212
        }
      ]
    },
    {
      "cell_type": "markdown",
      "source": [
        "## 💡 연습문제 3"
      ],
      "metadata": {
        "id": "7y4B3S9XY6A5"
      }
    },
    {
      "cell_type": "code",
      "source": [
        "x = np.array([1, 2, 3, 4, 5, 6, 7, 8, 9, 10,\n",
        "             11, 12, 13, 14, 15, 16, 17, 18, 19, 20])"
      ],
      "metadata": {
        "id": "o3Fz2Ji8Y5vw"
      },
      "execution_count": 216,
      "outputs": []
    },
    {
      "cell_type": "code",
      "source": [
        "# (1) 3의 배수 찾기\n",
        "x[x%3==0]"
      ],
      "metadata": {
        "colab": {
          "base_uri": "https://localhost:8080/"
        },
        "id": "pSfabTzmUwHy",
        "outputId": "a058a195-2036-4be5-a771-1719e8db6f4c"
      },
      "execution_count": 217,
      "outputs": [
        {
          "output_type": "execute_result",
          "data": {
            "text/plain": [
              "array([ 3,  6,  9, 12, 15, 18])"
            ]
          },
          "metadata": {},
          "execution_count": 217
        }
      ]
    },
    {
      "cell_type": "code",
      "source": [
        "# (2) 4로 나누면 1이 남는 수 찾기\n",
        "x[x%4==1]"
      ],
      "metadata": {
        "colab": {
          "base_uri": "https://localhost:8080/"
        },
        "id": "iNwraEzfZEIx",
        "outputId": "6e160214-2bb3-4303-b674-f9c4d4acca3f"
      },
      "execution_count": 218,
      "outputs": [
        {
          "output_type": "execute_result",
          "data": {
            "text/plain": [
              "array([ 1,  5,  9, 13, 17])"
            ]
          },
          "metadata": {},
          "execution_count": 218
        }
      ]
    },
    {
      "cell_type": "code",
      "source": [
        "# (3) 3로 나누면 나누어지고 4로 나누면 1이 남는 수 찾기\n",
        "x[(x%3==0)&(x%4==1)]"
      ],
      "metadata": {
        "colab": {
          "base_uri": "https://localhost:8080/"
        },
        "id": "3oXEum9FZIUp",
        "outputId": "773bccc1-6f3f-4b76-d886-40cfb54bca38"
      },
      "execution_count": 219,
      "outputs": [
        {
          "output_type": "execute_result",
          "data": {
            "text/plain": [
              "array([9])"
            ]
          },
          "metadata": {},
          "execution_count": 219
        }
      ]
    },
    {
      "cell_type": "markdown",
      "source": [
        "## 배열 검색"
      ],
      "metadata": {
        "id": "opMRQboTS9M8"
      }
    },
    {
      "cell_type": "code",
      "source": [
        "arr=np.array([1,2,3,4,5,4,4])\n",
        "arr"
      ],
      "metadata": {
        "colab": {
          "base_uri": "https://localhost:8080/"
        },
        "id": "4jLCR2pbTAW1",
        "outputId": "5b2521ab-1daa-402d-ac53-ec8afa03ee6a"
      },
      "execution_count": 220,
      "outputs": [
        {
          "output_type": "execute_result",
          "data": {
            "text/plain": [
              "array([1, 2, 3, 4, 5, 4, 4])"
            ]
          },
          "metadata": {},
          "execution_count": 220
        }
      ]
    },
    {
      "cell_type": "code",
      "source": [
        "# np.where(배열 비교/논리 연산) -> 조건을 만족시킨 값의 인덱스 반환\n",
        "x=np.where(arr==4)\n",
        "x"
      ],
      "metadata": {
        "id": "atnJ9CuCIx-J",
        "outputId": "479168de-e657-478c-b41b-aadada98931a",
        "colab": {
          "base_uri": "https://localhost:8080/"
        }
      },
      "execution_count": 222,
      "outputs": [
        {
          "output_type": "execute_result",
          "data": {
            "text/plain": [
              "(array([3, 5, 6]),)"
            ]
          },
          "metadata": {},
          "execution_count": 222
        }
      ]
    },
    {
      "cell_type": "code",
      "source": [
        "arr=np.array([range(1,9)])\n",
        "x=np.where(arr%2==0)\n",
        "\n",
        "arr[x]"
      ],
      "metadata": {
        "id": "XdjG0Po-JV02",
        "outputId": "403ea43e-ddf0-451d-f7dd-b6f8117f434f",
        "colab": {
          "base_uri": "https://localhost:8080/"
        }
      },
      "execution_count": 225,
      "outputs": [
        {
          "output_type": "execute_result",
          "data": {
            "text/plain": [
              "array([2, 4, 6, 8])"
            ]
          },
          "metadata": {},
          "execution_count": 225
        }
      ]
    },
    {
      "cell_type": "code",
      "source": [],
      "metadata": {
        "colab": {
          "base_uri": "https://localhost:8080/"
        },
        "id": "VvPTrDGnTBo_",
        "outputId": "9b20790c-ee49-428a-c10c-b94abcae8a8c"
      },
      "execution_count": null,
      "outputs": [
        {
          "output_type": "execute_result",
          "data": {
            "text/plain": [
              "(array([1, 3, 5, 7]),)"
            ]
          },
          "metadata": {},
          "execution_count": 358
        }
      ]
    }
  ]
}